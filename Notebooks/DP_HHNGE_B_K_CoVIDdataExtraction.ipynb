{
 "cells": [
  {
   "cell_type": "code",
   "execution_count": 3,
   "metadata": {},
   "outputs": [],
   "source": [
    "import os, sys, importlib, subprocess, copy\n",
    "import rasterio, geohash\n",
    "\n",
    "import geopandas as gpd\n",
    "import pandas as pd\n",
    "import numpy as np\n",
    "\n",
    "from shapely.geometry import Point, box\n",
    "from shapely.wkt import loads\n",
    "from rasterio import features\n",
    "from collections import Counter\n",
    "\n",
    "sys.path.append(\"../\")\n",
    "\n",
    "import infrasap.vulnerability_mapping as vulmap\n",
    "import infrasap.covid_data_extraction as cov\n",
    "import infrasap.rasterMisc as rMisc\n",
    "import infrasap.misc as misc\n",
    "import infrasap.osmMisc as osm\n",
    "import infrasap.UrbanRaster as urban\n"
   ]
  },
  {
   "cell_type": "code",
   "execution_count": 4,
   "metadata": {},
   "outputs": [],
   "source": [
    "# define the input datasets\n",
    "global_bounds = \"/home/public/Data/GLOBAL/ADMIN/Admin0_Polys.shp\"\n",
    "global_adm1 = \"/home/public/Data/GLOBAL/ADMIN/Admin1_Polys.shp\"\n",
    "global_adm2 = \"/home/public/Data/GLOBAL/ADMIN/Admin2_Polys.shp\"\n",
    "pop_folder = \"/home/public/Data/GLOBAL/Population/WorldPop_PPP_2020/GLOBAL_1km_Demographics\"\n",
    "output_folder = \"/home/wb411133/data/Projects/CoVID\"\n",
    "population_raster = \"/home/public/Data/GLOBAL/Population/WorldPop_PPP_2020/ppp_2020_1km_Aggregated.tif\" \n",
    "lcRaster = \"/home/public/Data/GLOBAL/LANDCOVER/GLOBCOVER/2015/ESACCI-LC-L4-LCCS-Map-300m-P1Y-2015-v2.0.7.tif\"\n",
    "dhs_folder = '/home/public/Data/PROJECTS/CoVID/DHS'\n",
    "dhs_files = {}\n",
    "for root, dirs, files in os.walk(dhs_folder):\n",
    "    for f in files:\n",
    "        if f[-4:] == \".shp\":\n",
    "            dhs_files[f.replace(\".shp\", \"\")] = gpd.read_file(os.path.join(os.path.join(root, f)))\n",
    "\n",
    "\n",
    "# Read in the global datasets\n",
    "pop_files = os.listdir(pop_folder)\n",
    "inG  = gpd.read_file(global_bounds)\n",
    "inG1 = gpd.read_file(global_adm1)\n",
    "inG2 = gpd.read_file(global_adm2)\n",
    "inR = rasterio.open(population_raster)\n",
    "inL = rasterio.open(lcRaster)"
   ]
  },
  {
   "cell_type": "code",
   "execution_count": 3,
   "metadata": {},
   "outputs": [],
   "source": [
    "iso3 = \"IDN\""
   ]
  },
  {
   "cell_type": "code",
   "execution_count": 4,
   "metadata": {},
   "outputs": [],
   "source": [
    "# extract national bounds\n",
    "country_folder = os.path.join(output_folder, iso3)\n",
    "adm0_file = os.path.join(country_folder, \"adm0.shp\")\n",
    "adm1_file = os.path.join(country_folder, \"adm1.shp\")\n",
    "adm2_file = os.path.join(country_folder, \"adm2.shp\")\n",
    "lc_file = os.path.join(country_folder, \"LC.tif\")\n",
    "\n",
    "if not os.path.exists(country_folder):\n",
    "    os.makedirs(country_folder)\n",
    "country_bounds = inG.loc[inG['ISO3'] == iso3].to_crs({'init':'epsg:4326'})\n",
    "country_adm1 = inG1.loc[inG1['ISO3'] == iso3].to_crs({'init':'epsg:4326'})\n",
    "country_adm2 = inG2.loc[inG2['ISO3'] == iso3].to_crs({'init':'epsg:4326'})\n",
    "if not os.path.exists(adm0_file):\n",
    "    country_bounds.to_file(adm0_file)\n",
    "if not os.path.exists(adm1_file):\n",
    "    country_adm1.to_file(adm1_file)\n",
    "if not os.path.exists(adm2_file):\n",
    "    country_adm2.to_file(adm2_file)\n",
    "if not os.path.exists(lc_file):\n",
    "    rMisc.clipRaster(inL, gpd.read_file(adm0_file), lc_file)\n",
    "\n",
    "country_bounds = country_bounds.to_crs({'init':'epsg:4326'})"
   ]
  },
  {
   "cell_type": "code",
   "execution_count": null,
   "metadata": {},
   "outputs": [],
   "source": [
    "cov.calculate_vulnerability(iso3, country_folder, country_bounds, pop_folder, pop_files)\n",
    "misc.tPrint(\"***Calculated Vulnerability\")"
   ]
  },
  {
   "cell_type": "code",
   "execution_count": null,
   "metadata": {},
   "outputs": [],
   "source": [
    "cov.create_urban_data(iso3, country_folder, country_bounds, inR, calc_urban=False)\n",
    "misc.tPrint(\"***Calculated Urban Extents\")                           \n",
    "'''\n",
    "except:\n",
    "    misc.tPrint(\"%s errored on HD clusters\" % iso3)\n",
    "    try:\n",
    "        create_urban_data(iso3, country_folder, country_bounds, inR, calc_urban=True, calc_hd_urban=False)\n",
    "    except:\n",
    "        misc.tPrint(\"%s errored on all clusters\" % iso3)        \n",
    "#extract_osm(country_bounds, country_folder)\n",
    "\n",
    "misc.tPrint(\"***Extracted OSM\")\n",
    "'''"
   ]
  },
  {
   "cell_type": "code",
   "execution_count": null,
   "metadata": {},
   "outputs": [],
   "source": [
    "country_shape = country_bounds.unary_union"
   ]
  },
  {
   "cell_type": "code",
   "execution_count": 16,
   "metadata": {},
   "outputs": [],
   "source": [
    "def combine_dhs_pop(popRaster, dhs_raster, out_file, factor=100):\n",
    "    ''' \n",
    "    INPUT\n",
    "        popRaster [rasterio]\n",
    "        dhs_raster [rasterio]\n",
    "        out_file [string]\n",
    "        [optional] factor [int] - number to divide dhs_raster (converts percentage to fraction)\n",
    "    '''\n",
    "    inP = popRaster.read()\n",
    "    dhs = dhs_raster.read()\n",
    "    if factor != 1:\n",
    "        dhs = dhs / factor\n",
    "    dhs_pop = inP * (dhs)\n",
    "    \n",
    "    with rasterio.open(out_file, 'w', **popRaster.meta) as outR:\n",
    "        outR.write(dhs_pop)\n",
    "\n",
    "        \n",
    "template = os.path.join(country_folder, \"WP_2020_1km.tif\")                \n",
    "inP = rasterio.open(template)\n",
    "# Process DHS data\n",
    "\n",
    "# get a list of unique columns in the DHS data\n",
    "total_columns = 0\n",
    "try:\n",
    "    del(all_columns)\n",
    "except:\n",
    "    pass\n",
    "# get a list of all unique columns\n",
    "for key, inD in dhs_files.items():\n",
    "    cur_columns = list(inD.columns.values)\n",
    "    try:\n",
    "        all_columns = all_columns + cur_columns\n",
    "    except:\n",
    "        all_columns = cur_columns\n",
    "\n",
    "col_count = Counter(all_columns)\n",
    "unq_columns = [key for key, value in col_count.items() if value == 1]                           "
   ]
  },
  {
   "cell_type": "code",
   "execution_count": null,
   "metadata": {},
   "outputs": [],
   "source": [
    "cur_rasters = copy.deepcopy(cov.hnp_categories)"
   ]
  },
  {
   "cell_type": "code",
   "execution_count": 15,
   "metadata": {
    "scrolled": true
   },
   "outputs": [
    {
     "ename": "NameError",
     "evalue": "name 'unq_columns' is not defined",
     "output_type": "error",
     "traceback": [
      "\u001b[0;31m---------------------------------------------------------------------------\u001b[0m",
      "\u001b[0;31mNameError\u001b[0m                                 Traceback (most recent call last)",
      "\u001b[0;32m<ipython-input-15-240d5363b1a7>\u001b[0m in \u001b[0;36m<module>\u001b[0;34m\u001b[0m\n\u001b[1;32m      4\u001b[0m     \u001b[0;32mif\u001b[0m \u001b[0msel_dhs\u001b[0m\u001b[0;34m.\u001b[0m\u001b[0mshape\u001b[0m\u001b[0;34m[\u001b[0m\u001b[0;36m0\u001b[0m\u001b[0;34m]\u001b[0m \u001b[0;34m>\u001b[0m \u001b[0;36m0\u001b[0m\u001b[0;34m:\u001b[0m\u001b[0;34m\u001b[0m\u001b[0;34m\u001b[0m\u001b[0m\n\u001b[1;32m      5\u001b[0m         \u001b[0;32mfor\u001b[0m \u001b[0mfield\u001b[0m \u001b[0;32min\u001b[0m \u001b[0minD\u001b[0m\u001b[0;34m.\u001b[0m\u001b[0mcolumns\u001b[0m\u001b[0;34m:\u001b[0m\u001b[0;34m\u001b[0m\u001b[0;34m\u001b[0m\u001b[0m\n\u001b[0;32m----> 6\u001b[0;31m             \u001b[0;32mif\u001b[0m \u001b[0mfield\u001b[0m \u001b[0;32min\u001b[0m \u001b[0munq_columns\u001b[0m\u001b[0;34m:\u001b[0m\u001b[0;34m\u001b[0m\u001b[0;34m\u001b[0m\u001b[0m\n\u001b[0m\u001b[1;32m      7\u001b[0m                 \u001b[0mout_file\u001b[0m \u001b[0;34m=\u001b[0m \u001b[0mos\u001b[0m\u001b[0;34m.\u001b[0m\u001b[0mpath\u001b[0m\u001b[0;34m.\u001b[0m\u001b[0mjoin\u001b[0m\u001b[0;34m(\u001b[0m\u001b[0mcountry_folder\u001b[0m\u001b[0;34m,\u001b[0m \u001b[0;34mf'{key}_{field}.tif'\u001b[0m\u001b[0;34m)\u001b[0m\u001b[0;34m\u001b[0m\u001b[0;34m\u001b[0m\u001b[0m\n\u001b[1;32m      8\u001b[0m                 \u001b[0mout_file_pop\u001b[0m \u001b[0;34m=\u001b[0m \u001b[0mos\u001b[0m\u001b[0;34m.\u001b[0m\u001b[0mpath\u001b[0m\u001b[0;34m.\u001b[0m\u001b[0mjoin\u001b[0m\u001b[0;34m(\u001b[0m\u001b[0mcountry_folder\u001b[0m\u001b[0;34m,\u001b[0m \u001b[0;34mf'{key}_{field}_pop.tif'\u001b[0m\u001b[0;34m)\u001b[0m\u001b[0;34m\u001b[0m\u001b[0;34m\u001b[0m\u001b[0m\n",
      "\u001b[0;31mNameError\u001b[0m: name 'unq_columns' is not defined"
     ]
    }
   ],
   "source": [
    "dhs_rasters = {}\n",
    "for key, inD in dhs_files.items():\n",
    "    sel_dhs = inD.loc[inD['ISO3'] == iso3]\n",
    "    if sel_dhs.shape[0] > 0:\n",
    "        for field in inD.columns:\n",
    "            if field in unq_columns:\n",
    "                out_file = os.path.join(country_folder, f'{key}_{field}.tif')\n",
    "                out_file_pop = os.path.join(country_folder, f'{key}_{field}_pop.tif')\n",
    "                try:\n",
    "                    # rasteize the desired field in the inputDHS data                \n",
    "                    if not os.path.exists(out_file) and not os.path.exists(out_file_pop):\n",
    "                        rMisc.rasterizeDataFrame(inD, out_file, idField=field, templateRaster = template)\n",
    "\n",
    "                    #Multiply the rasterized data frame by the population layer\n",
    "                    if not os.path.exists(out_file_pop):\n",
    "                        combine_dhs_pop(inP, rasterio.open(out_file), out_file_pop, factor=100)\n",
    "                    if os.path.exists(out_file):\n",
    "                        os.remove(out_file)\n",
    "                    misc.tPrint(f'{key}: {field}')\n",
    "                    dhs_rasters[f'{key}_{field}'] = {\n",
    "                        'raster_file': f'{key}_{field}_pop.tif',\n",
    "                        'vars': ['SUM', 'MEAN'],\n",
    "                        'description': f'{key}_{field}'\n",
    "                    }\n",
    "                except:\n",
    "                    misc.tPrint(f\"Error processing {key} - {field}\")"
   ]
  },
  {
   "cell_type": "code",
   "execution_count": null,
   "metadata": {},
   "outputs": [],
   "source": [
    "#Run zonal stats\n",
    "cur_rasters = copy.deepcopy(cov.hnp_categories)\n",
    "for key, values in cur_rasters.items():\n",
    "    values['raster_file'] = os.path.join(country_folder, values['raster_file'])\n",
    "    cur_rasters[key] = values\n",
    "    \n",
    "#Run zonal stats\n",
    "dhs_final = copy.deepcopy(dhs_rasters)\n",
    "for key, values in dhs_rasters.items():\n",
    "    values['raster_file'] = os.path.join(country_folder, values['raster_file'])\n",
    "    dhs_final[key] = values\n",
    "\n",
    "all_shps = []\n",
    "for root, dirs, files, in os.walk(country_folder):\n",
    "    for f in files:\n",
    "        if f[-4:] == \".shp\" and not \"zonal\" in f:\n",
    "            all_shps.append(os.path.join(root, f))\n"
   ]
  },
  {
   "cell_type": "code",
   "execution_count": null,
   "metadata": {},
   "outputs": [],
   "source": [
    "importlib.reload(cov)\n",
    "cov.run_zonal(all_shps, cur_rasters, out_suffix=\"_BASE\")"
   ]
  },
  {
   "cell_type": "code",
   "execution_count": null,
   "metadata": {
    "scrolled": true
   },
   "outputs": [],
   "source": [
    "cov.run_zonal(all_shps, dhs_rasters, out_suffix=\"_DHS\")"
   ]
  },
  {
   "cell_type": "markdown",
   "metadata": {},
   "source": [
    "# DEBUGGING BELOW "
   ]
  },
  {
   "cell_type": "code",
   "execution_count": 38,
   "metadata": {},
   "outputs": [],
   "source": [
    "# Need to drop the 'Unnamed: 0' column from the CSV files and rename DHS datasets\n",
    "output_folder = \"/home/wb411133/data/Projects/CoVID\"\n",
    "stats_files = []\n",
    "for root, dirs, files in os.walk(output_folder):\n",
    "    if \"FINAL_STATS\" in root:\n",
    "        for f in files:\n",
    "            if f[-4:] == \".csv\":\n",
    "                os.remove(os.path.join(root, f))\n",
    "        "
   ]
  },
  {
   "cell_type": "code",
   "execution_count": 40,
   "metadata": {},
   "outputs": [],
   "source": [
    "cntry = os.listdir(output_folder)\n",
    "cntry = ['VNM','AFG']"
   ]
  },
  {
   "cell_type": "code",
   "execution_count": 41,
   "metadata": {},
   "outputs": [],
   "source": [
    "importlib.reload(cov)\n",
    "iso3 = 'VNM'\n",
    "bad_countries = ['BRA','IND','UGA']\n",
    "for iso3 in cntry:\n",
    "    if not iso3 in bad_countries:\n",
    "        cFolder = os.path.join(output_folder, iso3)\n",
    "        res = cov.check_zonal(cFolder, remove_bad=True)\n",
    "        for file, value in res.items():\n",
    "            if value == 11:\n",
    "                print(file)\n"
   ]
  },
  {
   "cell_type": "code",
   "execution_count": 10,
   "metadata": {},
   "outputs": [],
   "source": [
    "for f in bad_urban:\n",
    "    try:\n",
    "        os.remove(f)\n",
    "    except:\n",
    "        pass"
   ]
  },
  {
   "cell_type": "code",
   "execution_count": 22,
   "metadata": {},
   "outputs": [
    {
     "name": "stdout",
     "output_type": "stream",
     "text": [
      "zip -r CoVID_geo_VNM.zip VNM\n",
      "zip -r CoVID_geo_ARG.zip ARG\n",
      "zip -r CoVID_geo_PAK.zip PAK\n",
      "zip -r CoVID_geo_ZAF.zip ZAF\n",
      "zip -r CoVID_geo_COL.zip COL\n",
      "zip -r CoVID_geo_ZWE.zip ZWE\n",
      "zip -r CoVID_geo_MNG.zip MNG\n",
      "zip -r CoVID_geo_SLE.zip SLE\n",
      "zip -r CoVID_geo_CPV.zip CPV\n",
      "zip -r CoVID_geo_KEN.zip KEN\n",
      "zip -r CoVID_geo_GHA.zip GHA\n",
      "zip -r CoVID_geo_AFG.zip AFG\n",
      "zip -r CoVID_geo_YEM.zip YEM\n",
      "zip -r CoVID_geo_ECU.zip ECU\n",
      "zip -r CoVID_geo_PRY.zip PRY\n",
      "zip -r CoVID_geo_MRT.zip MRT\n",
      "zip -r CoVID_geo_MDV.zip MDV\n",
      "zip -r CoVID_geo_KGZ.zip KGZ\n",
      "zip -r CoVID_geo_HTI.zip HTI\n",
      "zip -r CoVID_geo_DJI.zip DJI\n",
      "zip -r CoVID_geo_KHM.zip KHM\n",
      "zip -r CoVID_geo_TJK.zip TJK\n",
      "zip -r CoVID_geo_GMB.zip GMB\n",
      "zip -r CoVID_geo_LKA.zip LKA\n",
      "zip -r CoVID_geo_SEN.zip SEN\n",
      "zip -r CoVID_geo_STP.zip STP\n",
      "zip -r CoVID_geo_SLV.zip SLV\n",
      "zip -r CoVID_geo_VEN.zip VEN\n",
      "zip -r CoVID_geo_MLI.zip MLI\n",
      "zip -r CoVID_geo_RWA.zip RWA\n",
      "zip -r CoVID_geo_BOL.zip BOL\n",
      "zip -r CoVID_geo_TZA.zip TZA\n",
      "zip -r CoVID_geo_MAR.zip MAR\n",
      "zip -r CoVID_geo_IND.zip IND\n",
      "zip -r CoVID_geo_IDN.zip IDN\n",
      "zip -r CoVID_geo_SDN.zip SDN\n",
      "zip -r CoVID_geo_AGO.zip AGO\n",
      "zip -r CoVID_geo_BEN.zip BEN\n",
      "zip -r CoVID_geo_BWA.zip BWA\n",
      "zip -r CoVID_geo_BFA.zip BFA\n",
      "zip -r CoVID_geo_BDI.zip BDI\n",
      "zip -r CoVID_geo_CMR.zip CMR\n",
      "zip -r CoVID_geo_CAF.zip CAF\n",
      "zip -r CoVID_geo_TCD.zip TCD\n",
      "zip -r CoVID_geo_COM.zip COM\n",
      "zip -r CoVID_geo_COG.zip COG\n",
      "zip -r CoVID_geo_CIV.zip CIV\n",
      "zip -r CoVID_geo_COD.zip COD\n",
      "zip -r CoVID_geo_SSD.zip SSD\n",
      "zip -r CoVID_geo_ERI.zip ERI\n",
      "zip -r CoVID_geo_ETH.zip ETH\n",
      "zip -r CoVID_geo_GAB.zip GAB\n",
      "zip -r CoVID_geo_GNB.zip GNB\n",
      "zip -r CoVID_geo_GIN.zip GIN\n",
      "zip -r CoVID_geo_LSO.zip LSO\n",
      "zip -r CoVID_geo_LBR.zip LBR\n",
      "zip -r CoVID_geo_MDG.zip MDG\n",
      "zip -r CoVID_geo_MWI.zip MWI\n",
      "zip -r CoVID_geo_MUS.zip MUS\n",
      "zip -r CoVID_geo_MOZ.zip MOZ\n",
      "zip -r CoVID_geo_NAM.zip NAM\n",
      "zip -r CoVID_geo_NER.zip NER\n",
      "zip -r CoVID_geo_NGA.zip NGA\n",
      "zip -r CoVID_geo_SYC.zip SYC\n",
      "zip -r CoVID_geo_SOM.zip SOM\n",
      "zip -r CoVID_geo_SWZ.zip SWZ\n",
      "zip -r CoVID_geo_TGO.zip TGO\n",
      "zip -r CoVID_geo_UGA.zip UGA\n",
      "zip -r CoVID_geo_ZMB.zip ZMB\n",
      "zip -r CoVID_geo_LCA.zip LCA\n",
      "zip -r CoVID_geo_PHL.zip PHL\n",
      "zip -r CoVID_geo_GTM.zip GTM\n",
      "zip -r CoVID_geo_BGD.zip BGD\n",
      "zip -r CoVID_geo_BRA.zip BRA\n",
      "zip -r CoVID_geo_MEX.zip MEX\n",
      "zip -r CoVID_geo_EGY.zip EGY\n",
      "zip -r CoVID_geo_UKR.zip UKR\n",
      "zip -r CoVID_geo_PER.zip PER\n",
      "zip -r CoVID_geo_LAO.zip LAO\n",
      "zip -r CoVID_geo_PSE.zip PSE\n",
      "zip -r CoVID_geo_NPL.zip NPL\n",
      "zip -r CoVID_geo_PNG.zip PNG\n",
      "zip -r CoVID_geo_DZA.zip DZA\n",
      "zip -r CoVID_geo_BLR.zip BLR\n",
      "zip -r CoVID_geo_BTN.zip BTN\n",
      "zip -r CoVID_geo_BIH.zip BIH\n",
      "zip -r CoVID_geo_NIC.zip NIC\n",
      "zip -r CoVID_geo_FJI.zip FJI\n",
      "zip -r CoVID_geo_GEO.zip GEO\n",
      "zip -r CoVID_geo_HND.zip HND\n",
      "zip -r CoVID_geo_JOR.zip JOR\n",
      "zip -r CoVID_geo_MHL.zip MHL\n",
      "zip -r CoVID_geo_MDA.zip MDA\n",
      "zip -r CoVID_geo_MMR.zip MMR\n",
      "zip -r CoVID_geo_MKD.zip MKD\n",
      "zip -r CoVID_geo_PAN.zip PAN\n",
      "zip -r CoVID_geo_WSM.zip WSM\n",
      "zip -r CoVID_geo_SLB.zip SLB\n",
      "zip -r CoVID_geo_TUN.zip TUN\n",
      "zip -r CoVID_geo_TUR.zip TUR\n",
      "zip -r CoVID_geo_URY.zip URY\n",
      "zip -r CoVID_geo_UZB.zip UZB\n",
      "zip -r CoVID_geo_ALB.zip ALB\n",
      "zip -r CoVID_geo_HRV.zip HRV\n",
      "zip -r CoVID_geo_IRN.zip IRN\n",
      "zip -r CoVID_geo_SRB.zip SRB\n",
      "zip -r CoVID_geo_TTO.zip TTO\n",
      "zip -r CoVID_geo_ATG.zip ATG\n",
      "zip -r CoVID_geo_CHN.zip CHN\n",
      "zip -r CoVID_geo_IRQ.zip IRQ\n",
      "zip -r CoVID_geo_CoVID_geo_VNM.zip.zip CoVID_geo_VNM.zip\n"
     ]
    }
   ],
   "source": [
    "for iso3 in os.listdir(output_folder):\n",
    "    print(f'zip -r CoVID_geo_{iso3}.zip {iso3}')"
   ]
  },
  {
   "cell_type": "code",
   "execution_count": null,
   "metadata": {},
   "outputs": [],
   "source": []
  }
 ],
 "metadata": {
  "kernelspec": {
   "display_name": "Python (geog)",
   "language": "python",
   "name": "geog"
  },
  "language_info": {
   "codemirror_mode": {
    "name": "ipython",
    "version": 3
   },
   "file_extension": ".py",
   "mimetype": "text/x-python",
   "name": "python",
   "nbconvert_exporter": "python",
   "pygments_lexer": "ipython3",
   "version": "3.7.1"
  }
 },
 "nbformat": 4,
 "nbformat_minor": 2
}
