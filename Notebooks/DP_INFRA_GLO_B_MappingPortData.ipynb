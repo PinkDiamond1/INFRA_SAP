{
 "cells": [
  {
   "cell_type": "code",
   "execution_count": 9,
   "metadata": {},
   "outputs": [],
   "source": [
    "import sys, os, importlib\n",
    "\n",
    "import pandas as pd\n",
    "import geopandas as gpd\n",
    "import numpy as np\n",
    "\n",
    "from shapely.geometry import Point\n",
    "\n",
    "\n",
    "sys.path.append('../')\n",
    "sys.path.append('../../gostrocks/src/')\n",
    "\n",
    "from infrasap import process_flows\n",
    "froGOSTRocks.misc import tPrint\n",
    "from infrasap import geocode"
   ]
  },
  {
   "cell_type": "code",
   "execution_count": 11,
   "metadata": {},
   "outputs": [
    {
     "data": {
      "text/html": [
       "<div>\n",
       "<style scoped>\n",
       "    .dataframe tbody tr th:only-of-type {\n",
       "        vertical-align: middle;\n",
       "    }\n",
       "\n",
       "    .dataframe tbody tr th {\n",
       "        vertical-align: top;\n",
       "    }\n",
       "\n",
       "    .dataframe thead th {\n",
       "        text-align: right;\n",
       "    }\n",
       "</style>\n",
       "<table border=\"1\" class=\"dataframe\">\n",
       "  <thead>\n",
       "    <tr style=\"text-align: right;\">\n",
       "      <th></th>\n",
       "      <th>Port</th>\n",
       "      <th>Country</th>\n",
       "      <th>Region</th>\n",
       "    </tr>\n",
       "  </thead>\n",
       "  <tbody>\n",
       "    <tr>\n",
       "      <th>0</th>\n",
       "      <td>Ambon</td>\n",
       "      <td>Indonesia</td>\n",
       "      <td>East Asia &amp; Pacific</td>\n",
       "    </tr>\n",
       "    <tr>\n",
       "      <th>1</th>\n",
       "      <td>Apia</td>\n",
       "      <td>Samoa</td>\n",
       "      <td>East Asia &amp; Pacific</td>\n",
       "    </tr>\n",
       "    <tr>\n",
       "      <th>2</th>\n",
       "      <td>Bangkok</td>\n",
       "      <td>Thailand</td>\n",
       "      <td>East Asia &amp; Pacific</td>\n",
       "    </tr>\n",
       "    <tr>\n",
       "      <th>3</th>\n",
       "      <td>Bar</td>\n",
       "      <td>Montenegro</td>\n",
       "      <td>Europe &amp; Central Asia</td>\n",
       "    </tr>\n",
       "    <tr>\n",
       "      <th>4</th>\n",
       "      <td>Bitung</td>\n",
       "      <td>Indonesia</td>\n",
       "      <td>East Asia &amp; Pacific</td>\n",
       "    </tr>\n",
       "  </tbody>\n",
       "</table>\n",
       "</div>"
      ],
      "text/plain": [
       "      Port     Country                 Region\n",
       "0    Ambon   Indonesia    East Asia & Pacific\n",
       "1     Apia       Samoa    East Asia & Pacific\n",
       "2  Bangkok    Thailand    East Asia & Pacific\n",
       "3     Bar   Montenegro  Europe & Central Asia\n",
       "4   Bitung   Indonesia    East Asia & Pacific"
      ]
     },
     "execution_count": 11,
     "metadata": {},
     "output_type": "execute_result"
    }
   ],
   "source": [
    "# Geocode new ports \n",
    "new_ports_file = \"/home/wb411133/data/Projects/INFRA/PORTS/new_major_ports.csv\"\n",
    "inP = pd.read_csv(new_ports_file)\n",
    "inP.head()"
   ]
  },
  {
   "cell_type": "code",
   "execution_count": 12,
   "metadata": {},
   "outputs": [
    {
     "name": "stdout",
     "output_type": "stream",
     "text": [
      "Gulhifalhu, Maldives was not found\n",
      "Hazira (Adani), India was not found\n",
      "Krishnapatnam (Adani), India was not found\n",
      "Mundra (DP World), India was not found\n",
      "Pipavav (APMT/Maersk), India was not found\n",
      "Port Via, Vanuatu was not found\n",
      "Tibar Bay, Timor Leste was not found\n"
     ]
    }
   ],
   "source": [
    "locations = inP.apply(lambda x: geocode.getLocation(\"%s, %s\" % (x['Port'], x['Country'])), axis=1)"
   ]
  },
  {
   "cell_type": "code",
   "execution_count": 20,
   "metadata": {},
   "outputs": [],
   "source": [
    "inP['Lat'] = [x['location']['lat'] for x in locations]\n",
    "inP['Lon'] = [x['location']['lng'] for x in locations]\n",
    "inP.to_csv(new_ports_file.replace(\".csv\", \"_geocoded.csv\"))"
   ]
  },
  {
   "cell_type": "code",
   "execution_count": null,
   "metadata": {},
   "outputs": [],
   "source": [
    "in"
   ]
  },
  {
   "cell_type": "code",
   "execution_count": null,
   "metadata": {},
   "outputs": [],
   "source": []
  },
  {
   "cell_type": "code",
   "execution_count": null,
   "metadata": {},
   "outputs": [],
   "source": []
  },
  {
   "cell_type": "code",
   "execution_count": null,
   "metadata": {},
   "outputs": [],
   "source": [
    "output_folder = 'P:/data/Global/INFRA/PORTS'\n",
    "if not os.path.exists(output_folder):\n",
    "    os.makedirs(output_folder)\n",
    "raw_folder = os.path.join(output_folder, \"RAW_LOCODES\")\n",
    "if not os.path.exists(raw_folder):\n",
    "    os.makedirs(raw_folder)"
   ]
  },
  {
   "cell_type": "code",
   "execution_count": null,
   "metadata": {},
   "outputs": [],
   "source": [
    "port_data = \"J:/Data/GLOBAL/INFRA/PORTS/Port_flow_data_Q22020.csv\"\n",
    "inD = pd.read_csv(port_data)"
   ]
  },
  {
   "cell_type": "code",
   "execution_count": null,
   "metadata": {},
   "outputs": [],
   "source": [
    "# Get a list of country codes to extract\n",
    "inD['ISO2'] = inD['Port1'].apply(lambda x: x[:2])\n",
    "countries = inD['ISO2'].unique()\n",
    "countries"
   ]
  },
  {
   "cell_type": "code",
   "execution_count": null,
   "metadata": {},
   "outputs": [],
   "source": [
    "def convert_coords(x):\n",
    "    coords_split = x.split(\" \")\n",
    "    lat = coords_split[0]\n",
    "    lon = coords_split[1]\n",
    "    def get_number(y):        \n",
    "        num = float(y[:-3]) + ((float(y[-3:-1])/60))\n",
    "        if (y[-1] == 'W') or (y[-1] == \"S\"):\n",
    "            num = num * -1\n",
    "        return(num)\n",
    "    return(Point([get_number(lon), get_number(lat)]))"
   ]
  },
  {
   "cell_type": "code",
   "execution_count": null,
   "metadata": {},
   "outputs": [],
   "source": [
    "ports = inD['Port1'].unique()"
   ]
  },
  {
   "cell_type": "code",
   "execution_count": null,
   "metadata": {},
   "outputs": [],
   "source": [
    "def process_ports(country, country_data):\n",
    "    if not os.path.exists(country_data):\n",
    "        # Read data form UN website, save for future processing\n",
    "        tempD = pd.read_html('https://service.unece.org/trade/locode/%s.htm' % country.lower())\n",
    "        curD = tempD[2]\n",
    "        curD.columns = curD.iloc[0]\n",
    "        curD = curD.drop(0)\n",
    "        curD.to_csv(country_data)\n",
    "    else:\n",
    "        curD = pd.read_csv(country_data, index_col=0)\n",
    "    curD['LOCODE'] = curD['LOCODE'].apply(lambda x: x.replace(\" \",\"\"))\n",
    "    \n",
    "    #Drop records with no coordinates\n",
    "    no_coords_idx = curD['Coordinates'].apply(lambda x: x is np.nan)\n",
    "    badD = curD.loc[no_coords_idx]\n",
    "    goodD = curD.loc[~no_coords_idx]\n",
    "    #if the badD are in the list of port flows, save those\n",
    "    important_ports = badD.loc[badD['LOCODE'].isin(ports)]\n",
    "\n",
    "    curD_geom = goodD['Coordinates'].apply(convert_coords)\n",
    "    curgpd = gpd.GeoDataFrame(goodD, geometry=curD_geom, crs={'init':'epsg:4326'})\n",
    "    return({'ALL':curD, 'GOOD':curgpd,'BAD':important_ports})\n",
    "\n",
    "country = \"CA\"\n",
    "res = process_ports(country, os.path.join(raw_folder, \"%s.csv\" % country))\n",
    "print(res['ALL'].shape)\n",
    "print(res['GOOD'].shape)\n",
    "print(res['BAD'].shape)"
   ]
  },
  {
   "cell_type": "code",
   "execution_count": null,
   "metadata": {},
   "outputs": [],
   "source": [
    "try:\n",
    "    del(final)\n",
    "    del(missing_ports)\n",
    "except:\n",
    "    pass\n",
    "for country in countries:\n",
    "    print(country)\n",
    "    try:\n",
    "        res = process_ports(country, os.path.join(raw_folder, \"%s.csv\" % country))\n",
    "    except:\n",
    "        print(\"ERROR\")\n",
    "    try:\n",
    "        missing_ports = missing_ports.append(res['BAD'])\n",
    "    except:\n",
    "        missing_ports = res['BAD']\n",
    "    try:\n",
    "        final = final.append(res['GOOD'])\n",
    "    except:\n",
    "        final = res['GOOD']\n"
   ]
  },
  {
   "cell_type": "code",
   "execution_count": null,
   "metadata": {},
   "outputs": [],
   "source": [
    "#Add country name to missing ports\n",
    "import pycountry\n",
    "importlib.reload(geocode)\n",
    "#pycountry.countries.get(alpha_2='CA')\n",
    "\n",
    "missing_ports['Country'] = missing_ports['LOCODE'].apply(lambda x: pycountry.countries.get(alpha_2=x[:2]).name)\n",
    "locations = missing_ports.apply(lambda x: geocode.getLocation(\"%s, %s\" % (x['NameWoDiacritics'], x['Country'])), axis=1)"
   ]
  },
  {
   "cell_type": "code",
   "execution_count": null,
   "metadata": {},
   "outputs": [],
   "source": [
    "def get_point(x):\n",
    "    if float(x['location']['lng']) < -180:\n",
    "        return(np.nan)\n",
    "    try:\n",
    "        return(Point(float(x['location']['lng']), float(x['location']['lat'])))\n",
    "    except:\n",
    "        return(np.nan)\n",
    "\n",
    "geoms = locations.apply(get_point)\n",
    "missing_ports['geometry'] = geoms\n",
    "\n",
    "still_missing_ports = missing_ports.loc[missing_ports['geometry'].apply(lambda x: type(x) != Point)]\n",
    "missing_ports = missing_ports.loc[missing_ports['geometry'].apply(lambda x: type(x) == Point)]"
   ]
  },
  {
   "cell_type": "code",
   "execution_count": null,
   "metadata": {},
   "outputs": [],
   "source": [
    "still_missing_ports.to_csv(os.path.join(output_folder, \"still_missing_ports.csv\"))"
   ]
  },
  {
   "cell_type": "code",
   "execution_count": null,
   "metadata": {},
   "outputs": [],
   "source": [
    "missing_ports.head()"
   ]
  },
  {
   "cell_type": "code",
   "execution_count": null,
   "metadata": {},
   "outputs": [],
   "source": [
    "final.head()"
   ]
  },
  {
   "cell_type": "code",
   "execution_count": null,
   "metadata": {},
   "outputs": [],
   "source": [
    "final['Country'] = final['LOCODE'].apply(lambda x: pycountry.countries.get(alpha_2=x[:2]).name)"
   ]
  },
  {
   "cell_type": "code",
   "execution_count": null,
   "metadata": {},
   "outputs": [],
   "source": [
    "print(final.shape)"
   ]
  },
  {
   "cell_type": "code",
   "execution_count": null,
   "metadata": {},
   "outputs": [],
   "source": [
    "final = final.append(missing_ports).reset_index()"
   ]
  },
  {
   "cell_type": "code",
   "execution_count": null,
   "metadata": {},
   "outputs": [],
   "source": [
    "# Save all data to file\n",
    "final.to_file(os.path.join(output_folder, \"all_ports.shp\"))"
   ]
  },
  {
   "cell_type": "code",
   "execution_count": null,
   "metadata": {},
   "outputs": [],
   "source": [
    "final.shape"
   ]
  },
  {
   "cell_type": "code",
   "execution_count": null,
   "metadata": {},
   "outputs": [],
   "source": [
    "ports = inD['Port1'].unique()\n",
    "inP = final.loc[final['LOCODE'].isin(ports)]\n",
    "inP.shape"
   ]
  },
  {
   "cell_type": "code",
   "execution_count": null,
   "metadata": {},
   "outputs": [],
   "source": [
    "len(ports)"
   ]
  },
  {
   "cell_type": "code",
   "execution_count": null,
   "metadata": {},
   "outputs": [],
   "source": [
    "# Join traffic attributes to ports dataset\n",
    "inP.to_file(os.path.join(output_folder, \"selected_ports.shp\"))"
   ]
  },
  {
   "cell_type": "code",
   "execution_count": null,
   "metadata": {},
   "outputs": [],
   "source": [
    "agg = {\"Quarterly deployed capacity (TEU)\":\"sum\"}\n",
    "\n",
    "inD_agg = inD.groupby(['Port1'])\n",
    "\n",
    "outflows = inD_agg.agg(agg).reset_index()\n",
    "outflows.columns = ['Port1', 'outflows']\n",
    "\n",
    "inflows = inD_agg.agg(agg).reset_index()\n",
    "inflows.columns = ['Port2', 'inflows']\n",
    "\n",
    "combo = pd.merge(inP, outflows, left_on='LOCODE', right_on='Port1')\n",
    "combo = pd.merge(combo, inflows, left_on='LOCODE', right_on='Port2')\n",
    "\n",
    "combo = combo.drop(['SubDiv','Coordinates','Date','index','Ch','IATA','Remarks','Port1','Port2'], axis=1)\n",
    "\n",
    "combo.to_file(os.path.join(output_folder, \"attributed_ports.shp\"))"
   ]
  },
  {
   "cell_type": "code",
   "execution_count": null,
   "metadata": {},
   "outputs": [],
   "source": [
    "output_folder"
   ]
  },
  {
   "cell_type": "code",
   "execution_count": null,
   "metadata": {},
   "outputs": [],
   "source": [
    "inD.head()"
   ]
  },
  {
   "cell_type": "code",
   "execution_count": null,
   "metadata": {},
   "outputs": [],
   "source": [
    "len(ports)"
   ]
  },
  {
   "cell_type": "code",
   "execution_count": null,
   "metadata": {},
   "outputs": [],
   "source": [
    "combo.shape"
   ]
  },
  {
   "cell_type": "code",
   "execution_count": null,
   "metadata": {},
   "outputs": [],
   "source": []
  }
 ],
 "metadata": {
  "kernelspec": {
   "display_name": "Python (geog)",
   "language": "python",
   "name": "geog"
  },
  "language_info": {
   "codemirror_mode": {
    "name": "ipython",
    "version": 3
   },
   "file_extension": ".py",
   "mimetype": "text/x-python",
   "name": "python",
   "nbconvert_exporter": "python",
   "pygments_lexer": "ipython3",
   "version": "3.7.1"
  }
 },
 "nbformat": 4,
 "nbformat_minor": 2
}
