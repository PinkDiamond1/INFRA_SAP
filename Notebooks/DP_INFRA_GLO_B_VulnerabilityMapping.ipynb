{
 "cells": [
  {
   "cell_type": "code",
   "execution_count": 10,
   "metadata": {},
   "outputs": [],
   "source": [
    "import os, sys, importlib\n",
    "import rasterio\n",
    "\n",
    "import geopandas as gpd\n",
    "import pandas as pd\n",
    "import numpy as np\n",
    "\n",
    "from shapely.geometry import Point\n",
    "from shapely.wkt import loads\n",
    "from rasterio import features\n",
    "\n",
    "sys.path.append(\"../\")\n",
    "import infrasap.vulnerability_mapping as vulmap\n",
    "\n",
    "sys.path.append(\"/home/wb411133/Code/GOST\")\n",
    "import GOSTRocks.rasterMisc as rMisc\n"
   ]
  },
  {
   "cell_type": "code",
   "execution_count": 33,
   "metadata": {},
   "outputs": [],
   "source": [
    "iso3 = \"KEN\"\n",
    "\n",
    "global_bounds = \"/home/public/Data/GLOBAL/ADMIN/Admin0_Polys.shp\"\n",
    "pop_folder = \"/home/public/Data/GLOBAL/Population/WorldPop_PPP_2020/GLOBAL_1km_Demographics\"\n",
    "pop_files = os.listdir(pop_folder)\n",
    "temp_folder = \"/home/wb411133/temp\"\n",
    "out_vulnerability = os.path.join(temp_folder, \"%s_vulnerability_map.tif\" % iso3)\n",
    "out_pop = os.path.join(temp_folder, \"%s_pop_map.tif\" % iso3)\n"
   ]
  },
  {
   "cell_type": "code",
   "execution_count": 8,
   "metadata": {},
   "outputs": [],
   "source": [
    "# extract national bounds\n",
    "inG = gpd.read_file(global_bounds)\n",
    "country_bounds = inG.loc[inG['ISO3'] == iso3]\n",
    "country_bounds = country_bounds.to_crs({'init':'epsg:4326'})"
   ]
  },
  {
   "cell_type": "code",
   "execution_count": 15,
   "metadata": {},
   "outputs": [],
   "source": [
    "# clip out the temporary vulnerability metrics\n",
    "country_folder = os.path.join(temp_folder, iso3)\n",
    "if not os.path.exists(country_folder):\n",
    "    os.makedirs(country_folder)\n",
    "for pFile in pop_files:\n",
    "    curR = rasterio.open((os.path.join(pop_folder, pFile)))\n",
    "    rMisc.clipRaster(curR, country_bounds, os.path.join(country_folder, pFile))"
   ]
  },
  {
   "cell_type": "code",
   "execution_count": 43,
   "metadata": {},
   "outputs": [],
   "source": [
    "importlib.reload(vulmap)\n",
    "# TODO: Run this with various parameters\n",
    "vul_def = {'0-5'  :0.001,\n",
    "           '5-10' :0.001,\n",
    "           '10-15':0.001,\n",
    "           '15-20':0.002,\n",
    "           '20-25':0.005,\n",
    "           '25-30':0.010,\n",
    "           '30-35':0.016,\n",
    "           '35-40':0.023,\n",
    "           '40-45':0.029,\n",
    "           '45-50':0.039,\n",
    "           '50-55':0.058,\n",
    "           '55-60':0.072,\n",
    "           '60-65':0.102,\n",
    "           '65-70':0.117,\n",
    "           '70-75':0.146,\n",
    "           '75-80':0.177,\n",
    "           '80-100':0.180}\n",
    "wp_folder = country_folder\n",
    "wp_files  = [vulmap.wp_demographics(os.path.join(wp_folder, x)) for x in os.listdir(wp_folder)]\n",
    "vul = vulmap.wp_vulnerability(wp_files, vul_def)"
   ]
  },
  {
   "cell_type": "code",
   "execution_count": 44,
   "metadata": {},
   "outputs": [],
   "source": [
    "vul.calculate_vulnerability()\n",
    "vul.calculate_total_pop()"
   ]
  },
  {
   "cell_type": "code",
   "execution_count": 46,
   "metadata": {},
   "outputs": [],
   "source": [
    "vul.combine_results(out_vulnerability, out_pop)\n"
   ]
  },
  {
   "cell_type": "code",
   "execution_count": null,
   "metadata": {},
   "outputs": [],
   "source": []
  }
 ],
 "metadata": {
  "kernelspec": {
   "display_name": "Python (geog)",
   "language": "python",
   "name": "geog"
  },
  "language_info": {
   "codemirror_mode": {
    "name": "ipython",
    "version": 3
   },
   "file_extension": ".py",
   "mimetype": "text/x-python",
   "name": "python",
   "nbconvert_exporter": "python",
   "pygments_lexer": "ipython3",
   "version": "3.7.1"
  }
 },
 "nbformat": 4,
 "nbformat_minor": 2
}
