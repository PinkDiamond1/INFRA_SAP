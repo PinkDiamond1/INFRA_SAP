{
 "cells": [
  {
   "cell_type": "code",
   "execution_count": 107,
   "metadata": {},
   "outputs": [],
   "source": [
    "import os, sys, importlib\n",
    "import rasterio\n",
    "\n",
    "import geopandas as gpd\n",
    "import pandas as pd\n",
    "import numpy as np\n",
    "\n",
    "from shapely.geometry import Point\n",
    "from shapely.wkt import loads\n",
    "from rasterio import features\n",
    "\n",
    "sys.path.append(\"../\")\n",
    "import infrasap.vulnerability_mapping as vulmap\n",
    "\n",
    "sys.path.append(\"/home/wb411133/Code/GOST\")\n",
    "import GOSTRocks.rasterMisc as rMisc\n",
    "import GOSTRocks.misc as misc\n"
   ]
  },
  {
   "cell_type": "code",
   "execution_count": 88,
   "metadata": {},
   "outputs": [],
   "source": []
  },
  {
   "cell_type": "code",
   "execution_count": 89,
   "metadata": {},
   "outputs": [],
   "source": [
    "importlib.reload(vulmap)\n",
    "\n",
    "\n"
   ]
  },
  {
   "cell_type": "code",
   "execution_count": 104,
   "metadata": {},
   "outputs": [],
   "source": []
  },
  {
   "cell_type": "code",
   "execution_count": 110,
   "metadata": {},
   "outputs": [
    {
     "name": "stdout",
     "output_type": "stream",
     "text": [
      "12:09:24\tProcessing 0 of 70: VNM\n",
      "12:09:44\tProcessing 1 of 70: ARG\n",
      "12:09:58\tProcessing 2 of 70: PAK\n",
      "12:10:06\tProcessing 3 of 70: ZAF\n",
      "12:10:11\tProcessing 4 of 70: COL\n",
      "12:10:30\tProcessing 5 of 70: ZWE\n",
      "12:10:32\tProcessing 6 of 70: MNG\n",
      "12:10:40\tProcessing 7 of 70: SLE\n",
      "12:10:43\tProcessing 8 of 70: CPV\n",
      "12:10:45\tProcessing 9 of 70: KEN\n",
      "12:10:50\tProcessing 10 of 70: GHA\n",
      "12:10:53\tProcessing 11 of 70: AFG\n",
      "12:10:56\tProcessing 12 of 70: YEM\n",
      "12:11:02\tProcessing 13 of 70: ECU\n",
      "12:11:08\tProcessing 14 of 70: PRY\n",
      "12:11:10\tProcessing 15 of 70: MRT\n",
      "12:11:17\tProcessing 16 of 70: MDV\n",
      "12:11:20\tProcessing 17 of 70: KGZ\n",
      "12:11:23\tProcessing 18 of 70: HTI\n",
      "12:11:26\tProcessing 19 of 70: DJI\n",
      "12:11:27\tProcessing 20 of 70: KHM\n",
      "12:11:32\tProcessing 21 of 70: TJK\n",
      "12:11:34\tProcessing 22 of 70: GMB\n",
      "12:11:34\tProcessing 23 of 70: LKA\n",
      "12:11:52\tProcessing 24 of 70: SEN\n",
      "12:11:54\tProcessing 25 of 70: STP\n",
      "12:11:55\tProcessing 26 of 70: SLV\n",
      "12:11:56\tProcessing 27 of 70: VEN\n",
      "12:12:09\tProcessing 28 of 70: MLI\n",
      "12:12:14\tProcessing 29 of 70: RWA\n",
      "12:12:15\tProcessing 30 of 70: BOL\n",
      "12:12:24\tProcessing 31 of 70: TZA\n",
      "12:12:32\tProcessing 32 of 70: MAR\n",
      "12:12:37\tProcessing 33 of 70: IND\n",
      "12:13:30\tProcessing 34 of 70: IDN\n",
      "12:17:54\tProcessing 35 of 70: SDN\n",
      "12:18:02\tProcessing 36 of 70: AGO\n",
      "12:18:11\tProcessing 37 of 70: BEN\n",
      "12:18:12\tProcessing 38 of 70: BWA\n",
      "12:18:14\tProcessing 39 of 70: BFA\n",
      "12:18:16\tProcessing 40 of 70: BDI\n",
      "12:18:16\tProcessing 41 of 70: CMR\n",
      "12:18:20\tProcessing 42 of 70: CAF\n",
      "12:18:24\tProcessing 43 of 70: TCD\n",
      "12:18:28\tProcessing 44 of 70: COM\n",
      "12:18:28\tProcessing 45 of 70: COG\n",
      "12:18:31\tProcessing 46 of 70: CIV\n",
      "12:18:34\tProcessing 47 of 70: COD\n",
      "12:18:45\tProcessing 48 of 70: SSD\n",
      "12:18:47\tProcessing 49 of 70: ERI\n",
      "12:18:52\tProcessing 50 of 70: ETH\n",
      "12:18:56\tProcessing 51 of 70: GAB\n",
      "12:18:58\tProcessing 52 of 70: GNB\n",
      "12:19:01\tProcessing 53 of 70: GIN\n",
      "12:19:05\tProcessing 54 of 70: LSO\n",
      "12:19:06\tProcessing 55 of 70: LBR\n",
      "12:19:07\tProcessing 56 of 70: MDG\n",
      "12:19:15\tProcessing 57 of 70: MWI\n",
      "12:19:17\tProcessing 58 of 70: MUS\n",
      "12:19:20\tProcessing 59 of 70: MOZ\n",
      "12:19:51\tProcessing 60 of 70: NAM\n",
      "12:19:58\tProcessing 61 of 70: NER\n",
      "12:20:01\tProcessing 62 of 70: NGA\n",
      "12:20:05\tProcessing 63 of 70: SYC\n",
      "12:20:06\tProcessing 64 of 70: SOM\n",
      "12:20:10\tProcessing 65 of 70: SWZ\n",
      "12:20:10\tProcessing 66 of 70: TGO\n",
      "12:20:11\tProcessing 67 of 70: UGA\n",
      "12:20:12\tProcessing 68 of 70: ZMB\n",
      "12:20:15\tProcessing 69 of 70: LCA\n"
     ]
    }
   ],
   "source": []
  },
  {
   "cell_type": "code",
   "execution_count": null,
   "metadata": {},
   "outputs": [],
   "source": []
  }
 ],
 "metadata": {
  "kernelspec": {
   "display_name": "Python (geog)",
   "language": "python",
   "name": "geog"
  },
  "language_info": {
   "codemirror_mode": {
    "name": "ipython",
    "version": 3
   },
   "file_extension": ".py",
   "mimetype": "text/x-python",
   "name": "python",
   "nbconvert_exporter": "python",
   "pygments_lexer": "ipython3",
   "version": "3.7.1"
  }
 },
 "nbformat": 4,
 "nbformat_minor": 2
}
