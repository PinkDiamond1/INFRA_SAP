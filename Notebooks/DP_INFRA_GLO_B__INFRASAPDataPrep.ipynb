{
 "cells": [
  {
   "cell_type": "markdown",
   "metadata": {},
   "source": [
    "# Launch INFRA SAP\n",
    "The World Bank's Geospatial Operational Support team, in collaboration with the Infrastructure Chief Economist's office have developed a diagnostic toolkit for assessing the state of infrastucture in a country through an assessment of infrastructure, access, connectivity, and commodity flows.\n",
    "\n",
    "The purpose of this notebook is to launch the data preparation step of the INFRA SAP toolkit. It is principally designed to integrate with the GOST team's high compute cluster, but has been made as flexible as possible to facilitate replication. The steps in data processing require the following input:\n",
    "1. Administrative boundaries of interest (defines total extent of analysis and level of aggregation)\n",
    "2. Country ISO3 code\n",
    "\n",
    "Based on these basic datasets we will extract the following datasets **these steps are particular to the World Bank's data schema, but can be directly supplied to later functions if necessary**\n",
    "\n",
    "1. Open Street Map\n",
    "2. WorldPop 2020 gridded population data\n",
    "3. International airports (from OSM)\n",
    "4. Major ports (from OSM)\n",
    "5. Official Border Crossings (from ???)\n",
    "\n",
    "With these data either extracted or processed we run the following analyses\n",
    "\n",
    "1. Calculate urban and rural following the GURBA process - LINK\n",
    "2. Attempt to identify/name urban areas\n",
    "3. (optional) Re-sample population to 1km\n",
    "\n",
    "Following these data preparation steps a sanity check should be performed on the extracted data to ensure major POIs are not missed and that all data have been properly extracted"
   ]
  },
  {
   "cell_type": "code",
   "execution_count": 1,
   "metadata": {},
   "outputs": [],
   "source": [
    "import sys, os, importlib\n",
    "import rasterio\n",
    "\n",
    "import geopandas as gpd\n",
    "import pandas as pd\n",
    "\n",
    "from shapely.geometry import Point\n",
    "\n",
    "sys.path.append(\"../\")\n",
    "\n",
    "import infrasap.wp_helper as wp\n",
    "import infrasap.osm_extractor as osm\n",
    "#import infrasap.rai_calculator as rai\n",
    "import infrasap.gsm_rasterizer as gsm_r\n",
    "import infrasap.infra_helper as helper\n",
    "import infrasap.GOSTRocks.rasterMisc as rMisc"
   ]
  },
  {
   "cell_type": "code",
   "execution_count": 27,
   "metadata": {},
   "outputs": [],
   "source": [
    "# Define baseline data\n",
    "iso3 = \"URY\"\n",
    "global_boundaries =  \"/home/public/Data/GLOBAL/ADMIN/Admin0_Polys.shp\"\n",
    "global_admin2 = r\"/home/public/Data/GLOBAL/ADMIN/Admin2_Polys.shp\"\n",
    "global_osm = \"/home/public/Data/GLOBAL/OSM/GLOBAL/planet-latest.osm.pbf\"\n",
    "wp_dataset = \"/home/public/Data/GLOBAL/Population/WorldPop_PPP_2020/MOSAIC_ppp_prj_2020/ppp_prj_2020_%s.tif\" % iso3\n",
    "if not os.path.exists(wp_dataset):\n",
    "    print(\"Check to make sure population dataset exists\")\n",
    "border_crossings = \"/home/public/Data/GLOBAL/INFRA/BORDERS/border_crossings_phv.shp\"#J:\\Data\\GLOBAL\\INFRA\n",
    "global_power_plants = \"/home/public/Data/GLOBAL/ENERGY/global_power_plant_database.csv\"\n",
    "grid_lines = \"/home/public/Data/GLOBAL/ENERGY/grid.gpkg\"\n",
    "global_solar = \"/home/public/Data/GLOBAL/ENERGY/Renewables/Solar/World_PVOUT_GISdata_LTAy_DailySum_GlobalSolarAtlas_GEOTIFF/PVOUT.tif\"\n",
    "global_wind = \"/home/public/Data/GLOBAL/ENERGY/Renewables/Wind/Power Density/global_power_dens.tif\""
   ]
  },
  {
   "cell_type": "code",
   "execution_count": 29,
   "metadata": {},
   "outputs": [],
   "source": [
    "importlib.reload(helper)\n",
    "\n",
    "epsg = 32722\n",
    "base_out = \"/home/public/Data/PROJECTS/INFRA_SAP\" #r\"J:\\Data\\PROJECTS\\INFRA_SAP\"\n",
    "out_folder = os.path.join(base_out, iso3)\n",
    "if not os.path.exists(out_folder):\n",
    "    os.makedirs(out_folder)\n",
    "#define output data\n",
    "focal_admin2 = os.path.join(out_folder, \"admin.shp\")\n",
    "focal_osm = os.path.join(out_folder, \"national_complete.osm.pbf\")\n",
    "wp_1km = os.path.join(out_folder, \"WP_2020_1km.tif\")\n",
    "urban_extents = os.path.join(out_folder, \"urban_extents.shp\")\n",
    "airports = os.path.join(out_folder, \"airports.shp\")\n",
    "ports = os.path.join(out_folder, \"ports.shp\")\n",
    "borders = os.path.join(out_folder, \"borders.shp\")\n",
    "power_plants = os.path.join(out_folder, \"power_plants.shp\")\n",
    "transmission = os.path.join(out_folder, \"transmission_lines.shp\")\n",
    "solar_power = os.path.join(out_folder, \"SOLAR_PVOUT.tif\")\n",
    "wind_power = os.path.join(out_folder, \"WIND_PowerDens.tif\")\n",
    "\n",
    "global_data = gpd.read_file(global_boundaries)    \n",
    "# select out admin2 from global boundaries dataset\n",
    "if not os.path.exists(focal_admin2):\n",
    "    in_bounds = gpd.read_file(global_admin2)\n",
    "    out_bounds = in_bounds.loc[in_bounds['ISO3'] == iso3]\n",
    "    out_bounds = out_bounds.to_crs({'init':'epsg:4326'})\n",
    "    out_bounds.to_file(focal_admin2)\n",
    "else:\n",
    "    out_bounds = gpd.read_file(focal_admin2)\n",
    "    \n",
    "# extract national OSM from global OSM PBF\n",
    "if not os.path.exists(focal_osm):\n",
    "    ## BEN: Look into using WGET to download from GeoFabrik    \n",
    "    extractor = osm.osmExtraction(osmosisCmd = \"/home/wb411133/Code/Osmosis/bin/osmosis\", tempFile = \"/home/wb411133/temp/temp_execution.bat\")\n",
    "    print(extractor.extractBoundingBox(global_osm, focal_admin2, focal_osm, execute=False))\n",
    "\n",
    "# Re-sample WP to 1km\n",
    "if not os.path.exists(wp_1km):\n",
    "    inR = rasterio.open(wp_dataset)\n",
    "    wp.resample_wp(inR, wp_1km, factor=10)\n",
    "    \n",
    "# Calculate urban extents from 1km WorldPop\n",
    "if not os.path.exists(urban_extents):\n",
    "    urban_shp = wp.calculateUrban(rasterio.open(wp_1km), smooth=False)\n",
    "    urban_shp.to_file(urban_extents)\n",
    "    \n",
    "# Extract airports and ports and rails from OSM\n",
    "if not os.path.exists(airports):\n",
    "    pois = osm.load_pois(focal_osm, out_bounds.unary_union)\n",
    "    for key, value in pois.items():\n",
    "        value.to_file(os.path.join(out_folder, \"%s.shp\" % key))\n",
    "\n",
    "# Extract borders\n",
    "if not os.path.exists(borders):\n",
    "    all_borders = gpd.read_file(border_crossings)\n",
    "    focal_borders = all_borders[all_borders.intersects(out_bounds.unary_union.buffer(0.01))]\n",
    "    focal_borders.to_file(borders)\n",
    "\n",
    "# Extract power plants\n",
    "if not os.path.exists(power_plants):\n",
    "    pp = helper.extract_power_plants(global_power_plants, out_bounds)\n",
    "    pp.to_file(power_plants)\n",
    "    \n",
    "\n",
    "# Extract transmission lines\n",
    "if not os.path.exists(transmission):\n",
    "    lines = helper.extract_transmission_lines(grid_lines, out_bounds)\n",
    "    lines.to_file(transmission)\n",
    "\n",
    "if not os.path.exists(solar_power):\n",
    "    rMisc.clipRaster(rasterio.open(global_solar), out_bounds, solar_power)\n",
    "    \n",
    "if not os.path.exists(wind_power):\n",
    "    rMisc.clipRaster(rasterio.open(global_wind), out_bounds, wind_power)\n",
    "    \n",
    "# Extract and rasterize GSM\n",
    "gsm_folder = \"/home/public/Data/GLOBAL/INFRA/GSMA/\"\n",
    "gsm_shapefiles = []\n",
    "\n",
    "for root, dirs, files in os.walk(gsm_folder):\n",
    "    for f in files:\n",
    "        if (f[-4:] == \".shp\") and not (\"Inclusions\" in f):\n",
    "            gsm_shapefiles.append(os.path.join(root, f))\n",
    "\n",
    "gsm_process = gsm_r.gsm_rasterizer(gsm_shapefiles, out_folder)\n",
    "gsm_process.initial_read_in()\n",
    "gsm_process.extract_country_vectors(iso3, global_data, out_folder = out_folder)\n",
    "gsm_process.rasterize_gsm_vectors()"
   ]
  },
  {
   "cell_type": "code",
   "execution_count": 28,
   "metadata": {},
   "outputs": [],
   "source": [
    "rMisc.clipRaster?"
   ]
  },
  {
   "cell_type": "code",
   "execution_count": 337,
   "metadata": {},
   "outputs": [
    {
     "data": {
      "text/plain": [
       "['/home/public/Data/GLOBAL/INFRA/GSMA/2016/Global_3G_201612.shp',\n",
       " '/home/public/Data/GLOBAL/INFRA/GSMA/2016/Global_4G_201612.shp',\n",
       " '/home/public/Data/GLOBAL/INFRA/GSMA/2016/Global_GSM_201612.shp',\n",
       " '/home/public/Data/GLOBAL/INFRA/GSMA/2018/MCE_201812_3G.shp',\n",
       " '/home/public/Data/GLOBAL/INFRA/GSMA/2018/MCE_201812_4G.shp',\n",
       " '/home/public/Data/GLOBAL/INFRA/GSMA/2018/MCE_201812_GSM.shp',\n",
       " '/home/public/Data/GLOBAL/INFRA/GSMA/2017/Data/Global_3G_201712.shp',\n",
       " '/home/public/Data/GLOBAL/INFRA/GSMA/2017/Data/Global_4G_201712.shp',\n",
       " '/home/public/Data/GLOBAL/INFRA/GSMA/2017/Data/Global_GSM_201712.shp']"
      ]
     },
     "execution_count": 337,
     "metadata": {},
     "output_type": "execute_result"
    }
   ],
   "source": [
    "# Extract and rasterize GSM\n",
    "gsm_folder = \"/home/public/Data/GLOBAL/INFRA/GSMA/\"\n",
    "gsm_shapefiles = []\n",
    "\n",
    "for root, dirs, files in os.walk(gsm_folder):\n",
    "    for f in files:\n",
    "        if (f[-4:] == \".shp\") and not (\"Inclusions\" in f) and not (\"National_Rasters\" in root):\n",
    "            gsm_shapefiles.append(os.path.join(root, f))\n",
    "gsm_shapefiles"
   ]
  },
  {
   "cell_type": "code",
   "execution_count": 343,
   "metadata": {},
   "outputs": [
    {
     "ename": "NameError",
     "evalue": "name 'gsm_process' is not defined",
     "output_type": "error",
     "traceback": [
      "\u001b[0;31m---------------------------------------------------------------------------\u001b[0m",
      "\u001b[0;31mNameError\u001b[0m                                 Traceback (most recent call last)",
      "\u001b[0;32m<ipython-input-343-304e07b86eec>\u001b[0m in \u001b[0;36m<module>\u001b[0;34m\u001b[0m\n\u001b[1;32m      3\u001b[0m \u001b[0mgsm_process\u001b[0m \u001b[0;34m=\u001b[0m \u001b[0mgsm_r\u001b[0m\u001b[0;34m.\u001b[0m\u001b[0mgsm_rasterizer\u001b[0m\u001b[0;34m(\u001b[0m\u001b[0mgsm_shapefiles\u001b[0m\u001b[0;34m,\u001b[0m \u001b[0mout_folder\u001b[0m\u001b[0;34m)\u001b[0m\u001b[0;34m\u001b[0m\u001b[0;34m\u001b[0m\u001b[0m\n\u001b[1;32m      4\u001b[0m \u001b[0mgsm_process\u001b[0m\u001b[0;34m.\u001b[0m\u001b[0minitial_read_in\u001b[0m\u001b[0;34m(\u001b[0m\u001b[0;34m)\u001b[0m\u001b[0;34m\u001b[0m\u001b[0;34m\u001b[0m\u001b[0m\n\u001b[0;32m----> 5\u001b[0;31m \u001b[0mgsm_process\u001b[0m\u001b[0;34m.\u001b[0m\u001b[0mextract_country_vectors\u001b[0m\u001b[0;34m(\u001b[0m\u001b[0miso3\u001b[0m\u001b[0;34m,\u001b[0m \u001b[0mglobal_data\u001b[0m\u001b[0;34m,\u001b[0m \u001b[0mout_folder\u001b[0m \u001b[0;34m=\u001b[0m \u001b[0mout_folder\u001b[0m\u001b[0;34m)\u001b[0m\u001b[0;34m\u001b[0m\u001b[0;34m\u001b[0m\u001b[0m\n\u001b[0m\u001b[1;32m      6\u001b[0m \u001b[0mgsm_process\u001b[0m\u001b[0;34m.\u001b[0m\u001b[0mrasterize_gsm_vectors\u001b[0m\u001b[0;34m(\u001b[0m\u001b[0;34m)\u001b[0m\u001b[0;34m\u001b[0m\u001b[0;34m\u001b[0m\u001b[0m\n",
      "\u001b[0;32m~/Code/INFRA_SAP/infrasap/gsm_rasterizer.py\u001b[0m in \u001b[0;36mextract_country_vectors\u001b[0;34m(self, iso3, global_data, out_folder)\u001b[0m\n\u001b[1;32m     46\u001b[0m     \u001b[0;32mdef\u001b[0m \u001b[0mextract_country_vectors\u001b[0m\u001b[0;34m(\u001b[0m\u001b[0mself\u001b[0m\u001b[0;34m,\u001b[0m \u001b[0miso3\u001b[0m\u001b[0;34m,\u001b[0m \u001b[0mglobal_data\u001b[0m\u001b[0;34m,\u001b[0m \u001b[0mout_folder\u001b[0m \u001b[0;34m=\u001b[0m \u001b[0;34m\"\"\u001b[0m\u001b[0;34m)\u001b[0m\u001b[0;34m:\u001b[0m\u001b[0;34m\u001b[0m\u001b[0;34m\u001b[0m\u001b[0m\n\u001b[1;32m     47\u001b[0m         \u001b[0mcountry_data\u001b[0m \u001b[0;34m=\u001b[0m \u001b[0mglobal_data\u001b[0m\u001b[0;34m[\u001b[0m\u001b[0mglobal_data\u001b[0m\u001b[0;34m[\u001b[0m\u001b[0;34m'ISO3'\u001b[0m\u001b[0;34m]\u001b[0m \u001b[0;34m==\u001b[0m \u001b[0miso3\u001b[0m\u001b[0;34m]\u001b[0m\u001b[0;34m\u001b[0m\u001b[0;34m\u001b[0m\u001b[0m\n\u001b[0;32m---> 48\u001b[0;31m         \u001b[0;32mif\u001b[0m \u001b[0mcountry_data\u001b[0m\u001b[0;34m.\u001b[0m\u001b[0mcrs\u001b[0m \u001b[0;34m!=\u001b[0m \u001b[0mgsm_process\u001b[0m\u001b[0;34m.\u001b[0m\u001b[0mgsm_data\u001b[0m\u001b[0;34m[\u001b[0m\u001b[0mgsm_process\u001b[0m\u001b[0;34m.\u001b[0m\u001b[0mgsm_data\u001b[0m\u001b[0;34m.\u001b[0m\u001b[0mkeys\u001b[0m\u001b[0;34m(\u001b[0m\u001b[0;34m)\u001b[0m\u001b[0;34m[\u001b[0m\u001b[0;36m0\u001b[0m\u001b[0;34m]\u001b[0m\u001b[0;34m]\u001b[0m\u001b[0;34m.\u001b[0m\u001b[0mcrs\u001b[0m\u001b[0;34m:\u001b[0m\u001b[0;34m\u001b[0m\u001b[0;34m\u001b[0m\u001b[0m\n\u001b[0m\u001b[1;32m     49\u001b[0m             \u001b[0mcountry_data\u001b[0m \u001b[0;34m=\u001b[0m \u001b[0mcountry_data\u001b[0m\u001b[0;34m.\u001b[0m\u001b[0mto_crs\u001b[0m\u001b[0;34m(\u001b[0m\u001b[0mgsm_process\u001b[0m\u001b[0;34m.\u001b[0m\u001b[0mgsm_data\u001b[0m\u001b[0;34m[\u001b[0m\u001b[0mgsm_process\u001b[0m\u001b[0;34m.\u001b[0m\u001b[0mgsm_data\u001b[0m\u001b[0;34m.\u001b[0m\u001b[0mkeys\u001b[0m\u001b[0;34m(\u001b[0m\u001b[0;34m)\u001b[0m\u001b[0;34m[\u001b[0m\u001b[0;36m0\u001b[0m\u001b[0;34m]\u001b[0m\u001b[0;34m]\u001b[0m\u001b[0;34m.\u001b[0m\u001b[0mcrs\u001b[0m\u001b[0;34m)\u001b[0m\u001b[0;34m\u001b[0m\u001b[0;34m\u001b[0m\u001b[0m\n\u001b[1;32m     50\u001b[0m         \u001b[0;32mif\u001b[0m \u001b[0mout_folder\u001b[0m \u001b[0;34m==\u001b[0m \u001b[0;34m\"\"\u001b[0m\u001b[0;34m:\u001b[0m\u001b[0;34m\u001b[0m\u001b[0;34m\u001b[0m\u001b[0m\n",
      "\u001b[0;31mNameError\u001b[0m: name 'gsm_process' is not defined"
     ]
    }
   ],
   "source": [
    "importlib.reload(gsm_r)\n",
    "iso3 = \"URY\"\n",
    "gsm_process = gsm_r.gsm_rasterizer(gsm_shapefiles, out_folder)\n",
    "gsm_process.initial_read_in()\n",
    "gsm_process.extract_country_vectors(iso3, global_data, out_folder = out_folder)\n",
    "gsm_process.rasterize_gsm_vectors()"
   ]
  },
  {
   "cell_type": "code",
   "execution_count": 345,
   "metadata": {},
   "outputs": [],
   "source": [
    "base_data = gsm_process.gsm_data"
   ]
  },
  {
   "cell_type": "code",
   "execution_count": 349,
   "metadata": {},
   "outputs": [
    {
     "name": "stderr",
     "output_type": "stream",
     "text": [
      "../infrasap/gsm_rasterizer.py:66: SettingWithCopyWarning: \n",
      "A value is trying to be set on a copy of a slice from a DataFrame.\n",
      "Try using .loc[row_indexer,col_indexer] = value instead\n",
      "\n",
      "See the caveats in the documentation: http://pandas.pydata.org/pandas-docs/stable/indexing.html#indexing-view-versus-copy\n",
      "  select.to_file(out_file)\n",
      "TopologyException: Input geom 1 is invalid: Ring Self-intersection at or near point -58.44865462599995 -34.039201843999933 at -58.44865462599995 -34.039201843999933\n"
     ]
    }
   ],
   "source": [
    "importlib.reload(gsm_r)\n",
    "\n",
    "gsm_process = gsm_r.gsm_rasterizer(gsm_shapefiles, out_folder)\n",
    "gsm_process.gsm_data = base_data\n",
    "gsm_process.extract_country_vectors(iso3, global_data, out_folder = out_folder)\n",
    "gsm_process.rasterize_gsm_vectors()"
   ]
  },
  {
   "cell_type": "markdown",
   "metadata": {},
   "source": [
    "# Calculate RAI"
   ]
  },
  {
   "cell_type": "code",
   "execution_count": 238,
   "metadata": {},
   "outputs": [
    {
     "ename": "NameError",
     "evalue": "name 'out_folder' is not defined",
     "output_type": "error",
     "traceback": [
      "\u001b[0;31m---------------------------------------------------------------------------\u001b[0m",
      "\u001b[0;31mNameError\u001b[0m                                 Traceback (most recent call last)",
      "\u001b[0;32m<ipython-input-238-8acb1f774954>\u001b[0m in \u001b[0;36m<module>\u001b[0;34m\u001b[0m\n\u001b[1;32m      1\u001b[0m \u001b[0mimportlib\u001b[0m\u001b[0;34m.\u001b[0m\u001b[0mreload\u001b[0m\u001b[0;34m(\u001b[0m\u001b[0mrai\u001b[0m\u001b[0;34m)\u001b[0m\u001b[0;34m\u001b[0m\u001b[0;34m\u001b[0m\u001b[0m\n\u001b[1;32m      2\u001b[0m \u001b[0mrai_roadnetwork\u001b[0m \u001b[0;34m=\u001b[0m \u001b[0mrai\u001b[0m\u001b[0;34m.\u001b[0m\u001b[0mextract_rai_network\u001b[0m\u001b[0;34m(\u001b[0m\u001b[0mfocal_osm\u001b[0m\u001b[0;34m,\u001b[0m \u001b[0mepsg\u001b[0m\u001b[0;34m=\u001b[0m\u001b[0mepsg\u001b[0m\u001b[0;34m)\u001b[0m\u001b[0;34m\u001b[0m\u001b[0;34m\u001b[0m\u001b[0m\n\u001b[0;32m----> 3\u001b[0;31m \u001b[0mrai\u001b[0m \u001b[0;34m=\u001b[0m \u001b[0mrai\u001b[0m\u001b[0;34m.\u001b[0m\u001b[0mcalculate_rai\u001b[0m\u001b[0;34m(\u001b[0m\u001b[0mout_bounds\u001b[0m\u001b[0;34m,\u001b[0m \u001b[0;34m\"GID_2\"\u001b[0m\u001b[0;34m,\u001b[0m \u001b[0mrasterio\u001b[0m\u001b[0;34m.\u001b[0m\u001b[0mopen\u001b[0m\u001b[0;34m(\u001b[0m\u001b[0mwp_dataset\u001b[0m\u001b[0;34m)\u001b[0m\u001b[0;34m,\u001b[0m \u001b[0mrai_roadnetwork\u001b[0m\u001b[0;34m)\u001b[0m\u001b[0;34m\u001b[0m\u001b[0;34m\u001b[0m\u001b[0m\n\u001b[0m",
      "\u001b[0;32m~/Code/INFRA_SAP/infrasap/rai_calculator.py\u001b[0m in \u001b[0;36mcalculate_rai\u001b[0;34m(out_bounds, out_bounds_id, wp_data, roadsGPD_rai)\u001b[0m\n\u001b[1;32m     60\u001b[0m     \u001b[0mall_res\u001b[0m \u001b[0;34m=\u001b[0m \u001b[0;34m{\u001b[0m\u001b[0;34m}\u001b[0m\u001b[0;34m\u001b[0m\u001b[0;34m\u001b[0m\u001b[0m\n\u001b[1;32m     61\u001b[0m     \u001b[0;32mfor\u001b[0m \u001b[0mroad_count\u001b[0m \u001b[0;32min\u001b[0m \u001b[0;34m[\u001b[0m\u001b[0;36m1\u001b[0m\u001b[0;34m,\u001b[0m\u001b[0;36m2\u001b[0m\u001b[0;34m,\u001b[0m\u001b[0;36m3\u001b[0m\u001b[0;34m,\u001b[0m\u001b[0;36m4\u001b[0m\u001b[0;34m]\u001b[0m\u001b[0;34m:\u001b[0m\u001b[0;34m\u001b[0m\u001b[0;34m\u001b[0m\u001b[0m\n\u001b[0;32m---> 62\u001b[0;31m         \u001b[0mrai_pop\u001b[0m \u001b[0;34m=\u001b[0m \u001b[0mos\u001b[0m\u001b[0;34m.\u001b[0m\u001b[0mpath\u001b[0m\u001b[0;34m.\u001b[0m\u001b[0mjoin\u001b[0m\u001b[0;34m(\u001b[0m\u001b[0mout_folder\u001b[0m\u001b[0;34m,\u001b[0m \u001b[0;34m\"WP_RAI_%s.tif\"\u001b[0m \u001b[0;34m%\u001b[0m \u001b[0mroad_count\u001b[0m\u001b[0;34m)\u001b[0m\u001b[0;34m\u001b[0m\u001b[0;34m\u001b[0m\u001b[0m\n\u001b[0m\u001b[1;32m     63\u001b[0m         \u001b[0;31m# Generate pop map within RAI pop\u001b[0m\u001b[0;34m\u001b[0m\u001b[0;34m\u001b[0m\u001b[0;34m\u001b[0m\u001b[0m\n\u001b[1;32m     64\u001b[0m         \u001b[0;32mif\u001b[0m \u001b[0;32mnot\u001b[0m \u001b[0mos\u001b[0m\u001b[0;34m.\u001b[0m\u001b[0mpath\u001b[0m\u001b[0;34m.\u001b[0m\u001b[0mexists\u001b[0m\u001b[0;34m(\u001b[0m\u001b[0mrai_pop\u001b[0m\u001b[0;34m)\u001b[0m\u001b[0;34m:\u001b[0m\u001b[0;34m\u001b[0m\u001b[0;34m\u001b[0m\u001b[0m\n",
      "\u001b[0;31mNameError\u001b[0m: name 'out_folder' is not defined"
     ]
    }
   ],
   "source": [
    "importlib.reload(rai)\n",
    "rai_roadnetwork = rai.extract_rai_network(focal_osm, epsg=epsg)\n"
   ]
  },
  {
   "cell_type": "code",
   "execution_count": 241,
   "metadata": {},
   "outputs": [],
   "source": [
    "importlib.reload(rai)\n",
    "rai = rai.calculate_rai(out_bounds, \"GID_2\", rasterio.open(wp_dataset), rai_roadnetwork, out_folder)"
   ]
  },
  {
   "cell_type": "code",
   "execution_count": 230,
   "metadata": {},
   "outputs": [],
   "source": [
    "rai.to_csv(os.path.join(out_folder, \"RAI_population.csv\"))"
   ]
  },
  {
   "cell_type": "markdown",
   "metadata": {},
   "source": [
    "# Processing cell tower data"
   ]
  },
  {
   "cell_type": "code",
   "execution_count": 3,
   "metadata": {},
   "outputs": [
    {
     "data": {
      "text/html": [
       "<div>\n",
       "<style scoped>\n",
       "    .dataframe tbody tr th:only-of-type {\n",
       "        vertical-align: middle;\n",
       "    }\n",
       "\n",
       "    .dataframe tbody tr th {\n",
       "        vertical-align: top;\n",
       "    }\n",
       "\n",
       "    .dataframe thead th {\n",
       "        text-align: right;\n",
       "    }\n",
       "</style>\n",
       "<table border=\"1\" class=\"dataframe\">\n",
       "  <thead>\n",
       "    <tr style=\"text-align: right;\">\n",
       "      <th></th>\n",
       "      <th>radio</th>\n",
       "      <th>mcc</th>\n",
       "      <th>net</th>\n",
       "      <th>area</th>\n",
       "      <th>cell</th>\n",
       "      <th>unit</th>\n",
       "      <th>lon</th>\n",
       "      <th>lat</th>\n",
       "      <th>range</th>\n",
       "      <th>samples</th>\n",
       "      <th>changeable</th>\n",
       "      <th>created</th>\n",
       "      <th>updated</th>\n",
       "      <th>averageSignal</th>\n",
       "    </tr>\n",
       "  </thead>\n",
       "  <tbody>\n",
       "    <tr>\n",
       "      <th>0</th>\n",
       "      <td>UMTS</td>\n",
       "      <td>262</td>\n",
       "      <td>2</td>\n",
       "      <td>801</td>\n",
       "      <td>86355</td>\n",
       "      <td>0</td>\n",
       "      <td>13.285512</td>\n",
       "      <td>52.522202</td>\n",
       "      <td>1000</td>\n",
       "      <td>7</td>\n",
       "      <td>1</td>\n",
       "      <td>1282569574</td>\n",
       "      <td>1300155341</td>\n",
       "      <td>0</td>\n",
       "    </tr>\n",
       "    <tr>\n",
       "      <th>1</th>\n",
       "      <td>GSM</td>\n",
       "      <td>262</td>\n",
       "      <td>2</td>\n",
       "      <td>801</td>\n",
       "      <td>1795</td>\n",
       "      <td>0</td>\n",
       "      <td>13.276907</td>\n",
       "      <td>52.525714</td>\n",
       "      <td>5716</td>\n",
       "      <td>9</td>\n",
       "      <td>1</td>\n",
       "      <td>1282569574</td>\n",
       "      <td>1300155341</td>\n",
       "      <td>0</td>\n",
       "    </tr>\n",
       "    <tr>\n",
       "      <th>2</th>\n",
       "      <td>GSM</td>\n",
       "      <td>262</td>\n",
       "      <td>2</td>\n",
       "      <td>801</td>\n",
       "      <td>1794</td>\n",
       "      <td>0</td>\n",
       "      <td>13.285064</td>\n",
       "      <td>52.524000</td>\n",
       "      <td>6280</td>\n",
       "      <td>13</td>\n",
       "      <td>1</td>\n",
       "      <td>1282569574</td>\n",
       "      <td>1300796207</td>\n",
       "      <td>0</td>\n",
       "    </tr>\n",
       "    <tr>\n",
       "      <th>3</th>\n",
       "      <td>UMTS</td>\n",
       "      <td>262</td>\n",
       "      <td>2</td>\n",
       "      <td>801</td>\n",
       "      <td>211250</td>\n",
       "      <td>0</td>\n",
       "      <td>13.285446</td>\n",
       "      <td>52.521744</td>\n",
       "      <td>1000</td>\n",
       "      <td>3</td>\n",
       "      <td>1</td>\n",
       "      <td>1282569574</td>\n",
       "      <td>1299466955</td>\n",
       "      <td>0</td>\n",
       "    </tr>\n",
       "    <tr>\n",
       "      <th>4</th>\n",
       "      <td>UMTS</td>\n",
       "      <td>262</td>\n",
       "      <td>2</td>\n",
       "      <td>801</td>\n",
       "      <td>86353</td>\n",
       "      <td>0</td>\n",
       "      <td>13.293457</td>\n",
       "      <td>52.521515</td>\n",
       "      <td>1000</td>\n",
       "      <td>2</td>\n",
       "      <td>1</td>\n",
       "      <td>1282569574</td>\n",
       "      <td>1291380444</td>\n",
       "      <td>0</td>\n",
       "    </tr>\n",
       "  </tbody>\n",
       "</table>\n",
       "</div>"
      ],
      "text/plain": [
       "  radio  mcc  net  area    cell  unit        lon        lat  range  samples  \\\n",
       "0  UMTS  262    2   801   86355     0  13.285512  52.522202   1000        7   \n",
       "1   GSM  262    2   801    1795     0  13.276907  52.525714   5716        9   \n",
       "2   GSM  262    2   801    1794     0  13.285064  52.524000   6280       13   \n",
       "3  UMTS  262    2   801  211250     0  13.285446  52.521744   1000        3   \n",
       "4  UMTS  262    2   801   86353     0  13.293457  52.521515   1000        2   \n",
       "\n",
       "   changeable     created     updated  averageSignal  \n",
       "0           1  1282569574  1300155341              0  \n",
       "1           1  1282569574  1300155341              0  \n",
       "2           1  1282569574  1300796207              0  \n",
       "3           1  1282569574  1299466955              0  \n",
       "4           1  1282569574  1291380444              0  "
      ]
     },
     "execution_count": 3,
     "metadata": {},
     "output_type": "execute_result"
    }
   ],
   "source": [
    "# simplify the global open cell id data\n",
    "base_data = \"/home/public/Data/GLOBAL/INFRA/OPENCELLID/cell_towers_2020-04-15-T000000.csv\"\n",
    "\n",
    "inD = pd.read_csv(base_data)"
   ]
  },
  {
   "cell_type": "code",
   "execution_count": null,
   "metadata": {},
   "outputs": [],
   "source": [
    "global_data = gpd.read_file(global_boundaries)\n",
    "global_data['incomeG'].value_counts()"
   ]
  },
  {
   "cell_type": "code",
   "execution_count": 10,
   "metadata": {},
   "outputs": [],
   "source": [
    "inD_geom = [Point(x) for x in zip(inD['lon'], inD['lat'])]\n",
    "inG = gpd.GeoDataFrame(inD, geometry=inD_geom, crs = {'init':'epsg:4326'})\n",
    "inG = inG.to_crs(global_data.crs)"
   ]
  },
  {
   "cell_type": "code",
   "execution_count": 13,
   "metadata": {},
   "outputs": [],
   "source": [
    "joined_towers = gpd.sjoin(inG, global_data, how='left', op='within', lsuffix='p_', rsuffix='g_')"
   ]
  },
  {
   "cell_type": "code",
   "execution_count": 24,
   "metadata": {},
   "outputs": [],
   "source": [
    "ury_towers = joined_towers.loc[joined_towers['ISO3'] == 'URY']\n",
    "ury_towers.to_file(\"/home/wb411133/temp/URY_towers.shp\")"
   ]
  },
  {
   "cell_type": "code",
   "execution_count": 23,
   "metadata": {},
   "outputs": [
    {
     "name": "stderr",
     "output_type": "stream",
     "text": [
      "/home/wb411133/.conda/envs/geog/lib/python3.7/site-packages/pandas/core/frame.py:3940: SettingWithCopyWarning: \n",
      "A value is trying to be set on a copy of a slice from a DataFrame\n",
      "\n",
      "See the caveats in the documentation: http://pandas.pydata.org/pandas-docs/stable/indexing.html#indexing-view-versus-copy\n",
      "  errors=errors)\n"
     ]
    }
   ],
   "source": [
    "lac_towers = joined_towers.loc[joined_towers['Region'] == 'Latin America & Caribbean']\n",
    "lac_towers.drop(['index_g_', 'OBJECTID', 'ISO_A2', 'WB_ADM0_CO','WB_ADM0_NA', 'Shape_Leng', 'Shape_Area', 'UN_m49', 'Region','incomeG', 'lendingC', 'FID_100'], axis=1, inplace=True)\n",
    "\n",
    "lac_towers.to_file(\"/home/wb411133/temp/LAC_towers.shp\")"
   ]
  },
  {
   "cell_type": "markdown",
   "metadata": {},
   "source": [
    "# Debugging"
   ]
  },
  {
   "cell_type": "code",
   "execution_count": 13,
   "metadata": {},
   "outputs": [
    {
     "name": "stdout",
     "output_type": "stream",
     "text": [
      "6705: 6705\n",
      "1881: 8586\n",
      "1981: 10567\n",
      "1666: 12233\n",
      "923: 13156\n",
      "1322: 14478\n",
      "855: 15333\n",
      "632: 15965\n",
      "318: 16283\n",
      "422: 16705\n",
      "288: 16993\n",
      "388: 17381\n",
      "449: 17830\n",
      "569: 18399\n",
      "254: 18653\n",
      "481: 19134\n",
      "330: 19464\n",
      "378: 19842\n",
      "220: 20062\n",
      "215: 20277\n",
      "136: 20413\n",
      "168: 20581\n",
      "178: 20759\n",
      "187: 20946\n",
      "160: 21106\n",
      "163: 21269\n",
      "163: 21432\n",
      "114: 21546\n",
      "147: 21693\n",
      "134: 21827\n",
      "130: 21957\n",
      "116: 22073\n",
      "99: 22172\n",
      "118: 22290\n",
      "155: 22445\n",
      "144: 22589\n",
      "128: 22717\n",
      "108: 22825\n",
      "83: 22908\n",
      "98: 23006\n",
      "93: 23099\n",
      "69: 23168\n",
      "112: 23280\n",
      "88: 23368\n",
      "82: 23450\n",
      "63: 23513\n",
      "58: 23571\n",
      "126: 23697\n",
      "111: 23808\n",
      "85: 23893\n",
      "96: 23989\n",
      "86: 24075\n",
      "60: 24135\n",
      "92: 24227\n",
      "58: 24285\n",
      "100: 24385\n",
      "96: 24481\n",
      "80: 24561\n",
      "83: 24644\n",
      "65: 24709\n",
      "56: 24765\n",
      "52: 24817\n",
      "74: 24891\n",
      "51: 24942\n",
      "72: 25014\n",
      "73: 25087\n",
      "56: 25143\n",
      "69: 25212\n",
      "50: 25262\n",
      "39: 25301\n",
      "45: 25346\n",
      "50: 25396\n",
      "48: 25444\n",
      "52: 25496\n",
      "53: 25549\n",
      "39: 25588\n",
      "50: 25638\n",
      "58: 25696\n",
      "38: 25734\n",
      "73: 25807\n",
      "62: 25869\n",
      "46: 25915\n",
      "44: 25959\n",
      "43: 26002\n",
      "33: 26035\n",
      "48: 26083\n",
      "37: 26120\n",
      "33: 26153\n",
      "41: 26194\n",
      "31: 26225\n",
      "35: 26260\n",
      "35: 26295\n",
      "57: 26352\n",
      "40: 26392\n",
      "41: 26433\n",
      "39: 26472\n",
      "32: 26504\n",
      "23: 26527\n",
      "33: 26560\n",
      "31: 26591\n",
      "39: 26630\n",
      "30: 26660\n",
      "36: 26696\n",
      "39: 26735\n",
      "22: 26757\n",
      "38: 26795\n",
      "35: 26830\n",
      "38: 26868\n",
      "25: 26893\n",
      "34: 26927\n",
      "30: 26957\n",
      "37: 26994\n",
      "34: 27028\n",
      "26: 27054\n",
      "28: 27082\n",
      "29: 27111\n"
     ]
    }
   ],
   "source": [
    "in_folder = \"/home/wb411133/data/Projects/CoVID/IDN/hd_urban_fishnets\"\n",
    "all_files = []\n",
    "for root, dirs, files in os.walk(in_folder):\n",
    "    for f in files:\n",
    "        if f[-4:] == \".shp\" and not \"zonal\" in f:\n",
    "            all_files.append(os.path.join(root, f))\n",
    "\n",
    "try:\n",
    "    del(final)\n",
    "except:\n",
    "    pass\n",
    "for f in all_files:\n",
    "    inF  = gpd.read_file(f)\n",
    "    try:\n",
    "        final = final.append(inF)\n",
    "    except:\n",
    "        final = inF\n",
    "    print(f\"{inF.shape[0]}: {final.shape[0]}\")"
   ]
  },
  {
   "cell_type": "code",
   "execution_count": 14,
   "metadata": {},
   "outputs": [],
   "source": [
    "final = final.reset_index()\n",
    "final.to_file(\"%s.shp\" % in_folder)"
   ]
  },
  {
   "cell_type": "code",
   "execution_count": 10,
   "metadata": {},
   "outputs": [
    {
     "data": {
      "text/plain": [
       "(47790, 3)"
      ]
     },
     "execution_count": 10,
     "metadata": {},
     "output_type": "execute_result"
    }
   ],
   "source": [
    "final.shape"
   ]
  },
  {
   "cell_type": "code",
   "execution_count": 12,
   "metadata": {},
   "outputs": [
    {
     "data": {
      "text/html": [
       "<div>\n",
       "<style scoped>\n",
       "    .dataframe tbody tr th:only-of-type {\n",
       "        vertical-align: middle;\n",
       "    }\n",
       "\n",
       "    .dataframe tbody tr th {\n",
       "        vertical-align: top;\n",
       "    }\n",
       "\n",
       "    .dataframe thead th {\n",
       "        text-align: right;\n",
       "    }\n",
       "</style>\n",
       "<table border=\"1\" class=\"dataframe\">\n",
       "  <thead>\n",
       "    <tr style=\"text-align: right;\">\n",
       "      <th></th>\n",
       "      <th>FID</th>\n",
       "      <th>geohash</th>\n",
       "      <th>geometry</th>\n",
       "    </tr>\n",
       "  </thead>\n",
       "  <tbody>\n",
       "    <tr>\n",
       "      <th>0</th>\n",
       "      <td>0</td>\n",
       "      <td>NaN</td>\n",
       "      <td>POLYGON ((11788594.88015904 -657995.4158944433...</td>\n",
       "    </tr>\n",
       "    <tr>\n",
       "      <th>1</th>\n",
       "      <td>1</td>\n",
       "      <td>NaN</td>\n",
       "      <td>POLYGON ((11788594.88015904 -658995.4158944433...</td>\n",
       "    </tr>\n",
       "    <tr>\n",
       "      <th>2</th>\n",
       "      <td>2</td>\n",
       "      <td>NaN</td>\n",
       "      <td>POLYGON ((11788594.88015904 -659995.4158944433...</td>\n",
       "    </tr>\n",
       "    <tr>\n",
       "      <th>3</th>\n",
       "      <td>3</td>\n",
       "      <td>NaN</td>\n",
       "      <td>POLYGON ((11788594.88015904 -660995.4158944433...</td>\n",
       "    </tr>\n",
       "    <tr>\n",
       "      <th>4</th>\n",
       "      <td>4</td>\n",
       "      <td>NaN</td>\n",
       "      <td>POLYGON ((11788594.88015904 -661995.4158944433...</td>\n",
       "    </tr>\n",
       "  </tbody>\n",
       "</table>\n",
       "</div>"
      ],
      "text/plain": [
       "   FID geohash                                           geometry\n",
       "0    0     NaN  POLYGON ((11788594.88015904 -657995.4158944433...\n",
       "1    1     NaN  POLYGON ((11788594.88015904 -658995.4158944433...\n",
       "2    2     NaN  POLYGON ((11788594.88015904 -659995.4158944433...\n",
       "3    3     NaN  POLYGON ((11788594.88015904 -660995.4158944433...\n",
       "4    4     NaN  POLYGON ((11788594.88015904 -661995.4158944433..."
      ]
     },
     "execution_count": 12,
     "metadata": {},
     "output_type": "execute_result"
    }
   ],
   "source": [
    "final.head()"
   ]
  },
  {
   "cell_type": "code",
   "execution_count": null,
   "metadata": {},
   "outputs": [],
   "source": []
  }
 ],
 "metadata": {
  "kernelspec": {
   "display_name": "Python (geog)",
   "language": "python",
   "name": "geog"
  },
  "language_info": {
   "codemirror_mode": {
    "name": "ipython",
    "version": 3
   },
   "file_extension": ".py",
   "mimetype": "text/x-python",
   "name": "python",
   "nbconvert_exporter": "python",
   "pygments_lexer": "ipython3",
   "version": "3.7.1"
  }
 },
 "nbformat": 4,
 "nbformat_minor": 2
}
