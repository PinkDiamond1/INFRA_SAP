{
 "cells": [
  {
   "cell_type": "markdown",
   "metadata": {},
   "source": [
    "# Processing COMTRADE flow data\n",
    "\n",
    "This script attempts to process the COMTRADEflow data for energy, coal, oil and gas. The goal is to extract the import, export, and flow data as geospatial information: the tools for which are found in the infra_tools library"
   ]
  },
  {
   "cell_type": "code",
   "execution_count": 1,
   "metadata": {},
   "outputs": [],
   "source": [
    "import sys, os, importlib\n",
    "\n",
    "import pandas as pd\n",
    "import geopandas as gpd\n",
    "import numpy as np\n",
    "\n",
    "from shapely.geometry import Point, LineString\n",
    "\n",
    "sys.path.append('../')\n",
    "\n",
    "from infrasap import process_flows"
   ]
  },
  {
   "cell_type": "code",
   "execution_count": 2,
   "metadata": {},
   "outputs": [],
   "source": [
    "input_file_energy = \"/home/wb411133/data/Projects/INFRA/FLOWS/UN_comtrade_energy_flows.csv\"\n",
    "input_file_coal = \"/home/wb411133/data/Projects/INFRA/FLOWS/Coal Ex-Im_UN Comtreade_June 18.csv\"\n",
    "input_file_oil = \"/home/wb411133/data/Projects/INFRA/FLOWS/Oil UNComtrade 0115.csv\"\n",
    "input_file_gas = \"/home/wb411133/data/Projects/INFRA/FLOWS/Gas UNComtrade 0115.csv\"\n",
    "out_folder = \"\"\n",
    "global_boundaries = \"/home/wb411133/data/Projects/INFRA/FLOWS/national_centroids.shp\"\n",
    "\n",
    "inB = gpd.read_file(global_boundaries)\n",
    "if inB.crs != {'init':'epsg:4326'}:\n",
    "    inB = inB.to_crs({'init':'epsg:4326'})\n",
    "\n"
   ]
  },
  {
   "cell_type": "code",
   "execution_count": 3,
   "metadata": {},
   "outputs": [
    {
     "data": {
      "text/html": [
       "<div>\n",
       "<style scoped>\n",
       "    .dataframe tbody tr th:only-of-type {\n",
       "        vertical-align: middle;\n",
       "    }\n",
       "\n",
       "    .dataframe tbody tr th {\n",
       "        vertical-align: top;\n",
       "    }\n",
       "\n",
       "    .dataframe thead th {\n",
       "        text-align: right;\n",
       "    }\n",
       "</style>\n",
       "<table border=\"1\" class=\"dataframe\">\n",
       "  <thead>\n",
       "    <tr style=\"text-align: right;\">\n",
       "      <th></th>\n",
       "      <th>Classification</th>\n",
       "      <th>Year</th>\n",
       "      <th>Period</th>\n",
       "      <th>Period Desc.</th>\n",
       "      <th>Aggregate Level</th>\n",
       "      <th>Is Leaf Code</th>\n",
       "      <th>Trade Flow Code</th>\n",
       "      <th>Trade Flow</th>\n",
       "      <th>Reporter Code</th>\n",
       "      <th>Reporter</th>\n",
       "      <th>...</th>\n",
       "      <th>Commodity</th>\n",
       "      <th>Qty Unit Code</th>\n",
       "      <th>Qty Unit</th>\n",
       "      <th>Qty</th>\n",
       "      <th>Netweight (kg)</th>\n",
       "      <th>Gross weight (kg)</th>\n",
       "      <th>Trade Value (US$)</th>\n",
       "      <th>CIF Trade Value (US$)</th>\n",
       "      <th>FOB Trade Value (US$)</th>\n",
       "      <th>Flag</th>\n",
       "    </tr>\n",
       "  </thead>\n",
       "  <tbody>\n",
       "    <tr>\n",
       "      <th>0</th>\n",
       "      <td>S3</td>\n",
       "      <td>2010</td>\n",
       "      <td>2010</td>\n",
       "      <td>2010</td>\n",
       "      <td>3</td>\n",
       "      <td>0</td>\n",
       "      <td>1</td>\n",
       "      <td>Import</td>\n",
       "      <td>8</td>\n",
       "      <td>Albania</td>\n",
       "      <td>...</td>\n",
       "      <td>PETROLEUM OILS, CRUDE</td>\n",
       "      <td>8</td>\n",
       "      <td>Weight in kilograms</td>\n",
       "      <td>21972122.0</td>\n",
       "      <td>21972122.0</td>\n",
       "      <td>NaN</td>\n",
       "      <td>13047443.0</td>\n",
       "      <td>NaN</td>\n",
       "      <td>NaN</td>\n",
       "      <td>0</td>\n",
       "    </tr>\n",
       "    <tr>\n",
       "      <th>1</th>\n",
       "      <td>S3</td>\n",
       "      <td>2010</td>\n",
       "      <td>2010</td>\n",
       "      <td>2010</td>\n",
       "      <td>3</td>\n",
       "      <td>0</td>\n",
       "      <td>2</td>\n",
       "      <td>Export</td>\n",
       "      <td>8</td>\n",
       "      <td>Albania</td>\n",
       "      <td>...</td>\n",
       "      <td>PETROLEUM OILS, CRUDE</td>\n",
       "      <td>8</td>\n",
       "      <td>Weight in kilograms</td>\n",
       "      <td>537315248.0</td>\n",
       "      <td>537315248.0</td>\n",
       "      <td>NaN</td>\n",
       "      <td>162736020.0</td>\n",
       "      <td>NaN</td>\n",
       "      <td>NaN</td>\n",
       "      <td>0</td>\n",
       "    </tr>\n",
       "    <tr>\n",
       "      <th>2</th>\n",
       "      <td>S3</td>\n",
       "      <td>2010</td>\n",
       "      <td>2010</td>\n",
       "      <td>2010</td>\n",
       "      <td>3</td>\n",
       "      <td>0</td>\n",
       "      <td>2</td>\n",
       "      <td>Export</td>\n",
       "      <td>8</td>\n",
       "      <td>Albania</td>\n",
       "      <td>...</td>\n",
       "      <td>PETROLEUM OILS, CRUDE</td>\n",
       "      <td>8</td>\n",
       "      <td>Weight in kilograms</td>\n",
       "      <td>3.0</td>\n",
       "      <td>3.0</td>\n",
       "      <td>NaN</td>\n",
       "      <td>6.0</td>\n",
       "      <td>NaN</td>\n",
       "      <td>NaN</td>\n",
       "      <td>0</td>\n",
       "    </tr>\n",
       "    <tr>\n",
       "      <th>3</th>\n",
       "      <td>S3</td>\n",
       "      <td>2010</td>\n",
       "      <td>2010</td>\n",
       "      <td>2010</td>\n",
       "      <td>3</td>\n",
       "      <td>0</td>\n",
       "      <td>1</td>\n",
       "      <td>Import</td>\n",
       "      <td>8</td>\n",
       "      <td>Albania</td>\n",
       "      <td>...</td>\n",
       "      <td>PETROLEUM OILS, CRUDE</td>\n",
       "      <td>8</td>\n",
       "      <td>Weight in kilograms</td>\n",
       "      <td>8.0</td>\n",
       "      <td>8.0</td>\n",
       "      <td>NaN</td>\n",
       "      <td>48.0</td>\n",
       "      <td>NaN</td>\n",
       "      <td>NaN</td>\n",
       "      <td>0</td>\n",
       "    </tr>\n",
       "    <tr>\n",
       "      <th>4</th>\n",
       "      <td>S3</td>\n",
       "      <td>2010</td>\n",
       "      <td>2010</td>\n",
       "      <td>2010</td>\n",
       "      <td>3</td>\n",
       "      <td>0</td>\n",
       "      <td>2</td>\n",
       "      <td>Export</td>\n",
       "      <td>8</td>\n",
       "      <td>Albania</td>\n",
       "      <td>...</td>\n",
       "      <td>PETROLEUM OILS, CRUDE</td>\n",
       "      <td>8</td>\n",
       "      <td>Weight in kilograms</td>\n",
       "      <td>326910458.0</td>\n",
       "      <td>326910458.0</td>\n",
       "      <td>NaN</td>\n",
       "      <td>97263384.0</td>\n",
       "      <td>NaN</td>\n",
       "      <td>NaN</td>\n",
       "      <td>0</td>\n",
       "    </tr>\n",
       "  </tbody>\n",
       "</table>\n",
       "<p>5 rows × 25 columns</p>\n",
       "</div>"
      ],
      "text/plain": [
       "  Classification  Year  Period  Period Desc.  Aggregate Level  Is Leaf Code  \\\n",
       "0             S3  2010    2010          2010                3             0   \n",
       "1             S3  2010    2010          2010                3             0   \n",
       "2             S3  2010    2010          2010                3             0   \n",
       "3             S3  2010    2010          2010                3             0   \n",
       "4             S3  2010    2010          2010                3             0   \n",
       "\n",
       "   Trade Flow Code Trade Flow  Reporter Code Reporter  ...  \\\n",
       "0                1     Import              8  Albania  ...   \n",
       "1                2     Export              8  Albania  ...   \n",
       "2                2     Export              8  Albania  ...   \n",
       "3                1     Import              8  Albania  ...   \n",
       "4                2     Export              8  Albania  ...   \n",
       "\n",
       "               Commodity  Qty Unit Code             Qty Unit          Qty  \\\n",
       "0  PETROLEUM OILS, CRUDE              8  Weight in kilograms   21972122.0   \n",
       "1  PETROLEUM OILS, CRUDE              8  Weight in kilograms  537315248.0   \n",
       "2  PETROLEUM OILS, CRUDE              8  Weight in kilograms          3.0   \n",
       "3  PETROLEUM OILS, CRUDE              8  Weight in kilograms          8.0   \n",
       "4  PETROLEUM OILS, CRUDE              8  Weight in kilograms  326910458.0   \n",
       "\n",
       "   Netweight (kg) Gross weight (kg)  Trade Value (US$) CIF Trade Value (US$)  \\\n",
       "0      21972122.0               NaN         13047443.0                   NaN   \n",
       "1     537315248.0               NaN        162736020.0                   NaN   \n",
       "2             3.0               NaN                6.0                   NaN   \n",
       "3             8.0               NaN               48.0                   NaN   \n",
       "4     326910458.0               NaN         97263384.0                   NaN   \n",
       "\n",
       "   FOB Trade Value (US$)  Flag  \n",
       "0                    NaN     0  \n",
       "1                    NaN     0  \n",
       "2                    NaN     0  \n",
       "3                    NaN     0  \n",
       "4                    NaN     0  \n",
       "\n",
       "[5 rows x 25 columns]"
      ]
     },
     "execution_count": 3,
     "metadata": {},
     "output_type": "execute_result"
    }
   ],
   "source": [
    "xx = pd.read_csv(input_file_oil)\n",
    "xx.head()"
   ]
  },
  {
   "cell_type": "code",
   "execution_count": 4,
   "metadata": {},
   "outputs": [
    {
     "data": {
      "text/plain": [
       "Index(['Classification', 'Year', 'Period', 'Period Desc.', 'Aggregate Level',\n",
       "       'Is Leaf Code', 'Trade Flow Code', 'Trade Flow', 'Reporter Code',\n",
       "       'Reporter', 'Reporter ISO', 'Partner Code', 'Partner', 'Partner ISO',\n",
       "       'Commodity Code', 'Commodity', 'Qty Unit Code', 'Qty Unit', 'Qty',\n",
       "       'Netweight (kg)', 'Gross weight (kg)', 'Trade Value (US$)',\n",
       "       'CIF Trade Value (US$)', 'FOB Trade Value (US$)', 'Flag'],\n",
       "      dtype='object')"
      ]
     },
     "execution_count": 4,
     "metadata": {},
     "output_type": "execute_result"
    }
   ],
   "source": [
    "xx.columns"
   ]
  },
  {
   "cell_type": "code",
   "execution_count": 5,
   "metadata": {},
   "outputs": [
    {
     "data": {
      "text/plain": [
       "334    106995\n",
       "335     50483\n",
       "333     16415\n",
       "Name: Commodity Code, dtype: int64"
      ]
     },
     "execution_count": 5,
     "metadata": {},
     "output_type": "execute_result"
    }
   ],
   "source": [
    "xx['Commodity Code'].value_counts()"
   ]
  },
  {
   "cell_type": "code",
   "execution_count": 6,
   "metadata": {},
   "outputs": [
    {
     "data": {
      "text/plain": [
       "PETROLEUM PRODUCTS          106995\n",
       "RESIDUAL PETROL.PRODUCTS     50483\n",
       "PETROLEUM OILS, CRUDE        16415\n",
       "Name: Commodity, dtype: int64"
      ]
     },
     "execution_count": 6,
     "metadata": {},
     "output_type": "execute_result"
    }
   ],
   "source": [
    "xx['Commodity'].value_counts()"
   ]
  },
  {
   "cell_type": "code",
   "execution_count": 8,
   "metadata": {},
   "outputs": [
    {
     "data": {
      "text/html": [
       "<div>\n",
       "<style scoped>\n",
       "    .dataframe tbody tr th:only-of-type {\n",
       "        vertical-align: middle;\n",
       "    }\n",
       "\n",
       "    .dataframe tbody tr th {\n",
       "        vertical-align: top;\n",
       "    }\n",
       "\n",
       "    .dataframe thead th {\n",
       "        text-align: right;\n",
       "    }\n",
       "</style>\n",
       "<table border=\"1\" class=\"dataframe\">\n",
       "  <thead>\n",
       "    <tr style=\"text-align: right;\">\n",
       "      <th></th>\n",
       "      <th>Qty</th>\n",
       "    </tr>\n",
       "    <tr>\n",
       "      <th>Commodity Code</th>\n",
       "      <th></th>\n",
       "    </tr>\n",
       "  </thead>\n",
       "  <tbody>\n",
       "    <tr>\n",
       "      <th>333</th>\n",
       "      <td>315972.943900</td>\n",
       "    </tr>\n",
       "    <tr>\n",
       "      <th>334</th>\n",
       "      <td>51100.128012</td>\n",
       "    </tr>\n",
       "  </tbody>\n",
       "</table>\n",
       "</div>"
      ],
      "text/plain": [
       "                          Qty\n",
       "Commodity Code               \n",
       "333             315972.943900\n",
       "334              51100.128012"
      ]
     },
     "execution_count": 8,
     "metadata": {},
     "output_type": "execute_result"
    }
   ],
   "source": [
    "sel = xx.loc[(xx['Reporter ISO'] == \"JPN\") & (xx['Trade Flow'] == \"Import\") & (xx['Year'] == 2017.0)]\n",
    "sel.groupby(\"Commodity Code\").agg({'Qty':'sum', \"Qty\":'sum'})/1000000"
   ]
  },
  {
   "cell_type": "code",
   "execution_count": 10,
   "metadata": {},
   "outputs": [],
   "source": [
    "process_flows.comtrade_flow?"
   ]
  },
  {
   "cell_type": "code",
   "execution_count": 11,
   "metadata": {},
   "outputs": [],
   "source": [
    "good_columns=['Qty Unit Code', 'Year', 'Trade Flow', 'Reporter ISO', 'Partner ISO', 'Commodity', 'Qty', 'Trade Value (US$)', 'Reporter_Pt', 'Partner_Pt']"
   ]
  },
  {
   "cell_type": "code",
   "execution_count": 16,
   "metadata": {},
   "outputs": [
    {
     "name": "stderr",
     "output_type": "stream",
     "text": [
      "/home/wb411133/.conda/envs/geog/lib/python3.7/site-packages/pandas/core/indexing.py:1494: FutureWarning: \n",
      "Passing list-likes to .loc or [] with any missing label will raise\n",
      "KeyError in the future, you can use .reindex() as an alternative.\n",
      "\n",
      "See the documentation here:\n",
      "https://pandas.pydata.org/pandas-docs/stable/indexing.html#deprecate-loc-reindex-listlike\n",
      "  return self._getitem_tuple(key)\n",
      "/home/wb411133/.conda/envs/geog/lib/python3.7/site-packages/pandas/core/ops.py:1649: FutureWarning: elementwise comparison failed; returning scalar instead, but in the future will perform elementwise comparison\n",
      "  result = method(y)\n"
     ]
    }
   ],
   "source": [
    "importlib.reload(process_flows)\n",
    "file_def = [input_file_oil, \"Oil\", [333]]\n",
    "in_file = file_def[0]\n",
    "commodity = file_def[1]\n",
    "oil_flows = process_flows.comtrade_flow(in_file, commodity, good_columns=good_columns)\n",
    "oil_flows.initialize([333], inB, val_fields=['Trade Value (US$)', 'Qty'])"
   ]
  },
  {
   "cell_type": "code",
   "execution_count": 17,
   "metadata": {},
   "outputs": [
    {
     "data": {
      "text/html": [
       "<div>\n",
       "<style scoped>\n",
       "    .dataframe tbody tr th:only-of-type {\n",
       "        vertical-align: middle;\n",
       "    }\n",
       "\n",
       "    .dataframe tbody tr th {\n",
       "        vertical-align: top;\n",
       "    }\n",
       "\n",
       "    .dataframe thead th {\n",
       "        text-align: right;\n",
       "    }\n",
       "</style>\n",
       "<table border=\"1\" class=\"dataframe\">\n",
       "  <thead>\n",
       "    <tr style=\"text-align: right;\">\n",
       "      <th></th>\n",
       "      <th>Reporter ISO</th>\n",
       "      <th>Partner ISO</th>\n",
       "      <th>Year</th>\n",
       "      <th>Trade Flow</th>\n",
       "      <th>Trade Value (US$)</th>\n",
       "      <th>Qty</th>\n",
       "      <th>Reporter_Pt</th>\n",
       "      <th>Partner_Pt</th>\n",
       "      <th>geometry</th>\n",
       "    </tr>\n",
       "  </thead>\n",
       "  <tbody>\n",
       "  </tbody>\n",
       "</table>\n",
       "</div>"
      ],
      "text/plain": [
       "Empty DataFrame\n",
       "Columns: [Reporter ISO, Partner ISO, Year, Trade Flow, Trade Value (US$), Qty, Reporter_Pt, Partner_Pt, geometry]\n",
       "Index: []"
      ]
     },
     "execution_count": 17,
     "metadata": {},
     "output_type": "execute_result"
    }
   ],
   "source": [
    "oil_flows.country_flows.head()"
   ]
  },
  {
   "cell_type": "code",
   "execution_count": null,
   "metadata": {},
   "outputs": [],
   "source": []
  },
  {
   "cell_type": "code",
   "execution_count": 13,
   "metadata": {},
   "outputs": [
    {
     "ename": "AttributeError",
     "evalue": "'comtrade_flow' object has no attribute 'country_flows'",
     "output_type": "error",
     "traceback": [
      "\u001b[0;31m---------------------------------------------------------------------------\u001b[0m",
      "\u001b[0;31mAttributeError\u001b[0m                            Traceback (most recent call last)",
      "\u001b[0;32m<ipython-input-13-59df1d4250db>\u001b[0m in \u001b[0;36m<module>\u001b[0;34m\u001b[0m\n\u001b[1;32m      1\u001b[0m \u001b[0;31m#coal_flows.initialize(file_def[2], inB, good_quantity_col=\"Commodity Code\")\u001b[0m\u001b[0;34m\u001b[0m\u001b[0;34m\u001b[0m\u001b[0;34m\u001b[0m\u001b[0m\n\u001b[0;32m----> 2\u001b[0;31m \u001b[0moil_flows\u001b[0m\u001b[0;34m.\u001b[0m\u001b[0msave_simple_layers\u001b[0m\u001b[0;34m(\u001b[0m\u001b[0;34m\"/home/wb411133/data/Projects/INFRA/FLOWS/OIL_CRUDE_ONLY_2021/GEOJSON\"\u001b[0m\u001b[0;34m,\u001b[0m \u001b[0;34m\"GEOJSON\"\u001b[0m\u001b[0;34m)\u001b[0m\u001b[0;34m\u001b[0m\u001b[0;34m\u001b[0m\u001b[0m\n\u001b[0m",
      "\u001b[0;32m~/Code/INFRA_SAP/infrasap/process_flows.py\u001b[0m in \u001b[0;36msave_simple_layers\u001b[0;34m(self, out_folder, out_type)\u001b[0m\n\u001b[1;32m    119\u001b[0m             \u001b[0mos\u001b[0m\u001b[0;34m.\u001b[0m\u001b[0mmakedirs\u001b[0m\u001b[0;34m(\u001b[0m\u001b[0mout_folder\u001b[0m\u001b[0;34m)\u001b[0m\u001b[0;34m\u001b[0m\u001b[0;34m\u001b[0m\u001b[0m\n\u001b[1;32m    120\u001b[0m \u001b[0;34m\u001b[0m\u001b[0m\n\u001b[0;32m--> 121\u001b[0;31m         \u001b[0mself\u001b[0m\u001b[0;34m.\u001b[0m\u001b[0mclean_fields\u001b[0m\u001b[0;34m(\u001b[0m\u001b[0;34m)\u001b[0m\u001b[0;34m\u001b[0m\u001b[0;34m\u001b[0m\u001b[0m\n\u001b[0m\u001b[1;32m    122\u001b[0m         \u001b[0mself\u001b[0m\u001b[0;34m.\u001b[0m\u001b[0mcountry_summary\u001b[0m\u001b[0;34m[\u001b[0m\u001b[0;34m'Value per unit'\u001b[0m\u001b[0;34m]\u001b[0m \u001b[0;34m=\u001b[0m \u001b[0mself\u001b[0m\u001b[0;34m.\u001b[0m\u001b[0mcountry_summary\u001b[0m\u001b[0;34m[\u001b[0m\u001b[0;34m'Trade Value (US$)'\u001b[0m\u001b[0;34m]\u001b[0m \u001b[0;34m/\u001b[0m \u001b[0mself\u001b[0m\u001b[0;34m.\u001b[0m\u001b[0mcountry_summary\u001b[0m\u001b[0;34m[\u001b[0m\u001b[0;34m'Qty'\u001b[0m\u001b[0;34m]\u001b[0m\u001b[0;34m\u001b[0m\u001b[0;34m\u001b[0m\u001b[0m\n\u001b[1;32m    123\u001b[0m         \u001b[0mself\u001b[0m\u001b[0;34m.\u001b[0m\u001b[0mcountry_flows\u001b[0m\u001b[0;34m[\u001b[0m\u001b[0;34m'Value per unit'\u001b[0m\u001b[0;34m]\u001b[0m \u001b[0;34m=\u001b[0m \u001b[0mself\u001b[0m\u001b[0;34m.\u001b[0m\u001b[0mcountry_flows\u001b[0m\u001b[0;34m[\u001b[0m\u001b[0;34m'Trade Value (US$)'\u001b[0m\u001b[0;34m]\u001b[0m \u001b[0;34m/\u001b[0m \u001b[0mself\u001b[0m\u001b[0;34m.\u001b[0m\u001b[0mcountry_flows\u001b[0m\u001b[0;34m[\u001b[0m\u001b[0;34m'Qty'\u001b[0m\u001b[0;34m]\u001b[0m\u001b[0;34m\u001b[0m\u001b[0;34m\u001b[0m\u001b[0m\n",
      "\u001b[0;32m~/Code/INFRA_SAP/infrasap/process_flows.py\u001b[0m in \u001b[0;36mclean_fields\u001b[0;34m(self)\u001b[0m\n\u001b[1;32m    158\u001b[0m         '''\n\u001b[1;32m    159\u001b[0m         \u001b[0;31m#Convert geometry columns to text\u001b[0m\u001b[0;34m\u001b[0m\u001b[0;34m\u001b[0m\u001b[0;34m\u001b[0m\u001b[0m\n\u001b[0;32m--> 160\u001b[0;31m         \u001b[0mself\u001b[0m\u001b[0;34m.\u001b[0m\u001b[0mcountry_flows\u001b[0m\u001b[0;34m[\u001b[0m\u001b[0;34m'Reporter_Pt'\u001b[0m\u001b[0;34m]\u001b[0m \u001b[0;34m=\u001b[0m \u001b[0mself\u001b[0m\u001b[0;34m.\u001b[0m\u001b[0mcountry_flows\u001b[0m\u001b[0;34m[\u001b[0m\u001b[0;34m'Reporter_Pt'\u001b[0m\u001b[0;34m]\u001b[0m\u001b[0;34m.\u001b[0m\u001b[0mapply\u001b[0m\u001b[0;34m(\u001b[0m\u001b[0mstr\u001b[0m\u001b[0;34m)\u001b[0m\u001b[0;34m\u001b[0m\u001b[0;34m\u001b[0m\u001b[0m\n\u001b[0m\u001b[1;32m    161\u001b[0m         \u001b[0mself\u001b[0m\u001b[0;34m.\u001b[0m\u001b[0mcountry_flows\u001b[0m\u001b[0;34m[\u001b[0m\u001b[0;34m'Partner_Pt'\u001b[0m\u001b[0;34m]\u001b[0m \u001b[0;34m=\u001b[0m \u001b[0mself\u001b[0m\u001b[0;34m.\u001b[0m\u001b[0mcountry_flows\u001b[0m\u001b[0;34m[\u001b[0m\u001b[0;34m'Partner_Pt'\u001b[0m\u001b[0;34m]\u001b[0m\u001b[0;34m.\u001b[0m\u001b[0mapply\u001b[0m\u001b[0;34m(\u001b[0m\u001b[0mstr\u001b[0m\u001b[0;34m)\u001b[0m\u001b[0;34m\u001b[0m\u001b[0;34m\u001b[0m\u001b[0m\n\u001b[1;32m    162\u001b[0m \u001b[0;34m\u001b[0m\u001b[0m\n",
      "\u001b[0;31mAttributeError\u001b[0m: 'comtrade_flow' object has no attribute 'country_flows'"
     ]
    }
   ],
   "source": [
    "oil_flows.save_simple_layers(\"/home/wb411133/data/Projects/INFRA/FLOWS/OIL_CRUDE_ONLY_2021/GEOJSON\", \"GEOJSON\")"
   ]
  },
  {
   "cell_type": "code",
   "execution_count": null,
   "metadata": {},
   "outputs": [],
   "source": [
    "importlib.reload(process_flows)\n",
    "\n",
    "for file_def in [\n",
    "                #[input_file_energy, \"Energy\", []],\n",
    "                #[input_file_coal, \"Coal\", []],\n",
    "                [input_file_oil, \"Oil\", []],\n",
    "                #[input_file_gas, \"Gas\", []]\n",
    "                ]:\n",
    "    print(file_def[1])\n",
    "    in_file = file_def[0]\n",
    "    commodity = file_def[1]\n",
    "    coal_flows = process_flows.comtrade_flow(in_file, commodity)\n",
    "    #coal_flows.initialize(file_def[2], inB)\n",
    "    #coal_flows.save_simple_layers(\"/home/wb411133/data/Projects/INFRA/FLOWS/%s/GEOJSON\" % commodity, \"GEOJSON\")"
   ]
  },
  {
   "cell_type": "code",
   "execution_count": null,
   "metadata": {},
   "outputs": [],
   "source": [
    "coal_flows.initialize?"
   ]
  },
  {
   "cell_type": "code",
   "execution_count": null,
   "metadata": {},
   "outputs": [],
   "source": [
    "importlib.reload(process_flows)\n",
    "base_out_folder = \"/home/wb411133/data/Projects/INFRA/FLOWS\"\n",
    "data_res = {}\n",
    "for file_def in [\n",
    "                 [input_file_energy, \"Energy\", [3]],\n",
    "                 [input_file_coal, \"Coal\", [8]],\n",
    "                 #[input_file_gas, \"Gas\", [8,1]],\n",
    "                 #[input_file_oil, \"Oil\", [8]]\n",
    "                ]:\n",
    "    print(\"Processing %s\" % file_def[1])\n",
    "    data_flows = process_flows.comtrade_flow(file_def[0], file_def[1])\n",
    "    data_flows.initialize(file_def[2], inB)\n",
    "    select_folder = os.path.join(base_out_folder, file_def[1])\n",
    "    for file_type in [\"SHP\"]:\n",
    "        out_folder = os.path.join(select_folder, file_type)\n",
    "        data_flows.save(out_folder, file_type)    \n",
    "    data_res[file_def[1]] = data_flows"
   ]
  },
  {
   "cell_type": "markdown",
   "metadata": {},
   "source": [
    "# Processing airport data from Heinrich"
   ]
  },
  {
   "cell_type": "code",
   "execution_count": null,
   "metadata": {},
   "outputs": [],
   "source": [
    "airport_flows = \"/home/wb411133/data/Projects/INFRA/FLOWS/Airport_Volume.csv\"\n",
    "\n",
    "inD = pd.read_csv(airport_flows)\n",
    "#inD.drop(['Country Name', 'Country Name.1'], axis=1, inplace=True)"
   ]
  },
  {
   "cell_type": "code",
   "execution_count": null,
   "metadata": {},
   "outputs": [],
   "source": [
    "inD.head()"
   ]
  },
  {
   "cell_type": "code",
   "execution_count": null,
   "metadata": {},
   "outputs": [],
   "source": [
    "# extract airport locations\n",
    "inD_grouped = inD.groupby(['Orig','Year'])\n",
    "d = {'Name':'first','TotalSeats':'sum', \"Country Name\":\"first\",\"Airport1Latitude\":'first', \"Airport1Longitude\":'first'}\n",
    "airport_locations = inD_grouped.agg(d)\n",
    "airport_locations.head()"
   ]
  },
  {
   "cell_type": "code",
   "execution_count": null,
   "metadata": {},
   "outputs": [],
   "source": [
    "airport_locations = airport_locations.groupby(level=0).last()\n",
    "airport_locations.head()"
   ]
  },
  {
   "cell_type": "code",
   "execution_count": null,
   "metadata": {},
   "outputs": [],
   "source": [
    "airport_locations.to_csv(airport_flows.replace(\".csv\", \"_airport_locations.csv\"))"
   ]
  },
  {
   "cell_type": "code",
   "execution_count": null,
   "metadata": {},
   "outputs": [],
   "source": [
    "#Calculate out_flows\n",
    "d = {'TotalSeats':'sum'}\n",
    "inD_grouped = inD.groupby(['Country1', \"Year\"])\n",
    "out_flows = inD_grouped.agg(d).reset_index()\n",
    "\n",
    "#Calculate in_flows\n",
    "d = {'TotalSeats':'sum'}\n",
    "inD_grouped = inD.groupby(['Country2', \"Year\"])\n",
    "in_flows = inD_grouped.agg(d)\n",
    "\n",
    "in_flows = in_flows['TotalSeats'].unstack().reset_index()"
   ]
  },
  {
   "cell_type": "code",
   "execution_count": null,
   "metadata": {},
   "outputs": [],
   "source": [
    "def get_data(x):\n",
    "    x = [y for y in x[2:] if not np.isnan(y)]\n",
    "    return(x[-1])\n",
    "in_flows['CURRENT'] = in_flows.apply(get_data, axis=1)\n",
    "in_flows.shape"
   ]
  },
  {
   "cell_type": "markdown",
   "metadata": {},
   "source": [
    "# Calculate airport and port flows"
   ]
  },
  {
   "cell_type": "code",
   "execution_count": null,
   "metadata": {},
   "outputs": [],
   "source": [
    "port_data = \"/home/public/Data/GLOBAL/INFRA/PORTS/Port_flow_data_Q22020.csv\"\n",
    "port_locations = \"/home/public/Data/GLOBAL/INFRA/PORTS/attributed_ports.shp\"\n",
    "airport_data = \"/home/wb411133/data/Projects/INFRA/FLOWS/Airport_Volume.csv\"\n",
    "\n",
    "inP = pd.read_csv(port_data)\n",
    "inP_loc = gpd.read_file(port_locations)\n",
    "inA = pd.read_csv(airport_data)\n",
    "# For the simplest version, we are only calculating flows for 2017\n",
    "inA = inA.loc[inA['Year'] == 2019]"
   ]
  },
  {
   "cell_type": "code",
   "execution_count": null,
   "metadata": {},
   "outputs": [],
   "source": [
    "agg = {'Name':'first','NAme':'first','Country1':'first','Country2':'first','TotalSeats':'sum',\"Country Name\":\"first\",\"Airport1Latitude\":'first', \"Airport1Longitude\":'first',\"Airport2Latitude\":'first', \"Airport2Longitude\":'first'}\n",
    "inA_g = inA.groupby(['Orig','Dest'])\n",
    "inA_g = inA_g.agg(agg).reset_index()\n",
    "geoms = inA_g.apply(lambda x: LineString([Point(x['Airport1Longitude'], x['Airport1Latitude']),\n",
    "                                         Point(x['Airport2Longitude'], x['Airport2Latitude'])]), axis=1)\n",
    "inA_g = gpd.GeoDataFrame(inA_g, geometry=geoms, crs={'init':'epsg:4326'})\n"
   ]
  },
  {
   "cell_type": "code",
   "execution_count": null,
   "metadata": {},
   "outputs": [],
   "source": [
    "inA_g.head()"
   ]
  },
  {
   "cell_type": "code",
   "execution_count": null,
   "metadata": {},
   "outputs": [],
   "source": [
    "inA_g.to_file(\"/home/wb411133/temp/airport_flows.shp\")"
   ]
  },
  {
   "cell_type": "code",
   "execution_count": null,
   "metadata": {},
   "outputs": [],
   "source": [
    "# attribute port flows\n",
    "agg = {'Quarterly deployed capacity (TEU)':'sum'}\n",
    "inP_g = inP.groupby([\"Port1\",\"Port2\"])\n",
    "inP_flows = inP_g.agg(agg).reset_index()"
   ]
  },
  {
   "cell_type": "code",
   "execution_count": null,
   "metadata": {},
   "outputs": [],
   "source": [
    "inP_geoms = inP_flows.merge(inP_loc.loc[:,['LOCODE','geometry']], left_on=\"Port1\", right_on=\"LOCODE\")\n",
    "inP_geoms.columns = ['Port1','Port2','FLOWS','LOCODE_1','PT_1']\n",
    "inP_geoms = inP_geoms.merge(inP_loc.loc[:,['LOCODE','geometry']], left_on=\"Port2\", right_on=\"LOCODE\")\n",
    "inP_geoms.columns = ['Port1','Port2','FLOWS','LOCODE_1','PT_1','LOCODE_2','PT_2']\n",
    "inP_geoms.drop(['LOCODE_1',\"LOCODE_2\"], axis=1, inplace=True)\n",
    "inP_geoms.head()"
   ]
  },
  {
   "cell_type": "code",
   "execution_count": null,
   "metadata": {},
   "outputs": [],
   "source": [
    "sindex = inB.sindex"
   ]
  },
  {
   "cell_type": "code",
   "execution_count": null,
   "metadata": {},
   "outputs": [],
   "source": [
    "inB.loc[list(sindex.nearest([inP_geoms['PT_1'].iloc[0].x, inP_geoms['PT_1'].iloc[0].y]))[0]]['ISO3']"
   ]
  },
  {
   "cell_type": "code",
   "execution_count": null,
   "metadata": {},
   "outputs": [],
   "source": [
    "# attribute port flows with origin and destination country\n",
    "#inP_geoms['Country1'] = inP_geoms['PT_1'].apply(lambda x: inB.loc[list(sindex.nearest([x.x, x.y]))[0]]['ISO3'])\n",
    "#inP_geoms['Country2'] = inP_geoms['PT_2'].apply(lambda x: inB.loc[list(sindex.nearest([x.x, x.y]))[0]]['ISO3'])\n",
    "inP_geoms['Country1'] = inP_geoms['Port1'].apply(lambda x: x[:2])\n",
    "inP_geoms['Country2'] = inP_geoms['Port2'].apply(lambda x: x[:2])\n",
    "inP_geoms.head()"
   ]
  },
  {
   "cell_type": "code",
   "execution_count": null,
   "metadata": {},
   "outputs": [],
   "source": [
    "flow_geoms = inP_geoms.apply(lambda x: LineString([x['PT_1'], x['PT_2']]), axis=1)\n",
    "inP_geoms = gpd.GeoDataFrame(inP_geoms, geometry=flow_geoms, crs={'init':'epsg:4326'})\n",
    "inP_geoms.drop([\"PT_1\",\"PT_2\"], axis=1).to_file(\"/home/wb411133/temp/port_flows.shp\")"
   ]
  },
  {
   "cell_type": "code",
   "execution_count": null,
   "metadata": {},
   "outputs": [],
   "source": []
  },
  {
   "cell_type": "code",
   "execution_count": null,
   "metadata": {},
   "outputs": [],
   "source": []
  }
 ],
 "metadata": {
  "kernelspec": {
   "display_name": "Python (geog)",
   "language": "python",
   "name": "geog"
  },
  "language_info": {
   "codemirror_mode": {
    "name": "ipython",
    "version": 3
   },
   "file_extension": ".py",
   "mimetype": "text/x-python",
   "name": "python",
   "nbconvert_exporter": "python",
   "pygments_lexer": "ipython3",
   "version": "3.7.1"
  }
 },
 "nbformat": 4,
 "nbformat_minor": 2
}
