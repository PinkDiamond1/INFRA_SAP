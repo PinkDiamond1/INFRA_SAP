{
 "cells": [
  {
   "cell_type": "markdown",
   "metadata": {},
   "source": [
    "# Processing COMTRADE flow data\n",
    "\n",
    "This script attempts to process the COMTRADEflow data for energy, coal, oil and gas. The goal is to extract the import, export, and flow data as geospatial information: the tools for which are found in the infra_tools library"
   ]
  },
  {
   "cell_type": "code",
   "execution_count": null,
   "metadata": {},
   "outputs": [],
   "source": [
    "import sys, os, importlib\n",
    "\n",
    "import pandas as pd\n",
    "import geopandas as gpd\n",
    "\n",
    "sys.path.append('../')\n",
    "\n",
    "from infra_tools import process_flows"
   ]
  },
  {
   "cell_type": "code",
   "execution_count": null,
   "metadata": {},
   "outputs": [],
   "source": [
    "input_file_energy = \"/home/wb411133/data/Projects/INFRA/FLOWS/UN_comtrade_energy_flows.csv\"\n",
    "input_file_coal = \"/home/wb411133/data/Projects/INFRA/FLOWS/UN_comtrade_coal_flows.csv\"\n",
    "input_file_gas = \"/home/wb411133/data/Projects/INFRA/FLOWS/UN_comtrade_gas_flows.csv\"\n",
    "input_file_oil = \"/home/wb411133/data/Projects/INFRA/FLOWS/UN_comtrade_oil_flows.csv\"\n",
    "out_folder = \"\"\n",
    "global_boundaries = \"/home/wb411133/data/Projects/INFRA/FLOWS/national_centroids.shp\"\n",
    "\n",
    "inB = gpd.read_file(global_boundaries)\n",
    "if inB.crs != {'init':'epsg:4326'}:\n",
    "    inB = inB.to_crs({'init':'epsg:4326'})\n",
    "\n"
   ]
  },
  {
   "cell_type": "code",
   "execution_count": null,
   "metadata": {},
   "outputs": [],
   "source": [
    "importlib.reload(process_flows)\n",
    "energy_flows = process_flows.comtrade_flow(input_file_energy, \"Energy\")\n",
    "energy_flows.initialize([3], inB)\n",
    "energy_flows.save(\"/home/wb411133/data/Projects/INFRA/FLOWS/ENERGY/CSV\", \"CSV\")\n",
    "energy_flows.save(\"/home/wb411133/data/Projects/INFRA/FLOWS/ENERGY/SHP\", \"SHP\")"
   ]
  },
  {
   "cell_type": "code",
   "execution_count": null,
   "metadata": {},
   "outputs": [],
   "source": [
    "data_flows.raw_data.columns"
   ]
  },
  {
   "cell_type": "code",
   "execution_count": null,
   "metadata": {},
   "outputs": [],
   "source": [
    "data_flows = process_flows.comtrade_flow(file_def[0], file_def[1])\n",
    "data_flows.initialize(file_def[2], inB)\n",
    "    "
   ]
  },
  {
   "cell_type": "code",
   "execution_count": null,
   "metadata": {},
   "outputs": [],
   "source": [
    "data_res = {}"
   ]
  },
  {
   "cell_type": "code",
   "execution_count": null,
   "metadata": {},
   "outputs": [],
   "source": [
    "importlib.reload(process_flows)\n",
    "base_out_folder = \"/home/wb411133/data/Projects/INFRA/FLOWS\"\n",
    "\n",
    "for file_def in [\n",
    "                 [input_file_energy, \"Energy\", [3]],\n",
    "                 [input_file_coal, \"Coal\", [8]],\n",
    "                 #[input_file_gas, \"Gas\", [8,1]],\n",
    "                 #[input_file_oil, \"Oil\", [8]]\n",
    "                ]:\n",
    "    print(\"Processing %s\" % file_def[1])\n",
    "    data_flows = process_flows.comtrade_flow(file_def[0], file_def[1])\n",
    "    data_flows.initialize(file_def[2], inB)\n",
    "    select_folder = os.path.join(base_out_folder, file_def[1])\n",
    "    for file_type in [\"SHP\"]:\n",
    "        out_folder = os.path.join(select_folder, file_type)\n",
    "        data_flows.save(out_folder, file_type)    \n",
    "    data_res[file_def[1]] = data_flows"
   ]
  },
  {
   "cell_type": "code",
   "execution_count": null,
   "metadata": {},
   "outputs": [],
   "source": [
    "data_res.keys()"
   ]
  },
  {
   "cell_type": "code",
   "execution_count": null,
   "metadata": {},
   "outputs": [],
   "source": []
  },
  {
   "cell_type": "markdown",
   "metadata": {},
   "source": [
    "# Bullshit below\n"
   ]
  },
  {
   "cell_type": "code",
   "execution_count": null,
   "metadata": {},
   "outputs": [],
   "source": [
    "inD = data_res['Energy']\n",
    "from_pt = inD.complete_data.loc[1,]\n",
    "from_pt['Reporter_Pt']"
   ]
  },
  {
   "cell_type": "code",
   "execution_count": null,
   "metadata": {},
   "outputs": [],
   "source": [
    "\n",
    "def generate_great_circle(from_pt, to_pt, interim_steps=15):\n",
    "    '''\n",
    "    '''\n",
    "    geod = Geodesic.WGS84\n",
    "    g = geod.Inverse(from_pt.x, from_pt.y, to_pt.x, to_pt.y)\n",
    "    l = geod.Line(g['lat1'], g['lon1'], g['azi1'])\n",
    "    num = interim_steps  # 15 intermediate steps\n",
    "    list_of_points = [from_pt]\n",
    "    for i in range(num+1):\n",
    "        pos = l.Position(i * g['s12'] / num)\n",
    "        list_of_points.append(Point(pos['lat2'], pos['lon2']))\n",
    "    list_of_points.append(to_pt)\n",
    "    return(LineString(list_of_points))\n",
    "\n",
    "generate_great_circle(from_pt['Reporter_Pt'], from_pt['Partner_Pt'])"
   ]
  },
  {
   "cell_type": "code",
   "execution_count": null,
   "metadata": {},
   "outputs": [],
   "source": [
    "importlib.reload(process_flows)\n",
    "file_def = [input_file_energy, \"Energy\", [3]]\n",
    "data_flows = process_flows.comtrade_flow(file_def[0], file_def[1])\n",
    "data_flows.initialize(file_def[2], inB, line_type='great')\n",
    "data_flows.save(\"/home/wb411133/data/Projects/INFRA/FLOWS/ENERGY/SHP\", \"SHP\")"
   ]
  },
  {
   "cell_type": "code",
   "execution_count": null,
   "metadata": {},
   "outputs": [],
   "source": [
    "data_flows.country_flows.head()"
   ]
  },
  {
   "cell_type": "code",
   "execution_count": null,
   "metadata": {},
   "outputs": [],
   "source": [
    "importlib.reload(process_flows)\n",
    "data_flows.country_flows['geometry'] = data_flows.country_flows.apply(lambda x:process_flows.generate_great_circle(x['Reporter_Pt'], x['Partner_Pt']), axis=1)\n",
    "data_flows.country_flows.head()"
   ]
  },
  {
   "cell_type": "code",
   "execution_count": null,
   "metadata": {},
   "outputs": [],
   "source": []
  },
  {
   "cell_type": "code",
   "execution_count": null,
   "metadata": {},
   "outputs": [],
   "source": [
    "for key, value in data_res.items():\n",
    "    print(key)\n",
    "    print(value.raw_data['Commodity'].value_counts())"
   ]
  },
  {
   "cell_type": "code",
   "execution_count": null,
   "metadata": {},
   "outputs": [],
   "source": [
    "curD.raw_data['Commodity'].value_counts()"
   ]
  },
  {
   "cell_type": "code",
   "execution_count": null,
   "metadata": {},
   "outputs": [],
   "source": []
  },
  {
   "cell_type": "code",
   "execution_count": null,
   "metadata": {},
   "outputs": [],
   "source": []
  },
  {
   "cell_type": "code",
   "execution_count": null,
   "metadata": {},
   "outputs": [],
   "source": [
    "inB['geometry'] = inB['geometry'].apply(lambda x: x.centroid)\n",
    "inB.to_file(\"/home/wb411133/data/Projects/INFRA/FLOWS/national_centroids.shp\")"
   ]
  },
  {
   "cell_type": "code",
   "execution_count": null,
   "metadata": {},
   "outputs": [],
   "source": [
    "#Assign origin and destination centroids\n",
    "def get_centroid(iso,boundaries):\n",
    "    try:\n",
    "        selected_country = boundaries.loc[boundaries['ISO3'] == iso]\n",
    "        if selected_country.shape[0] == 1:\n",
    "            return(selected_country.iloc[0]['geometry'].centroid)\n",
    "        elif selected_country.shape[0] > 1:\n",
    "            selected_country = selected_country.sort_values('Shape_Area', ascending=False)\n",
    "            return(selected_country.iloc[0]['geometry'].centroid)\n",
    "        else:\n",
    "            return(None)\n",
    "    except:\n",
    "        return(None)\n",
    "#get_centroid('LSO', inB)\n",
    "inD['Reporter_Pt'] = inD['Reporter ISO'].apply(lambda x: get_centroid(x, inB))\n",
    "inD['Partner_Pt'] = inD['Partner ISO'].apply(lambda x: get_centroid(x, inB))"
   ]
  },
  {
   "cell_type": "code",
   "execution_count": null,
   "metadata": {},
   "outputs": [],
   "source": [
    "selected_D = inD.loc[:,good_columns]\n",
    "country_flows = selected_D.loc[selected_D['Partner ISO'] != \"WLD\"]\n",
    "country_summary = selected_D.loc[selected_D['Partner ISO'] == \"WLD\"]"
   ]
  },
  {
   "cell_type": "code",
   "execution_count": null,
   "metadata": {},
   "outputs": [],
   "source": [
    "country_summary.sort_values(['Reporter ISO'])\n",
    "country_summary.reset_index(inplace=True)\n",
    "country_summary.to_csv(os.path.join(out_folder, \"Country_Summaries.csv\"))"
   ]
  },
  {
   "cell_type": "code",
   "execution_count": null,
   "metadata": {},
   "outputs": [],
   "source": [
    "from shapely.geometry import LineString\n",
    "\n",
    "def generate_line_string(row):\n",
    "    try:\n",
    "        if row['Trade Flow'] == \"Export\":\n",
    "            return(LineString([row['Reporter_Pt'], row['Partner_Pt']]))\n",
    "        else:\n",
    "            return(LineString([row['Partner_Pt'], row['Reporter_Pt']]))\n",
    "    except:\n",
    "        print(row)\n",
    "        return(None)\n",
    "country_flows['geometry'] = country_flows.apply(lambda x: generate_line_string(x), axis=1)\n",
    "country_flows.to_csv(os.path.join(out_folder, \"Country_Flows.csv\"))"
   ]
  },
  {
   "cell_type": "code",
   "execution_count": null,
   "metadata": {},
   "outputs": [],
   "source": []
  },
  {
   "cell_type": "code",
   "execution_count": null,
   "metadata": {},
   "outputs": [],
   "source": []
  }
 ],
 "metadata": {
  "kernelspec": {
   "display_name": "Python (geog)",
   "language": "python",
   "name": "geog"
  },
  "language_info": {
   "codemirror_mode": {
    "name": "ipython",
    "version": 3
   },
   "file_extension": ".py",
   "mimetype": "text/x-python",
   "name": "python",
   "nbconvert_exporter": "python",
   "pygments_lexer": "ipython3",
   "version": "3.7.1"
  }
 },
 "nbformat": 4,
 "nbformat_minor": 2
}
