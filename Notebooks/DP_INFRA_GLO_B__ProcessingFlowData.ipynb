{
 "cells": [
  {
   "cell_type": "markdown",
   "metadata": {},
   "source": [
    "# Processing COMTRADE flow data\n",
    "\n",
    "This script attempts to process the COMTRADEflow data for energy, coal, oil and gas. The goal is to extract the import, export, and flow data as geospatial information: the tools for which are found in the infra_tools library"
   ]
  },
  {
   "cell_type": "code",
   "execution_count": 34,
   "metadata": {},
   "outputs": [],
   "source": [
    "import sys, os, importlib\n",
    "\n",
    "import pandas as pd\n",
    "import geopandas as gpd\n",
    "import numpy as np\n",
    "\n",
    "sys.path.append('../')\n",
    "\n",
    "from infrasap import process_flows"
   ]
  },
  {
   "cell_type": "code",
   "execution_count": null,
   "metadata": {},
   "outputs": [],
   "source": [
    "input_file_energy = \"/home/wb411133/data/Projects/INFRA/FLOWS/UN_comtrade_energy_flows.csv\"\n",
    "input_file_coal = \"/home/wb411133/data/Projects/INFRA/FLOWS/UN_comtrade_coal_flows.csv\"\n",
    "input_file_gas = \"/home/wb411133/data/Projects/INFRA/FLOWS/UN_comtrade_gas_flows.csv\"\n",
    "input_file_oil = \"/home/wb411133/data/Projects/INFRA/FLOWS/UN_comtrade_oil_flows.csv\"\n",
    "out_folder = \"\"\n",
    "global_boundaries = \"/home/wb411133/data/Projects/INFRA/FLOWS/national_centroids.shp\"\n",
    "\n",
    "inB = gpd.read_file(global_boundaries)\n",
    "if inB.crs != {'init':'epsg:4326'}:\n",
    "    inB = inB.to_crs({'init':'epsg:4326'})\n",
    "\n"
   ]
  },
  {
   "cell_type": "code",
   "execution_count": null,
   "metadata": {},
   "outputs": [],
   "source": [
    "importlib.reload(process_flows)\n",
    "energy_flows = process_flows.comtrade_flow(input_file_energy, \"Energy\")\n",
    "energy_flows.initialize([3], inB)\n",
    "energy_flows.save(\"/home/wb411133/data/Projects/INFRA/FLOWS/ENERGY/CSV\", \"CSV\")\n",
    "energy_flows.save(\"/home/wb411133/data/Projects/INFRA/FLOWS/ENERGY/SHP\", \"SHP\")"
   ]
  },
  {
   "cell_type": "code",
   "execution_count": null,
   "metadata": {},
   "outputs": [],
   "source": [
    "data_flows.raw_data.columns"
   ]
  },
  {
   "cell_type": "code",
   "execution_count": null,
   "metadata": {},
   "outputs": [],
   "source": [
    "data_flows = process_flows.comtrade_flow(file_def[0], file_def[1])\n",
    "data_flows.initialize(file_def[2], inB)\n",
    "    "
   ]
  },
  {
   "cell_type": "code",
   "execution_count": null,
   "metadata": {},
   "outputs": [],
   "source": [
    "data_res = {}"
   ]
  },
  {
   "cell_type": "code",
   "execution_count": null,
   "metadata": {},
   "outputs": [],
   "source": [
    "importlib.reload(process_flows)\n",
    "base_out_folder = \"/home/wb411133/data/Projects/INFRA/FLOWS\"\n",
    "\n",
    "for file_def in [\n",
    "                 [input_file_energy, \"Energy\", [3]],\n",
    "                 [input_file_coal, \"Coal\", [8]],\n",
    "                 #[input_file_gas, \"Gas\", [8,1]],\n",
    "                 #[input_file_oil, \"Oil\", [8]]\n",
    "                ]:\n",
    "    print(\"Processing %s\" % file_def[1])\n",
    "    data_flows = process_flows.comtrade_flow(file_def[0], file_def[1])\n",
    "    data_flows.initialize(file_def[2], inB)\n",
    "    select_folder = os.path.join(base_out_folder, file_def[1])\n",
    "    for file_type in [\"SHP\"]:\n",
    "        out_folder = os.path.join(select_folder, file_type)\n",
    "        data_flows.save(out_folder, file_type)    \n",
    "    data_res[file_def[1]] = data_flows"
   ]
  },
  {
   "cell_type": "code",
   "execution_count": null,
   "metadata": {},
   "outputs": [],
   "source": [
    "data_res.keys()"
   ]
  },
  {
   "cell_type": "code",
   "execution_count": null,
   "metadata": {},
   "outputs": [],
   "source": []
  },
  {
   "cell_type": "code",
   "execution_count": null,
   "metadata": {},
   "outputs": [],
   "source": []
  },
  {
   "cell_type": "code",
   "execution_count": null,
   "metadata": {},
   "outputs": [],
   "source": []
  },
  {
   "cell_type": "markdown",
   "metadata": {},
   "source": [
    "# Processing airport data from Heinrich"
   ]
  },
  {
   "cell_type": "code",
   "execution_count": 85,
   "metadata": {},
   "outputs": [
    {
     "data": {
      "text/html": [
       "<div>\n",
       "<style scoped>\n",
       "    .dataframe tbody tr th:only-of-type {\n",
       "        vertical-align: middle;\n",
       "    }\n",
       "\n",
       "    .dataframe tbody tr th {\n",
       "        vertical-align: top;\n",
       "    }\n",
       "\n",
       "    .dataframe thead th {\n",
       "        text-align: right;\n",
       "    }\n",
       "</style>\n",
       "<table border=\"1\" class=\"dataframe\">\n",
       "  <thead>\n",
       "    <tr style=\"text-align: right;\">\n",
       "      <th></th>\n",
       "      <th>Orig</th>\n",
       "      <th>Country Name</th>\n",
       "      <th>Name</th>\n",
       "      <th>Dest</th>\n",
       "      <th>Country Name.1</th>\n",
       "      <th>NAme</th>\n",
       "      <th>Year</th>\n",
       "      <th>Country1</th>\n",
       "      <th>Country2</th>\n",
       "      <th>TotalSeats</th>\n",
       "      <th>Airport1Latitude</th>\n",
       "      <th>Airport1Longitude</th>\n",
       "      <th>Airport2Latitude</th>\n",
       "      <th>Airport2Longitude</th>\n",
       "    </tr>\n",
       "  </thead>\n",
       "  <tbody>\n",
       "    <tr>\n",
       "      <th>0</th>\n",
       "      <td>GYD</td>\n",
       "      <td>Azerbaijan</td>\n",
       "      <td>Heydar Aliyev</td>\n",
       "      <td>KBL</td>\n",
       "      <td>Afghanistan</td>\n",
       "      <td>Kabul International</td>\n",
       "      <td>2005</td>\n",
       "      <td>Afghanistan</td>\n",
       "      <td>Azerbaijan</td>\n",
       "      <td>2955.106</td>\n",
       "      <td>40.466599</td>\n",
       "      <td>50.052502</td>\n",
       "      <td>34.563900</td>\n",
       "      <td>69.213898</td>\n",
       "    </tr>\n",
       "    <tr>\n",
       "      <th>1</th>\n",
       "      <td>KBL</td>\n",
       "      <td>Afghanistan</td>\n",
       "      <td>Kabul International</td>\n",
       "      <td>GYD</td>\n",
       "      <td>Azerbaijan</td>\n",
       "      <td>Heydar Aliyev</td>\n",
       "      <td>2005</td>\n",
       "      <td>Afghanistan</td>\n",
       "      <td>Azerbaijan</td>\n",
       "      <td>2955.106</td>\n",
       "      <td>34.563900</td>\n",
       "      <td>69.213898</td>\n",
       "      <td>40.466599</td>\n",
       "      <td>50.052502</td>\n",
       "    </tr>\n",
       "    <tr>\n",
       "      <th>2</th>\n",
       "      <td>KBL</td>\n",
       "      <td>Afghanistan</td>\n",
       "      <td>Kabul International</td>\n",
       "      <td>URC</td>\n",
       "      <td>China</td>\n",
       "      <td>Diwopu International</td>\n",
       "      <td>2005</td>\n",
       "      <td>Afghanistan</td>\n",
       "      <td>China</td>\n",
       "      <td>597.954</td>\n",
       "      <td>34.563900</td>\n",
       "      <td>69.213898</td>\n",
       "      <td>43.906898</td>\n",
       "      <td>87.474098</td>\n",
       "    </tr>\n",
       "    <tr>\n",
       "      <th>3</th>\n",
       "      <td>URC</td>\n",
       "      <td>China</td>\n",
       "      <td>Diwopu International</td>\n",
       "      <td>KBL</td>\n",
       "      <td>Afghanistan</td>\n",
       "      <td>Kabul International</td>\n",
       "      <td>2005</td>\n",
       "      <td>Afghanistan</td>\n",
       "      <td>China</td>\n",
       "      <td>597.954</td>\n",
       "      <td>43.906898</td>\n",
       "      <td>87.474098</td>\n",
       "      <td>34.563900</td>\n",
       "      <td>69.213898</td>\n",
       "    </tr>\n",
       "    <tr>\n",
       "      <th>4</th>\n",
       "      <td>DEL</td>\n",
       "      <td>India</td>\n",
       "      <td>Indira Gandhi Intl</td>\n",
       "      <td>KBL</td>\n",
       "      <td>Afghanistan</td>\n",
       "      <td>Kabul International</td>\n",
       "      <td>2005</td>\n",
       "      <td>Afghanistan</td>\n",
       "      <td>India</td>\n",
       "      <td>3457.734</td>\n",
       "      <td>28.573601</td>\n",
       "      <td>77.100800</td>\n",
       "      <td>34.563900</td>\n",
       "      <td>69.213898</td>\n",
       "    </tr>\n",
       "  </tbody>\n",
       "</table>\n",
       "</div>"
      ],
      "text/plain": [
       "  Orig Country Name                  Name Dest Country Name.1  \\\n",
       "0  GYD   Azerbaijan         Heydar Aliyev  KBL    Afghanistan   \n",
       "1  KBL  Afghanistan   Kabul International  GYD     Azerbaijan   \n",
       "2  KBL  Afghanistan   Kabul International  URC          China   \n",
       "3  URC        China  Diwopu International  KBL    Afghanistan   \n",
       "4  DEL        India    Indira Gandhi Intl  KBL    Afghanistan   \n",
       "\n",
       "                   NAme  Year     Country1    Country2  TotalSeats  \\\n",
       "0   Kabul International  2005  Afghanistan  Azerbaijan    2955.106   \n",
       "1         Heydar Aliyev  2005  Afghanistan  Azerbaijan    2955.106   \n",
       "2  Diwopu International  2005  Afghanistan       China     597.954   \n",
       "3   Kabul International  2005  Afghanistan       China     597.954   \n",
       "4   Kabul International  2005  Afghanistan       India    3457.734   \n",
       "\n",
       "   Airport1Latitude  Airport1Longitude  Airport2Latitude  Airport2Longitude  \n",
       "0         40.466599          50.052502         34.563900          69.213898  \n",
       "1         34.563900          69.213898         40.466599          50.052502  \n",
       "2         34.563900          69.213898         43.906898          87.474098  \n",
       "3         43.906898          87.474098         34.563900          69.213898  \n",
       "4         28.573601          77.100800         34.563900          69.213898  "
      ]
     },
     "execution_count": 85,
     "metadata": {},
     "output_type": "execute_result"
    }
   ],
   "source": [
    "airport_flows = \"/home/wb411133/data/Projects/INFRA/FLOWS/Airport_Volume.csv\"\n",
    "\n",
    "inD = pd.read_csv(airport_flows)\n",
    "#inD.drop(['Country Name', 'Country Name.1'], axis=1, inplace=True)\n",
    "inD.head()"
   ]
  },
  {
   "cell_type": "code",
   "execution_count": 86,
   "metadata": {},
   "outputs": [
    {
     "data": {
      "text/html": [
       "<div>\n",
       "<style scoped>\n",
       "    .dataframe tbody tr th:only-of-type {\n",
       "        vertical-align: middle;\n",
       "    }\n",
       "\n",
       "    .dataframe tbody tr th {\n",
       "        vertical-align: top;\n",
       "    }\n",
       "\n",
       "    .dataframe thead th {\n",
       "        text-align: right;\n",
       "    }\n",
       "</style>\n",
       "<table border=\"1\" class=\"dataframe\">\n",
       "  <thead>\n",
       "    <tr style=\"text-align: right;\">\n",
       "      <th></th>\n",
       "      <th></th>\n",
       "      <th>Name</th>\n",
       "      <th>TotalSeats</th>\n",
       "      <th>NAme</th>\n",
       "      <th>Country Name</th>\n",
       "      <th>Airport1Latitude</th>\n",
       "      <th>Airport1Longitude</th>\n",
       "    </tr>\n",
       "    <tr>\n",
       "      <th>Orig</th>\n",
       "      <th>Year</th>\n",
       "      <th></th>\n",
       "      <th></th>\n",
       "      <th></th>\n",
       "      <th></th>\n",
       "      <th></th>\n",
       "      <th></th>\n",
       "    </tr>\n",
       "  </thead>\n",
       "  <tbody>\n",
       "    <tr>\n",
       "      <th>AAA</th>\n",
       "      <th>2016</th>\n",
       "      <td>Anaa</td>\n",
       "      <td>18670.897</td>\n",
       "      <td>Arrabury Airport</td>\n",
       "      <td>French Polynesia</td>\n",
       "      <td>-17.355101</td>\n",
       "      <td>-145.508499</td>\n",
       "    </tr>\n",
       "    <tr>\n",
       "      <th rowspan=\"3\" valign=\"top\">AAB</th>\n",
       "      <th>2010</th>\n",
       "      <td>Arrabury Airport</td>\n",
       "      <td>8250.032</td>\n",
       "      <td>Anaa</td>\n",
       "      <td>Australia</td>\n",
       "      <td>-26.700001</td>\n",
       "      <td>141.041702</td>\n",
       "    </tr>\n",
       "    <tr>\n",
       "      <th>2015</th>\n",
       "      <td>Arrabury Airport</td>\n",
       "      <td>736.610</td>\n",
       "      <td>Anaa</td>\n",
       "      <td>Australia</td>\n",
       "      <td>-26.700001</td>\n",
       "      <td>141.041702</td>\n",
       "    </tr>\n",
       "    <tr>\n",
       "      <th>2016</th>\n",
       "      <td>Arrabury Airport</td>\n",
       "      <td>1308.566</td>\n",
       "      <td>Anaa</td>\n",
       "      <td>Australia</td>\n",
       "      <td>-26.700001</td>\n",
       "      <td>141.041702</td>\n",
       "    </tr>\n",
       "    <tr>\n",
       "      <th>AAC</th>\n",
       "      <th>2006</th>\n",
       "      <td>El Arish International</td>\n",
       "      <td>9974.566</td>\n",
       "      <td>Queen Alia Intl</td>\n",
       "      <td>Egypt</td>\n",
       "      <td>31.076900</td>\n",
       "      <td>33.834099</td>\n",
       "    </tr>\n",
       "  </tbody>\n",
       "</table>\n",
       "</div>"
      ],
      "text/plain": [
       "                             Name  TotalSeats              NAme  \\\n",
       "Orig Year                                                         \n",
       "AAA  2016                    Anaa   18670.897  Arrabury Airport   \n",
       "AAB  2010        Arrabury Airport    8250.032              Anaa   \n",
       "     2015        Arrabury Airport     736.610              Anaa   \n",
       "     2016        Arrabury Airport    1308.566              Anaa   \n",
       "AAC  2006  El Arish International    9974.566   Queen Alia Intl   \n",
       "\n",
       "               Country Name  Airport1Latitude  Airport1Longitude  \n",
       "Orig Year                                                         \n",
       "AAA  2016  French Polynesia        -17.355101        -145.508499  \n",
       "AAB  2010         Australia        -26.700001         141.041702  \n",
       "     2015         Australia        -26.700001         141.041702  \n",
       "     2016         Australia        -26.700001         141.041702  \n",
       "AAC  2006             Egypt         31.076900          33.834099  "
      ]
     },
     "execution_count": 86,
     "metadata": {},
     "output_type": "execute_result"
    }
   ],
   "source": [
    "# extract airport locations\n",
    "inD_grouped = inD.groupby(['Orig','Year'])\n",
    "d = {'Name':'first','TotalSeats':'sum', 'NAme':\"first\",\"Country Name\":\"first\",\"Airport1Latitude\":'first', \"Airport1Longitude\":'first'}\n",
    "airport_locations = inD_grouped.agg(d)\n",
    "airport_locations.head()"
   ]
  },
  {
   "cell_type": "code",
   "execution_count": 87,
   "metadata": {},
   "outputs": [
    {
     "data": {
      "text/html": [
       "<div>\n",
       "<style scoped>\n",
       "    .dataframe tbody tr th:only-of-type {\n",
       "        vertical-align: middle;\n",
       "    }\n",
       "\n",
       "    .dataframe tbody tr th {\n",
       "        vertical-align: top;\n",
       "    }\n",
       "\n",
       "    .dataframe thead th {\n",
       "        text-align: right;\n",
       "    }\n",
       "</style>\n",
       "<table border=\"1\" class=\"dataframe\">\n",
       "  <thead>\n",
       "    <tr style=\"text-align: right;\">\n",
       "      <th></th>\n",
       "      <th>Name</th>\n",
       "      <th>TotalSeats</th>\n",
       "      <th>NAme</th>\n",
       "      <th>Country Name</th>\n",
       "      <th>Airport1Latitude</th>\n",
       "      <th>Airport1Longitude</th>\n",
       "    </tr>\n",
       "    <tr>\n",
       "      <th>Orig</th>\n",
       "      <th></th>\n",
       "      <th></th>\n",
       "      <th></th>\n",
       "      <th></th>\n",
       "      <th></th>\n",
       "      <th></th>\n",
       "    </tr>\n",
       "  </thead>\n",
       "  <tbody>\n",
       "    <tr>\n",
       "      <th>AAA</th>\n",
       "      <td>Anaa</td>\n",
       "      <td>18670.897</td>\n",
       "      <td>Arrabury Airport</td>\n",
       "      <td>French Polynesia</td>\n",
       "      <td>-17.355101</td>\n",
       "      <td>-145.508499</td>\n",
       "    </tr>\n",
       "    <tr>\n",
       "      <th>AAB</th>\n",
       "      <td>Arrabury Airport</td>\n",
       "      <td>1308.566</td>\n",
       "      <td>Anaa</td>\n",
       "      <td>Australia</td>\n",
       "      <td>-26.700001</td>\n",
       "      <td>141.041702</td>\n",
       "    </tr>\n",
       "    <tr>\n",
       "      <th>AAC</th>\n",
       "      <td>El Arish International</td>\n",
       "      <td>1386.560</td>\n",
       "      <td>King Abdulaziz Intl</td>\n",
       "      <td>Egypt</td>\n",
       "      <td>31.076900</td>\n",
       "      <td>33.834099</td>\n",
       "    </tr>\n",
       "    <tr>\n",
       "      <th>AAE</th>\n",
       "      <td>Rabah Bitat</td>\n",
       "      <td>135934.876</td>\n",
       "      <td>Charles De Gaulle</td>\n",
       "      <td>Algeria</td>\n",
       "      <td>36.822201</td>\n",
       "      <td>7.809400</td>\n",
       "    </tr>\n",
       "    <tr>\n",
       "      <th>AAL</th>\n",
       "      <td>Aalborg</td>\n",
       "      <td>338519.958</td>\n",
       "      <td>Burgas</td>\n",
       "      <td>Denmark</td>\n",
       "      <td>57.093102</td>\n",
       "      <td>9.850000</td>\n",
       "    </tr>\n",
       "  </tbody>\n",
       "</table>\n",
       "</div>"
      ],
      "text/plain": [
       "                        Name  TotalSeats                 NAme  \\\n",
       "Orig                                                            \n",
       "AAA                     Anaa   18670.897     Arrabury Airport   \n",
       "AAB         Arrabury Airport    1308.566                 Anaa   \n",
       "AAC   El Arish International    1386.560  King Abdulaziz Intl   \n",
       "AAE              Rabah Bitat  135934.876    Charles De Gaulle   \n",
       "AAL                  Aalborg  338519.958               Burgas   \n",
       "\n",
       "          Country Name  Airport1Latitude  Airport1Longitude  \n",
       "Orig                                                         \n",
       "AAA   French Polynesia        -17.355101        -145.508499  \n",
       "AAB          Australia        -26.700001         141.041702  \n",
       "AAC              Egypt         31.076900          33.834099  \n",
       "AAE            Algeria         36.822201           7.809400  \n",
       "AAL            Denmark         57.093102           9.850000  "
      ]
     },
     "execution_count": 87,
     "metadata": {},
     "output_type": "execute_result"
    }
   ],
   "source": [
    "airport_locations = airport_locations.groupby(level=0).last()\n",
    "airport_locations.head()"
   ]
  },
  {
   "cell_type": "code",
   "execution_count": 88,
   "metadata": {},
   "outputs": [],
   "source": [
    "airport_locations.to_csv(airport_flows.replace(\".csv\", \"_airport_locations.csv\"))"
   ]
  },
  {
   "cell_type": "code",
   "execution_count": 37,
   "metadata": {},
   "outputs": [],
   "source": [
    "#Calculate out_flows\n",
    "d = {'TotalSeats':'sum'}\n",
    "inD_grouped = inD.groupby(['Country1', \"Year\"])\n",
    "out_flows = inD_grouped.agg(d).reset_index()\n",
    "\n",
    "#Calculate in_flows\n",
    "d = {'TotalSeats':'sum'}\n",
    "inD_grouped = inD.groupby(['Country2', \"Year\"])\n",
    "in_flows = inD_grouped.agg(d)\n",
    "\n",
    "in_flows = in_flows['TotalSeats'].unstack().reset_index()"
   ]
  },
  {
   "cell_type": "code",
   "execution_count": 58,
   "metadata": {},
   "outputs": [
    {
     "data": {
      "text/plain": [
       "[2339.82]"
      ]
     },
     "execution_count": 58,
     "metadata": {},
     "output_type": "execute_result"
    }
   ],
   "source": [
    "x = in_flows.iloc[1].values\n",
    "[y for y in x[2:] if not np.isnan(y)]"
   ]
  },
  {
   "cell_type": "code",
   "execution_count": 62,
   "metadata": {},
   "outputs": [
    {
     "data": {
      "text/plain": [
       "(213, 17)"
      ]
     },
     "execution_count": 62,
     "metadata": {},
     "output_type": "execute_result"
    }
   ],
   "source": [
    "def get_data(x):\n",
    "    x = [y for y in x[2:] if not np.isnan(y)]\n",
    "    return(x[-1])\n",
    "in_flows['CURRENT'] = in_flows.apply(get_data, axis=1)\n",
    "in_flows.shape"
   ]
  },
  {
   "cell_type": "markdown",
   "metadata": {},
   "source": [
    "# Debuggingbelow\n"
   ]
  },
  {
   "cell_type": "code",
   "execution_count": null,
   "metadata": {},
   "outputs": [],
   "source": [
    "inD = data_res['Energy']\n",
    "from_pt = inD.complete_data.loc[1,]\n",
    "from_pt['Reporter_Pt']"
   ]
  },
  {
   "cell_type": "code",
   "execution_count": null,
   "metadata": {},
   "outputs": [],
   "source": [
    "\n",
    "def generate_great_circle(from_pt, to_pt, interim_steps=15):\n",
    "    '''\n",
    "    '''\n",
    "    geod = Geodesic.WGS84\n",
    "    g = geod.Inverse(from_pt.x, from_pt.y, to_pt.x, to_pt.y)\n",
    "    l = geod.Line(g['lat1'], g['lon1'], g['azi1'])\n",
    "    num = interim_steps  # 15 intermediate steps\n",
    "    list_of_points = [from_pt]\n",
    "    for i in range(num+1):\n",
    "        pos = l.Position(i * g['s12'] / num)\n",
    "        list_of_points.append(Point(pos['lat2'], pos['lon2']))\n",
    "    list_of_points.append(to_pt)\n",
    "    return(LineString(list_of_points))\n",
    "\n",
    "generate_great_circle(from_pt['Reporter_Pt'], from_pt['Partner_Pt'])"
   ]
  },
  {
   "cell_type": "code",
   "execution_count": null,
   "metadata": {},
   "outputs": [],
   "source": [
    "importlib.reload(process_flows)\n",
    "file_def = [input_file_energy, \"Energy\", [3]]\n",
    "data_flows = process_flows.comtrade_flow(file_def[0], file_def[1])\n",
    "data_flows.initialize(file_def[2], inB, line_type='great')\n",
    "data_flows.save(\"/home/wb411133/data/Projects/INFRA/FLOWS/ENERGY/SHP\", \"SHP\")"
   ]
  },
  {
   "cell_type": "code",
   "execution_count": null,
   "metadata": {},
   "outputs": [],
   "source": [
    "data_flows.country_flows.head()"
   ]
  },
  {
   "cell_type": "code",
   "execution_count": null,
   "metadata": {},
   "outputs": [],
   "source": [
    "importlib.reload(process_flows)\n",
    "data_flows.country_flows['geometry'] = data_flows.country_flows.apply(lambda x:process_flows.generate_great_circle(x['Reporter_Pt'], x['Partner_Pt']), axis=1)\n",
    "data_flows.country_flows.head()"
   ]
  },
  {
   "cell_type": "code",
   "execution_count": null,
   "metadata": {},
   "outputs": [],
   "source": []
  },
  {
   "cell_type": "code",
   "execution_count": null,
   "metadata": {},
   "outputs": [],
   "source": [
    "for key, value in data_res.items():\n",
    "    print(key)\n",
    "    print(value.raw_data['Commodity'].value_counts())"
   ]
  },
  {
   "cell_type": "code",
   "execution_count": null,
   "metadata": {},
   "outputs": [],
   "source": [
    "curD.raw_data['Commodity'].value_counts()"
   ]
  },
  {
   "cell_type": "code",
   "execution_count": null,
   "metadata": {},
   "outputs": [],
   "source": []
  },
  {
   "cell_type": "code",
   "execution_count": null,
   "metadata": {},
   "outputs": [],
   "source": []
  },
  {
   "cell_type": "code",
   "execution_count": null,
   "metadata": {},
   "outputs": [],
   "source": [
    "inB['geometry'] = inB['geometry'].apply(lambda x: x.centroid)\n",
    "inB.to_file(\"/home/wb411133/data/Projects/INFRA/FLOWS/national_centroids.shp\")"
   ]
  },
  {
   "cell_type": "code",
   "execution_count": null,
   "metadata": {},
   "outputs": [],
   "source": [
    "#Assign origin and destination centroids\n",
    "def get_centroid(iso,boundaries):\n",
    "    try:\n",
    "        selected_country = boundaries.loc[boundaries['ISO3'] == iso]\n",
    "        if selected_country.shape[0] == 1:\n",
    "            return(selected_country.iloc[0]['geometry'].centroid)\n",
    "        elif selected_country.shape[0] > 1:\n",
    "            selected_country = selected_country.sort_values('Shape_Area', ascending=False)\n",
    "            return(selected_country.iloc[0]['geometry'].centroid)\n",
    "        else:\n",
    "            return(None)\n",
    "    except:\n",
    "        return(None)\n",
    "#get_centroid('LSO', inB)\n",
    "inD['Reporter_Pt'] = inD['Reporter ISO'].apply(lambda x: get_centroid(x, inB))\n",
    "inD['Partner_Pt'] = inD['Partner ISO'].apply(lambda x: get_centroid(x, inB))"
   ]
  },
  {
   "cell_type": "code",
   "execution_count": null,
   "metadata": {},
   "outputs": [],
   "source": [
    "selected_D = inD.loc[:,good_columns]\n",
    "country_flows = selected_D.loc[selected_D['Partner ISO'] != \"WLD\"]\n",
    "country_summary = selected_D.loc[selected_D['Partner ISO'] == \"WLD\"]"
   ]
  },
  {
   "cell_type": "code",
   "execution_count": null,
   "metadata": {},
   "outputs": [],
   "source": [
    "country_summary.sort_values(['Reporter ISO'])\n",
    "country_summary.reset_index(inplace=True)\n",
    "country_summary.to_csv(os.path.join(out_folder, \"Country_Summaries.csv\"))"
   ]
  },
  {
   "cell_type": "code",
   "execution_count": null,
   "metadata": {},
   "outputs": [],
   "source": [
    "from shapely.geometry import LineString\n",
    "\n",
    "def generate_line_string(row):\n",
    "    try:\n",
    "        if row['Trade Flow'] == \"Export\":\n",
    "            return(LineString([row['Reporter_Pt'], row['Partner_Pt']]))\n",
    "        else:\n",
    "            return(LineString([row['Partner_Pt'], row['Reporter_Pt']]))\n",
    "    except:\n",
    "        print(row)\n",
    "        return(None)\n",
    "country_flows['geometry'] = country_flows.apply(lambda x: generate_line_string(x), axis=1)\n",
    "country_flows.to_csv(os.path.join(out_folder, \"Country_Flows.csv\"))"
   ]
  },
  {
   "cell_type": "code",
   "execution_count": null,
   "metadata": {},
   "outputs": [],
   "source": []
  },
  {
   "cell_type": "code",
   "execution_count": null,
   "metadata": {},
   "outputs": [],
   "source": []
  }
 ],
 "metadata": {
  "kernelspec": {
   "display_name": "Python (geog)",
   "language": "python",
   "name": "geog"
  },
  "language_info": {
   "codemirror_mode": {
    "name": "ipython",
    "version": 3
   },
   "file_extension": ".py",
   "mimetype": "text/x-python",
   "name": "python",
   "nbconvert_exporter": "python",
   "pygments_lexer": "ipython3",
   "version": "3.7.1"
  }
 },
 "nbformat": 4,
 "nbformat_minor": 2
}
