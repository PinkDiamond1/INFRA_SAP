{
 "cells": [
  {
   "cell_type": "code",
   "execution_count": 1,
   "metadata": {},
   "outputs": [],
   "source": [
    "import sys, os, importlib\n",
    "import rasterio\n",
    "\n",
    "import numpy as np\n",
    "import pandas as pd\n",
    "import geopandas as gpd\n",
    "import osmnx as ox\n",
    "import GOSTnets as gn\n",
    "import skimage.graph as graph\n",
    "\n",
    "from rasterio.mask import mask\n",
    "from rasterio import features\n",
    "from shapely.geometry import box, Point, Polygon\n",
    "from scipy.ndimage import generic_filter\n",
    "from pandana.loaders import osm\n",
    "\n",
    "sys.path.append(\"../\")\n",
    "\n",
    "import infrasap.market_access as ma\n"
   ]
  },
  {
   "cell_type": "code",
   "execution_count": 2,
   "metadata": {},
   "outputs": [],
   "source": [
    "global_friction_surface = \"/home/public/Data/GLOBAL/INFRA/FRICTION_2015/2015_friction_surface_v1.geotiff\"\n",
    "\n",
    "inG = rasterio.open(global_friction_surface)\n",
    "inD = inG.read()\n",
    "# inD is stored as minutes to travel one meter. Need to convert to second to traverse the entire 1 km cell\n",
    "mcp = graph.MCP_Geometric(inD[0,:,:])"
   ]
  },
  {
   "cell_type": "code",
   "execution_count": 3,
   "metadata": {},
   "outputs": [],
   "source": [
    "in_ports = \"/home/public/Data/GLOBAL/INFRA/PORTS/ports_noProv.csv\"\n",
    "out_folder = \"/home/wb411133/data/Global/INFRA/PORTS\"\n",
    "ports_file = os.path.join(out_folder, \"major_ports.shp\")\n",
    "if not os.path.exists(ports_file):\n",
    "    inP = pd.read_csv(in_ports)\n",
    "    inP_geom = [Point(x) for x in zip(inP['Lng'], inP['Lat'])]\n",
    "    inP = gpd.GeoDataFrame(inP, geometry = inP_geom, crs={'init':'epsg:4326'})\n",
    "    inP.to_file(ports_file)\n",
    "else:\n",
    "    inP = gpd.read_file(ports_file)"
   ]
  },
  {
   "cell_type": "code",
   "execution_count": null,
   "metadata": {},
   "outputs": [],
   "source": [
    "importlib.reload(ma)\n",
    "out_file = \"/home/wb411133/temp/port_sheds_complete.tif\"\n",
    "ma.generate_market_sheds(inG, mcp, inP, out_file)"
   ]
  },
  {
   "cell_type": "code",
   "execution_count": null,
   "metadata": {},
   "outputs": [],
   "source": [
    "costs, traceback = mcp.find_costs(ports)        "
   ]
  },
  {
   "cell_type": "code",
   "execution_count": null,
   "metadata": {},
   "outputs": [],
   "source": [
    "meta = inG.meta.copy()\n",
    "meta.update(dtype=costs.dtype)\n",
    "\n",
    "out_file =\"/home/wb411133/temp/ports_big_large_watershed2.tif\"\n",
    "with rasterio.open(out_file, 'w', **meta) as out:\n",
    "    out.write_band(1, costs)"
   ]
  },
  {
   "cell_type": "markdown",
   "metadata": {},
   "source": [
    "# Calculate market sheds from travel datasets\n",
    "https://scikit-image.org/docs/dev/api/skimage.graph.html#skimage.graph.MCP_Geometric\n"
   ]
  },
  {
   "cell_type": "code",
   "execution_count": null,
   "metadata": {},
   "outputs": [],
   "source": [
    "import sys, os, importlib\n",
    "import rasterio\n",
    "\n",
    "import numpy as np\n",
    "import pandas as pd\n",
    "import geopandas as gpd\n",
    "import osmnx as ox\n",
    "import GOSTnets as gn\n",
    "import skimage.graph as graph\n",
    "\n",
    "from rasterio.mask import mask\n",
    "from rasterio import features\n",
    "from shapely.geometry import box, Point, Polygon\n",
    "from scipy.ndimage import generic_filter\n",
    "from pandana.loaders import osm"
   ]
  },
  {
   "cell_type": "code",
   "execution_count": null,
   "metadata": {},
   "outputs": [],
   "source": [
    "tutorial_folder =\"../tutorial_data\"\n",
    "img = os.path.join(tutorial_folder, \"global_friction_surface.tif\")\n",
    "dests = os.path.join(tutorial_folder, \"destinations.shp\")\n",
    "\n",
    "img = rasterio.open(img)\n",
    "inD = gpd.read_file(dests)\n",
    "data = img.read()[0,:,:]"
   ]
  },
  {
   "cell_type": "code",
   "execution_count": null,
   "metadata": {},
   "outputs": [],
   "source": [
    "mcp = graph.MCP_Geometric(data)\n",
    "dests_geom = [img.index(x.x, x.y) for x in inD['geometry']]\n",
    "costs, traceback = mcp.find_costs(dests_geom)"
   ]
  },
  {
   "cell_type": "code",
   "execution_count": null,
   "metadata": {},
   "outputs": [],
   "source": [
    "meta = img.meta.copy()\n",
    "meta.update(dtype=costs.dtype)\n",
    "with rasterio.open(os.path.join(tutorial_folder, \"market_shed_custom.tif\"), 'w', **meta) as outR:\n",
    "    outR.write_band(1, costs)"
   ]
  },
  {
   "cell_type": "markdown",
   "metadata": {},
   "source": [
    "# Debugging below"
   ]
  },
  {
   "cell_type": "code",
   "execution_count": null,
   "metadata": {},
   "outputs": [],
   "source": [
    "import copy\n",
    "# testing market sheds\n",
    "dests_geom = [img.index(x.x, x.y) for x in inD['geometry']]\n",
    "all_c = []\n",
    "n = inD.shape[0]\n",
    "idx = 0"
   ]
  },
  {
   "cell_type": "code",
   "execution_count": null,
   "metadata": {},
   "outputs": [],
   "source": [
    "for dest in dests_geom:\n",
    "    idx += 1\n",
    "    if dest[0] > 0 and dest[0] < img.shape[0] and dest[1] > 0 and dest[1] < img.shape[1]:\n",
    "        c1, trace = mcp.find_costs([dest])\n",
    "        all_c.append(copy.deepcopy(c1))\n",
    "    else:\n",
    "        print(f\"{idx} of {n} cannot be processed\")\n"
   ]
  },
  {
   "cell_type": "code",
   "execution_count": null,
   "metadata": {},
   "outputs": [],
   "source": [
    "# Iterate through results to generate final marketshed\n",
    "res = np.zeros(all_c[0].shape)\n",
    "for idx in range(0, len(all_c)):\n",
    "    cur_res = all_c[idx]\n",
    "    if idx == 0:\n",
    "        min_res = cur_res\n",
    "    else:\n",
    "        combo = np.dstack([min_res, cur_res])\n",
    "        min_res = np.amin(combo, 2)\n",
    "        cur_val = (min_res == cur_res).astype(np.byte)\n",
    "        m_idx = np.where(cur_val == 1)\n",
    "        res[m_idx] = idx\n"
   ]
  },
  {
   "cell_type": "code",
   "execution_count": null,
   "metadata": {},
   "outputs": [],
   "source": [
    "meta = img.meta.copy()\n",
    "meta.update(dtype=res.dtype)\n",
    "with rasterio.open(os.path.join(tutorial_folder, \"market_shed_custom.tif\"), 'w', **meta) as outR:\n",
    "    outR.write_band(1, res)"
   ]
  },
  {
   "cell_type": "code",
   "execution_count": null,
   "metadata": {},
   "outputs": [],
   "source": [
    "output.shape"
   ]
  },
  {
   "cell_type": "code",
   "execution_count": null,
   "metadata": {},
   "outputs": [],
   "source": []
  },
  {
   "cell_type": "code",
   "execution_count": null,
   "metadata": {},
   "outputs": [],
   "source": []
  },
  {
   "cell_type": "code",
   "execution_count": null,
   "metadata": {},
   "outputs": [],
   "source": [
    "class MarketShedMCP(graph.MCP_Flexible):\n",
    "    def _reset(self):\n",
    "        \"\"\"reset the id map\n",
    "        \"\"\"\n",
    "        graph.MCP_Flexible._reset(self)\n",
    "        self._conn = {}\n",
    "        self._bestconn_v = {}\n",
    "        self._bestconn = {}\n",
    "    \n",
    "    def goal_reached(self, index, cumcost):\n",
    "        \n",
    "        \n",
    "    '''\n",
    "    def create_connection(self, id1, id2, pos1, pos2, cost1, cost2):\n",
    "        # Process data\n",
    "        hash = min(id1, id2), max(id1, id2)\n",
    "        val = min(pos1, pos2), max(pos1, pos2)\n",
    "        cost = min(cost1, cost2)\n",
    "        # Add to total list \n",
    "        self._conn.setdefault(hash, []).append(val)\n",
    "        # Keep track of connection with lowest cost\n",
    "        curcost = self._bestconn_v.get(hash, (np.inf,))[0]        \n",
    "        if cost1 < cost2:\n",
    "            self._bestconn[val] = (id1,)\n",
    "        else:\n",
    "            self._bestconn[val] = (id2,)        \n",
    "        if cost < curcost:            \n",
    "            self._bestconn_v[hash] = (cost,) + val\n",
    "    '''        \n",
    "    \n",
    "mcp_m = MarketShedMCP(data)\n",
    "costs, traceback = mcp_m.find_costs(dests_geom)"
   ]
  },
  {
   "cell_type": "code",
   "execution_count": null,
   "metadata": {},
   "outputs": [],
   "source": [
    "data.shape[0] * data.shape[1]"
   ]
  },
  {
   "cell_type": "code",
   "execution_count": null,
   "metadata": {},
   "outputs": [],
   "source": [
    "len(mcp_m._bestconn.keys())"
   ]
  },
  {
   "cell_type": "code",
   "execution_count": null,
   "metadata": {},
   "outputs": [],
   "source": [
    "graph.MCP_Flexible.update_node?"
   ]
  },
  {
   "cell_type": "code",
   "execution_count": null,
   "metadata": {},
   "outputs": [],
   "source": []
  },
  {
   "cell_type": "code",
   "execution_count": null,
   "metadata": {},
   "outputs": [],
   "source": [
    "costs, traceback = mcp.find_costs(dests_geom, find_all_ends=True)"
   ]
  },
  {
   "cell_type": "code",
   "execution_count": null,
   "metadata": {},
   "outputs": [],
   "source": [
    "meta = img.meta.copy()\n",
    "meta.update(dtype=res.dtype, count=5)\n",
    "with rasterio.open(os.path.join(tutorial_folder, \"market_shed.tif\"), 'w', **meta) as outR:\n",
    "    for idx in range(0,5):\n",
    "        outR.write_band(idx + 1, res[:,:,idx])"
   ]
  },
  {
   "cell_type": "code",
   "execution_count": null,
   "metadata": {},
   "outputs": [],
   "source": [
    "def get_min_axis(x):\n",
    "    return(np.where(x == x.min()))\n",
    "\n",
    "res_min = np.apply_along_axis(get_min_axis, 2, res)"
   ]
  },
  {
   "cell_type": "code",
   "execution_count": null,
   "metadata": {},
   "outputs": [],
   "source": [
    "meta = img.meta.copy()\n",
    "res_min = res_min.astype(meta['dtype'])"
   ]
  },
  {
   "cell_type": "code",
   "execution_count": null,
   "metadata": {},
   "outputs": [],
   "source": [
    "res_min.shape"
   ]
  },
  {
   "cell_type": "code",
   "execution_count": null,
   "metadata": {},
   "outputs": [],
   "source": [
    "\n",
    "meta.update(dtype=res_min.dtype)\n",
    "with rasterio.open(os.path.join(tutorial_folder, \"market_shed_2.tif\"), 'w', **meta) as outR:\n",
    "    outR.write_band(1, res_min[:,:,0,0])\n",
    "\n",
    "'''\n",
    "meta.update(dtype=costs.dtype)\n",
    "with rasterio.open(os.path.join(tutorial_folder, \"travel_costs_fa.tif\"), 'w', **meta) as outR:\n",
    "    outR.write_band(1, costs)\n",
    "    \n",
    "meta.update(dtype=traceback.dtype)\n",
    "with rasterio.open(os.path.join(tutorial_folder, \"traceback_fa.tif\"), 'w', **meta) as outR:\n",
    "    outR.write_band(1, traceback)\n",
    "'''"
   ]
  },
  {
   "cell_type": "code",
   "execution_count": null,
   "metadata": {},
   "outputs": [],
   "source": [
    "sys.path.append(\"../\")\n",
    "\n",
    "import infrasap.market_access as ma"
   ]
  },
  {
   "cell_type": "code",
   "execution_count": null,
   "metadata": {},
   "outputs": [],
   "source": [
    "importlib.reload(ma)\n",
    "out_file = os.path.join(tutorial_folder, \"market_shed_3.tif\")\n",
    "ma.generate_market_sheds(img, mcp, inD, out_file)"
   ]
  },
  {
   "cell_type": "markdown",
   "metadata": {},
   "source": [
    "# Calculate area of cells in raster dataset"
   ]
  },
  {
   "cell_type": "code",
   "execution_count": 5,
   "metadata": {},
   "outputs": [],
   "source": [
    "global_friction_surface = \"/home/public/Data/GLOBAL/INFRA/FRICTION_2015/2015_friction_surface_v1.geotiff\"\n",
    "\n",
    "inG = rasterio.open(global_friction_surface)\n",
    "inD = inG.read()"
   ]
  },
  {
   "cell_type": "code",
   "execution_count": 6,
   "metadata": {},
   "outputs": [
    {
     "data": {
      "text/plain": [
       "(1, 17400, 43200)"
      ]
     },
     "execution_count": 6,
     "metadata": {},
     "output_type": "execute_result"
    }
   ],
   "source": [
    "inD.shape"
   ]
  },
  {
   "cell_type": "code",
   "execution_count": 7,
   "metadata": {},
   "outputs": [
    {
     "data": {
      "text/plain": [
       "BoundingBox(left=-180.0, bottom=-60.0, right=180.0, top=85.0)"
      ]
     },
     "execution_count": 7,
     "metadata": {},
     "output_type": "execute_result"
    }
   ],
   "source": [
    "inG.bounds"
   ]
  },
  {
   "cell_type": "code",
   "execution_count": 8,
   "metadata": {},
   "outputs": [],
   "source": [
    "def generate_shape(x, llx, lly, res):\n",
    "    lly = lly + (x * res)\n",
    "    ll = (llx, lly)\n",
    "    ul = (llx, lly + res)\n",
    "    ur = (llx + res, lly + res)\n",
    "    lr = (llx + res, lly)\n",
    "    shape = Polygon([ll, ul, ur, lr, ll])\n",
    "    return(shape)\n",
    "    \n",
    "b = inG.bounds\n",
    "res = inG.meta['transform'][0]\n",
    "all_shapes = [generate_shape(x, b[0], b[1], res) for x in range(0, inD.shape[1])]"
   ]
  },
  {
   "cell_type": "code",
   "execution_count": 9,
   "metadata": {},
   "outputs": [],
   "source": [
    "res = pd.DataFrame(columns=[\"idx\"])\n",
    "res['idx'] = list(range(0, inG.shape[0]))\n",
    "res = gpd.GeoDataFrame(res, geometry=all_shapes, crs = inG.crs)\n",
    "res['area'] = res['geometry'].apply(lambda x: x.area)"
   ]
  },
  {
   "cell_type": "code",
   "execution_count": 10,
   "metadata": {},
   "outputs": [],
   "source": [
    "res.to_file(\"/home/wb411133/temp/gfs_column1.shp\")"
   ]
  },
  {
   "cell_type": "code",
   "execution_count": null,
   "metadata": {},
   "outputs": [],
   "source": [
    "# Convert to UTM to calculate area to metres\n",
    "'''sys.path.append(\"../../GOST\")\n",
    "\n",
    "import GOSTRocks.misc as misc\n",
    "res_sel = res.iloc[1:-1,]\n",
    "res_utm = misc.project_UTM(res_sel)'''\n",
    "\n",
    "res_utm = res.to_crs({'init':'epsg:32601'})"
   ]
  },
  {
   "cell_type": "code",
   "execution_count": null,
   "metadata": {},
   "outputs": [],
   "source": [
    "res_utm['area_utm'] = res_utm['geometry'].apply(lambda x: x.area)\n",
    "res_utm.to_file(\"/home/wb411133/temp/gfs_column1.shp\")"
   ]
  },
  {
   "cell_type": "code",
   "execution_count": null,
   "metadata": {},
   "outputs": [],
   "source": [
    "res_utm.head()"
   ]
  },
  {
   "cell_type": "code",
   "execution_count": null,
   "metadata": {},
   "outputs": [],
   "source": []
  }
 ],
 "metadata": {
  "kernelspec": {
   "display_name": "Python (geog)",
   "language": "python",
   "name": "geog"
  },
  "language_info": {
   "codemirror_mode": {
    "name": "ipython",
    "version": 3
   },
   "file_extension": ".py",
   "mimetype": "text/x-python",
   "name": "python",
   "nbconvert_exporter": "python",
   "pygments_lexer": "ipython3",
   "version": "3.7.1"
  }
 },
 "nbformat": 4,
 "nbformat_minor": 2
}
