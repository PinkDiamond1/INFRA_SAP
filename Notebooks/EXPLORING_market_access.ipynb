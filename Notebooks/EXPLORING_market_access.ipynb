{
 "cells": [
  {
   "cell_type": "code",
   "execution_count": 2,
   "metadata": {},
   "outputs": [],
   "source": [
    "import sys, os, importlib\n",
    "import rasterio\n",
    "\n",
    "import numpy as np\n",
    "import pandas as pd\n",
    "import geopandas as gpd\n",
    "import osmnx as ox\n",
    "import GOSTnets as gn\n",
    "import skimage.graph as graph\n",
    "\n",
    "from rasterio.mask import mask\n",
    "from rasterio import features\n",
    "from shapely.geometry import box, Point, Polygon\n",
    "from scipy.ndimage import generic_filter\n",
    "from pandana.loaders import osm\n",
    "\n",
    "sys.path.append(\"../\")\n",
    "\n",
    "import infrasap.market_access as ma\n",
    "#import infrasap.rai_calculator as rai"
   ]
  },
  {
   "cell_type": "code",
   "execution_count": 4,
   "metadata": {},
   "outputs": [
    {
     "data": {
      "text/plain": [
       "'s00000000000'"
      ]
     },
     "execution_count": 4,
     "metadata": {},
     "output_type": "execute_result"
    }
   ],
   "source": [
    "import geohash\n",
    "geohash.encode(0, 0)"
   ]
  },
  {
   "cell_type": "code",
   "execution_count": null,
   "metadata": {},
   "outputs": [],
   "source": []
  },
  {
   "cell_type": "code",
   "execution_count": null,
   "metadata": {},
   "outputs": [],
   "source": []
  },
  {
   "cell_type": "code",
   "execution_count": null,
   "metadata": {},
   "outputs": [],
   "source": [
    "global_friction_surface = \"/home/public/Data/GLOBAL/INFRA/FRICTION_2015/2015_friction_surface_v1.geotiff\"\n",
    "\n",
    "inG = rasterio.open(global_friction_surface)\n",
    "inD = inG.read()\n",
    "# inD is stored as minutes to travel one meter. Need to convert to second to traverse the entire 1 km cell\n",
    "mcp = graph.MCP_Geometric(inD[0,:,:])"
   ]
  },
  {
   "cell_type": "code",
   "execution_count": null,
   "metadata": {},
   "outputs": [],
   "source": [
    "in_ports = \"/home/public/Data/GLOBAL/INFRA/PORTS/ports_noProv.csv\"\n",
    "out_folder = \"/home/wb411133/data/Global/INFRA/PORTS\"\n",
    "ports_file = os.path.join(out_folder, \"major_ports.shp\")\n",
    "if not os.path.exists(ports_file):\n",
    "    inP = pd.read_csv(in_ports)\n",
    "    inP_geom = [Point(x) for x in zip(inP['Lng'], inP['Lat'])]\n",
    "    inP = gpd.GeoDataFrame(inP, geometry = inP_geom, crs={'init':'epsg:4326'})\n",
    "    inP.to_file(ports_file)\n",
    "else:\n",
    "    inP = gpd.read_file(ports_file)"
   ]
  },
  {
   "cell_type": "code",
   "execution_count": null,
   "metadata": {},
   "outputs": [],
   "source": [
    "importlib.reload(ma)\n",
    "ma.generate_market_sheds?"
   ]
  },
  {
   "cell_type": "code",
   "execution_count": null,
   "metadata": {},
   "outputs": [],
   "source": [
    "importlib.reload(ma)\n",
    "out_file = \"/home/wb411133/temp/port_sheds_complete.tif\"\n",
    "ma.generate_market_sheds(inG, inP, out_file)"
   ]
  },
  {
   "cell_type": "code",
   "execution_count": null,
   "metadata": {},
   "outputs": [],
   "source": [
    "ma.generate_feature_vectors?"
   ]
  },
  {
   "cell_type": "code",
   "execution_count": null,
   "metadata": {},
   "outputs": [],
   "source": [
    "inD = inG.read()\n",
    "# inD is stored as minutes to travel one meter. Need to convert to second to traverse the entire 1 km cell\n",
    "mcp = graph.MCP_Geometric(inD[0,:,:] * 1000)"
   ]
  },
  {
   "cell_type": "code",
   "execution_count": null,
   "metadata": {},
   "outputs": [],
   "source": [
    "drive_time_thresholds = [1, 5, 10, 15] # days\n",
    "drive_time_thresholds = [x * 24 * 60 for x in drive_time_thresholds] #convert days to minutes\n",
    "drive_vectors = ma.generate_feature_vectors(inR, mcp, inD, drive_time_thresholds)\n",
    "drive_vectors.to_file(os.path.join(tutorial_folder, \"drive_vectors.shp\"))"
   ]
  },
  {
   "cell_type": "code",
   "execution_count": null,
   "metadata": {},
   "outputs": [],
   "source": []
  },
  {
   "cell_type": "markdown",
   "metadata": {},
   "source": [
    "# Calculate market sheds from travel datasets\n",
    "https://scikit-image.org/docs/dev/api/skimage.graph.html#skimage.graph.MCP_Geometric\n"
   ]
  },
  {
   "cell_type": "code",
   "execution_count": null,
   "metadata": {},
   "outputs": [],
   "source": [
    "import sys, os, importlib\n",
    "import rasterio\n",
    "\n",
    "import numpy as np\n",
    "import pandas as pd\n",
    "import geopandas as gpd\n",
    "import osmnx as ox\n",
    "import GOSTnets as gn\n",
    "import skimage.graph as graph\n",
    "\n",
    "from rasterio.mask import mask\n",
    "from rasterio import features\n",
    "from shapely.geometry import box, Point, Polygon\n",
    "from scipy.ndimage import generic_filter\n",
    "from pandana.loaders import osm"
   ]
  },
  {
   "cell_type": "code",
   "execution_count": null,
   "metadata": {},
   "outputs": [],
   "source": [
    "tutorial_folder =\"../tutorial_data\"\n",
    "img = os.path.join(tutorial_folder, \"global_friction_surface.tif\")\n",
    "dests = os.path.join(tutorial_folder, \"destinations.shp\")\n",
    "\n",
    "img = rasterio.open(img)\n",
    "inD = gpd.read_file(dests)\n",
    "data = img.read()[0,:,:]"
   ]
  },
  {
   "cell_type": "code",
   "execution_count": null,
   "metadata": {},
   "outputs": [],
   "source": [
    "mcp = graph.MCP_Geometric(data)\n",
    "dests_geom = [img.index(x.x, x.y) for x in inD['geometry']]\n",
    "costs, traceback = mcp.find_costs(dests_geom)"
   ]
  },
  {
   "cell_type": "code",
   "execution_count": null,
   "metadata": {},
   "outputs": [],
   "source": [
    "meta = img.meta.copy()\n",
    "meta.update(dtype=costs.dtype)\n",
    "with rasterio.open(os.path.join(tutorial_folder, \"market_shed_custom.tif\"), 'w', **meta) as outR:\n",
    "    outR.write_band(1, costs)"
   ]
  },
  {
   "cell_type": "markdown",
   "metadata": {},
   "source": [
    "# Debugging below"
   ]
  },
  {
   "cell_type": "code",
   "execution_count": null,
   "metadata": {},
   "outputs": [],
   "source": [
    "import copy\n",
    "# testing market sheds\n",
    "dests_geom = [img.index(x.x, x.y) for x in inD['geometry']]\n",
    "all_c = []\n",
    "n = inD.shape[0]\n",
    "idx = 0"
   ]
  },
  {
   "cell_type": "code",
   "execution_count": null,
   "metadata": {},
   "outputs": [],
   "source": [
    "for dest in dests_geom:\n",
    "    idx += 1\n",
    "    if dest[0] > 0 and dest[0] < img.shape[0] and dest[1] > 0 and dest[1] < img.shape[1]:\n",
    "        c1, trace = mcp.find_costs([dest])\n",
    "        all_c.append(copy.deepcopy(c1))\n",
    "    else:\n",
    "        print(f\"{idx} of {n} cannot be processed\")\n"
   ]
  },
  {
   "cell_type": "code",
   "execution_count": null,
   "metadata": {},
   "outputs": [],
   "source": [
    "# Iterate through results to generate final marketshed\n",
    "res = np.zeros(all_c[0].shape)\n",
    "for idx in range(0, len(all_c)):\n",
    "    cur_res = all_c[idx]\n",
    "    if idx == 0:\n",
    "        min_res = cur_res\n",
    "    else:\n",
    "        combo = np.dstack([min_res, cur_res])\n",
    "        min_res = np.amin(combo, 2)\n",
    "        cur_val = (min_res == cur_res).astype(np.byte)\n",
    "        m_idx = np.where(cur_val == 1)\n",
    "        res[m_idx] = idx\n"
   ]
  },
  {
   "cell_type": "code",
   "execution_count": null,
   "metadata": {},
   "outputs": [],
   "source": [
    "meta = img.meta.copy()\n",
    "meta.update(dtype=res.dtype)\n",
    "with rasterio.open(os.path.join(tutorial_folder, \"market_shed_custom.tif\"), 'w', **meta) as outR:\n",
    "    outR.write_band(1, res)"
   ]
  },
  {
   "cell_type": "code",
   "execution_count": null,
   "metadata": {},
   "outputs": [],
   "source": [
    "output.shape"
   ]
  },
  {
   "cell_type": "code",
   "execution_count": null,
   "metadata": {},
   "outputs": [],
   "source": []
  },
  {
   "cell_type": "code",
   "execution_count": null,
   "metadata": {},
   "outputs": [],
   "source": []
  },
  {
   "cell_type": "code",
   "execution_count": null,
   "metadata": {},
   "outputs": [],
   "source": [
    "class MarketShedMCP(graph.MCP_Flexible):\n",
    "    def _reset(self):\n",
    "        \"\"\"reset the id map\n",
    "        \"\"\"\n",
    "        graph.MCP_Flexible._reset(self)\n",
    "        self._conn = {}\n",
    "        self._bestconn_v = {}\n",
    "        self._bestconn = {}\n",
    "    \n",
    "    def create_connection(self, id1, id2, pos1, pos2, cost1, cost2):\n",
    "        # Process data\n",
    "        hash = min(id1, id2), max(id1, id2)\n",
    "        val = min(pos1, pos2), max(pos1, pos2)\n",
    "        cost = min(cost1, cost2)\n",
    "        # Add to total list \n",
    "        self._conn.setdefault(hash, []).append(val)\n",
    "        # Keep track of connection with lowest cost\n",
    "        curcost = self._bestconn_v.get(hash, (np.inf,))[0]        \n",
    "        if cost1 < cost2:\n",
    "            self._bestconn[val] = (id1,)\n",
    "        else:\n",
    "            self._bestconn[val] = (id2,)        \n",
    "        if cost < curcost:            \n",
    "            self._bestconn_v[hash] = (cost,) + val\n",
    "    \n",
    "mcp_m = MarketShedMCP(data)\n",
    "costs, traceback = mcp_m.find_costs(dests_geom)"
   ]
  },
  {
   "cell_type": "code",
   "execution_count": null,
   "metadata": {},
   "outputs": [],
   "source": [
    "data.shape[0] * data.shape[1]"
   ]
  },
  {
   "cell_type": "code",
   "execution_count": null,
   "metadata": {},
   "outputs": [],
   "source": [
    "len(mcp_m._bestconn.keys())"
   ]
  },
  {
   "cell_type": "code",
   "execution_count": null,
   "metadata": {},
   "outputs": [],
   "source": [
    "graph.MCP_Flexible.update_node?"
   ]
  },
  {
   "cell_type": "code",
   "execution_count": null,
   "metadata": {},
   "outputs": [],
   "source": []
  },
  {
   "cell_type": "code",
   "execution_count": null,
   "metadata": {},
   "outputs": [],
   "source": [
    "costs, traceback = mcp.find_costs(dests_geom, find_all_ends=True)"
   ]
  },
  {
   "cell_type": "code",
   "execution_count": null,
   "metadata": {},
   "outputs": [],
   "source": [
    "meta = img.meta.copy()\n",
    "meta.update(dtype=res.dtype, count=5)\n",
    "with rasterio.open(os.path.join(tutorial_folder, \"market_shed.tif\"), 'w', **meta) as outR:\n",
    "    for idx in range(0,5):\n",
    "        outR.write_band(idx + 1, res[:,:,idx])"
   ]
  },
  {
   "cell_type": "code",
   "execution_count": null,
   "metadata": {},
   "outputs": [],
   "source": [
    "def get_min_axis(x):\n",
    "    return(np.where(x == x.min()))\n",
    "\n",
    "res_min = np.apply_along_axis(get_min_axis, 2, res)"
   ]
  },
  {
   "cell_type": "code",
   "execution_count": null,
   "metadata": {},
   "outputs": [],
   "source": [
    "meta = img.meta.copy()\n",
    "res_min = res_min.astype(meta['dtype'])"
   ]
  },
  {
   "cell_type": "code",
   "execution_count": null,
   "metadata": {},
   "outputs": [],
   "source": [
    "res_min.shape"
   ]
  },
  {
   "cell_type": "code",
   "execution_count": null,
   "metadata": {},
   "outputs": [],
   "source": [
    "\n",
    "meta.update(dtype=res_min.dtype)\n",
    "with rasterio.open(os.path.join(tutorial_folder, \"market_shed_2.tif\"), 'w', **meta) as outR:\n",
    "    outR.write_band(1, res_min[:,:,0,0])\n",
    "\n",
    "'''\n",
    "meta.update(dtype=costs.dtype)\n",
    "with rasterio.open(os.path.join(tutorial_folder, \"travel_costs_fa.tif\"), 'w', **meta) as outR:\n",
    "    outR.write_band(1, costs)\n",
    "    \n",
    "meta.update(dtype=traceback.dtype)\n",
    "with rasterio.open(os.path.join(tutorial_folder, \"traceback_fa.tif\"), 'w', **meta) as outR:\n",
    "    outR.write_band(1, traceback)\n",
    "'''"
   ]
  },
  {
   "cell_type": "code",
   "execution_count": null,
   "metadata": {},
   "outputs": [],
   "source": [
    "sys.path.append(\"../\")\n",
    "\n",
    "import infrasap.market_access as ma"
   ]
  },
  {
   "cell_type": "code",
   "execution_count": null,
   "metadata": {},
   "outputs": [],
   "source": [
    "importlib.reload(ma)\n",
    "out_file = os.path.join(tutorial_folder, \"market_shed_3.tif\")\n",
    "ma.generate_market_sheds(img, mcp, inD, out_file)"
   ]
  },
  {
   "cell_type": "markdown",
   "metadata": {},
   "source": [
    "# Calculate area of cells in raster dataset"
   ]
  },
  {
   "cell_type": "code",
   "execution_count": null,
   "metadata": {},
   "outputs": [],
   "source": [
    "global_friction_surface = \"/home/public/Data/GLOBAL/INFRA/FRICTION_2015/2015_friction_surface_v1.geotiff\"\n",
    "\n",
    "inG = rasterio.open(global_friction_surface)\n",
    "inD = inG.read()"
   ]
  },
  {
   "cell_type": "code",
   "execution_count": null,
   "metadata": {},
   "outputs": [],
   "source": [
    "inD.shape"
   ]
  },
  {
   "cell_type": "code",
   "execution_count": null,
   "metadata": {},
   "outputs": [],
   "source": [
    "inG.bounds"
   ]
  },
  {
   "cell_type": "code",
   "execution_count": null,
   "metadata": {},
   "outputs": [],
   "source": [
    "def generate_shape(x, llx, lly, res):\n",
    "    lly = lly + (x * res)\n",
    "    ll = (llx, lly)\n",
    "    ul = (llx, lly + res)\n",
    "    ur = (llx + res, lly + res)\n",
    "    lr = (llx + res, lly)\n",
    "    shape = Polygon([ll, ul, ur, lr, ll])\n",
    "    return(shape)\n",
    "    \n",
    "b = inG.bounds\n",
    "res = inG.meta['transform'][0]\n",
    "all_shapes = [generate_shape(x, b[0], b[1], res) for x in range(0, inD.shape[1])]"
   ]
  },
  {
   "cell_type": "code",
   "execution_count": null,
   "metadata": {},
   "outputs": [],
   "source": [
    "res = pd.DataFrame(columns=[\"idx\"])\n",
    "res['idx'] = list(range(0, inG.shape[0]))\n",
    "res = gpd.GeoDataFrame(res, geometry=all_shapes, crs = inG.crs)\n",
    "res['area'] = res['geometry'].apply(lambda x: x.area)"
   ]
  },
  {
   "cell_type": "code",
   "execution_count": null,
   "metadata": {},
   "outputs": [],
   "source": [
    "res.to_file(\"/home/wb411133/temp/gfs_column1.shp\")"
   ]
  },
  {
   "cell_type": "code",
   "execution_count": null,
   "metadata": {},
   "outputs": [],
   "source": [
    "# Convert to UTM to calculate area to metres\n",
    "'''sys.path.append(\"../../GOST\")\n",
    "\n",
    "import GOSTRocks.misc as misc\n",
    "res_sel = res.iloc[1:-1,]\n",
    "res_utm = misc.project_UTM(res_sel)'''\n",
    "\n",
    "res_utm = res.to_crs({'init':'epsg:32601'})"
   ]
  },
  {
   "cell_type": "code",
   "execution_count": null,
   "metadata": {},
   "outputs": [],
   "source": [
    "res_utm['area_utm'] = res_utm['geometry'].apply(lambda x: x.area)\n",
    "res_utm.to_file(\"/home/wb411133/temp/gfs_column1.shp\")"
   ]
  },
  {
   "cell_type": "code",
   "execution_count": null,
   "metadata": {},
   "outputs": [],
   "source": [
    "res_utm.head()"
   ]
  },
  {
   "cell_type": "code",
   "execution_count": null,
   "metadata": {},
   "outputs": [],
   "source": [
    "import numpy as np\n",
    "import skimage.graph as graph\n",
    "import copy"
   ]
  },
  {
   "cell_type": "code",
   "execution_count": null,
   "metadata": {},
   "outputs": [],
   "source": [
    "img = np.array([[1,1,2,2,2],[2,1,1,3,3],[3,2,1,2,3],[2,2,2,1,1]])\n",
    "mcp = graph.MCP_Geometric(img)"
   ]
  },
  {
   "cell_type": "code",
   "execution_count": null,
   "metadata": {},
   "outputs": [],
   "source": [
    "destinations = [[0,0],[3,3]]\n",
    "costs, traceback = mcp.find_costs(destinations)\n",
    "print(costs)\n",
    "print(traceback)"
   ]
  },
  {
   "cell_type": "code",
   "execution_count": null,
   "metadata": {},
   "outputs": [],
   "source": [
    "output"
   ]
  },
  {
   "cell_type": "code",
   "execution_count": null,
   "metadata": {},
   "outputs": [],
   "source": [
    "all_c = []\n",
    "for dest in destinations:\n",
    "    costs, traceback = mcp.find_costs([dest])\n",
    "    all_c.append(copy.deepcopy(costs))"
   ]
  },
  {
   "cell_type": "code",
   "execution_count": null,
   "metadata": {},
   "outputs": [],
   "source": [
    "res = np.dstack(all_c)\n",
    "res_min = np.amin(res, axis=2)\n",
    "output = np.zeros([res_min.shape[0], res_min.shape[1]])\n",
    "for idx in range(0, res.shape[2]):\n",
    "    cur_data = res[:,:,idx]\n",
    "    cur_val = (cur_data == res_min).astype(np.byte) * idx\n",
    "    output = output + cur_val\n",
    "output = output.astype(np.byte)\n"
   ]
  },
  {
   "cell_type": "code",
   "execution_count": null,
   "metadata": {},
   "outputs": [],
   "source": [
    "output"
   ]
  },
  {
   "cell_type": "code",
   "execution_count": null,
   "metadata": {},
   "outputs": [],
   "source": [
    "res[:,:,1]"
   ]
  },
  {
   "cell_type": "code",
   "execution_count": null,
   "metadata": {},
   "outputs": [],
   "source": [
    "class MarketShedMCP(graph.MCP_Geometric):\n",
    "    def _reset(self):\n",
    "        \"\"\"reset the id map\n",
    "        \"\"\"\n",
    "        graph.MCP_Flexible._reset(self)\n",
    "        self._conn = {}\n",
    "        self._bestconn_v = {}\n",
    "        self._bestconn = {}\n",
    "    \n",
    "    def create_connection(self, id1, id2, pos1, pos2, cost1, cost2):\n",
    "        # Process data\n",
    "        hash = min(id1, id2), max(id1, id2)\n",
    "        print(hash)\n",
    "        val = min(pos1, pos2), max(pos1, pos2)\n",
    "        cost = min(cost1, cost2)\n",
    "        # Add to total list \n",
    "        self._conn.setdefault(hash, []).append(val)\n",
    "        # Keep track of connection with lowest cost\n",
    "        curcost = self._bestconn_v.get(hash, (np.inf,))[0]        \n",
    "        if cost1 < cost2:\n",
    "            self._bestconn[val] = (id1,)\n",
    "        else:\n",
    "            self._bestconn[val] = (id2,)        \n",
    "        if cost < curcost:            \n",
    "            self._bestconn_v[hash] = (cost,) + val\n",
    "    \n",
    "mcp_m = MarketShedMCP(img)\n",
    "costs, traceback = mcp_m.find_costs(destinations)"
   ]
  },
  {
   "cell_type": "code",
   "execution_count": null,
   "metadata": {},
   "outputs": [],
   "source": [
    "costs"
   ]
  },
  {
   "cell_type": "code",
   "execution_count": null,
   "metadata": {},
   "outputs": [],
   "source": [
    "import numpy as np\n",
    "from skimage import graph\n",
    "\n",
    "image = np.array(\n",
    "    [[1, 1, 2, 2, 2, 2],\n",
    "     [2, 1, 1, 3, 3, 3],\n",
    "     [3, 2, 1, 2, 2, 2],\n",
    "     [3, 2, 2, 1, 1, 1],\n",
    "     [4, 3, 2, 1, 1, 4],\n",
    "     [4, 3, 2, 1, 1, 4]]\n",
    ")\n",
    "destinations = [[0, 0], [3, 3]]\n",
    "mcp = graph.MCP_Geometric(image)\n",
    "costs, traceback = mcp.find_costs(destinations)"
   ]
  },
  {
   "cell_type": "code",
   "execution_count": null,
   "metadata": {},
   "outputs": [],
   "source": [
    "offsets = _mcp.make_offsets(2, True)\n",
    "offsets.append(np.array([0, 0]))\n",
    "offsets_arr = np.array(offsets)\n",
    "indices = np.indices(traceback.shape)\n",
    "offset_to_neighbor = offsets_arr[traceback]\n",
    "neighbor_index = indices - offset_to_neighbor.transpose((2, 0, 1))\n",
    "ids = np.arange(traceback.size).reshape(costs.shape)\n",
    "neighbor_ids = np.ravel_multi_index(\n",
    "    tuple(neighbor_index), traceback.shape\n",
    ")\n",
    "g = sparse.coo_matrix((\n",
    "        np.ones(traceback.size),\n",
    "        (ids.flat, neighbor_ids.flat)),\n",
    "    )\n",
    "g.toarray().shape\n",
    "\n",
    "\n"
   ]
  },
  {
   "cell_type": "code",
   "execution_count": null,
   "metadata": {},
   "outputs": [],
   "source": [
    "sparse.coo_matrix?"
   ]
  },
  {
   "cell_type": "code",
   "execution_count": null,
   "metadata": {},
   "outputs": [],
   "source": [
    "n, components = sparse.csgraph.connected_components(g, directed=False)\n",
    "basins = components.reshape(costs.shape)"
   ]
  },
  {
   "cell_type": "code",
   "execution_count": null,
   "metadata": {},
   "outputs": [],
   "source": [
    "n, components = sparse.csgraph.connected_components(ids, directed=False)\n",
    "basins = components.reshape(costs.shape)"
   ]
  },
  {
   "cell_type": "code",
   "execution_count": null,
   "metadata": {},
   "outputs": [],
   "source": [
    "neighbor_ids"
   ]
  },
  {
   "cell_type": "code",
   "execution_count": null,
   "metadata": {},
   "outputs": [],
   "source": []
  }
 ],
 "metadata": {
  "kernelspec": {
   "display_name": "Python (geog)",
   "language": "python",
   "name": "geog"
  },
  "language_info": {
   "codemirror_mode": {
    "name": "ipython",
    "version": 3
   },
   "file_extension": ".py",
   "mimetype": "text/x-python",
   "name": "python",
   "nbconvert_exporter": "python",
   "pygments_lexer": "ipython3",
   "version": "3.7.1"
  }
 },
 "nbformat": 4,
 "nbformat_minor": 2
}
