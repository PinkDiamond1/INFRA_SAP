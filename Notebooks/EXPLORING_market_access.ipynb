{
 "cells": [
  {
   "cell_type": "markdown",
   "metadata": {},
   "source": [
    "### This notebook has various explorations of the market access tools, but is not desgined as a complete workflow. Use at your own discretion"
   ]
  },
  {
   "cell_type": "code",
   "execution_count": 11,
   "metadata": {},
   "outputs": [],
   "source": [
    "import sys, os, importlib\n",
    "import rasterio\n",
    "\n",
    "import numpy as np\n",
    "import pandas as pd\n",
    "import geopandas as gpd\n",
    "import osmnx as ox\n",
    "import GOSTnets as gn\n",
    "import skimage.graph as graph\n",
    "\n",
    "from rasterio.mask import mask\n",
    "from rasterio import features\n",
    "from shapely.geometry import box, Point, Polygon\n",
    "from scipy.ndimage import generic_filter\n",
    "from pandana.loaders import osm\n",
    "\n",
    "sys.path.append(\"../\")\n",
    "\n",
    "import infrasap.market_access as ma\n",
    "import infrasap.GOSTRocks.rasterMisc as rMisc\n",
    "#import infrasap.rai_calculator as rai"
   ]
  },
  {
   "cell_type": "code",
   "execution_count": null,
   "metadata": {},
   "outputs": [],
   "source": [
    "global_friction_surface = \"/home/public/Data/GLOBAL/INFRA/FRICTION_2015/2015_friction_surface_v1.geotiff\"\n",
    "\n",
    "inG = rasterio.open(global_friction_surface)\n"
   ]
  },
  {
   "cell_type": "code",
   "execution_count": 3,
   "metadata": {},
   "outputs": [
    {
     "data": {
      "text/html": [
       "<div>\n",
       "<style scoped>\n",
       "    .dataframe tbody tr th:only-of-type {\n",
       "        vertical-align: middle;\n",
       "    }\n",
       "\n",
       "    .dataframe tbody tr th {\n",
       "        vertical-align: top;\n",
       "    }\n",
       "\n",
       "    .dataframe thead th {\n",
       "        text-align: right;\n",
       "    }\n",
       "</style>\n",
       "<table border=\"1\" class=\"dataframe\">\n",
       "  <thead>\n",
       "    <tr style=\"text-align: right;\">\n",
       "      <th></th>\n",
       "      <th>OBJECTID</th>\n",
       "      <th>ISO_A2</th>\n",
       "      <th>WB_ADM0_CO</th>\n",
       "      <th>WB_ADM0_NA</th>\n",
       "      <th>Shape_Leng</th>\n",
       "      <th>Shape_Area</th>\n",
       "      <th>ISO3</th>\n",
       "      <th>UN_m49</th>\n",
       "      <th>Region</th>\n",
       "      <th>incomeG</th>\n",
       "      <th>lendingC</th>\n",
       "      <th>FID_100</th>\n",
       "      <th>geometry</th>\n",
       "    </tr>\n",
       "  </thead>\n",
       "  <tbody>\n",
       "    <tr>\n",
       "      <th>0</th>\n",
       "      <td>1</td>\n",
       "      <td>AF</td>\n",
       "      <td>1</td>\n",
       "      <td>Afghanistan</td>\n",
       "      <td>7.132529e+06</td>\n",
       "      <td>6.418379e+05</td>\n",
       "      <td>AFG</td>\n",
       "      <td>4</td>\n",
       "      <td>South Asia</td>\n",
       "      <td>Low income</td>\n",
       "      <td>IDA</td>\n",
       "      <td>0</td>\n",
       "      <td>POLYGON ((7903635.422200002 4647361.696500003,...</td>\n",
       "    </tr>\n",
       "    <tr>\n",
       "      <th>1</th>\n",
       "      <td>2</td>\n",
       "      <td>AL</td>\n",
       "      <td>3</td>\n",
       "      <td>Albania</td>\n",
       "      <td>1.743971e+06</td>\n",
       "      <td>2.868177e+04</td>\n",
       "      <td>ALB</td>\n",
       "      <td>8</td>\n",
       "      <td>Europe &amp; Central Asia</td>\n",
       "      <td>Upper middle income</td>\n",
       "      <td>IBRD</td>\n",
       "      <td>100</td>\n",
       "      <td>(POLYGON ((2145902.261799999 4941064.025700003...</td>\n",
       "    </tr>\n",
       "    <tr>\n",
       "      <th>2</th>\n",
       "      <td>3</td>\n",
       "      <td>DZ</td>\n",
       "      <td>4</td>\n",
       "      <td>Algeria</td>\n",
       "      <td>8.933841e+06</td>\n",
       "      <td>2.309321e+06</td>\n",
       "      <td>DZA</td>\n",
       "      <td>12</td>\n",
       "      <td>Middle East &amp; North Africa</td>\n",
       "      <td>Upper middle income</td>\n",
       "      <td>IBRD</td>\n",
       "      <td>200</td>\n",
       "      <td>(POLYGON ((-125251.4530000016 4264455.85010000...</td>\n",
       "    </tr>\n",
       "    <tr>\n",
       "      <th>3</th>\n",
       "      <td>4</td>\n",
       "      <td>AS</td>\n",
       "      <td>5</td>\n",
       "      <td>American Samoa (U.S.)</td>\n",
       "      <td>1.744573e+05</td>\n",
       "      <td>2.110162e+02</td>\n",
       "      <td>ASM</td>\n",
       "      <td>16</td>\n",
       "      <td>East Asia &amp; Pacific</td>\n",
       "      <td>Upper middle income</td>\n",
       "      <td>None</td>\n",
       "      <td>300</td>\n",
       "      <td>(POLYGON ((-18985804.4762 -1607929.979800001, ...</td>\n",
       "    </tr>\n",
       "    <tr>\n",
       "      <th>4</th>\n",
       "      <td>5</td>\n",
       "      <td>SD</td>\n",
       "      <td>6</td>\n",
       "      <td>Sudan</td>\n",
       "      <td>8.852111e+06</td>\n",
       "      <td>1.844887e+06</td>\n",
       "      <td>SDN</td>\n",
       "      <td>736</td>\n",
       "      <td>Sub-Saharan Africa</td>\n",
       "      <td>Lower middle income</td>\n",
       "      <td>IDA</td>\n",
       "      <td>400</td>\n",
       "      <td>(POLYGON ((4282246.283599999 2048756.8814, 428...</td>\n",
       "    </tr>\n",
       "  </tbody>\n",
       "</table>\n",
       "</div>"
      ],
      "text/plain": [
       "   OBJECTID ISO_A2  WB_ADM0_CO             WB_ADM0_NA    Shape_Leng  \\\n",
       "0         1     AF           1            Afghanistan  7.132529e+06   \n",
       "1         2     AL           3                Albania  1.743971e+06   \n",
       "2         3     DZ           4                Algeria  8.933841e+06   \n",
       "3         4     AS           5  American Samoa (U.S.)  1.744573e+05   \n",
       "4         5     SD           6                  Sudan  8.852111e+06   \n",
       "\n",
       "     Shape_Area ISO3  UN_m49                      Region              incomeG  \\\n",
       "0  6.418379e+05  AFG       4                  South Asia           Low income   \n",
       "1  2.868177e+04  ALB       8       Europe & Central Asia  Upper middle income   \n",
       "2  2.309321e+06  DZA      12  Middle East & North Africa  Upper middle income   \n",
       "3  2.110162e+02  ASM      16         East Asia & Pacific  Upper middle income   \n",
       "4  1.844887e+06  SDN     736          Sub-Saharan Africa  Lower middle income   \n",
       "\n",
       "  lendingC  FID_100                                           geometry  \n",
       "0      IDA        0  POLYGON ((7903635.422200002 4647361.696500003,...  \n",
       "1     IBRD      100  (POLYGON ((2145902.261799999 4941064.025700003...  \n",
       "2     IBRD      200  (POLYGON ((-125251.4530000016 4264455.85010000...  \n",
       "3     None      300  (POLYGON ((-18985804.4762 -1607929.979800001, ...  \n",
       "4      IDA      400  (POLYGON ((4282246.283599999 2048756.8814, 428...  "
      ]
     },
     "execution_count": 3,
     "metadata": {},
     "output_type": "execute_result"
    }
   ],
   "source": [
    "global_admin = \"/home/public/Data/GLOBAL/ADMIN/Admin0_Polys.shp\"\n",
    "inD = gpd.read_file(global_admin)\n",
    "selD = inD.loc[inD['Region'] == \"Sub-Saharan Africa\"]\n",
    "selD = selD.to_crs(inG.crs)"
   ]
  },
  {
   "cell_type": "code",
   "execution_count": 12,
   "metadata": {},
   "outputs": [],
   "source": [
    "# clip out the Africa Raster\n",
    "out_file = \"/home/wb411133/temp/AFR_friction_2015.tif\"\n",
    "rMisc.clipRaster(inG, selD, out_file)"
   ]
  },
  {
   "cell_type": "code",
   "execution_count": 13,
   "metadata": {},
   "outputs": [],
   "source": [
    "sel_G = rasterio.open(out_file)\n",
    "inD = sel_G.read()\n",
    "# inD is stored as minutes to travel one meter. Need to convert to second to traverse the entire 1 km cell\n",
    "mcp = graph.MCP_Geometric(inD[0,:,:])"
   ]
  },
  {
   "cell_type": "code",
   "execution_count": 14,
   "metadata": {},
   "outputs": [],
   "source": [
    "in_ports = \"/home/public/Data/GLOBAL/INFRA/PORTS/ports_noProv.csv\"\n",
    "out_folder = \"/home/wb411133/data/Global/INFRA/PORTS\"\n",
    "ports_file = os.path.join(out_folder, \"major_ports.shp\")\n",
    "if not os.path.exists(ports_file):\n",
    "    inP = pd.read_csv(in_ports)\n",
    "    inP_geom = [Point(x) for x in zip(inP['Lng'], inP['Lat'])]\n",
    "    inP = gpd.GeoDataFrame(inP, geometry = inP_geom, crs={'init':'epsg:4326'})\n",
    "    inP.to_file(ports_file)\n",
    "else:\n",
    "    inP = gpd.read_file(ports_file)"
   ]
  },
  {
   "cell_type": "code",
   "execution_count": 15,
   "metadata": {},
   "outputs": [],
   "source": [
    "importlib.reload(ma)\n",
    "ma.generate_market_sheds?"
   ]
  },
  {
   "cell_type": "code",
   "execution_count": 17,
   "metadata": {},
   "outputs": [
    {
     "ename": "MemoryError",
     "evalue": "",
     "output_type": "error",
     "traceback": [
      "\u001b[0;31m---------------------------------------------------------------------------\u001b[0m",
      "\u001b[0;31mMemoryError\u001b[0m                               Traceback (most recent call last)",
      "\u001b[0;32m<ipython-input-17-00a3e0e84404>\u001b[0m in \u001b[0;36m<module>\u001b[0;34m\u001b[0m\n\u001b[1;32m      2\u001b[0m \u001b[0minG\u001b[0m \u001b[0;34m=\u001b[0m \u001b[0mrasterio\u001b[0m\u001b[0;34m.\u001b[0m\u001b[0mopen\u001b[0m\u001b[0;34m(\u001b[0m\u001b[0;34m\"/home/wb411133/temp/AFR_friction_2015.tif\"\u001b[0m\u001b[0;34m)\u001b[0m\u001b[0;34m\u001b[0m\u001b[0;34m\u001b[0m\u001b[0m\n\u001b[1;32m      3\u001b[0m \u001b[0mout_file\u001b[0m \u001b[0;34m=\u001b[0m \u001b[0;34m\"/home/wb411133/temp/port_sheds_AFR.tif\"\u001b[0m\u001b[0;34m\u001b[0m\u001b[0;34m\u001b[0m\u001b[0m\n\u001b[0;32m----> 4\u001b[0;31m \u001b[0mma\u001b[0m\u001b[0;34m.\u001b[0m\u001b[0mgenerate_market_sheds\u001b[0m\u001b[0;34m(\u001b[0m\u001b[0minG\u001b[0m\u001b[0;34m,\u001b[0m \u001b[0minP\u001b[0m\u001b[0;34m,\u001b[0m \u001b[0mout_file\u001b[0m\u001b[0;34m)\u001b[0m\u001b[0;34m\u001b[0m\u001b[0;34m\u001b[0m\u001b[0m\n\u001b[0m",
      "\u001b[0;32m~/Code/INFRA_SAP/infrasap/market_access.py\u001b[0m in \u001b[0;36mgenerate_market_sheds\u001b[0;34m(inR, inH, out_file, verbose, factor, bandIdx)\u001b[0m\n\u001b[1;32m    197\u001b[0m         \u001b[0mextra_size\u001b[0m \u001b[0;34m=\u001b[0m \u001b[0mnp\u001b[0m\u001b[0;34m.\u001b[0m\u001b[0mzeros\u001b[0m\u001b[0;34m(\u001b[0m\u001b[0;34m[\u001b[0m\u001b[0;34m(\u001b[0m\u001b[0mxx\u001b[0m\u001b[0;34m.\u001b[0m\u001b[0mshape\u001b[0m\u001b[0;34m[\u001b[0m\u001b[0;36m0\u001b[0m\u001b[0;34m]\u001b[0m \u001b[0;34m-\u001b[0m \u001b[0mxx\u001b[0m\u001b[0;34m.\u001b[0m\u001b[0mshape\u001b[0m\u001b[0;34m[\u001b[0m\u001b[0;36m1\u001b[0m\u001b[0;34m]\u001b[0m\u001b[0;34m)\u001b[0m\u001b[0;34m,\u001b[0m \u001b[0mxx\u001b[0m\u001b[0;34m.\u001b[0m\u001b[0mshape\u001b[0m\u001b[0;34m[\u001b[0m\u001b[0;36m0\u001b[0m\u001b[0;34m]\u001b[0m\u001b[0;34m]\u001b[0m\u001b[0;34m)\u001b[0m \u001b[0;34m+\u001b[0m \u001b[0mmax_speed\u001b[0m\u001b[0;34m\u001b[0m\u001b[0;34m\u001b[0m\u001b[0m\n\u001b[1;32m    198\u001b[0m         \u001b[0mnew_xx\u001b[0m \u001b[0;34m=\u001b[0m \u001b[0mnp\u001b[0m\u001b[0;34m.\u001b[0m\u001b[0mhstack\u001b[0m\u001b[0;34m(\u001b[0m\u001b[0;34m[\u001b[0m\u001b[0mxx\u001b[0m\u001b[0;34m,\u001b[0m \u001b[0mextra_size\u001b[0m\u001b[0;34m]\u001b[0m\u001b[0;34m)\u001b[0m\u001b[0;34m\u001b[0m\u001b[0;34m\u001b[0m\u001b[0m\n\u001b[0;32m--> 199\u001b[0;31m     \u001b[0mmcp\u001b[0m \u001b[0;34m=\u001b[0m \u001b[0mgraph\u001b[0m\u001b[0;34m.\u001b[0m\u001b[0mMCP_Geometric\u001b[0m\u001b[0;34m(\u001b[0m\u001b[0mnew_xx\u001b[0m\u001b[0;34m)\u001b[0m\u001b[0;34m\u001b[0m\u001b[0;34m\u001b[0m\u001b[0m\n\u001b[0m\u001b[1;32m    200\u001b[0m \u001b[0;34m\u001b[0m\u001b[0m\n\u001b[1;32m    201\u001b[0m \u001b[0;34m\u001b[0m\u001b[0m\n",
      "\u001b[0;32mskimage/graph/_mcp.pyx\u001b[0m in \u001b[0;36mskimage.graph._mcp.MCP_Geometric.__init__\u001b[0;34m()\u001b[0m\n",
      "\u001b[0;32mskimage/graph/_mcp.pyx\u001b[0m in \u001b[0;36mskimage.graph._mcp.MCP.__init__\u001b[0;34m()\u001b[0m\n",
      "\u001b[0;32mskimage/graph/_mcp.pyx\u001b[0m in \u001b[0;36mskimage.graph._mcp._offset_edge_map\u001b[0;34m()\u001b[0m\n",
      "\u001b[0;31mMemoryError\u001b[0m: "
     ]
    }
   ],
   "source": [
    "importlib.reload(ma)\n",
    "inG = rasterio.open(\"/home/wb411133/temp/AFR_friction_2015.tif\")\n",
    "out_file = \"/home/wb411133/temp/port_sheds_AFR.tif\"\n",
    "ma.generate_market_sheds(inG, inP, out_file)"
   ]
  },
  {
   "cell_type": "code",
   "execution_count": null,
   "metadata": {},
   "outputs": [],
   "source": [
    "ma.generate_feature_vectors?"
   ]
  },
  {
   "cell_type": "code",
   "execution_count": null,
   "metadata": {},
   "outputs": [],
   "source": [
    "inD = inG.read()\n",
    "# inD is stored as minutes to travel one meter. Need to convert to second to traverse the entire 1 km cell\n",
    "mcp = graph.MCP_Geometric(inD[0,:,:] * 1000)"
   ]
  },
  {
   "cell_type": "code",
   "execution_count": null,
   "metadata": {},
   "outputs": [],
   "source": [
    "drive_time_thresholds = [1, 5, 10, 15] # days\n",
    "drive_time_thresholds = [x * 24 * 60 for x in drive_time_thresholds] #convert days to minutes\n",
    "drive_vectors = ma.generate_feature_vectors(inR, mcp, inD, drive_time_thresholds)\n",
    "drive_vectors.to_file(os.path.join(tutorial_folder, \"drive_vectors.shp\"))"
   ]
  },
  {
   "cell_type": "markdown",
   "metadata": {},
   "source": [
    "# Calculate market sheds from travel datasets\n",
    "https://scikit-image.org/docs/dev/api/skimage.graph.html#skimage.graph.MCP_Geometric\n"
   ]
  },
  {
   "cell_type": "code",
   "execution_count": null,
   "metadata": {},
   "outputs": [],
   "source": [
    "import sys, os, importlib\n",
    "import rasterio\n",
    "\n",
    "import numpy as np\n",
    "import pandas as pd\n",
    "import geopandas as gpd\n",
    "import osmnx as ox\n",
    "import GOSTnets as gn\n",
    "import skimage.graph as graph\n",
    "\n",
    "from rasterio.mask import mask\n",
    "from rasterio import features\n",
    "from shapely.geometry import box, Point, Polygon\n",
    "from scipy.ndimage import generic_filter\n",
    "from pandana.loaders import osm"
   ]
  },
  {
   "cell_type": "code",
   "execution_count": null,
   "metadata": {},
   "outputs": [],
   "source": [
    "tutorial_folder =\"../tutorial_data\"\n",
    "img = os.path.join(tutorial_folder, \"global_friction_surface.tif\")\n",
    "dests = os.path.join(tutorial_folder, \"destinations.shp\")\n",
    "\n",
    "img = rasterio.open(img)\n",
    "inD = gpd.read_file(dests)\n",
    "data = img.read()[0,:,:]"
   ]
  },
  {
   "cell_type": "code",
   "execution_count": null,
   "metadata": {},
   "outputs": [],
   "source": [
    "mcp = graph.MCP_Geometric(data)\n",
    "dests_geom = [img.index(x.x, x.y) for x in inD['geometry']]\n",
    "costs, traceback = mcp.find_costs(dests_geom)"
   ]
  },
  {
   "cell_type": "code",
   "execution_count": null,
   "metadata": {},
   "outputs": [],
   "source": [
    "meta = img.meta.copy()\n",
    "meta.update(dtype=costs.dtype)\n",
    "\n",
    "with rasterio.open(os.path.join(tutorial_folder, \"market_shed_custom.tif\"), 'w', **meta) as outR:\n",
    "    outR.write_band(1, costs)"
   ]
  },
  {
   "cell_type": "markdown",
   "metadata": {},
   "source": [
    "# Debugging below"
   ]
  },
  {
   "cell_type": "code",
   "execution_count": null,
   "metadata": {},
   "outputs": [],
   "source": [
    "import copy\n",
    "# testing market sheds\n",
    "dests_geom = [img.index(x.x, x.y) for x in inD['geometry']]\n",
    "all_c = []\n",
    "n = inD.shape[0]\n",
    "idx = 0"
   ]
  },
  {
   "cell_type": "code",
   "execution_count": null,
   "metadata": {},
   "outputs": [],
   "source": [
    "for dest in dests_geom:\n",
    "    idx += 1\n",
    "    if dest[0] > 0 and dest[0] < img.shape[0] and dest[1] > 0 and dest[1] < img.shape[1]:\n",
    "        c1, trace = mcp.find_costs([dest])\n",
    "        all_c.append(copy.deepcopy(c1))\n",
    "    else:\n",
    "        print(f\"{idx} of {n} cannot be processed\")\n"
   ]
  },
  {
   "cell_type": "code",
   "execution_count": null,
   "metadata": {},
   "outputs": [],
   "source": [
    "# Iterate through results to generate final marketshed\n",
    "res = np.zeros(all_c[0].shape)\n",
    "for idx in range(0, len(all_c)):\n",
    "    cur_res = all_c[idx]\n",
    "    if idx == 0:\n",
    "        min_res = cur_res\n",
    "    else:\n",
    "        combo = np.dstack([min_res, cur_res])\n",
    "        min_res = np.amin(combo, 2)\n",
    "        cur_val = (min_res == cur_res).astype(np.byte)\n",
    "        m_idx = np.where(cur_val == 1)\n",
    "        res[m_idx] = idx\n"
   ]
  },
  {
   "cell_type": "code",
   "execution_count": null,
   "metadata": {},
   "outputs": [],
   "source": [
    "meta = img.meta.copy()\n",
    "meta.update(dtype=res.dtype)\n",
    "with rasterio.open(os.path.join(tutorial_folder, \"market_shed_custom.tif\"), 'w', **meta) as outR:\n",
    "    outR.write_band(1, res)"
   ]
  },
  {
   "cell_type": "code",
   "execution_count": null,
   "metadata": {},
   "outputs": [],
   "source": [
    "output.shape"
   ]
  },
  {
   "cell_type": "code",
   "execution_count": null,
   "metadata": {},
   "outputs": [],
   "source": []
  },
  {
   "cell_type": "code",
   "execution_count": null,
   "metadata": {},
   "outputs": [],
   "source": []
  },
  {
   "cell_type": "code",
   "execution_count": null,
   "metadata": {},
   "outputs": [],
   "source": [
    "class MarketShedMCP(graph.MCP_Flexible):\n",
    "    def _reset(self):\n",
    "        \"\"\"reset the id map\n",
    "        \"\"\"\n",
    "        graph.MCP_Flexible._reset(self)\n",
    "        self._conn = {}\n",
    "        self._bestconn_v = {}\n",
    "        self._bestconn = {}\n",
    "    \n",
    "    def create_connection(self, id1, id2, pos1, pos2, cost1, cost2):\n",
    "        # Process data\n",
    "        hash = min(id1, id2), max(id1, id2)\n",
    "        val = min(pos1, pos2), max(pos1, pos2)\n",
    "        cost = min(cost1, cost2)\n",
    "        # Add to total list \n",
    "        self._conn.setdefault(hash, []).append(val)\n",
    "        # Keep track of connection with lowest cost\n",
    "        curcost = self._bestconn_v.get(hash, (np.inf,))[0]        \n",
    "        if cost1 < cost2:\n",
    "            self._bestconn[val] = (id1,)\n",
    "        else:\n",
    "            self._bestconn[val] = (id2,)        \n",
    "        if cost < curcost:            \n",
    "            self._bestconn_v[hash] = (cost,) + val\n",
    "    \n",
    "mcp_m = MarketShedMCP(data)\n",
    "costs, traceback = mcp_m.find_costs(dests_geom)"
   ]
  },
  {
   "cell_type": "code",
   "execution_count": null,
   "metadata": {},
   "outputs": [],
   "source": [
    "data.shape[0] * data.shape[1]"
   ]
  },
  {
   "cell_type": "code",
   "execution_count": null,
   "metadata": {},
   "outputs": [],
   "source": [
    "len(mcp_m._bestconn.keys())"
   ]
  },
  {
   "cell_type": "code",
   "execution_count": null,
   "metadata": {},
   "outputs": [],
   "source": [
    "graph.MCP_Flexible.update_node?"
   ]
  },
  {
   "cell_type": "code",
   "execution_count": null,
   "metadata": {},
   "outputs": [],
   "source": []
  },
  {
   "cell_type": "code",
   "execution_count": null,
   "metadata": {},
   "outputs": [],
   "source": [
    "costs, traceback = mcp.find_costs(dests_geom, find_all_ends=True)"
   ]
  },
  {
   "cell_type": "code",
   "execution_count": null,
   "metadata": {},
   "outputs": [],
   "source": [
    "meta = img.meta.copy()\n",
    "meta.update(dtype=res.dtype, count=5)\n",
    "with rasterio.open(os.path.join(tutorial_folder, \"market_shed.tif\"), 'w', **meta) as outR:\n",
    "    for idx in range(0,5):\n",
    "        outR.write_band(idx + 1, res[:,:,idx])"
   ]
  },
  {
   "cell_type": "code",
   "execution_count": null,
   "metadata": {},
   "outputs": [],
   "source": [
    "def get_min_axis(x):\n",
    "    return(np.where(x == x.min()))\n",
    "\n",
    "res_min = np.apply_along_axis(get_min_axis, 2, res)"
   ]
  },
  {
   "cell_type": "code",
   "execution_count": null,
   "metadata": {},
   "outputs": [],
   "source": [
    "meta = img.meta.copy()\n",
    "res_min = res_min.astype(meta['dtype'])"
   ]
  },
  {
   "cell_type": "code",
   "execution_count": null,
   "metadata": {},
   "outputs": [],
   "source": [
    "res_min.shape"
   ]
  },
  {
   "cell_type": "code",
   "execution_count": null,
   "metadata": {},
   "outputs": [],
   "source": [
    "\n",
    "meta.update(dtype=res_min.dtype)\n",
    "with rasterio.open(os.path.join(tutorial_folder, \"market_shed_2.tif\"), 'w', **meta) as outR:\n",
    "    outR.write_band(1, res_min[:,:,0,0])\n",
    "\n",
    "'''\n",
    "meta.update(dtype=costs.dtype)\n",
    "with rasterio.open(os.path.join(tutorial_folder, \"travel_costs_fa.tif\"), 'w', **meta) as outR:\n",
    "    outR.write_band(1, costs)\n",
    "    \n",
    "meta.update(dtype=traceback.dtype)\n",
    "with rasterio.open(os.path.join(tutorial_folder, \"traceback_fa.tif\"), 'w', **meta) as outR:\n",
    "    outR.write_band(1, traceback)\n",
    "'''"
   ]
  },
  {
   "cell_type": "code",
   "execution_count": null,
   "metadata": {},
   "outputs": [],
   "source": [
    "sys.path.append(\"../\")\n",
    "\n",
    "import infrasap.market_access as ma"
   ]
  },
  {
   "cell_type": "code",
   "execution_count": null,
   "metadata": {},
   "outputs": [],
   "source": [
    "importlib.reload(ma)\n",
    "out_file = os.path.join(tutorial_folder, \"market_shed_3.tif\")\n",
    "ma.generate_market_sheds(img, mcp, inD, out_file)"
   ]
  },
  {
   "cell_type": "markdown",
   "metadata": {},
   "source": [
    "# Calculate area of cells in raster dataset"
   ]
  },
  {
   "cell_type": "code",
   "execution_count": null,
   "metadata": {},
   "outputs": [],
   "source": [
    "global_friction_surface = \"/home/public/Data/GLOBAL/INFRA/FRICTION_2015/2015_friction_surface_v1.geotiff\"\n",
    "\n",
    "inG = rasterio.open(global_friction_surface)\n",
    "inD = inG.read()"
   ]
  },
  {
   "cell_type": "code",
   "execution_count": null,
   "metadata": {},
   "outputs": [],
   "source": [
    "inD.shape"
   ]
  },
  {
   "cell_type": "code",
   "execution_count": null,
   "metadata": {},
   "outputs": [],
   "source": [
    "inG.bounds"
   ]
  },
  {
   "cell_type": "code",
   "execution_count": null,
   "metadata": {},
   "outputs": [],
   "source": [
    "def generate_shape(x, llx, lly, res):\n",
    "    lly = lly + (x * res)\n",
    "    ll = (llx, lly)\n",
    "    ul = (llx, lly + res)\n",
    "    ur = (llx + res, lly + res)\n",
    "    lr = (llx + res, lly)\n",
    "    shape = Polygon([ll, ul, ur, lr, ll])\n",
    "    return(shape)\n",
    "    \n",
    "b = inG.bounds\n",
    "res = inG.meta['transform'][0]\n",
    "all_shapes = [generate_shape(x, b[0], b[1], res) for x in range(0, inD.shape[1])]"
   ]
  },
  {
   "cell_type": "code",
   "execution_count": null,
   "metadata": {},
   "outputs": [],
   "source": [
    "res = pd.DataFrame(columns=[\"idx\"])\n",
    "res['idx'] = list(range(0, inG.shape[0]))\n",
    "res = gpd.GeoDataFrame(res, geometry=all_shapes, crs = inG.crs)\n",
    "res['area'] = res['geometry'].apply(lambda x: x.area)"
   ]
  },
  {
   "cell_type": "code",
   "execution_count": null,
   "metadata": {},
   "outputs": [],
   "source": [
    "res.to_file(\"/home/wb411133/temp/gfs_column1.shp\")"
   ]
  },
  {
   "cell_type": "code",
   "execution_count": null,
   "metadata": {},
   "outputs": [],
   "source": [
    "# Convert to UTM to calculate area to metres\n",
    "'''sys.path.append(\"../../GOST\")\n",
    "\n",
    "import GOSTRocks.misc as misc\n",
    "res_sel = res.iloc[1:-1,]\n",
    "res_utm = misc.project_UTM(res_sel)'''\n",
    "\n",
    "res_utm = res.to_crs({'init':'epsg:32601'})"
   ]
  },
  {
   "cell_type": "code",
   "execution_count": null,
   "metadata": {},
   "outputs": [],
   "source": [
    "res_utm['area_utm'] = res_utm['geometry'].apply(lambda x: x.area)\n",
    "res_utm.to_file(\"/home/wb411133/temp/gfs_column1.shp\")"
   ]
  },
  {
   "cell_type": "code",
   "execution_count": null,
   "metadata": {},
   "outputs": [],
   "source": [
    "res_utm.head()"
   ]
  },
  {
   "cell_type": "code",
   "execution_count": null,
   "metadata": {},
   "outputs": [],
   "source": [
    "import numpy as np\n",
    "import skimage.graph as graph\n",
    "import copy"
   ]
  },
  {
   "cell_type": "code",
   "execution_count": null,
   "metadata": {},
   "outputs": [],
   "source": [
    "img = np.array([[1,1,2,2,2],[2,1,1,3,3],[3,2,1,2,3],[2,2,2,1,1]])\n",
    "mcp = graph.MCP_Geometric(img)"
   ]
  },
  {
   "cell_type": "code",
   "execution_count": null,
   "metadata": {},
   "outputs": [],
   "source": [
    "destinations = [[0,0],[3,3]]\n",
    "costs, traceback = mcp.find_costs(destinations)\n",
    "print(costs)\n",
    "print(traceback)"
   ]
  },
  {
   "cell_type": "code",
   "execution_count": null,
   "metadata": {},
   "outputs": [],
   "source": [
    "output"
   ]
  },
  {
   "cell_type": "code",
   "execution_count": null,
   "metadata": {},
   "outputs": [],
   "source": [
    "all_c = []\n",
    "for dest in destinations:\n",
    "    costs, traceback = mcp.find_costs([dest])\n",
    "    all_c.append(copy.deepcopy(costs))"
   ]
  },
  {
   "cell_type": "code",
   "execution_count": null,
   "metadata": {},
   "outputs": [],
   "source": [
    "res = np.dstack(all_c)\n",
    "res_min = np.amin(res, axis=2)\n",
    "output = np.zeros([res_min.shape[0], res_min.shape[1]])\n",
    "for idx in range(0, res.shape[2]):\n",
    "    cur_data = res[:,:,idx]\n",
    "    cur_val = (cur_data == res_min).astype(np.byte) * idx\n",
    "    output = output + cur_val\n",
    "output = output.astype(np.byte)\n"
   ]
  },
  {
   "cell_type": "code",
   "execution_count": null,
   "metadata": {},
   "outputs": [],
   "source": [
    "output"
   ]
  },
  {
   "cell_type": "code",
   "execution_count": null,
   "metadata": {},
   "outputs": [],
   "source": [
    "res[:,:,1]"
   ]
  },
  {
   "cell_type": "code",
   "execution_count": null,
   "metadata": {},
   "outputs": [],
   "source": [
    "class MarketShedMCP(graph.MCP_Geometric):\n",
    "    def _reset(self):\n",
    "        \"\"\"reset the id map\n",
    "        \"\"\"\n",
    "        graph.MCP_Flexible._reset(self)\n",
    "        self._conn = {}\n",
    "        self._bestconn_v = {}\n",
    "        self._bestconn = {}\n",
    "    \n",
    "    def create_connection(self, id1, id2, pos1, pos2, cost1, cost2):\n",
    "        # Process data\n",
    "        hash = min(id1, id2), max(id1, id2)\n",
    "        print(hash)\n",
    "        val = min(pos1, pos2), max(pos1, pos2)\n",
    "        cost = min(cost1, cost2)\n",
    "        # Add to total list \n",
    "        self._conn.setdefault(hash, []).append(val)\n",
    "        # Keep track of connection with lowest cost\n",
    "        curcost = self._bestconn_v.get(hash, (np.inf,))[0]        \n",
    "        if cost1 < cost2:\n",
    "            self._bestconn[val] = (id1,)\n",
    "        else:\n",
    "            self._bestconn[val] = (id2,)        \n",
    "        if cost < curcost:            \n",
    "            self._bestconn_v[hash] = (cost,) + val\n",
    "    \n",
    "mcp_m = MarketShedMCP(img)\n",
    "costs, traceback = mcp_m.find_costs(destinations)"
   ]
  },
  {
   "cell_type": "code",
   "execution_count": null,
   "metadata": {},
   "outputs": [],
   "source": [
    "costs"
   ]
  },
  {
   "cell_type": "code",
   "execution_count": null,
   "metadata": {},
   "outputs": [],
   "source": [
    "import numpy as np\n",
    "from skimage import graph\n",
    "\n",
    "image = np.array(\n",
    "    [[1, 1, 2, 2, 2, 2],\n",
    "     [2, 1, 1, 3, 3, 3],\n",
    "     [3, 2, 1, 2, 2, 2],\n",
    "     [3, 2, 2, 1, 1, 1],\n",
    "     [4, 3, 2, 1, 1, 4],\n",
    "     [4, 3, 2, 1, 1, 4]]\n",
    ")\n",
    "destinations = [[0, 0], [3, 3]]\n",
    "mcp = graph.MCP_Geometric(image)\n",
    "costs, traceback = mcp.find_costs(destinations)"
   ]
  },
  {
   "cell_type": "code",
   "execution_count": null,
   "metadata": {},
   "outputs": [],
   "source": [
    "offsets = _mcp.make_offsets(2, True)\n",
    "offsets.append(np.array([0, 0]))\n",
    "offsets_arr = np.array(offsets)\n",
    "indices = np.indices(traceback.shape)\n",
    "offset_to_neighbor = offsets_arr[traceback]\n",
    "neighbor_index = indices - offset_to_neighbor.transpose((2, 0, 1))\n",
    "ids = np.arange(traceback.size).reshape(costs.shape)\n",
    "neighbor_ids = np.ravel_multi_index(\n",
    "    tuple(neighbor_index), traceback.shape\n",
    ")\n",
    "g = sparse.coo_matrix((\n",
    "        np.ones(traceback.size),\n",
    "        (ids.flat, neighbor_ids.flat)),\n",
    "    )\n",
    "g.toarray().shape\n",
    "\n",
    "\n"
   ]
  },
  {
   "cell_type": "code",
   "execution_count": null,
   "metadata": {},
   "outputs": [],
   "source": [
    "sparse.coo_matrix?"
   ]
  },
  {
   "cell_type": "code",
   "execution_count": null,
   "metadata": {},
   "outputs": [],
   "source": [
    "n, components = sparse.csgraph.connected_components(g, directed=False)\n",
    "basins = components.reshape(costs.shape)"
   ]
  },
  {
   "cell_type": "code",
   "execution_count": null,
   "metadata": {},
   "outputs": [],
   "source": [
    "n, components = sparse.csgraph.connected_components(ids, directed=False)\n",
    "basins = components.reshape(costs.shape)"
   ]
  },
  {
   "cell_type": "code",
   "execution_count": null,
   "metadata": {},
   "outputs": [],
   "source": [
    "neighbor_ids"
   ]
  },
  {
   "cell_type": "code",
   "execution_count": null,
   "metadata": {},
   "outputs": [],
   "source": []
  }
 ],
 "metadata": {
  "kernelspec": {
   "display_name": "Python (geog)",
   "language": "python",
   "name": "geog"
  },
  "language_info": {
   "codemirror_mode": {
    "name": "ipython",
    "version": 3
   },
   "file_extension": ".py",
   "mimetype": "text/x-python",
   "name": "python",
   "nbconvert_exporter": "python",
   "pygments_lexer": "ipython3",
   "version": "3.7.1"
  }
 },
 "nbformat": 4,
 "nbformat_minor": 2
}
