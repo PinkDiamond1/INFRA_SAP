{
 "cells": [
  {
   "cell_type": "markdown",
   "metadata": {},
   "source": [
    "In support of the World Bank's ongoing support to the CoVID response in Africa, the INFRA-SAP team has partnered with the Chief Economist of HD to analyze the preparedness of the health system to respond to CoVID, focusing on ideas around infrastructure: access to facilities, demographics, electrification, and connectivity.\n",
    "\n",
    "https://github.com/worldbank/INFRA_SAP/wiki/Kenya-CoVID-response"
   ]
  },
  {
   "cell_type": "code",
   "execution_count": 1,
   "metadata": {},
   "outputs": [],
   "source": [
    "import os, sys, importlib\n",
    "import rasterio, affine, gdal\n",
    "\n",
    "import networkx as nx\n",
    "import geopandas as gpd\n",
    "import pandas as pd\n",
    "import numpy as np\n",
    "import skimage.graph as graph\n",
    "\n",
    "from shapely.geometry import Point, shape, box\n",
    "from shapely.wkt import loads\n",
    "from shapely.ops import cascaded_union\n",
    "from rasterio import features\n",
    "\n",
    "import GOSTnets as gn\n",
    "import GOSTnets.load_osm as losm\n",
    "\n",
    "sys.path.append(\"/home/wb411133/Code/GOST\")\n",
    "\n",
    "import GOSTRocks.rasterMisc as rMisc\n",
    "import GOSTRocks.misc as misc\n",
    "import GOSTRocks.Urban.UrbanRaster as urban\n",
    "\n",
    "sys.path.append(\"../\")\n",
    "import infrasap.market_access as ma"
   ]
  },
  {
   "cell_type": "code",
   "execution_count": 2,
   "metadata": {},
   "outputs": [],
   "source": [
    "country = \"KEN\"\n",
    "iso2 = \"KE\"\n",
    "out_folder = \"/home/wb411133/data/Country/%s\" % country\n",
    "travel_folder = os.path.join(out_folder, 'TRAVEL_TIMES')\n",
    "\n",
    "road_network = \"/home/wb411133/data/Country/KEN/INFRA/KEN_OSM_OSMLR_1_3.osm.pbf\"\n",
    "network_map = os.path.join(travel_folder, \"road_network.tif\")\n",
    "\n",
    "all_hospitals = \"/home/public/Data/COUNTRY/KEN/HD_INF/merged_hospitals.shp\"\n",
    "critical_facilities = \"/home/wb411133/data/Country/KEN/INFRA/HEALTH_INF/KEN_Critical_Care_Facilities.csv\"\n",
    "\n",
    "pop_layer = \"/home/public/Data/GLOBAL/Population/WorldPop_PPP_2020/MOSAIC_ppp_prj_2020/ppp_prj_2020_%s.tif\" % country\n",
    "vul_map = \"/home/public/Data/COUNTRY/KEN/HD_INF/KEN_vulnerability_map.tif\"\n",
    "urbanPop = os.path.join(out_folder, \"wp_urban_pop.tif\")\n",
    "\n",
    "gsm_folder = \"/home/public/Data/GLOBAL/INFRA/GSMA/2019/MCE/Data_MCE/Global\"\n",
    "gsm_2g = os.path.join(gsm_folder, \"MCE_Global2G_2020.tif\")\n",
    "gsm_3g = os.path.join(gsm_folder, \"MCE_Global3G_2020.tif\")\n",
    "gsm_4g = os.path.join(gsm_folder, \"MCE_Global4G_2020.tif\")\n",
    "\n",
    "energy_folder = \"/home/public/Data/COUNTRY/%s/GEP\" % country\n",
    "energy_settlements = os.path.join(energy_folder, \"Kenya_final_clusters.shp\")\n",
    "energy_scenario = os.path.join(energy_folder, \"ke-1-1_1_1_1_1_0.csv\")\n",
    "\n",
    "in_wards = \"/home/public/Data/COUNTRY/KEN/ADMIN/KEN_adm4.shp\"\n",
    "\n",
    "inH = gpd.read_file(all_hospitals)\n",
    "inW = gpd.read_file(in_wards)\n",
    "pop_data = rasterio.open(pop_layer)\n",
    "\n",
    "if not os.path.exists(critical_facilities.replace(\".csv\",\".shp\")):\n",
    "    critical_h = pd.read_csv(critical_facilities)\n",
    "    c_geom = [Point(x) for x in zip(critical_h['Long'], critical_h['Lat'])]\n",
    "    in_c = gpd.GeoDataFrame(critical_h, geometry=c_geom, crs={'init':'epsg:4326'})\n",
    "    in_c.to_file(critical_facilities.replace(\".csv\",\".shp\"))\n",
    "else:\n",
    "    in_c = gpd.read_file(critical_facilities.replace(\".csv\",\".shp\"))"
   ]
  },
  {
   "cell_type": "markdown",
   "metadata": {},
   "source": [
    "# Clean Data"
   ]
  },
  {
   "cell_type": "code",
   "execution_count": 3,
   "metadata": {},
   "outputs": [
    {
     "data": {
      "text/plain": [
       "Dispensary                4664\n",
       "Clinic                    3181\n",
       "Health Centre             1145\n",
       "Hospital                   584\n",
       "Maternity/Nursing Home     220\n",
       "Laboratory                  57\n",
       "Mobile Clinic               53\n",
       "Health Programme            30\n",
       "Pharmacy                    13\n",
       "Name: type, dtype: int64"
      ]
     },
     "execution_count": 3,
     "metadata": {},
     "output_type": "execute_result"
    }
   ],
   "source": [
    "bad_facilities = [\"VCT Centre\",\"Blood Centre\",\"Facility Type\",\"Radiology Unit\",\"Hospice\"]\n",
    "inH = inH.loc[~inH['type'].isin(bad_facilities)]\n",
    "bedH = inH.loc[inH['Beds'] > 0]\n",
    "onlyH = inH.loc[inH['type'] == \"Hospital\"]\n",
    "inH['type'].value_counts()"
   ]
  },
  {
   "cell_type": "markdown",
   "metadata": {},
   "source": [
    "# Measure access to facilitites"
   ]
  },
  {
   "cell_type": "code",
   "execution_count": 4,
   "metadata": {},
   "outputs": [],
   "source": [
    "# Create the traversal time map\n",
    "if not os.path.exists(network_map):\n",
    "    loadOSM = losm.OSM_to_network(road_network)\n",
    "    loadOSM.generateRoadsGDF()\n",
    "    roads = loadOSM.roadsGPD\n",
    "    roads['speed'] = roads['infra_type'].map(ma.speed_dict)\n",
    "    roads['geometry'] = roads['Wkt']\n",
    "    traversal_time = ma.generate_network_raster(pop_data, roads)\n",
    "    meta = pop_data.meta.copy()\n",
    "    meta.update(dtype=traversal_time.dtype)\n",
    "\n",
    "    with rasterio.open(network_map, 'w', **meta) as outR:\n",
    "        outR.write_band(1, traversal_time)\n",
    "else:\n",
    "    network_r = rasterio.open(network_map)\n",
    "    meta = network_r.meta.copy()\n",
    "    traversal_time = network_r.read()[0,:,:]"
   ]
  },
  {
   "cell_type": "code",
   "execution_count": 5,
   "metadata": {},
   "outputs": [],
   "source": [
    "mcp = graph.MCP_Geometric(traversal_time)    "
   ]
  },
  {
   "cell_type": "code",
   "execution_count": 6,
   "metadata": {},
   "outputs": [],
   "source": [
    "# calculate minimum travel time to nearest facility with a bed\n",
    "travel_time = os.path.join(travel_folder, \"bed_tt.tif\")\n",
    "if not os.path.exists(travel_time):\n",
    "    dests = list(set([pop_data.index(x.x, x.y) for x in bedH['geometry']]))\n",
    "    dests = [(d) for d in dests if (d[0] > 0 and d[1] > 0)]\n",
    "    costs, traceback = mcp.find_costs(dests)    \n",
    "    costs = costs.astype(pop_data.meta['dtype'])\n",
    "    with rasterio.open(travel_time, 'w', **pop_data.meta) as out_f:\n",
    "        out_f.write_band(1, costs)"
   ]
  },
  {
   "cell_type": "code",
   "execution_count": 7,
   "metadata": {},
   "outputs": [],
   "source": [
    "# calculate minimum travel time to nearest facility\n",
    "travel_time = os.path.join(travel_folder, \"all_facilities_tt.tif\")\n",
    "if not os.path.exists(travel_time):\n",
    "    dests = list(set([pop_data.index(x.x, x.y) for x in good_f['geometry']]))\n",
    "    dests = [(d) for d in dests if (d[0] > 0 and d[1] > 0)]\n",
    "    dests = [(d) for d in dests if (d[0] <= traversal_time.shape[0] and d[1] <= traversal_time.shape[1])]\n",
    "    costs, traceback = mcp.find_costs(dests)    \n",
    "    costs = costs.astype(pop_data.meta['dtype'])\n",
    "    with rasterio.open(travel_time, 'w', **pop_data.meta) as out_f:\n",
    "        out_f.write_band(1, costs)"
   ]
  },
  {
   "cell_type": "code",
   "execution_count": 8,
   "metadata": {},
   "outputs": [],
   "source": [
    "# calculate minimum travel time to critical care facility\n",
    "travel_time = os.path.join(travel_folder, \"cc_facilities_tt.tif\")\n",
    "if not os.path.exists(travel_time):\n",
    "    dests = list(set([pop_data.index(x.x, x.y) for x in in_c['geometry']]))\n",
    "    dests = [(d) for d in dests if (d[0] > 0 and d[1] > 0)]\n",
    "    dests = [(d) for d in dests if (d[0] <= traversal_time.shape[0] and d[1] <= traversal_time.shape[1])]\n",
    "    costs, traceback = mcp.find_costs(dests)    \n",
    "    costs = costs.astype(pop_data.meta['dtype'])\n",
    "    with rasterio.open(travel_time, 'w', **pop_data.meta) as out_f:\n",
    "        out_f.write_band(1, costs)"
   ]
  },
  {
   "cell_type": "code",
   "execution_count": 11,
   "metadata": {},
   "outputs": [],
   "source": [
    "# calculate minimum travel time to nearest hospital\n",
    "travel_time = os.path.join(travel_folder, \"hospital_tt.tif\")\n",
    "if not os.path.exists(travel_time):\n",
    "    dests = list(set([pop_data.index(x.x, x.y) for x in inH['geometry']]))\n",
    "    dests = [(d) for d in dests if (d[0] > 0 and d[1] > 0)]\n",
    "    costs, traceback = mcp.find_costs(dests)    \n",
    "    costs = costs.astype(pop_data.meta['dtype'])\n",
    "    with rasterio.open(travel_time, 'w', **pop_data.meta) as out_f:\n",
    "        out_f.write_band(1, costs)"
   ]
  },
  {
   "cell_type": "markdown",
   "metadata": {},
   "source": [
    "# Summarize Wards"
   ]
  },
  {
   "cell_type": "code",
   "execution_count": 12,
   "metadata": {},
   "outputs": [],
   "source": [
    "# Population zonal stats\n",
    "res = rMisc.zonalStats(inW, pop_layer, minVal=0, allTouched = True)\n",
    "res = pd.DataFrame(res, columns=[\"SUM\",\"MIN\",'MAX',\"SUM\"])\n",
    "\n",
    "inW['Pop'] = 0\n",
    "inW['Pop'] = res['SUM']"
   ]
  },
  {
   "cell_type": "code",
   "execution_count": 13,
   "metadata": {},
   "outputs": [],
   "source": [
    "# Calculate urban population\n",
    "urb_calculator = urban.urbanGriddedPop(pop_layer)\n",
    "if not os.path.exists(urbanPop):\n",
    "    urban_res = urb_calculator.calculateUrban(densVal = 3, totalPopThresh=5000,\n",
    "                              smooth=False, raster_pop = urbanPop)\n",
    "res = rMisc.zonalStats(inW, urbanPop, minVal=0, allTouched = True)\n",
    "res = pd.DataFrame(res, columns=[\"SUM\",\"MIN\",'MAX',\"SUM\"])\n",
    "inW['URB_POP'] = 0\n",
    "inW['URB_POP'] = res['SUM']"
   ]
  },
  {
   "cell_type": "code",
   "execution_count": 14,
   "metadata": {},
   "outputs": [],
   "source": [
    "#Summarize vulnerable population\n",
    "res = rMisc.zonalStats(inW, vul_map, minVal=0)\n",
    "res = pd.DataFrame(res, columns=['SUM','MIN','MAX','MEAN'])\n",
    "inW[\"VUL_POP\"] = res['SUM']"
   ]
  },
  {
   "cell_type": "code",
   "execution_count": 15,
   "metadata": {},
   "outputs": [
    {
     "name": "stdout",
     "output_type": "stream",
     "text": [
      "09:34:23\tbed_1800 : 1800\n",
      "09:34:29\tbed_3600 : 3600\n",
      "09:34:35\tbed_7200 : 7200\n",
      "09:34:41\tbed_14400 : 14400\n",
      "09:34:48\thospital_1800 : 1800\n",
      "09:34:54\thospital_3600 : 3600\n",
      "09:35:00\thospital_7200 : 7200\n",
      "09:35:06\thospital_14400 : 14400\n",
      "09:35:12\tcc_1800 : 1800\n",
      "09:35:18\tcc_3600 : 3600\n",
      "09:35:24\tcc_7200 : 7200\n",
      "09:35:30\tcc_14400 : 14400\n",
      "09:35:36\tall_1800 : 1800\n",
      "09:35:42\tall_3600 : 3600\n",
      "09:35:48\tall_7200 : 7200\n",
      "09:35:54\tall_14400 : 14400\n"
     ]
    }
   ],
   "source": [
    "# Summarize Population within driving times\n",
    "in_files = ['bed_tt.tif','hospital_tt.tif','cc_facilities_tt.tif','all_facilities_tt.tif']\n",
    "pop_data = rasterio.open(pop_layer).read()[0,:,:]\n",
    "\n",
    "for tt_file in in_files:\n",
    "    tt = rasterio.open(os.path.join(travel_folder, tt_file))\n",
    "    tt_data = tt.read()[0,:,:]\n",
    "    for min_thresh in [1800, 3600, 7200, 14400]:\n",
    "        out_file = os.path.join(travel_folder, tt_file.replace(\".tif\", \"_%s_pop.tif\" % (min_thresh)))\n",
    "        if not os.path.exists(out_file):\n",
    "            tt_thresh = (tt_data < (min_thresh)).astype(int)\n",
    "            thresh_pop = tt_thresh * pop_data\n",
    "            thresh_pop = thresh_pop.astype(tt.meta['dtype'])\n",
    "            with rasterio.open(out_file, 'w', **tt.meta) as outR:\n",
    "                outR.write_band(1, thresh_pop)\n",
    "        res = rMisc.zonalStats(inW, out_file, minVal=0, allTouched = True)\n",
    "        res = pd.DataFrame(res, columns=[\"SUM\",\"MIN\",'MAX',\"SUM\"])\n",
    "        column_name = \"%s_%s\" %  (tt_file.split(\"_\")[0], min_thresh)\n",
    "        inW[column_name] = 0\n",
    "        inW[column_name] = res['SUM']\n",
    "        misc.tPrint(\"%s : %s\" % (column_name, min_thresh))\n",
    "        "
   ]
  },
  {
   "cell_type": "code",
   "execution_count": 16,
   "metadata": {},
   "outputs": [
    {
     "data": {
      "text/html": [
       "<div>\n",
       "<style scoped>\n",
       "    .dataframe tbody tr th:only-of-type {\n",
       "        vertical-align: middle;\n",
       "    }\n",
       "\n",
       "    .dataframe tbody tr th {\n",
       "        vertical-align: top;\n",
       "    }\n",
       "\n",
       "    .dataframe thead th {\n",
       "        text-align: right;\n",
       "    }\n",
       "</style>\n",
       "<table border=\"1\" class=\"dataframe\">\n",
       "  <thead>\n",
       "    <tr style=\"text-align: right;\">\n",
       "      <th></th>\n",
       "      <th>ID_0</th>\n",
       "      <th>ISO</th>\n",
       "      <th>NAME_0</th>\n",
       "      <th>ID_1</th>\n",
       "      <th>NAME_1</th>\n",
       "      <th>ID_2</th>\n",
       "      <th>NAME_2</th>\n",
       "      <th>ID_3</th>\n",
       "      <th>NAME_3</th>\n",
       "      <th>ID_4</th>\n",
       "      <th>...</th>\n",
       "      <th>hospital_7200</th>\n",
       "      <th>hospital_14400</th>\n",
       "      <th>cc_1800</th>\n",
       "      <th>cc_3600</th>\n",
       "      <th>cc_7200</th>\n",
       "      <th>cc_14400</th>\n",
       "      <th>all_1800</th>\n",
       "      <th>all_3600</th>\n",
       "      <th>all_7200</th>\n",
       "      <th>all_14400</th>\n",
       "    </tr>\n",
       "  </thead>\n",
       "  <tbody>\n",
       "    <tr>\n",
       "      <th>0</th>\n",
       "      <td>119</td>\n",
       "      <td>KEN</td>\n",
       "      <td>Kenya</td>\n",
       "      <td>1523</td>\n",
       "      <td>Nyanza</td>\n",
       "      <td>18968</td>\n",
       "      <td>Homa Bay</td>\n",
       "      <td>36311</td>\n",
       "      <td>Kendul Bay</td>\n",
       "      <td>18498</td>\n",
       "      <td>...</td>\n",
       "      <td>31739.177734</td>\n",
       "      <td>31739.177734</td>\n",
       "      <td>0.000000</td>\n",
       "      <td>0.000000</td>\n",
       "      <td>9512.117188</td>\n",
       "      <td>31739.177734</td>\n",
       "      <td>31409.388672</td>\n",
       "      <td>31739.177734</td>\n",
       "      <td>31739.177734</td>\n",
       "      <td>31739.177734</td>\n",
       "    </tr>\n",
       "    <tr>\n",
       "      <th>1</th>\n",
       "      <td>119</td>\n",
       "      <td>KEN</td>\n",
       "      <td>Kenya</td>\n",
       "      <td>1523</td>\n",
       "      <td>Nyanza</td>\n",
       "      <td>18968</td>\n",
       "      <td>Homa Bay</td>\n",
       "      <td>36311</td>\n",
       "      <td>Kendul Bay</td>\n",
       "      <td>18499</td>\n",
       "      <td>...</td>\n",
       "      <td>41396.855469</td>\n",
       "      <td>41396.855469</td>\n",
       "      <td>0.000000</td>\n",
       "      <td>0.000000</td>\n",
       "      <td>40910.492188</td>\n",
       "      <td>41396.855469</td>\n",
       "      <td>41349.046875</td>\n",
       "      <td>41396.855469</td>\n",
       "      <td>41396.855469</td>\n",
       "      <td>41396.855469</td>\n",
       "    </tr>\n",
       "    <tr>\n",
       "      <th>2</th>\n",
       "      <td>119</td>\n",
       "      <td>KEN</td>\n",
       "      <td>Kenya</td>\n",
       "      <td>1523</td>\n",
       "      <td>Nyanza</td>\n",
       "      <td>18968</td>\n",
       "      <td>Homa Bay</td>\n",
       "      <td>36311</td>\n",
       "      <td>Kendul Bay</td>\n",
       "      <td>18500</td>\n",
       "      <td>...</td>\n",
       "      <td>30115.062500</td>\n",
       "      <td>30115.062500</td>\n",
       "      <td>0.000000</td>\n",
       "      <td>0.000000</td>\n",
       "      <td>175.949783</td>\n",
       "      <td>30115.062500</td>\n",
       "      <td>29261.164062</td>\n",
       "      <td>30115.062500</td>\n",
       "      <td>30115.062500</td>\n",
       "      <td>30115.062500</td>\n",
       "    </tr>\n",
       "    <tr>\n",
       "      <th>3</th>\n",
       "      <td>119</td>\n",
       "      <td>KEN</td>\n",
       "      <td>Kenya</td>\n",
       "      <td>1523</td>\n",
       "      <td>Nyanza</td>\n",
       "      <td>18968</td>\n",
       "      <td>Homa Bay</td>\n",
       "      <td>36312</td>\n",
       "      <td>Lake Victoria</td>\n",
       "      <td>18501</td>\n",
       "      <td>...</td>\n",
       "      <td>55619.367188</td>\n",
       "      <td>60611.066406</td>\n",
       "      <td>3190.292969</td>\n",
       "      <td>4819.221191</td>\n",
       "      <td>17660.230469</td>\n",
       "      <td>49136.664062</td>\n",
       "      <td>57835.078125</td>\n",
       "      <td>60569.410156</td>\n",
       "      <td>60611.066406</td>\n",
       "      <td>60611.066406</td>\n",
       "    </tr>\n",
       "    <tr>\n",
       "      <th>4</th>\n",
       "      <td>119</td>\n",
       "      <td>KEN</td>\n",
       "      <td>Kenya</td>\n",
       "      <td>1523</td>\n",
       "      <td>Nyanza</td>\n",
       "      <td>18968</td>\n",
       "      <td>Homa Bay</td>\n",
       "      <td>36313</td>\n",
       "      <td>Maseno</td>\n",
       "      <td>18502</td>\n",
       "      <td>...</td>\n",
       "      <td>-1.000000</td>\n",
       "      <td>-1.000000</td>\n",
       "      <td>0.000000</td>\n",
       "      <td>0.000000</td>\n",
       "      <td>0.000000</td>\n",
       "      <td>-1.000000</td>\n",
       "      <td>0.000000</td>\n",
       "      <td>-1.000000</td>\n",
       "      <td>-1.000000</td>\n",
       "      <td>-1.000000</td>\n",
       "    </tr>\n",
       "  </tbody>\n",
       "</table>\n",
       "<p>5 rows × 39 columns</p>\n",
       "</div>"
      ],
      "text/plain": [
       "   ID_0  ISO NAME_0  ID_1  NAME_1   ID_2    NAME_2   ID_3         NAME_3  \\\n",
       "0   119  KEN  Kenya  1523  Nyanza  18968  Homa Bay  36311     Kendul Bay   \n",
       "1   119  KEN  Kenya  1523  Nyanza  18968  Homa Bay  36311     Kendul Bay   \n",
       "2   119  KEN  Kenya  1523  Nyanza  18968  Homa Bay  36311     Kendul Bay   \n",
       "3   119  KEN  Kenya  1523  Nyanza  18968  Homa Bay  36312  Lake Victoria   \n",
       "4   119  KEN  Kenya  1523  Nyanza  18968  Homa Bay  36313         Maseno   \n",
       "\n",
       "    ID_4  ... hospital_7200 hospital_14400      cc_1800      cc_3600  \\\n",
       "0  18498  ...  31739.177734   31739.177734     0.000000     0.000000   \n",
       "1  18499  ...  41396.855469   41396.855469     0.000000     0.000000   \n",
       "2  18500  ...  30115.062500   30115.062500     0.000000     0.000000   \n",
       "3  18501  ...  55619.367188   60611.066406  3190.292969  4819.221191   \n",
       "4  18502  ...     -1.000000      -1.000000     0.000000     0.000000   \n",
       "\n",
       "        cc_7200      cc_14400      all_1800      all_3600      all_7200  \\\n",
       "0   9512.117188  31739.177734  31409.388672  31739.177734  31739.177734   \n",
       "1  40910.492188  41396.855469  41349.046875  41396.855469  41396.855469   \n",
       "2    175.949783  30115.062500  29261.164062  30115.062500  30115.062500   \n",
       "3  17660.230469  49136.664062  57835.078125  60569.410156  60611.066406   \n",
       "4      0.000000     -1.000000      0.000000     -1.000000     -1.000000   \n",
       "\n",
       "      all_14400  \n",
       "0  31739.177734  \n",
       "1  41396.855469  \n",
       "2  30115.062500  \n",
       "3  60611.066406  \n",
       "4     -1.000000  \n",
       "\n",
       "[5 rows x 39 columns]"
      ]
     },
     "execution_count": 16,
     "metadata": {},
     "output_type": "execute_result"
    }
   ],
   "source": [
    "inW.head()"
   ]
  },
  {
   "cell_type": "code",
   "execution_count": 17,
   "metadata": {},
   "outputs": [],
   "source": [
    "# create risk index based on hospital access, urbanization, and vulnerability\n",
    "inW['VUL_IDX'] = (inW['VUL_POP'].rank() > (inW.shape[0] * 0.8)).astype(int)\n",
    "inW['URB_IDX'] = (inW['URB_POP'] / inW['Pop']) > 0.7\n",
    "inW['ACC_IDX'] = (inW['all_3600'] / inW['Pop']) > 0.5"
   ]
  },
  {
   "cell_type": "code",
   "execution_count": 18,
   "metadata": {},
   "outputs": [],
   "source": [
    "in_settlements = gpd.read_file(energy_settlements)\n",
    "in_scenario = pd.read_csv(energy_scenario)\n",
    "in_settlements = pd.merge(in_settlements, in_scenario, on=\"id\")\n",
    "settlement_index = in_settlements.sindex"
   ]
  },
  {
   "cell_type": "code",
   "execution_count": 19,
   "metadata": {},
   "outputs": [],
   "source": [
    "inW['sPop'] = 0\n",
    "inW['ePop'] = 0\n",
    "inW['ePop2'] = 0\n",
    "for idx, row in inW.iterrows():\n",
    "    # find possible settlements\n",
    "    possible_matches_index = list(settlement_index.intersection(row['geometry'].bounds))\n",
    "    possible_matches = in_settlements.iloc[possible_matches_index]\n",
    "    precise_matches = possible_matches[possible_matches.intersects(row['geometry'])]\n",
    "    inW.loc[idx, 'sPop'] = precise_matches['Population'].sum()\n",
    "    inW.loc[idx, 'ePop'] = precise_matches['ElecPop_x'].sum()\n",
    "    inW.loc[idx, 'ePop2'] = precise_matches.loc[precise_matches['ElecStart'] == 1, 'Population'].sum()\n",
    "    "
   ]
  },
  {
   "cell_type": "code",
   "execution_count": 20,
   "metadata": {},
   "outputs": [],
   "source": [
    "inW.to_file(os.path.join(out_folder, \"Wards.shp\"))"
   ]
  },
  {
   "cell_type": "markdown",
   "metadata": {},
   "source": [
    "# Summarizing facilities"
   ]
  },
  {
   "cell_type": "code",
   "execution_count": 21,
   "metadata": {},
   "outputs": [],
   "source": [
    "sindex = inW.sindex\n",
    "#attach WARD ID to the facilities\n",
    "inH['MYWARD'] = 0\n",
    "allVals = []\n",
    "for idx, row in inH.iterrows():\n",
    "    selW = inW.loc[list(sindex.nearest((row['geometry'].x, row['geometry'].y)))[0]]\n",
    "    try:\n",
    "        inH.loc[idx, \"MYWARD\"] = selW['ID_4']\n",
    "    except:\n",
    "        break"
   ]
  },
  {
   "cell_type": "code",
   "execution_count": 24,
   "metadata": {},
   "outputs": [],
   "source": [
    "# summarize facility access to other facilities (CC, hospitals, and all facilities)\n",
    "for raster_defs in [\n",
    "                    ['BED_ACC', 'bed_tt.tif'],\n",
    "                    ['CCF_ACC', \"cc_facilities_tt.tif\"],\n",
    "                    ['HOS_ACC', \"hospital_tt.tif\"],                    \n",
    "                   ]:\n",
    "    cc_tt = rasterio.open(os.path.join(travel_folder, raster_defs[1]))\n",
    "    inH[raster_defs[0]] = 0\n",
    "    for idx, row in inH.iterrows():\n",
    "        try:\n",
    "            val = list(cc_tt.sample([(row['geometry'].x, row['geometry'].y)]))[0][0]\n",
    "        except:\n",
    "            val = 0\n",
    "        inH.loc[idx, raster_defs[0]] = val"
   ]
  },
  {
   "cell_type": "code",
   "execution_count": 25,
   "metadata": {},
   "outputs": [
    {
     "name": "stdout",
     "output_type": "stream",
     "text": [
      "11714\n",
      "24895\n",
      "29841\n"
     ]
    }
   ],
   "source": [
    "# Attribute facilities with GSM coverage\n",
    "inR_2g = rasterio.open(gsm_2g)\n",
    "inR_3g = rasterio.open(gsm_3g)\n",
    "inR_4g = rasterio.open(gsm_4g)\n",
    "inH = inH.to_crs(inR_2g.crs)\n",
    "\n",
    "inH_pts = [[x.x, x.y] for x in inH['geometry']]\n",
    "vals = [x[0] for x in list(inR_2g.sample(inH_pts))]\n",
    "print(sum(vals))\n",
    "inH.loc[:,'gsm2g'] = 0\n",
    "inH.loc[:,'gsm2g'] = vals\n",
    "\n",
    "vals = [x[0] for x in list(inR_3g.sample(inH_pts))]\n",
    "print(sum(vals))\n",
    "inH.loc[:,'gsm3g'] = 0\n",
    "inH.loc[:,'gsm3g'] = vals\n",
    "\n",
    "vals = [x[0] for x in list(inR_4g.sample(inH_pts))]\n",
    "print(sum(vals))\n",
    "inH.loc[:,'gsm4g'] = 0\n",
    "inH.loc[:,'gsm4g'] = vals\n",
    "\n",
    "inH = inH.to_crs({'init':'epsg:4326'})"
   ]
  },
  {
   "cell_type": "code",
   "execution_count": 29,
   "metadata": {},
   "outputs": [],
   "source": [
    "# Attribute facilities with electrification\n",
    "inH['sPop'] = 0\n",
    "inH['sEPop'] = 0\n",
    "inH['sElec'] = 0\n",
    "\n",
    "inH = inH.to_crs(in_settlements.crs)\n",
    "for idx, row in inH.iterrows():\n",
    "    # identify settlement and store electrification information\n",
    "    select_settlement = in_settlements.loc[list(settlement_index.nearest([row['geometry'].x, row['geometry'].y]))]        \n",
    "    pop = select_settlement['Population'].values[0]\n",
    "    elecPop = select_settlement['ElecPop_y'].values[0]\n",
    "    startElec = select_settlement['ElecStart'].values[0]\n",
    "    inH.loc[idx, 'sPop'] = pop\n",
    "    inH.loc[idx, 'sEPop'] = elecPop\n",
    "    inH.loc[idx, 'sElec'] = startElec\n",
    "inH = inH.to_crs({'init':'epsg:4326'})"
   ]
  },
  {
   "cell_type": "code",
   "execution_count": 31,
   "metadata": {},
   "outputs": [],
   "source": [
    "inH.to_file(os.path.join(out_folder, \"attributed_hospitals.shp\"))"
   ]
  },
  {
   "cell_type": "code",
   "execution_count": null,
   "metadata": {},
   "outputs": [],
   "source": []
  }
 ],
 "metadata": {
  "kernelspec": {
   "display_name": "Python (geog)",
   "language": "python",
   "name": "geog"
  },
  "language_info": {
   "codemirror_mode": {
    "name": "ipython",
    "version": 3
   },
   "file_extension": ".py",
   "mimetype": "text/x-python",
   "name": "python",
   "nbconvert_exporter": "python",
   "pygments_lexer": "ipython3",
   "version": "3.7.1"
  }
 },
 "nbformat": 4,
 "nbformat_minor": 2
}
