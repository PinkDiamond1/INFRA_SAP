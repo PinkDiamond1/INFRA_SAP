{
 "cells": [
  {
   "cell_type": "code",
   "execution_count": 1,
   "metadata": {},
   "outputs": [],
   "source": [
    "import sys, os, importlib\n",
    "import rasterio\n",
    "\n",
    "import numpy as np\n",
    "import pandas as pd\n",
    "import geopandas as gpd\n",
    "import osmnx as ox\n",
    "import GOSTnets as gn\n",
    "import skimage.graph as graph\n",
    "\n",
    "from rasterio.mask import mask\n",
    "from rasterio import features\n",
    "from shapely.geometry import box, Point, Polygon\n",
    "from scipy.ndimage import generic_filter\n",
    "from pandana.loaders import osm\n",
    "\n",
    "sys.path.append(\"../..\")\n",
    "\n",
    "import infrasap.market_access as ma\n",
    "import infrasap.rasterMisc as rMisc"
   ]
  },
  {
   "cell_type": "code",
   "execution_count": 2,
   "metadata": {},
   "outputs": [],
   "source": [
    "global_friction_file    = \"/home/public/Data/GLOBAL/INFRA/FRICTION_2015/2015_friction_surface_v1.geotiff\"\n",
    "global_friction_noOcean = \"/home/public/Data/GLOBAL/INFRA/FRICTION_2015/2015_friction_surface_v1_no_ocean_travel.tif\"\n",
    "ports_file = \"/home/wb411133/data/Global/INFRA/PORTS/major_ports.shp\"\n",
    "\n"
   ]
  },
  {
   "cell_type": "code",
   "execution_count": null,
   "metadata": {},
   "outputs": [],
   "source": [
    "if not os.path.exists(global_friction_noOcean):# Burn the oceans in as a no travel zone\n",
    "    inG = rasterio.open(global_friction_file)\n",
    "    inG_data = inG.read()[0,:,:]\n",
    "    inG_data = inG_data * 1000\n",
    "    \n",
    "    ocean_file = \"/home/public/Data/GLOBAL/ADMIN/OCEAN/ne_10m_ocean.shp\"\n",
    "    cMeta = inG.meta.copy()\n",
    "\n",
    "    inO = gpd.read_file(ocean_file)\n",
    "    shapes = ((row.geometry,999999) for idx, row in inO.iterrows())\n",
    "    burned = features.rasterize(shapes=shapes, out_shape=(cMeta['height'], cMeta['width']), \n",
    "                                transform=cMeta['transform'], dtype=cMeta['dtype'])\n",
    "    inG_combo = inG_data + burned\n",
    "    out_file = \"/home/wb411133/temp/2015_friction_surface_v1_no_ocean_travel.tif\"\n",
    "    with rasterio.open(out_file, 'w', **cMeta) as out:\n",
    "        out.write_band(1, inG_combo)\n",
    "   "
   ]
  },
  {
   "cell_type": "code",
   "execution_count": 3,
   "metadata": {},
   "outputs": [],
   "source": [
    "inG = rasterio.open(global_friction_noOcean)\n",
    "inP = gpd.read_file(ports_file)\n",
    "\n",
    "inG_data = inG.read()[0,:,:]\n",
    "mcp = graph.MCP_Geometric(inG_data)"
   ]
  },
  {
   "cell_type": "code",
   "execution_count": 4,
   "metadata": {},
   "outputs": [
    {
     "data": {
      "text/html": [
       "<div>\n",
       "<style scoped>\n",
       "    .dataframe tbody tr th:only-of-type {\n",
       "        vertical-align: middle;\n",
       "    }\n",
       "\n",
       "    .dataframe tbody tr th {\n",
       "        vertical-align: top;\n",
       "    }\n",
       "\n",
       "    .dataframe thead th {\n",
       "        text-align: right;\n",
       "    }\n",
       "</style>\n",
       "<table border=\"1\" class=\"dataframe\">\n",
       "  <thead>\n",
       "    <tr style=\"text-align: right;\">\n",
       "      <th></th>\n",
       "      <th>OBJECTID</th>\n",
       "      <th>Postal</th>\n",
       "      <th>Lat</th>\n",
       "      <th>Lng</th>\n",
       "      <th>Type</th>\n",
       "      <th>ISO3</th>\n",
       "      <th>REGION</th>\n",
       "      <th>geometry</th>\n",
       "    </tr>\n",
       "  </thead>\n",
       "  <tbody>\n",
       "    <tr>\n",
       "      <th>0</th>\n",
       "      <td>12</td>\n",
       "      <td>Mongla (Chalna),Bangladesh</td>\n",
       "      <td>22.488900</td>\n",
       "      <td>89.595800</td>\n",
       "      <td>Bulk</td>\n",
       "      <td>BGD</td>\n",
       "      <td>South Asia</td>\n",
       "      <td>POINT (89.59580 22.48890)</td>\n",
       "    </tr>\n",
       "    <tr>\n",
       "      <th>1</th>\n",
       "      <td>19</td>\n",
       "      <td>Suape (Recife),Brazil</td>\n",
       "      <td>-8.055556</td>\n",
       "      <td>-34.891111</td>\n",
       "      <td>General</td>\n",
       "      <td>BRA</td>\n",
       "      <td>Latin America &amp; Caribbean</td>\n",
       "      <td>POINT (-34.88870 -8.05143)</td>\n",
       "    </tr>\n",
       "    <tr>\n",
       "      <th>2</th>\n",
       "      <td>20</td>\n",
       "      <td>Pecém (near Fortaleza),Brazil</td>\n",
       "      <td>-3.533611</td>\n",
       "      <td>-38.785833</td>\n",
       "      <td>General</td>\n",
       "      <td>BRA</td>\n",
       "      <td>Latin America &amp; Caribbean</td>\n",
       "      <td>POINT (-38.81149 -3.54865)</td>\n",
       "    </tr>\n",
       "    <tr>\n",
       "      <th>3</th>\n",
       "      <td>23</td>\n",
       "      <td>Ponta da Madeira,Brazil</td>\n",
       "      <td>-2.565000</td>\n",
       "      <td>-44.370000</td>\n",
       "      <td>Bulk</td>\n",
       "      <td>BRA</td>\n",
       "      <td>Latin America &amp; Caribbean</td>\n",
       "      <td>POINT (-44.32862 -2.53360)</td>\n",
       "    </tr>\n",
       "    <tr>\n",
       "      <th>4</th>\n",
       "      <td>24</td>\n",
       "      <td>Ponta do Ubu,Brazil</td>\n",
       "      <td>-20.788500</td>\n",
       "      <td>-40.573700</td>\n",
       "      <td>Bulk</td>\n",
       "      <td>BRA</td>\n",
       "      <td>Latin America &amp; Caribbean</td>\n",
       "      <td>POINT (-40.62399 -20.82856)</td>\n",
       "    </tr>\n",
       "  </tbody>\n",
       "</table>\n",
       "</div>"
      ],
      "text/plain": [
       "   OBJECTID                         Postal        Lat        Lng     Type  \\\n",
       "0        12     Mongla (Chalna),Bangladesh  22.488900  89.595800     Bulk   \n",
       "1        19          Suape (Recife),Brazil  -8.055556 -34.891111  General   \n",
       "2        20  Pecém (near Fortaleza),Brazil  -3.533611 -38.785833  General   \n",
       "3        23        Ponta da Madeira,Brazil  -2.565000 -44.370000     Bulk   \n",
       "4        24            Ponta do Ubu,Brazil -20.788500 -40.573700     Bulk   \n",
       "\n",
       "  ISO3                     REGION                     geometry  \n",
       "0  BGD                 South Asia    POINT (89.59580 22.48890)  \n",
       "1  BRA  Latin America & Caribbean   POINT (-34.88870 -8.05143)  \n",
       "2  BRA  Latin America & Caribbean   POINT (-38.81149 -3.54865)  \n",
       "3  BRA  Latin America & Caribbean   POINT (-44.32862 -2.53360)  \n",
       "4  BRA  Latin America & Caribbean  POINT (-40.62399 -20.82856)  "
      ]
     },
     "execution_count": 4,
     "metadata": {},
     "output_type": "execute_result"
    }
   ],
   "source": [
    "inP = gpd.read_file(ports_file)\n",
    "inP.head()"
   ]
  },
  {
   "cell_type": "markdown",
   "metadata": {},
   "source": [
    "# Optional processing of ports"
   ]
  },
  {
   "cell_type": "code",
   "execution_count": null,
   "metadata": {},
   "outputs": [],
   "source": [
    "# Attach ISO3 codes and regions to ports\n",
    "global_boundaries =  \"/home/public/Data/GLOBAL/ADMIN/Admin0_Polys.shp\"\n",
    "inB = gpd.read_file(global_boundaries)"
   ]
  },
  {
   "cell_type": "code",
   "execution_count": null,
   "metadata": {},
   "outputs": [],
   "source": [
    "inP = gpd.read_file(ports_file)\n",
    "if inP.crs != inB.crs:\n",
    "    inP = inP.to_crs(inB.crs)\n",
    "    \n",
    "inP['ISO3'] = ''\n",
    "inP['REGION'] = ''\n",
    "for idx, row in inP.iterrows():\n",
    "    sel_country = inB.loc[inB.intersects(row['geometry'])]\n",
    "    if sel_country.shape[0] > 0:\n",
    "        inP.loc[idx,'ISO3'] = sel_country['ISO3'].iloc[0]\n",
    "        inP.loc[idx,'REGION'] = sel_country['Region'].iloc[0]\n",
    "    else:\n",
    "        print(f\"{idx}: {row['Postal']}\")\n",
    "              \n",
    "inP = inP.to_crs({'init':'epsg:4326'})\n",
    "inP.to_file(ports_file)"
   ]
  },
  {
   "cell_type": "code",
   "execution_count": null,
   "metadata": {},
   "outputs": [],
   "source": [
    "# Determine which ports are accidentally in the ocean\n",
    "ocean_layer = \"/home/public/Data/GLOBAL/ADMIN/OCEAN/ne_10m_ocean.shp\"\n",
    "inO = gpd.read_file(ocean_layer)\n",
    "inO.head()"
   ]
  },
  {
   "cell_type": "code",
   "execution_count": null,
   "metadata": {},
   "outputs": [],
   "source": [
    "inP = gpd.read_file(ports_file)"
   ]
  },
  {
   "cell_type": "code",
   "execution_count": null,
   "metadata": {},
   "outputs": [],
   "source": [
    "inP_idx = inP['geometry'].apply(lambda x: x.intersects(inO['geometry'].iloc[0]))"
   ]
  },
  {
   "cell_type": "code",
   "execution_count": null,
   "metadata": {},
   "outputs": [],
   "source": [
    "inP.loc[inP_idx].to_file(ports_file.replace(\".shp\", \"_BAD.shp\"))"
   ]
  },
  {
   "cell_type": "code",
   "execution_count": null,
   "metadata": {},
   "outputs": [],
   "source": [
    "bad_p = gpd.read_file(ports_file.replace(\".shp\", \"_BAD.shp\"))\n",
    "all_files = os.listdir(out_folder)\n",
    "for idx, row in bad_p.iterrows():\n",
    "    name = row['OBJECTID']    \n",
    "    for inF in all_files:\n",
    "        if str(name) == inF.split(\"_\")[-1].split(\".\")[0]:\n",
    "            os.remove(os.path.join(out_folder, inF))"
   ]
  },
  {
   "cell_type": "code",
   "execution_count": null,
   "metadata": {},
   "outputs": [],
   "source": [
    "bad_p"
   ]
  },
  {
   "cell_type": "markdown",
   "metadata": {},
   "source": [
    "# Run Market Access"
   ]
  },
  {
   "cell_type": "code",
   "execution_count": null,
   "metadata": {},
   "outputs": [],
   "source": [
    "#selP = inP.loc[inP['REGION'] == 'South Asia']\n",
    "inP = gpd.read_file(ports_file)"
   ]
  },
  {
   "cell_type": "code",
   "execution_count": null,
   "metadata": {
    "scrolled": true
   },
   "outputs": [],
   "source": [
    "travel_time_thresholds = [((24*60) * x) for x in [0.25,0.5,1,2]]\n",
    "out_folder = os.path.join(os.path.dirname(ports_file), \"TRAVEL_TIMES\")\n",
    "if not os.path.exists(out_folder):\n",
    "    os.makedirs(out_folder)\n",
    "port_files = []\n",
    "for idx, row in inP.iterrows():\n",
    "    name = row['OBJECTID']    \n",
    "    out_file = os.path.join(out_folder, \"PORT_ISOCHRONES_NO_OCEAN_%s.shp\" % name)\n",
    "    port_files.append(out_file)\n",
    "    if not os.path.exists(out_file):\n",
    "        print(\"Processing %s\" % name)\n",
    "        current_p = pd.DataFrame(inP.loc[idx,]).transpose()\n",
    "        travel_times = ma.generate_feature_vectors(inG, mcp, current_p, travel_time_thresholds)\n",
    "        travel_times.to_file(out_file)\n",
    "    else:\n",
    "        print(\"%s already processed\" % name)\n",
    "        \n",
    "    "
   ]
  },
  {
   "cell_type": "code",
   "execution_count": null,
   "metadata": {},
   "outputs": [],
   "source": [
    "port_files"
   ]
  },
  {
   "cell_type": "code",
   "execution_count": null,
   "metadata": {},
   "outputs": [],
   "source": [
    "try:\n",
    "    del final\n",
    "except:\n",
    "    pass\n",
    "for p in port_files:\n",
    "    current_p = gpd.read_file(p)\n",
    "    current_p['PORT'] = p.split(\"_\")[-1].replace(\".shp\",\"\")\n",
    "    try:\n",
    "        final = final.append(current_p)\n",
    "    except:\n",
    "        final = current_p"
   ]
  },
  {
   "cell_type": "code",
   "execution_count": null,
   "metadata": {},
   "outputs": [],
   "source": [
    "final.to_file(os.path.join(out_folder, \"COMBO_all_ports.shp\"))"
   ]
  },
  {
   "cell_type": "code",
   "execution_count": null,
   "metadata": {},
   "outputs": [],
   "source": [
    "out_folder"
   ]
  },
  {
   "cell_type": "markdown",
   "metadata": {},
   "source": [
    "# Zonal Stats"
   ]
  },
  {
   "cell_type": "code",
   "execution_count": null,
   "metadata": {},
   "outputs": [],
   "source": [
    "inShape = os.path.join(out_folder, \"COMBO_all_ports.shp\")"
   ]
  },
  {
   "cell_type": "code",
   "execution_count": null,
   "metadata": {},
   "outputs": [],
   "source": []
  }
 ],
 "metadata": {
  "kernelspec": {
   "display_name": "Earth Engine",
   "language": "python",
   "name": "ee"
  },
  "language_info": {
   "codemirror_mode": {
    "name": "ipython",
    "version": 3
   },
   "file_extension": ".py",
   "mimetype": "text/x-python",
   "name": "python",
   "nbconvert_exporter": "python",
   "pygments_lexer": "ipython3",
   "version": "3.9.4"
  }
 },
 "nbformat": 4,
 "nbformat_minor": 2
}
