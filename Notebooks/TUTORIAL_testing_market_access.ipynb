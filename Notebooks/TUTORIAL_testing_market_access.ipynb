{
 "cells": [
  {
   "cell_type": "code",
   "execution_count": 57,
   "metadata": {},
   "outputs": [],
   "source": [
    "import sys, os, importlib\n",
    "import rasterio\n",
    "\n",
    "import numpy as np\n",
    "import pandas as pd\n",
    "import geopandas as gpd\n",
    "import osmnx as ox\n",
    "import GOSTnets as gn\n",
    "import skimage.graph as graph\n",
    "\n",
    "from rasterio.mask import mask\n",
    "from rasterio import features\n",
    "from shapely.geometry import box, Point, Polygon\n",
    "from scipy.ndimage import generic_filter\n",
    "from pandana.loaders import osm\n",
    "\n",
    "sys.path.append(\"../\")\n",
    "\n",
    "import infrasap.market_access as ma\n"
   ]
  },
  {
   "cell_type": "code",
   "execution_count": 59,
   "metadata": {},
   "outputs": [],
   "source": [
    "global_friction_surface = \"/home/public/Data/GLOBAL/INFRA/FRICTION_2015/2015_friction_surface_v1.geotiff\"\n",
    "\n",
    "inG = rasterio.open(global_friction_surface)\n",
    "inD = inG.read()\n",
    "# inD is stored as minutes to travel one meter. Need to convert to second to traverse the entire 1 km cell\n",
    "mcp = graph.MCP_Geometric(inD[0,:,:])"
   ]
  },
  {
   "cell_type": "code",
   "execution_count": 60,
   "metadata": {},
   "outputs": [],
   "source": [
    "in_ports = \"/home/public/Data/GLOBAL/INFRA/PORTS/wld_trs_ports_wfp.shp\"\n",
    "inP = gpd.read_file(in_ports)"
   ]
  },
  {
   "cell_type": "code",
   "execution_count": 61,
   "metadata": {},
   "outputs": [],
   "source": [
    "sel_p = inP.loc[inP['prtsize'].isin(['Large','Big'])]\n",
    "port_geom = [[x.x, x.y] for x in sel_p['geometry']]\n",
    "ports = [inG.index(x.x, x.y) for x in sel_p['geometry']]\n",
    "ports = [x for x in ports if ((x[0] > 0) and (x[1] > 0) and \n",
    "                (x[0] <= inG.shape[0]) and (x[1] <= inG.shape[1]))]"
   ]
  },
  {
   "cell_type": "code",
   "execution_count": 68,
   "metadata": {},
   "outputs": [
    {
     "data": {
      "text/html": [
       "<div>\n",
       "<style scoped>\n",
       "    .dataframe tbody tr th:only-of-type {\n",
       "        vertical-align: middle;\n",
       "    }\n",
       "\n",
       "    .dataframe tbody tr th {\n",
       "        vertical-align: top;\n",
       "    }\n",
       "\n",
       "    .dataframe thead th {\n",
       "        text-align: right;\n",
       "    }\n",
       "</style>\n",
       "<table border=\"1\" class=\"dataframe\">\n",
       "  <thead>\n",
       "    <tr style=\"text-align: right;\">\n",
       "      <th></th>\n",
       "      <th>portname</th>\n",
       "      <th>code</th>\n",
       "      <th>prttype</th>\n",
       "      <th>prtsize</th>\n",
       "      <th>status</th>\n",
       "      <th>maxdepth</th>\n",
       "      <th>maxlength</th>\n",
       "      <th>annualcapa</th>\n",
       "      <th>humuse</th>\n",
       "      <th>locprecisi</th>\n",
       "      <th>...</th>\n",
       "      <th>country</th>\n",
       "      <th>lastcheckd</th>\n",
       "      <th>remarks</th>\n",
       "      <th>url_lca</th>\n",
       "      <th>source</th>\n",
       "      <th>createdate</th>\n",
       "      <th>updatedate</th>\n",
       "      <th>geonameid</th>\n",
       "      <th>gdb_geomat</th>\n",
       "      <th>geometry</th>\n",
       "    </tr>\n",
       "  </thead>\n",
       "  <tbody>\n",
       "    <tr>\n",
       "      <th>166</th>\n",
       "      <td>Chennai</td>\n",
       "      <td>INMAA</td>\n",
       "      <td>Sea</td>\n",
       "      <td>Large</td>\n",
       "      <td>Unknown</td>\n",
       "      <td>NaN</td>\n",
       "      <td>NaN</td>\n",
       "      <td>NaN</td>\n",
       "      <td>Unknown</td>\n",
       "      <td>Unknown</td>\n",
       "      <td>...</td>\n",
       "      <td>India</td>\n",
       "      <td>None</td>\n",
       "      <td>None</td>\n",
       "      <td>None</td>\n",
       "      <td>None</td>\n",
       "      <td>2012-11-01</td>\n",
       "      <td>2015-05-05</td>\n",
       "      <td>1264527.0</td>\n",
       "      <td>None</td>\n",
       "      <td>POINT (80.2971 13.098533868)</td>\n",
       "    </tr>\n",
       "    <tr>\n",
       "      <th>280</th>\n",
       "      <td>Havana</td>\n",
       "      <td>None</td>\n",
       "      <td>Unknown</td>\n",
       "      <td>Large</td>\n",
       "      <td>Unknown</td>\n",
       "      <td>NaN</td>\n",
       "      <td>NaN</td>\n",
       "      <td>NaN</td>\n",
       "      <td>Unknown</td>\n",
       "      <td>Unknown</td>\n",
       "      <td>...</td>\n",
       "      <td>Cuba</td>\n",
       "      <td>None</td>\n",
       "      <td>None</td>\n",
       "      <td>None</td>\n",
       "      <td>None</td>\n",
       "      <td>2012-11-01</td>\n",
       "      <td>2017-05-31</td>\n",
       "      <td>3553478.0</td>\n",
       "      <td>None</td>\n",
       "      <td>POINT (-81.64938164900002 23.152461738)</td>\n",
       "    </tr>\n",
       "  </tbody>\n",
       "</table>\n",
       "<p>2 rows × 24 columns</p>\n",
       "</div>"
      ],
      "text/plain": [
       "    portname   code  prttype prtsize   status  maxdepth  maxlength  \\\n",
       "166  Chennai  INMAA      Sea   Large  Unknown       NaN        NaN   \n",
       "280   Havana   None  Unknown   Large  Unknown       NaN        NaN   \n",
       "\n",
       "     annualcapa   humuse locprecisi  ...  country  lastcheckd remarks url_lca  \\\n",
       "166         NaN  Unknown    Unknown  ...    India        None    None    None   \n",
       "280         NaN  Unknown    Unknown  ...     Cuba        None    None    None   \n",
       "\n",
       "    source  createdate  updatedate  geonameid gdb_geomat  \\\n",
       "166   None  2012-11-01  2015-05-05  1264527.0       None   \n",
       "280   None  2012-11-01  2017-05-31  3553478.0       None   \n",
       "\n",
       "                                    geometry  \n",
       "166             POINT (80.2971 13.098533868)  \n",
       "280  POINT (-81.64938164900002 23.152461738)  \n",
       "\n",
       "[2 rows x 24 columns]"
      ]
     },
     "execution_count": 68,
     "metadata": {},
     "output_type": "execute_result"
    }
   ],
   "source": [
    "sel_p.iloc[0:2]"
   ]
  },
  {
   "cell_type": "code",
   "execution_count": 70,
   "metadata": {},
   "outputs": [
    {
     "name": "stdout",
     "output_type": "stream",
     "text": [
      "14:15:11\t1 of 2\n",
      "14:24:03\t2 of 2\n",
      "14:32:57\tFinished calculating access\n",
      "14:33:23\tFinished calculating pixel-level marketsheds\n"
     ]
    },
    {
     "data": {
      "text/plain": [
       "array([[1., 1., 1., ..., 0., 0., 0.],\n",
       "       [1., 1., 1., ..., 0., 0., 0.],\n",
       "       [1., 1., 1., ..., 0., 0., 0.],\n",
       "       ...,\n",
       "       [1., 1., 1., ..., 0., 0., 0.],\n",
       "       [1., 1., 1., ..., 0., 0., 0.],\n",
       "       [1., 1., 1., ..., 0., 0., 0.]], dtype=float32)"
      ]
     },
     "execution_count": 70,
     "metadata": {},
     "output_type": "execute_result"
    }
   ],
   "source": [
    "importlib.reload(ma)\n",
    "out_file = \"/home/wb411133/temp/port_sheds.tif\"\n",
    "ma.generate_market_sheds(inG, mcp, sel_p.iloc[0:2], out_file)"
   ]
  },
  {
   "cell_type": "code",
   "execution_count": null,
   "metadata": {},
   "outputs": [],
   "source": [
    "costs, traceback = mcp.find_costs(ports)        "
   ]
  },
  {
   "cell_type": "code",
   "execution_count": null,
   "metadata": {},
   "outputs": [],
   "source": [
    "meta = inG.meta.copy()\n",
    "meta.update(dtype=costs.dtype)\n",
    "\n",
    "out_file =\"/home/wb411133/temp/ports_big_large_watershed2.tif\"\n",
    "with rasterio.open(out_file, 'w', **meta) as out:\n",
    "    out.write_band(1, costs)"
   ]
  },
  {
   "cell_type": "markdown",
   "metadata": {},
   "source": [
    "# Calculate market sheds from travel datasets\n",
    "https://scikit-image.org/docs/dev/api/skimage.graph.html#skimage.graph.MCP_Geometric\n"
   ]
  },
  {
   "cell_type": "code",
   "execution_count": 23,
   "metadata": {},
   "outputs": [],
   "source": [
    "import sys, os, importlib\n",
    "import rasterio\n",
    "\n",
    "import numpy as np\n",
    "import pandas as pd\n",
    "import geopandas as gpd\n",
    "import osmnx as ox\n",
    "import GOSTnets as gn\n",
    "import skimage.graph as graph\n",
    "\n",
    "from rasterio.mask import mask\n",
    "from rasterio import features\n",
    "from shapely.geometry import box, Point, Polygon\n",
    "from scipy.ndimage import generic_filter\n",
    "from pandana.loaders import osm"
   ]
  },
  {
   "cell_type": "code",
   "execution_count": 24,
   "metadata": {},
   "outputs": [],
   "source": [
    "tutorial_folder =\"../tutorial_data\"\n",
    "img = os.path.join(tutorial_folder, \"global_friction_surface.tif\")\n",
    "dests = os.path.join(tutorial_folder, \"destinations.shp\")\n",
    "\n",
    "img = rasterio.open(img)\n",
    "inD = gpd.read_file(dests)\n",
    "data = img.read()[0,:,:]"
   ]
  },
  {
   "cell_type": "code",
   "execution_count": 25,
   "metadata": {},
   "outputs": [],
   "source": [
    "mcp = graph.MCP_Geometric(data)\n",
    "dests_geom = [img.index(x.x, x.y) for x in inD['geometry']]\n",
    "costs, traceback = mcp.find_costs(dests_geom)"
   ]
  },
  {
   "cell_type": "code",
   "execution_count": 26,
   "metadata": {},
   "outputs": [],
   "source": [
    "meta = img.meta.copy()\n",
    "meta.update(dtype=costs.dtype)\n",
    "with rasterio.open(os.path.join(tutorial_folder, \"market_shed_custom.tif\"), 'w', **meta) as outR:\n",
    "    outR.write_band(1, costs)"
   ]
  },
  {
   "cell_type": "markdown",
   "metadata": {},
   "source": [
    "# Debugging below"
   ]
  },
  {
   "cell_type": "code",
   "execution_count": 31,
   "metadata": {},
   "outputs": [],
   "source": [
    "import copy\n",
    "# testing market sheds\n",
    "dests_geom = [img.index(x.x, x.y) for x in inD['geometry']]\n",
    "all_c = []\n",
    "n = inD.shape[0]\n",
    "idx = 0"
   ]
  },
  {
   "cell_type": "code",
   "execution_count": 32,
   "metadata": {},
   "outputs": [],
   "source": [
    "for dest in dests_geom:\n",
    "    idx += 1\n",
    "    if dest[0] > 0 and dest[0] < img.shape[0] and dest[1] > 0 and dest[1] < img.shape[1]:\n",
    "        c1, trace = mcp.find_costs([dest])\n",
    "        all_c.append(copy.deepcopy(c1))\n",
    "    else:\n",
    "        print(f\"{idx} of {n} cannot be processed\")\n"
   ]
  },
  {
   "cell_type": "code",
   "execution_count": 64,
   "metadata": {},
   "outputs": [],
   "source": [
    "# Iterate through results to generate final marketshed\n",
    "res = np.zeros(all_c[0].shape)\n",
    "for idx in range(0, len(all_c)):\n",
    "    cur_res = all_c[idx]\n",
    "    if idx == 0:\n",
    "        min_res = cur_res\n",
    "    else:\n",
    "        combo = np.dstack([min_res, cur_res])\n",
    "        min_res = np.amin(combo, 2)\n",
    "        cur_val = (min_res == cur_res).astype(np.byte)\n",
    "        m_idx = np.where(cur_val == 1)\n",
    "        res[m_idx] = idx\n"
   ]
  },
  {
   "cell_type": "code",
   "execution_count": 67,
   "metadata": {},
   "outputs": [],
   "source": [
    "meta = img.meta.copy()\n",
    "meta.update(dtype=res.dtype)\n",
    "with rasterio.open(os.path.join(tutorial_folder, \"market_shed_custom.tif\"), 'w', **meta) as outR:\n",
    "    outR.write_band(1, res)"
   ]
  },
  {
   "cell_type": "code",
   "execution_count": 53,
   "metadata": {},
   "outputs": [
    {
     "data": {
      "text/plain": [
       "(775, 1065)"
      ]
     },
     "execution_count": 53,
     "metadata": {},
     "output_type": "execute_result"
    }
   ],
   "source": [
    "output.shape"
   ]
  },
  {
   "cell_type": "code",
   "execution_count": null,
   "metadata": {},
   "outputs": [],
   "source": []
  },
  {
   "cell_type": "code",
   "execution_count": null,
   "metadata": {},
   "outputs": [],
   "source": []
  },
  {
   "cell_type": "code",
   "execution_count": 11,
   "metadata": {},
   "outputs": [],
   "source": [
    "class MarketShedMCP(graph.MCP_Flexible):\n",
    "    def _reset(self):\n",
    "        \"\"\"reset the id map\n",
    "        \"\"\"\n",
    "        graph.MCP_Flexible._reset(self)\n",
    "        self._conn = {}\n",
    "        self._bestconn_v = {}\n",
    "        self._bestconn = {}\n",
    "    \n",
    "    def goal_reached(self, index, cumcost):\n",
    "        \n",
    "        \n",
    "    '''\n",
    "    def create_connection(self, id1, id2, pos1, pos2, cost1, cost2):\n",
    "        # Process data\n",
    "        hash = min(id1, id2), max(id1, id2)\n",
    "        val = min(pos1, pos2), max(pos1, pos2)\n",
    "        cost = min(cost1, cost2)\n",
    "        # Add to total list \n",
    "        self._conn.setdefault(hash, []).append(val)\n",
    "        # Keep track of connection with lowest cost\n",
    "        curcost = self._bestconn_v.get(hash, (np.inf,))[0]        \n",
    "        if cost1 < cost2:\n",
    "            self._bestconn[val] = (id1,)\n",
    "        else:\n",
    "            self._bestconn[val] = (id2,)        \n",
    "        if cost < curcost:            \n",
    "            self._bestconn_v[hash] = (cost,) + val\n",
    "    '''        \n",
    "    \n",
    "mcp_m = MarketShedMCP(data)\n",
    "costs, traceback = mcp_m.find_costs(dests_geom)"
   ]
  },
  {
   "cell_type": "code",
   "execution_count": 17,
   "metadata": {},
   "outputs": [
    {
     "data": {
      "text/plain": [
       "825375"
      ]
     },
     "execution_count": 17,
     "metadata": {},
     "output_type": "execute_result"
    }
   ],
   "source": [
    "data.shape[0] * data.shape[1]"
   ]
  },
  {
   "cell_type": "code",
   "execution_count": 15,
   "metadata": {},
   "outputs": [
    {
     "data": {
      "text/plain": [
       "10040"
      ]
     },
     "execution_count": 15,
     "metadata": {},
     "output_type": "execute_result"
    }
   ],
   "source": [
    "len(mcp_m._bestconn.keys())"
   ]
  },
  {
   "cell_type": "code",
   "execution_count": 22,
   "metadata": {},
   "outputs": [],
   "source": [
    "graph.MCP_Flexible.update_node?"
   ]
  },
  {
   "cell_type": "code",
   "execution_count": null,
   "metadata": {},
   "outputs": [],
   "source": []
  },
  {
   "cell_type": "code",
   "execution_count": null,
   "metadata": {},
   "outputs": [],
   "source": [
    "costs, traceback = mcp.find_costs(dests_geom, find_all_ends=True)"
   ]
  },
  {
   "cell_type": "code",
   "execution_count": null,
   "metadata": {},
   "outputs": [],
   "source": [
    "meta = img.meta.copy()\n",
    "meta.update(dtype=res.dtype, count=5)\n",
    "with rasterio.open(os.path.join(tutorial_folder, \"market_shed.tif\"), 'w', **meta) as outR:\n",
    "    for idx in range(0,5):\n",
    "        outR.write_band(idx + 1, res[:,:,idx])"
   ]
  },
  {
   "cell_type": "code",
   "execution_count": null,
   "metadata": {},
   "outputs": [],
   "source": [
    "def get_min_axis(x):\n",
    "    return(np.where(x == x.min()))\n",
    "\n",
    "res_min = np.apply_along_axis(get_min_axis, 2, res)"
   ]
  },
  {
   "cell_type": "code",
   "execution_count": null,
   "metadata": {},
   "outputs": [],
   "source": [
    "meta = img.meta.copy()\n",
    "res_min = res_min.astype(meta['dtype'])"
   ]
  },
  {
   "cell_type": "code",
   "execution_count": null,
   "metadata": {},
   "outputs": [],
   "source": [
    "res_min.shape"
   ]
  },
  {
   "cell_type": "code",
   "execution_count": null,
   "metadata": {},
   "outputs": [],
   "source": [
    "\n",
    "meta.update(dtype=res_min.dtype)\n",
    "with rasterio.open(os.path.join(tutorial_folder, \"market_shed_2.tif\"), 'w', **meta) as outR:\n",
    "    outR.write_band(1, res_min[:,:,0,0])\n",
    "\n",
    "'''\n",
    "meta.update(dtype=costs.dtype)\n",
    "with rasterio.open(os.path.join(tutorial_folder, \"travel_costs_fa.tif\"), 'w', **meta) as outR:\n",
    "    outR.write_band(1, costs)\n",
    "    \n",
    "meta.update(dtype=traceback.dtype)\n",
    "with rasterio.open(os.path.join(tutorial_folder, \"traceback_fa.tif\"), 'w', **meta) as outR:\n",
    "    outR.write_band(1, traceback)\n",
    "'''"
   ]
  },
  {
   "cell_type": "code",
   "execution_count": null,
   "metadata": {},
   "outputs": [],
   "source": [
    "sys.path.append(\"../\")\n",
    "\n",
    "import infrasap.market_access as ma"
   ]
  },
  {
   "cell_type": "code",
   "execution_count": null,
   "metadata": {},
   "outputs": [],
   "source": [
    "importlib.reload(ma)\n",
    "out_file = os.path.join(tutorial_folder, \"market_shed_3.tif\")\n",
    "ma.generate_market_sheds(img, mcp, inD, out_file)"
   ]
  },
  {
   "cell_type": "markdown",
   "metadata": {},
   "source": [
    "# Calculate area of cells in raster dataset"
   ]
  },
  {
   "cell_type": "code",
   "execution_count": null,
   "metadata": {},
   "outputs": [],
   "source": [
    "global_friction_surface = \"/home/public/Data/GLOBAL/INFRA/FRICTION_2015/2015_friction_surface_v1.geotiff\"\n",
    "\n",
    "inG = rasterio.open(global_friction_surface)\n",
    "inD = inG.read()"
   ]
  },
  {
   "cell_type": "code",
   "execution_count": null,
   "metadata": {},
   "outputs": [],
   "source": [
    "inD.shape"
   ]
  },
  {
   "cell_type": "code",
   "execution_count": null,
   "metadata": {},
   "outputs": [],
   "source": [
    "inG.bounds"
   ]
  },
  {
   "cell_type": "code",
   "execution_count": null,
   "metadata": {},
   "outputs": [],
   "source": [
    "def generate_shape(x, llx, lly, res):\n",
    "    lly = lly + (x * res)\n",
    "    ll = (llx, lly)\n",
    "    ul = (llx, lly + res)\n",
    "    ur = (llx + res, lly + res)\n",
    "    lr = (llx + res, lly)\n",
    "    shape = Polygon([ll, ul, ur, lr, ll])\n",
    "    return(shape)\n",
    "    \n",
    "b = inG.bounds\n",
    "res = inG.meta['transform'][0]\n",
    "all_shapes = [generate_shape(x, b[0], b[1], res) for x in range(0, inD.shape[1])]"
   ]
  },
  {
   "cell_type": "code",
   "execution_count": null,
   "metadata": {},
   "outputs": [],
   "source": [
    "res = pd.DataFrame(columns=[\"idx\"])\n",
    "res['idx'] = list(range(0, inG.shape[0]))\n",
    "res = gpd.GeoDataFrame(res, geometry=all_shapes, crs = inG.crs)\n",
    "res['area'] = res['geometry'].apply(lambda x: x.area)"
   ]
  },
  {
   "cell_type": "code",
   "execution_count": null,
   "metadata": {},
   "outputs": [],
   "source": [
    "res.to_file(\"/home/wb411133/temp/gfs_column1.shp\")"
   ]
  },
  {
   "cell_type": "code",
   "execution_count": null,
   "metadata": {},
   "outputs": [],
   "source": [
    "# Convert to UTM to calculate area to metres\n",
    "'''sys.path.append(\"../../GOST\")\n",
    "\n",
    "import GOSTRocks.misc as misc\n",
    "res_sel = res.iloc[1:-1,]\n",
    "res_utm = misc.project_UTM(res_sel)'''\n",
    "\n",
    "res_utm = res.to_crs({'init':'epsg:32601'})"
   ]
  },
  {
   "cell_type": "code",
   "execution_count": null,
   "metadata": {},
   "outputs": [],
   "source": [
    "res_utm['area_utm'] = res_utm['geometry'].apply(lambda x: x.area)\n",
    "res_utm.to_file(\"/home/wb411133/temp/gfs_column1.shp\")"
   ]
  },
  {
   "cell_type": "code",
   "execution_count": null,
   "metadata": {},
   "outputs": [],
   "source": [
    "res_utm.head()"
   ]
  },
  {
   "cell_type": "code",
   "execution_count": null,
   "metadata": {},
   "outputs": [],
   "source": []
  }
 ],
 "metadata": {
  "kernelspec": {
   "display_name": "Python (geog)",
   "language": "python",
   "name": "geog"
  },
  "language_info": {
   "codemirror_mode": {
    "name": "ipython",
    "version": 3
   },
   "file_extension": ".py",
   "mimetype": "text/x-python",
   "name": "python",
   "nbconvert_exporter": "python",
   "pygments_lexer": "ipython3",
   "version": "3.7.1"
  }
 },
 "nbformat": 4,
 "nbformat_minor": 2
}
