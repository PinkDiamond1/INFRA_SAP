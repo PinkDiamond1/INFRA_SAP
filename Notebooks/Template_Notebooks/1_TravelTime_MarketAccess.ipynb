{
 "cells": [
  {
   "cell_type": "markdown",
   "metadata": {},
   "source": [
    "## Country-level INFRA-SAP"
   ]
  },
  {
   "cell_type": "markdown",
   "metadata": {},
   "source": [
    "- Origins: Population grid (Worldpop downsampled to 500 meters)\n",
    "- Destinations: Cities, airports, border crossings, and ports\n",
    "\n",
    "Typical access analysis with two adjustments:\n",
    "    1. Extract different sets of destinations from OD\n",
    "    2. Join travel time to origin grid based on \"NN with the fastest route\" (not necessarily closest NN)"
   ]
  },
  {
   "cell_type": "code",
   "execution_count": 1,
   "metadata": {},
   "outputs": [],
   "source": [
    "import os, sys, time, importlib\n",
    "\n",
    "import geopandas as gpd\n",
    "import pandas as pd\n",
    "import networkx as nx\n",
    "sys.path.append('/home/wb514197/Repos/GOSTnets')\n",
    "\n",
    "import GOSTnets as gn\n",
    "import GOSTnets.calculate_od_raw as calcOD\n",
    "from GOSTnets.load_osm import *\n",
    "import rasterio as rio\n",
    "from osgeo import gdal\n",
    "import numpy as np\n",
    "from shapely.geometry import Point\n",
    "\n",
    "sys.path.append('/home/wb514197/Repos/INFRA_SAP')\n",
    "from infrasap import aggregator\n",
    "\n",
    "%load_ext autoreload\n",
    "%autoreload 2"
   ]
  },
  {
   "cell_type": "code",
   "execution_count": 2,
   "metadata": {},
   "outputs": [],
   "source": [
    "country = 'guatemala'\n",
    "iso3 = 'GTM'\n",
    "epsg = 26915"
   ]
  },
  {
   "cell_type": "markdown",
   "metadata": {},
   "source": [
    "### Load origins and graph"
   ]
  },
  {
   "cell_type": "code",
   "execution_count": 3,
   "metadata": {},
   "outputs": [],
   "source": [
    "base_in = \"/home/public/Data/PROJECTS/INFRA_SAP\"\n",
    "in_folder = os.path.join(base_in, iso3)\n",
    "\n",
    "# define data paths\n",
    "focal_admin2 = os.path.join(in_folder, \"admin.shp\")\n",
    "focal_osm = os.path.join(in_folder, f\"{country}-latest.osm.pbf\")\n",
    "pop_name = \"WP_2020_1km\"\n",
    "wp_1km = os.path.join(in_folder, f\"{pop_name}.tif\")\n",
    "urban_extents = os.path.join(in_folder, \"urban_extents.shp\")\n",
    "airports = os.path.join(in_folder, \"airports.shp\")\n",
    "ports = os.path.join(in_folder, \"ports.shp\")\n",
    "borders = os.path.join(in_folder, \"borders.shp\")\n",
    "\n",
    "base_out = \"/home/wb514197/data/INFRA_SAP\" # GOT permission denied using public \n",
    "out_folder = os.path.join(base_out, iso3)\n",
    "if not os.path.exists(out_folder):\n",
    "    os.makedirs(out_folder)"
   ]
  },
  {
   "cell_type": "markdown",
   "metadata": {},
   "source": [
    "Convert **WP_2020_1km.tif** into a point GeoData frame"
   ]
  },
  {
   "cell_type": "code",
   "execution_count": 4,
   "metadata": {},
   "outputs": [],
   "source": [
    "inDs = gdal.Open(wp_1km)\n",
    "out_pop = os.path.join(out_folder, f\"{pop_name}.xyz\")\n",
    "outDs = gdal.Translate(out_pop, inDs, format='XYZ', creationOptions=[\"ADD_HEADER_LINE=YES\"])\n",
    "out_pop_csv = os.path.join(out_folder, f\"{pop_name}.csv\")\n",
    "os.rename(out_pop, out_pop_csv)"
   ]
  },
  {
   "cell_type": "code",
   "execution_count": 5,
   "metadata": {},
   "outputs": [],
   "source": [
    "wp_df = pd.read_csv(out_pop_csv, sep=' ')\n",
    "wp_df.rename(columns={\"Z\":\"Pop\"}, inplace=True)\n",
    "wp_df = wp_df.loc[wp_df.Pop!=-99999.0].copy()\n",
    "geoms = [Point(xy) for xy in zip(wp_df.X, wp_df.Y)]\n",
    "wp_df.drop([\"X\",\"Y\"], axis=1, inplace=True)\n",
    "crs = 'EPSG:4326'\n",
    "origins = gpd.GeoDataFrame(wp_df, crs=crs, geometry=geoms)\n",
    "origins['pointid'] = origins.index"
   ]
  },
  {
   "cell_type": "markdown",
   "metadata": {},
   "source": [
    "### Prepare Graph"
   ]
  },
  {
   "cell_type": "code",
   "execution_count": 6,
   "metadata": {},
   "outputs": [],
   "source": [
    "# G_path = None # if a graph already exists list the path here\n",
    "G_path = os.path.join(in_folder, 'graph', f\"G_{iso3}.pickle\") "
   ]
  },
  {
   "cell_type": "code",
   "execution_count": 7,
   "metadata": {},
   "outputs": [],
   "source": [
    "if G_path is None:\n",
    "    print(\"Creating graph from scratch\")\n",
    "    osm_raw = OSM_to_network(focal_osm)\n",
    "    accepted_road_types = ['trunk','trunk_link','primary','primary_link','secondary','secondary_link','tertiary','tertiary_link']\n",
    "    osm_raw.filterRoads(acceptedRoads = accepted_road_types)\n",
    "    osm_raw.generateRoadsGDF(verbose = False)\n",
    "    osm_raw.initialReadIn()\n",
    "    \n",
    "    if not os.path.exists(os.path.join(out_folder, 'graph')):\n",
    "        os.mkdir(os.path.join(out_folder, 'graph'))\n",
    "    gn.save(osm_raw.network,f'G_{iso3}_unclean',os.path.join(out_folder, 'graph'))\n",
    "    \n",
    "    #clean graph\n",
    "    G_clean = gn.clean_network(osm_raw.network, UTM = f\"EPSG:{epsg}\", WGS = \"EPSG:4326\", junctdist = 50, verbose = False)\n",
    "    G = G_clean.copy()\n",
    "\n",
    "else:\n",
    "    G = nx.read_gpickle(G_path)\n",
    "    for u, v, data in G.edges(data = True):\n",
    "        if type(data['Wkt']) == list:\n",
    "            data['Wkt'] = gn.unbundle_geometry(data['Wkt'])"
   ]
  },
  {
   "cell_type": "code",
   "execution_count": 9,
   "metadata": {},
   "outputs": [
    {
     "name": "stdout",
     "output_type": "stream",
     "text": [
      "WARNING: \"factor behavior has changed! now divides rather than multiplies. This change brings gn.salt_long_lines into line with gn.convert_network_to_time\" \n"
     ]
    },
    {
     "name": "stderr",
     "output_type": "stream",
     "text": [
      "/home/wb514197/.conda/envs/geo/lib/python3.7/site-packages/pyproj/crs/crs.py:55: FutureWarning: '+init=<authority>:<code>' syntax is deprecated. '<authority>:<code>' is the preferred initialization method. When making the change, be mindful of axis order changes: https://pyproj4.github.io/pyproj/stable/gotchas.html#axis-order-changes-in-proj-6\n",
      "  return _prepare_from_string(\" \".join(pjargs))\n",
      "/home/wb514197/.conda/envs/geo/lib/python3.7/site-packages/pyproj/crs/crs.py:55: FutureWarning: '+init=<authority>:<code>' syntax is deprecated. '<authority>:<code>' is the preferred initialization method. When making the change, be mindful of axis order changes: https://pyproj4.github.io/pyproj/stable/gotchas.html#axis-order-changes-in-proj-6\n",
      "  return _prepare_from_string(\" \".join(pjargs))\n",
      "/home/wb514197/.conda/envs/geo/lib/python3.7/site-packages/pyproj/crs/crs.py:55: FutureWarning: '+init=<authority>:<code>' syntax is deprecated. '<authority>:<code>' is the preferred initialization method. When making the change, be mindful of axis order changes: https://pyproj4.github.io/pyproj/stable/gotchas.html#axis-order-changes-in-proj-6\n",
      "  return _prepare_from_string(\" \".join(pjargs))\n",
      "/home/wb514197/.conda/envs/geo/lib/python3.7/site-packages/pyproj/crs/crs.py:55: FutureWarning: '+init=<authority>:<code>' syntax is deprecated. '<authority>:<code>' is the preferred initialization method. When making the change, be mindful of axis order changes: https://pyproj4.github.io/pyproj/stable/gotchas.html#axis-order-changes-in-proj-6\n",
      "  return _prepare_from_string(\" \".join(pjargs))\n"
     ]
    },
    {
     "name": "stdout",
     "output_type": "stream",
     "text": [
      "Identified 2664 unique edge(s) longer than 5000. \n",
      "Beginning new node creation...\n",
      "15854 new edges added and 5333 removed to bring total edges to 36637\n",
      "5263 new nodes added to bring total nodes to 14514\n"
     ]
    }
   ],
   "source": [
    "# Salt network\n",
    "attr_list = ['id', 'infra_type', 'osm_id', 'key', 'Type']\n",
    "G_salt = gn.salt_long_lines(G, source='EPSG:4326', target=f'EPSG:{epsg}', thresh=5000, factor=1000, attr_list=attr_list)\n",
    "G_time = gn.convert_network_to_time(G_salt, distance_tag = 'length', road_col = 'infra_type', factor = 1000)\n",
    "if not os.path.exists(os.path.join(out_folder, 'graph')):\n",
    "    os.mkdir(os.path.join(out_folder, 'graph'))\n",
    "gn.save(G_time, f\"G_{iso3}_Salt\", os.path.join(out_folder, 'graph'))"
   ]
  },
  {
   "cell_type": "markdown",
   "metadata": {},
   "source": [
    "#### Select largest graph"
   ]
  },
  {
   "cell_type": "code",
   "execution_count": 10,
   "metadata": {},
   "outputs": [],
   "source": [
    "list_of_subgraphs = [G_time.subgraph(c).copy() for c in sorted(nx.strongly_connected_components(G_time), key=len, reverse=True)]\n",
    "G_largest = list_of_subgraphs[0]"
   ]
  },
  {
   "cell_type": "markdown",
   "metadata": {},
   "source": [
    "### Prepare destinations"
   ]
  },
  {
   "cell_type": "code",
   "execution_count": 11,
   "metadata": {},
   "outputs": [],
   "source": [
    "inCities = gpd.read_file(urban_extents)\n",
    "pop_thresh=50000\n",
    "inCities = inCities.loc[inCities.Pop>pop_thresh]\n",
    "inCities['geometry'] = inCities.geometry.centroid\n",
    "dest_cities = inCities.assign(dest_type = 'city')"
   ]
  },
  {
   "cell_type": "code",
   "execution_count": 12,
   "metadata": {},
   "outputs": [],
   "source": [
    "dest_airports = gpd.read_file(airports)\n",
    "dest_airports = dest_airports.assign(dest_type = 'airport')"
   ]
  },
  {
   "cell_type": "code",
   "execution_count": 13,
   "metadata": {},
   "outputs": [],
   "source": [
    "dest_ports = gpd.read_file(ports).assign(dest_type = 'port')\n",
    "dest_borders = gpd.read_file(borders).assign(dest_type = 'border')\n",
    "dest_borders['geometry'] = dest_borders.geometry.apply(lambda x: x[0])"
   ]
  },
  {
   "cell_type": "code",
   "execution_count": 14,
   "metadata": {
    "scrolled": true
   },
   "outputs": [],
   "source": [
    "dest_all = pd.concat([dest_cities, dest_ports, dest_airports, dest_borders], ignore_index=True)"
   ]
  },
  {
   "cell_type": "code",
   "execution_count": 15,
   "metadata": {},
   "outputs": [
    {
     "data": {
      "text/plain": [
       "airport    50\n",
       "border     28\n",
       "city       16\n",
       "port        2\n",
       "Name: dest_type, dtype: int64"
      ]
     },
     "execution_count": 15,
     "metadata": {},
     "output_type": "execute_result"
    }
   ],
   "source": [
    "dest_all.dest_type.value_counts()"
   ]
  },
  {
   "cell_type": "code",
   "execution_count": 16,
   "metadata": {},
   "outputs": [],
   "source": [
    "dest_all.to_csv(os.path.join(out_folder, 'destination_all.csv'))"
   ]
  },
  {
   "cell_type": "code",
   "execution_count": 17,
   "metadata": {},
   "outputs": [
    {
     "data": {
      "text/plain": [
       "(133659, 96)"
      ]
     },
     "execution_count": 17,
     "metadata": {},
     "output_type": "execute_result"
    }
   ],
   "source": [
    "len(origins), len(dest_all)"
   ]
  },
  {
   "cell_type": "markdown",
   "metadata": {},
   "source": [
    "### Snap origins and destinations"
   ]
  },
  {
   "cell_type": "markdown",
   "metadata": {},
   "source": [
    "#### Snap to origins to 5 nearest nodes"
   ]
  },
  {
   "cell_type": "code",
   "execution_count": 18,
   "metadata": {},
   "outputs": [],
   "source": [
    "utm = f\"EPSG:{epsg}\""
   ]
  },
  {
   "cell_type": "code",
   "execution_count": 19,
   "metadata": {},
   "outputs": [
    {
     "name": "stdout",
     "output_type": "stream",
     "text": [
      "CPU times: user 20.8 s, sys: 175 ms, total: 21 s\n",
      "Wall time: 21 s\n"
     ]
    }
   ],
   "source": [
    "%%time\n",
    "# this function returns a dictionary of origin IDs, with a list of 5 NNs, and a corresponding list of distances\n",
    "origins_snapped_dict = gn.pandana_snap_to_many(G_largest, origins, source_crs='epsg:4326', target_crs=utm, \n",
    "                                               add_dist_to_node_col = True, k_nearest=5, origin_id='pointid')"
   ]
  },
  {
   "cell_type": "code",
   "execution_count": 20,
   "metadata": {},
   "outputs": [],
   "source": [
    "dest_snapped = gn.pandana_snap_c(G_largest, dest_all, source_crs='epsg:4326', target_crs=utm,\n",
    "                                 add_dist_to_node_col = False)"
   ]
  },
  {
   "cell_type": "code",
   "execution_count": 21,
   "metadata": {},
   "outputs": [],
   "source": [
    "dest_nn = list(dest_snapped['NN'])\n",
    "list_origins_NN = []\n",
    "for each in origins_snapped_dict.values():\n",
    "    list_origins_NN += each['NN']\n",
    "origins_unique_nn = list(set(list_origins_NN))"
   ]
  },
  {
   "cell_type": "code",
   "execution_count": 22,
   "metadata": {},
   "outputs": [
    {
     "name": "stdout",
     "output_type": "stream",
     "text": [
      "CPU times: user 5.52 s, sys: 977 µs, total: 5.52 s\n",
      "Wall time: 5.52 s\n"
     ]
    }
   ],
   "source": [
    "%%time\n",
    "curOD = gn.calculate_OD(G_largest, origins_unique_nn, dest_nn, fail_value = 999999999)"
   ]
  },
  {
   "cell_type": "markdown",
   "metadata": {},
   "source": [
    "quick checks"
   ]
  },
  {
   "cell_type": "code",
   "execution_count": 23,
   "metadata": {},
   "outputs": [
    {
     "data": {
      "text/plain": [
       "array([], dtype=float64)"
      ]
     },
     "execution_count": 23,
     "metadata": {},
     "output_type": "execute_result"
    }
   ],
   "source": [
    "curOD[curOD==999999999]"
   ]
  },
  {
   "cell_type": "code",
   "execution_count": 24,
   "metadata": {},
   "outputs": [
    {
     "data": {
      "text/plain": [
       "(5703, 96)"
      ]
     },
     "execution_count": 24,
     "metadata": {},
     "output_type": "execute_result"
    }
   ],
   "source": [
    "curOD.shape"
   ]
  },
  {
   "cell_type": "code",
   "execution_count": 25,
   "metadata": {},
   "outputs": [],
   "source": [
    "od_df = pd.DataFrame(curOD, index=origins_unique_nn, columns=dest_nn)"
   ]
  },
  {
   "cell_type": "code",
   "execution_count": 26,
   "metadata": {
    "scrolled": true
   },
   "outputs": [
    {
     "data": {
      "text/html": [
       "<div>\n",
       "<style scoped>\n",
       "    .dataframe tbody tr th:only-of-type {\n",
       "        vertical-align: middle;\n",
       "    }\n",
       "\n",
       "    .dataframe tbody tr th {\n",
       "        vertical-align: top;\n",
       "    }\n",
       "\n",
       "    .dataframe thead th {\n",
       "        text-align: right;\n",
       "    }\n",
       "</style>\n",
       "<table border=\"1\" class=\"dataframe\">\n",
       "  <thead>\n",
       "    <tr style=\"text-align: right;\">\n",
       "      <th></th>\n",
       "      <th>new_obj_5260</th>\n",
       "      <th>new_obj_4782</th>\n",
       "      <th>5314_649_1937</th>\n",
       "      <th>25191</th>\n",
       "      <th>new_obj_4446_2635_7840</th>\n",
       "      <th>5313_646_1922</th>\n",
       "      <th>32423</th>\n",
       "      <th>30920</th>\n",
       "      <th>new_obj_3102</th>\n",
       "      <th>11722</th>\n",
       "      <th>...</th>\n",
       "      <th>9240_1094_3290</th>\n",
       "      <th>9240_1094_3290</th>\n",
       "      <th>new_obj_5335</th>\n",
       "      <th>new_obj_5335</th>\n",
       "      <th>new_obj_5335</th>\n",
       "      <th>new_obj_5335</th>\n",
       "      <th>new_obj_3954_2614_7785</th>\n",
       "      <th>new_obj_3954_2614_7785</th>\n",
       "      <th>new_obj_3954_2614_7785</th>\n",
       "      <th>new_obj_3954_2614_7785</th>\n",
       "    </tr>\n",
       "  </thead>\n",
       "  <tbody>\n",
       "    <tr>\n",
       "      <th>14884_1628_4916</th>\n",
       "      <td>24445.533440</td>\n",
       "      <td>48182.827774</td>\n",
       "      <td>51590.273879</td>\n",
       "      <td>48037.195567</td>\n",
       "      <td>43152.974353</td>\n",
       "      <td>52096.865363</td>\n",
       "      <td>59953.742028</td>\n",
       "      <td>56969.152366</td>\n",
       "      <td>61019.240251</td>\n",
       "      <td>63463.933082</td>\n",
       "      <td>...</td>\n",
       "      <td>62534.434670</td>\n",
       "      <td>62534.434670</td>\n",
       "      <td>33245.969156</td>\n",
       "      <td>33245.969156</td>\n",
       "      <td>33245.969156</td>\n",
       "      <td>33245.969156</td>\n",
       "      <td>59043.325727</td>\n",
       "      <td>59043.325727</td>\n",
       "      <td>59043.325727</td>\n",
       "      <td>59043.325727</td>\n",
       "    </tr>\n",
       "    <tr>\n",
       "      <th>5</th>\n",
       "      <td>52862.055387</td>\n",
       "      <td>41443.178535</td>\n",
       "      <td>25105.566035</td>\n",
       "      <td>21265.764610</td>\n",
       "      <td>29643.155670</td>\n",
       "      <td>17319.985385</td>\n",
       "      <td>13556.356640</td>\n",
       "      <td>30678.137342</td>\n",
       "      <td>24188.296568</td>\n",
       "      <td>8347.919108</td>\n",
       "      <td>...</td>\n",
       "      <td>33671.370821</td>\n",
       "      <td>33671.370821</td>\n",
       "      <td>61662.491103</td>\n",
       "      <td>61662.491103</td>\n",
       "      <td>61662.491103</td>\n",
       "      <td>61662.491103</td>\n",
       "      <td>13819.513182</td>\n",
       "      <td>13819.513182</td>\n",
       "      <td>13819.513182</td>\n",
       "      <td>13819.513182</td>\n",
       "    </tr>\n",
       "    <tr>\n",
       "      <th>new_obj_3358_1601_4839</th>\n",
       "      <td>50883.584009</td>\n",
       "      <td>43068.287010</td>\n",
       "      <td>23127.094657</td>\n",
       "      <td>19287.293232</td>\n",
       "      <td>27664.684292</td>\n",
       "      <td>15341.514006</td>\n",
       "      <td>6576.485440</td>\n",
       "      <td>32303.245817</td>\n",
       "      <td>25813.405043</td>\n",
       "      <td>1368.047908</td>\n",
       "      <td>...</td>\n",
       "      <td>35296.479296</td>\n",
       "      <td>35296.479296</td>\n",
       "      <td>59684.019725</td>\n",
       "      <td>59684.019725</td>\n",
       "      <td>59684.019725</td>\n",
       "      <td>59684.019725</td>\n",
       "      <td>6839.641981</td>\n",
       "      <td>6839.641981</td>\n",
       "      <td>6839.641981</td>\n",
       "      <td>6839.641981</td>\n",
       "    </tr>\n",
       "    <tr>\n",
       "      <th>13</th>\n",
       "      <td>51291.029730</td>\n",
       "      <td>34261.251674</td>\n",
       "      <td>34603.813380</td>\n",
       "      <td>30924.136306</td>\n",
       "      <td>28036.674691</td>\n",
       "      <td>26151.185252</td>\n",
       "      <td>22557.116038</td>\n",
       "      <td>23496.210481</td>\n",
       "      <td>17006.369707</td>\n",
       "      <td>17348.678506</td>\n",
       "      <td>...</td>\n",
       "      <td>26489.443960</td>\n",
       "      <td>26489.443960</td>\n",
       "      <td>54988.108092</td>\n",
       "      <td>54988.108092</td>\n",
       "      <td>54988.108092</td>\n",
       "      <td>54988.108092</td>\n",
       "      <td>22820.272580</td>\n",
       "      <td>22820.272580</td>\n",
       "      <td>22820.272580</td>\n",
       "      <td>22820.272580</td>\n",
       "    </tr>\n",
       "    <tr>\n",
       "      <th>31</th>\n",
       "      <td>56609.592045</td>\n",
       "      <td>39579.813989</td>\n",
       "      <td>36300.924236</td>\n",
       "      <td>32461.122810</td>\n",
       "      <td>33355.237006</td>\n",
       "      <td>28515.343585</td>\n",
       "      <td>24094.102542</td>\n",
       "      <td>28814.772796</td>\n",
       "      <td>22324.932023</td>\n",
       "      <td>18885.665010</td>\n",
       "      <td>...</td>\n",
       "      <td>31808.006275</td>\n",
       "      <td>31808.006275</td>\n",
       "      <td>60306.670408</td>\n",
       "      <td>60306.670408</td>\n",
       "      <td>60306.670408</td>\n",
       "      <td>60306.670408</td>\n",
       "      <td>24357.259084</td>\n",
       "      <td>24357.259084</td>\n",
       "      <td>24357.259084</td>\n",
       "      <td>24357.259084</td>\n",
       "    </tr>\n",
       "  </tbody>\n",
       "</table>\n",
       "<p>5 rows × 96 columns</p>\n",
       "</div>"
      ],
      "text/plain": [
       "                        new_obj_5260  new_obj_4782  5314_649_1937  \\\n",
       "14884_1628_4916         24445.533440  48182.827774   51590.273879   \n",
       "5                       52862.055387  41443.178535   25105.566035   \n",
       "new_obj_3358_1601_4839  50883.584009  43068.287010   23127.094657   \n",
       "13                      51291.029730  34261.251674   34603.813380   \n",
       "31                      56609.592045  39579.813989   36300.924236   \n",
       "\n",
       "                               25191  new_obj_4446_2635_7840  5313_646_1922  \\\n",
       "14884_1628_4916         48037.195567            43152.974353   52096.865363   \n",
       "5                       21265.764610            29643.155670   17319.985385   \n",
       "new_obj_3358_1601_4839  19287.293232            27664.684292   15341.514006   \n",
       "13                      30924.136306            28036.674691   26151.185252   \n",
       "31                      32461.122810            33355.237006   28515.343585   \n",
       "\n",
       "                               32423         30920  new_obj_3102  \\\n",
       "14884_1628_4916         59953.742028  56969.152366  61019.240251   \n",
       "5                       13556.356640  30678.137342  24188.296568   \n",
       "new_obj_3358_1601_4839   6576.485440  32303.245817  25813.405043   \n",
       "13                      22557.116038  23496.210481  17006.369707   \n",
       "31                      24094.102542  28814.772796  22324.932023   \n",
       "\n",
       "                               11722  ...  9240_1094_3290  9240_1094_3290  \\\n",
       "14884_1628_4916         63463.933082  ...    62534.434670    62534.434670   \n",
       "5                        8347.919108  ...    33671.370821    33671.370821   \n",
       "new_obj_3358_1601_4839   1368.047908  ...    35296.479296    35296.479296   \n",
       "13                      17348.678506  ...    26489.443960    26489.443960   \n",
       "31                      18885.665010  ...    31808.006275    31808.006275   \n",
       "\n",
       "                        new_obj_5335  new_obj_5335  new_obj_5335  \\\n",
       "14884_1628_4916         33245.969156  33245.969156  33245.969156   \n",
       "5                       61662.491103  61662.491103  61662.491103   \n",
       "new_obj_3358_1601_4839  59684.019725  59684.019725  59684.019725   \n",
       "13                      54988.108092  54988.108092  54988.108092   \n",
       "31                      60306.670408  60306.670408  60306.670408   \n",
       "\n",
       "                        new_obj_5335  new_obj_3954_2614_7785  \\\n",
       "14884_1628_4916         33245.969156            59043.325727   \n",
       "5                       61662.491103            13819.513182   \n",
       "new_obj_3358_1601_4839  59684.019725             6839.641981   \n",
       "13                      54988.108092            22820.272580   \n",
       "31                      60306.670408            24357.259084   \n",
       "\n",
       "                        new_obj_3954_2614_7785  new_obj_3954_2614_7785  \\\n",
       "14884_1628_4916                   59043.325727            59043.325727   \n",
       "5                                 13819.513182            13819.513182   \n",
       "new_obj_3358_1601_4839             6839.641981             6839.641981   \n",
       "13                                22820.272580            22820.272580   \n",
       "31                                24357.259084            24357.259084   \n",
       "\n",
       "                        new_obj_3954_2614_7785  \n",
       "14884_1628_4916                   59043.325727  \n",
       "5                                 13819.513182  \n",
       "new_obj_3358_1601_4839             6839.641981  \n",
       "13                                22820.272580  \n",
       "31                                24357.259084  \n",
       "\n",
       "[5 rows x 96 columns]"
      ]
     },
     "execution_count": 26,
     "metadata": {},
     "output_type": "execute_result"
    }
   ],
   "source": [
    "od_df.head()"
   ]
  },
  {
   "cell_type": "markdown",
   "metadata": {},
   "source": [
    "For each origin set of 5 (k) possible NN:\n",
    "    - Add snapping dist (in time) + time to a destination\n",
    "    - Which destination? min time from all of them won't necessarily work, so we need to find the closest destination for each origin, and select the NN which yields the fastest travel time to that dest\n",
    "    - closest_dest.idx should match the OD column order."
   ]
  },
  {
   "cell_type": "code",
   "execution_count": 27,
   "metadata": {},
   "outputs": [
    {
     "name": "stdout",
     "output_type": "stream",
     "text": [
      "CPU times: user 7.19 s, sys: 46 ms, total: 7.24 s\n",
      "Wall time: 7.24 s\n"
     ]
    }
   ],
   "source": [
    "%%time\n",
    "closest_dest = gn.pandana_snap_points(origins, dest_all, source_crs='epsg:4326', target_crs=utm,\n",
    "                                      add_dist_to_node_col=True)"
   ]
  },
  {
   "cell_type": "code",
   "execution_count": 28,
   "metadata": {},
   "outputs": [],
   "source": [
    "closest_dest = closest_dest.set_index('pointid')"
   ]
  },
  {
   "cell_type": "code",
   "execution_count": 29,
   "metadata": {},
   "outputs": [
    {
     "data": {
      "text/html": [
       "<div>\n",
       "<style scoped>\n",
       "    .dataframe tbody tr th:only-of-type {\n",
       "        vertical-align: middle;\n",
       "    }\n",
       "\n",
       "    .dataframe tbody tr th {\n",
       "        vertical-align: top;\n",
       "    }\n",
       "\n",
       "    .dataframe thead th {\n",
       "        text-align: right;\n",
       "    }\n",
       "</style>\n",
       "<table border=\"1\" class=\"dataframe\">\n",
       "  <thead>\n",
       "    <tr style=\"text-align: right;\">\n",
       "      <th></th>\n",
       "      <th>Pop</th>\n",
       "      <th>geometry</th>\n",
       "      <th>idx</th>\n",
       "      <th>idx_dist</th>\n",
       "    </tr>\n",
       "    <tr>\n",
       "      <th>pointid</th>\n",
       "      <th></th>\n",
       "      <th></th>\n",
       "      <th></th>\n",
       "      <th></th>\n",
       "    </tr>\n",
       "  </thead>\n",
       "  <tbody>\n",
       "    <tr>\n",
       "      <th>148</th>\n",
       "      <td>17.833401</td>\n",
       "      <td>POINT (713526.895 1970820.776)</td>\n",
       "      <td>47</td>\n",
       "      <td>38167.960297</td>\n",
       "    </tr>\n",
       "    <tr>\n",
       "      <th>149</th>\n",
       "      <td>16.891191</td>\n",
       "      <td>POINT (714410.449 1970830.304)</td>\n",
       "      <td>47</td>\n",
       "      <td>37662.112060</td>\n",
       "    </tr>\n",
       "    <tr>\n",
       "      <th>150</th>\n",
       "      <td>16.950291</td>\n",
       "      <td>POINT (715294.008 1970839.871)</td>\n",
       "      <td>47</td>\n",
       "      <td>37170.417996</td>\n",
       "    </tr>\n",
       "    <tr>\n",
       "      <th>151</th>\n",
       "      <td>17.671246</td>\n",
       "      <td>POINT (716177.570 1970849.478)</td>\n",
       "      <td>47</td>\n",
       "      <td>36693.447402</td>\n",
       "    </tr>\n",
       "    <tr>\n",
       "      <th>152</th>\n",
       "      <td>16.732470</td>\n",
       "      <td>POINT (717061.136 1970859.125)</td>\n",
       "      <td>47</td>\n",
       "      <td>36231.782056</td>\n",
       "    </tr>\n",
       "  </tbody>\n",
       "</table>\n",
       "</div>"
      ],
      "text/plain": [
       "               Pop                        geometry  idx      idx_dist\n",
       "pointid                                                              \n",
       "148      17.833401  POINT (713526.895 1970820.776)   47  38167.960297\n",
       "149      16.891191  POINT (714410.449 1970830.304)   47  37662.112060\n",
       "150      16.950291  POINT (715294.008 1970839.871)   47  37170.417996\n",
       "151      17.671246  POINT (716177.570 1970849.478)   47  36693.447402\n",
       "152      16.732470  POINT (717061.136 1970859.125)   47  36231.782056"
      ]
     },
     "execution_count": 29,
     "metadata": {},
     "output_type": "execute_result"
    }
   ],
   "source": [
    "closest_dest.head()"
   ]
  },
  {
   "cell_type": "code",
   "execution_count": 30,
   "metadata": {},
   "outputs": [
    {
     "name": "stdout",
     "output_type": "stream",
     "text": [
      "CPU times: user 1min 35s, sys: 27.8 ms, total: 1min 35s\n",
      "Wall time: 1min 35s\n"
     ]
    }
   ],
   "source": [
    "%%time\n",
    "fastest_nn = []\n",
    "fastest_dist = []\n",
    "custom_speed = 30 # km/h\n",
    "\n",
    "for pointid, items in origins_snapped_dict.items():\n",
    "    dest_index = closest_dest.loc[pointid].idx\n",
    "    nn_list = items['NN']\n",
    "    dist_list = items['NN_dist']\n",
    "    total_time_list = []\n",
    "    for i in range(0, len(nn_list)):\n",
    "        time_snapping = ((dist_list[i] / 1000) / custom_speed) * 60 * 60\n",
    "        #time_to_dest = od_df.loc[nn_list[i]].min()\n",
    "        time_to_dest = od_df.loc[nn_list[i]].iloc[dest_index]\n",
    "        total_time = time_snapping+time_to_dest\n",
    "        total_time_list.append(total_time)\n",
    "#         print(f\"id: {nn_list[i]}, snapping dist (km): {dist_list[i]/1000:.2f}, time to dest (min): {(total_time/60)/60:.2f}\")\n",
    "    min_pos = total_time_list.index(min(total_time_list))\n",
    "    fastest_nn.append(nn_list[min_pos])\n",
    "    fastest_dist.append(dist_list[min_pos])\n",
    "#     origins_snapped_smart.loc[pointid, \"NN\"] = nn_list[min_pos]\n",
    "#     origins_snapped_smart.loc[pointid, \"NN_dist\"] = dist_list[min_pos]"
   ]
  },
  {
   "cell_type": "code",
   "execution_count": 31,
   "metadata": {},
   "outputs": [],
   "source": [
    "origins_snapped = origins.copy().set_index('pointid')\n",
    "origins_snapped['NN'] = pd.Series(fastest_nn, index = origins_snapped.index)\n",
    "origins_snapped['NN_dist'] = pd.Series(fastest_dist, index = origins_snapped.index)\n",
    "origins_snapped['pointid'] = origins_snapped.index\n",
    "origins_snapped['NN_dist_seconds'] = ((origins_snapped.NN_dist / 1000) / custom_speed) * 60 * 60\n",
    "origins_snapped['NN_dist_hours'] = ((origins_snapped.NN_dist / 1000) / custom_speed)"
   ]
  },
  {
   "cell_type": "code",
   "execution_count": 32,
   "metadata": {},
   "outputs": [
    {
     "data": {
      "text/html": [
       "<div>\n",
       "<style scoped>\n",
       "    .dataframe tbody tr th:only-of-type {\n",
       "        vertical-align: middle;\n",
       "    }\n",
       "\n",
       "    .dataframe tbody tr th {\n",
       "        vertical-align: top;\n",
       "    }\n",
       "\n",
       "    .dataframe thead th {\n",
       "        text-align: right;\n",
       "    }\n",
       "</style>\n",
       "<table border=\"1\" class=\"dataframe\">\n",
       "  <thead>\n",
       "    <tr style=\"text-align: right;\">\n",
       "      <th></th>\n",
       "      <th>Pop</th>\n",
       "      <th>geometry</th>\n",
       "      <th>NN</th>\n",
       "      <th>NN_dist</th>\n",
       "      <th>pointid</th>\n",
       "      <th>NN_dist_seconds</th>\n",
       "      <th>NN_dist_hours</th>\n",
       "    </tr>\n",
       "    <tr>\n",
       "      <th>pointid</th>\n",
       "      <th></th>\n",
       "      <th></th>\n",
       "      <th></th>\n",
       "      <th></th>\n",
       "      <th></th>\n",
       "      <th></th>\n",
       "      <th></th>\n",
       "    </tr>\n",
       "  </thead>\n",
       "  <tbody>\n",
       "    <tr>\n",
       "      <th>148</th>\n",
       "      <td>17.833401</td>\n",
       "      <td>POINT (-90.98542 17.81458)</td>\n",
       "      <td>17979</td>\n",
       "      <td>7862.647847</td>\n",
       "      <td>148</td>\n",
       "      <td>943.517742</td>\n",
       "      <td>0.262088</td>\n",
       "    </tr>\n",
       "    <tr>\n",
       "      <th>149</th>\n",
       "      <td>16.891191</td>\n",
       "      <td>POINT (-90.97708 17.81458)</td>\n",
       "      <td>17979</td>\n",
       "      <td>8727.086089</td>\n",
       "      <td>149</td>\n",
       "      <td>1047.250331</td>\n",
       "      <td>0.290903</td>\n",
       "    </tr>\n",
       "    <tr>\n",
       "      <th>150</th>\n",
       "      <td>16.950291</td>\n",
       "      <td>POINT (-90.96875 17.81458)</td>\n",
       "      <td>17979</td>\n",
       "      <td>9595.014026</td>\n",
       "      <td>150</td>\n",
       "      <td>1151.401683</td>\n",
       "      <td>0.319834</td>\n",
       "    </tr>\n",
       "    <tr>\n",
       "      <th>151</th>\n",
       "      <td>17.671246</td>\n",
       "      <td>POINT (-90.96042 17.81458)</td>\n",
       "      <td>23903</td>\n",
       "      <td>9940.660906</td>\n",
       "      <td>151</td>\n",
       "      <td>1192.879309</td>\n",
       "      <td>0.331355</td>\n",
       "    </tr>\n",
       "    <tr>\n",
       "      <th>152</th>\n",
       "      <td>16.732470</td>\n",
       "      <td>POINT (-90.95208 17.81458)</td>\n",
       "      <td>7912_942_2811</td>\n",
       "      <td>10701.299317</td>\n",
       "      <td>152</td>\n",
       "      <td>1284.155918</td>\n",
       "      <td>0.356710</td>\n",
       "    </tr>\n",
       "  </tbody>\n",
       "</table>\n",
       "</div>"
      ],
      "text/plain": [
       "               Pop                    geometry             NN       NN_dist  \\\n",
       "pointid                                                                       \n",
       "148      17.833401  POINT (-90.98542 17.81458)          17979   7862.647847   \n",
       "149      16.891191  POINT (-90.97708 17.81458)          17979   8727.086089   \n",
       "150      16.950291  POINT (-90.96875 17.81458)          17979   9595.014026   \n",
       "151      17.671246  POINT (-90.96042 17.81458)          23903   9940.660906   \n",
       "152      16.732470  POINT (-90.95208 17.81458)  7912_942_2811  10701.299317   \n",
       "\n",
       "         pointid  NN_dist_seconds  NN_dist_hours  \n",
       "pointid                                           \n",
       "148          148       943.517742       0.262088  \n",
       "149          149      1047.250331       0.290903  \n",
       "150          150      1151.401683       0.319834  \n",
       "151          151      1192.879309       0.331355  \n",
       "152          152      1284.155918       0.356710  "
      ]
     },
     "execution_count": 32,
     "metadata": {},
     "output_type": "execute_result"
    }
   ],
   "source": [
    "origins_snapped.head()"
   ]
  },
  {
   "cell_type": "code",
   "execution_count": 33,
   "metadata": {},
   "outputs": [],
   "source": [
    "origins_join = origins_snapped.join(od_df, on='NN')"
   ]
  },
  {
   "cell_type": "code",
   "execution_count": 34,
   "metadata": {},
   "outputs": [
    {
     "data": {
      "text/plain": [
       "True"
      ]
     },
     "execution_count": 34,
     "metadata": {},
     "output_type": "execute_result"
    }
   ],
   "source": [
    "all(origins_join.columns[7:] == dest_snapped.NN)"
   ]
  },
  {
   "cell_type": "code",
   "execution_count": 35,
   "metadata": {},
   "outputs": [],
   "source": [
    "origins_join_rename = origins_join.copy()\n",
    "origins_join_rename.columns = pd.MultiIndex.from_arrays([['origin' for each in origins_snapped.columns]+list(dest_snapped.dest_type), origins_snapped.columns.append(dest_snapped.index)])"
   ]
  },
  {
   "cell_type": "code",
   "execution_count": 36,
   "metadata": {
    "scrolled": true
   },
   "outputs": [
    {
     "data": {
      "text/html": [
       "<div>\n",
       "<style scoped>\n",
       "    .dataframe tbody tr th:only-of-type {\n",
       "        vertical-align: middle;\n",
       "    }\n",
       "\n",
       "    .dataframe tbody tr th {\n",
       "        vertical-align: top;\n",
       "    }\n",
       "\n",
       "    .dataframe thead tr th {\n",
       "        text-align: left;\n",
       "    }\n",
       "\n",
       "    .dataframe thead tr:last-of-type th {\n",
       "        text-align: right;\n",
       "    }\n",
       "</style>\n",
       "<table border=\"1\" class=\"dataframe\">\n",
       "  <thead>\n",
       "    <tr>\n",
       "      <th></th>\n",
       "      <th colspan=\"7\" halign=\"left\">origin</th>\n",
       "      <th colspan=\"3\" halign=\"left\">city</th>\n",
       "      <th>...</th>\n",
       "      <th colspan=\"10\" halign=\"left\">border</th>\n",
       "    </tr>\n",
       "    <tr>\n",
       "      <th></th>\n",
       "      <th>Pop</th>\n",
       "      <th>geometry</th>\n",
       "      <th>NN</th>\n",
       "      <th>NN_dist</th>\n",
       "      <th>pointid</th>\n",
       "      <th>NN_dist_seconds</th>\n",
       "      <th>NN_dist_hours</th>\n",
       "      <th>0</th>\n",
       "      <th>1</th>\n",
       "      <th>2</th>\n",
       "      <th>...</th>\n",
       "      <th>86</th>\n",
       "      <th>87</th>\n",
       "      <th>88</th>\n",
       "      <th>89</th>\n",
       "      <th>90</th>\n",
       "      <th>91</th>\n",
       "      <th>92</th>\n",
       "      <th>93</th>\n",
       "      <th>94</th>\n",
       "      <th>95</th>\n",
       "    </tr>\n",
       "    <tr>\n",
       "      <th>pointid</th>\n",
       "      <th></th>\n",
       "      <th></th>\n",
       "      <th></th>\n",
       "      <th></th>\n",
       "      <th></th>\n",
       "      <th></th>\n",
       "      <th></th>\n",
       "      <th></th>\n",
       "      <th></th>\n",
       "      <th></th>\n",
       "      <th></th>\n",
       "      <th></th>\n",
       "      <th></th>\n",
       "      <th></th>\n",
       "      <th></th>\n",
       "      <th></th>\n",
       "      <th></th>\n",
       "      <th></th>\n",
       "      <th></th>\n",
       "      <th></th>\n",
       "      <th></th>\n",
       "    </tr>\n",
       "  </thead>\n",
       "  <tbody>\n",
       "    <tr>\n",
       "      <th>148</th>\n",
       "      <td>17.833401</td>\n",
       "      <td>POINT (-90.98542 17.81458)</td>\n",
       "      <td>17979</td>\n",
       "      <td>7862.647847</td>\n",
       "      <td>148</td>\n",
       "      <td>943.517742</td>\n",
       "      <td>0.262088</td>\n",
       "      <td>27937.785480</td>\n",
       "      <td>51675.079814</td>\n",
       "      <td>53358.655936</td>\n",
       "      <td>...</td>\n",
       "      <td>66026.686710</td>\n",
       "      <td>66026.686710</td>\n",
       "      <td>36738.221196</td>\n",
       "      <td>36738.221196</td>\n",
       "      <td>36738.221196</td>\n",
       "      <td>36738.221196</td>\n",
       "      <td>60811.707784</td>\n",
       "      <td>60811.707784</td>\n",
       "      <td>60811.707784</td>\n",
       "      <td>60811.707784</td>\n",
       "    </tr>\n",
       "    <tr>\n",
       "      <th>149</th>\n",
       "      <td>16.891191</td>\n",
       "      <td>POINT (-90.97708 17.81458)</td>\n",
       "      <td>17979</td>\n",
       "      <td>8727.086089</td>\n",
       "      <td>149</td>\n",
       "      <td>1047.250331</td>\n",
       "      <td>0.290903</td>\n",
       "      <td>27937.785480</td>\n",
       "      <td>51675.079814</td>\n",
       "      <td>53358.655936</td>\n",
       "      <td>...</td>\n",
       "      <td>66026.686710</td>\n",
       "      <td>66026.686710</td>\n",
       "      <td>36738.221196</td>\n",
       "      <td>36738.221196</td>\n",
       "      <td>36738.221196</td>\n",
       "      <td>36738.221196</td>\n",
       "      <td>60811.707784</td>\n",
       "      <td>60811.707784</td>\n",
       "      <td>60811.707784</td>\n",
       "      <td>60811.707784</td>\n",
       "    </tr>\n",
       "    <tr>\n",
       "      <th>150</th>\n",
       "      <td>16.950291</td>\n",
       "      <td>POINT (-90.96875 17.81458)</td>\n",
       "      <td>17979</td>\n",
       "      <td>9595.014026</td>\n",
       "      <td>150</td>\n",
       "      <td>1151.401683</td>\n",
       "      <td>0.319834</td>\n",
       "      <td>27937.785480</td>\n",
       "      <td>51675.079814</td>\n",
       "      <td>53358.655936</td>\n",
       "      <td>...</td>\n",
       "      <td>66026.686710</td>\n",
       "      <td>66026.686710</td>\n",
       "      <td>36738.221196</td>\n",
       "      <td>36738.221196</td>\n",
       "      <td>36738.221196</td>\n",
       "      <td>36738.221196</td>\n",
       "      <td>60811.707784</td>\n",
       "      <td>60811.707784</td>\n",
       "      <td>60811.707784</td>\n",
       "      <td>60811.707784</td>\n",
       "    </tr>\n",
       "    <tr>\n",
       "      <th>151</th>\n",
       "      <td>17.671246</td>\n",
       "      <td>POINT (-90.96042 17.81458)</td>\n",
       "      <td>23903</td>\n",
       "      <td>9940.660906</td>\n",
       "      <td>151</td>\n",
       "      <td>1192.879309</td>\n",
       "      <td>0.331355</td>\n",
       "      <td>28001.660620</td>\n",
       "      <td>51738.954954</td>\n",
       "      <td>53422.531076</td>\n",
       "      <td>...</td>\n",
       "      <td>66090.561850</td>\n",
       "      <td>66090.561850</td>\n",
       "      <td>36802.096336</td>\n",
       "      <td>36802.096336</td>\n",
       "      <td>36802.096336</td>\n",
       "      <td>36802.096336</td>\n",
       "      <td>60875.582924</td>\n",
       "      <td>60875.582924</td>\n",
       "      <td>60875.582924</td>\n",
       "      <td>60875.582924</td>\n",
       "    </tr>\n",
       "    <tr>\n",
       "      <th>152</th>\n",
       "      <td>16.732470</td>\n",
       "      <td>POINT (-90.95208 17.81458)</td>\n",
       "      <td>7912_942_2811</td>\n",
       "      <td>10701.299317</td>\n",
       "      <td>152</td>\n",
       "      <td>1284.155918</td>\n",
       "      <td>0.356710</td>\n",
       "      <td>32855.262503</td>\n",
       "      <td>56592.556837</td>\n",
       "      <td>57707.490065</td>\n",
       "      <td>...</td>\n",
       "      <td>70944.163733</td>\n",
       "      <td>70944.163733</td>\n",
       "      <td>41655.698219</td>\n",
       "      <td>41655.698219</td>\n",
       "      <td>41655.698219</td>\n",
       "      <td>41655.698219</td>\n",
       "      <td>65160.541913</td>\n",
       "      <td>65160.541913</td>\n",
       "      <td>65160.541913</td>\n",
       "      <td>65160.541913</td>\n",
       "    </tr>\n",
       "  </tbody>\n",
       "</table>\n",
       "<p>5 rows × 103 columns</p>\n",
       "</div>"
      ],
      "text/plain": [
       "            origin                                                           \\\n",
       "               Pop                    geometry             NN       NN_dist   \n",
       "pointid                                                                       \n",
       "148      17.833401  POINT (-90.98542 17.81458)          17979   7862.647847   \n",
       "149      16.891191  POINT (-90.97708 17.81458)          17979   8727.086089   \n",
       "150      16.950291  POINT (-90.96875 17.81458)          17979   9595.014026   \n",
       "151      17.671246  POINT (-90.96042 17.81458)          23903   9940.660906   \n",
       "152      16.732470  POINT (-90.95208 17.81458)  7912_942_2811  10701.299317   \n",
       "\n",
       "                                                       city                \\\n",
       "        pointid NN_dist_seconds NN_dist_hours             0             1   \n",
       "pointid                                                                     \n",
       "148         148      943.517742      0.262088  27937.785480  51675.079814   \n",
       "149         149     1047.250331      0.290903  27937.785480  51675.079814   \n",
       "150         150     1151.401683      0.319834  27937.785480  51675.079814   \n",
       "151         151     1192.879309      0.331355  28001.660620  51738.954954   \n",
       "152         152     1284.155918      0.356710  32855.262503  56592.556837   \n",
       "\n",
       "                       ...        border                              \\\n",
       "                    2  ...            86            87            88   \n",
       "pointid                ...                                             \n",
       "148      53358.655936  ...  66026.686710  66026.686710  36738.221196   \n",
       "149      53358.655936  ...  66026.686710  66026.686710  36738.221196   \n",
       "150      53358.655936  ...  66026.686710  66026.686710  36738.221196   \n",
       "151      53422.531076  ...  66090.561850  66090.561850  36802.096336   \n",
       "152      57707.490065  ...  70944.163733  70944.163733  41655.698219   \n",
       "\n",
       "                                                                               \\\n",
       "                   89            90            91            92            93   \n",
       "pointid                                                                         \n",
       "148      36738.221196  36738.221196  36738.221196  60811.707784  60811.707784   \n",
       "149      36738.221196  36738.221196  36738.221196  60811.707784  60811.707784   \n",
       "150      36738.221196  36738.221196  36738.221196  60811.707784  60811.707784   \n",
       "151      36802.096336  36802.096336  36802.096336  60875.582924  60875.582924   \n",
       "152      41655.698219  41655.698219  41655.698219  65160.541913  65160.541913   \n",
       "\n",
       "                                     \n",
       "                   94            95  \n",
       "pointid                              \n",
       "148      60811.707784  60811.707784  \n",
       "149      60811.707784  60811.707784  \n",
       "150      60811.707784  60811.707784  \n",
       "151      60875.582924  60875.582924  \n",
       "152      65160.541913  65160.541913  \n",
       "\n",
       "[5 rows x 103 columns]"
      ]
     },
     "execution_count": 36,
     "metadata": {},
     "output_type": "execute_result"
    }
   ],
   "source": [
    "origins_join_rename.head()"
   ]
  },
  {
   "cell_type": "markdown",
   "metadata": {},
   "source": [
    "Add snapping time to each column (speed of 30 km/h)"
   ]
  },
  {
   "cell_type": "code",
   "execution_count": 37,
   "metadata": {},
   "outputs": [],
   "source": [
    "origins_join2 = origins_join_rename.apply(lambda x: x + origins_join_rename.origin.NN_dist_seconds if x.name[1] in dest_snapped.index else x)"
   ]
  },
  {
   "cell_type": "code",
   "execution_count": 38,
   "metadata": {},
   "outputs": [
    {
     "data": {
      "text/html": [
       "<div>\n",
       "<style scoped>\n",
       "    .dataframe tbody tr th:only-of-type {\n",
       "        vertical-align: middle;\n",
       "    }\n",
       "\n",
       "    .dataframe tbody tr th {\n",
       "        vertical-align: top;\n",
       "    }\n",
       "\n",
       "    .dataframe thead tr th {\n",
       "        text-align: left;\n",
       "    }\n",
       "\n",
       "    .dataframe thead tr:last-of-type th {\n",
       "        text-align: right;\n",
       "    }\n",
       "</style>\n",
       "<table border=\"1\" class=\"dataframe\">\n",
       "  <thead>\n",
       "    <tr>\n",
       "      <th></th>\n",
       "      <th colspan=\"7\" halign=\"left\">origin</th>\n",
       "      <th colspan=\"3\" halign=\"left\">city</th>\n",
       "      <th>...</th>\n",
       "      <th colspan=\"10\" halign=\"left\">border</th>\n",
       "    </tr>\n",
       "    <tr>\n",
       "      <th></th>\n",
       "      <th>Pop</th>\n",
       "      <th>geometry</th>\n",
       "      <th>NN</th>\n",
       "      <th>NN_dist</th>\n",
       "      <th>pointid</th>\n",
       "      <th>NN_dist_seconds</th>\n",
       "      <th>NN_dist_hours</th>\n",
       "      <th>0</th>\n",
       "      <th>1</th>\n",
       "      <th>2</th>\n",
       "      <th>...</th>\n",
       "      <th>86</th>\n",
       "      <th>87</th>\n",
       "      <th>88</th>\n",
       "      <th>89</th>\n",
       "      <th>90</th>\n",
       "      <th>91</th>\n",
       "      <th>92</th>\n",
       "      <th>93</th>\n",
       "      <th>94</th>\n",
       "      <th>95</th>\n",
       "    </tr>\n",
       "    <tr>\n",
       "      <th>pointid</th>\n",
       "      <th></th>\n",
       "      <th></th>\n",
       "      <th></th>\n",
       "      <th></th>\n",
       "      <th></th>\n",
       "      <th></th>\n",
       "      <th></th>\n",
       "      <th></th>\n",
       "      <th></th>\n",
       "      <th></th>\n",
       "      <th></th>\n",
       "      <th></th>\n",
       "      <th></th>\n",
       "      <th></th>\n",
       "      <th></th>\n",
       "      <th></th>\n",
       "      <th></th>\n",
       "      <th></th>\n",
       "      <th></th>\n",
       "      <th></th>\n",
       "      <th></th>\n",
       "    </tr>\n",
       "  </thead>\n",
       "  <tbody>\n",
       "    <tr>\n",
       "      <th>148</th>\n",
       "      <td>17.833401</td>\n",
       "      <td>POINT (-90.98542 17.81458)</td>\n",
       "      <td>17979</td>\n",
       "      <td>7862.647847</td>\n",
       "      <td>148</td>\n",
       "      <td>943.517742</td>\n",
       "      <td>0.262088</td>\n",
       "      <td>28881.303221</td>\n",
       "      <td>52618.597556</td>\n",
       "      <td>54302.173678</td>\n",
       "      <td>...</td>\n",
       "      <td>66970.204452</td>\n",
       "      <td>66970.204452</td>\n",
       "      <td>37681.738938</td>\n",
       "      <td>37681.738938</td>\n",
       "      <td>37681.738938</td>\n",
       "      <td>37681.738938</td>\n",
       "      <td>61755.225526</td>\n",
       "      <td>61755.225526</td>\n",
       "      <td>61755.225526</td>\n",
       "      <td>61755.225526</td>\n",
       "    </tr>\n",
       "    <tr>\n",
       "      <th>149</th>\n",
       "      <td>16.891191</td>\n",
       "      <td>POINT (-90.97708 17.81458)</td>\n",
       "      <td>17979</td>\n",
       "      <td>8727.086089</td>\n",
       "      <td>149</td>\n",
       "      <td>1047.250331</td>\n",
       "      <td>0.290903</td>\n",
       "      <td>28985.035810</td>\n",
       "      <td>52722.330145</td>\n",
       "      <td>54405.906267</td>\n",
       "      <td>...</td>\n",
       "      <td>67073.937041</td>\n",
       "      <td>67073.937041</td>\n",
       "      <td>37785.471527</td>\n",
       "      <td>37785.471527</td>\n",
       "      <td>37785.471527</td>\n",
       "      <td>37785.471527</td>\n",
       "      <td>61858.958115</td>\n",
       "      <td>61858.958115</td>\n",
       "      <td>61858.958115</td>\n",
       "      <td>61858.958115</td>\n",
       "    </tr>\n",
       "    <tr>\n",
       "      <th>150</th>\n",
       "      <td>16.950291</td>\n",
       "      <td>POINT (-90.96875 17.81458)</td>\n",
       "      <td>17979</td>\n",
       "      <td>9595.014026</td>\n",
       "      <td>150</td>\n",
       "      <td>1151.401683</td>\n",
       "      <td>0.319834</td>\n",
       "      <td>29089.187163</td>\n",
       "      <td>52826.481497</td>\n",
       "      <td>54510.057620</td>\n",
       "      <td>...</td>\n",
       "      <td>67178.088393</td>\n",
       "      <td>67178.088393</td>\n",
       "      <td>37889.622879</td>\n",
       "      <td>37889.622879</td>\n",
       "      <td>37889.622879</td>\n",
       "      <td>37889.622879</td>\n",
       "      <td>61963.109467</td>\n",
       "      <td>61963.109467</td>\n",
       "      <td>61963.109467</td>\n",
       "      <td>61963.109467</td>\n",
       "    </tr>\n",
       "    <tr>\n",
       "      <th>151</th>\n",
       "      <td>17.671246</td>\n",
       "      <td>POINT (-90.96042 17.81458)</td>\n",
       "      <td>23903</td>\n",
       "      <td>9940.660906</td>\n",
       "      <td>151</td>\n",
       "      <td>1192.879309</td>\n",
       "      <td>0.331355</td>\n",
       "      <td>29194.539928</td>\n",
       "      <td>52931.834263</td>\n",
       "      <td>54615.410385</td>\n",
       "      <td>...</td>\n",
       "      <td>67283.441159</td>\n",
       "      <td>67283.441159</td>\n",
       "      <td>37994.975645</td>\n",
       "      <td>37994.975645</td>\n",
       "      <td>37994.975645</td>\n",
       "      <td>37994.975645</td>\n",
       "      <td>62068.462233</td>\n",
       "      <td>62068.462233</td>\n",
       "      <td>62068.462233</td>\n",
       "      <td>62068.462233</td>\n",
       "    </tr>\n",
       "    <tr>\n",
       "      <th>152</th>\n",
       "      <td>16.732470</td>\n",
       "      <td>POINT (-90.95208 17.81458)</td>\n",
       "      <td>7912_942_2811</td>\n",
       "      <td>10701.299317</td>\n",
       "      <td>152</td>\n",
       "      <td>1284.155918</td>\n",
       "      <td>0.356710</td>\n",
       "      <td>34139.418421</td>\n",
       "      <td>57876.712755</td>\n",
       "      <td>58991.645983</td>\n",
       "      <td>...</td>\n",
       "      <td>72228.319651</td>\n",
       "      <td>72228.319651</td>\n",
       "      <td>42939.854137</td>\n",
       "      <td>42939.854137</td>\n",
       "      <td>42939.854137</td>\n",
       "      <td>42939.854137</td>\n",
       "      <td>66444.697831</td>\n",
       "      <td>66444.697831</td>\n",
       "      <td>66444.697831</td>\n",
       "      <td>66444.697831</td>\n",
       "    </tr>\n",
       "  </tbody>\n",
       "</table>\n",
       "<p>5 rows × 103 columns</p>\n",
       "</div>"
      ],
      "text/plain": [
       "            origin                                                           \\\n",
       "               Pop                    geometry             NN       NN_dist   \n",
       "pointid                                                                       \n",
       "148      17.833401  POINT (-90.98542 17.81458)          17979   7862.647847   \n",
       "149      16.891191  POINT (-90.97708 17.81458)          17979   8727.086089   \n",
       "150      16.950291  POINT (-90.96875 17.81458)          17979   9595.014026   \n",
       "151      17.671246  POINT (-90.96042 17.81458)          23903   9940.660906   \n",
       "152      16.732470  POINT (-90.95208 17.81458)  7912_942_2811  10701.299317   \n",
       "\n",
       "                                                       city                \\\n",
       "        pointid NN_dist_seconds NN_dist_hours             0             1   \n",
       "pointid                                                                     \n",
       "148         148      943.517742      0.262088  28881.303221  52618.597556   \n",
       "149         149     1047.250331      0.290903  28985.035810  52722.330145   \n",
       "150         150     1151.401683      0.319834  29089.187163  52826.481497   \n",
       "151         151     1192.879309      0.331355  29194.539928  52931.834263   \n",
       "152         152     1284.155918      0.356710  34139.418421  57876.712755   \n",
       "\n",
       "                       ...        border                              \\\n",
       "                    2  ...            86            87            88   \n",
       "pointid                ...                                             \n",
       "148      54302.173678  ...  66970.204452  66970.204452  37681.738938   \n",
       "149      54405.906267  ...  67073.937041  67073.937041  37785.471527   \n",
       "150      54510.057620  ...  67178.088393  67178.088393  37889.622879   \n",
       "151      54615.410385  ...  67283.441159  67283.441159  37994.975645   \n",
       "152      58991.645983  ...  72228.319651  72228.319651  42939.854137   \n",
       "\n",
       "                                                                               \\\n",
       "                   89            90            91            92            93   \n",
       "pointid                                                                         \n",
       "148      37681.738938  37681.738938  37681.738938  61755.225526  61755.225526   \n",
       "149      37785.471527  37785.471527  37785.471527  61858.958115  61858.958115   \n",
       "150      37889.622879  37889.622879  37889.622879  61963.109467  61963.109467   \n",
       "151      37994.975645  37994.975645  37994.975645  62068.462233  62068.462233   \n",
       "152      42939.854137  42939.854137  42939.854137  66444.697831  66444.697831   \n",
       "\n",
       "                                     \n",
       "                   94            95  \n",
       "pointid                              \n",
       "148      61755.225526  61755.225526  \n",
       "149      61858.958115  61858.958115  \n",
       "150      61963.109467  61963.109467  \n",
       "151      62068.462233  62068.462233  \n",
       "152      66444.697831  66444.697831  \n",
       "\n",
       "[5 rows x 103 columns]"
      ]
     },
     "execution_count": 38,
     "metadata": {},
     "output_type": "execute_result"
    }
   ],
   "source": [
    "origins_join2.head()"
   ]
  },
  {
   "cell_type": "code",
   "execution_count": 39,
   "metadata": {},
   "outputs": [
    {
     "data": {
      "text/plain": [
       "'/home/wb514197/data/INFRA_SAP/GTM'"
      ]
     },
     "execution_count": 39,
     "metadata": {},
     "output_type": "execute_result"
    }
   ],
   "source": [
    "out_folder"
   ]
  },
  {
   "cell_type": "code",
   "execution_count": 40,
   "metadata": {},
   "outputs": [],
   "source": [
    "origins_join2.to_csv(os.path.join(out_folder, 'OD_08_06.csv'))"
   ]
  },
  {
   "cell_type": "code",
   "execution_count": 41,
   "metadata": {},
   "outputs": [],
   "source": [
    "od_cities = np.array(origins_join2['city'])"
   ]
  },
  {
   "cell_type": "markdown",
   "metadata": {},
   "source": [
    "### Calculate gravity"
   ]
  },
  {
   "cell_type": "code",
   "execution_count": 42,
   "metadata": {
    "scrolled": false
   },
   "outputs": [
    {
     "name": "stdout",
     "output_type": "stream",
     "text": [
      "CPU times: user 2min 40s, sys: 756 ms, total: 2min 41s\n",
      "Wall time: 2min 40s\n"
     ]
    }
   ],
   "source": [
    "%%time\n",
    "access_cities = calcOD.calculate_gravity(od_cities, dWeight = dest_all.Pop[origins_join2['city'].columns])"
   ]
  },
  {
   "cell_type": "code",
   "execution_count": 43,
   "metadata": {},
   "outputs": [],
   "source": [
    "access_cities.index = origins_join2.index"
   ]
  },
  {
   "cell_type": "code",
   "execution_count": 44,
   "metadata": {},
   "outputs": [],
   "source": [
    "access_cities_results = origins_snapped.join(access_cities).rename(columns = {\n",
    "        'd_0.01': 'd_1',\n",
    "        'd_0.005': 'd_2',\n",
    "        'd_0.001' : 'd_3',\n",
    "        'd_0.0007701635' : 'd_4',   # Market access halves every 15 mins\n",
    "        'd_0.0003850818' : 'd_5',   # Market access halves every 30 mins\n",
    "        'd_0.0001925409' : 'd_6',   # Market access halves every 60 mins\n",
    "        'd_9.62704e-05' : 'd_7',   # Market access halves every 120 mins\n",
    "        'd_3.85082e-05' : 'd_8',   # Market access halves every 300 mins\n",
    "        'd_1e-05' : 'd_9'\n",
    "    })"
   ]
  },
  {
   "cell_type": "markdown",
   "metadata": {},
   "source": [
    "#### Convert to raster and save results"
   ]
  },
  {
   "cell_type": "code",
   "execution_count": 45,
   "metadata": {},
   "outputs": [],
   "source": [
    "raster_path = wp_1km"
   ]
  },
  {
   "cell_type": "code",
   "execution_count": 46,
   "metadata": {},
   "outputs": [],
   "source": [
    "output_path = os.path.join(out_folder, \"access\")\n",
    "if not os.path.exists(output_path):\n",
    "    os.mkdir(output_path)"
   ]
  },
  {
   "cell_type": "code",
   "execution_count": 47,
   "metadata": {},
   "outputs": [
    {
     "data": {
      "text/plain": [
       "<matplotlib.axes._subplots.AxesSubplot at 0x7fda460129d0>"
      ]
     },
     "execution_count": 47,
     "metadata": {},
     "output_type": "execute_result"
    },
    {
     "data": {
      "image/png": "[encoded data removed]",
      "text/plain": [
       "<Figure size 504x504 with 1 Axes>"
      ]
     },
     "metadata": {
      "needs_background": "light"
     },
     "output_type": "display_data"
    }
   ],
   "source": [
    "access_cities_results.plot(column='d_7', figsize=(7,7), markersize=1)"
   ]
  },
  {
   "cell_type": "code",
   "execution_count": 48,
   "metadata": {},
   "outputs": [
    {
     "name": "stdout",
     "output_type": "stream",
     "text": [
      "writing 5\n",
      "writing 6\n",
      "writing 7\n",
      "writing 8\n",
      "writing 9\n"
     ]
    }
   ],
   "source": [
    "for d in range(5,10):\n",
    "    print(f'writing {d}')\n",
    "    aggregator.rasterize_gdf(access_cities_results, f'd_{d}', template=raster_path, outFile=os.path.join(output_path,f\"access_cities_d{d}.tif\"))"
   ]
  },
  {
   "cell_type": "markdown",
   "metadata": {},
   "source": [
    "### Make rasters of min travel time to each dest"
   ]
  },
  {
   "cell_type": "code",
   "execution_count": 49,
   "metadata": {},
   "outputs": [],
   "source": [
    "output_path = os.path.join(out_folder, \"travel_time\")\n",
    "if not os.path.exists(output_path):\n",
    "    os.mkdir(output_path)"
   ]
  },
  {
   "cell_type": "code",
   "execution_count": 50,
   "metadata": {},
   "outputs": [],
   "source": [
    "# CHECK THAT MOST POPULATED CITY IS THE CAPITAL\n",
    "cap_idx = dest_all.sort_values('Pop', ascending=False).iloc[[0]].index[0]"
   ]
  },
  {
   "cell_type": "code",
   "execution_count": 51,
   "metadata": {},
   "outputs": [],
   "source": [
    "city_min = pd.DataFrame(origins_join2['city'].min(axis=1).apply(lambda x: (x/3600)), columns=[\"tt_city\"])\n",
    "ports_min = pd.DataFrame(origins_join2['port'].min(axis=1).apply(lambda x: (x/3600)), columns=[\"tt_port\"])\n",
    "airports_min = pd.DataFrame(origins_join2['airport'].min(axis=1).apply(lambda x: (x/3600)), columns=[\"tt_airport\"])\n",
    "borders_min = pd.DataFrame(origins_join2['border'].min(axis=1).apply(lambda x: (x/3600)), columns=[\"tt_border\"])\n",
    "capital_tt = origins_join2['city'].loc[:,[cap_idx]].apply(lambda x: (x/3600)).rename(columns={cap_idx:'tt_capital'})"
   ]
  },
  {
   "cell_type": "code",
   "execution_count": 52,
   "metadata": {},
   "outputs": [],
   "source": [
    "origins_tt = origins_snapped.join([city_min, ports_min, airports_min, borders_min, capital_tt])"
   ]
  },
  {
   "cell_type": "code",
   "execution_count": 53,
   "metadata": {},
   "outputs": [],
   "source": [
    "aggregator.rasterize_gdf(origins_tt, 'tt_city', raster_path, os.path.join(output_path,f\"cities_min_tt.tif\"))\n",
    "aggregator.rasterize_gdf(origins_tt, 'tt_port', raster_path, os.path.join(output_path,f\"port_min_tt.tif\"))\n",
    "aggregator.rasterize_gdf(origins_tt, 'tt_airport', raster_path, os.path.join(output_path,f\"airport_min_tt.tif\"))\n",
    "aggregator.rasterize_gdf(origins_tt, 'tt_border', raster_path, os.path.join(output_path,f\"borders_min_tt.tif\"))\n",
    "aggregator.rasterize_gdf(origins_tt, 'tt_capital', raster_path, os.path.join(output_path,f\"capital_tt.tif\"))"
   ]
  }
 ],
 "metadata": {
  "kernelspec": {
   "display_name": "GEO",
   "language": "python",
   "name": "geo"
  },
  "language_info": {
   "codemirror_mode": {
    "name": "ipython",
    "version": 3
   },
   "file_extension": ".py",
   "mimetype": "text/x-python",
   "name": "python",
   "nbconvert_exporter": "python",
   "pygments_lexer": "ipython3",
   "version": "3.7.6"
  }
 },
 "nbformat": 4,
 "nbformat_minor": 2
}
