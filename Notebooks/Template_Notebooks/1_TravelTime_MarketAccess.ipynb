{
 "cells": [
  {
   "cell_type": "markdown",
   "metadata": {},
   "source": [
    "## Country-level INFRA-SAP"
   ]
  },
  {
   "cell_type": "markdown",
   "metadata": {},
   "source": [
    "- Origins: Population grid (Worldpop downsampled to 500 meters)\n",
    "- Destinations: Cities, airports, border crossings, and ports\n",
    "\n",
    "Typical access analysis with two adjustments:\n",
    "    1. Extract different sets of destinations from OD\n",
    "    2. Join travel time to origin grid based on \"NN with the fastest route\" (not necessarily closest NN)"
   ]
  },
  {
   "cell_type": "code",
   "execution_count": 1,
   "metadata": {},
   "outputs": [],
   "source": [
    "import os, sys, time, importlib\n",
    "\n",
    "import geopandas as gpd\n",
    "import pandas as pd\n",
    "import networkx as nx\n",
    "sys.path.append('/home/wb514197/Repos/GOSTnets')\n",
    "\n",
    "import GOSTnets as gn\n",
    "import GOSTnets.calculate_od_raw as calcOD\n",
    "from GOSTnets.load_osm import *\n",
    "import rasterio as rio\n",
    "from osgeo import gdal\n",
    "import numpy as np\n",
    "from shapely.geometry import Point\n",
    "\n",
    "sys.path.append('/home/wb514197/Repos/INFRA_SAP')\n",
    "from infrasap import aggregator\n",
    "\n",
    "%load_ext autoreload\n",
    "%autoreload 2"
   ]
  },
  {
   "cell_type": "code",
   "execution_count": 2,
   "metadata": {},
   "outputs": [],
   "source": [
    "country = 'djibouti'\n",
    "iso3 = 'DJI'\n",
    "epsg = 32638"
   ]
  },
  {
   "cell_type": "markdown",
   "metadata": {},
   "source": [
    "### Load origins and graph"
   ]
  },
  {
   "cell_type": "code",
   "execution_count": 3,
   "metadata": {},
   "outputs": [],
   "source": [
    "# base_in = \"/home/public/Data/PROJECTS/INFRA_SAP\"\n",
    "base_in = \"/home/wb514197/data/INFRA_SAP\"\n",
    "in_folder = os.path.join(base_in, iso3)\n",
    "\n",
    "# define data paths\n",
    "focal_admin2 = os.path.join(in_folder, \"admin.shp\")\n",
    "focal_osm = os.path.join(in_folder, f\"{country}-latest.osm.pbf\")\n",
    "pop_name = \"WP_2020_1km\"\n",
    "wp_1km = os.path.join(in_folder, f\"{pop_name}.tif\")\n",
    "urban_extents = os.path.join(in_folder, \"urban_extents.shp\")\n",
    "airports = os.path.join(in_folder, \"airports_intl.shp\")\n",
    "ports = os.path.join(in_folder, \"ports.shp\")\n",
    "borders = os.path.join(in_folder, \"borders.shp\")\n",
    "\n",
    "# base_out = \"/home/wb514197/data/INFRA_SAP\" # GOT permission denied using public \n",
    "# out_folder = os.path.join(base_out, iso3)\n",
    "# if not os.path.exists(out_folder):\n",
    "#     os.makedirs(out_folder)\n",
    "\n",
    "out_folder = os.path.join(in_folder, \"output\")"
   ]
  },
  {
   "cell_type": "markdown",
   "metadata": {},
   "source": [
    "Convert **WP_2020_1km.tif** into a point GeoData frame"
   ]
  },
  {
   "cell_type": "code",
   "execution_count": 4,
   "metadata": {},
   "outputs": [],
   "source": [
    "inDs = gdal.Open(wp_1km)\n",
    "out_pop = os.path.join(out_folder, f\"{pop_name}.xyz\")\n",
    "outDs = gdal.Translate(out_pop, inDs, format='XYZ', creationOptions=[\"ADD_HEADER_LINE=YES\"])\n",
    "out_pop_csv = os.path.join(out_folder, f\"{pop_name}.csv\")\n",
    "os.rename(out_pop, out_pop_csv)"
   ]
  },
  {
   "cell_type": "code",
   "execution_count": 5,
   "metadata": {},
   "outputs": [],
   "source": [
    "wp_df = pd.read_csv(out_pop_csv, sep=' ')\n",
    "wp_df.rename(columns={\"Z\":\"Pop\"}, inplace=True)\n",
    "wp_df = wp_df.loc[wp_df.Pop!=-99999.0].copy()\n",
    "geoms = [Point(xy) for xy in zip(wp_df.X, wp_df.Y)]\n",
    "wp_df.drop([\"X\",\"Y\"], axis=1, inplace=True)\n",
    "crs = 'EPSG:4326'\n",
    "origins = gpd.GeoDataFrame(wp_df, crs=crs, geometry=geoms)\n",
    "origins['pointid'] = origins.index"
   ]
  },
  {
   "cell_type": "markdown",
   "metadata": {},
   "source": [
    "### Prepare Graph"
   ]
  },
  {
   "cell_type": "code",
   "execution_count": 6,
   "metadata": {},
   "outputs": [],
   "source": [
    "G_path = None # if a graph already exists list the path here\n",
    "# G_path = os.path.join(in_folder, 'graph', f\"G_{iso3}.pickle\") "
   ]
  },
  {
   "cell_type": "code",
   "execution_count": 7,
   "metadata": {},
   "outputs": [
    {
     "name": "stdout",
     "output_type": "stream",
     "text": [
      "Creating graph from scratch\n"
     ]
    },
    {
     "name": "stderr",
     "output_type": "stream",
     "text": [
      "/home/wb514197/.conda/envs/geo/lib/python3.7/site-packages/pyproj/crs/crs.py:55: FutureWarning: '+init=<authority>:<code>' syntax is deprecated. '<authority>:<code>' is the preferred initialization method. When making the change, be mindful of axis order changes: https://pyproj4.github.io/pyproj/stable/gotchas.html#axis-order-changes-in-proj-6\n",
      "  return _prepare_from_string(\" \".join(pjargs))\n"
     ]
    },
    {
     "name": "stdout",
     "output_type": "stream",
     "text": [
      "401\n",
      "686\n",
      "208\n",
      "404\n",
      "Edge reduction: 945 to 404 (57 percent)\n"
     ]
    }
   ],
   "source": [
    "if G_path is None:\n",
    "    print(\"Creating graph from scratch\")\n",
    "    osm_raw = OSM_to_network(focal_osm)\n",
    "    accepted_road_types = ['trunk','trunk_link','primary','primary_link','secondary','secondary_link','tertiary','tertiary_link']\n",
    "    osm_raw.filterRoads(acceptedRoads = accepted_road_types)\n",
    "    osm_raw.generateRoadsGDF(verbose = False)\n",
    "    osm_raw.initialReadIn()\n",
    "    \n",
    "    if not os.path.exists(os.path.join(out_folder, 'graph')):\n",
    "        os.mkdir(os.path.join(out_folder, 'graph'))\n",
    "    gn.save(osm_raw.network,f'G_{iso3}_unclean',os.path.join(out_folder, 'graph'))\n",
    "    \n",
    "    #clean graph\n",
    "    G_clean = gn.clean_network(osm_raw.network, UTM = f\"EPSG:{epsg}\", WGS = \"EPSG:4326\", junctdist = 50, verbose = False)\n",
    "    G = G_clean.copy()\n",
    "\n",
    "else:\n",
    "    G = nx.read_gpickle(G_path)\n",
    "    for u, v, data in G.edges(data = True):\n",
    "        if type(data['Wkt']) == list:\n",
    "            data['Wkt'] = gn.unbundle_geometry(data['Wkt'])"
   ]
  },
  {
   "cell_type": "code",
   "execution_count": 4,
   "metadata": {},
   "outputs": [],
   "source": [
    "gn.convert_network_to_time?"
   ]
  },
  {
   "cell_type": "code",
   "execution_count": 8,
   "metadata": {},
   "outputs": [
    {
     "name": "stdout",
     "output_type": "stream",
     "text": [
      "WARNING: \"factor behavior has changed! now divides rather than multiplies. This change brings gn.salt_long_lines into line with gn.convert_network_to_time\" \n",
      "Identified 33 unique edge(s) longer than 5000. \n",
      "Beginning new node creation...\n"
     ]
    },
    {
     "name": "stderr",
     "output_type": "stream",
     "text": [
      "/home/wb514197/.conda/envs/geo/lib/python3.7/site-packages/pyproj/crs/crs.py:55: FutureWarning: '+init=<authority>:<code>' syntax is deprecated. '<authority>:<code>' is the preferred initialization method. When making the change, be mindful of axis order changes: https://pyproj4.github.io/pyproj/stable/gotchas.html#axis-order-changes-in-proj-6\n",
      "  return _prepare_from_string(\" \".join(pjargs))\n",
      "/home/wb514197/.conda/envs/geo/lib/python3.7/site-packages/pyproj/crs/crs.py:55: FutureWarning: '+init=<authority>:<code>' syntax is deprecated. '<authority>:<code>' is the preferred initialization method. When making the change, be mindful of axis order changes: https://pyproj4.github.io/pyproj/stable/gotchas.html#axis-order-changes-in-proj-6\n",
      "  return _prepare_from_string(\" \".join(pjargs))\n",
      "/home/wb514197/.conda/envs/geo/lib/python3.7/site-packages/pyproj/crs/crs.py:55: FutureWarning: '+init=<authority>:<code>' syntax is deprecated. '<authority>:<code>' is the preferred initialization method. When making the change, be mindful of axis order changes: https://pyproj4.github.io/pyproj/stable/gotchas.html#axis-order-changes-in-proj-6\n",
      "  return _prepare_from_string(\" \".join(pjargs))\n",
      "/home/wb514197/.conda/envs/geo/lib/python3.7/site-packages/pyproj/crs/crs.py:55: FutureWarning: '+init=<authority>:<code>' syntax is deprecated. '<authority>:<code>' is the preferred initialization method. When making the change, be mindful of axis order changes: https://pyproj4.github.io/pyproj/stable/gotchas.html#axis-order-changes-in-proj-6\n",
      "  return _prepare_from_string(\" \".join(pjargs))\n"
     ]
    },
    {
     "name": "stdout",
     "output_type": "stream",
     "text": [
      "454 new edges added and 66 removed to bring total edges to 792\n",
      "194 new nodes added to bring total nodes to 330\n"
     ]
    }
   ],
   "source": [
    "# Salt network\n",
    "attr_list = ['id', 'infra_type', 'osm_id', 'key', 'Type']\n",
    "G_salt = gn.salt_long_lines(G, source='EPSG:4326', target=f'EPSG:{epsg}', thresh=5000, factor=1000, attr_list=attr_list)\n",
    "G_time = gn.convert_network_to_time(G_salt, distance_tag = 'length', road_col = 'infra_type', factor = 1000)\n",
    "if not os.path.exists(os.path.join(out_folder, 'graph')):\n",
    "    os.mkdir(os.path.join(out_folder, 'graph'))\n",
    "gn.save(G_time, f\"G_{iso3}_Salt\", os.path.join(out_folder, 'graph'))"
   ]
  },
  {
   "cell_type": "code",
   "execution_count": 7,
   "metadata": {},
   "outputs": [],
   "source": [
    "# G_time = nx.read_gpickle(os.path.join(out_folder, 'graph', f'G_{iso3}_Salt.pickle'))"
   ]
  },
  {
   "cell_type": "markdown",
   "metadata": {},
   "source": [
    "#### Select largest graph"
   ]
  },
  {
   "cell_type": "code",
   "execution_count": 9,
   "metadata": {},
   "outputs": [],
   "source": [
    "list_of_subgraphs = [G_time.subgraph(c).copy() for c in sorted(nx.strongly_connected_components(G_time), key=len, reverse=True)]\n",
    "G_largest = list_of_subgraphs[0]"
   ]
  },
  {
   "cell_type": "markdown",
   "metadata": {},
   "source": [
    "### Prepare destinations"
   ]
  },
  {
   "cell_type": "code",
   "execution_count": 15,
   "metadata": {},
   "outputs": [],
   "source": [
    "inCities = gpd.read_file(urban_extents)\n",
    "pop_thresh = 0\n",
    "# pop_thresh=50000\n",
    "inCities = inCities.loc[inCities.Pop>pop_thresh]\n",
    "inCities['geometry'] = inCities.geometry.centroid\n",
    "dest_cities = inCities.assign(dest_type = 'city')"
   ]
  },
  {
   "cell_type": "code",
   "execution_count": 13,
   "metadata": {},
   "outputs": [
    {
     "data": {
      "text/plain": [
       "3"
      ]
     },
     "execution_count": 13,
     "metadata": {},
     "output_type": "execute_result"
    }
   ],
   "source": [
    "inCities = gpd.read_file(urban_extents)\n",
    "len(inCities)"
   ]
  },
  {
   "cell_type": "code",
   "execution_count": 16,
   "metadata": {},
   "outputs": [
    {
     "data": {
      "text/html": [
       "<div>\n",
       "<style scoped>\n",
       "    .dataframe tbody tr th:only-of-type {\n",
       "        vertical-align: middle;\n",
       "    }\n",
       "\n",
       "    .dataframe tbody tr th {\n",
       "        vertical-align: top;\n",
       "    }\n",
       "\n",
       "    .dataframe thead th {\n",
       "        text-align: right;\n",
       "    }\n",
       "</style>\n",
       "<table border=\"1\" class=\"dataframe\">\n",
       "  <thead>\n",
       "    <tr style=\"text-align: right;\">\n",
       "      <th></th>\n",
       "      <th>ID</th>\n",
       "      <th>Pop</th>\n",
       "      <th>geometry</th>\n",
       "      <th>dest_type</th>\n",
       "    </tr>\n",
       "  </thead>\n",
       "  <tbody>\n",
       "    <tr>\n",
       "      <th>0</th>\n",
       "      <td>2</td>\n",
       "      <td>10132.498047</td>\n",
       "      <td>POINT (42.88167 11.78694)</td>\n",
       "      <td>city</td>\n",
       "    </tr>\n",
       "    <tr>\n",
       "      <th>1</th>\n",
       "      <td>5</td>\n",
       "      <td>697008.125000</td>\n",
       "      <td>POINT (43.10640 11.55664)</td>\n",
       "      <td>city</td>\n",
       "    </tr>\n",
       "    <tr>\n",
       "      <th>2</th>\n",
       "      <td>13</td>\n",
       "      <td>18369.886719</td>\n",
       "      <td>POINT (42.70250 11.14910)</td>\n",
       "      <td>city</td>\n",
       "    </tr>\n",
       "  </tbody>\n",
       "</table>\n",
       "</div>"
      ],
      "text/plain": [
       "   ID            Pop                   geometry dest_type\n",
       "0   2   10132.498047  POINT (42.88167 11.78694)      city\n",
       "1   5  697008.125000  POINT (43.10640 11.55664)      city\n",
       "2  13   18369.886719  POINT (42.70250 11.14910)      city"
      ]
     },
     "execution_count": 16,
     "metadata": {},
     "output_type": "execute_result"
    }
   ],
   "source": [
    "dest_cities"
   ]
  },
  {
   "cell_type": "code",
   "execution_count": 18,
   "metadata": {},
   "outputs": [],
   "source": [
    "dest_airports = gpd.read_file(airports)\n",
    "dest_airports = dest_airports.assign(dest_type = 'airport')"
   ]
  },
  {
   "cell_type": "code",
   "execution_count": 20,
   "metadata": {},
   "outputs": [],
   "source": [
    "dest_ports = gpd.read_file(ports).assign(dest_type = 'port')\n",
    "dest_borders = gpd.read_file(borders).assign(dest_type = 'border')\n",
    "dest_borders['geometry'] = dest_borders.geometry.apply(lambda x: x[0])"
   ]
  },
  {
   "cell_type": "code",
   "execution_count": 21,
   "metadata": {
    "scrolled": true
   },
   "outputs": [],
   "source": [
    "dest_all = pd.concat([dest_cities, dest_airports, dest_borders, dest_ports], ignore_index=True)"
   ]
  },
  {
   "cell_type": "code",
   "execution_count": 22,
   "metadata": {},
   "outputs": [
    {
     "data": {
      "text/plain": [
       "border     8\n",
       "city       3\n",
       "port       1\n",
       "airport    1\n",
       "Name: dest_type, dtype: int64"
      ]
     },
     "execution_count": 22,
     "metadata": {},
     "output_type": "execute_result"
    }
   ],
   "source": [
    "dest_all.dest_type.value_counts()"
   ]
  },
  {
   "cell_type": "code",
   "execution_count": 23,
   "metadata": {},
   "outputs": [],
   "source": [
    "dest_all.to_csv(os.path.join(out_folder, 'destination_all.csv'))"
   ]
  },
  {
   "cell_type": "code",
   "execution_count": 24,
   "metadata": {},
   "outputs": [],
   "source": [
    "dest_all.to_file(os.path.join(out_folder, 'destination_all.shp'), driver=\"ESRI Shapefile\")"
   ]
  },
  {
   "cell_type": "code",
   "execution_count": 25,
   "metadata": {},
   "outputs": [
    {
     "data": {
      "text/plain": [
       "(26323, 13)"
      ]
     },
     "execution_count": 25,
     "metadata": {},
     "output_type": "execute_result"
    }
   ],
   "source": [
    "len(origins), len(dest_all)"
   ]
  },
  {
   "cell_type": "markdown",
   "metadata": {},
   "source": [
    "### Snap origins and destinations"
   ]
  },
  {
   "cell_type": "markdown",
   "metadata": {},
   "source": [
    "#### Snap to origins to 5 nearest nodes"
   ]
  },
  {
   "cell_type": "code",
   "execution_count": 26,
   "metadata": {},
   "outputs": [],
   "source": [
    "utm = f\"EPSG:{epsg}\""
   ]
  },
  {
   "cell_type": "code",
   "execution_count": 27,
   "metadata": {},
   "outputs": [
    {
     "name": "stdout",
     "output_type": "stream",
     "text": [
      "CPU times: user 3.92 s, sys: 68.1 ms, total: 3.98 s\n",
      "Wall time: 3.95 s\n"
     ]
    }
   ],
   "source": [
    "%%time\n",
    "# this function returns a dictionary of origin IDs, with a list of 5 NNs, and a corresponding list of distances\n",
    "origins_snapped_dict = gn.pandana_snap_to_many(G_largest, origins, source_crs='epsg:4326', target_crs=utm, \n",
    "                                               add_dist_to_node_col = True, k_nearest=5, origin_id='pointid')"
   ]
  },
  {
   "cell_type": "code",
   "execution_count": 28,
   "metadata": {},
   "outputs": [],
   "source": [
    "dest_snapped = gn.pandana_snap_c(G_largest, dest_all, source_crs='epsg:4326', target_crs=utm,\n",
    "                                 add_dist_to_node_col = False)"
   ]
  },
  {
   "cell_type": "code",
   "execution_count": 29,
   "metadata": {},
   "outputs": [],
   "source": [
    "dest_nn = list(dest_snapped['NN'])\n",
    "list_origins_NN = []\n",
    "for each in origins_snapped_dict.values():\n",
    "    list_origins_NN += each['NN']\n",
    "origins_unique_nn = list(set(list_origins_NN))"
   ]
  },
  {
   "cell_type": "code",
   "execution_count": 30,
   "metadata": {},
   "outputs": [
    {
     "name": "stdout",
     "output_type": "stream",
     "text": [
      "CPU times: user 14.2 ms, sys: 5 µs, total: 14.2 ms\n",
      "Wall time: 14.1 ms\n"
     ]
    }
   ],
   "source": [
    "%%time\n",
    "curOD = gn.calculate_OD(G_largest, origins_unique_nn, dest_nn, fail_value = 999999999)"
   ]
  },
  {
   "cell_type": "markdown",
   "metadata": {},
   "source": [
    "quick checks"
   ]
  },
  {
   "cell_type": "code",
   "execution_count": 31,
   "metadata": {},
   "outputs": [
    {
     "data": {
      "text/plain": [
       "array([], dtype=float64)"
      ]
     },
     "execution_count": 31,
     "metadata": {},
     "output_type": "execute_result"
    }
   ],
   "source": [
    "curOD[curOD==999999999]"
   ]
  },
  {
   "cell_type": "code",
   "execution_count": 32,
   "metadata": {},
   "outputs": [
    {
     "data": {
      "text/plain": [
       "(325, 13)"
      ]
     },
     "execution_count": 32,
     "metadata": {},
     "output_type": "execute_result"
    }
   ],
   "source": [
    "curOD.shape"
   ]
  },
  {
   "cell_type": "code",
   "execution_count": 33,
   "metadata": {},
   "outputs": [],
   "source": [
    "od_df = pd.DataFrame(curOD, index=origins_unique_nn, columns=dest_nn)"
   ]
  },
  {
   "cell_type": "code",
   "execution_count": 34,
   "metadata": {
    "scrolled": true
   },
   "outputs": [
    {
     "data": {
      "text/html": [
       "<div>\n",
       "<style scoped>\n",
       "    .dataframe tbody tr th:only-of-type {\n",
       "        vertical-align: middle;\n",
       "    }\n",
       "\n",
       "    .dataframe tbody tr th {\n",
       "        vertical-align: top;\n",
       "    }\n",
       "\n",
       "    .dataframe thead th {\n",
       "        text-align: right;\n",
       "    }\n",
       "</style>\n",
       "<table border=\"1\" class=\"dataframe\">\n",
       "  <thead>\n",
       "    <tr style=\"text-align: right;\">\n",
       "      <th></th>\n",
       "      <th>new_obj_128_61_224</th>\n",
       "      <th>260</th>\n",
       "      <th>new_obj_9</th>\n",
       "      <th>516</th>\n",
       "      <th>249_12_36</th>\n",
       "      <th>249_12_36</th>\n",
       "      <th>249_12_36</th>\n",
       "      <th>249_12_36</th>\n",
       "      <th>new_obj_0_39_105</th>\n",
       "      <th>new_obj_0_39_105</th>\n",
       "      <th>new_obj_0_39_105</th>\n",
       "      <th>new_obj_0_39_105</th>\n",
       "      <th>new_obj_86</th>\n",
       "    </tr>\n",
       "  </thead>\n",
       "  <tbody>\n",
       "    <tr>\n",
       "      <th>0</th>\n",
       "      <td>17657.174978</td>\n",
       "      <td>10729.637859</td>\n",
       "      <td>2852.215853</td>\n",
       "      <td>11326.392747</td>\n",
       "      <td>12305.952777</td>\n",
       "      <td>12305.952777</td>\n",
       "      <td>12305.952777</td>\n",
       "      <td>12305.952777</td>\n",
       "      <td>16434.772460</td>\n",
       "      <td>16434.772460</td>\n",
       "      <td>16434.772460</td>\n",
       "      <td>16434.772460</td>\n",
       "      <td>11253.029110</td>\n",
       "    </tr>\n",
       "    <tr>\n",
       "      <th>429_24_121</th>\n",
       "      <td>14706.158082</td>\n",
       "      <td>6963.496751</td>\n",
       "      <td>3698.561043</td>\n",
       "      <td>7253.521179</td>\n",
       "      <td>8062.494107</td>\n",
       "      <td>8062.494107</td>\n",
       "      <td>8062.494107</td>\n",
       "      <td>8062.494107</td>\n",
       "      <td>15117.302178</td>\n",
       "      <td>15117.302178</td>\n",
       "      <td>15117.302178</td>\n",
       "      <td>15117.302178</td>\n",
       "      <td>7180.157542</td>\n",
       "    </tr>\n",
       "    <tr>\n",
       "      <th>10</th>\n",
       "      <td>15114.323100</td>\n",
       "      <td>49.765311</td>\n",
       "      <td>7856.306060</td>\n",
       "      <td>830.473728</td>\n",
       "      <td>1810.033758</td>\n",
       "      <td>1810.033758</td>\n",
       "      <td>1810.033758</td>\n",
       "      <td>1810.033758</td>\n",
       "      <td>19275.047195</td>\n",
       "      <td>19275.047195</td>\n",
       "      <td>19275.047195</td>\n",
       "      <td>19275.047195</td>\n",
       "      <td>757.110091</td>\n",
       "    </tr>\n",
       "    <tr>\n",
       "      <th>new_obj_128_46_209</th>\n",
       "      <td>6749.100000</td>\n",
       "      <td>21884.539046</td>\n",
       "      <td>21554.059125</td>\n",
       "      <td>22481.293934</td>\n",
       "      <td>23460.853964</td>\n",
       "      <td>23460.853964</td>\n",
       "      <td>23460.853964</td>\n",
       "      <td>23460.853964</td>\n",
       "      <td>32972.800260</td>\n",
       "      <td>32972.800260</td>\n",
       "      <td>32972.800260</td>\n",
       "      <td>32972.800260</td>\n",
       "      <td>22407.930296</td>\n",
       "    </tr>\n",
       "    <tr>\n",
       "      <th>340_22_66</th>\n",
       "      <td>16447.540260</td>\n",
       "      <td>9520.003141</td>\n",
       "      <td>3806.396607</td>\n",
       "      <td>10116.758029</td>\n",
       "      <td>11096.318059</td>\n",
       "      <td>11096.318059</td>\n",
       "      <td>11096.318059</td>\n",
       "      <td>11096.318059</td>\n",
       "      <td>9776.160000</td>\n",
       "      <td>9776.160000</td>\n",
       "      <td>9776.160000</td>\n",
       "      <td>9776.160000</td>\n",
       "      <td>10043.394392</td>\n",
       "    </tr>\n",
       "  </tbody>\n",
       "</table>\n",
       "</div>"
      ],
      "text/plain": [
       "                    new_obj_128_61_224           260     new_obj_9  \\\n",
       "0                         17657.174978  10729.637859   2852.215853   \n",
       "429_24_121                14706.158082   6963.496751   3698.561043   \n",
       "10                        15114.323100     49.765311   7856.306060   \n",
       "new_obj_128_46_209         6749.100000  21884.539046  21554.059125   \n",
       "340_22_66                 16447.540260   9520.003141   3806.396607   \n",
       "\n",
       "                             516     249_12_36     249_12_36     249_12_36  \\\n",
       "0                   11326.392747  12305.952777  12305.952777  12305.952777   \n",
       "429_24_121           7253.521179   8062.494107   8062.494107   8062.494107   \n",
       "10                    830.473728   1810.033758   1810.033758   1810.033758   \n",
       "new_obj_128_46_209  22481.293934  23460.853964  23460.853964  23460.853964   \n",
       "340_22_66           10116.758029  11096.318059  11096.318059  11096.318059   \n",
       "\n",
       "                       249_12_36  new_obj_0_39_105  new_obj_0_39_105  \\\n",
       "0                   12305.952777      16434.772460      16434.772460   \n",
       "429_24_121           8062.494107      15117.302178      15117.302178   \n",
       "10                   1810.033758      19275.047195      19275.047195   \n",
       "new_obj_128_46_209  23460.853964      32972.800260      32972.800260   \n",
       "340_22_66           11096.318059       9776.160000       9776.160000   \n",
       "\n",
       "                    new_obj_0_39_105  new_obj_0_39_105    new_obj_86  \n",
       "0                       16434.772460      16434.772460  11253.029110  \n",
       "429_24_121              15117.302178      15117.302178   7180.157542  \n",
       "10                      19275.047195      19275.047195    757.110091  \n",
       "new_obj_128_46_209      32972.800260      32972.800260  22407.930296  \n",
       "340_22_66                9776.160000       9776.160000  10043.394392  "
      ]
     },
     "execution_count": 34,
     "metadata": {},
     "output_type": "execute_result"
    }
   ],
   "source": [
    "od_df.head()"
   ]
  },
  {
   "cell_type": "markdown",
   "metadata": {},
   "source": [
    "For each origin set of 5 (k) possible NN:\n",
    "    - Add snapping dist (in time) + time to a destination\n",
    "    - Which destination? min time from all of them won't necessarily work, so we need to find the closest destination for each origin, and select the NN which yields the fastest travel time to that dest\n",
    "    - closest_dest.idx should match the OD column order."
   ]
  },
  {
   "cell_type": "code",
   "execution_count": 35,
   "metadata": {},
   "outputs": [
    {
     "name": "stdout",
     "output_type": "stream",
     "text": [
      "CPU times: user 1.34 s, sys: 3.75 ms, total: 1.34 s\n",
      "Wall time: 1.34 s\n"
     ]
    }
   ],
   "source": [
    "%%time\n",
    "closest_dest = gn.pandana_snap_points(origins, dest_all, source_crs='epsg:4326', target_crs=utm,\n",
    "                                      add_dist_to_node_col=True)"
   ]
  },
  {
   "cell_type": "code",
   "execution_count": 36,
   "metadata": {},
   "outputs": [],
   "source": [
    "closest_dest = closest_dest.set_index('pointid')"
   ]
  },
  {
   "cell_type": "code",
   "execution_count": 37,
   "metadata": {},
   "outputs": [
    {
     "data": {
      "text/html": [
       "<div>\n",
       "<style scoped>\n",
       "    .dataframe tbody tr th:only-of-type {\n",
       "        vertical-align: middle;\n",
       "    }\n",
       "\n",
       "    .dataframe tbody tr th {\n",
       "        vertical-align: top;\n",
       "    }\n",
       "\n",
       "    .dataframe thead th {\n",
       "        text-align: right;\n",
       "    }\n",
       "</style>\n",
       "<table border=\"1\" class=\"dataframe\">\n",
       "  <thead>\n",
       "    <tr style=\"text-align: right;\">\n",
       "      <th></th>\n",
       "      <th>Pop</th>\n",
       "      <th>geometry</th>\n",
       "      <th>idx</th>\n",
       "      <th>idx_dist</th>\n",
       "    </tr>\n",
       "    <tr>\n",
       "      <th>pointid</th>\n",
       "      <th></th>\n",
       "      <th></th>\n",
       "      <th></th>\n",
       "      <th></th>\n",
       "    </tr>\n",
       "  </thead>\n",
       "  <tbody>\n",
       "    <tr>\n",
       "      <th>160</th>\n",
       "      <td>20.005409</td>\n",
       "      <td>POINT (294635.138 1405028.298)</td>\n",
       "      <td>0</td>\n",
       "      <td>104317.192282</td>\n",
       "    </tr>\n",
       "    <tr>\n",
       "      <th>161</th>\n",
       "      <td>12.062751</td>\n",
       "      <td>POINT (295540.325 1405021.740)</td>\n",
       "      <td>0</td>\n",
       "      <td>104535.480534</td>\n",
       "    </tr>\n",
       "    <tr>\n",
       "      <th>162</th>\n",
       "      <td>9.741089</td>\n",
       "      <td>POINT (296445.509 1405015.211)</td>\n",
       "      <td>0</td>\n",
       "      <td>104761.162858</td>\n",
       "    </tr>\n",
       "    <tr>\n",
       "      <th>163</th>\n",
       "      <td>10.025794</td>\n",
       "      <td>POINT (297350.688 1405008.711)</td>\n",
       "      <td>0</td>\n",
       "      <td>104994.191471</td>\n",
       "    </tr>\n",
       "    <tr>\n",
       "      <th>355</th>\n",
       "      <td>15.837574</td>\n",
       "      <td>POINT (291912.772 1404126.147)</td>\n",
       "      <td>0</td>\n",
       "      <td>102806.303627</td>\n",
       "    </tr>\n",
       "  </tbody>\n",
       "</table>\n",
       "</div>"
      ],
      "text/plain": [
       "               Pop                        geometry  idx       idx_dist\n",
       "pointid                                                               \n",
       "160      20.005409  POINT (294635.138 1405028.298)    0  104317.192282\n",
       "161      12.062751  POINT (295540.325 1405021.740)    0  104535.480534\n",
       "162       9.741089  POINT (296445.509 1405015.211)    0  104761.162858\n",
       "163      10.025794  POINT (297350.688 1405008.711)    0  104994.191471\n",
       "355      15.837574  POINT (291912.772 1404126.147)    0  102806.303627"
      ]
     },
     "execution_count": 37,
     "metadata": {},
     "output_type": "execute_result"
    }
   ],
   "source": [
    "closest_dest.head()"
   ]
  },
  {
   "cell_type": "code",
   "execution_count": 38,
   "metadata": {},
   "outputs": [
    {
     "name": "stdout",
     "output_type": "stream",
     "text": [
      "CPU times: user 18.5 s, sys: 245 µs, total: 18.5 s\n",
      "Wall time: 18.5 s\n"
     ]
    }
   ],
   "source": [
    "%%time\n",
    "fastest_nn = []\n",
    "fastest_dist = []\n",
    "custom_speed = 20 # km/h\n",
    "\n",
    "for pointid, items in origins_snapped_dict.items():\n",
    "    dest_index = closest_dest.loc[pointid].idx\n",
    "    nn_list = items['NN']\n",
    "    dist_list = items['NN_dist']\n",
    "    total_time_list = []\n",
    "    for i in range(0, len(nn_list)):\n",
    "        time_snapping = ((dist_list[i] / 1000) / custom_speed) * 60 * 60\n",
    "        #time_to_dest = od_df.loc[nn_list[i]].min()\n",
    "        time_to_dest = od_df.loc[nn_list[i]].iloc[dest_index]\n",
    "        total_time = time_snapping+time_to_dest\n",
    "        total_time_list.append(total_time)\n",
    "#         print(f\"id: {nn_list[i]}, snapping dist (km): {dist_list[i]/1000:.2f}, time to dest (min): {(total_time/60)/60:.2f}\")\n",
    "    min_pos = total_time_list.index(min(total_time_list))\n",
    "    fastest_nn.append(nn_list[min_pos])\n",
    "    fastest_dist.append(dist_list[min_pos])\n",
    "#     origins_snapped_smart.loc[pointid, \"NN\"] = nn_list[min_pos]\n",
    "#     origins_snapped_smart.loc[pointid, \"NN_dist\"] = dist_list[min_pos]"
   ]
  },
  {
   "cell_type": "code",
   "execution_count": 39,
   "metadata": {},
   "outputs": [],
   "source": [
    "origins_snapped = origins.copy().set_index('pointid')\n",
    "origins_snapped['NN'] = pd.Series(fastest_nn, index = origins_snapped.index)\n",
    "origins_snapped['NN_dist'] = pd.Series(fastest_dist, index = origins_snapped.index)\n",
    "origins_snapped['pointid'] = origins_snapped.index\n",
    "origins_snapped['NN_dist_seconds'] = ((origins_snapped.NN_dist / 1000) / custom_speed) * 60 * 60\n",
    "origins_snapped['NN_dist_hours'] = ((origins_snapped.NN_dist / 1000) / custom_speed)"
   ]
  },
  {
   "cell_type": "code",
   "execution_count": 40,
   "metadata": {},
   "outputs": [
    {
     "data": {
      "text/html": [
       "<div>\n",
       "<style scoped>\n",
       "    .dataframe tbody tr th:only-of-type {\n",
       "        vertical-align: middle;\n",
       "    }\n",
       "\n",
       "    .dataframe tbody tr th {\n",
       "        vertical-align: top;\n",
       "    }\n",
       "\n",
       "    .dataframe thead th {\n",
       "        text-align: right;\n",
       "    }\n",
       "</style>\n",
       "<table border=\"1\" class=\"dataframe\">\n",
       "  <thead>\n",
       "    <tr style=\"text-align: right;\">\n",
       "      <th></th>\n",
       "      <th>Pop</th>\n",
       "      <th>geometry</th>\n",
       "      <th>NN</th>\n",
       "      <th>NN_dist</th>\n",
       "      <th>pointid</th>\n",
       "      <th>NN_dist_seconds</th>\n",
       "      <th>NN_dist_hours</th>\n",
       "    </tr>\n",
       "    <tr>\n",
       "      <th>pointid</th>\n",
       "      <th></th>\n",
       "      <th></th>\n",
       "      <th></th>\n",
       "      <th></th>\n",
       "      <th></th>\n",
       "      <th></th>\n",
       "      <th></th>\n",
       "    </tr>\n",
       "  </thead>\n",
       "  <tbody>\n",
       "    <tr>\n",
       "      <th>160</th>\n",
       "      <td>20.005409</td>\n",
       "      <td>POINT (43.10875 12.70292)</td>\n",
       "      <td>82_3_6</td>\n",
       "      <td>1464.835040</td>\n",
       "      <td>160</td>\n",
       "      <td>263.670307</td>\n",
       "      <td>0.073242</td>\n",
       "    </tr>\n",
       "    <tr>\n",
       "      <th>161</th>\n",
       "      <td>12.062751</td>\n",
       "      <td>POINT (43.11708 12.70292)</td>\n",
       "      <td>82_3_6</td>\n",
       "      <td>2019.933310</td>\n",
       "      <td>161</td>\n",
       "      <td>363.587996</td>\n",
       "      <td>0.100997</td>\n",
       "    </tr>\n",
       "    <tr>\n",
       "      <th>162</th>\n",
       "      <td>9.741089</td>\n",
       "      <td>POINT (43.12542 12.70292)</td>\n",
       "      <td>82_3_6</td>\n",
       "      <td>2766.476147</td>\n",
       "      <td>162</td>\n",
       "      <td>497.965706</td>\n",
       "      <td>0.138324</td>\n",
       "    </tr>\n",
       "    <tr>\n",
       "      <th>163</th>\n",
       "      <td>10.025794</td>\n",
       "      <td>POINT (43.13375 12.70292)</td>\n",
       "      <td>82_4_7</td>\n",
       "      <td>5911.714492</td>\n",
       "      <td>163</td>\n",
       "      <td>1064.108609</td>\n",
       "      <td>0.295586</td>\n",
       "    </tr>\n",
       "    <tr>\n",
       "      <th>355</th>\n",
       "      <td>15.837574</td>\n",
       "      <td>POINT (43.08375 12.69458)</td>\n",
       "      <td>82_3_6</td>\n",
       "      <td>2139.012494</td>\n",
       "      <td>355</td>\n",
       "      <td>385.022249</td>\n",
       "      <td>0.106951</td>\n",
       "    </tr>\n",
       "  </tbody>\n",
       "</table>\n",
       "</div>"
      ],
      "text/plain": [
       "               Pop                   geometry      NN      NN_dist  pointid  \\\n",
       "pointid                                                                       \n",
       "160      20.005409  POINT (43.10875 12.70292)  82_3_6  1464.835040      160   \n",
       "161      12.062751  POINT (43.11708 12.70292)  82_3_6  2019.933310      161   \n",
       "162       9.741089  POINT (43.12542 12.70292)  82_3_6  2766.476147      162   \n",
       "163      10.025794  POINT (43.13375 12.70292)  82_4_7  5911.714492      163   \n",
       "355      15.837574  POINT (43.08375 12.69458)  82_3_6  2139.012494      355   \n",
       "\n",
       "         NN_dist_seconds  NN_dist_hours  \n",
       "pointid                                  \n",
       "160           263.670307       0.073242  \n",
       "161           363.587996       0.100997  \n",
       "162           497.965706       0.138324  \n",
       "163          1064.108609       0.295586  \n",
       "355           385.022249       0.106951  "
      ]
     },
     "execution_count": 40,
     "metadata": {},
     "output_type": "execute_result"
    }
   ],
   "source": [
    "origins_snapped.head()"
   ]
  },
  {
   "cell_type": "code",
   "execution_count": 41,
   "metadata": {},
   "outputs": [],
   "source": [
    "origins_join = origins_snapped.join(od_df, on='NN')"
   ]
  },
  {
   "cell_type": "code",
   "execution_count": 44,
   "metadata": {},
   "outputs": [
    {
     "data": {
      "text/plain": [
       "True"
      ]
     },
     "execution_count": 44,
     "metadata": {},
     "output_type": "execute_result"
    }
   ],
   "source": [
    "all(origins_join.columns[7:] == dest_snapped.NN)"
   ]
  },
  {
   "cell_type": "code",
   "execution_count": 45,
   "metadata": {},
   "outputs": [],
   "source": [
    "origins_join_rename = origins_join.copy()\n",
    "origins_join_rename.columns = pd.MultiIndex.from_arrays([['origin' for each in origins_snapped.columns]+list(dest_snapped.dest_type), origins_snapped.columns.append(dest_snapped.index)])"
   ]
  },
  {
   "cell_type": "code",
   "execution_count": 49,
   "metadata": {
    "scrolled": true
   },
   "outputs": [
    {
     "data": {
      "text/html": [
       "<div>\n",
       "<style scoped>\n",
       "    .dataframe tbody tr th:only-of-type {\n",
       "        vertical-align: middle;\n",
       "    }\n",
       "\n",
       "    .dataframe tbody tr th {\n",
       "        vertical-align: top;\n",
       "    }\n",
       "\n",
       "    .dataframe thead tr th {\n",
       "        text-align: left;\n",
       "    }\n",
       "\n",
       "    .dataframe thead tr:last-of-type th {\n",
       "        text-align: right;\n",
       "    }\n",
       "</style>\n",
       "<table border=\"1\" class=\"dataframe\">\n",
       "  <thead>\n",
       "    <tr>\n",
       "      <th></th>\n",
       "      <th colspan=\"7\" halign=\"left\">origin</th>\n",
       "      <th colspan=\"3\" halign=\"left\">city</th>\n",
       "      <th>airport</th>\n",
       "      <th colspan=\"8\" halign=\"left\">border</th>\n",
       "      <th>port</th>\n",
       "    </tr>\n",
       "    <tr>\n",
       "      <th></th>\n",
       "      <th>Pop</th>\n",
       "      <th>geometry</th>\n",
       "      <th>NN</th>\n",
       "      <th>NN_dist</th>\n",
       "      <th>pointid</th>\n",
       "      <th>NN_dist_seconds</th>\n",
       "      <th>NN_dist_hours</th>\n",
       "      <th>0</th>\n",
       "      <th>1</th>\n",
       "      <th>2</th>\n",
       "      <th>3</th>\n",
       "      <th>4</th>\n",
       "      <th>5</th>\n",
       "      <th>6</th>\n",
       "      <th>7</th>\n",
       "      <th>8</th>\n",
       "      <th>9</th>\n",
       "      <th>10</th>\n",
       "      <th>11</th>\n",
       "      <th>12</th>\n",
       "    </tr>\n",
       "    <tr>\n",
       "      <th>pointid</th>\n",
       "      <th></th>\n",
       "      <th></th>\n",
       "      <th></th>\n",
       "      <th></th>\n",
       "      <th></th>\n",
       "      <th></th>\n",
       "      <th></th>\n",
       "      <th></th>\n",
       "      <th></th>\n",
       "      <th></th>\n",
       "      <th></th>\n",
       "      <th></th>\n",
       "      <th></th>\n",
       "      <th></th>\n",
       "      <th></th>\n",
       "      <th></th>\n",
       "      <th></th>\n",
       "      <th></th>\n",
       "      <th></th>\n",
       "      <th></th>\n",
       "    </tr>\n",
       "  </thead>\n",
       "  <tbody>\n",
       "    <tr>\n",
       "      <th>160</th>\n",
       "      <td>20.005409</td>\n",
       "      <td>POINT (43.10875 12.70292)</td>\n",
       "      <td>82_3_6</td>\n",
       "      <td>1464.835040</td>\n",
       "      <td>160</td>\n",
       "      <td>263.670307</td>\n",
       "      <td>0.073242</td>\n",
       "      <td>14455.80</td>\n",
       "      <td>29591.239046</td>\n",
       "      <td>29260.759125</td>\n",
       "      <td>30187.993934</td>\n",
       "      <td>31167.553964</td>\n",
       "      <td>31167.553964</td>\n",
       "      <td>31167.553964</td>\n",
       "      <td>31167.553964</td>\n",
       "      <td>40679.50026</td>\n",
       "      <td>40679.50026</td>\n",
       "      <td>40679.50026</td>\n",
       "      <td>40679.50026</td>\n",
       "      <td>30114.630296</td>\n",
       "    </tr>\n",
       "    <tr>\n",
       "      <th>161</th>\n",
       "      <td>12.062751</td>\n",
       "      <td>POINT (43.11708 12.70292)</td>\n",
       "      <td>82_3_6</td>\n",
       "      <td>2019.933310</td>\n",
       "      <td>161</td>\n",
       "      <td>363.587996</td>\n",
       "      <td>0.100997</td>\n",
       "      <td>14455.80</td>\n",
       "      <td>29591.239046</td>\n",
       "      <td>29260.759125</td>\n",
       "      <td>30187.993934</td>\n",
       "      <td>31167.553964</td>\n",
       "      <td>31167.553964</td>\n",
       "      <td>31167.553964</td>\n",
       "      <td>31167.553964</td>\n",
       "      <td>40679.50026</td>\n",
       "      <td>40679.50026</td>\n",
       "      <td>40679.50026</td>\n",
       "      <td>40679.50026</td>\n",
       "      <td>30114.630296</td>\n",
       "    </tr>\n",
       "    <tr>\n",
       "      <th>162</th>\n",
       "      <td>9.741089</td>\n",
       "      <td>POINT (43.12542 12.70292)</td>\n",
       "      <td>82_3_6</td>\n",
       "      <td>2766.476147</td>\n",
       "      <td>162</td>\n",
       "      <td>497.965706</td>\n",
       "      <td>0.138324</td>\n",
       "      <td>14455.80</td>\n",
       "      <td>29591.239046</td>\n",
       "      <td>29260.759125</td>\n",
       "      <td>30187.993934</td>\n",
       "      <td>31167.553964</td>\n",
       "      <td>31167.553964</td>\n",
       "      <td>31167.553964</td>\n",
       "      <td>31167.553964</td>\n",
       "      <td>40679.50026</td>\n",
       "      <td>40679.50026</td>\n",
       "      <td>40679.50026</td>\n",
       "      <td>40679.50026</td>\n",
       "      <td>30114.630296</td>\n",
       "    </tr>\n",
       "    <tr>\n",
       "      <th>163</th>\n",
       "      <td>10.025794</td>\n",
       "      <td>POINT (43.13375 12.70292)</td>\n",
       "      <td>82_4_7</td>\n",
       "      <td>5911.714492</td>\n",
       "      <td>163</td>\n",
       "      <td>1064.108609</td>\n",
       "      <td>0.295586</td>\n",
       "      <td>14005.89</td>\n",
       "      <td>29141.329046</td>\n",
       "      <td>28810.849125</td>\n",
       "      <td>29738.083934</td>\n",
       "      <td>30717.643964</td>\n",
       "      <td>30717.643964</td>\n",
       "      <td>30717.643964</td>\n",
       "      <td>30717.643964</td>\n",
       "      <td>40229.59026</td>\n",
       "      <td>40229.59026</td>\n",
       "      <td>40229.59026</td>\n",
       "      <td>40229.59026</td>\n",
       "      <td>29664.720296</td>\n",
       "    </tr>\n",
       "    <tr>\n",
       "      <th>355</th>\n",
       "      <td>15.837574</td>\n",
       "      <td>POINT (43.08375 12.69458)</td>\n",
       "      <td>82_3_6</td>\n",
       "      <td>2139.012494</td>\n",
       "      <td>355</td>\n",
       "      <td>385.022249</td>\n",
       "      <td>0.106951</td>\n",
       "      <td>14455.80</td>\n",
       "      <td>29591.239046</td>\n",
       "      <td>29260.759125</td>\n",
       "      <td>30187.993934</td>\n",
       "      <td>31167.553964</td>\n",
       "      <td>31167.553964</td>\n",
       "      <td>31167.553964</td>\n",
       "      <td>31167.553964</td>\n",
       "      <td>40679.50026</td>\n",
       "      <td>40679.50026</td>\n",
       "      <td>40679.50026</td>\n",
       "      <td>40679.50026</td>\n",
       "      <td>30114.630296</td>\n",
       "    </tr>\n",
       "  </tbody>\n",
       "</table>\n",
       "</div>"
      ],
      "text/plain": [
       "            origin                                                          \\\n",
       "               Pop                   geometry      NN      NN_dist pointid   \n",
       "pointid                                                                      \n",
       "160      20.005409  POINT (43.10875 12.70292)  82_3_6  1464.835040     160   \n",
       "161      12.062751  POINT (43.11708 12.70292)  82_3_6  2019.933310     161   \n",
       "162       9.741089  POINT (43.12542 12.70292)  82_3_6  2766.476147     162   \n",
       "163      10.025794  POINT (43.13375 12.70292)  82_4_7  5911.714492     163   \n",
       "355      15.837574  POINT (43.08375 12.69458)  82_3_6  2139.012494     355   \n",
       "\n",
       "                                           city                              \\\n",
       "        NN_dist_seconds NN_dist_hours         0             1             2   \n",
       "pointid                                                                       \n",
       "160          263.670307      0.073242  14455.80  29591.239046  29260.759125   \n",
       "161          363.587996      0.100997  14455.80  29591.239046  29260.759125   \n",
       "162          497.965706      0.138324  14455.80  29591.239046  29260.759125   \n",
       "163         1064.108609      0.295586  14005.89  29141.329046  28810.849125   \n",
       "355          385.022249      0.106951  14455.80  29591.239046  29260.759125   \n",
       "\n",
       "              airport        border                                            \\\n",
       "                    3             4             5             6             7   \n",
       "pointid                                                                         \n",
       "160      30187.993934  31167.553964  31167.553964  31167.553964  31167.553964   \n",
       "161      30187.993934  31167.553964  31167.553964  31167.553964  31167.553964   \n",
       "162      30187.993934  31167.553964  31167.553964  31167.553964  31167.553964   \n",
       "163      29738.083934  30717.643964  30717.643964  30717.643964  30717.643964   \n",
       "355      30187.993934  31167.553964  31167.553964  31167.553964  31167.553964   \n",
       "\n",
       "                                                                     port  \n",
       "                   8            9           10           11            12  \n",
       "pointid                                                                    \n",
       "160      40679.50026  40679.50026  40679.50026  40679.50026  30114.630296  \n",
       "161      40679.50026  40679.50026  40679.50026  40679.50026  30114.630296  \n",
       "162      40679.50026  40679.50026  40679.50026  40679.50026  30114.630296  \n",
       "163      40229.59026  40229.59026  40229.59026  40229.59026  29664.720296  \n",
       "355      40679.50026  40679.50026  40679.50026  40679.50026  30114.630296  "
      ]
     },
     "execution_count": 49,
     "metadata": {},
     "output_type": "execute_result"
    }
   ],
   "source": [
    "origins_join_rename.head()"
   ]
  },
  {
   "cell_type": "markdown",
   "metadata": {},
   "source": [
    "Add snapping time to each column (speed of 30 km/h)"
   ]
  },
  {
   "cell_type": "code",
   "execution_count": 47,
   "metadata": {},
   "outputs": [],
   "source": [
    "origins_join2 = origins_join_rename.apply(lambda x: x + origins_join_rename.origin.NN_dist_seconds if x.name[1] in dest_snapped.index else x)"
   ]
  },
  {
   "cell_type": "code",
   "execution_count": 50,
   "metadata": {},
   "outputs": [
    {
     "data": {
      "text/html": [
       "<div>\n",
       "<style scoped>\n",
       "    .dataframe tbody tr th:only-of-type {\n",
       "        vertical-align: middle;\n",
       "    }\n",
       "\n",
       "    .dataframe tbody tr th {\n",
       "        vertical-align: top;\n",
       "    }\n",
       "\n",
       "    .dataframe thead tr th {\n",
       "        text-align: left;\n",
       "    }\n",
       "\n",
       "    .dataframe thead tr:last-of-type th {\n",
       "        text-align: right;\n",
       "    }\n",
       "</style>\n",
       "<table border=\"1\" class=\"dataframe\">\n",
       "  <thead>\n",
       "    <tr>\n",
       "      <th></th>\n",
       "      <th colspan=\"7\" halign=\"left\">origin</th>\n",
       "      <th colspan=\"3\" halign=\"left\">city</th>\n",
       "      <th>airport</th>\n",
       "      <th colspan=\"8\" halign=\"left\">border</th>\n",
       "      <th>port</th>\n",
       "    </tr>\n",
       "    <tr>\n",
       "      <th></th>\n",
       "      <th>Pop</th>\n",
       "      <th>geometry</th>\n",
       "      <th>NN</th>\n",
       "      <th>NN_dist</th>\n",
       "      <th>pointid</th>\n",
       "      <th>NN_dist_seconds</th>\n",
       "      <th>NN_dist_hours</th>\n",
       "      <th>0</th>\n",
       "      <th>1</th>\n",
       "      <th>2</th>\n",
       "      <th>3</th>\n",
       "      <th>4</th>\n",
       "      <th>5</th>\n",
       "      <th>6</th>\n",
       "      <th>7</th>\n",
       "      <th>8</th>\n",
       "      <th>9</th>\n",
       "      <th>10</th>\n",
       "      <th>11</th>\n",
       "      <th>12</th>\n",
       "    </tr>\n",
       "    <tr>\n",
       "      <th>pointid</th>\n",
       "      <th></th>\n",
       "      <th></th>\n",
       "      <th></th>\n",
       "      <th></th>\n",
       "      <th></th>\n",
       "      <th></th>\n",
       "      <th></th>\n",
       "      <th></th>\n",
       "      <th></th>\n",
       "      <th></th>\n",
       "      <th></th>\n",
       "      <th></th>\n",
       "      <th></th>\n",
       "      <th></th>\n",
       "      <th></th>\n",
       "      <th></th>\n",
       "      <th></th>\n",
       "      <th></th>\n",
       "      <th></th>\n",
       "      <th></th>\n",
       "    </tr>\n",
       "  </thead>\n",
       "  <tbody>\n",
       "    <tr>\n",
       "      <th>160</th>\n",
       "      <td>20.005409</td>\n",
       "      <td>POINT (43.10875 12.70292)</td>\n",
       "      <td>82_3_6</td>\n",
       "      <td>1464.835040</td>\n",
       "      <td>160</td>\n",
       "      <td>263.670307</td>\n",
       "      <td>0.073242</td>\n",
       "      <td>14719.470307</td>\n",
       "      <td>29854.909353</td>\n",
       "      <td>29524.429432</td>\n",
       "      <td>30451.664241</td>\n",
       "      <td>31431.224271</td>\n",
       "      <td>31431.224271</td>\n",
       "      <td>31431.224271</td>\n",
       "      <td>31431.224271</td>\n",
       "      <td>40943.170567</td>\n",
       "      <td>40943.170567</td>\n",
       "      <td>40943.170567</td>\n",
       "      <td>40943.170567</td>\n",
       "      <td>30378.300604</td>\n",
       "    </tr>\n",
       "    <tr>\n",
       "      <th>161</th>\n",
       "      <td>12.062751</td>\n",
       "      <td>POINT (43.11708 12.70292)</td>\n",
       "      <td>82_3_6</td>\n",
       "      <td>2019.933310</td>\n",
       "      <td>161</td>\n",
       "      <td>363.587996</td>\n",
       "      <td>0.100997</td>\n",
       "      <td>14819.387996</td>\n",
       "      <td>29954.827042</td>\n",
       "      <td>29624.347121</td>\n",
       "      <td>30551.581929</td>\n",
       "      <td>31531.141960</td>\n",
       "      <td>31531.141960</td>\n",
       "      <td>31531.141960</td>\n",
       "      <td>31531.141960</td>\n",
       "      <td>41043.088256</td>\n",
       "      <td>41043.088256</td>\n",
       "      <td>41043.088256</td>\n",
       "      <td>41043.088256</td>\n",
       "      <td>30478.218292</td>\n",
       "    </tr>\n",
       "    <tr>\n",
       "      <th>162</th>\n",
       "      <td>9.741089</td>\n",
       "      <td>POINT (43.12542 12.70292)</td>\n",
       "      <td>82_3_6</td>\n",
       "      <td>2766.476147</td>\n",
       "      <td>162</td>\n",
       "      <td>497.965706</td>\n",
       "      <td>0.138324</td>\n",
       "      <td>14953.765706</td>\n",
       "      <td>30089.204752</td>\n",
       "      <td>29758.724831</td>\n",
       "      <td>30685.959640</td>\n",
       "      <td>31665.519670</td>\n",
       "      <td>31665.519670</td>\n",
       "      <td>31665.519670</td>\n",
       "      <td>31665.519670</td>\n",
       "      <td>41177.465966</td>\n",
       "      <td>41177.465966</td>\n",
       "      <td>41177.465966</td>\n",
       "      <td>41177.465966</td>\n",
       "      <td>30612.596003</td>\n",
       "    </tr>\n",
       "    <tr>\n",
       "      <th>163</th>\n",
       "      <td>10.025794</td>\n",
       "      <td>POINT (43.13375 12.70292)</td>\n",
       "      <td>82_4_7</td>\n",
       "      <td>5911.714492</td>\n",
       "      <td>163</td>\n",
       "      <td>1064.108609</td>\n",
       "      <td>0.295586</td>\n",
       "      <td>15069.998609</td>\n",
       "      <td>30205.437655</td>\n",
       "      <td>29874.957733</td>\n",
       "      <td>30802.192542</td>\n",
       "      <td>31781.752573</td>\n",
       "      <td>31781.752573</td>\n",
       "      <td>31781.752573</td>\n",
       "      <td>31781.752573</td>\n",
       "      <td>41293.698869</td>\n",
       "      <td>41293.698869</td>\n",
       "      <td>41293.698869</td>\n",
       "      <td>41293.698869</td>\n",
       "      <td>30728.828905</td>\n",
       "    </tr>\n",
       "    <tr>\n",
       "      <th>355</th>\n",
       "      <td>15.837574</td>\n",
       "      <td>POINT (43.08375 12.69458)</td>\n",
       "      <td>82_3_6</td>\n",
       "      <td>2139.012494</td>\n",
       "      <td>355</td>\n",
       "      <td>385.022249</td>\n",
       "      <td>0.106951</td>\n",
       "      <td>14840.822249</td>\n",
       "      <td>29976.261295</td>\n",
       "      <td>29645.781374</td>\n",
       "      <td>30573.016183</td>\n",
       "      <td>31552.576213</td>\n",
       "      <td>31552.576213</td>\n",
       "      <td>31552.576213</td>\n",
       "      <td>31552.576213</td>\n",
       "      <td>41064.522509</td>\n",
       "      <td>41064.522509</td>\n",
       "      <td>41064.522509</td>\n",
       "      <td>41064.522509</td>\n",
       "      <td>30499.652545</td>\n",
       "    </tr>\n",
       "  </tbody>\n",
       "</table>\n",
       "</div>"
      ],
      "text/plain": [
       "            origin                                                          \\\n",
       "               Pop                   geometry      NN      NN_dist pointid   \n",
       "pointid                                                                      \n",
       "160      20.005409  POINT (43.10875 12.70292)  82_3_6  1464.835040     160   \n",
       "161      12.062751  POINT (43.11708 12.70292)  82_3_6  2019.933310     161   \n",
       "162       9.741089  POINT (43.12542 12.70292)  82_3_6  2766.476147     162   \n",
       "163      10.025794  POINT (43.13375 12.70292)  82_4_7  5911.714492     163   \n",
       "355      15.837574  POINT (43.08375 12.69458)  82_3_6  2139.012494     355   \n",
       "\n",
       "                                               city                \\\n",
       "        NN_dist_seconds NN_dist_hours             0             1   \n",
       "pointid                                                             \n",
       "160          263.670307      0.073242  14719.470307  29854.909353   \n",
       "161          363.587996      0.100997  14819.387996  29954.827042   \n",
       "162          497.965706      0.138324  14953.765706  30089.204752   \n",
       "163         1064.108609      0.295586  15069.998609  30205.437655   \n",
       "355          385.022249      0.106951  14840.822249  29976.261295   \n",
       "\n",
       "                            airport        border                              \\\n",
       "                    2             3             4             5             6   \n",
       "pointid                                                                         \n",
       "160      29524.429432  30451.664241  31431.224271  31431.224271  31431.224271   \n",
       "161      29624.347121  30551.581929  31531.141960  31531.141960  31531.141960   \n",
       "162      29758.724831  30685.959640  31665.519670  31665.519670  31665.519670   \n",
       "163      29874.957733  30802.192542  31781.752573  31781.752573  31781.752573   \n",
       "355      29645.781374  30573.016183  31552.576213  31552.576213  31552.576213   \n",
       "\n",
       "                                                                               \\\n",
       "                    7             8             9            10            11   \n",
       "pointid                                                                         \n",
       "160      31431.224271  40943.170567  40943.170567  40943.170567  40943.170567   \n",
       "161      31531.141960  41043.088256  41043.088256  41043.088256  41043.088256   \n",
       "162      31665.519670  41177.465966  41177.465966  41177.465966  41177.465966   \n",
       "163      31781.752573  41293.698869  41293.698869  41293.698869  41293.698869   \n",
       "355      31552.576213  41064.522509  41064.522509  41064.522509  41064.522509   \n",
       "\n",
       "                 port  \n",
       "                   12  \n",
       "pointid                \n",
       "160      30378.300604  \n",
       "161      30478.218292  \n",
       "162      30612.596003  \n",
       "163      30728.828905  \n",
       "355      30499.652545  "
      ]
     },
     "execution_count": 50,
     "metadata": {},
     "output_type": "execute_result"
    }
   ],
   "source": [
    "origins_join2.head()"
   ]
  },
  {
   "cell_type": "code",
   "execution_count": 54,
   "metadata": {},
   "outputs": [],
   "source": [
    "origins_join2.to_csv(os.path.join(out_folder, 'OD_11_23.csv'))"
   ]
  },
  {
   "cell_type": "code",
   "execution_count": 55,
   "metadata": {},
   "outputs": [],
   "source": [
    "od_cities = np.array(origins_join2['city'])"
   ]
  },
  {
   "cell_type": "markdown",
   "metadata": {},
   "source": [
    "### Calculate gravity"
   ]
  },
  {
   "cell_type": "code",
   "execution_count": 56,
   "metadata": {
    "scrolled": false
   },
   "outputs": [
    {
     "name": "stdout",
     "output_type": "stream",
     "text": [
      "CPU times: user 37.4 s, sys: 341 ms, total: 37.7 s\n",
      "Wall time: 36.8 s\n"
     ]
    }
   ],
   "source": [
    "%%time\n",
    "access_cities = calcOD.calculate_gravity(od_cities, dWeight = dest_all.Pop[origins_join2['city'].columns])"
   ]
  },
  {
   "cell_type": "code",
   "execution_count": 57,
   "metadata": {},
   "outputs": [],
   "source": [
    "access_cities.index = origins_join2.index"
   ]
  },
  {
   "cell_type": "code",
   "execution_count": 58,
   "metadata": {},
   "outputs": [],
   "source": [
    "access_cities_results = origins_snapped.join(access_cities).rename(columns = {\n",
    "        'd_0.01': 'd_1',\n",
    "        'd_0.005': 'd_2',\n",
    "        'd_0.001' : 'd_3',\n",
    "        'd_0.0007701635' : 'd_4',   # Market access halves every 15 mins\n",
    "        'd_0.0003850818' : 'd_5',   # Market access halves every 30 mins\n",
    "        'd_0.0001925409' : 'd_6',   # Market access halves every 60 mins\n",
    "        'd_9.62704e-05' : 'd_7',   # Market access halves every 120 mins\n",
    "        'd_3.85082e-05' : 'd_8',   # Market access halves every 300 mins\n",
    "        'd_1e-05' : 'd_9'\n",
    "    })"
   ]
  },
  {
   "cell_type": "markdown",
   "metadata": {},
   "source": [
    "#### Convert to raster and save results"
   ]
  },
  {
   "cell_type": "code",
   "execution_count": 59,
   "metadata": {},
   "outputs": [],
   "source": [
    "raster_path = wp_1km"
   ]
  },
  {
   "cell_type": "code",
   "execution_count": 60,
   "metadata": {},
   "outputs": [],
   "source": [
    "output_path = os.path.join(out_folder, \"access\")\n",
    "if not os.path.exists(output_path):\n",
    "    os.mkdir(output_path)"
   ]
  },
  {
   "cell_type": "code",
   "execution_count": 71,
   "metadata": {},
   "outputs": [
    {
     "data": {
      "text/plain": [
       "<matplotlib.axes._subplots.AxesSubplot at 0x7f3968937910>"
      ]
     },
     "execution_count": 71,
     "metadata": {},
     "output_type": "execute_result"
    },
    {
     "data": {
      "image/png": "[encoded data removed]",
      "text/plain": [
       "<Figure size 504x504 with 1 Axes>"
      ]
     },
     "metadata": {
      "needs_background": "light"
     },
     "output_type": "display_data"
    }
   ],
   "source": [
    "access_cities_results.plot(column='d_5', figsize=(7,7), markersize=1)"
   ]
  },
  {
   "cell_type": "code",
   "execution_count": 62,
   "metadata": {},
   "outputs": [
    {
     "name": "stdout",
     "output_type": "stream",
     "text": [
      "writing 5\n",
      "writing 6\n",
      "writing 7\n",
      "writing 8\n",
      "writing 9\n"
     ]
    }
   ],
   "source": [
    "for d in range(5,10):\n",
    "    print(f'writing {d}')\n",
    "    aggregator.rasterize_gdf(access_cities_results, f'd_{d}', template=raster_path, outFile=os.path.join(output_path,f\"access_cities_d{d}.tif\"))"
   ]
  },
  {
   "cell_type": "markdown",
   "metadata": {},
   "source": [
    "### Make rasters of min travel time to each dest"
   ]
  },
  {
   "cell_type": "code",
   "execution_count": 64,
   "metadata": {},
   "outputs": [
    {
     "data": {
      "text/plain": [
       "'/home/wb514197/data/INFRA_SAP/DJI/output'"
      ]
     },
     "execution_count": 64,
     "metadata": {},
     "output_type": "execute_result"
    }
   ],
   "source": [
    "out_folder"
   ]
  },
  {
   "cell_type": "code",
   "execution_count": 65,
   "metadata": {},
   "outputs": [],
   "source": [
    "output_path = os.path.join(out_folder, \"travel_time\")\n",
    "if not os.path.exists(output_path):\n",
    "    os.mkdir(output_path)"
   ]
  },
  {
   "cell_type": "code",
   "execution_count": 66,
   "metadata": {},
   "outputs": [],
   "source": [
    "# CHECK THAT MOST POPULATED CITY IS THE CAPITAL\n",
    "cap_idx = dest_all.sort_values('Pop', ascending=False).iloc[[0]].index[0]"
   ]
  },
  {
   "cell_type": "code",
   "execution_count": 67,
   "metadata": {},
   "outputs": [],
   "source": [
    "city_min = pd.DataFrame(origins_join2['city'].min(axis=1).apply(lambda x: (x/3600)), columns=[\"tt_city\"])\n",
    "ports_min = pd.DataFrame(origins_join2['port'].min(axis=1).apply(lambda x: (x/3600)), columns=[\"tt_port\"])\n",
    "airports_min = pd.DataFrame(origins_join2['airport'].min(axis=1).apply(lambda x: (x/3600)), columns=[\"tt_airport\"])\n",
    "borders_min = pd.DataFrame(origins_join2['border'].min(axis=1).apply(lambda x: (x/3600)), columns=[\"tt_border\"])\n",
    "capital_tt = origins_join2['city'].loc[:,[cap_idx]].apply(lambda x: (x/3600)).rename(columns={cap_idx:'tt_capital'})"
   ]
  },
  {
   "cell_type": "code",
   "execution_count": 68,
   "metadata": {},
   "outputs": [],
   "source": [
    "origins_tt = origins_snapped.join([city_min, airports_min, borders_min, capital_tt, ports_min])"
   ]
  },
  {
   "cell_type": "code",
   "execution_count": 69,
   "metadata": {},
   "outputs": [],
   "source": [
    "aggregator.rasterize_gdf(origins_tt, 'tt_city', raster_path, os.path.join(output_path,f\"cities_min_tt.tif\"))\n",
    "aggregator.rasterize_gdf(origins_tt, 'tt_port', raster_path, os.path.join(output_path,f\"port_min_tt.tif\"))\n",
    "aggregator.rasterize_gdf(origins_tt, 'tt_airport', raster_path, os.path.join(output_path,f\"airport_min_tt.tif\"))\n",
    "aggregator.rasterize_gdf(origins_tt, 'tt_border', raster_path, os.path.join(output_path,f\"borders_min_tt.tif\"))\n",
    "aggregator.rasterize_gdf(origins_tt, 'tt_capital', raster_path, os.path.join(output_path,f\"capital_tt.tif\"))"
   ]
  }
 ],
 "metadata": {
  "kernelspec": {
   "display_name": "GEO",
   "language": "python",
   "name": "geo"
  },
  "language_info": {
   "codemirror_mode": {
    "name": "ipython",
    "version": 3
   },
   "file_extension": ".py",
   "mimetype": "text/x-python",
   "name": "python",
   "nbconvert_exporter": "python",
   "pygments_lexer": "ipython3",
   "version": "3.7.6"
  }
 },
 "nbformat": 4,
 "nbformat_minor": 2
}
