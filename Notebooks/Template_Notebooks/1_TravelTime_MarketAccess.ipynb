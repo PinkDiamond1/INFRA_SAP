{
 "cells": [
  {
   "cell_type": "markdown",
   "metadata": {},
   "source": [
    "## Country-level INFRA-SAP"
   ]
  },
  {
   "cell_type": "markdown",
   "metadata": {},
   "source": [
    "- Origins: Population grid (Worldpop downsampled to 500 meters)\n",
    "- Destinations: Cities, airports, border crossings, and ports\n",
    "\n",
    "Typical access analysis with two adjustments:\n",
    "    1. Extract different sets of destinations from OD\n",
    "    2. Join travel time to origin grid based on \"NN with the fastest route\" (not necessarily closest NN)"
   ]
  },
  {
   "cell_type": "code",
   "execution_count": 138,
   "metadata": {},
   "outputs": [],
   "source": [
    "import os, sys, time, importlib\n",
    "\n",
    "import geopandas as gpd\n",
    "import pandas as pd\n",
    "import networkx as nx\n",
    "sys.path.append('/home/wb514197/Repos/GOSTnets')\n",
    "\n",
    "import GOSTnets as gn\n",
    "import rasterio as rio\n",
    "from osgeo import gdal\n",
    "import GOSTnets.calculate_od_raw as calcOD\n",
    "import numpy as np\n",
    "from shapely.geometry import Point\n",
    "\n",
    "sys.path.append('/home/wb514197/Repos/INFRA_SAP')\n",
    "from infrasap import aggregator"
   ]
  },
  {
   "cell_type": "code",
   "execution_count": 2,
   "metadata": {},
   "outputs": [],
   "source": [
    "# This is a Jupyter Notebook extension which reloads all of the modules whenever you run the code\n",
    "# This is optional but good if you are modifying and testing source code\n",
    "%load_ext autoreload\n",
    "%autoreload 2"
   ]
  },
  {
   "cell_type": "code",
   "execution_count": 3,
   "metadata": {},
   "outputs": [],
   "source": [
    "country = 'costarica'\n",
    "iso3 = 'CRI'\n",
    "epsg = 32616"
   ]
  },
  {
   "cell_type": "markdown",
   "metadata": {},
   "source": [
    "### Load origins and graph"
   ]
  },
  {
   "cell_type": "code",
   "execution_count": 4,
   "metadata": {},
   "outputs": [],
   "source": [
    "base_in = \"/home/public/Data/PROJECTS/INFRA_SAP\"\n",
    "in_folder = os.path.join(base_in, iso3)\n",
    "\n",
    "# define data paths\n",
    "focal_admin2 = os.path.join(in_folder, \"admin.shp\")\n",
    "focal_osm = os.path.join(in_folder, f\"{country}-latest.osm.pbf\")\n",
    "pop_name = \"WP_2020_1km\"\n",
    "wp_1km = os.path.join(in_folder, f\"{pop_name}.tif\")\n",
    "urban_extents = os.path.join(in_folder, \"urban_extents.shp\")\n",
    "airports = os.path.join(in_folder, \"airports.shp\")\n",
    "ports = os.path.join(in_folder, \"ports.shp\")\n",
    "borders = os.path.join(in_folder, \"borders.shp\")\n",
    "G_path = os.path.join(in_folder, 'graph', f\"G_{iso3}.pickle\")\n",
    "\n",
    "base_out = \"/home/wb514197/data/INFRA_SAP\" # GOT permission denied using public \n",
    "out_folder = os.path.join(base_out, iso3)\n",
    "if not os.path.exists(out_folder):\n",
    "    os.makedirs(out_folder)"
   ]
  },
  {
   "cell_type": "markdown",
   "metadata": {},
   "source": [
    "Convert **WP_2020_1km.tif** into a point GeoData frame"
   ]
  },
  {
   "cell_type": "code",
   "execution_count": 5,
   "metadata": {},
   "outputs": [],
   "source": [
    "inDs = gdal.Open(wp_1km)\n",
    "out_pop = os.path.join(out_folder, f\"{pop_name}.xyz\")\n",
    "outDs = gdal.Translate(out_pop, inDs, format='XYZ', creationOptions=[\"ADD_HEADER_LINE=YES\"])\n",
    "out_pop_csv = os.path.join(out_folder, f\"{pop_name}.csv\")\n",
    "os.rename(out_pop, out_pop_csv)"
   ]
  },
  {
   "cell_type": "code",
   "execution_count": 6,
   "metadata": {},
   "outputs": [],
   "source": [
    "wp_df = pd.read_csv(out_pop_csv, sep=' ')\n",
    "wp_df.rename(columns={\"Z\":\"Pop\"}, inplace=True)\n",
    "wp_df = wp_df.loc[wp_df.Pop!=-99999.0].copy()\n",
    "geoms = [Point(xy) for xy in zip(wp_df.X, wp_df.Y)]\n",
    "wp_df.drop([\"X\",\"Y\"], axis=1, inplace=True)\n",
    "crs = 'EPSG:4326'\n",
    "origins = gpd.GeoDataFrame(wp_df, crs=crs, geometry=geoms)\n",
    "origins['pointid'] = origins.index"
   ]
  },
  {
   "cell_type": "markdown",
   "metadata": {},
   "source": [
    "### Prepare Graph"
   ]
  },
  {
   "cell_type": "code",
   "execution_count": 8,
   "metadata": {},
   "outputs": [],
   "source": [
    "G = nx.read_gpickle(G_path)"
   ]
  },
  {
   "cell_type": "code",
   "execution_count": 9,
   "metadata": {},
   "outputs": [],
   "source": [
    "for u, v, data in G.edges(data = True):\n",
    "    if type(data['Wkt']) == list:\n",
    "        data['Wkt'] = gn.unbundle_geometry(data['Wkt'])"
   ]
  },
  {
   "cell_type": "code",
   "execution_count": 35,
   "metadata": {},
   "outputs": [
    {
     "data": {
      "text/plain": [
       "['id', 'infra_type', 'osm_id', 'key', 'Type']"
      ]
     },
     "execution_count": 35,
     "metadata": {},
     "output_type": "execute_result"
    }
   ],
   "source": [
    "attr_list = ['id', 'infra_type', 'osm_id', 'key', 'Type']\n",
    "attr_list"
   ]
  },
  {
   "cell_type": "markdown",
   "metadata": {},
   "source": [
    "#### Salt Network"
   ]
  },
  {
   "cell_type": "code",
   "execution_count": 36,
   "metadata": {},
   "outputs": [
    {
     "name": "stdout",
     "output_type": "stream",
     "text": [
      "WARNING: \"factor behavior has changed! now divides rather than multiplies. This change brings gn.salt_long_lines into line with gn.convert_network_to_time\" \n"
     ]
    },
    {
     "name": "stderr",
     "output_type": "stream",
     "text": [
      "/home/wb514197/.conda/envs/geo/lib/python3.7/site-packages/pyproj/crs/crs.py:55: FutureWarning: '+init=<authority>:<code>' syntax is deprecated. '<authority>:<code>' is the preferred initialization method. When making the change, be mindful of axis order changes: https://pyproj4.github.io/pyproj/stable/gotchas.html#axis-order-changes-in-proj-6\n",
      "  return _prepare_from_string(\" \".join(pjargs))\n",
      "/home/wb514197/.conda/envs/geo/lib/python3.7/site-packages/pyproj/crs/crs.py:55: FutureWarning: '+init=<authority>:<code>' syntax is deprecated. '<authority>:<code>' is the preferred initialization method. When making the change, be mindful of axis order changes: https://pyproj4.github.io/pyproj/stable/gotchas.html#axis-order-changes-in-proj-6\n",
      "  return _prepare_from_string(\" \".join(pjargs))\n",
      "/home/wb514197/.conda/envs/geo/lib/python3.7/site-packages/pyproj/crs/crs.py:55: FutureWarning: '+init=<authority>:<code>' syntax is deprecated. '<authority>:<code>' is the preferred initialization method. When making the change, be mindful of axis order changes: https://pyproj4.github.io/pyproj/stable/gotchas.html#axis-order-changes-in-proj-6\n",
      "  return _prepare_from_string(\" \".join(pjargs))\n",
      "/home/wb514197/.conda/envs/geo/lib/python3.7/site-packages/pyproj/crs/crs.py:55: FutureWarning: '+init=<authority>:<code>' syntax is deprecated. '<authority>:<code>' is the preferred initialization method. When making the change, be mindful of axis order changes: https://pyproj4.github.io/pyproj/stable/gotchas.html#axis-order-changes-in-proj-6\n",
      "  return _prepare_from_string(\" \".join(pjargs))\n"
     ]
    },
    {
     "name": "stdout",
     "output_type": "stream",
     "text": [
      "Identified 630 unique edge(s) longer than 5000. \n",
      "Beginning new node creation...\n",
      "4456 new edges added and 1262 removed to bring total edges to 8214\n",
      "1598 new nodes added to bring total nodes to 3233\n",
      "CPU times: user 1min 33s, sys: 2.94 s, total: 1min 36s\n",
      "Wall time: 1min 36s\n"
     ]
    }
   ],
   "source": [
    "%%time\n",
    "G_salt = gn.salt_long_lines(G, source='EPSG:4326', target=f'EPSG:{epsg}', thresh=5000, factor=1000, attr_list=attr_list)"
   ]
  },
  {
   "cell_type": "code",
   "execution_count": 37,
   "metadata": {},
   "outputs": [],
   "source": [
    "G_time = gn.convert_network_to_time(G_salt, distance_tag = 'length', road_col = 'infra_type', factor = 1000)"
   ]
  },
  {
   "cell_type": "code",
   "execution_count": 39,
   "metadata": {},
   "outputs": [],
   "source": [
    "if not os.path.exists(os.path.join(out_folder, 'graph')):\n",
    "    os.mkdir(os.path.join(out_folder, 'graph'))\n",
    "gn.save(G_time, f\"G_{iso3}_Salt\", os.path.join(out_folder, 'graph'))"
   ]
  },
  {
   "cell_type": "markdown",
   "metadata": {},
   "source": [
    "#### Select largest graph"
   ]
  },
  {
   "cell_type": "code",
   "execution_count": 40,
   "metadata": {},
   "outputs": [],
   "source": [
    "list_of_subgraphs = [G_time.subgraph(c).copy() for c in sorted(nx.strongly_connected_components(G_time), key=len, reverse=True)]"
   ]
  },
  {
   "cell_type": "code",
   "execution_count": 41,
   "metadata": {},
   "outputs": [],
   "source": [
    "G_largest = list_of_subgraphs[0]"
   ]
  },
  {
   "cell_type": "markdown",
   "metadata": {},
   "source": [
    "### Prepare destinations"
   ]
  },
  {
   "cell_type": "code",
   "execution_count": 53,
   "metadata": {},
   "outputs": [],
   "source": [
    "inCities = gpd.read_file(urban_extents)\n",
    "pop_thresh=50000\n",
    "inCities = inCities.loc[inCities.Pop>pop_thresh]\n",
    "inCities['geometry'] = inCities.geometry.centroid\n",
    "dest_cities = inCities.assign(dest_type = 'city')"
   ]
  },
  {
   "cell_type": "code",
   "execution_count": 58,
   "metadata": {},
   "outputs": [],
   "source": [
    "dest_airports = gpd.read_file(airports)\n",
    "dest_airports = dest_airports.assign(dest_type = 'airport')"
   ]
  },
  {
   "cell_type": "code",
   "execution_count": 62,
   "metadata": {},
   "outputs": [],
   "source": [
    "dest_ports = gpd.read_file(ports).assign(dest_type = 'port')\n",
    "dest_borders = gpd.read_file(borders).assign(dest_type = 'border')\n",
    "dest_borders['geometry'] = dest_borders.geometry.apply(lambda x: x[0])"
   ]
  },
  {
   "cell_type": "code",
   "execution_count": 63,
   "metadata": {
    "scrolled": true
   },
   "outputs": [],
   "source": [
    "dest_all = pd.concat([dest_cities, dest_ports, dest_airports, dest_borders], ignore_index=True)"
   ]
  },
  {
   "cell_type": "code",
   "execution_count": 64,
   "metadata": {},
   "outputs": [
    {
     "data": {
      "text/plain": [
       "airport    8\n",
       "border     8\n",
       "city       4\n",
       "port       2\n",
       "Name: dest_type, dtype: int64"
      ]
     },
     "execution_count": 64,
     "metadata": {},
     "output_type": "execute_result"
    }
   ],
   "source": [
    "dest_all.dest_type.value_counts()"
   ]
  },
  {
   "cell_type": "code",
   "execution_count": 69,
   "metadata": {},
   "outputs": [],
   "source": [
    "dest_all.to_csv(os.path.join(out_folder, 'destination_all.csv'))"
   ]
  },
  {
   "cell_type": "code",
   "execution_count": 72,
   "metadata": {},
   "outputs": [
    {
     "data": {
      "text/plain": [
       "(62322, 22)"
      ]
     },
     "execution_count": 72,
     "metadata": {},
     "output_type": "execute_result"
    }
   ],
   "source": [
    "len(origins), len(dest_all)"
   ]
  },
  {
   "cell_type": "markdown",
   "metadata": {},
   "source": [
    "### Snap origins and destinations"
   ]
  },
  {
   "cell_type": "markdown",
   "metadata": {},
   "source": [
    "#### Snap to origins to 5 nearest nodes"
   ]
  },
  {
   "cell_type": "code",
   "execution_count": 73,
   "metadata": {},
   "outputs": [],
   "source": [
    "utm = f\"EPSG:{epsg}\""
   ]
  },
  {
   "cell_type": "code",
   "execution_count": 81,
   "metadata": {},
   "outputs": [
    {
     "name": "stdout",
     "output_type": "stream",
     "text": [
      "CPU times: user 9.77 s, sys: 106 ms, total: 9.87 s\n",
      "Wall time: 9.84 s\n"
     ]
    }
   ],
   "source": [
    "%%time\n",
    "# this function returns a dictionary of origin IDs, with a list of 5 NNs, and a corresponding list of distances\n",
    "origins_snapped_dict = gn.pandana_snap_to_many(G_largest, origins, source_crs='epsg:4326', target_crs=utm, \n",
    "                                               add_dist_to_node_col = True, k_nearest=5, origin_id='pointid')"
   ]
  },
  {
   "cell_type": "code",
   "execution_count": 83,
   "metadata": {},
   "outputs": [],
   "source": [
    "dest_snapped = gn.pandana_snap_c(G_largest, dest_all, source_crs='epsg:4326', target_crs=utm,\n",
    "                                 add_dist_to_node_col = False)"
   ]
  },
  {
   "cell_type": "code",
   "execution_count": 85,
   "metadata": {},
   "outputs": [],
   "source": [
    "dest_nn = list(dest_snapped['NN'])\n",
    "list_origins_NN = []\n",
    "for each in origins_snapped_dict.values():\n",
    "    list_origins_NN += each['NN']\n",
    "origins_unique_nn = list(set(list_origins_NN))"
   ]
  },
  {
   "cell_type": "code",
   "execution_count": 88,
   "metadata": {},
   "outputs": [
    {
     "name": "stdout",
     "output_type": "stream",
     "text": [
      "CPU times: user 232 ms, sys: 0 ns, total: 232 ms\n",
      "Wall time: 232 ms\n"
     ]
    }
   ],
   "source": [
    "%%time\n",
    "curOD = gn.calculate_OD(G_largest, origins_unique_nn, dest_nn, fail_value = 999999999)"
   ]
  },
  {
   "cell_type": "markdown",
   "metadata": {},
   "source": [
    "quick checks"
   ]
  },
  {
   "cell_type": "code",
   "execution_count": 94,
   "metadata": {},
   "outputs": [
    {
     "data": {
      "text/plain": [
       "array([], dtype=float64)"
      ]
     },
     "execution_count": 94,
     "metadata": {},
     "output_type": "execute_result"
    }
   ],
   "source": [
    "curOD[curOD==999999999]"
   ]
  },
  {
   "cell_type": "code",
   "execution_count": 95,
   "metadata": {},
   "outputs": [
    {
     "data": {
      "text/plain": [
       "(2471, 22)"
      ]
     },
     "execution_count": 95,
     "metadata": {},
     "output_type": "execute_result"
    }
   ],
   "source": [
    "curOD.shape"
   ]
  },
  {
   "cell_type": "code",
   "execution_count": 96,
   "metadata": {},
   "outputs": [],
   "source": [
    "od_df = pd.DataFrame(curOD, index=origins_unique_nn, columns=dest_nn)"
   ]
  },
  {
   "cell_type": "code",
   "execution_count": 97,
   "metadata": {
    "scrolled": true
   },
   "outputs": [
    {
     "data": {
      "text/html": [
       "<div>\n",
       "<style scoped>\n",
       "    .dataframe tbody tr th:only-of-type {\n",
       "        vertical-align: middle;\n",
       "    }\n",
       "\n",
       "    .dataframe tbody tr th {\n",
       "        vertical-align: top;\n",
       "    }\n",
       "\n",
       "    .dataframe thead th {\n",
       "        text-align: right;\n",
       "    }\n",
       "</style>\n",
       "<table border=\"1\" class=\"dataframe\">\n",
       "  <thead>\n",
       "    <tr style=\"text-align: right;\">\n",
       "      <th></th>\n",
       "      <th>1750</th>\n",
       "      <th>new_obj_1163</th>\n",
       "      <th>4763</th>\n",
       "      <th>new_obj_264</th>\n",
       "      <th>new_obj_1030_599_2116</th>\n",
       "      <th>1750</th>\n",
       "      <th>new_obj_1754_541_1904</th>\n",
       "      <th>new_obj_481_119_411</th>\n",
       "      <th>5267_50_148</th>\n",
       "      <th>new_obj_1139</th>\n",
       "      <th>...</th>\n",
       "      <th>new_obj_1805_627_2200</th>\n",
       "      <th>new_obj_311</th>\n",
       "      <th>6805</th>\n",
       "      <th>6805</th>\n",
       "      <th>6805</th>\n",
       "      <th>6805</th>\n",
       "      <th>new_obj_1867</th>\n",
       "      <th>new_obj_1867</th>\n",
       "      <th>new_obj_1867</th>\n",
       "      <th>new_obj_1867</th>\n",
       "    </tr>\n",
       "  </thead>\n",
       "  <tbody>\n",
       "    <tr>\n",
       "      <th>8195</th>\n",
       "      <td>14919.097619</td>\n",
       "      <td>7031.790901</td>\n",
       "      <td>646.894900</td>\n",
       "      <td>13143.174788</td>\n",
       "      <td>6218.996527</td>\n",
       "      <td>14919.097619</td>\n",
       "      <td>18864.084112</td>\n",
       "      <td>18256.647530</td>\n",
       "      <td>33809.191115</td>\n",
       "      <td>355.316983</td>\n",
       "      <td>...</td>\n",
       "      <td>21617.634365</td>\n",
       "      <td>12915.993854</td>\n",
       "      <td>30335.109412</td>\n",
       "      <td>30335.109412</td>\n",
       "      <td>30335.109412</td>\n",
       "      <td>30335.109412</td>\n",
       "      <td>24447.276760</td>\n",
       "      <td>24447.276760</td>\n",
       "      <td>24447.276760</td>\n",
       "      <td>24447.276760</td>\n",
       "    </tr>\n",
       "    <tr>\n",
       "      <th>8196</th>\n",
       "      <td>1850.365506</td>\n",
       "      <td>22600.382546</td>\n",
       "      <td>15736.080549</td>\n",
       "      <td>24548.053203</td>\n",
       "      <td>21787.588173</td>\n",
       "      <td>1850.365506</td>\n",
       "      <td>34432.675757</td>\n",
       "      <td>33825.239175</td>\n",
       "      <td>45790.792542</td>\n",
       "      <td>16051.687280</td>\n",
       "      <td>...</td>\n",
       "      <td>33403.430913</td>\n",
       "      <td>26602.917677</td>\n",
       "      <td>31548.806026</td>\n",
       "      <td>31548.806026</td>\n",
       "      <td>31548.806026</td>\n",
       "      <td>31548.806026</td>\n",
       "      <td>35498.883308</td>\n",
       "      <td>35498.883308</td>\n",
       "      <td>35498.883308</td>\n",
       "      <td>35498.883308</td>\n",
       "    </tr>\n",
       "    <tr>\n",
       "      <th>new_obj_964</th>\n",
       "      <td>13664.783404</td>\n",
       "      <td>7760.757936</td>\n",
       "      <td>915.133509</td>\n",
       "      <td>11990.474002</td>\n",
       "      <td>6947.963563</td>\n",
       "      <td>13664.783404</td>\n",
       "      <td>19593.051148</td>\n",
       "      <td>18985.614566</td>\n",
       "      <td>32656.490328</td>\n",
       "      <td>1350.266652</td>\n",
       "      <td>...</td>\n",
       "      <td>22346.601400</td>\n",
       "      <td>11763.293068</td>\n",
       "      <td>29182.408625</td>\n",
       "      <td>29182.408625</td>\n",
       "      <td>29182.408625</td>\n",
       "      <td>29182.408625</td>\n",
       "      <td>25176.243796</td>\n",
       "      <td>25176.243796</td>\n",
       "      <td>25176.243796</td>\n",
       "      <td>25176.243796</td>\n",
       "    </tr>\n",
       "    <tr>\n",
       "      <th>new_obj_1292_427_1510</th>\n",
       "      <td>18801.035643</td>\n",
       "      <td>4675.052572</td>\n",
       "      <td>4583.472098</td>\n",
       "      <td>17003.725187</td>\n",
       "      <td>5426.311117</td>\n",
       "      <td>18801.035643</td>\n",
       "      <td>16535.169724</td>\n",
       "      <td>16541.339333</td>\n",
       "      <td>34321.519042</td>\n",
       "      <td>3959.953528</td>\n",
       "      <td>...</td>\n",
       "      <td>19288.719977</td>\n",
       "      <td>13428.321781</td>\n",
       "      <td>30847.437339</td>\n",
       "      <td>30847.437339</td>\n",
       "      <td>30847.437339</td>\n",
       "      <td>30847.437339</td>\n",
       "      <td>22118.362372</td>\n",
       "      <td>22118.362372</td>\n",
       "      <td>22118.362372</td>\n",
       "      <td>22118.362372</td>\n",
       "    </tr>\n",
       "    <tr>\n",
       "      <th>2393_36_116</th>\n",
       "      <td>16231.866921</td>\n",
       "      <td>8547.260624</td>\n",
       "      <td>2643.318270</td>\n",
       "      <td>14857.136722</td>\n",
       "      <td>7734.466251</td>\n",
       "      <td>16231.866921</td>\n",
       "      <td>20379.553835</td>\n",
       "      <td>19772.117253</td>\n",
       "      <td>35523.153048</td>\n",
       "      <td>2031.343785</td>\n",
       "      <td>...</td>\n",
       "      <td>23133.104088</td>\n",
       "      <td>14629.955788</td>\n",
       "      <td>32049.071345</td>\n",
       "      <td>32049.071345</td>\n",
       "      <td>32049.071345</td>\n",
       "      <td>32049.071345</td>\n",
       "      <td>25962.746483</td>\n",
       "      <td>25962.746483</td>\n",
       "      <td>25962.746483</td>\n",
       "      <td>25962.746483</td>\n",
       "    </tr>\n",
       "  </tbody>\n",
       "</table>\n",
       "<p>5 rows × 22 columns</p>\n",
       "</div>"
      ],
      "text/plain": [
       "                               1750  new_obj_1163          4763   new_obj_264  \\\n",
       "8195                   14919.097619   7031.790901    646.894900  13143.174788   \n",
       "8196                    1850.365506  22600.382546  15736.080549  24548.053203   \n",
       "new_obj_964            13664.783404   7760.757936    915.133509  11990.474002   \n",
       "new_obj_1292_427_1510  18801.035643   4675.052572   4583.472098  17003.725187   \n",
       "2393_36_116            16231.866921   8547.260624   2643.318270  14857.136722   \n",
       "\n",
       "                       new_obj_1030_599_2116          1750  \\\n",
       "8195                             6218.996527  14919.097619   \n",
       "8196                            21787.588173   1850.365506   \n",
       "new_obj_964                      6947.963563  13664.783404   \n",
       "new_obj_1292_427_1510            5426.311117  18801.035643   \n",
       "2393_36_116                      7734.466251  16231.866921   \n",
       "\n",
       "                       new_obj_1754_541_1904  new_obj_481_119_411  \\\n",
       "8195                            18864.084112         18256.647530   \n",
       "8196                            34432.675757         33825.239175   \n",
       "new_obj_964                     19593.051148         18985.614566   \n",
       "new_obj_1292_427_1510           16535.169724         16541.339333   \n",
       "2393_36_116                     20379.553835         19772.117253   \n",
       "\n",
       "                        5267_50_148  new_obj_1139  ...  new_obj_1805_627_2200  \\\n",
       "8195                   33809.191115    355.316983  ...           21617.634365   \n",
       "8196                   45790.792542  16051.687280  ...           33403.430913   \n",
       "new_obj_964            32656.490328   1350.266652  ...           22346.601400   \n",
       "new_obj_1292_427_1510  34321.519042   3959.953528  ...           19288.719977   \n",
       "2393_36_116            35523.153048   2031.343785  ...           23133.104088   \n",
       "\n",
       "                        new_obj_311          6805          6805          6805  \\\n",
       "8195                   12915.993854  30335.109412  30335.109412  30335.109412   \n",
       "8196                   26602.917677  31548.806026  31548.806026  31548.806026   \n",
       "new_obj_964            11763.293068  29182.408625  29182.408625  29182.408625   \n",
       "new_obj_1292_427_1510  13428.321781  30847.437339  30847.437339  30847.437339   \n",
       "2393_36_116            14629.955788  32049.071345  32049.071345  32049.071345   \n",
       "\n",
       "                               6805  new_obj_1867  new_obj_1867  new_obj_1867  \\\n",
       "8195                   30335.109412  24447.276760  24447.276760  24447.276760   \n",
       "8196                   31548.806026  35498.883308  35498.883308  35498.883308   \n",
       "new_obj_964            29182.408625  25176.243796  25176.243796  25176.243796   \n",
       "new_obj_1292_427_1510  30847.437339  22118.362372  22118.362372  22118.362372   \n",
       "2393_36_116            32049.071345  25962.746483  25962.746483  25962.746483   \n",
       "\n",
       "                       new_obj_1867  \n",
       "8195                   24447.276760  \n",
       "8196                   35498.883308  \n",
       "new_obj_964            25176.243796  \n",
       "new_obj_1292_427_1510  22118.362372  \n",
       "2393_36_116            25962.746483  \n",
       "\n",
       "[5 rows x 22 columns]"
      ]
     },
     "execution_count": 97,
     "metadata": {},
     "output_type": "execute_result"
    }
   ],
   "source": [
    "od_df.head()"
   ]
  },
  {
   "cell_type": "markdown",
   "metadata": {},
   "source": [
    "For each origin set of 5 (k) possible NN:\n",
    "    - Add snapping dist (in time) + time to a destination\n",
    "    - Which destination? min time from all of them won't necessarily work, so we need to find the closest destination for each origin, and select the NN which yields the fastest travel time to that dest\n",
    "    - closest_dest.idx should match the OD column order."
   ]
  },
  {
   "cell_type": "code",
   "execution_count": 98,
   "metadata": {},
   "outputs": [
    {
     "name": "stdout",
     "output_type": "stream",
     "text": [
      "CPU times: user 3.12 s, sys: 6.96 ms, total: 3.13 s\n",
      "Wall time: 3.13 s\n"
     ]
    }
   ],
   "source": [
    "%%time\n",
    "closest_dest = gn.pandana_snap_points(origins, dest_all, source_crs='epsg:4326', target_crs=utm,\n",
    "                                      add_dist_to_node_col=True)"
   ]
  },
  {
   "cell_type": "code",
   "execution_count": 99,
   "metadata": {},
   "outputs": [],
   "source": [
    "closest_dest = closest_dest.set_index('pointid')"
   ]
  },
  {
   "cell_type": "code",
   "execution_count": 100,
   "metadata": {},
   "outputs": [
    {
     "data": {
      "text/html": [
       "<div>\n",
       "<style scoped>\n",
       "    .dataframe tbody tr th:only-of-type {\n",
       "        vertical-align: middle;\n",
       "    }\n",
       "\n",
       "    .dataframe tbody tr th {\n",
       "        vertical-align: top;\n",
       "    }\n",
       "\n",
       "    .dataframe thead th {\n",
       "        text-align: right;\n",
       "    }\n",
       "</style>\n",
       "<table border=\"1\" class=\"dataframe\">\n",
       "  <thead>\n",
       "    <tr style=\"text-align: right;\">\n",
       "      <th></th>\n",
       "      <th>Pop</th>\n",
       "      <th>geometry</th>\n",
       "      <th>idx</th>\n",
       "      <th>idx_dist</th>\n",
       "    </tr>\n",
       "    <tr>\n",
       "      <th>pointid</th>\n",
       "      <th></th>\n",
       "      <th></th>\n",
       "      <th></th>\n",
       "      <th></th>\n",
       "    </tr>\n",
       "  </thead>\n",
       "  <tbody>\n",
       "    <tr>\n",
       "      <th>177</th>\n",
       "      <td>265.947540</td>\n",
       "      <td>POINT (651070.347 1239876.698)</td>\n",
       "      <td>21</td>\n",
       "      <td>605.393660</td>\n",
       "    </tr>\n",
       "    <tr>\n",
       "      <th>178</th>\n",
       "      <td>197.396774</td>\n",
       "      <td>POINT (651980.301 1239880.985)</td>\n",
       "      <td>21</td>\n",
       "      <td>1128.859165</td>\n",
       "    </tr>\n",
       "    <tr>\n",
       "      <th>179</th>\n",
       "      <td>33.114670</td>\n",
       "      <td>POINT (652890.259 1239885.298)</td>\n",
       "      <td>21</td>\n",
       "      <td>1959.147076</td>\n",
       "    </tr>\n",
       "    <tr>\n",
       "      <th>180</th>\n",
       "      <td>15.100848</td>\n",
       "      <td>POINT (653800.219 1239889.637)</td>\n",
       "      <td>21</td>\n",
       "      <td>2838.718257</td>\n",
       "    </tr>\n",
       "    <tr>\n",
       "      <th>181</th>\n",
       "      <td>8.140772</td>\n",
       "      <td>POINT (654710.182 1239894.001)</td>\n",
       "      <td>21</td>\n",
       "      <td>3732.898671</td>\n",
       "    </tr>\n",
       "  </tbody>\n",
       "</table>\n",
       "</div>"
      ],
      "text/plain": [
       "                Pop                        geometry  idx     idx_dist\n",
       "pointid                                                              \n",
       "177      265.947540  POINT (651070.347 1239876.698)   21   605.393660\n",
       "178      197.396774  POINT (651980.301 1239880.985)   21  1128.859165\n",
       "179       33.114670  POINT (652890.259 1239885.298)   21  1959.147076\n",
       "180       15.100848  POINT (653800.219 1239889.637)   21  2838.718257\n",
       "181        8.140772  POINT (654710.182 1239894.001)   21  3732.898671"
      ]
     },
     "execution_count": 100,
     "metadata": {},
     "output_type": "execute_result"
    }
   ],
   "source": [
    "closest_dest.head()"
   ]
  },
  {
   "cell_type": "code",
   "execution_count": 102,
   "metadata": {},
   "outputs": [
    {
     "name": "stdout",
     "output_type": "stream",
     "text": [
      "CPU times: user 43.7 s, sys: 5.53 ms, total: 43.7 s\n",
      "Wall time: 43.7 s\n"
     ]
    }
   ],
   "source": [
    "%%time\n",
    "fastest_nn = []\n",
    "fastest_dist = []\n",
    "custom_speed = 30 # km/h\n",
    "\n",
    "for pointid, items in origins_snapped_dict.items():\n",
    "    dest_index = closest_dest.loc[pointid].idx\n",
    "    nn_list = items['NN']\n",
    "    dist_list = items['NN_dist']\n",
    "    total_time_list = []\n",
    "    for i in range(0, len(nn_list)):\n",
    "        time_snapping = ((dist_list[i] / 1000) / custom_speed) * 60 * 60\n",
    "        #time_to_dest = od_df.loc[nn_list[i]].min()\n",
    "        time_to_dest = od_df.loc[nn_list[i]].iloc[dest_index]\n",
    "        total_time = time_snapping+time_to_dest\n",
    "        total_time_list.append(total_time)\n",
    "#         print(f\"id: {nn_list[i]}, snapping dist (km): {dist_list[i]/1000:.2f}, time to dest (min): {(total_time/60)/60:.2f}\")\n",
    "    min_pos = total_time_list.index(min(total_time_list))\n",
    "    fastest_nn.append(nn_list[min_pos])\n",
    "    fastest_dist.append(dist_list[min_pos])\n",
    "#     origins_snapped_smart.loc[pointid, \"NN\"] = nn_list[min_pos]\n",
    "#     origins_snapped_smart.loc[pointid, \"NN_dist\"] = dist_list[min_pos]"
   ]
  },
  {
   "cell_type": "code",
   "execution_count": 107,
   "metadata": {},
   "outputs": [],
   "source": [
    "origins_snapped = origins.copy().set_index('pointid')\n",
    "origins_snapped['NN'] = pd.Series(fastest_nn, index = origins_snapped.index)\n",
    "origins_snapped['NN_dist'] = pd.Series(fastest_dist, index = origins_snapped.index)\n",
    "origins_snapped['pointid'] = origins_snapped.index\n",
    "origins_snapped['NN_dist_hours'] = ((origins_snapped.NN_dist / 1000) / custom_speed)"
   ]
  },
  {
   "cell_type": "code",
   "execution_count": 114,
   "metadata": {},
   "outputs": [
    {
     "data": {
      "text/html": [
       "<div>\n",
       "<style scoped>\n",
       "    .dataframe tbody tr th:only-of-type {\n",
       "        vertical-align: middle;\n",
       "    }\n",
       "\n",
       "    .dataframe tbody tr th {\n",
       "        vertical-align: top;\n",
       "    }\n",
       "\n",
       "    .dataframe thead th {\n",
       "        text-align: right;\n",
       "    }\n",
       "</style>\n",
       "<table border=\"1\" class=\"dataframe\">\n",
       "  <thead>\n",
       "    <tr style=\"text-align: right;\">\n",
       "      <th></th>\n",
       "      <th>Pop</th>\n",
       "      <th>geometry</th>\n",
       "      <th>NN</th>\n",
       "      <th>NN_dist</th>\n",
       "      <th>pointid</th>\n",
       "      <th>NN_dist_seconds</th>\n",
       "      <th>NN_dist_hours</th>\n",
       "    </tr>\n",
       "    <tr>\n",
       "      <th>pointid</th>\n",
       "      <th></th>\n",
       "      <th></th>\n",
       "      <th></th>\n",
       "      <th></th>\n",
       "      <th></th>\n",
       "      <th></th>\n",
       "      <th></th>\n",
       "    </tr>\n",
       "  </thead>\n",
       "  <tbody>\n",
       "    <tr>\n",
       "      <th>177</th>\n",
       "      <td>265.947540</td>\n",
       "      <td>POINT (-85.61625 11.21292)</td>\n",
       "      <td>new_obj_1867</td>\n",
       "      <td>670.166343</td>\n",
       "      <td>177</td>\n",
       "      <td>80.419961</td>\n",
       "      <td>0.022339</td>\n",
       "    </tr>\n",
       "    <tr>\n",
       "      <th>178</th>\n",
       "      <td>197.396774</td>\n",
       "      <td>POINT (-85.60792 11.21292)</td>\n",
       "      <td>new_obj_1867</td>\n",
       "      <td>761.241509</td>\n",
       "      <td>178</td>\n",
       "      <td>91.348981</td>\n",
       "      <td>0.025375</td>\n",
       "    </tr>\n",
       "    <tr>\n",
       "      <th>179</th>\n",
       "      <td>33.114670</td>\n",
       "      <td>POINT (-85.59958 11.21292)</td>\n",
       "      <td>new_obj_1867</td>\n",
       "      <td>1538.168266</td>\n",
       "      <td>179</td>\n",
       "      <td>184.580192</td>\n",
       "      <td>0.051272</td>\n",
       "    </tr>\n",
       "    <tr>\n",
       "      <th>180</th>\n",
       "      <td>15.100848</td>\n",
       "      <td>POINT (-85.59125 11.21292)</td>\n",
       "      <td>new_obj_1867</td>\n",
       "      <td>2410.095218</td>\n",
       "      <td>180</td>\n",
       "      <td>289.211426</td>\n",
       "      <td>0.080337</td>\n",
       "    </tr>\n",
       "    <tr>\n",
       "      <th>181</th>\n",
       "      <td>8.140772</td>\n",
       "      <td>POINT (-85.58292 11.21292)</td>\n",
       "      <td>new_obj_1867</td>\n",
       "      <td>3302.619854</td>\n",
       "      <td>181</td>\n",
       "      <td>396.314382</td>\n",
       "      <td>0.110087</td>\n",
       "    </tr>\n",
       "  </tbody>\n",
       "</table>\n",
       "</div>"
      ],
      "text/plain": [
       "                Pop                    geometry            NN      NN_dist  \\\n",
       "pointid                                                                      \n",
       "177      265.947540  POINT (-85.61625 11.21292)  new_obj_1867   670.166343   \n",
       "178      197.396774  POINT (-85.60792 11.21292)  new_obj_1867   761.241509   \n",
       "179       33.114670  POINT (-85.59958 11.21292)  new_obj_1867  1538.168266   \n",
       "180       15.100848  POINT (-85.59125 11.21292)  new_obj_1867  2410.095218   \n",
       "181        8.140772  POINT (-85.58292 11.21292)  new_obj_1867  3302.619854   \n",
       "\n",
       "         pointid  NN_dist_seconds  NN_dist_hours  \n",
       "pointid                                           \n",
       "177          177        80.419961       0.022339  \n",
       "178          178        91.348981       0.025375  \n",
       "179          179       184.580192       0.051272  \n",
       "180          180       289.211426       0.080337  \n",
       "181          181       396.314382       0.110087  "
      ]
     },
     "execution_count": 114,
     "metadata": {},
     "output_type": "execute_result"
    }
   ],
   "source": [
    "origins_snapped.head()"
   ]
  },
  {
   "cell_type": "code",
   "execution_count": 117,
   "metadata": {},
   "outputs": [],
   "source": [
    "origins_join = origins_snapped.join(od_df, on='NN')"
   ]
  },
  {
   "cell_type": "code",
   "execution_count": null,
   "metadata": {},
   "outputs": [],
   "source": [
    "all(origins_join.columns[6:] == dest_snapped.NN)"
   ]
  },
  {
   "cell_type": "code",
   "execution_count": 123,
   "metadata": {},
   "outputs": [],
   "source": [
    "origins_join_rename = origins_join.copy()\n",
    "origins_join_rename.columns = pd.MultiIndex.from_arrays([['origin' for each in origins_snapped.columns]+list(dest_snapped.dest_type), origins_snapped.columns.append(dest_snapped.index)])"
   ]
  },
  {
   "cell_type": "code",
   "execution_count": 129,
   "metadata": {
    "scrolled": true
   },
   "outputs": [
    {
     "data": {
      "text/html": [
       "<div>\n",
       "<style scoped>\n",
       "    .dataframe tbody tr th:only-of-type {\n",
       "        vertical-align: middle;\n",
       "    }\n",
       "\n",
       "    .dataframe tbody tr th {\n",
       "        vertical-align: top;\n",
       "    }\n",
       "\n",
       "    .dataframe thead tr th {\n",
       "        text-align: left;\n",
       "    }\n",
       "\n",
       "    .dataframe thead tr:last-of-type th {\n",
       "        text-align: right;\n",
       "    }\n",
       "</style>\n",
       "<table border=\"1\" class=\"dataframe\">\n",
       "  <thead>\n",
       "    <tr>\n",
       "      <th></th>\n",
       "      <th colspan=\"7\" halign=\"left\">origin</th>\n",
       "      <th colspan=\"3\" halign=\"left\">city</th>\n",
       "      <th>...</th>\n",
       "      <th colspan=\"2\" halign=\"left\">airport</th>\n",
       "      <th colspan=\"8\" halign=\"left\">border</th>\n",
       "    </tr>\n",
       "    <tr>\n",
       "      <th></th>\n",
       "      <th>Pop</th>\n",
       "      <th>geometry</th>\n",
       "      <th>NN</th>\n",
       "      <th>NN_dist</th>\n",
       "      <th>pointid</th>\n",
       "      <th>NN_dist_seconds</th>\n",
       "      <th>NN_dist_hours</th>\n",
       "      <th>0</th>\n",
       "      <th>1</th>\n",
       "      <th>2</th>\n",
       "      <th>...</th>\n",
       "      <th>12</th>\n",
       "      <th>13</th>\n",
       "      <th>14</th>\n",
       "      <th>15</th>\n",
       "      <th>16</th>\n",
       "      <th>17</th>\n",
       "      <th>18</th>\n",
       "      <th>19</th>\n",
       "      <th>20</th>\n",
       "      <th>21</th>\n",
       "    </tr>\n",
       "    <tr>\n",
       "      <th>pointid</th>\n",
       "      <th></th>\n",
       "      <th></th>\n",
       "      <th></th>\n",
       "      <th></th>\n",
       "      <th></th>\n",
       "      <th></th>\n",
       "      <th></th>\n",
       "      <th></th>\n",
       "      <th></th>\n",
       "      <th></th>\n",
       "      <th></th>\n",
       "      <th></th>\n",
       "      <th></th>\n",
       "      <th></th>\n",
       "      <th></th>\n",
       "      <th></th>\n",
       "      <th></th>\n",
       "      <th></th>\n",
       "      <th></th>\n",
       "      <th></th>\n",
       "      <th></th>\n",
       "    </tr>\n",
       "  </thead>\n",
       "  <tbody>\n",
       "    <tr>\n",
       "      <th>177</th>\n",
       "      <td>265.947540</td>\n",
       "      <td>POINT (-85.61625 11.21292)</td>\n",
       "      <td>new_obj_1867</td>\n",
       "      <td>670.166343</td>\n",
       "      <td>177</td>\n",
       "      <td>80.419961</td>\n",
       "      <td>0.022339</td>\n",
       "      <td>34276.127171</td>\n",
       "      <td>17435.448552</td>\n",
       "      <td>24699.370453</td>\n",
       "      <td>...</td>\n",
       "      <td>6429.162396</td>\n",
       "      <td>29171.851913</td>\n",
       "      <td>46590.96747</td>\n",
       "      <td>46590.96747</td>\n",
       "      <td>46590.96747</td>\n",
       "      <td>46590.96747</td>\n",
       "      <td>0.0</td>\n",
       "      <td>0.0</td>\n",
       "      <td>0.0</td>\n",
       "      <td>0.0</td>\n",
       "    </tr>\n",
       "    <tr>\n",
       "      <th>178</th>\n",
       "      <td>197.396774</td>\n",
       "      <td>POINT (-85.60792 11.21292)</td>\n",
       "      <td>new_obj_1867</td>\n",
       "      <td>761.241509</td>\n",
       "      <td>178</td>\n",
       "      <td>91.348981</td>\n",
       "      <td>0.025375</td>\n",
       "      <td>34276.127171</td>\n",
       "      <td>17435.448552</td>\n",
       "      <td>24699.370453</td>\n",
       "      <td>...</td>\n",
       "      <td>6429.162396</td>\n",
       "      <td>29171.851913</td>\n",
       "      <td>46590.96747</td>\n",
       "      <td>46590.96747</td>\n",
       "      <td>46590.96747</td>\n",
       "      <td>46590.96747</td>\n",
       "      <td>0.0</td>\n",
       "      <td>0.0</td>\n",
       "      <td>0.0</td>\n",
       "      <td>0.0</td>\n",
       "    </tr>\n",
       "    <tr>\n",
       "      <th>179</th>\n",
       "      <td>33.114670</td>\n",
       "      <td>POINT (-85.59958 11.21292)</td>\n",
       "      <td>new_obj_1867</td>\n",
       "      <td>1538.168266</td>\n",
       "      <td>179</td>\n",
       "      <td>184.580192</td>\n",
       "      <td>0.051272</td>\n",
       "      <td>34276.127171</td>\n",
       "      <td>17435.448552</td>\n",
       "      <td>24699.370453</td>\n",
       "      <td>...</td>\n",
       "      <td>6429.162396</td>\n",
       "      <td>29171.851913</td>\n",
       "      <td>46590.96747</td>\n",
       "      <td>46590.96747</td>\n",
       "      <td>46590.96747</td>\n",
       "      <td>46590.96747</td>\n",
       "      <td>0.0</td>\n",
       "      <td>0.0</td>\n",
       "      <td>0.0</td>\n",
       "      <td>0.0</td>\n",
       "    </tr>\n",
       "    <tr>\n",
       "      <th>180</th>\n",
       "      <td>15.100848</td>\n",
       "      <td>POINT (-85.59125 11.21292)</td>\n",
       "      <td>new_obj_1867</td>\n",
       "      <td>2410.095218</td>\n",
       "      <td>180</td>\n",
       "      <td>289.211426</td>\n",
       "      <td>0.080337</td>\n",
       "      <td>34276.127171</td>\n",
       "      <td>17435.448552</td>\n",
       "      <td>24699.370453</td>\n",
       "      <td>...</td>\n",
       "      <td>6429.162396</td>\n",
       "      <td>29171.851913</td>\n",
       "      <td>46590.96747</td>\n",
       "      <td>46590.96747</td>\n",
       "      <td>46590.96747</td>\n",
       "      <td>46590.96747</td>\n",
       "      <td>0.0</td>\n",
       "      <td>0.0</td>\n",
       "      <td>0.0</td>\n",
       "      <td>0.0</td>\n",
       "    </tr>\n",
       "    <tr>\n",
       "      <th>181</th>\n",
       "      <td>8.140772</td>\n",
       "      <td>POINT (-85.58292 11.21292)</td>\n",
       "      <td>new_obj_1867</td>\n",
       "      <td>3302.619854</td>\n",
       "      <td>181</td>\n",
       "      <td>396.314382</td>\n",
       "      <td>0.110087</td>\n",
       "      <td>34276.127171</td>\n",
       "      <td>17435.448552</td>\n",
       "      <td>24699.370453</td>\n",
       "      <td>...</td>\n",
       "      <td>6429.162396</td>\n",
       "      <td>29171.851913</td>\n",
       "      <td>46590.96747</td>\n",
       "      <td>46590.96747</td>\n",
       "      <td>46590.96747</td>\n",
       "      <td>46590.96747</td>\n",
       "      <td>0.0</td>\n",
       "      <td>0.0</td>\n",
       "      <td>0.0</td>\n",
       "      <td>0.0</td>\n",
       "    </tr>\n",
       "  </tbody>\n",
       "</table>\n",
       "<p>5 rows × 29 columns</p>\n",
       "</div>"
      ],
      "text/plain": [
       "             origin                                                         \\\n",
       "                Pop                    geometry            NN      NN_dist   \n",
       "pointid                                                                      \n",
       "177      265.947540  POINT (-85.61625 11.21292)  new_obj_1867   670.166343   \n",
       "178      197.396774  POINT (-85.60792 11.21292)  new_obj_1867   761.241509   \n",
       "179       33.114670  POINT (-85.59958 11.21292)  new_obj_1867  1538.168266   \n",
       "180       15.100848  POINT (-85.59125 11.21292)  new_obj_1867  2410.095218   \n",
       "181        8.140772  POINT (-85.58292 11.21292)  new_obj_1867  3302.619854   \n",
       "\n",
       "                                                       city                \\\n",
       "        pointid NN_dist_seconds NN_dist_hours             0             1   \n",
       "pointid                                                                     \n",
       "177         177       80.419961      0.022339  34276.127171  17435.448552   \n",
       "178         178       91.348981      0.025375  34276.127171  17435.448552   \n",
       "179         179      184.580192      0.051272  34276.127171  17435.448552   \n",
       "180         180      289.211426      0.080337  34276.127171  17435.448552   \n",
       "181         181      396.314382      0.110087  34276.127171  17435.448552   \n",
       "\n",
       "                       ...      airport                     border  \\\n",
       "                    2  ...           12            13           14   \n",
       "pointid                ...                                           \n",
       "177      24699.370453  ...  6429.162396  29171.851913  46590.96747   \n",
       "178      24699.370453  ...  6429.162396  29171.851913  46590.96747   \n",
       "179      24699.370453  ...  6429.162396  29171.851913  46590.96747   \n",
       "180      24699.370453  ...  6429.162396  29171.851913  46590.96747   \n",
       "181      24699.370453  ...  6429.162396  29171.851913  46590.96747   \n",
       "\n",
       "                                                                    \n",
       "                  15           16           17   18   19   20   21  \n",
       "pointid                                                             \n",
       "177      46590.96747  46590.96747  46590.96747  0.0  0.0  0.0  0.0  \n",
       "178      46590.96747  46590.96747  46590.96747  0.0  0.0  0.0  0.0  \n",
       "179      46590.96747  46590.96747  46590.96747  0.0  0.0  0.0  0.0  \n",
       "180      46590.96747  46590.96747  46590.96747  0.0  0.0  0.0  0.0  \n",
       "181      46590.96747  46590.96747  46590.96747  0.0  0.0  0.0  0.0  \n",
       "\n",
       "[5 rows x 29 columns]"
      ]
     },
     "execution_count": 129,
     "metadata": {},
     "output_type": "execute_result"
    }
   ],
   "source": [
    "origins_join_rename.head()"
   ]
  },
  {
   "cell_type": "markdown",
   "metadata": {},
   "source": [
    "Add snapping time to each column (speed of 30 km/h)"
   ]
  },
  {
   "cell_type": "code",
   "execution_count": 130,
   "metadata": {},
   "outputs": [],
   "source": [
    "origins_join2 = origins_join_rename.apply(lambda x: x + origins_join_rename.origin.NN_dist_seconds if x.name[1] in dest_snapped.index else x)"
   ]
  },
  {
   "cell_type": "code",
   "execution_count": 131,
   "metadata": {},
   "outputs": [
    {
     "data": {
      "text/html": [
       "<div>\n",
       "<style scoped>\n",
       "    .dataframe tbody tr th:only-of-type {\n",
       "        vertical-align: middle;\n",
       "    }\n",
       "\n",
       "    .dataframe tbody tr th {\n",
       "        vertical-align: top;\n",
       "    }\n",
       "\n",
       "    .dataframe thead tr th {\n",
       "        text-align: left;\n",
       "    }\n",
       "\n",
       "    .dataframe thead tr:last-of-type th {\n",
       "        text-align: right;\n",
       "    }\n",
       "</style>\n",
       "<table border=\"1\" class=\"dataframe\">\n",
       "  <thead>\n",
       "    <tr>\n",
       "      <th></th>\n",
       "      <th colspan=\"7\" halign=\"left\">origin</th>\n",
       "      <th colspan=\"3\" halign=\"left\">city</th>\n",
       "      <th>...</th>\n",
       "      <th colspan=\"2\" halign=\"left\">airport</th>\n",
       "      <th colspan=\"8\" halign=\"left\">border</th>\n",
       "    </tr>\n",
       "    <tr>\n",
       "      <th></th>\n",
       "      <th>Pop</th>\n",
       "      <th>geometry</th>\n",
       "      <th>NN</th>\n",
       "      <th>NN_dist</th>\n",
       "      <th>pointid</th>\n",
       "      <th>NN_dist_seconds</th>\n",
       "      <th>NN_dist_hours</th>\n",
       "      <th>0</th>\n",
       "      <th>1</th>\n",
       "      <th>2</th>\n",
       "      <th>...</th>\n",
       "      <th>12</th>\n",
       "      <th>13</th>\n",
       "      <th>14</th>\n",
       "      <th>15</th>\n",
       "      <th>16</th>\n",
       "      <th>17</th>\n",
       "      <th>18</th>\n",
       "      <th>19</th>\n",
       "      <th>20</th>\n",
       "      <th>21</th>\n",
       "    </tr>\n",
       "    <tr>\n",
       "      <th>pointid</th>\n",
       "      <th></th>\n",
       "      <th></th>\n",
       "      <th></th>\n",
       "      <th></th>\n",
       "      <th></th>\n",
       "      <th></th>\n",
       "      <th></th>\n",
       "      <th></th>\n",
       "      <th></th>\n",
       "      <th></th>\n",
       "      <th></th>\n",
       "      <th></th>\n",
       "      <th></th>\n",
       "      <th></th>\n",
       "      <th></th>\n",
       "      <th></th>\n",
       "      <th></th>\n",
       "      <th></th>\n",
       "      <th></th>\n",
       "      <th></th>\n",
       "      <th></th>\n",
       "    </tr>\n",
       "  </thead>\n",
       "  <tbody>\n",
       "    <tr>\n",
       "      <th>177</th>\n",
       "      <td>265.947540</td>\n",
       "      <td>POINT (-85.61625 11.21292)</td>\n",
       "      <td>new_obj_1867</td>\n",
       "      <td>670.166343</td>\n",
       "      <td>177</td>\n",
       "      <td>80.419961</td>\n",
       "      <td>0.022339</td>\n",
       "      <td>34356.547132</td>\n",
       "      <td>17515.868513</td>\n",
       "      <td>24779.790414</td>\n",
       "      <td>...</td>\n",
       "      <td>6509.582357</td>\n",
       "      <td>29252.271874</td>\n",
       "      <td>46671.387431</td>\n",
       "      <td>46671.387431</td>\n",
       "      <td>46671.387431</td>\n",
       "      <td>46671.387431</td>\n",
       "      <td>80.419961</td>\n",
       "      <td>80.419961</td>\n",
       "      <td>80.419961</td>\n",
       "      <td>80.419961</td>\n",
       "    </tr>\n",
       "    <tr>\n",
       "      <th>178</th>\n",
       "      <td>197.396774</td>\n",
       "      <td>POINT (-85.60792 11.21292)</td>\n",
       "      <td>new_obj_1867</td>\n",
       "      <td>761.241509</td>\n",
       "      <td>178</td>\n",
       "      <td>91.348981</td>\n",
       "      <td>0.025375</td>\n",
       "      <td>34367.476152</td>\n",
       "      <td>17526.797533</td>\n",
       "      <td>24790.719434</td>\n",
       "      <td>...</td>\n",
       "      <td>6520.511377</td>\n",
       "      <td>29263.200894</td>\n",
       "      <td>46682.316451</td>\n",
       "      <td>46682.316451</td>\n",
       "      <td>46682.316451</td>\n",
       "      <td>46682.316451</td>\n",
       "      <td>91.348981</td>\n",
       "      <td>91.348981</td>\n",
       "      <td>91.348981</td>\n",
       "      <td>91.348981</td>\n",
       "    </tr>\n",
       "    <tr>\n",
       "      <th>179</th>\n",
       "      <td>33.114670</td>\n",
       "      <td>POINT (-85.59958 11.21292)</td>\n",
       "      <td>new_obj_1867</td>\n",
       "      <td>1538.168266</td>\n",
       "      <td>179</td>\n",
       "      <td>184.580192</td>\n",
       "      <td>0.051272</td>\n",
       "      <td>34460.707363</td>\n",
       "      <td>17620.028744</td>\n",
       "      <td>24883.950645</td>\n",
       "      <td>...</td>\n",
       "      <td>6613.742587</td>\n",
       "      <td>29356.432105</td>\n",
       "      <td>46775.547662</td>\n",
       "      <td>46775.547662</td>\n",
       "      <td>46775.547662</td>\n",
       "      <td>46775.547662</td>\n",
       "      <td>184.580192</td>\n",
       "      <td>184.580192</td>\n",
       "      <td>184.580192</td>\n",
       "      <td>184.580192</td>\n",
       "    </tr>\n",
       "    <tr>\n",
       "      <th>180</th>\n",
       "      <td>15.100848</td>\n",
       "      <td>POINT (-85.59125 11.21292)</td>\n",
       "      <td>new_obj_1867</td>\n",
       "      <td>2410.095218</td>\n",
       "      <td>180</td>\n",
       "      <td>289.211426</td>\n",
       "      <td>0.080337</td>\n",
       "      <td>34565.338597</td>\n",
       "      <td>17724.659978</td>\n",
       "      <td>24988.581880</td>\n",
       "      <td>...</td>\n",
       "      <td>6718.373822</td>\n",
       "      <td>29461.063339</td>\n",
       "      <td>46880.178896</td>\n",
       "      <td>46880.178896</td>\n",
       "      <td>46880.178896</td>\n",
       "      <td>46880.178896</td>\n",
       "      <td>289.211426</td>\n",
       "      <td>289.211426</td>\n",
       "      <td>289.211426</td>\n",
       "      <td>289.211426</td>\n",
       "    </tr>\n",
       "    <tr>\n",
       "      <th>181</th>\n",
       "      <td>8.140772</td>\n",
       "      <td>POINT (-85.58292 11.21292)</td>\n",
       "      <td>new_obj_1867</td>\n",
       "      <td>3302.619854</td>\n",
       "      <td>181</td>\n",
       "      <td>396.314382</td>\n",
       "      <td>0.110087</td>\n",
       "      <td>34672.441553</td>\n",
       "      <td>17831.762935</td>\n",
       "      <td>25095.684836</td>\n",
       "      <td>...</td>\n",
       "      <td>6825.476778</td>\n",
       "      <td>29568.166295</td>\n",
       "      <td>46987.281852</td>\n",
       "      <td>46987.281852</td>\n",
       "      <td>46987.281852</td>\n",
       "      <td>46987.281852</td>\n",
       "      <td>396.314382</td>\n",
       "      <td>396.314382</td>\n",
       "      <td>396.314382</td>\n",
       "      <td>396.314382</td>\n",
       "    </tr>\n",
       "  </tbody>\n",
       "</table>\n",
       "<p>5 rows × 29 columns</p>\n",
       "</div>"
      ],
      "text/plain": [
       "             origin                                                         \\\n",
       "                Pop                    geometry            NN      NN_dist   \n",
       "pointid                                                                      \n",
       "177      265.947540  POINT (-85.61625 11.21292)  new_obj_1867   670.166343   \n",
       "178      197.396774  POINT (-85.60792 11.21292)  new_obj_1867   761.241509   \n",
       "179       33.114670  POINT (-85.59958 11.21292)  new_obj_1867  1538.168266   \n",
       "180       15.100848  POINT (-85.59125 11.21292)  new_obj_1867  2410.095218   \n",
       "181        8.140772  POINT (-85.58292 11.21292)  new_obj_1867  3302.619854   \n",
       "\n",
       "                                                       city                \\\n",
       "        pointid NN_dist_seconds NN_dist_hours             0             1   \n",
       "pointid                                                                     \n",
       "177         177       80.419961      0.022339  34356.547132  17515.868513   \n",
       "178         178       91.348981      0.025375  34367.476152  17526.797533   \n",
       "179         179      184.580192      0.051272  34460.707363  17620.028744   \n",
       "180         180      289.211426      0.080337  34565.338597  17724.659978   \n",
       "181         181      396.314382      0.110087  34672.441553  17831.762935   \n",
       "\n",
       "                       ...      airport                      border  \\\n",
       "                    2  ...           12            13            14   \n",
       "pointid                ...                                            \n",
       "177      24779.790414  ...  6509.582357  29252.271874  46671.387431   \n",
       "178      24790.719434  ...  6520.511377  29263.200894  46682.316451   \n",
       "179      24883.950645  ...  6613.742587  29356.432105  46775.547662   \n",
       "180      24988.581880  ...  6718.373822  29461.063339  46880.178896   \n",
       "181      25095.684836  ...  6825.476778  29568.166295  46987.281852   \n",
       "\n",
       "                                                                           \\\n",
       "                   15            16            17          18          19   \n",
       "pointid                                                                     \n",
       "177      46671.387431  46671.387431  46671.387431   80.419961   80.419961   \n",
       "178      46682.316451  46682.316451  46682.316451   91.348981   91.348981   \n",
       "179      46775.547662  46775.547662  46775.547662  184.580192  184.580192   \n",
       "180      46880.178896  46880.178896  46880.178896  289.211426  289.211426   \n",
       "181      46987.281852  46987.281852  46987.281852  396.314382  396.314382   \n",
       "\n",
       "                                 \n",
       "                 20          21  \n",
       "pointid                          \n",
       "177       80.419961   80.419961  \n",
       "178       91.348981   91.348981  \n",
       "179      184.580192  184.580192  \n",
       "180      289.211426  289.211426  \n",
       "181      396.314382  396.314382  \n",
       "\n",
       "[5 rows x 29 columns]"
      ]
     },
     "execution_count": 131,
     "metadata": {},
     "output_type": "execute_result"
    }
   ],
   "source": [
    "origins_join2.head()"
   ]
  },
  {
   "cell_type": "code",
   "execution_count": 133,
   "metadata": {},
   "outputs": [
    {
     "data": {
      "text/plain": [
       "'/home/wb514197/data/INFRA_SAP/CRI'"
      ]
     },
     "execution_count": 133,
     "metadata": {},
     "output_type": "execute_result"
    }
   ],
   "source": [
    "out_folder"
   ]
  },
  {
   "cell_type": "code",
   "execution_count": 134,
   "metadata": {},
   "outputs": [],
   "source": [
    "origins_join2.to_csv(os.path.join(out_folder, 'OD_08_03.csv'))"
   ]
  },
  {
   "cell_type": "code",
   "execution_count": 135,
   "metadata": {},
   "outputs": [],
   "source": [
    "od_cities = np.array(origins_join2['city'])"
   ]
  },
  {
   "cell_type": "markdown",
   "metadata": {},
   "source": [
    "### Calculate gravity"
   ]
  },
  {
   "cell_type": "code",
   "execution_count": 136,
   "metadata": {
    "scrolled": false
   },
   "outputs": [
    {
     "name": "stdout",
     "output_type": "stream",
     "text": [
      "CPU times: user 1min 14s, sys: 447 ms, total: 1min 15s\n",
      "Wall time: 1min 14s\n"
     ]
    }
   ],
   "source": [
    "%%time\n",
    "access_cities = calcOD.calculate_gravity(od_cities, dWeight = dest_all.Pop[origins_join2['city'].columns])"
   ]
  },
  {
   "cell_type": "code",
   "execution_count": 160,
   "metadata": {},
   "outputs": [],
   "source": [
    "access_cities.index = origins_join2.index"
   ]
  },
  {
   "cell_type": "code",
   "execution_count": 161,
   "metadata": {},
   "outputs": [],
   "source": [
    "access_cities_results = origins_snapped.join(access_cities).rename(columns = {\n",
    "        'd_0.01': 'd_1',\n",
    "        'd_0.005': 'd_2',\n",
    "        'd_0.001' : 'd_3',\n",
    "        'd_0.0007701635' : 'd_4',   # Market access halves every 15 mins\n",
    "        'd_0.0003850818' : 'd_5',   # Market access halves every 30 mins\n",
    "        'd_0.0001925409' : 'd_6',   # Market access halves every 60 mins\n",
    "        'd_9.62704e-05' : 'd_7',   # Market access halves every 120 mins\n",
    "        'd_3.85082e-05' : 'd_8',   # Market access halves every 300 mins\n",
    "        'd_1e-05' : 'd_9'\n",
    "    })"
   ]
  },
  {
   "cell_type": "markdown",
   "metadata": {},
   "source": [
    "#### Convert to raster and save results"
   ]
  },
  {
   "cell_type": "code",
   "execution_count": 162,
   "metadata": {},
   "outputs": [],
   "source": [
    "raster_path = wp_1km"
   ]
  },
  {
   "cell_type": "code",
   "execution_count": 163,
   "metadata": {},
   "outputs": [],
   "source": [
    "output_path = os.path.join(out_folder, \"access\")\n",
    "if not os.path.exists(output_path):\n",
    "    os.mkdir(output_path)"
   ]
  },
  {
   "cell_type": "code",
   "execution_count": 164,
   "metadata": {},
   "outputs": [
    {
     "data": {
      "text/plain": [
       "<matplotlib.axes._subplots.AxesSubplot at 0x7f688fefa5d0>"
      ]
     },
     "execution_count": 164,
     "metadata": {},
     "output_type": "execute_result"
    },
    {
     "data": {
      "image/png": "[encoded data removed]",
      "text/plain": [
       "<Figure size 504x504 with 1 Axes>"
      ]
     },
     "metadata": {
      "needs_background": "light"
     },
     "output_type": "display_data"
    }
   ],
   "source": [
    "access_cities_results.plot(column='d_7', figsize=(7,7), markersize=1)"
   ]
  },
  {
   "cell_type": "code",
   "execution_count": 165,
   "metadata": {},
   "outputs": [
    {
     "name": "stdout",
     "output_type": "stream",
     "text": [
      "writing 5\n",
      "writing 6\n",
      "writing 7\n",
      "writing 8\n",
      "writing 9\n"
     ]
    }
   ],
   "source": [
    "for d in range(5,10):\n",
    "    print(f'writing {d}')\n",
    "    aggregator.rasterize_gdf(access_cities_results, f'd_{d}', template=raster_path, outFile=os.path.join(output_path,f\"access_cities_d{d}.tif\"))"
   ]
  },
  {
   "cell_type": "markdown",
   "metadata": {},
   "source": [
    "### Make rasters of min travel time to each dest"
   ]
  },
  {
   "cell_type": "code",
   "execution_count": 166,
   "metadata": {},
   "outputs": [],
   "source": [
    "output_path = os.path.join(out_folder, \"travel_time\")\n",
    "if not os.path.exists(output_path):\n",
    "    os.mkdir(output_path)"
   ]
  },
  {
   "cell_type": "code",
   "execution_count": 191,
   "metadata": {},
   "outputs": [],
   "source": [
    "# CHECK THAT MOST POPULATED CITY IS THE CAPITAL\n",
    "cap_idx = dest_all.sort_values('Pop', ascending=False).iloc[[0]].index[0]"
   ]
  },
  {
   "cell_type": "code",
   "execution_count": 192,
   "metadata": {},
   "outputs": [],
   "source": [
    "city_min = pd.DataFrame(origins_join2['city'].min(axis=1).apply(lambda x: (x/3600)), columns=[\"tt_city\"])\n",
    "ports_min = pd.DataFrame(origins_join2['port'].min(axis=1).apply(lambda x: (x/3600)), columns=[\"tt_port\"])\n",
    "airports_min = pd.DataFrame(origins_join2['airport'].min(axis=1).apply(lambda x: (x/3600)), columns=[\"tt_airport\"])\n",
    "borders_min = pd.DataFrame(origins_join2['border'].min(axis=1).apply(lambda x: (x/3600)), columns=[\"tt_border\"])\n",
    "capital_tt = origins_join2['city'].loc[:,[cap_idx]].apply(lambda x: (x/3600)).rename(columns={cap_idx:'tt_capital'})"
   ]
  },
  {
   "cell_type": "code",
   "execution_count": 193,
   "metadata": {},
   "outputs": [],
   "source": [
    "origins_tt = origins_snapped.join([city_min, ports_min, airports_min, borders_min, capital_tt])"
   ]
  },
  {
   "cell_type": "code",
   "execution_count": 196,
   "metadata": {},
   "outputs": [],
   "source": [
    "aggregator.rasterize_gdf(origins_tt, 'tt_city', raster_path, os.path.join(output_path,f\"cities_min_tt.tif\"))\n",
    "aggregator.rasterize_gdf(origins_tt, 'tt_port', raster_path, os.path.join(output_path,f\"port_min_tt.tif\"))\n",
    "aggregator.rasterize_gdf(origins_tt, 'tt_airport', raster_path, os.path.join(output_path,f\"airport_min_tt.tif\"))\n",
    "aggregator.rasterize_gdf(origins_tt, 'tt_border', raster_path, os.path.join(output_path,f\"borders_min_tt.tif\"))\n",
    "aggregator.rasterize_gdf(origins_tt, 'tt_capital', raster_path, os.path.join(output_path,f\"capital_tt.tif\"))"
   ]
  }
 ],
 "metadata": {
  "kernelspec": {
   "display_name": "GEO",
   "language": "python",
   "name": "geo"
  },
  "language_info": {
   "codemirror_mode": {
    "name": "ipython",
    "version": 3
   },
   "file_extension": ".py",
   "mimetype": "text/x-python",
   "name": "python",
   "nbconvert_exporter": "python",
   "pygments_lexer": "ipython3",
   "version": "3.7.6"
  }
 },
 "nbformat": 4,
 "nbformat_minor": 2
}
