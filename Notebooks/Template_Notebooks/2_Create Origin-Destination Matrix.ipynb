{
 "cells": [
  {
   "cell_type": "markdown",
   "metadata": {},
   "source": [
    "## Access Maps for Paraguay"
   ]
  },
  {
   "cell_type": "markdown",
   "metadata": {},
   "source": [
    "- Origins: Population grid (Worldpop downsampled to 1km)\n",
    "- Destinations: Cities, airports, border crossings, and ports\n",
    "\n",
    "Typical access analysis with two adjustments:\n",
    "    1. Extract different sets of destinations from OD\n",
    "    2. Join travel time to origin grid based on \"NN with the fastest route\" (not necessarily closest NN)"
   ]
  },
  {
   "cell_type": "markdown",
   "metadata": {},
   "source": [
    "### Load origins and graph"
   ]
  },
  {
   "cell_type": "code",
   "execution_count": 1,
   "metadata": {},
   "outputs": [],
   "source": [
    "import os, sys, time, importlib\n",
    "\n",
    "import geopandas as gpd\n",
    "import pandas as pd\n",
    "import networkx as nx\n",
    "sys.path.append('/home/wb514197/Repos/GOSTnets')\n",
    "\n",
    "import GOSTnets as gn\n",
    "import rasterio as rio\n",
    "from osgeo import gdal\n",
    "import GOSTnets.calculate_od_raw as calcOD\n",
    "import numpy as np"
   ]
  },
  {
   "cell_type": "code",
   "execution_count": 2,
   "metadata": {},
   "outputs": [],
   "source": [
    "# This is a Jupyter Notebook extension which reloads all of the modules whenever you run the code\n",
    "# This is optional but good if you are modifying and testing source code\n",
    "%load_ext autoreload\n",
    "%autoreload 2"
   ]
  },
  {
   "cell_type": "code",
   "execution_count": 3,
   "metadata": {},
   "outputs": [],
   "source": [
    "# paths to data (copied form DataPreparation script)\n",
    "iso3 = \"PRY\"\n",
    "epsg = 32721\n",
    "base_out = \"/home/wb514197/data/INFRA_SAP\"\n",
    "#base_out = \"/home/public/Data/PROJECTS/INFRA_SAP\" #r\"J:\\Data\\PROJECTS\\INFRA_SAP\" GOT permission denied using public \n",
    "out_folder = os.path.join(base_out, iso3)\n",
    "if not os.path.exists(out_folder):\n",
    "    os.makedirs(out_folder)\n",
    "#define output data\n",
    "focal_admin2 = os.path.join(out_folder, \"admin.shp\")\n",
    "focal_osm = os.path.join(out_folder, \"paraguay-latest.osm.pbf\")\n",
    "wp_1km = os.path.join(out_folder, \"WP_2020_1km.tif\")\n",
    "urban_extents = os.path.join(out_folder, \"urban_extents.shp\")\n",
    "airports = os.path.join(out_folder, \"airports.shp\")\n",
    "ports = os.path.join(out_folder, \"ports.shp\")\n",
    "borders = os.path.join(out_folder, \"borders.shp\")"
   ]
  },
  {
   "cell_type": "markdown",
   "metadata": {},
   "source": [
    "TODO: Write code to turn **WP_2020_1km.tif** into a point shapefile, for now doing it in ARC :("
   ]
  },
  {
   "cell_type": "code",
   "execution_count": 8,
   "metadata": {},
   "outputs": [],
   "source": [
    "pop_file = os.path.join(out_folder, \"WP_2020_1km.shp\")\n",
    "G_path = '/home/public/Data/PROJECTS/LAC_GOSTNets/graphs/PRY/G_PRY.pickle'\n",
    "# global_admin = '/home/public/Data/GLOBAL/ADMIN/g2015_0_simplified.shp'"
   ]
  },
  {
   "cell_type": "code",
   "execution_count": 9,
   "metadata": {},
   "outputs": [
    {
     "name": "stdout",
     "output_type": "stream",
     "text": [
      "CPU times: user 9.59 s, sys: 304 ms, total: 9.9 s\n",
      "Wall time: 9.9 s\n"
     ]
    }
   ],
   "source": [
    "%%time\n",
    "origins = gpd.read_file(pop_file)"
   ]
  },
  {
   "cell_type": "markdown",
   "metadata": {},
   "source": [
    "### Prepare Graph"
   ]
  },
  {
   "cell_type": "code",
   "execution_count": 10,
   "metadata": {},
   "outputs": [],
   "source": [
    "G = nx.read_gpickle(G_path)"
   ]
  },
  {
   "cell_type": "code",
   "execution_count": 11,
   "metadata": {},
   "outputs": [],
   "source": [
    "for u, v, data in G.edges(data = True):\n",
    "    if type(data['Wkt']) == list:\n",
    "        data['Wkt'] = gn.unbundle_geometry(data['Wkt'])"
   ]
  },
  {
   "cell_type": "code",
   "execution_count": 13,
   "metadata": {},
   "outputs": [
    {
     "name": "stdout",
     "output_type": "stream",
     "text": [
      "(20, 27155, {'Wkt': 'LINESTRING (-58.9642359 -26.7886577, -58.9640267 -26.7855473, -58.9640437 -26.7853092, -58.9667331 -26.7773011, -58.968865 -26.7709322, -58.9721285 -26.7614295, -58.9767858 -26.7477964, -58.977327 -26.7461269, -58.9777862 -26.7454093, -58.9804101 -26.7425243, -58.9850959 -26.737514, -58.9876421 -26.7347914, -58.9958253 -26.7258862, -59.0029098 -26.7182108, -59.0082559 -26.7125564, -59.0116748 -26.708836)', 'id': 5253, 'infra_type': 'tertiary', 'osm_id': '117752729', 'key': 'edge_5253', 'length': 10.273043637188849, 'Type': 'legitimate'})\n"
     ]
    }
   ],
   "source": [
    "gn.example_edge(G)"
   ]
  },
  {
   "cell_type": "code",
   "execution_count": 15,
   "metadata": {},
   "outputs": [
    {
     "data": {
      "text/plain": [
       "['Wkt', 'id', 'infra_type', 'osm_id', 'key', 'length', 'Type']"
      ]
     },
     "execution_count": 15,
     "metadata": {},
     "output_type": "execute_result"
    }
   ],
   "source": [
    "all_attr = list(G[20][27155][0].keys())\n",
    "all_attr"
   ]
  },
  {
   "cell_type": "code",
   "execution_count": 16,
   "metadata": {},
   "outputs": [
    {
     "data": {
      "text/plain": [
       "['id', 'infra_type', 'osm_id', 'key', 'Type']"
      ]
     },
     "execution_count": 16,
     "metadata": {},
     "output_type": "execute_result"
    }
   ],
   "source": [
    "attr_list = ['id', 'infra_type', 'osm_id', 'key', 'Type']\n",
    "attr_list"
   ]
  },
  {
   "cell_type": "markdown",
   "metadata": {},
   "source": [
    "#### Salt Network"
   ]
  },
  {
   "cell_type": "code",
   "execution_count": 18,
   "metadata": {},
   "outputs": [
    {
     "name": "stdout",
     "output_type": "stream",
     "text": [
      "WARNING: \"factor behavior has changed! now divides rather than multiplies. This change brings gn.salt_long_lines into line with gn.convert_network_to_time\" \n"
     ]
    },
    {
     "name": "stderr",
     "output_type": "stream",
     "text": [
      "/home/wb514197/.conda/envs/geo/lib/python3.7/site-packages/pyproj/crs/crs.py:55: FutureWarning: '+init=<authority>:<code>' syntax is deprecated. '<authority>:<code>' is the preferred initialization method. When making the change, be mindful of axis order changes: https://pyproj4.github.io/pyproj/stable/gotchas.html#axis-order-changes-in-proj-6\n",
      "  return _prepare_from_string(\" \".join(pjargs))\n",
      "/home/wb514197/.conda/envs/geo/lib/python3.7/site-packages/pyproj/crs/crs.py:55: FutureWarning: '+init=<authority>:<code>' syntax is deprecated. '<authority>:<code>' is the preferred initialization method. When making the change, be mindful of axis order changes: https://pyproj4.github.io/pyproj/stable/gotchas.html#axis-order-changes-in-proj-6\n",
      "  return _prepare_from_string(\" \".join(pjargs))\n",
      "/home/wb514197/.conda/envs/geo/lib/python3.7/site-packages/pyproj/crs/crs.py:55: FutureWarning: '+init=<authority>:<code>' syntax is deprecated. '<authority>:<code>' is the preferred initialization method. When making the change, be mindful of axis order changes: https://pyproj4.github.io/pyproj/stable/gotchas.html#axis-order-changes-in-proj-6\n",
      "  return _prepare_from_string(\" \".join(pjargs))\n",
      "/home/wb514197/.conda/envs/geo/lib/python3.7/site-packages/pyproj/crs/crs.py:55: FutureWarning: '+init=<authority>:<code>' syntax is deprecated. '<authority>:<code>' is the preferred initialization method. When making the change, be mindful of axis order changes: https://pyproj4.github.io/pyproj/stable/gotchas.html#axis-order-changes-in-proj-6\n",
      "  return _prepare_from_string(\" \".join(pjargs))\n"
     ]
    },
    {
     "name": "stdout",
     "output_type": "stream",
     "text": [
      "Identified 2604 unique edge(s) longer than 5000. \n",
      "Beginning new node creation...\n",
      "24840 new edges added and 5208 removed to bring total edges to 47619\n",
      "9816 new nodes added to bring total nodes to 19117\n",
      "CPU times: user 9min 20s, sys: 20.7 s, total: 9min 40s\n",
      "Wall time: 9min 40s\n"
     ]
    }
   ],
   "source": [
    "%%time\n",
    "G_salt = gn.salt_long_lines(G, source='EPSG:4326', target='EPSG:32721', thresh=5000, factor=1000, attr_list=attr_list)"
   ]
  },
  {
   "cell_type": "code",
   "execution_count": 19,
   "metadata": {},
   "outputs": [],
   "source": [
    "G_time = gn.convert_network_to_time(G_salt, distance_tag = 'length', road_col = 'infra_type', factor = 1000)"
   ]
  },
  {
   "cell_type": "code",
   "execution_count": 23,
   "metadata": {},
   "outputs": [],
   "source": [
    "gn.save(G_time, \"G_PRY_Salt\", os.path.join(out_folder, 'graph'))"
   ]
  },
  {
   "cell_type": "markdown",
   "metadata": {},
   "source": [
    "#### Select largest graph (again)"
   ]
  },
  {
   "cell_type": "code",
   "execution_count": 24,
   "metadata": {},
   "outputs": [],
   "source": [
    "list_of_subgraphs = [G_time.subgraph(c).copy() for c in sorted(nx.strongly_connected_components(G_time), key=len, reverse=True)]"
   ]
  },
  {
   "cell_type": "code",
   "execution_count": 25,
   "metadata": {},
   "outputs": [],
   "source": [
    "G_largest = list_of_subgraphs[0]"
   ]
  },
  {
   "cell_type": "markdown",
   "metadata": {},
   "source": [
    "### Prepare destinations"
   ]
  },
  {
   "cell_type": "code",
   "execution_count": 27,
   "metadata": {},
   "outputs": [],
   "source": [
    "inCities = gpd.read_file(urban_extents)\n",
    "# inCities = gpd.read_file(cities).set_index(\"ID\").set_geometry(inCities.representative_point())"
   ]
  },
  {
   "cell_type": "code",
   "execution_count": 28,
   "metadata": {},
   "outputs": [
    {
     "data": {
      "text/html": [
       "<div>\n",
       "<style scoped>\n",
       "    .dataframe tbody tr th:only-of-type {\n",
       "        vertical-align: middle;\n",
       "    }\n",
       "\n",
       "    .dataframe tbody tr th {\n",
       "        vertical-align: top;\n",
       "    }\n",
       "\n",
       "    .dataframe thead th {\n",
       "        text-align: right;\n",
       "    }\n",
       "</style>\n",
       "<table border=\"1\" class=\"dataframe\">\n",
       "  <thead>\n",
       "    <tr style=\"text-align: right;\">\n",
       "      <th></th>\n",
       "      <th>ID</th>\n",
       "      <th>Pop</th>\n",
       "      <th>geometry</th>\n",
       "    </tr>\n",
       "  </thead>\n",
       "  <tbody>\n",
       "    <tr>\n",
       "      <th>0</th>\n",
       "      <td>0</td>\n",
       "      <td>7366.297852</td>\n",
       "      <td>POLYGON ((-56.52958 -22.09958, -56.51292 -22.0...</td>\n",
       "    </tr>\n",
       "    <tr>\n",
       "      <th>1</th>\n",
       "      <td>2</td>\n",
       "      <td>6080.110352</td>\n",
       "      <td>POLYGON ((-60.04625 -22.34125, -60.01292 -22.3...</td>\n",
       "    </tr>\n",
       "    <tr>\n",
       "      <th>2</th>\n",
       "      <td>3</td>\n",
       "      <td>89930.921875</td>\n",
       "      <td>POLYGON ((-55.75458 -22.47458, -55.73792 -22.4...</td>\n",
       "    </tr>\n",
       "    <tr>\n",
       "      <th>3</th>\n",
       "      <td>5</td>\n",
       "      <td>8367.864258</td>\n",
       "      <td>POLYGON ((-56.54625 -22.94958, -56.52125 -22.9...</td>\n",
       "    </tr>\n",
       "    <tr>\n",
       "      <th>4</th>\n",
       "      <td>7</td>\n",
       "      <td>8470.033203</td>\n",
       "      <td>POLYGON ((-55.54625 -23.24958, -55.51292 -23.2...</td>\n",
       "    </tr>\n",
       "  </tbody>\n",
       "</table>\n",
       "</div>"
      ],
      "text/plain": [
       "   ID           Pop                                           geometry\n",
       "0   0   7366.297852  POLYGON ((-56.52958 -22.09958, -56.51292 -22.0...\n",
       "1   2   6080.110352  POLYGON ((-60.04625 -22.34125, -60.01292 -22.3...\n",
       "2   3  89930.921875  POLYGON ((-55.75458 -22.47458, -55.73792 -22.4...\n",
       "3   5   8367.864258  POLYGON ((-56.54625 -22.94958, -56.52125 -22.9...\n",
       "4   7   8470.033203  POLYGON ((-55.54625 -23.24958, -55.51292 -23.2..."
      ]
     },
     "execution_count": 28,
     "metadata": {},
     "output_type": "execute_result"
    }
   ],
   "source": [
    "inCities.head()"
   ]
  },
  {
   "cell_type": "code",
   "execution_count": 29,
   "metadata": {},
   "outputs": [],
   "source": [
    "pop_thresh=50000\n",
    "inCities = inCities.loc[inCities.Pop>pop_thresh]\n",
    "inCities['geometry'] = inCities.geometry.centroid\n",
    "dest_cities = inCities.assign(dest_type = 'city')"
   ]
  },
  {
   "cell_type": "code",
   "execution_count": 30,
   "metadata": {},
   "outputs": [
    {
     "data": {
      "text/plain": [
       "8"
      ]
     },
     "execution_count": 30,
     "metadata": {},
     "output_type": "execute_result"
    }
   ],
   "source": [
    "len(dest_cities)"
   ]
  },
  {
   "cell_type": "code",
   "execution_count": null,
   "metadata": {},
   "outputs": [],
   "source": [
    "dest_airports = gpd.read_file(airports)"
   ]
  },
  {
   "cell_type": "code",
   "execution_count": 151,
   "metadata": {},
   "outputs": [
    {
     "data": {
      "text/plain": [
       "['Internacional',\n",
       " 'International',\n",
       " 'internacional',\n",
       " 'international',\n",
       " 'Guarani',\n",
       " 'Silvio']"
      ]
     },
     "execution_count": 151,
     "metadata": {},
     "output_type": "execute_result"
    }
   ],
   "source": [
    "searchfor = ['Internacional', 'International', 'internacional', 'international' , 'Guarani', 'Silvio']"
   ]
  },
  {
   "cell_type": "code",
   "execution_count": 71,
   "metadata": {
    "scrolled": true
   },
   "outputs": [
    {
     "data": {
      "text/html": [
       "<div>\n",
       "<style scoped>\n",
       "    .dataframe tbody tr th:only-of-type {\n",
       "        vertical-align: middle;\n",
       "    }\n",
       "\n",
       "    .dataframe tbody tr th {\n",
       "        vertical-align: top;\n",
       "    }\n",
       "\n",
       "    .dataframe thead th {\n",
       "        text-align: right;\n",
       "    }\n",
       "</style>\n",
       "<table border=\"1\" class=\"dataframe\">\n",
       "  <thead>\n",
       "    <tr style=\"text-align: right;\">\n",
       "      <th></th>\n",
       "      <th>OSM_ID</th>\n",
       "      <th>x</th>\n",
       "      <th>y</th>\n",
       "      <th>TYPE</th>\n",
       "      <th>Name</th>\n",
       "      <th>NameEN</th>\n",
       "      <th>TYPE2</th>\n",
       "      <th>geometry</th>\n",
       "    </tr>\n",
       "  </thead>\n",
       "  <tbody>\n",
       "    <tr>\n",
       "      <th>47</th>\n",
       "      <td>161854062</td>\n",
       "      <td>-60.620794</td>\n",
       "      <td>-22.047334</td>\n",
       "      <td>None</td>\n",
       "      <td>Dr. Luis Maria Argaña International Airport</td>\n",
       "      <td>None</td>\n",
       "      <td>None</td>\n",
       "      <td>POINT (-60.62079 -22.04733)</td>\n",
       "    </tr>\n",
       "    <tr>\n",
       "      <th>62</th>\n",
       "      <td>168157706</td>\n",
       "      <td>-55.830026</td>\n",
       "      <td>-22.640971</td>\n",
       "      <td>None</td>\n",
       "      <td>Aeropuerto Internacional Dr. Augusto Roberto F...</td>\n",
       "      <td>Dr. Augusto Roberto Fuster International Airport</td>\n",
       "      <td>None</td>\n",
       "      <td>POINT (-55.83003 -22.64097)</td>\n",
       "    </tr>\n",
       "  </tbody>\n",
       "</table>\n",
       "</div>"
      ],
      "text/plain": [
       "       OSM_ID          x          y  TYPE  \\\n",
       "47  161854062 -60.620794 -22.047334  None   \n",
       "62  168157706 -55.830026 -22.640971  None   \n",
       "\n",
       "                                                 Name  \\\n",
       "47        Dr. Luis Maria Argaña International Airport   \n",
       "62  Aeropuerto Internacional Dr. Augusto Roberto F...   \n",
       "\n",
       "                                              NameEN TYPE2  \\\n",
       "47                                              None  None   \n",
       "62  Dr. Augusto Roberto Fuster International Airport  None   \n",
       "\n",
       "                       geometry  \n",
       "47  POINT (-60.62079 -22.04733)  \n",
       "62  POINT (-55.83003 -22.64097)  "
      ]
     },
     "execution_count": 71,
     "metadata": {},
     "output_type": "execute_result"
    }
   ],
   "source": [
    "dest_airports[dest_airports.Name.str.contains('|'.join(searchfor)).fillna(False)]"
   ]
  },
  {
   "cell_type": "markdown",
   "metadata": {},
   "source": [
    "See issue with this: https://github.com/worldbank/INFRA_SAP/issues/9"
   ]
  },
  {
   "cell_type": "code",
   "execution_count": 79,
   "metadata": {},
   "outputs": [],
   "source": [
    "airports_turbo = os.path.join(out_folder, 'airports_turbo.geojson')\n",
    "dest_airports = gpd.read_file(airports_turbo)"
   ]
  },
  {
   "cell_type": "code",
   "execution_count": 80,
   "metadata": {},
   "outputs": [
    {
     "data": {
      "text/plain": [
       "2"
      ]
     },
     "execution_count": 80,
     "metadata": {},
     "output_type": "execute_result"
    }
   ],
   "source": [
    "dest_airports['geometry'] = dest_airports.geometry.centroid\n",
    "dest_airports = dest_airports.assign(dest_type = 'airport')\n",
    "len(dest_airports)"
   ]
  },
  {
   "cell_type": "code",
   "execution_count": 104,
   "metadata": {},
   "outputs": [],
   "source": [
    "dest_ports = gpd.read_file(ports).assign(dest_type = 'port')\n",
    "dest_borders = gpd.read_file(borders).assign(dest_type = 'border')\n",
    "dest_borders['geometry'] = dest_borders.geometry.apply(lambda x: x[0])"
   ]
  },
  {
   "cell_type": "code",
   "execution_count": 105,
   "metadata": {
    "scrolled": true
   },
   "outputs": [],
   "source": [
    "dest_all = pd.concat([dest_cities, dest_ports, dest_airports, dest_borders], ignore_index=True)"
   ]
  },
  {
   "cell_type": "code",
   "execution_count": 106,
   "metadata": {},
   "outputs": [
    {
     "data": {
      "text/plain": [
       "port       55\n",
       "border     24\n",
       "city        8\n",
       "airport     2\n",
       "Name: dest_type, dtype: int64"
      ]
     },
     "execution_count": 106,
     "metadata": {},
     "output_type": "execute_result"
    }
   ],
   "source": [
    "dest_all.dest_type.value_counts()"
   ]
  },
  {
   "cell_type": "code",
   "execution_count": 107,
   "metadata": {},
   "outputs": [
    {
     "data": {
      "text/plain": [
       "Index(['ID', 'Pop', 'geometry', 'dest_type', 'OSM_ID', 'x', 'y', 'id', '@id',\n",
       "       'addr:city', 'addr:postcode', 'addr:street', 'aeroway', 'ele', 'iata',\n",
       "       'icao', 'internet_access', 'name', 'name:en', 'operator', 'type',\n",
       "       'wikidata', 'wikipedia', 'int_name', 'is_in:city', 'is_in:country',\n",
       "       'is_in:state', 'CNTRY_NAME', 'NAME', 'ALT1_NAME', 'ALT2_NAME', 'ETYPE',\n",
       "       'CNTRY_BORD'],\n",
       "      dtype='object')"
      ]
     },
     "execution_count": 107,
     "metadata": {},
     "output_type": "execute_result"
    }
   ],
   "source": [
    "dest_all.columns"
   ]
  },
  {
   "cell_type": "code",
   "execution_count": 108,
   "metadata": {},
   "outputs": [],
   "source": [
    "dest_all = dest_all[['ID', 'Pop', 'geometry', 'id', 'name', 'NAME', 'dest_type']]"
   ]
  },
  {
   "cell_type": "code",
   "execution_count": 109,
   "metadata": {},
   "outputs": [],
   "source": [
    "output_path = os.path.join(out_folder,'out')"
   ]
  },
  {
   "cell_type": "code",
   "execution_count": 110,
   "metadata": {},
   "outputs": [],
   "source": [
    "dest_all.to_csv(os.path.join(output_path, 'destination_all.csv'))"
   ]
  },
  {
   "cell_type": "code",
   "execution_count": 111,
   "metadata": {},
   "outputs": [
    {
     "data": {
      "text/plain": [
       "(508184, 89)"
      ]
     },
     "execution_count": 111,
     "metadata": {},
     "output_type": "execute_result"
    }
   ],
   "source": [
    "len(origins), len(dest_all)"
   ]
  },
  {
   "cell_type": "markdown",
   "metadata": {},
   "source": [
    "### Snap origins and destinations"
   ]
  },
  {
   "cell_type": "markdown",
   "metadata": {},
   "source": [
    "#### Snap to origins to 5 nearest nodes"
   ]
  },
  {
   "cell_type": "code",
   "execution_count": 98,
   "metadata": {},
   "outputs": [],
   "source": [
    "utm = f\"EPSG:{epsg}\""
   ]
  },
  {
   "cell_type": "code",
   "execution_count": 101,
   "metadata": {},
   "outputs": [
    {
     "name": "stdout",
     "output_type": "stream",
     "text": [
      "CPU times: user 1min 15s, sys: 823 ms, total: 1min 16s\n",
      "Wall time: 1min 15s\n"
     ]
    }
   ],
   "source": [
    "%%time\n",
    "# this function returns a dictionary of origin IDs, with a list of 5 NNs, and a corresponding list of distances\n",
    "origins_snapped_dict = gn.pandana_snap_to_many(G_largest, origins, source_crs='epsg:4326', target_crs=utm, \n",
    "                                               add_dist_to_node_col = True, k_nearest=5, origin_id='pointid')"
   ]
  },
  {
   "cell_type": "code",
   "execution_count": 112,
   "metadata": {},
   "outputs": [],
   "source": [
    "dest_snapped = gn.pandana_snap_c(G_largest, dest_all, source_crs='epsg:4326', target_crs=utm,\n",
    "                                 add_dist_to_node_col = False)"
   ]
  },
  {
   "cell_type": "code",
   "execution_count": 113,
   "metadata": {},
   "outputs": [],
   "source": [
    "# origins_unique_nn = list(set(origins_snapped['NN']))\n",
    "dest_nn = list(dest_snapped['NN'])"
   ]
  },
  {
   "cell_type": "code",
   "execution_count": 114,
   "metadata": {},
   "outputs": [],
   "source": [
    "list_origins_NN = []\n",
    "for each in origins_snapped_dict.values():\n",
    "    list_origins_NN += each['NN']"
   ]
  },
  {
   "cell_type": "code",
   "execution_count": 115,
   "metadata": {},
   "outputs": [],
   "source": [
    "origins_unique_nn = list(set(list_origins_NN))"
   ]
  },
  {
   "cell_type": "code",
   "execution_count": 116,
   "metadata": {},
   "outputs": [
    {
     "data": {
      "text/plain": [
       "6117"
      ]
     },
     "execution_count": 116,
     "metadata": {},
     "output_type": "execute_result"
    }
   ],
   "source": [
    "len(set(origins_unique_nn))"
   ]
  },
  {
   "cell_type": "code",
   "execution_count": 117,
   "metadata": {},
   "outputs": [
    {
     "name": "stdout",
     "output_type": "stream",
     "text": [
      "CPU times: user 6.89 s, sys: 1.86 ms, total: 6.89 s\n",
      "Wall time: 6.89 s\n"
     ]
    }
   ],
   "source": [
    "%%time\n",
    "curOD = gn.calculate_OD(G_largest, origins_unique_nn, dest_nn, fail_value = 999999999)"
   ]
  },
  {
   "cell_type": "code",
   "execution_count": 118,
   "metadata": {},
   "outputs": [
    {
     "data": {
      "text/plain": [
       "array([], dtype=float64)"
      ]
     },
     "execution_count": 118,
     "metadata": {},
     "output_type": "execute_result"
    }
   ],
   "source": [
    "curOD[curOD==999999999]"
   ]
  },
  {
   "cell_type": "code",
   "execution_count": 119,
   "metadata": {},
   "outputs": [
    {
     "data": {
      "text/plain": [
       "(6117, 89)"
      ]
     },
     "execution_count": 119,
     "metadata": {},
     "output_type": "execute_result"
    }
   ],
   "source": [
    "curOD.shape"
   ]
  },
  {
   "cell_type": "code",
   "execution_count": 120,
   "metadata": {},
   "outputs": [],
   "source": [
    "od_df = pd.DataFrame(curOD, index=origins_unique_nn, columns=dest_nn)"
   ]
  },
  {
   "cell_type": "code",
   "execution_count": 35,
   "metadata": {},
   "outputs": [
    {
     "data": {
      "text/html": [
       "<div>\n",
       "<style scoped>\n",
       "    .dataframe tbody tr th:only-of-type {\n",
       "        vertical-align: middle;\n",
       "    }\n",
       "\n",
       "    .dataframe tbody tr th {\n",
       "        vertical-align: top;\n",
       "    }\n",
       "\n",
       "    .dataframe thead th {\n",
       "        text-align: right;\n",
       "    }\n",
       "</style>\n",
       "<table border=\"1\" class=\"dataframe\">\n",
       "  <thead>\n",
       "    <tr style=\"text-align: right;\">\n",
       "      <th></th>\n",
       "      <th>2074</th>\n",
       "      <th>2046</th>\n",
       "      <th>2008</th>\n",
       "      <th>1975</th>\n",
       "      <th>1249</th>\n",
       "      <th>2042</th>\n",
       "      <th>542</th>\n",
       "      <th>158</th>\n",
       "      <th>2082</th>\n",
       "      <th>122</th>\n",
       "      <th>...</th>\n",
       "      <th>1982</th>\n",
       "      <th>1324</th>\n",
       "      <th>2002</th>\n",
       "      <th>1887_387_1841</th>\n",
       "      <th>2167</th>\n",
       "      <th>2105</th>\n",
       "      <th>2095</th>\n",
       "      <th>498</th>\n",
       "      <th>1870</th>\n",
       "      <th>2161</th>\n",
       "    </tr>\n",
       "  </thead>\n",
       "  <tbody>\n",
       "    <tr>\n",
       "      <th>0</th>\n",
       "      <td>46708.184609</td>\n",
       "      <td>45896.976962</td>\n",
       "      <td>35703.024128</td>\n",
       "      <td>32283.356211</td>\n",
       "      <td>3289.716595</td>\n",
       "      <td>46164.324746</td>\n",
       "      <td>3683.631731</td>\n",
       "      <td>18922.625091</td>\n",
       "      <td>55457.261177</td>\n",
       "      <td>18393.651767</td>\n",
       "      <td>...</td>\n",
       "      <td>34994.917835</td>\n",
       "      <td>1859.317539</td>\n",
       "      <td>36173.430527</td>\n",
       "      <td>25128.159106</td>\n",
       "      <td>58650.150923</td>\n",
       "      <td>29884.112546</td>\n",
       "      <td>55160.603401</td>\n",
       "      <td>34165.688243</td>\n",
       "      <td>25508.187465</td>\n",
       "      <td>46780.840541</td>\n",
       "    </tr>\n",
       "    <tr>\n",
       "      <th>1</th>\n",
       "      <td>37063.015714</td>\n",
       "      <td>53493.353108</td>\n",
       "      <td>49239.577422</td>\n",
       "      <td>9851.361953</td>\n",
       "      <td>25107.930053</td>\n",
       "      <td>53760.700893</td>\n",
       "      <td>25646.284300</td>\n",
       "      <td>40592.192708</td>\n",
       "      <td>45812.092282</td>\n",
       "      <td>40063.219384</td>\n",
       "      <td>...</td>\n",
       "      <td>49195.968735</td>\n",
       "      <td>23981.154157</td>\n",
       "      <td>49001.860962</td>\n",
       "      <td>19010.394733</td>\n",
       "      <td>62420.602282</td>\n",
       "      <td>50253.051417</td>\n",
       "      <td>45515.434506</td>\n",
       "      <td>11754.897636</td>\n",
       "      <td>47177.755081</td>\n",
       "      <td>37135.671646</td>\n",
       "    </tr>\n",
       "    <tr>\n",
       "      <th>2</th>\n",
       "      <td>53939.854378</td>\n",
       "      <td>53128.646731</td>\n",
       "      <td>42934.693898</td>\n",
       "      <td>31590.746384</td>\n",
       "      <td>11056.444790</td>\n",
       "      <td>53395.994516</td>\n",
       "      <td>11450.359926</td>\n",
       "      <td>26689.353286</td>\n",
       "      <td>62688.930946</td>\n",
       "      <td>26160.379962</td>\n",
       "      <td>...</td>\n",
       "      <td>42226.587605</td>\n",
       "      <td>9626.045734</td>\n",
       "      <td>43405.100296</td>\n",
       "      <td>19340.539955</td>\n",
       "      <td>65881.820693</td>\n",
       "      <td>37115.782315</td>\n",
       "      <td>62392.273170</td>\n",
       "      <td>33473.078416</td>\n",
       "      <td>33274.915659</td>\n",
       "      <td>54012.510310</td>\n",
       "    </tr>\n",
       "    <tr>\n",
       "      <th>3</th>\n",
       "      <td>43198.476919</td>\n",
       "      <td>23016.066636</td>\n",
       "      <td>12822.113802</td>\n",
       "      <td>51464.070942</td>\n",
       "      <td>25104.731891</td>\n",
       "      <td>23283.414420</td>\n",
       "      <td>25182.690886</td>\n",
       "      <td>16222.205490</td>\n",
       "      <td>46446.145283</td>\n",
       "      <td>16680.163514</td>\n",
       "      <td>...</td>\n",
       "      <td>12114.007509</td>\n",
       "      <td>26288.800235</td>\n",
       "      <td>13292.520201</td>\n",
       "      <td>52195.979054</td>\n",
       "      <td>35769.240597</td>\n",
       "      <td>2887.749041</td>\n",
       "      <td>46951.000906</td>\n",
       "      <td>59575.760138</td>\n",
       "      <td>9202.575958</td>\n",
       "      <td>43271.132851</td>\n",
       "    </tr>\n",
       "    <tr>\n",
       "      <th>4</th>\n",
       "      <td>36573.785808</td>\n",
       "      <td>39808.924847</td>\n",
       "      <td>29614.972013</td>\n",
       "      <td>38156.988660</td>\n",
       "      <td>7913.038641</td>\n",
       "      <td>40076.272631</td>\n",
       "      <td>8370.695562</td>\n",
       "      <td>16935.245081</td>\n",
       "      <td>45322.862376</td>\n",
       "      <td>16406.271757</td>\n",
       "      <td>...</td>\n",
       "      <td>28906.865720</td>\n",
       "      <td>8857.047092</td>\n",
       "      <td>30085.378411</td>\n",
       "      <td>34727.499481</td>\n",
       "      <td>52562.098808</td>\n",
       "      <td>26596.103790</td>\n",
       "      <td>45026.204600</td>\n",
       "      <td>40106.868545</td>\n",
       "      <td>23520.807455</td>\n",
       "      <td>36646.441740</td>\n",
       "    </tr>\n",
       "  </tbody>\n",
       "</table>\n",
       "<p>5 rows × 23 columns</p>\n",
       "</div>"
      ],
      "text/plain": [
       "           2074          2046          2008          1975          1249  \\\n",
       "0  46708.184609  45896.976962  35703.024128  32283.356211   3289.716595   \n",
       "1  37063.015714  53493.353108  49239.577422   9851.361953  25107.930053   \n",
       "2  53939.854378  53128.646731  42934.693898  31590.746384  11056.444790   \n",
       "3  43198.476919  23016.066636  12822.113802  51464.070942  25104.731891   \n",
       "4  36573.785808  39808.924847  29614.972013  38156.988660   7913.038641   \n",
       "\n",
       "           2042           542           158          2082           122  ...  \\\n",
       "0  46164.324746   3683.631731  18922.625091  55457.261177  18393.651767  ...   \n",
       "1  53760.700893  25646.284300  40592.192708  45812.092282  40063.219384  ...   \n",
       "2  53395.994516  11450.359926  26689.353286  62688.930946  26160.379962  ...   \n",
       "3  23283.414420  25182.690886  16222.205490  46446.145283  16680.163514  ...   \n",
       "4  40076.272631   8370.695562  16935.245081  45322.862376  16406.271757  ...   \n",
       "\n",
       "           1982          1324          2002  1887_387_1841          2167  \\\n",
       "0  34994.917835   1859.317539  36173.430527   25128.159106  58650.150923   \n",
       "1  49195.968735  23981.154157  49001.860962   19010.394733  62420.602282   \n",
       "2  42226.587605   9626.045734  43405.100296   19340.539955  65881.820693   \n",
       "3  12114.007509  26288.800235  13292.520201   52195.979054  35769.240597   \n",
       "4  28906.865720   8857.047092  30085.378411   34727.499481  52562.098808   \n",
       "\n",
       "           2105          2095           498          1870          2161  \n",
       "0  29884.112546  55160.603401  34165.688243  25508.187465  46780.840541  \n",
       "1  50253.051417  45515.434506  11754.897636  47177.755081  37135.671646  \n",
       "2  37115.782315  62392.273170  33473.078416  33274.915659  54012.510310  \n",
       "3   2887.749041  46951.000906  59575.760138   9202.575958  43271.132851  \n",
       "4  26596.103790  45026.204600  40106.868545  23520.807455  36646.441740  \n",
       "\n",
       "[5 rows x 23 columns]"
      ]
     },
     "execution_count": 35,
     "metadata": {},
     "output_type": "execute_result"
    }
   ],
   "source": [
    "od_df.head()"
   ]
  },
  {
   "cell_type": "markdown",
   "metadata": {},
   "source": [
    "For each origin set of 5 (k) possible NN:\n",
    "    - Add snapping dist (in time) + time to a destination\n",
    "    - Which destination? min time from all of them won't necessarily work, so we need to find the closest destination for each origin, and select the NN which yields the fastest travel time to that dest\n",
    "    - closest_dest.idx should match the OD column order."
   ]
  },
  {
   "cell_type": "code",
   "execution_count": 121,
   "metadata": {},
   "outputs": [
    {
     "name": "stdout",
     "output_type": "stream",
     "text": [
      "CPU times: user 26 s, sys: 148 ms, total: 26.2 s\n",
      "Wall time: 26.2 s\n"
     ]
    }
   ],
   "source": [
    "%%time\n",
    "closest_dest = gn.pandana_snap_points(origins, dest_all, source_crs='epsg:4326', target_crs=utm,\n",
    "                                      add_dist_to_node_col=True)"
   ]
  },
  {
   "cell_type": "code",
   "execution_count": 122,
   "metadata": {},
   "outputs": [],
   "source": [
    "closest_dest = closest_dest.set_index('pointid')"
   ]
  },
  {
   "cell_type": "code",
   "execution_count": 123,
   "metadata": {},
   "outputs": [
    {
     "data": {
      "text/html": [
       "<div>\n",
       "<style scoped>\n",
       "    .dataframe tbody tr th:only-of-type {\n",
       "        vertical-align: middle;\n",
       "    }\n",
       "\n",
       "    .dataframe tbody tr th {\n",
       "        vertical-align: top;\n",
       "    }\n",
       "\n",
       "    .dataframe thead th {\n",
       "        text-align: right;\n",
       "    }\n",
       "</style>\n",
       "<table border=\"1\" class=\"dataframe\">\n",
       "  <thead>\n",
       "    <tr style=\"text-align: right;\">\n",
       "      <th></th>\n",
       "      <th>grid_code</th>\n",
       "      <th>geometry</th>\n",
       "      <th>idx</th>\n",
       "      <th>idx_dist</th>\n",
       "    </tr>\n",
       "    <tr>\n",
       "      <th>pointid</th>\n",
       "      <th></th>\n",
       "      <th></th>\n",
       "      <th></th>\n",
       "      <th></th>\n",
       "    </tr>\n",
       "  </thead>\n",
       "  <tbody>\n",
       "    <tr>\n",
       "      <th>1</th>\n",
       "      <td>0.023788</td>\n",
       "      <td>POINT (183778.061 7863739.501)</td>\n",
       "      <td>14</td>\n",
       "      <td>223718.408563</td>\n",
       "    </tr>\n",
       "    <tr>\n",
       "      <th>2</th>\n",
       "      <td>0.027599</td>\n",
       "      <td>POINT (184654.532 7863754.703)</td>\n",
       "      <td>14</td>\n",
       "      <td>222953.988701</td>\n",
       "    </tr>\n",
       "    <tr>\n",
       "      <th>3</th>\n",
       "      <td>0.023359</td>\n",
       "      <td>POINT (185530.998 7863769.862)</td>\n",
       "      <td>14</td>\n",
       "      <td>222190.381820</td>\n",
       "    </tr>\n",
       "    <tr>\n",
       "      <th>4</th>\n",
       "      <td>0.017465</td>\n",
       "      <td>POINT (186407.458 7863784.979)</td>\n",
       "      <td>14</td>\n",
       "      <td>221427.596247</td>\n",
       "    </tr>\n",
       "    <tr>\n",
       "      <th>5</th>\n",
       "      <td>0.020155</td>\n",
       "      <td>POINT (187283.914 7863800.054)</td>\n",
       "      <td>14</td>\n",
       "      <td>220665.640418</td>\n",
       "    </tr>\n",
       "  </tbody>\n",
       "</table>\n",
       "</div>"
      ],
      "text/plain": [
       "         grid_code                        geometry  idx       idx_dist\n",
       "pointid                                                               \n",
       "1         0.023788  POINT (183778.061 7863739.501)   14  223718.408563\n",
       "2         0.027599  POINT (184654.532 7863754.703)   14  222953.988701\n",
       "3         0.023359  POINT (185530.998 7863769.862)   14  222190.381820\n",
       "4         0.017465  POINT (186407.458 7863784.979)   14  221427.596247\n",
       "5         0.020155  POINT (187283.914 7863800.054)   14  220665.640418"
      ]
     },
     "execution_count": 123,
     "metadata": {},
     "output_type": "execute_result"
    }
   ],
   "source": [
    "closest_dest.head()"
   ]
  },
  {
   "cell_type": "code",
   "execution_count": 124,
   "metadata": {},
   "outputs": [],
   "source": [
    "custom_speed = 20 # km/h"
   ]
  },
  {
   "cell_type": "code",
   "execution_count": 125,
   "metadata": {},
   "outputs": [
    {
     "name": "stdout",
     "output_type": "stream",
     "text": [
      "CPU times: user 5min 49s, sys: 183 ms, total: 5min 49s\n",
      "Wall time: 5min 49s\n"
     ]
    }
   ],
   "source": [
    "%%time\n",
    "fastest_nn = []\n",
    "fastest_dist = []\n",
    "\n",
    "for pointid, items in origins_snapped_dict.items():\n",
    "    dest_index = closest_dest.loc[pointid].idx\n",
    "    nn_list = items['NN']\n",
    "    dist_list = items['NN_dist']\n",
    "    total_time_list = []\n",
    "    for i in range(0, len(nn_list)):\n",
    "        time_snapping = ((dist_list[i] / 1000) / custom_speed) * 60 * 60\n",
    "        #time_to_dest = od_df.loc[nn_list[i]].min()\n",
    "        time_to_dest = od_df.loc[nn_list[i]].iloc[dest_index]\n",
    "        total_time = time_snapping+time_to_dest\n",
    "        total_time_list.append(total_time)\n",
    "#         print(f\"id: {nn_list[i]}, snapping dist (km): {dist_list[i]/1000:.2f}, time to dest (min): {(total_time/60)/60:.2f}\")\n",
    "    min_pos = total_time_list.index(min(total_time_list))\n",
    "    fastest_nn.append(nn_list[min_pos])\n",
    "    fastest_dist.append(dist_list[min_pos])\n",
    "#     origins_snapped_smart.loc[pointid, \"NN\"] = nn_list[min_pos]\n",
    "#     origins_snapped_smart.loc[pointid, \"NN_dist\"] = dist_list[min_pos]"
   ]
  },
  {
   "cell_type": "code",
   "execution_count": 126,
   "metadata": {},
   "outputs": [],
   "source": [
    "origins_snapped_smart = origins.copy().set_index('pointid')"
   ]
  },
  {
   "cell_type": "code",
   "execution_count": 127,
   "metadata": {},
   "outputs": [],
   "source": [
    "origins_snapped_smart['NN'] = pd.Series(fastest_nn, index = origins_snapped_smart.index)\n",
    "origins_snapped_smart['NN_dist'] = pd.Series(fastest_dist, index = origins_snapped_smart.index)"
   ]
  },
  {
   "cell_type": "code",
   "execution_count": 128,
   "metadata": {},
   "outputs": [
    {
     "data": {
      "text/html": [
       "<div>\n",
       "<style scoped>\n",
       "    .dataframe tbody tr th:only-of-type {\n",
       "        vertical-align: middle;\n",
       "    }\n",
       "\n",
       "    .dataframe tbody tr th {\n",
       "        vertical-align: top;\n",
       "    }\n",
       "\n",
       "    .dataframe thead th {\n",
       "        text-align: right;\n",
       "    }\n",
       "</style>\n",
       "<table border=\"1\" class=\"dataframe\">\n",
       "  <thead>\n",
       "    <tr style=\"text-align: right;\">\n",
       "      <th></th>\n",
       "      <th>grid_code</th>\n",
       "      <th>geometry</th>\n",
       "      <th>NN</th>\n",
       "      <th>NN_dist</th>\n",
       "    </tr>\n",
       "    <tr>\n",
       "      <th>pointid</th>\n",
       "      <th></th>\n",
       "      <th></th>\n",
       "      <th></th>\n",
       "      <th></th>\n",
       "    </tr>\n",
       "  </thead>\n",
       "  <tbody>\n",
       "    <tr>\n",
       "      <th>1</th>\n",
       "      <td>0.023788</td>\n",
       "      <td>POINT (-60.00875 -19.29542)</td>\n",
       "      <td>6668_533_2721</td>\n",
       "      <td>72124.911609</td>\n",
       "    </tr>\n",
       "    <tr>\n",
       "      <th>2</th>\n",
       "      <td>0.027599</td>\n",
       "      <td>POINT (-60.00042 -19.29542)</td>\n",
       "      <td>6668_533_2721</td>\n",
       "      <td>72785.491551</td>\n",
       "    </tr>\n",
       "    <tr>\n",
       "      <th>3</th>\n",
       "      <td>0.023359</td>\n",
       "      <td>POINT (-59.99208 -19.29542)</td>\n",
       "      <td>6668_533_2721</td>\n",
       "      <td>73450.560639</td>\n",
       "    </tr>\n",
       "    <tr>\n",
       "      <th>4</th>\n",
       "      <td>0.017465</td>\n",
       "      <td>POINT (-59.98375 -19.29542)</td>\n",
       "      <td>6668_533_2721</td>\n",
       "      <td>74119.997833</td>\n",
       "    </tr>\n",
       "    <tr>\n",
       "      <th>5</th>\n",
       "      <td>0.020155</td>\n",
       "      <td>POINT (-59.97542 -19.29542)</td>\n",
       "      <td>6668_533_2721</td>\n",
       "      <td>74793.685643</td>\n",
       "    </tr>\n",
       "  </tbody>\n",
       "</table>\n",
       "</div>"
      ],
      "text/plain": [
       "         grid_code                     geometry             NN       NN_dist\n",
       "pointid                                                                     \n",
       "1         0.023788  POINT (-60.00875 -19.29542)  6668_533_2721  72124.911609\n",
       "2         0.027599  POINT (-60.00042 -19.29542)  6668_533_2721  72785.491551\n",
       "3         0.023359  POINT (-59.99208 -19.29542)  6668_533_2721  73450.560639\n",
       "4         0.017465  POINT (-59.98375 -19.29542)  6668_533_2721  74119.997833\n",
       "5         0.020155  POINT (-59.97542 -19.29542)  6668_533_2721  74793.685643"
      ]
     },
     "execution_count": 128,
     "metadata": {},
     "output_type": "execute_result"
    }
   ],
   "source": [
    "origins_snapped_smart.head()"
   ]
  },
  {
   "cell_type": "code",
   "execution_count": 129,
   "metadata": {},
   "outputs": [],
   "source": [
    "origins_snapped_smart['pointid'] = origins_snapped_smart.index"
   ]
  },
  {
   "cell_type": "code",
   "execution_count": 130,
   "metadata": {},
   "outputs": [],
   "source": [
    "origins_snapped = origins_snapped_smart.copy()"
   ]
  },
  {
   "cell_type": "code",
   "execution_count": 131,
   "metadata": {},
   "outputs": [],
   "source": [
    "custom_speed = 20 # km/h\n",
    "origins_snapped['NN_dist_seconds'] = ((origins_snapped.NN_dist / 1000) / custom_speed) * 60 * 60\n",
    "origins_snapped['NN_dist_hours'] = ((origins_snapped.NN_dist / 1000) / custom_speed)"
   ]
  },
  {
   "cell_type": "code",
   "execution_count": 132,
   "metadata": {},
   "outputs": [
    {
     "data": {
      "text/plain": [
       "<matplotlib.axes._subplots.AxesSubplot at 0x7f4f6cbecc90>"
      ]
     },
     "execution_count": 132,
     "metadata": {},
     "output_type": "execute_result"
    },
    {
     "data": {
      "image/png": "[encoded data removed]",
      "text/plain": [
       "<Figure size 432x288 with 1 Axes>"
      ]
     },
     "metadata": {
      "needs_background": "light"
     },
     "output_type": "display_data"
    }
   ],
   "source": [
    "origins_snapped.NN_dist.apply(lambda x: x/1000).hist()"
   ]
  },
  {
   "cell_type": "code",
   "execution_count": 133,
   "metadata": {},
   "outputs": [
    {
     "data": {
      "text/plain": [
       "<matplotlib.axes._subplots.AxesSubplot at 0x7f4f6ca1e250>"
      ]
     },
     "execution_count": 133,
     "metadata": {},
     "output_type": "execute_result"
    },
    {
     "data": {
      "image/png": "[encoded data removed]",
      "text/plain": [
       "<Figure size 432x288 with 1 Axes>"
      ]
     },
     "metadata": {
      "needs_background": "light"
     },
     "output_type": "display_data"
    }
   ],
   "source": [
    "origins_snapped.NN_dist_hours.hist()"
   ]
  },
  {
   "cell_type": "code",
   "execution_count": 134,
   "metadata": {},
   "outputs": [],
   "source": [
    "origins_join = origins_snapped.join(od_df, on='NN')"
   ]
  },
  {
   "cell_type": "code",
   "execution_count": 135,
   "metadata": {
    "scrolled": true
   },
   "outputs": [
    {
     "data": {
      "text/html": [
       "<div>\n",
       "<style scoped>\n",
       "    .dataframe tbody tr th:only-of-type {\n",
       "        vertical-align: middle;\n",
       "    }\n",
       "\n",
       "    .dataframe tbody tr th {\n",
       "        vertical-align: top;\n",
       "    }\n",
       "\n",
       "    .dataframe thead th {\n",
       "        text-align: right;\n",
       "    }\n",
       "</style>\n",
       "<table border=\"1\" class=\"dataframe\">\n",
       "  <thead>\n",
       "    <tr style=\"text-align: right;\">\n",
       "      <th></th>\n",
       "      <th>grid_code</th>\n",
       "      <th>geometry</th>\n",
       "      <th>NN</th>\n",
       "      <th>NN_dist</th>\n",
       "      <th>pointid</th>\n",
       "      <th>NN_dist_seconds</th>\n",
       "      <th>NN_dist_hours</th>\n",
       "      <th>new_obj_6434</th>\n",
       "      <th>new_obj_6039</th>\n",
       "      <th>37299</th>\n",
       "      <th>...</th>\n",
       "      <th>new_obj_6354</th>\n",
       "      <th>new_obj_6354</th>\n",
       "      <th>new_obj_6121</th>\n",
       "      <th>new_obj_6121</th>\n",
       "      <th>new_obj_6421</th>\n",
       "      <th>new_obj_6421</th>\n",
       "      <th>new_obj_3379</th>\n",
       "      <th>new_obj_3379</th>\n",
       "      <th>new_obj_7079_2595_12225</th>\n",
       "      <th>new_obj_7079_2595_12225</th>\n",
       "    </tr>\n",
       "    <tr>\n",
       "      <th>pointid</th>\n",
       "      <th></th>\n",
       "      <th></th>\n",
       "      <th></th>\n",
       "      <th></th>\n",
       "      <th></th>\n",
       "      <th></th>\n",
       "      <th></th>\n",
       "      <th></th>\n",
       "      <th></th>\n",
       "      <th></th>\n",
       "      <th></th>\n",
       "      <th></th>\n",
       "      <th></th>\n",
       "      <th></th>\n",
       "      <th></th>\n",
       "      <th></th>\n",
       "      <th></th>\n",
       "      <th></th>\n",
       "      <th></th>\n",
       "      <th></th>\n",
       "      <th></th>\n",
       "    </tr>\n",
       "  </thead>\n",
       "  <tbody>\n",
       "    <tr>\n",
       "      <th>1</th>\n",
       "      <td>0.023788</td>\n",
       "      <td>POINT (-60.00875 -19.29542)</td>\n",
       "      <td>6668_533_2721</td>\n",
       "      <td>72124.911609</td>\n",
       "      <td>1</td>\n",
       "      <td>12982.484090</td>\n",
       "      <td>3.606246</td>\n",
       "      <td>89948.231102</td>\n",
       "      <td>70688.115131</td>\n",
       "      <td>92545.902376</td>\n",
       "      <td>...</td>\n",
       "      <td>91436.864744</td>\n",
       "      <td>91436.864744</td>\n",
       "      <td>98827.499603</td>\n",
       "      <td>98827.499603</td>\n",
       "      <td>89740.102284</td>\n",
       "      <td>89740.102284</td>\n",
       "      <td>110123.601133</td>\n",
       "      <td>110123.601133</td>\n",
       "      <td>45839.94</td>\n",
       "      <td>45839.94</td>\n",
       "    </tr>\n",
       "    <tr>\n",
       "      <th>2</th>\n",
       "      <td>0.027599</td>\n",
       "      <td>POINT (-60.00042 -19.29542)</td>\n",
       "      <td>6668_533_2721</td>\n",
       "      <td>72785.491551</td>\n",
       "      <td>2</td>\n",
       "      <td>13101.388479</td>\n",
       "      <td>3.639275</td>\n",
       "      <td>89948.231102</td>\n",
       "      <td>70688.115131</td>\n",
       "      <td>92545.902376</td>\n",
       "      <td>...</td>\n",
       "      <td>91436.864744</td>\n",
       "      <td>91436.864744</td>\n",
       "      <td>98827.499603</td>\n",
       "      <td>98827.499603</td>\n",
       "      <td>89740.102284</td>\n",
       "      <td>89740.102284</td>\n",
       "      <td>110123.601133</td>\n",
       "      <td>110123.601133</td>\n",
       "      <td>45839.94</td>\n",
       "      <td>45839.94</td>\n",
       "    </tr>\n",
       "    <tr>\n",
       "      <th>3</th>\n",
       "      <td>0.023359</td>\n",
       "      <td>POINT (-59.99208 -19.29542)</td>\n",
       "      <td>6668_533_2721</td>\n",
       "      <td>73450.560639</td>\n",
       "      <td>3</td>\n",
       "      <td>13221.100915</td>\n",
       "      <td>3.672528</td>\n",
       "      <td>89948.231102</td>\n",
       "      <td>70688.115131</td>\n",
       "      <td>92545.902376</td>\n",
       "      <td>...</td>\n",
       "      <td>91436.864744</td>\n",
       "      <td>91436.864744</td>\n",
       "      <td>98827.499603</td>\n",
       "      <td>98827.499603</td>\n",
       "      <td>89740.102284</td>\n",
       "      <td>89740.102284</td>\n",
       "      <td>110123.601133</td>\n",
       "      <td>110123.601133</td>\n",
       "      <td>45839.94</td>\n",
       "      <td>45839.94</td>\n",
       "    </tr>\n",
       "    <tr>\n",
       "      <th>4</th>\n",
       "      <td>0.017465</td>\n",
       "      <td>POINT (-59.98375 -19.29542)</td>\n",
       "      <td>6668_533_2721</td>\n",
       "      <td>74119.997833</td>\n",
       "      <td>4</td>\n",
       "      <td>13341.599610</td>\n",
       "      <td>3.706000</td>\n",
       "      <td>89948.231102</td>\n",
       "      <td>70688.115131</td>\n",
       "      <td>92545.902376</td>\n",
       "      <td>...</td>\n",
       "      <td>91436.864744</td>\n",
       "      <td>91436.864744</td>\n",
       "      <td>98827.499603</td>\n",
       "      <td>98827.499603</td>\n",
       "      <td>89740.102284</td>\n",
       "      <td>89740.102284</td>\n",
       "      <td>110123.601133</td>\n",
       "      <td>110123.601133</td>\n",
       "      <td>45839.94</td>\n",
       "      <td>45839.94</td>\n",
       "    </tr>\n",
       "    <tr>\n",
       "      <th>5</th>\n",
       "      <td>0.020155</td>\n",
       "      <td>POINT (-59.97542 -19.29542)</td>\n",
       "      <td>6668_533_2721</td>\n",
       "      <td>74793.685643</td>\n",
       "      <td>5</td>\n",
       "      <td>13462.863416</td>\n",
       "      <td>3.739684</td>\n",
       "      <td>89948.231102</td>\n",
       "      <td>70688.115131</td>\n",
       "      <td>92545.902376</td>\n",
       "      <td>...</td>\n",
       "      <td>91436.864744</td>\n",
       "      <td>91436.864744</td>\n",
       "      <td>98827.499603</td>\n",
       "      <td>98827.499603</td>\n",
       "      <td>89740.102284</td>\n",
       "      <td>89740.102284</td>\n",
       "      <td>110123.601133</td>\n",
       "      <td>110123.601133</td>\n",
       "      <td>45839.94</td>\n",
       "      <td>45839.94</td>\n",
       "    </tr>\n",
       "  </tbody>\n",
       "</table>\n",
       "<p>5 rows × 96 columns</p>\n",
       "</div>"
      ],
      "text/plain": [
       "         grid_code                     geometry             NN       NN_dist  \\\n",
       "pointid                                                                        \n",
       "1         0.023788  POINT (-60.00875 -19.29542)  6668_533_2721  72124.911609   \n",
       "2         0.027599  POINT (-60.00042 -19.29542)  6668_533_2721  72785.491551   \n",
       "3         0.023359  POINT (-59.99208 -19.29542)  6668_533_2721  73450.560639   \n",
       "4         0.017465  POINT (-59.98375 -19.29542)  6668_533_2721  74119.997833   \n",
       "5         0.020155  POINT (-59.97542 -19.29542)  6668_533_2721  74793.685643   \n",
       "\n",
       "         pointid  NN_dist_seconds  NN_dist_hours  new_obj_6434  new_obj_6039  \\\n",
       "pointid                                                                        \n",
       "1              1     12982.484090       3.606246  89948.231102  70688.115131   \n",
       "2              2     13101.388479       3.639275  89948.231102  70688.115131   \n",
       "3              3     13221.100915       3.672528  89948.231102  70688.115131   \n",
       "4              4     13341.599610       3.706000  89948.231102  70688.115131   \n",
       "5              5     13462.863416       3.739684  89948.231102  70688.115131   \n",
       "\n",
       "                37299  ...  new_obj_6354  new_obj_6354  new_obj_6121  \\\n",
       "pointid                ...                                             \n",
       "1        92545.902376  ...  91436.864744  91436.864744  98827.499603   \n",
       "2        92545.902376  ...  91436.864744  91436.864744  98827.499603   \n",
       "3        92545.902376  ...  91436.864744  91436.864744  98827.499603   \n",
       "4        92545.902376  ...  91436.864744  91436.864744  98827.499603   \n",
       "5        92545.902376  ...  91436.864744  91436.864744  98827.499603   \n",
       "\n",
       "         new_obj_6121  new_obj_6421  new_obj_6421   new_obj_3379  \\\n",
       "pointid                                                            \n",
       "1        98827.499603  89740.102284  89740.102284  110123.601133   \n",
       "2        98827.499603  89740.102284  89740.102284  110123.601133   \n",
       "3        98827.499603  89740.102284  89740.102284  110123.601133   \n",
       "4        98827.499603  89740.102284  89740.102284  110123.601133   \n",
       "5        98827.499603  89740.102284  89740.102284  110123.601133   \n",
       "\n",
       "          new_obj_3379  new_obj_7079_2595_12225  new_obj_7079_2595_12225  \n",
       "pointid                                                                   \n",
       "1        110123.601133                 45839.94                 45839.94  \n",
       "2        110123.601133                 45839.94                 45839.94  \n",
       "3        110123.601133                 45839.94                 45839.94  \n",
       "4        110123.601133                 45839.94                 45839.94  \n",
       "5        110123.601133                 45839.94                 45839.94  \n",
       "\n",
       "[5 rows x 96 columns]"
      ]
     },
     "execution_count": 135,
     "metadata": {},
     "output_type": "execute_result"
    }
   ],
   "source": [
    "origins_join.head()"
   ]
  },
  {
   "cell_type": "code",
   "execution_count": 140,
   "metadata": {},
   "outputs": [
    {
     "data": {
      "text/plain": [
       "True"
      ]
     },
     "execution_count": 140,
     "metadata": {},
     "output_type": "execute_result"
    }
   ],
   "source": [
    "all(origins_join.columns[7:] == dest_snapped.NN)"
   ]
  },
  {
   "cell_type": "code",
   "execution_count": 141,
   "metadata": {},
   "outputs": [],
   "source": [
    "origins_join_rename = origins_join.copy()"
   ]
  },
  {
   "cell_type": "code",
   "execution_count": 142,
   "metadata": {},
   "outputs": [],
   "source": [
    "origins_join_rename.columns = pd.MultiIndex.from_arrays([['origin' for each in origins_snapped.columns]+list(dest_snapped.dest_type), origins_snapped.columns.append(dest_snapped.index)])"
   ]
  },
  {
   "cell_type": "code",
   "execution_count": 143,
   "metadata": {
    "scrolled": true
   },
   "outputs": [
    {
     "data": {
      "text/html": [
       "<div>\n",
       "<style scoped>\n",
       "    .dataframe tbody tr th:only-of-type {\n",
       "        vertical-align: middle;\n",
       "    }\n",
       "\n",
       "    .dataframe tbody tr th {\n",
       "        vertical-align: top;\n",
       "    }\n",
       "\n",
       "    .dataframe thead tr th {\n",
       "        text-align: left;\n",
       "    }\n",
       "\n",
       "    .dataframe thead tr:last-of-type th {\n",
       "        text-align: right;\n",
       "    }\n",
       "</style>\n",
       "<table border=\"1\" class=\"dataframe\">\n",
       "  <thead>\n",
       "    <tr>\n",
       "      <th></th>\n",
       "      <th colspan=\"7\" halign=\"left\">origin</th>\n",
       "      <th colspan=\"3\" halign=\"left\">city</th>\n",
       "      <th>...</th>\n",
       "      <th colspan=\"10\" halign=\"left\">border</th>\n",
       "    </tr>\n",
       "    <tr>\n",
       "      <th></th>\n",
       "      <th>grid_code</th>\n",
       "      <th>geometry</th>\n",
       "      <th>NN</th>\n",
       "      <th>NN_dist</th>\n",
       "      <th>pointid</th>\n",
       "      <th>NN_dist_seconds</th>\n",
       "      <th>NN_dist_hours</th>\n",
       "      <th>0</th>\n",
       "      <th>1</th>\n",
       "      <th>2</th>\n",
       "      <th>...</th>\n",
       "      <th>79</th>\n",
       "      <th>80</th>\n",
       "      <th>81</th>\n",
       "      <th>82</th>\n",
       "      <th>83</th>\n",
       "      <th>84</th>\n",
       "      <th>85</th>\n",
       "      <th>86</th>\n",
       "      <th>87</th>\n",
       "      <th>88</th>\n",
       "    </tr>\n",
       "    <tr>\n",
       "      <th>pointid</th>\n",
       "      <th></th>\n",
       "      <th></th>\n",
       "      <th></th>\n",
       "      <th></th>\n",
       "      <th></th>\n",
       "      <th></th>\n",
       "      <th></th>\n",
       "      <th></th>\n",
       "      <th></th>\n",
       "      <th></th>\n",
       "      <th></th>\n",
       "      <th></th>\n",
       "      <th></th>\n",
       "      <th></th>\n",
       "      <th></th>\n",
       "      <th></th>\n",
       "      <th></th>\n",
       "      <th></th>\n",
       "      <th></th>\n",
       "      <th></th>\n",
       "      <th></th>\n",
       "    </tr>\n",
       "  </thead>\n",
       "  <tbody>\n",
       "    <tr>\n",
       "      <th>1</th>\n",
       "      <td>0.023788</td>\n",
       "      <td>POINT (-60.00875 -19.29542)</td>\n",
       "      <td>6668_533_2721</td>\n",
       "      <td>72124.911609</td>\n",
       "      <td>1</td>\n",
       "      <td>12982.484090</td>\n",
       "      <td>3.606246</td>\n",
       "      <td>89948.231102</td>\n",
       "      <td>70688.115131</td>\n",
       "      <td>92545.902376</td>\n",
       "      <td>...</td>\n",
       "      <td>91436.864744</td>\n",
       "      <td>91436.864744</td>\n",
       "      <td>98827.499603</td>\n",
       "      <td>98827.499603</td>\n",
       "      <td>89740.102284</td>\n",
       "      <td>89740.102284</td>\n",
       "      <td>110123.601133</td>\n",
       "      <td>110123.601133</td>\n",
       "      <td>45839.94</td>\n",
       "      <td>45839.94</td>\n",
       "    </tr>\n",
       "    <tr>\n",
       "      <th>2</th>\n",
       "      <td>0.027599</td>\n",
       "      <td>POINT (-60.00042 -19.29542)</td>\n",
       "      <td>6668_533_2721</td>\n",
       "      <td>72785.491551</td>\n",
       "      <td>2</td>\n",
       "      <td>13101.388479</td>\n",
       "      <td>3.639275</td>\n",
       "      <td>89948.231102</td>\n",
       "      <td>70688.115131</td>\n",
       "      <td>92545.902376</td>\n",
       "      <td>...</td>\n",
       "      <td>91436.864744</td>\n",
       "      <td>91436.864744</td>\n",
       "      <td>98827.499603</td>\n",
       "      <td>98827.499603</td>\n",
       "      <td>89740.102284</td>\n",
       "      <td>89740.102284</td>\n",
       "      <td>110123.601133</td>\n",
       "      <td>110123.601133</td>\n",
       "      <td>45839.94</td>\n",
       "      <td>45839.94</td>\n",
       "    </tr>\n",
       "    <tr>\n",
       "      <th>3</th>\n",
       "      <td>0.023359</td>\n",
       "      <td>POINT (-59.99208 -19.29542)</td>\n",
       "      <td>6668_533_2721</td>\n",
       "      <td>73450.560639</td>\n",
       "      <td>3</td>\n",
       "      <td>13221.100915</td>\n",
       "      <td>3.672528</td>\n",
       "      <td>89948.231102</td>\n",
       "      <td>70688.115131</td>\n",
       "      <td>92545.902376</td>\n",
       "      <td>...</td>\n",
       "      <td>91436.864744</td>\n",
       "      <td>91436.864744</td>\n",
       "      <td>98827.499603</td>\n",
       "      <td>98827.499603</td>\n",
       "      <td>89740.102284</td>\n",
       "      <td>89740.102284</td>\n",
       "      <td>110123.601133</td>\n",
       "      <td>110123.601133</td>\n",
       "      <td>45839.94</td>\n",
       "      <td>45839.94</td>\n",
       "    </tr>\n",
       "    <tr>\n",
       "      <th>4</th>\n",
       "      <td>0.017465</td>\n",
       "      <td>POINT (-59.98375 -19.29542)</td>\n",
       "      <td>6668_533_2721</td>\n",
       "      <td>74119.997833</td>\n",
       "      <td>4</td>\n",
       "      <td>13341.599610</td>\n",
       "      <td>3.706000</td>\n",
       "      <td>89948.231102</td>\n",
       "      <td>70688.115131</td>\n",
       "      <td>92545.902376</td>\n",
       "      <td>...</td>\n",
       "      <td>91436.864744</td>\n",
       "      <td>91436.864744</td>\n",
       "      <td>98827.499603</td>\n",
       "      <td>98827.499603</td>\n",
       "      <td>89740.102284</td>\n",
       "      <td>89740.102284</td>\n",
       "      <td>110123.601133</td>\n",
       "      <td>110123.601133</td>\n",
       "      <td>45839.94</td>\n",
       "      <td>45839.94</td>\n",
       "    </tr>\n",
       "    <tr>\n",
       "      <th>5</th>\n",
       "      <td>0.020155</td>\n",
       "      <td>POINT (-59.97542 -19.29542)</td>\n",
       "      <td>6668_533_2721</td>\n",
       "      <td>74793.685643</td>\n",
       "      <td>5</td>\n",
       "      <td>13462.863416</td>\n",
       "      <td>3.739684</td>\n",
       "      <td>89948.231102</td>\n",
       "      <td>70688.115131</td>\n",
       "      <td>92545.902376</td>\n",
       "      <td>...</td>\n",
       "      <td>91436.864744</td>\n",
       "      <td>91436.864744</td>\n",
       "      <td>98827.499603</td>\n",
       "      <td>98827.499603</td>\n",
       "      <td>89740.102284</td>\n",
       "      <td>89740.102284</td>\n",
       "      <td>110123.601133</td>\n",
       "      <td>110123.601133</td>\n",
       "      <td>45839.94</td>\n",
       "      <td>45839.94</td>\n",
       "    </tr>\n",
       "  </tbody>\n",
       "</table>\n",
       "<p>5 rows × 96 columns</p>\n",
       "</div>"
      ],
      "text/plain": [
       "           origin                                                            \\\n",
       "        grid_code                     geometry             NN       NN_dist   \n",
       "pointid                                                                       \n",
       "1        0.023788  POINT (-60.00875 -19.29542)  6668_533_2721  72124.911609   \n",
       "2        0.027599  POINT (-60.00042 -19.29542)  6668_533_2721  72785.491551   \n",
       "3        0.023359  POINT (-59.99208 -19.29542)  6668_533_2721  73450.560639   \n",
       "4        0.017465  POINT (-59.98375 -19.29542)  6668_533_2721  74119.997833   \n",
       "5        0.020155  POINT (-59.97542 -19.29542)  6668_533_2721  74793.685643   \n",
       "\n",
       "                                                       city                \\\n",
       "        pointid NN_dist_seconds NN_dist_hours             0             1   \n",
       "pointid                                                                     \n",
       "1             1    12982.484090      3.606246  89948.231102  70688.115131   \n",
       "2             2    13101.388479      3.639275  89948.231102  70688.115131   \n",
       "3             3    13221.100915      3.672528  89948.231102  70688.115131   \n",
       "4             4    13341.599610      3.706000  89948.231102  70688.115131   \n",
       "5             5    13462.863416      3.739684  89948.231102  70688.115131   \n",
       "\n",
       "                       ...        border                              \\\n",
       "                    2  ...            79            80            81   \n",
       "pointid                ...                                             \n",
       "1        92545.902376  ...  91436.864744  91436.864744  98827.499603   \n",
       "2        92545.902376  ...  91436.864744  91436.864744  98827.499603   \n",
       "3        92545.902376  ...  91436.864744  91436.864744  98827.499603   \n",
       "4        92545.902376  ...  91436.864744  91436.864744  98827.499603   \n",
       "5        92545.902376  ...  91436.864744  91436.864744  98827.499603   \n",
       "\n",
       "                                                                  \\\n",
       "                   82            83            84             85   \n",
       "pointid                                                            \n",
       "1        98827.499603  89740.102284  89740.102284  110123.601133   \n",
       "2        98827.499603  89740.102284  89740.102284  110123.601133   \n",
       "3        98827.499603  89740.102284  89740.102284  110123.601133   \n",
       "4        98827.499603  89740.102284  89740.102284  110123.601133   \n",
       "5        98827.499603  89740.102284  89740.102284  110123.601133   \n",
       "\n",
       "                                            \n",
       "                    86        87        88  \n",
       "pointid                                     \n",
       "1        110123.601133  45839.94  45839.94  \n",
       "2        110123.601133  45839.94  45839.94  \n",
       "3        110123.601133  45839.94  45839.94  \n",
       "4        110123.601133  45839.94  45839.94  \n",
       "5        110123.601133  45839.94  45839.94  \n",
       "\n",
       "[5 rows x 96 columns]"
      ]
     },
     "execution_count": 143,
     "metadata": {},
     "output_type": "execute_result"
    }
   ],
   "source": [
    "origins_join_rename.head()"
   ]
  },
  {
   "cell_type": "markdown",
   "metadata": {},
   "source": [
    "Add snapping time to each column (speed of 20 km/h)"
   ]
  },
  {
   "cell_type": "code",
   "execution_count": 144,
   "metadata": {},
   "outputs": [],
   "source": [
    "# origins_join2 = origins_join_rename.copy()\n",
    "origins_join2 = origins_join_rename.apply(lambda x: x + origins_join_rename.origin.NN_dist_seconds if x.name[1] in dest_snapped.index else x)"
   ]
  },
  {
   "cell_type": "code",
   "execution_count": 145,
   "metadata": {},
   "outputs": [
    {
     "data": {
      "text/html": [
       "<div>\n",
       "<style scoped>\n",
       "    .dataframe tbody tr th:only-of-type {\n",
       "        vertical-align: middle;\n",
       "    }\n",
       "\n",
       "    .dataframe tbody tr th {\n",
       "        vertical-align: top;\n",
       "    }\n",
       "\n",
       "    .dataframe thead tr th {\n",
       "        text-align: left;\n",
       "    }\n",
       "\n",
       "    .dataframe thead tr:last-of-type th {\n",
       "        text-align: right;\n",
       "    }\n",
       "</style>\n",
       "<table border=\"1\" class=\"dataframe\">\n",
       "  <thead>\n",
       "    <tr>\n",
       "      <th></th>\n",
       "      <th colspan=\"7\" halign=\"left\">origin</th>\n",
       "      <th colspan=\"3\" halign=\"left\">city</th>\n",
       "      <th>...</th>\n",
       "      <th colspan=\"10\" halign=\"left\">border</th>\n",
       "    </tr>\n",
       "    <tr>\n",
       "      <th></th>\n",
       "      <th>grid_code</th>\n",
       "      <th>geometry</th>\n",
       "      <th>NN</th>\n",
       "      <th>NN_dist</th>\n",
       "      <th>pointid</th>\n",
       "      <th>NN_dist_seconds</th>\n",
       "      <th>NN_dist_hours</th>\n",
       "      <th>0</th>\n",
       "      <th>1</th>\n",
       "      <th>2</th>\n",
       "      <th>...</th>\n",
       "      <th>79</th>\n",
       "      <th>80</th>\n",
       "      <th>81</th>\n",
       "      <th>82</th>\n",
       "      <th>83</th>\n",
       "      <th>84</th>\n",
       "      <th>85</th>\n",
       "      <th>86</th>\n",
       "      <th>87</th>\n",
       "      <th>88</th>\n",
       "    </tr>\n",
       "    <tr>\n",
       "      <th>pointid</th>\n",
       "      <th></th>\n",
       "      <th></th>\n",
       "      <th></th>\n",
       "      <th></th>\n",
       "      <th></th>\n",
       "      <th></th>\n",
       "      <th></th>\n",
       "      <th></th>\n",
       "      <th></th>\n",
       "      <th></th>\n",
       "      <th></th>\n",
       "      <th></th>\n",
       "      <th></th>\n",
       "      <th></th>\n",
       "      <th></th>\n",
       "      <th></th>\n",
       "      <th></th>\n",
       "      <th></th>\n",
       "      <th></th>\n",
       "      <th></th>\n",
       "      <th></th>\n",
       "    </tr>\n",
       "  </thead>\n",
       "  <tbody>\n",
       "    <tr>\n",
       "      <th>1</th>\n",
       "      <td>0.023788</td>\n",
       "      <td>POINT (-60.00875 -19.29542)</td>\n",
       "      <td>6668_533_2721</td>\n",
       "      <td>72124.911609</td>\n",
       "      <td>1</td>\n",
       "      <td>12982.484090</td>\n",
       "      <td>3.606246</td>\n",
       "      <td>102930.715191</td>\n",
       "      <td>83670.599221</td>\n",
       "      <td>105528.386466</td>\n",
       "      <td>...</td>\n",
       "      <td>104419.348833</td>\n",
       "      <td>104419.348833</td>\n",
       "      <td>111809.983693</td>\n",
       "      <td>111809.983693</td>\n",
       "      <td>102722.586374</td>\n",
       "      <td>102722.586374</td>\n",
       "      <td>123106.085222</td>\n",
       "      <td>123106.085222</td>\n",
       "      <td>58822.424090</td>\n",
       "      <td>58822.424090</td>\n",
       "    </tr>\n",
       "    <tr>\n",
       "      <th>2</th>\n",
       "      <td>0.027599</td>\n",
       "      <td>POINT (-60.00042 -19.29542)</td>\n",
       "      <td>6668_533_2721</td>\n",
       "      <td>72785.491551</td>\n",
       "      <td>2</td>\n",
       "      <td>13101.388479</td>\n",
       "      <td>3.639275</td>\n",
       "      <td>103049.619581</td>\n",
       "      <td>83789.503610</td>\n",
       "      <td>105647.290856</td>\n",
       "      <td>...</td>\n",
       "      <td>104538.253223</td>\n",
       "      <td>104538.253223</td>\n",
       "      <td>111928.888082</td>\n",
       "      <td>111928.888082</td>\n",
       "      <td>102841.490763</td>\n",
       "      <td>102841.490763</td>\n",
       "      <td>123224.989612</td>\n",
       "      <td>123224.989612</td>\n",
       "      <td>58941.328479</td>\n",
       "      <td>58941.328479</td>\n",
       "    </tr>\n",
       "    <tr>\n",
       "      <th>3</th>\n",
       "      <td>0.023359</td>\n",
       "      <td>POINT (-59.99208 -19.29542)</td>\n",
       "      <td>6668_533_2721</td>\n",
       "      <td>73450.560639</td>\n",
       "      <td>3</td>\n",
       "      <td>13221.100915</td>\n",
       "      <td>3.672528</td>\n",
       "      <td>103169.332017</td>\n",
       "      <td>83909.216046</td>\n",
       "      <td>105767.003292</td>\n",
       "      <td>...</td>\n",
       "      <td>104657.965659</td>\n",
       "      <td>104657.965659</td>\n",
       "      <td>112048.600518</td>\n",
       "      <td>112048.600518</td>\n",
       "      <td>102961.203199</td>\n",
       "      <td>102961.203199</td>\n",
       "      <td>123344.702048</td>\n",
       "      <td>123344.702048</td>\n",
       "      <td>59061.040915</td>\n",
       "      <td>59061.040915</td>\n",
       "    </tr>\n",
       "    <tr>\n",
       "      <th>4</th>\n",
       "      <td>0.017465</td>\n",
       "      <td>POINT (-59.98375 -19.29542)</td>\n",
       "      <td>6668_533_2721</td>\n",
       "      <td>74119.997833</td>\n",
       "      <td>4</td>\n",
       "      <td>13341.599610</td>\n",
       "      <td>3.706000</td>\n",
       "      <td>103289.830712</td>\n",
       "      <td>84029.714741</td>\n",
       "      <td>105887.501986</td>\n",
       "      <td>...</td>\n",
       "      <td>104778.464354</td>\n",
       "      <td>104778.464354</td>\n",
       "      <td>112169.099213</td>\n",
       "      <td>112169.099213</td>\n",
       "      <td>103081.701894</td>\n",
       "      <td>103081.701894</td>\n",
       "      <td>123465.200743</td>\n",
       "      <td>123465.200743</td>\n",
       "      <td>59181.539610</td>\n",
       "      <td>59181.539610</td>\n",
       "    </tr>\n",
       "    <tr>\n",
       "      <th>5</th>\n",
       "      <td>0.020155</td>\n",
       "      <td>POINT (-59.97542 -19.29542)</td>\n",
       "      <td>6668_533_2721</td>\n",
       "      <td>74793.685643</td>\n",
       "      <td>5</td>\n",
       "      <td>13462.863416</td>\n",
       "      <td>3.739684</td>\n",
       "      <td>103411.094518</td>\n",
       "      <td>84150.978547</td>\n",
       "      <td>106008.765792</td>\n",
       "      <td>...</td>\n",
       "      <td>104899.728160</td>\n",
       "      <td>104899.728160</td>\n",
       "      <td>112290.363019</td>\n",
       "      <td>112290.363019</td>\n",
       "      <td>103202.965700</td>\n",
       "      <td>103202.965700</td>\n",
       "      <td>123586.464548</td>\n",
       "      <td>123586.464548</td>\n",
       "      <td>59302.803416</td>\n",
       "      <td>59302.803416</td>\n",
       "    </tr>\n",
       "  </tbody>\n",
       "</table>\n",
       "<p>5 rows × 96 columns</p>\n",
       "</div>"
      ],
      "text/plain": [
       "           origin                                                            \\\n",
       "        grid_code                     geometry             NN       NN_dist   \n",
       "pointid                                                                       \n",
       "1        0.023788  POINT (-60.00875 -19.29542)  6668_533_2721  72124.911609   \n",
       "2        0.027599  POINT (-60.00042 -19.29542)  6668_533_2721  72785.491551   \n",
       "3        0.023359  POINT (-59.99208 -19.29542)  6668_533_2721  73450.560639   \n",
       "4        0.017465  POINT (-59.98375 -19.29542)  6668_533_2721  74119.997833   \n",
       "5        0.020155  POINT (-59.97542 -19.29542)  6668_533_2721  74793.685643   \n",
       "\n",
       "                                                        city                \\\n",
       "        pointid NN_dist_seconds NN_dist_hours              0             1   \n",
       "pointid                                                                      \n",
       "1             1    12982.484090      3.606246  102930.715191  83670.599221   \n",
       "2             2    13101.388479      3.639275  103049.619581  83789.503610   \n",
       "3             3    13221.100915      3.672528  103169.332017  83909.216046   \n",
       "4             4    13341.599610      3.706000  103289.830712  84029.714741   \n",
       "5             5    13462.863416      3.739684  103411.094518  84150.978547   \n",
       "\n",
       "                        ...         border                                \\\n",
       "                     2  ...             79             80             81   \n",
       "pointid                 ...                                                \n",
       "1        105528.386466  ...  104419.348833  104419.348833  111809.983693   \n",
       "2        105647.290856  ...  104538.253223  104538.253223  111928.888082   \n",
       "3        105767.003292  ...  104657.965659  104657.965659  112048.600518   \n",
       "4        105887.501986  ...  104778.464354  104778.464354  112169.099213   \n",
       "5        106008.765792  ...  104899.728160  104899.728160  112290.363019   \n",
       "\n",
       "                                                                     \\\n",
       "                    82             83             84             85   \n",
       "pointid                                                               \n",
       "1        111809.983693  102722.586374  102722.586374  123106.085222   \n",
       "2        111928.888082  102841.490763  102841.490763  123224.989612   \n",
       "3        112048.600518  102961.203199  102961.203199  123344.702048   \n",
       "4        112169.099213  103081.701894  103081.701894  123465.200743   \n",
       "5        112290.363019  103202.965700  103202.965700  123586.464548   \n",
       "\n",
       "                                                    \n",
       "                    86            87            88  \n",
       "pointid                                             \n",
       "1        123106.085222  58822.424090  58822.424090  \n",
       "2        123224.989612  58941.328479  58941.328479  \n",
       "3        123344.702048  59061.040915  59061.040915  \n",
       "4        123465.200743  59181.539610  59181.539610  \n",
       "5        123586.464548  59302.803416  59302.803416  \n",
       "\n",
       "[5 rows x 96 columns]"
      ]
     },
     "execution_count": 145,
     "metadata": {},
     "output_type": "execute_result"
    }
   ],
   "source": [
    "origins_join2.head()"
   ]
  },
  {
   "cell_type": "code",
   "execution_count": 147,
   "metadata": {},
   "outputs": [],
   "source": [
    "origins_join2.to_csv(os.path.join(output_path, 'OD_06_10.csv'))"
   ]
  },
  {
   "cell_type": "code",
   "execution_count": 148,
   "metadata": {},
   "outputs": [],
   "source": [
    "od_cities = np.array(origins_join2['city'])"
   ]
  },
  {
   "cell_type": "markdown",
   "metadata": {},
   "source": [
    "### Calculate gravity"
   ]
  },
  {
   "cell_type": "code",
   "execution_count": 150,
   "metadata": {
    "scrolled": false
   },
   "outputs": [
    {
     "name": "stdout",
     "output_type": "stream",
     "text": [
      "CPU times: user 10min 6s, sys: 3.88 s, total: 10min 10s\n",
      "Wall time: 10min 6s\n"
     ]
    }
   ],
   "source": [
    "%%time\n",
    "access_cities = calcOD.calculate_gravity(od_cities, dWeight = dest_all.Pop[origins_join2['city'].columns])"
   ]
  },
  {
   "cell_type": "code",
   "execution_count": 155,
   "metadata": {},
   "outputs": [],
   "source": [
    "access_cities_results = origins_snapped.join(access_cities).rename(columns = {\n",
    "        'd_0.01': 'd_1',\n",
    "        'd_0.005': 'd_2',\n",
    "        'd_0.001' : 'd_3',\n",
    "        'd_0.0007701635' : 'd_4',   # Market access halves every 15 mins\n",
    "        'd_0.0003850818' : 'd_5',   # Market access halves every 30 mins\n",
    "        'd_0.0001925409' : 'd_6',   # Market access halves every 60 mins\n",
    "        'd_9.62704e-05' : 'd_7',   # Market access halves every 120 mins\n",
    "        'd_3.85082e-05' : 'd_8',   # Market access halves every 300 mins\n",
    "        'd_1e-05' : 'd_9'\n",
    "    })"
   ]
  },
  {
   "cell_type": "markdown",
   "metadata": {},
   "source": [
    "#### Reload"
   ]
  },
  {
   "cell_type": "code",
   "execution_count": 3,
   "metadata": {},
   "outputs": [],
   "source": [
    "# def load_csv(csv_path, geometry = 'geometry', crs = 'epsg:4326'):\n",
    "#     df = pd.read_csv(csv_path)\n",
    "#     df[geometry] = df[geometry].apply(loads)\n",
    "#     gdf = gpd.GeoDataFrame(df, crs = crs)\n",
    "#     return(gdf)"
   ]
  },
  {
   "cell_type": "markdown",
   "metadata": {},
   "source": [
    "#### Convert to raster and save results"
   ]
  },
  {
   "cell_type": "code",
   "execution_count": 156,
   "metadata": {},
   "outputs": [],
   "source": [
    "sys.path.append('/home/wb514197/Repos/INFRA_SAP')\n",
    "from infrasap import aggregator"
   ]
  },
  {
   "cell_type": "code",
   "execution_count": 157,
   "metadata": {},
   "outputs": [
    {
     "data": {
      "text/plain": [
       "'/home/wb514197/data/INFRA_SAP/PRY/WP_2020_1km.tif'"
      ]
     },
     "execution_count": 157,
     "metadata": {},
     "output_type": "execute_result"
    }
   ],
   "source": [
    "wp_1km"
   ]
  },
  {
   "cell_type": "code",
   "execution_count": 158,
   "metadata": {},
   "outputs": [
    {
     "data": {
      "text/plain": [
       "'/home/wb514197/data/INFRA_SAP/PRY/out'"
      ]
     },
     "execution_count": 158,
     "metadata": {},
     "output_type": "execute_result"
    }
   ],
   "source": [
    "raster_path = wp_1km"
   ]
  },
  {
   "cell_type": "code",
   "execution_count": 162,
   "metadata": {},
   "outputs": [
    {
     "data": {
      "text/plain": [
       "'/home/wb514197/data/INFRA_SAP/PRY'"
      ]
     },
     "execution_count": 162,
     "metadata": {},
     "output_type": "execute_result"
    }
   ],
   "source": [
    "out_folder"
   ]
  },
  {
   "cell_type": "code",
   "execution_count": 163,
   "metadata": {},
   "outputs": [],
   "source": [
    "output_path = os.path.join(out_folder, \"out\", \"access\")\n",
    "if not os.path.exists(output_path):\n",
    "    os.mkdir(output_path)"
   ]
  },
  {
   "cell_type": "code",
   "execution_count": 159,
   "metadata": {},
   "outputs": [
    {
     "data": {
      "text/plain": [
       "<matplotlib.axes._subplots.AxesSubplot at 0x7f4f6cb96990>"
      ]
     },
     "execution_count": 159,
     "metadata": {},
     "output_type": "execute_result"
    },
    {
     "data": {
      "image/png": "[encoded data removed]",
      "text/plain": [
       "<Figure size 432x288 with 1 Axes>"
      ]
     },
     "metadata": {
      "needs_background": "light"
     },
     "output_type": "display_data"
    }
   ],
   "source": [
    "access_cities_results.d_5.hist()"
   ]
  },
  {
   "cell_type": "code",
   "execution_count": 160,
   "metadata": {},
   "outputs": [
    {
     "data": {
      "text/plain": [
       "<matplotlib.axes._subplots.AxesSubplot at 0x7f4f6cc02810>"
      ]
     },
     "execution_count": 160,
     "metadata": {},
     "output_type": "execute_result"
    },
    {
     "data": {
      "image/png": "[encoded data removed]",
      "text/plain": [
       "<Figure size 504x504 with 1 Axes>"
      ]
     },
     "metadata": {
      "needs_background": "light"
     },
     "output_type": "display_data"
    }
   ],
   "source": [
    "access_cities_results.plot(column='d_5', figsize=(7,7), markersize=1)"
   ]
  },
  {
   "cell_type": "code",
   "execution_count": 164,
   "metadata": {},
   "outputs": [
    {
     "name": "stdout",
     "output_type": "stream",
     "text": [
      "writing 5\n",
      "writing 6\n",
      "writing 7\n",
      "writing 8\n",
      "writing 9\n"
     ]
    }
   ],
   "source": [
    "for d in range(5,10):\n",
    "    print(f'writing {d}')\n",
    "    aggregator.rasterize_gdf(access_cities_results, f'd_{d}', template=raster_path, outFile=os.path.join(output_path,f\"access_cities_d{d}.tif\"))"
   ]
  },
  {
   "cell_type": "markdown",
   "metadata": {},
   "source": [
    "### Make rasters of min travel time to each dest"
   ]
  },
  {
   "cell_type": "code",
   "execution_count": 165,
   "metadata": {},
   "outputs": [],
   "source": [
    "sys.path.append('/home/wb514197/Repos/INFRA_SAP')\n",
    "from infrasap import aggregator"
   ]
  },
  {
   "cell_type": "code",
   "execution_count": 167,
   "metadata": {},
   "outputs": [],
   "source": [
    "output_path = os.path.join(out_folder, \"out\", \"travel_time\")\n",
    "if not os.path.exists(output_path):\n",
    "    os.mkdir(output_path)"
   ]
  },
  {
   "cell_type": "code",
   "execution_count": 168,
   "metadata": {},
   "outputs": [
    {
     "data": {
      "text/html": [
       "<div>\n",
       "<style scoped>\n",
       "    .dataframe tbody tr th:only-of-type {\n",
       "        vertical-align: middle;\n",
       "    }\n",
       "\n",
       "    .dataframe tbody tr th {\n",
       "        vertical-align: top;\n",
       "    }\n",
       "\n",
       "    .dataframe thead th {\n",
       "        text-align: right;\n",
       "    }\n",
       "</style>\n",
       "<table border=\"1\" class=\"dataframe\">\n",
       "  <thead>\n",
       "    <tr style=\"text-align: right;\">\n",
       "      <th></th>\n",
       "      <th>0</th>\n",
       "      <th>1</th>\n",
       "      <th>2</th>\n",
       "      <th>3</th>\n",
       "      <th>4</th>\n",
       "      <th>5</th>\n",
       "      <th>6</th>\n",
       "      <th>7</th>\n",
       "    </tr>\n",
       "    <tr>\n",
       "      <th>pointid</th>\n",
       "      <th></th>\n",
       "      <th></th>\n",
       "      <th></th>\n",
       "      <th></th>\n",
       "      <th></th>\n",
       "      <th></th>\n",
       "      <th></th>\n",
       "      <th></th>\n",
       "    </tr>\n",
       "  </thead>\n",
       "  <tbody>\n",
       "    <tr>\n",
       "      <th>1</th>\n",
       "      <td>102930.715191</td>\n",
       "      <td>83670.599221</td>\n",
       "      <td>105528.386466</td>\n",
       "      <td>109560.878986</td>\n",
       "      <td>95091.416836</td>\n",
       "      <td>122087.622137</td>\n",
       "      <td>106852.855113</td>\n",
       "      <td>127613.074331</td>\n",
       "    </tr>\n",
       "    <tr>\n",
       "      <th>2</th>\n",
       "      <td>103049.619581</td>\n",
       "      <td>83789.503610</td>\n",
       "      <td>105647.290856</td>\n",
       "      <td>109679.783375</td>\n",
       "      <td>95210.321225</td>\n",
       "      <td>122206.526527</td>\n",
       "      <td>106971.759503</td>\n",
       "      <td>127731.978721</td>\n",
       "    </tr>\n",
       "    <tr>\n",
       "      <th>3</th>\n",
       "      <td>103169.332017</td>\n",
       "      <td>83909.216046</td>\n",
       "      <td>105767.003292</td>\n",
       "      <td>109799.495811</td>\n",
       "      <td>95330.033661</td>\n",
       "      <td>122326.238963</td>\n",
       "      <td>107091.471939</td>\n",
       "      <td>127851.691157</td>\n",
       "    </tr>\n",
       "    <tr>\n",
       "      <th>4</th>\n",
       "      <td>103289.830712</td>\n",
       "      <td>84029.714741</td>\n",
       "      <td>105887.501986</td>\n",
       "      <td>109919.994506</td>\n",
       "      <td>95450.532356</td>\n",
       "      <td>122446.737658</td>\n",
       "      <td>107211.970634</td>\n",
       "      <td>127972.189851</td>\n",
       "    </tr>\n",
       "    <tr>\n",
       "      <th>5</th>\n",
       "      <td>103411.094518</td>\n",
       "      <td>84150.978547</td>\n",
       "      <td>106008.765792</td>\n",
       "      <td>110041.258312</td>\n",
       "      <td>95571.796162</td>\n",
       "      <td>122568.001464</td>\n",
       "      <td>107333.234440</td>\n",
       "      <td>128093.453657</td>\n",
       "    </tr>\n",
       "    <tr>\n",
       "      <th>...</th>\n",
       "      <td>...</td>\n",
       "      <td>...</td>\n",
       "      <td>...</td>\n",
       "      <td>...</td>\n",
       "      <td>...</td>\n",
       "      <td>...</td>\n",
       "      <td>...</td>\n",
       "      <td>...</td>\n",
       "    </tr>\n",
       "    <tr>\n",
       "      <th>508180</th>\n",
       "      <td>70887.106858</td>\n",
       "      <td>69160.164297</td>\n",
       "      <td>35663.891531</td>\n",
       "      <td>39462.180937</td>\n",
       "      <td>32746.836304</td>\n",
       "      <td>35124.992247</td>\n",
       "      <td>31929.853994</td>\n",
       "      <td>11019.829944</td>\n",
       "    </tr>\n",
       "    <tr>\n",
       "      <th>508181</th>\n",
       "      <td>70792.344812</td>\n",
       "      <td>69065.402250</td>\n",
       "      <td>35569.129485</td>\n",
       "      <td>39367.418890</td>\n",
       "      <td>32652.074258</td>\n",
       "      <td>35030.230201</td>\n",
       "      <td>31835.091948</td>\n",
       "      <td>10925.067898</td>\n",
       "    </tr>\n",
       "    <tr>\n",
       "      <th>508182</th>\n",
       "      <td>70712.693016</td>\n",
       "      <td>68985.750454</td>\n",
       "      <td>35489.477689</td>\n",
       "      <td>39287.767094</td>\n",
       "      <td>32572.422461</td>\n",
       "      <td>34950.578404</td>\n",
       "      <td>31755.440152</td>\n",
       "      <td>10845.416101</td>\n",
       "    </tr>\n",
       "    <tr>\n",
       "      <th>508183</th>\n",
       "      <td>70652.660871</td>\n",
       "      <td>68925.718309</td>\n",
       "      <td>35429.445544</td>\n",
       "      <td>39227.734949</td>\n",
       "      <td>32512.390317</td>\n",
       "      <td>34890.546260</td>\n",
       "      <td>31695.408007</td>\n",
       "      <td>10785.383956</td>\n",
       "    </tr>\n",
       "    <tr>\n",
       "      <th>508184</th>\n",
       "      <td>70616.868136</td>\n",
       "      <td>68889.925575</td>\n",
       "      <td>35393.652809</td>\n",
       "      <td>39191.942215</td>\n",
       "      <td>32476.597582</td>\n",
       "      <td>34854.753525</td>\n",
       "      <td>31659.615273</td>\n",
       "      <td>10749.591222</td>\n",
       "    </tr>\n",
       "  </tbody>\n",
       "</table>\n",
       "<p>508184 rows × 8 columns</p>\n",
       "</div>"
      ],
      "text/plain": [
       "                     0             1              2              3  \\\n",
       "pointid                                                              \n",
       "1        102930.715191  83670.599221  105528.386466  109560.878986   \n",
       "2        103049.619581  83789.503610  105647.290856  109679.783375   \n",
       "3        103169.332017  83909.216046  105767.003292  109799.495811   \n",
       "4        103289.830712  84029.714741  105887.501986  109919.994506   \n",
       "5        103411.094518  84150.978547  106008.765792  110041.258312   \n",
       "...                ...           ...            ...            ...   \n",
       "508180    70887.106858  69160.164297   35663.891531   39462.180937   \n",
       "508181    70792.344812  69065.402250   35569.129485   39367.418890   \n",
       "508182    70712.693016  68985.750454   35489.477689   39287.767094   \n",
       "508183    70652.660871  68925.718309   35429.445544   39227.734949   \n",
       "508184    70616.868136  68889.925575   35393.652809   39191.942215   \n",
       "\n",
       "                    4              5              6              7  \n",
       "pointid                                                             \n",
       "1        95091.416836  122087.622137  106852.855113  127613.074331  \n",
       "2        95210.321225  122206.526527  106971.759503  127731.978721  \n",
       "3        95330.033661  122326.238963  107091.471939  127851.691157  \n",
       "4        95450.532356  122446.737658  107211.970634  127972.189851  \n",
       "5        95571.796162  122568.001464  107333.234440  128093.453657  \n",
       "...               ...            ...            ...            ...  \n",
       "508180   32746.836304   35124.992247   31929.853994   11019.829944  \n",
       "508181   32652.074258   35030.230201   31835.091948   10925.067898  \n",
       "508182   32572.422461   34950.578404   31755.440152   10845.416101  \n",
       "508183   32512.390317   34890.546260   31695.408007   10785.383956  \n",
       "508184   32476.597582   34854.753525   31659.615273   10749.591222  \n",
       "\n",
       "[508184 rows x 8 columns]"
      ]
     },
     "execution_count": 168,
     "metadata": {},
     "output_type": "execute_result"
    }
   ],
   "source": [
    "origins_join2['city']"
   ]
  },
  {
   "cell_type": "code",
   "execution_count": 169,
   "metadata": {},
   "outputs": [],
   "source": [
    "city_min = pd.DataFrame(origins_join2['city'].min(axis=1).apply(lambda x: (x/3600)), columns=[\"tt_city\"])\n",
    "ports_min = pd.DataFrame(origins_join2['port'].min(axis=1).apply(lambda x: (x/3600)), columns=[\"tt_port\"])\n",
    "airports_min = pd.DataFrame(origins_join2['airport'].min(axis=1).apply(lambda x: (x/3600)), columns=[\"tt_airport\"])\n",
    "borders_min = pd.DataFrame(origins_join2['border'].min(axis=1).apply(lambda x: (x/3600)), columns=[\"tt_border\"])"
   ]
  },
  {
   "cell_type": "code",
   "execution_count": 190,
   "metadata": {},
   "outputs": [],
   "source": [
    "capital_tt = origins_join2['city'].loc[:,[4]].apply(lambda x: (x/3600)).rename(columns={4:'tt_capital'})"
   ]
  },
  {
   "cell_type": "code",
   "execution_count": 191,
   "metadata": {},
   "outputs": [],
   "source": [
    "origins_tt = origins_snapped.join([city_min, ports_min, airports_min, borders_min, capital_tt])"
   ]
  },
  {
   "cell_type": "code",
   "execution_count": 187,
   "metadata": {},
   "outputs": [
    {
     "data": {
      "text/plain": [
       "'/home/wb514197/data/INFRA_SAP/PRY/out/travel_time'"
      ]
     },
     "execution_count": 187,
     "metadata": {},
     "output_type": "execute_result"
    }
   ],
   "source": [
    "output_path"
   ]
  },
  {
   "cell_type": "code",
   "execution_count": 189,
   "metadata": {},
   "outputs": [
    {
     "data": {
      "text/html": [
       "<div>\n",
       "<style scoped>\n",
       "    .dataframe tbody tr th:only-of-type {\n",
       "        vertical-align: middle;\n",
       "    }\n",
       "\n",
       "    .dataframe tbody tr th {\n",
       "        vertical-align: top;\n",
       "    }\n",
       "\n",
       "    .dataframe thead th {\n",
       "        text-align: right;\n",
       "    }\n",
       "</style>\n",
       "<table border=\"1\" class=\"dataframe\">\n",
       "  <thead>\n",
       "    <tr style=\"text-align: right;\">\n",
       "      <th></th>\n",
       "      <th>grid_code</th>\n",
       "      <th>geometry</th>\n",
       "      <th>NN</th>\n",
       "      <th>NN_dist</th>\n",
       "      <th>pointid</th>\n",
       "      <th>NN_dist_seconds</th>\n",
       "      <th>NN_dist_hours</th>\n",
       "      <th>tt_city</th>\n",
       "      <th>tt_port</th>\n",
       "      <th>tt_airport</th>\n",
       "      <th>tt_border</th>\n",
       "      <th>4</th>\n",
       "    </tr>\n",
       "    <tr>\n",
       "      <th>pointid</th>\n",
       "      <th></th>\n",
       "      <th></th>\n",
       "      <th></th>\n",
       "      <th></th>\n",
       "      <th></th>\n",
       "      <th></th>\n",
       "      <th></th>\n",
       "      <th></th>\n",
       "      <th></th>\n",
       "      <th></th>\n",
       "      <th></th>\n",
       "      <th></th>\n",
       "    </tr>\n",
       "  </thead>\n",
       "  <tbody>\n",
       "    <tr>\n",
       "      <th>1</th>\n",
       "      <td>0.023788</td>\n",
       "      <td>POINT (-60.00875 -19.29542)</td>\n",
       "      <td>6668_533_2721</td>\n",
       "      <td>72124.911609</td>\n",
       "      <td>1</td>\n",
       "      <td>12982.484090</td>\n",
       "      <td>3.606246</td>\n",
       "      <td>23.241833</td>\n",
       "      <td>13.045611</td>\n",
       "      <td>26.040317</td>\n",
       "      <td>16.339562</td>\n",
       "      <td>26.414282</td>\n",
       "    </tr>\n",
       "    <tr>\n",
       "      <th>2</th>\n",
       "      <td>0.027599</td>\n",
       "      <td>POINT (-60.00042 -19.29542)</td>\n",
       "      <td>6668_533_2721</td>\n",
       "      <td>72785.491551</td>\n",
       "      <td>2</td>\n",
       "      <td>13101.388479</td>\n",
       "      <td>3.639275</td>\n",
       "      <td>23.274862</td>\n",
       "      <td>13.078640</td>\n",
       "      <td>26.073346</td>\n",
       "      <td>16.372591</td>\n",
       "      <td>26.447311</td>\n",
       "    </tr>\n",
       "    <tr>\n",
       "      <th>3</th>\n",
       "      <td>0.023359</td>\n",
       "      <td>POINT (-59.99208 -19.29542)</td>\n",
       "      <td>6668_533_2721</td>\n",
       "      <td>73450.560639</td>\n",
       "      <td>3</td>\n",
       "      <td>13221.100915</td>\n",
       "      <td>3.672528</td>\n",
       "      <td>23.308116</td>\n",
       "      <td>13.111894</td>\n",
       "      <td>26.106600</td>\n",
       "      <td>16.405845</td>\n",
       "      <td>26.480565</td>\n",
       "    </tr>\n",
       "    <tr>\n",
       "      <th>4</th>\n",
       "      <td>0.017465</td>\n",
       "      <td>POINT (-59.98375 -19.29542)</td>\n",
       "      <td>6668_533_2721</td>\n",
       "      <td>74119.997833</td>\n",
       "      <td>4</td>\n",
       "      <td>13341.599610</td>\n",
       "      <td>3.706000</td>\n",
       "      <td>23.341587</td>\n",
       "      <td>13.145366</td>\n",
       "      <td>26.140072</td>\n",
       "      <td>16.439317</td>\n",
       "      <td>26.514037</td>\n",
       "    </tr>\n",
       "    <tr>\n",
       "      <th>5</th>\n",
       "      <td>0.020155</td>\n",
       "      <td>POINT (-59.97542 -19.29542)</td>\n",
       "      <td>6668_533_2721</td>\n",
       "      <td>74793.685643</td>\n",
       "      <td>5</td>\n",
       "      <td>13462.863416</td>\n",
       "      <td>3.739684</td>\n",
       "      <td>23.375272</td>\n",
       "      <td>13.179050</td>\n",
       "      <td>26.173756</td>\n",
       "      <td>16.473001</td>\n",
       "      <td>26.547721</td>\n",
       "    </tr>\n",
       "    <tr>\n",
       "      <th>...</th>\n",
       "      <td>...</td>\n",
       "      <td>...</td>\n",
       "      <td>...</td>\n",
       "      <td>...</td>\n",
       "      <td>...</td>\n",
       "      <td>...</td>\n",
       "      <td>...</td>\n",
       "      <td>...</td>\n",
       "      <td>...</td>\n",
       "      <td>...</td>\n",
       "      <td>...</td>\n",
       "      <td>...</td>\n",
       "    </tr>\n",
       "    <tr>\n",
       "      <th>508180</th>\n",
       "      <td>4.227770</td>\n",
       "      <td>POINT (-56.85875 -27.59542)</td>\n",
       "      <td>new_obj_530_1988_9746</td>\n",
       "      <td>5763.358594</td>\n",
       "      <td>508180</td>\n",
       "      <td>1037.404547</td>\n",
       "      <td>0.288168</td>\n",
       "      <td>3.061064</td>\n",
       "      <td>5.184133</td>\n",
       "      <td>9.397887</td>\n",
       "      <td>3.028882</td>\n",
       "      <td>9.096343</td>\n",
       "    </tr>\n",
       "    <tr>\n",
       "      <th>508181</th>\n",
       "      <td>3.730930</td>\n",
       "      <td>POINT (-56.85042 -27.59542)</td>\n",
       "      <td>new_obj_530_1988_9746</td>\n",
       "      <td>5236.902780</td>\n",
       "      <td>508181</td>\n",
       "      <td>942.642500</td>\n",
       "      <td>0.261845</td>\n",
       "      <td>3.034741</td>\n",
       "      <td>5.157810</td>\n",
       "      <td>9.371565</td>\n",
       "      <td>3.002559</td>\n",
       "      <td>9.070021</td>\n",
       "    </tr>\n",
       "    <tr>\n",
       "      <th>508182</th>\n",
       "      <td>3.511680</td>\n",
       "      <td>POINT (-56.84208 -27.59542)</td>\n",
       "      <td>new_obj_530_1988_9746</td>\n",
       "      <td>4794.392801</td>\n",
       "      <td>508182</td>\n",
       "      <td>862.990704</td>\n",
       "      <td>0.239720</td>\n",
       "      <td>3.012616</td>\n",
       "      <td>5.135685</td>\n",
       "      <td>9.349439</td>\n",
       "      <td>2.980433</td>\n",
       "      <td>9.047895</td>\n",
       "    </tr>\n",
       "    <tr>\n",
       "      <th>508183</th>\n",
       "      <td>3.143360</td>\n",
       "      <td>POINT (-56.83375 -27.59542)</td>\n",
       "      <td>new_obj_530_1988_9746</td>\n",
       "      <td>4460.880885</td>\n",
       "      <td>508183</td>\n",
       "      <td>802.958559</td>\n",
       "      <td>0.223044</td>\n",
       "      <td>2.995940</td>\n",
       "      <td>5.119009</td>\n",
       "      <td>9.332763</td>\n",
       "      <td>2.963758</td>\n",
       "      <td>9.031220</td>\n",
       "    </tr>\n",
       "    <tr>\n",
       "      <th>508184</th>\n",
       "      <td>3.007960</td>\n",
       "      <td>POINT (-56.82542 -27.59542)</td>\n",
       "      <td>new_obj_530_1988_9746</td>\n",
       "      <td>4262.032361</td>\n",
       "      <td>508184</td>\n",
       "      <td>767.165825</td>\n",
       "      <td>0.213102</td>\n",
       "      <td>2.985998</td>\n",
       "      <td>5.109067</td>\n",
       "      <td>9.322821</td>\n",
       "      <td>2.953815</td>\n",
       "      <td>9.021277</td>\n",
       "    </tr>\n",
       "  </tbody>\n",
       "</table>\n",
       "<p>508184 rows × 12 columns</p>\n",
       "</div>"
      ],
      "text/plain": [
       "         grid_code                     geometry                     NN  \\\n",
       "pointid                                                                  \n",
       "1         0.023788  POINT (-60.00875 -19.29542)          6668_533_2721   \n",
       "2         0.027599  POINT (-60.00042 -19.29542)          6668_533_2721   \n",
       "3         0.023359  POINT (-59.99208 -19.29542)          6668_533_2721   \n",
       "4         0.017465  POINT (-59.98375 -19.29542)          6668_533_2721   \n",
       "5         0.020155  POINT (-59.97542 -19.29542)          6668_533_2721   \n",
       "...            ...                          ...                    ...   \n",
       "508180    4.227770  POINT (-56.85875 -27.59542)  new_obj_530_1988_9746   \n",
       "508181    3.730930  POINT (-56.85042 -27.59542)  new_obj_530_1988_9746   \n",
       "508182    3.511680  POINT (-56.84208 -27.59542)  new_obj_530_1988_9746   \n",
       "508183    3.143360  POINT (-56.83375 -27.59542)  new_obj_530_1988_9746   \n",
       "508184    3.007960  POINT (-56.82542 -27.59542)  new_obj_530_1988_9746   \n",
       "\n",
       "              NN_dist  pointid  NN_dist_seconds  NN_dist_hours    tt_city  \\\n",
       "pointid                                                                     \n",
       "1        72124.911609        1     12982.484090       3.606246  23.241833   \n",
       "2        72785.491551        2     13101.388479       3.639275  23.274862   \n",
       "3        73450.560639        3     13221.100915       3.672528  23.308116   \n",
       "4        74119.997833        4     13341.599610       3.706000  23.341587   \n",
       "5        74793.685643        5     13462.863416       3.739684  23.375272   \n",
       "...               ...      ...              ...            ...        ...   \n",
       "508180    5763.358594   508180      1037.404547       0.288168   3.061064   \n",
       "508181    5236.902780   508181       942.642500       0.261845   3.034741   \n",
       "508182    4794.392801   508182       862.990704       0.239720   3.012616   \n",
       "508183    4460.880885   508183       802.958559       0.223044   2.995940   \n",
       "508184    4262.032361   508184       767.165825       0.213102   2.985998   \n",
       "\n",
       "           tt_port  tt_airport  tt_border          4  \n",
       "pointid                                               \n",
       "1        13.045611   26.040317  16.339562  26.414282  \n",
       "2        13.078640   26.073346  16.372591  26.447311  \n",
       "3        13.111894   26.106600  16.405845  26.480565  \n",
       "4        13.145366   26.140072  16.439317  26.514037  \n",
       "5        13.179050   26.173756  16.473001  26.547721  \n",
       "...            ...         ...        ...        ...  \n",
       "508180    5.184133    9.397887   3.028882   9.096343  \n",
       "508181    5.157810    9.371565   3.002559   9.070021  \n",
       "508182    5.135685    9.349439   2.980433   9.047895  \n",
       "508183    5.119009    9.332763   2.963758   9.031220  \n",
       "508184    5.109067    9.322821   2.953815   9.021277  \n",
       "\n",
       "[508184 rows x 12 columns]"
      ]
     },
     "execution_count": 189,
     "metadata": {},
     "output_type": "execute_result"
    }
   ],
   "source": [
    "origins_tt"
   ]
  },
  {
   "cell_type": "code",
   "execution_count": 192,
   "metadata": {},
   "outputs": [],
   "source": [
    "aggregator.rasterize_gdf(origins_tt, 'tt_city', raster_path, os.path.join(output_path,f\"cities_min_tt.tif\"))\n",
    "aggregator.rasterize_gdf(origins_tt, 'tt_port', raster_path, os.path.join(output_path,f\"port_min_tt.tif\"))\n",
    "aggregator.rasterize_gdf(origins_tt, 'tt_airport', raster_path, os.path.join(output_path,f\"airport_min_tt.tif\"))\n",
    "aggregator.rasterize_gdf(origins_tt, 'tt_border', raster_path, os.path.join(output_path,f\"borders_min_tt.tif\"))\n",
    "aggregator.rasterize_gdf(origins_tt, 'tt_capital', raster_path, os.path.join(output_path,f\"capital_tt.tif\"))"
   ]
  }
 ],
 "metadata": {
  "kernelspec": {
   "display_name": "GEO",
   "language": "python",
   "name": "geo"
  },
  "language_info": {
   "codemirror_mode": {
    "name": "ipython",
    "version": 3
   },
   "file_extension": ".py",
   "mimetype": "text/x-python",
   "name": "python",
   "nbconvert_exporter": "python",
   "pygments_lexer": "ipython3",
   "version": "3.7.6"
  }
 },
 "nbformat": 4,
 "nbformat_minor": 2
}
