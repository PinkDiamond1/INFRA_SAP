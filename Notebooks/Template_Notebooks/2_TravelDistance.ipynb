{
 "cells": [
  {
   "cell_type": "markdown",
   "metadata": {},
   "source": [
    "## Country-level INFRA-SAP\n"
   ]
  },
  {
   "cell_type": "markdown",
   "metadata": {},
   "source": [
    "- Origins: Population grid (Worldpop downsampled to 500 meters)\n",
    "- Destinations: Cities, airports, border crossings, and ports\n",
    "\n",
    "Typical access analysis with two adjustments:\n",
    "    1. Extract different sets of destinations from OD\n",
    "    2. Join travel time to origin grid based on \"NN with the fastest route\" (not necessarily closest NN)"
   ]
  },
  {
   "cell_type": "code",
   "execution_count": 1,
   "metadata": {},
   "outputs": [],
   "source": [
    "import os, sys, time, importlib\n",
    "\n",
    "import geopandas as gpd\n",
    "import pandas as pd\n",
    "import networkx as nx\n",
    "sys.path.append('/home/wb514197/Repos/GOSTnets')\n",
    "\n",
    "import GOSTnets as gn\n",
    "import GOSTnets.calculate_od_raw as calcOD\n",
    "from GOSTnets.load_osm import *\n",
    "import rasterio as rio\n",
    "from osgeo import gdal\n",
    "import numpy as np\n",
    "from shapely.geometry import Point\n",
    "\n",
    "sys.path.append('/home/wb514197/Repos/INFRA_SAP')\n",
    "from infrasap import aggregator\n",
    "\n",
    "from shapely.wkt import loads\n",
    "\n",
    "%load_ext autoreload\n",
    "%autoreload 2"
   ]
  },
  {
   "cell_type": "code",
   "execution_count": 2,
   "metadata": {},
   "outputs": [],
   "source": [
    "country = 'djibouti'\n",
    "iso3 = 'DJI'\n",
    "epsg = 32638"
   ]
  },
  {
   "cell_type": "markdown",
   "metadata": {},
   "source": [
    "### Load origins and graph"
   ]
  },
  {
   "cell_type": "code",
   "execution_count": 3,
   "metadata": {},
   "outputs": [],
   "source": [
    "# base_in = \"/home/public/Data/PROJECTS/INFRA_SAP\"\n",
    "base_in = \"/home/wb514197/data/INFRA_SAP\"\n",
    "in_folder = os.path.join(base_in, iso3)\n",
    "\n",
    "# define data paths\n",
    "focal_admin2 = os.path.join(in_folder, \"admin.shp\")\n",
    "focal_osm = os.path.join(in_folder, f\"{country}-latest.osm.pbf\")\n",
    "pop_name = \"WP_2020_1km\"\n",
    "wp_1km = os.path.join(in_folder, f\"{pop_name}.tif\")\n",
    "urban_extents = os.path.join(in_folder, \"urban_extents.shp\")\n",
    "airports = os.path.join(in_folder, \"airports_intl.shp\")\n",
    "ports = os.path.join(in_folder, \"ports.shp\")\n",
    "borders = os.path.join(in_folder, \"borders.shp\")\n",
    "\n",
    "# base_out = \"/home/wb514197/data/INFRA_SAP\" # GOT permission denied using public \n",
    "# out_folder = os.path.join(base_out, iso3)\n",
    "# if not os.path.exists(out_folder):\n",
    "#     os.makedirs(out_folder)\n",
    "\n",
    "out_folder = os.path.join(in_folder, \"output\")"
   ]
  },
  {
   "cell_type": "markdown",
   "metadata": {},
   "source": [
    "Convert **WP_2020_1km.tif** into a point GeoData frame"
   ]
  },
  {
   "cell_type": "code",
   "execution_count": 5,
   "metadata": {},
   "outputs": [],
   "source": [
    "out_pop_csv = os.path.join(out_folder, f\"{pop_name}.csv\")\n",
    "wp_df = pd.read_csv(out_pop_csv, sep=' ')\n",
    "wp_df.rename(columns={\"Z\":\"Pop\"}, inplace=True)\n",
    "wp_df = wp_df.loc[wp_df.Pop!=-99999.0].copy()\n",
    "geoms = [Point(xy) for xy in zip(wp_df.X, wp_df.Y)]\n",
    "wp_df.drop([\"X\",\"Y\"], axis=1, inplace=True)\n",
    "crs = 'EPSG:4326'\n",
    "origins = gpd.GeoDataFrame(wp_df, crs=crs, geometry=geoms)\n",
    "origins['pointid'] = origins.index"
   ]
  },
  {
   "cell_type": "markdown",
   "metadata": {},
   "source": [
    "### Prepare Graph"
   ]
  },
  {
   "cell_type": "code",
   "execution_count": 6,
   "metadata": {},
   "outputs": [],
   "source": [
    "G_time = nx.read_gpickle(os.path.join(out_folder, 'graph', f'G_{iso3}_Salt.pickle'))"
   ]
  },
  {
   "cell_type": "markdown",
   "metadata": {},
   "source": [
    "#### Select largest graph (again)"
   ]
  },
  {
   "cell_type": "code",
   "execution_count": 7,
   "metadata": {},
   "outputs": [],
   "source": [
    "list_of_subgraphs = [G_time.subgraph(c).copy() for c in sorted(nx.strongly_connected_components(G_time), key=len, reverse=True)]"
   ]
  },
  {
   "cell_type": "code",
   "execution_count": 8,
   "metadata": {},
   "outputs": [],
   "source": [
    "G_largest = list_of_subgraphs[0]"
   ]
  },
  {
   "cell_type": "markdown",
   "metadata": {},
   "source": [
    "### Prepare destinations"
   ]
  },
  {
   "cell_type": "code",
   "execution_count": 9,
   "metadata": {},
   "outputs": [],
   "source": [
    "def load_csv(csv_path, geometry = 'geometry', crs = 'epsg:4326'):\n",
    "    df = pd.read_csv(csv_path, index_col=0)\n",
    "    df[geometry] = df[geometry].apply(loads)\n",
    "    gdf = gpd.GeoDataFrame(df, crs = crs)\n",
    "    return(gdf)"
   ]
  },
  {
   "cell_type": "code",
   "execution_count": 10,
   "metadata": {},
   "outputs": [],
   "source": [
    "dest_all = load_csv(os.path.join(out_folder, 'destination_all.csv'))"
   ]
  },
  {
   "cell_type": "code",
   "execution_count": 11,
   "metadata": {},
   "outputs": [
    {
     "data": {
      "text/plain": [
       "(26323, 13)"
      ]
     },
     "execution_count": 11,
     "metadata": {},
     "output_type": "execute_result"
    }
   ],
   "source": [
    "len(origins), len(dest_all)"
   ]
  },
  {
   "cell_type": "markdown",
   "metadata": {},
   "source": [
    "### Snap origins and destinations"
   ]
  },
  {
   "cell_type": "markdown",
   "metadata": {},
   "source": [
    "#### Snap to origins to 5 nearest nodes"
   ]
  },
  {
   "cell_type": "code",
   "execution_count": 12,
   "metadata": {},
   "outputs": [],
   "source": [
    "utm = f\"EPSG:{epsg}\""
   ]
  },
  {
   "cell_type": "code",
   "execution_count": 13,
   "metadata": {},
   "outputs": [
    {
     "name": "stdout",
     "output_type": "stream",
     "text": [
      "CPU times: user 3.89 s, sys: 105 ms, total: 3.99 s\n",
      "Wall time: 3.99 s\n"
     ]
    }
   ],
   "source": [
    "%%time\n",
    "# this function returns a dictionary of origin IDs, with a list of 5 NNs, and a corresponding list of distances\n",
    "origins_snapped_dict = gn.pandana_snap_to_many(G_largest, origins, source_crs='epsg:4326', target_crs=utm, \n",
    "                                               add_dist_to_node_col = True, k_nearest=5, origin_id='pointid')"
   ]
  },
  {
   "cell_type": "code",
   "execution_count": 14,
   "metadata": {},
   "outputs": [],
   "source": [
    "dest_snapped = gn.pandana_snap_c(G_largest, dest_all, source_crs='epsg:4326', target_crs=utm,\n",
    "                                 add_dist_to_node_col = False)"
   ]
  },
  {
   "cell_type": "code",
   "execution_count": 15,
   "metadata": {},
   "outputs": [],
   "source": [
    "# origins_unique_nn = list(set(origins_snapped['NN']))\n",
    "dest_nn = list(dest_snapped['NN'])\n",
    "list_origins_NN = []\n",
    "for each in origins_snapped_dict.values():\n",
    "    list_origins_NN += each['NN']\n",
    "origins_unique_nn = list(set(list_origins_NN))"
   ]
  },
  {
   "cell_type": "code",
   "execution_count": 16,
   "metadata": {},
   "outputs": [
    {
     "name": "stdout",
     "output_type": "stream",
     "text": [
      "CPU times: user 14.6 ms, sys: 0 ns, total: 14.6 ms\n",
      "Wall time: 14.6 ms\n"
     ]
    }
   ],
   "source": [
    "%%time\n",
    "curOD = gn.calculate_OD(G_largest, origins_unique_nn, dest_nn, fail_value = 999999999, weight='length')"
   ]
  },
  {
   "cell_type": "code",
   "execution_count": 17,
   "metadata": {},
   "outputs": [
    {
     "data": {
      "text/plain": [
       "array([], dtype=float64)"
      ]
     },
     "execution_count": 17,
     "metadata": {},
     "output_type": "execute_result"
    }
   ],
   "source": [
    "curOD[curOD==999999999]"
   ]
  },
  {
   "cell_type": "code",
   "execution_count": 18,
   "metadata": {},
   "outputs": [
    {
     "data": {
      "text/plain": [
       "(325, 13)"
      ]
     },
     "execution_count": 18,
     "metadata": {},
     "output_type": "execute_result"
    }
   ],
   "source": [
    "curOD.shape"
   ]
  },
  {
   "cell_type": "code",
   "execution_count": 19,
   "metadata": {},
   "outputs": [],
   "source": [
    "od_df = pd.DataFrame(curOD, index=origins_unique_nn, columns=dest_nn)"
   ]
  },
  {
   "cell_type": "code",
   "execution_count": 20,
   "metadata": {},
   "outputs": [
    {
     "data": {
      "text/html": [
       "<div>\n",
       "<style scoped>\n",
       "    .dataframe tbody tr th:only-of-type {\n",
       "        vertical-align: middle;\n",
       "    }\n",
       "\n",
       "    .dataframe tbody tr th {\n",
       "        vertical-align: top;\n",
       "    }\n",
       "\n",
       "    .dataframe thead th {\n",
       "        text-align: right;\n",
       "    }\n",
       "</style>\n",
       "<table border=\"1\" class=\"dataframe\">\n",
       "  <thead>\n",
       "    <tr style=\"text-align: right;\">\n",
       "      <th></th>\n",
       "      <th>new_obj_128_61_224</th>\n",
       "      <th>260</th>\n",
       "      <th>new_obj_9</th>\n",
       "      <th>516</th>\n",
       "      <th>249_12_36</th>\n",
       "      <th>249_12_36</th>\n",
       "      <th>249_12_36</th>\n",
       "      <th>249_12_36</th>\n",
       "      <th>new_obj_0_39_105</th>\n",
       "      <th>new_obj_0_39_105</th>\n",
       "      <th>new_obj_0_39_105</th>\n",
       "      <th>new_obj_0_39_105</th>\n",
       "      <th>new_obj_86</th>\n",
       "    </tr>\n",
       "  </thead>\n",
       "  <tbody>\n",
       "    <tr>\n",
       "      <th>0</th>\n",
       "      <td>188268.011271</td>\n",
       "      <td>104542.016983</td>\n",
       "      <td>23768.465439</td>\n",
       "      <td>107787.258523</td>\n",
       "      <td>117025.832146</td>\n",
       "      <td>117025.832146</td>\n",
       "      <td>117025.832146</td>\n",
       "      <td>117025.832146</td>\n",
       "      <td>174627.599116</td>\n",
       "      <td>174627.599116</td>\n",
       "      <td>174627.599116</td>\n",
       "      <td>174627.599116</td>\n",
       "      <td>107222.092535</td>\n",
       "    </tr>\n",
       "    <tr>\n",
       "      <th>new_obj_94</th>\n",
       "      <td>174577.568845</td>\n",
       "      <td>7768.913805</td>\n",
       "      <td>92037.287233</td>\n",
       "      <td>5246.192750</td>\n",
       "      <td>19709.847653</td>\n",
       "      <td>19709.847653</td>\n",
       "      <td>19709.847653</td>\n",
       "      <td>19709.847653</td>\n",
       "      <td>220807.836573</td>\n",
       "      <td>220807.836573</td>\n",
       "      <td>220807.836573</td>\n",
       "      <td>220807.836573</td>\n",
       "      <td>830.729258</td>\n",
       "    </tr>\n",
       "    <tr>\n",
       "      <th>10</th>\n",
       "      <td>166956.789416</td>\n",
       "      <td>414.710928</td>\n",
       "      <td>86312.155642</td>\n",
       "      <td>7918.061462</td>\n",
       "      <td>19814.991802</td>\n",
       "      <td>19814.991802</td>\n",
       "      <td>19814.991802</td>\n",
       "      <td>19814.991802</td>\n",
       "      <td>213187.057143</td>\n",
       "      <td>213187.057143</td>\n",
       "      <td>213187.057143</td>\n",
       "      <td>213187.057143</td>\n",
       "      <td>7352.895475</td>\n",
       "    </tr>\n",
       "    <tr>\n",
       "      <th>25</th>\n",
       "      <td>173234.000000</td>\n",
       "      <td>340605.500343</td>\n",
       "      <td>337733.545832</td>\n",
       "      <td>347546.005574</td>\n",
       "      <td>358920.155155</td>\n",
       "      <td>358920.155155</td>\n",
       "      <td>358920.155155</td>\n",
       "      <td>358920.155155</td>\n",
       "      <td>464608.447333</td>\n",
       "      <td>464608.447333</td>\n",
       "      <td>464608.447333</td>\n",
       "      <td>464608.447333</td>\n",
       "      <td>346980.839586</td>\n",
       "    </tr>\n",
       "    <tr>\n",
       "      <th>26</th>\n",
       "      <td>175295.285210</td>\n",
       "      <td>8486.630170</td>\n",
       "      <td>93370.904258</td>\n",
       "      <td>6617.659657</td>\n",
       "      <td>21081.314560</td>\n",
       "      <td>21081.314560</td>\n",
       "      <td>21081.314560</td>\n",
       "      <td>21081.314560</td>\n",
       "      <td>221525.552937</td>\n",
       "      <td>221525.552937</td>\n",
       "      <td>221525.552937</td>\n",
       "      <td>221525.552937</td>\n",
       "      <td>2202.196166</td>\n",
       "    </tr>\n",
       "  </tbody>\n",
       "</table>\n",
       "</div>"
      ],
      "text/plain": [
       "            new_obj_128_61_224            260      new_obj_9            516  \\\n",
       "0                188268.011271  104542.016983   23768.465439  107787.258523   \n",
       "new_obj_94       174577.568845    7768.913805   92037.287233    5246.192750   \n",
       "10               166956.789416     414.710928   86312.155642    7918.061462   \n",
       "25               173234.000000  340605.500343  337733.545832  347546.005574   \n",
       "26               175295.285210    8486.630170   93370.904258    6617.659657   \n",
       "\n",
       "                249_12_36      249_12_36      249_12_36      249_12_36  \\\n",
       "0           117025.832146  117025.832146  117025.832146  117025.832146   \n",
       "new_obj_94   19709.847653   19709.847653   19709.847653   19709.847653   \n",
       "10           19814.991802   19814.991802   19814.991802   19814.991802   \n",
       "25          358920.155155  358920.155155  358920.155155  358920.155155   \n",
       "26           21081.314560   21081.314560   21081.314560   21081.314560   \n",
       "\n",
       "            new_obj_0_39_105  new_obj_0_39_105  new_obj_0_39_105  \\\n",
       "0              174627.599116     174627.599116     174627.599116   \n",
       "new_obj_94     220807.836573     220807.836573     220807.836573   \n",
       "10             213187.057143     213187.057143     213187.057143   \n",
       "25             464608.447333     464608.447333     464608.447333   \n",
       "26             221525.552937     221525.552937     221525.552937   \n",
       "\n",
       "            new_obj_0_39_105     new_obj_86  \n",
       "0              174627.599116  107222.092535  \n",
       "new_obj_94     220807.836573     830.729258  \n",
       "10             213187.057143    7352.895475  \n",
       "25             464608.447333  346980.839586  \n",
       "26             221525.552937    2202.196166  "
      ]
     },
     "execution_count": 20,
     "metadata": {},
     "output_type": "execute_result"
    }
   ],
   "source": [
    "od_df.head()"
   ]
  },
  {
   "cell_type": "markdown",
   "metadata": {},
   "source": [
    "For each origin set of 5 (k) possible NN:\n",
    "    - Add snapping dist (in time) + time to a destination\n",
    "    - Which destination? min time from all of them won't necessarily work, so we need to find the closest destination for each origin, and select the NN which yields the fastest travel time to that dest\n",
    "    - closest_dest.idx should match the OD column order."
   ]
  },
  {
   "cell_type": "code",
   "execution_count": 21,
   "metadata": {},
   "outputs": [
    {
     "name": "stdout",
     "output_type": "stream",
     "text": [
      "CPU times: user 1.32 s, sys: 9.4 ms, total: 1.33 s\n",
      "Wall time: 1.33 s\n"
     ]
    }
   ],
   "source": [
    "%%time\n",
    "closest_dest = gn.pandana_snap_points(origins, dest_all, source_crs='epsg:4326', target_crs=utm,\n",
    "                                      add_dist_to_node_col=True)"
   ]
  },
  {
   "cell_type": "code",
   "execution_count": 22,
   "metadata": {},
   "outputs": [],
   "source": [
    "closest_dest = closest_dest.set_index('pointid')"
   ]
  },
  {
   "cell_type": "code",
   "execution_count": 23,
   "metadata": {},
   "outputs": [
    {
     "data": {
      "text/html": [
       "<div>\n",
       "<style scoped>\n",
       "    .dataframe tbody tr th:only-of-type {\n",
       "        vertical-align: middle;\n",
       "    }\n",
       "\n",
       "    .dataframe tbody tr th {\n",
       "        vertical-align: top;\n",
       "    }\n",
       "\n",
       "    .dataframe thead th {\n",
       "        text-align: right;\n",
       "    }\n",
       "</style>\n",
       "<table border=\"1\" class=\"dataframe\">\n",
       "  <thead>\n",
       "    <tr style=\"text-align: right;\">\n",
       "      <th></th>\n",
       "      <th>Pop</th>\n",
       "      <th>geometry</th>\n",
       "      <th>idx</th>\n",
       "      <th>idx_dist</th>\n",
       "    </tr>\n",
       "    <tr>\n",
       "      <th>pointid</th>\n",
       "      <th></th>\n",
       "      <th></th>\n",
       "      <th></th>\n",
       "      <th></th>\n",
       "    </tr>\n",
       "  </thead>\n",
       "  <tbody>\n",
       "    <tr>\n",
       "      <th>160</th>\n",
       "      <td>20.005409</td>\n",
       "      <td>POINT (294635.138 1405028.298)</td>\n",
       "      <td>0</td>\n",
       "      <td>104317.192282</td>\n",
       "    </tr>\n",
       "    <tr>\n",
       "      <th>161</th>\n",
       "      <td>12.062751</td>\n",
       "      <td>POINT (295540.325 1405021.740)</td>\n",
       "      <td>0</td>\n",
       "      <td>104535.480534</td>\n",
       "    </tr>\n",
       "    <tr>\n",
       "      <th>162</th>\n",
       "      <td>9.741089</td>\n",
       "      <td>POINT (296445.509 1405015.211)</td>\n",
       "      <td>0</td>\n",
       "      <td>104761.162858</td>\n",
       "    </tr>\n",
       "    <tr>\n",
       "      <th>163</th>\n",
       "      <td>10.025794</td>\n",
       "      <td>POINT (297350.688 1405008.711)</td>\n",
       "      <td>0</td>\n",
       "      <td>104994.191471</td>\n",
       "    </tr>\n",
       "    <tr>\n",
       "      <th>355</th>\n",
       "      <td>15.837574</td>\n",
       "      <td>POINT (291912.772 1404126.147)</td>\n",
       "      <td>0</td>\n",
       "      <td>102806.303627</td>\n",
       "    </tr>\n",
       "  </tbody>\n",
       "</table>\n",
       "</div>"
      ],
      "text/plain": [
       "               Pop                        geometry  idx       idx_dist\n",
       "pointid                                                               \n",
       "160      20.005409  POINT (294635.138 1405028.298)    0  104317.192282\n",
       "161      12.062751  POINT (295540.325 1405021.740)    0  104535.480534\n",
       "162       9.741089  POINT (296445.509 1405015.211)    0  104761.162858\n",
       "163      10.025794  POINT (297350.688 1405008.711)    0  104994.191471\n",
       "355      15.837574  POINT (291912.772 1404126.147)    0  102806.303627"
      ]
     },
     "execution_count": 23,
     "metadata": {},
     "output_type": "execute_result"
    }
   ],
   "source": [
    "closest_dest.head()"
   ]
  },
  {
   "cell_type": "code",
   "execution_count": 25,
   "metadata": {},
   "outputs": [
    {
     "name": "stdout",
     "output_type": "stream",
     "text": [
      "CPU times: user 17.8 s, sys: 24 ms, total: 17.8 s\n",
      "Wall time: 17.8 s\n"
     ]
    }
   ],
   "source": [
    "%%time\n",
    "fastest_nn = []\n",
    "fastest_dist = []\n",
    "custom_speed = 20 # km/h\n",
    "\n",
    "for pointid, items in origins_snapped_dict.items():\n",
    "    dest_index = closest_dest.loc[pointid].idx\n",
    "    nn_list = items['NN']\n",
    "    dist_list = items['NN_dist']\n",
    "    total_dist_list = []\n",
    "    for i in range(0, len(nn_list)):\n",
    "        dist_snapping = dist_list[i]\n",
    "#         time_snapping = ((dist_list[i] / 1000) / custom_speed) * 60 * 60\n",
    "        dist_to_dest = od_df.loc[nn_list[i]].iloc[dest_index]\n",
    "#         time_to_dest = od_df.loc[nn_list[i]].iloc[dest_index]\n",
    "        total_dist = dist_snapping+dist_to_dest\n",
    "#         total_time = time_snapping+time_to_dest\n",
    "        total_dist_list.append(total_dist)\n",
    "#         print(f\"id: {nn_list[i]}, snapping dist (km): {dist_list[i]/1000:.2f}, time to dest (min): {(total_time/60)/60:.2f}\")\n",
    "    min_pos = total_dist_list.index(min(total_dist_list))\n",
    "    fastest_nn.append(nn_list[min_pos])\n",
    "    fastest_dist.append(dist_list[min_pos])\n",
    "#     origins_snapped_smart.loc[pointid, \"NN\"] = nn_list[min_pos]\n",
    "#     origins_snapped_smart.loc[pointid, \"NN_dist\"] = dist_list[min_pos]"
   ]
  },
  {
   "cell_type": "code",
   "execution_count": 26,
   "metadata": {},
   "outputs": [],
   "source": [
    "origins_snapped = origins.copy().set_index('pointid')\n",
    "origins_snapped['NN'] = pd.Series(fastest_nn, index = origins_snapped.index)\n",
    "origins_snapped['NN_dist'] = pd.Series(fastest_dist, index = origins_snapped.index)\n",
    "origins_snapped['pointid'] = origins_snapped.index\n",
    "origins_snapped['NN_dist_hours'] = ((origins_snapped.NN_dist / 1000) / custom_speed)"
   ]
  },
  {
   "cell_type": "code",
   "execution_count": 27,
   "metadata": {},
   "outputs": [],
   "source": [
    "origins_join = origins_snapped.join(od_df, on='NN')"
   ]
  },
  {
   "cell_type": "code",
   "execution_count": 28,
   "metadata": {},
   "outputs": [
    {
     "data": {
      "text/plain": [
       "True"
      ]
     },
     "execution_count": 28,
     "metadata": {},
     "output_type": "execute_result"
    }
   ],
   "source": [
    "all(origins_join.columns[6:] == dest_snapped.NN)"
   ]
  },
  {
   "cell_type": "code",
   "execution_count": 30,
   "metadata": {},
   "outputs": [],
   "source": [
    "origins_join_rename = origins_join.copy()\n",
    "origins_join_rename.columns = pd.MultiIndex.from_arrays([['origin' for each in origins_snapped.columns]+list(dest_snapped.dest_type), origins_snapped.columns.append(dest_snapped.index)])"
   ]
  },
  {
   "cell_type": "markdown",
   "metadata": {},
   "source": [
    "Add snapping distance"
   ]
  },
  {
   "cell_type": "code",
   "execution_count": 31,
   "metadata": {},
   "outputs": [],
   "source": [
    "origins_join2 = origins_join_rename.apply(lambda x: (x + origins_join_rename.origin.NN_dist)/1000 if x.name[1] in dest_snapped.index else x)"
   ]
  },
  {
   "cell_type": "code",
   "execution_count": 32,
   "metadata": {},
   "outputs": [
    {
     "data": {
      "text/plain": [
       "'/home/wb514197/data/INFRA_SAP/DJI/output'"
      ]
     },
     "execution_count": 32,
     "metadata": {},
     "output_type": "execute_result"
    }
   ],
   "source": [
    "out_folder"
   ]
  },
  {
   "cell_type": "code",
   "execution_count": 33,
   "metadata": {},
   "outputs": [],
   "source": [
    "origins_join2.to_csv(os.path.join(out_folder, 'OD_11_23_Distances.csv'))"
   ]
  },
  {
   "cell_type": "markdown",
   "metadata": {},
   "source": [
    "### Make rasters of min travel time to each dest"
   ]
  },
  {
   "cell_type": "code",
   "execution_count": 34,
   "metadata": {},
   "outputs": [],
   "source": [
    "raster_path = wp_1km"
   ]
  },
  {
   "cell_type": "code",
   "execution_count": 35,
   "metadata": {},
   "outputs": [],
   "source": [
    "output_path = os.path.join(out_folder, \"travel_distance\")\n",
    "if not os.path.exists(output_path):\n",
    "    os.mkdir(output_path)"
   ]
  },
  {
   "cell_type": "code",
   "execution_count": 36,
   "metadata": {},
   "outputs": [],
   "source": [
    "# CHECK THAT MOST POPULATED CITY IS THE CAPITAL\n",
    "cap_idx = dest_all.sort_values('Pop', ascending=False).iloc[[0]].index[0]"
   ]
  },
  {
   "cell_type": "code",
   "execution_count": 37,
   "metadata": {},
   "outputs": [],
   "source": [
    "city_min = pd.DataFrame(origins_join2['city'].min(axis=1), columns=[\"dist_city\"])\n",
    "ports_min = pd.DataFrame(origins_join2['port'].min(axis=1), columns=[\"dist_port\"])\n",
    "airports_min = pd.DataFrame(origins_join2['airport'].min(axis=1), columns=[\"dist_airport\"])\n",
    "borders_min = pd.DataFrame(origins_join2['border'].min(axis=1), columns=[\"dist_border\"])\n",
    "capital_dist = origins_join2['city'].loc[:,[cap_idx]].rename(columns={cap_idx:'dist_capital'})"
   ]
  },
  {
   "cell_type": "code",
   "execution_count": 38,
   "metadata": {},
   "outputs": [],
   "source": [
    "origins_dist = origins_snapped.join([city_min, airports_min, borders_min, capital_dist, ports_min])"
   ]
  },
  {
   "cell_type": "code",
   "execution_count": 39,
   "metadata": {},
   "outputs": [
    {
     "data": {
      "text/plain": [
       "Index(['Pop', 'geometry', 'NN', 'NN_dist', 'pointid', 'NN_dist_hours',\n",
       "       'dist_city', 'dist_airport', 'dist_border', 'dist_capital',\n",
       "       'dist_port'],\n",
       "      dtype='object')"
      ]
     },
     "execution_count": 39,
     "metadata": {},
     "output_type": "execute_result"
    }
   ],
   "source": [
    "origins_dist.columns"
   ]
  },
  {
   "cell_type": "code",
   "execution_count": 40,
   "metadata": {},
   "outputs": [],
   "source": [
    "aggregator.rasterize_gdf(origins_dist, 'dist_city', raster_path, os.path.join(output_path,f\"cities_min_dist.tif\"))\n",
    "aggregator.rasterize_gdf(origins_dist, 'dist_port', raster_path, os.path.join(output_path,f\"port_min_dist.tif\"))\n",
    "aggregator.rasterize_gdf(origins_dist, 'dist_airport', raster_path, os.path.join(output_path,f\"airport_min_dist.tif\"))\n",
    "aggregator.rasterize_gdf(origins_dist, 'dist_border', raster_path, os.path.join(output_path,f\"borders_min_dist.tif\"))\n",
    "aggregator.rasterize_gdf(origins_dist, 'dist_capital', raster_path, os.path.join(output_path,f\"capital_dist.tif\"))"
   ]
  }
 ],
 "metadata": {
  "kernelspec": {
   "display_name": "GEO",
   "language": "python",
   "name": "geo"
  },
  "language_info": {
   "codemirror_mode": {
    "name": "ipython",
    "version": 3
   },
   "file_extension": ".py",
   "mimetype": "text/x-python",
   "name": "python",
   "nbconvert_exporter": "python",
   "pygments_lexer": "ipython3",
   "version": "3.7.6"
  }
 },
 "nbformat": 4,
 "nbformat_minor": 2
}
