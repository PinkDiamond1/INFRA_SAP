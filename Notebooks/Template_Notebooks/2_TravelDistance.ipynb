{
 "cells": [
  {
   "cell_type": "markdown",
   "metadata": {},
   "source": [
    "## Country-level INFRA-SAP\n"
   ]
  },
  {
   "cell_type": "markdown",
   "metadata": {},
   "source": [
    "- Origins: Population grid (Worldpop downsampled to 500 meters)\n",
    "- Destinations: Cities, airports, border crossings, and ports\n",
    "\n",
    "Typical access analysis with two adjustments:\n",
    "    1. Extract different sets of destinations from OD\n",
    "    2. Join travel time to origin grid based on \"NN with the fastest route\" (not necessarily closest NN)"
   ]
  },
  {
   "cell_type": "code",
   "execution_count": 2,
   "metadata": {},
   "outputs": [],
   "source": [
    "import os, sys, time, importlib\n",
    "\n",
    "import geopandas as gpd\n",
    "import pandas as pd\n",
    "import networkx as nx\n",
    "sys.path.append('/home/wb514197/Repos/GOSTnets')\n",
    "\n",
    "import GOSTnets as gn\n",
    "import rasterio as rio\n",
    "from osgeo import gdal\n",
    "import GOSTnets.calculate_od_raw as calcOD\n",
    "import numpy as np\n",
    "from shapely.geometry import Point\n",
    "\n",
    "sys.path.append('/home/wb514197/Repos/INFRA_SAP')\n",
    "from infrasap import aggregator\n",
    "from shapely.wkt import loads"
   ]
  },
  {
   "cell_type": "code",
   "execution_count": 3,
   "metadata": {},
   "outputs": [],
   "source": [
    "# This is a Jupyter Notebook extension which reloads all of the modules whenever you run the code\n",
    "# This is optional but good if you are modifying and testing source code\n",
    "%load_ext autoreload\n",
    "%autoreload 2"
   ]
  },
  {
   "cell_type": "code",
   "execution_count": 5,
   "metadata": {},
   "outputs": [],
   "source": [
    "country = 'costarica'\n",
    "iso3 = 'CRI'\n",
    "epsg = 32616"
   ]
  },
  {
   "cell_type": "markdown",
   "metadata": {},
   "source": [
    "### Load origins and graph"
   ]
  },
  {
   "cell_type": "code",
   "execution_count": 6,
   "metadata": {},
   "outputs": [],
   "source": [
    "base_in = \"/home/public/Data/PROJECTS/INFRA_SAP\"\n",
    "in_folder = os.path.join(base_in, iso3)\n",
    "\n",
    "# define data paths\n",
    "focal_admin2 = os.path.join(in_folder, \"admin.shp\")\n",
    "focal_osm = os.path.join(in_folder, f\"{country}-latest.osm.pbf\")\n",
    "pop_name = \"WP_2020_1km\"\n",
    "wp_1km = os.path.join(in_folder, f\"{pop_name}.tif\")\n",
    "urban_extents = os.path.join(in_folder, \"urban_extents.shp\")\n",
    "airports = os.path.join(in_folder, \"airports.shp\")\n",
    "ports = os.path.join(in_folder, \"ports.shp\")\n",
    "borders = os.path.join(in_folder, \"borders.shp\")\n",
    "G_path = os.path.join(in_folder, 'graph', f\"G_{iso3}.pickle\")\n",
    "\n",
    "base_out = \"/home/wb514197/data/INFRA_SAP\" # GOT permission denied using public \n",
    "out_folder = os.path.join(base_out, iso3)\n",
    "if not os.path.exists(out_folder):\n",
    "    os.makedirs(out_folder)"
   ]
  },
  {
   "cell_type": "markdown",
   "metadata": {},
   "source": [
    "Convert **WP_2020_1km.tif** into a point GeoData frame"
   ]
  },
  {
   "cell_type": "code",
   "execution_count": 7,
   "metadata": {},
   "outputs": [],
   "source": [
    "out_pop_csv = os.path.join(out_folder, f\"{pop_name}.csv\")\n",
    "wp_df = pd.read_csv(out_pop_csv, sep=' ')\n",
    "wp_df.rename(columns={\"Z\":\"Pop\"}, inplace=True)\n",
    "wp_df = wp_df.loc[wp_df.Pop!=-99999.0].copy()\n",
    "geoms = [Point(xy) for xy in zip(wp_df.X, wp_df.Y)]\n",
    "wp_df.drop([\"X\",\"Y\"], axis=1, inplace=True)\n",
    "crs = 'EPSG:4326'\n",
    "origins = gpd.GeoDataFrame(wp_df, crs=crs, geometry=geoms)\n",
    "origins['pointid'] = origins.index"
   ]
  },
  {
   "cell_type": "markdown",
   "metadata": {},
   "source": [
    "### Prepare Graph"
   ]
  },
  {
   "cell_type": "code",
   "execution_count": 8,
   "metadata": {},
   "outputs": [],
   "source": [
    "G_time = nx.read_gpickle(os.path.join(out_folder, 'graph', f'G_{iso3}_Salt.pickle'))"
   ]
  },
  {
   "cell_type": "markdown",
   "metadata": {},
   "source": [
    "#### Select largest graph (again)"
   ]
  },
  {
   "cell_type": "code",
   "execution_count": 9,
   "metadata": {},
   "outputs": [],
   "source": [
    "list_of_subgraphs = [G_time.subgraph(c).copy() for c in sorted(nx.strongly_connected_components(G_time), key=len, reverse=True)]"
   ]
  },
  {
   "cell_type": "code",
   "execution_count": 10,
   "metadata": {},
   "outputs": [],
   "source": [
    "G_largest = list_of_subgraphs[0]"
   ]
  },
  {
   "cell_type": "markdown",
   "metadata": {},
   "source": [
    "### Prepare destinations"
   ]
  },
  {
   "cell_type": "code",
   "execution_count": 20,
   "metadata": {},
   "outputs": [],
   "source": [
    "from shapely.wkt import loads"
   ]
  },
  {
   "cell_type": "code",
   "execution_count": 16,
   "metadata": {},
   "outputs": [],
   "source": [
    "def load_csv(csv_path, geometry = 'geometry', crs = 'epsg:4326'):\n",
    "    df = pd.read_csv(csv_path, index_col=0)\n",
    "    df[geometry] = df[geometry].apply(loads)\n",
    "    gdf = gpd.GeoDataFrame(df, crs = crs)\n",
    "    return(gdf)"
   ]
  },
  {
   "cell_type": "code",
   "execution_count": 17,
   "metadata": {},
   "outputs": [],
   "source": [
    "dest_all = load_csv(os.path.join(out_folder, 'destination_all.csv'))"
   ]
  },
  {
   "cell_type": "code",
   "execution_count": 21,
   "metadata": {},
   "outputs": [
    {
     "data": {
      "text/plain": [
       "(62322, 22)"
      ]
     },
     "execution_count": 21,
     "metadata": {},
     "output_type": "execute_result"
    }
   ],
   "source": [
    "len(origins), len(dest_all)"
   ]
  },
  {
   "cell_type": "markdown",
   "metadata": {},
   "source": [
    "### Snap origins and destinations"
   ]
  },
  {
   "cell_type": "markdown",
   "metadata": {},
   "source": [
    "#### Snap to origins to 5 nearest nodes"
   ]
  },
  {
   "cell_type": "code",
   "execution_count": 22,
   "metadata": {},
   "outputs": [],
   "source": [
    "utm = f\"EPSG:{epsg}\""
   ]
  },
  {
   "cell_type": "code",
   "execution_count": 23,
   "metadata": {},
   "outputs": [
    {
     "name": "stdout",
     "output_type": "stream",
     "text": [
      "CPU times: user 9.74 s, sys: 172 ms, total: 9.92 s\n",
      "Wall time: 9.89 s\n"
     ]
    }
   ],
   "source": [
    "%%time\n",
    "# this function returns a dictionary of origin IDs, with a list of 5 NNs, and a corresponding list of distances\n",
    "origins_snapped_dict = gn.pandana_snap_to_many(G_largest, origins, source_crs='epsg:4326', target_crs=utm, \n",
    "                                               add_dist_to_node_col = True, k_nearest=5, origin_id='pointid')"
   ]
  },
  {
   "cell_type": "code",
   "execution_count": 24,
   "metadata": {},
   "outputs": [],
   "source": [
    "dest_snapped = gn.pandana_snap_c(G_largest, dest_all, source_crs='epsg:4326', target_crs=utm,\n",
    "                                 add_dist_to_node_col = False)"
   ]
  },
  {
   "cell_type": "code",
   "execution_count": 25,
   "metadata": {},
   "outputs": [],
   "source": [
    "# origins_unique_nn = list(set(origins_snapped['NN']))\n",
    "dest_nn = list(dest_snapped['NN'])\n",
    "list_origins_NN = []\n",
    "for each in origins_snapped_dict.values():\n",
    "    list_origins_NN += each['NN']\n",
    "origins_unique_nn = list(set(list_origins_NN))"
   ]
  },
  {
   "cell_type": "code",
   "execution_count": 26,
   "metadata": {},
   "outputs": [
    {
     "name": "stdout",
     "output_type": "stream",
     "text": [
      "CPU times: user 233 ms, sys: 905 µs, total: 234 ms\n",
      "Wall time: 233 ms\n"
     ]
    }
   ],
   "source": [
    "%%time\n",
    "curOD = gn.calculate_OD(G_largest, origins_unique_nn, dest_nn, fail_value = 999999999, weight='length')"
   ]
  },
  {
   "cell_type": "code",
   "execution_count": 27,
   "metadata": {},
   "outputs": [
    {
     "data": {
      "text/plain": [
       "array([], dtype=float64)"
      ]
     },
     "execution_count": 27,
     "metadata": {},
     "output_type": "execute_result"
    }
   ],
   "source": [
    "curOD[curOD==999999999]"
   ]
  },
  {
   "cell_type": "code",
   "execution_count": 28,
   "metadata": {},
   "outputs": [
    {
     "data": {
      "text/plain": [
       "(2471, 22)"
      ]
     },
     "execution_count": 28,
     "metadata": {},
     "output_type": "execute_result"
    }
   ],
   "source": [
    "curOD.shape"
   ]
  },
  {
   "cell_type": "code",
   "execution_count": 29,
   "metadata": {},
   "outputs": [],
   "source": [
    "od_df = pd.DataFrame(curOD, index=origins_unique_nn, columns=dest_nn)"
   ]
  },
  {
   "cell_type": "code",
   "execution_count": 30,
   "metadata": {},
   "outputs": [
    {
     "data": {
      "text/html": [
       "<div>\n",
       "<style scoped>\n",
       "    .dataframe tbody tr th:only-of-type {\n",
       "        vertical-align: middle;\n",
       "    }\n",
       "\n",
       "    .dataframe tbody tr th {\n",
       "        vertical-align: top;\n",
       "    }\n",
       "\n",
       "    .dataframe thead th {\n",
       "        text-align: right;\n",
       "    }\n",
       "</style>\n",
       "<table border=\"1\" class=\"dataframe\">\n",
       "  <thead>\n",
       "    <tr style=\"text-align: right;\">\n",
       "      <th></th>\n",
       "      <th>1750</th>\n",
       "      <th>new_obj_1163</th>\n",
       "      <th>4763</th>\n",
       "      <th>new_obj_264</th>\n",
       "      <th>new_obj_1030_599_2116</th>\n",
       "      <th>1750</th>\n",
       "      <th>new_obj_1754_541_1904</th>\n",
       "      <th>new_obj_481_119_411</th>\n",
       "      <th>5267_50_148</th>\n",
       "      <th>new_obj_1139</th>\n",
       "      <th>...</th>\n",
       "      <th>new_obj_1805_627_2200</th>\n",
       "      <th>new_obj_311</th>\n",
       "      <th>6805</th>\n",
       "      <th>6805</th>\n",
       "      <th>6805</th>\n",
       "      <th>6805</th>\n",
       "      <th>new_obj_1867</th>\n",
       "      <th>new_obj_1867</th>\n",
       "      <th>new_obj_1867</th>\n",
       "      <th>new_obj_1867</th>\n",
       "    </tr>\n",
       "  </thead>\n",
       "  <tbody>\n",
       "    <tr>\n",
       "      <th>8195</th>\n",
       "      <td>159319.697987</td>\n",
       "      <td>71306.821165</td>\n",
       "      <td>5390.790836</td>\n",
       "      <td>143229.577052</td>\n",
       "      <td>66367.946227</td>\n",
       "      <td>159319.697987</td>\n",
       "      <td>202741.704519</td>\n",
       "      <td>170611.029736</td>\n",
       "      <td>322299.145659</td>\n",
       "      <td>3222.975087</td>\n",
       "      <td>...</td>\n",
       "      <td>228337.373992</td>\n",
       "      <td>115338.176101</td>\n",
       "      <td>308883.904514</td>\n",
       "      <td>308883.904514</td>\n",
       "      <td>308883.904514</td>\n",
       "      <td>308883.904514</td>\n",
       "      <td>264777.178387</td>\n",
       "      <td>264777.178387</td>\n",
       "      <td>264777.178387</td>\n",
       "      <td>264777.178387</td>\n",
       "    </tr>\n",
       "    <tr>\n",
       "      <th>8196</th>\n",
       "      <td>16463.270385</td>\n",
       "      <td>239256.197692</td>\n",
       "      <td>166431.078180</td>\n",
       "      <td>266251.578821</td>\n",
       "      <td>234317.322754</td>\n",
       "      <td>16463.270385</td>\n",
       "      <td>366535.423191</td>\n",
       "      <td>338560.406263</td>\n",
       "      <td>465913.215579</td>\n",
       "      <td>171167.972418</td>\n",
       "      <td>...</td>\n",
       "      <td>355606.554325</td>\n",
       "      <td>265135.347898</td>\n",
       "      <td>349181.127963</td>\n",
       "      <td>349181.127963</td>\n",
       "      <td>349181.127963</td>\n",
       "      <td>349181.127963</td>\n",
       "      <td>387389.358719</td>\n",
       "      <td>387389.358719</td>\n",
       "      <td>387389.358719</td>\n",
       "      <td>387389.358719</td>\n",
       "    </tr>\n",
       "    <tr>\n",
       "      <th>new_obj_1052</th>\n",
       "      <td>234133.125196</td>\n",
       "      <td>9888.607571</td>\n",
       "      <td>79733.174092</td>\n",
       "      <td>207288.842829</td>\n",
       "      <td>11120.867687</td>\n",
       "      <td>234133.125196</td>\n",
       "      <td>140990.214469</td>\n",
       "      <td>93122.215822</td>\n",
       "      <td>339644.479587</td>\n",
       "      <td>74468.822129</td>\n",
       "      <td>...</td>\n",
       "      <td>166585.883943</td>\n",
       "      <td>132683.510028</td>\n",
       "      <td>326229.238441</td>\n",
       "      <td>326229.238441</td>\n",
       "      <td>326229.238441</td>\n",
       "      <td>326229.238441</td>\n",
       "      <td>203025.688338</td>\n",
       "      <td>203025.688338</td>\n",
       "      <td>203025.688338</td>\n",
       "      <td>203025.688338</td>\n",
       "    </tr>\n",
       "    <tr>\n",
       "      <th>new_obj_469</th>\n",
       "      <td>140385.128919</td>\n",
       "      <td>94781.714848</td>\n",
       "      <td>22574.272153</td>\n",
       "      <td>116446.164834</td>\n",
       "      <td>89842.839910</td>\n",
       "      <td>140385.128919</td>\n",
       "      <td>226216.598202</td>\n",
       "      <td>194085.923420</td>\n",
       "      <td>316107.801591</td>\n",
       "      <td>28080.585211</td>\n",
       "      <td>...</td>\n",
       "      <td>251812.267676</td>\n",
       "      <td>113924.664168</td>\n",
       "      <td>296648.811758</td>\n",
       "      <td>296648.811758</td>\n",
       "      <td>296648.811758</td>\n",
       "      <td>296648.811758</td>\n",
       "      <td>288252.072070</td>\n",
       "      <td>288252.072070</td>\n",
       "      <td>288252.072070</td>\n",
       "      <td>288252.072070</td>\n",
       "    </tr>\n",
       "    <tr>\n",
       "      <th>22</th>\n",
       "      <td>266314.699024</td>\n",
       "      <td>38291.693648</td>\n",
       "      <td>111914.747919</td>\n",
       "      <td>243157.440926</td>\n",
       "      <td>46989.465784</td>\n",
       "      <td>266314.699024</td>\n",
       "      <td>93143.189705</td>\n",
       "      <td>115670.552710</td>\n",
       "      <td>375513.077683</td>\n",
       "      <td>106650.395956</td>\n",
       "      <td>...</td>\n",
       "      <td>118738.859179</td>\n",
       "      <td>168552.108125</td>\n",
       "      <td>362097.836538</td>\n",
       "      <td>362097.836538</td>\n",
       "      <td>362097.836538</td>\n",
       "      <td>362097.836538</td>\n",
       "      <td>155178.663574</td>\n",
       "      <td>155178.663574</td>\n",
       "      <td>155178.663574</td>\n",
       "      <td>155178.663574</td>\n",
       "    </tr>\n",
       "  </tbody>\n",
       "</table>\n",
       "<p>5 rows × 22 columns</p>\n",
       "</div>"
      ],
      "text/plain": [
       "                       1750   new_obj_1163           4763    new_obj_264  \\\n",
       "8195          159319.697987   71306.821165    5390.790836  143229.577052   \n",
       "8196           16463.270385  239256.197692  166431.078180  266251.578821   \n",
       "new_obj_1052  234133.125196    9888.607571   79733.174092  207288.842829   \n",
       "new_obj_469   140385.128919   94781.714848   22574.272153  116446.164834   \n",
       "22            266314.699024   38291.693648  111914.747919  243157.440926   \n",
       "\n",
       "              new_obj_1030_599_2116           1750  new_obj_1754_541_1904  \\\n",
       "8195                   66367.946227  159319.697987          202741.704519   \n",
       "8196                  234317.322754   16463.270385          366535.423191   \n",
       "new_obj_1052           11120.867687  234133.125196          140990.214469   \n",
       "new_obj_469            89842.839910  140385.128919          226216.598202   \n",
       "22                     46989.465784  266314.699024           93143.189705   \n",
       "\n",
       "              new_obj_481_119_411    5267_50_148   new_obj_1139  ...  \\\n",
       "8195                170611.029736  322299.145659    3222.975087  ...   \n",
       "8196                338560.406263  465913.215579  171167.972418  ...   \n",
       "new_obj_1052         93122.215822  339644.479587   74468.822129  ...   \n",
       "new_obj_469         194085.923420  316107.801591   28080.585211  ...   \n",
       "22                  115670.552710  375513.077683  106650.395956  ...   \n",
       "\n",
       "              new_obj_1805_627_2200    new_obj_311           6805  \\\n",
       "8195                  228337.373992  115338.176101  308883.904514   \n",
       "8196                  355606.554325  265135.347898  349181.127963   \n",
       "new_obj_1052          166585.883943  132683.510028  326229.238441   \n",
       "new_obj_469           251812.267676  113924.664168  296648.811758   \n",
       "22                    118738.859179  168552.108125  362097.836538   \n",
       "\n",
       "                       6805           6805           6805   new_obj_1867  \\\n",
       "8195          308883.904514  308883.904514  308883.904514  264777.178387   \n",
       "8196          349181.127963  349181.127963  349181.127963  387389.358719   \n",
       "new_obj_1052  326229.238441  326229.238441  326229.238441  203025.688338   \n",
       "new_obj_469   296648.811758  296648.811758  296648.811758  288252.072070   \n",
       "22            362097.836538  362097.836538  362097.836538  155178.663574   \n",
       "\n",
       "               new_obj_1867   new_obj_1867   new_obj_1867  \n",
       "8195          264777.178387  264777.178387  264777.178387  \n",
       "8196          387389.358719  387389.358719  387389.358719  \n",
       "new_obj_1052  203025.688338  203025.688338  203025.688338  \n",
       "new_obj_469   288252.072070  288252.072070  288252.072070  \n",
       "22            155178.663574  155178.663574  155178.663574  \n",
       "\n",
       "[5 rows x 22 columns]"
      ]
     },
     "execution_count": 30,
     "metadata": {},
     "output_type": "execute_result"
    }
   ],
   "source": [
    "od_df.head()"
   ]
  },
  {
   "cell_type": "markdown",
   "metadata": {},
   "source": [
    "For each origin set of 5 (k) possible NN:\n",
    "    - Add snapping dist (in time) + time to a destination\n",
    "    - Which destination? min time from all of them won't necessarily work, so we need to find the closest destination for each origin, and select the NN which yields the fastest travel time to that dest\n",
    "    - closest_dest.idx should match the OD column order."
   ]
  },
  {
   "cell_type": "code",
   "execution_count": 32,
   "metadata": {},
   "outputs": [
    {
     "name": "stdout",
     "output_type": "stream",
     "text": [
      "CPU times: user 3.16 s, sys: 40.5 ms, total: 3.2 s\n",
      "Wall time: 3.2 s\n"
     ]
    }
   ],
   "source": [
    "%%time\n",
    "closest_dest = gn.pandana_snap_points(origins, dest_all, source_crs='epsg:4326', target_crs=utm,\n",
    "                                      add_dist_to_node_col=True)"
   ]
  },
  {
   "cell_type": "code",
   "execution_count": 33,
   "metadata": {},
   "outputs": [],
   "source": [
    "closest_dest = closest_dest.set_index('pointid')"
   ]
  },
  {
   "cell_type": "code",
   "execution_count": 34,
   "metadata": {},
   "outputs": [
    {
     "data": {
      "text/html": [
       "<div>\n",
       "<style scoped>\n",
       "    .dataframe tbody tr th:only-of-type {\n",
       "        vertical-align: middle;\n",
       "    }\n",
       "\n",
       "    .dataframe tbody tr th {\n",
       "        vertical-align: top;\n",
       "    }\n",
       "\n",
       "    .dataframe thead th {\n",
       "        text-align: right;\n",
       "    }\n",
       "</style>\n",
       "<table border=\"1\" class=\"dataframe\">\n",
       "  <thead>\n",
       "    <tr style=\"text-align: right;\">\n",
       "      <th></th>\n",
       "      <th>Pop</th>\n",
       "      <th>geometry</th>\n",
       "      <th>idx</th>\n",
       "      <th>idx_dist</th>\n",
       "    </tr>\n",
       "    <tr>\n",
       "      <th>pointid</th>\n",
       "      <th></th>\n",
       "      <th></th>\n",
       "      <th></th>\n",
       "      <th></th>\n",
       "    </tr>\n",
       "  </thead>\n",
       "  <tbody>\n",
       "    <tr>\n",
       "      <th>177</th>\n",
       "      <td>265.947540</td>\n",
       "      <td>POINT (651070.347 1239876.698)</td>\n",
       "      <td>21</td>\n",
       "      <td>605.393660</td>\n",
       "    </tr>\n",
       "    <tr>\n",
       "      <th>178</th>\n",
       "      <td>197.396774</td>\n",
       "      <td>POINT (651980.301 1239880.985)</td>\n",
       "      <td>21</td>\n",
       "      <td>1128.859165</td>\n",
       "    </tr>\n",
       "    <tr>\n",
       "      <th>179</th>\n",
       "      <td>33.114670</td>\n",
       "      <td>POINT (652890.259 1239885.298)</td>\n",
       "      <td>21</td>\n",
       "      <td>1959.147076</td>\n",
       "    </tr>\n",
       "    <tr>\n",
       "      <th>180</th>\n",
       "      <td>15.100848</td>\n",
       "      <td>POINT (653800.219 1239889.637)</td>\n",
       "      <td>21</td>\n",
       "      <td>2838.718257</td>\n",
       "    </tr>\n",
       "    <tr>\n",
       "      <th>181</th>\n",
       "      <td>8.140772</td>\n",
       "      <td>POINT (654710.182 1239894.001)</td>\n",
       "      <td>21</td>\n",
       "      <td>3732.898671</td>\n",
       "    </tr>\n",
       "  </tbody>\n",
       "</table>\n",
       "</div>"
      ],
      "text/plain": [
       "                Pop                        geometry  idx     idx_dist\n",
       "pointid                                                              \n",
       "177      265.947540  POINT (651070.347 1239876.698)   21   605.393660\n",
       "178      197.396774  POINT (651980.301 1239880.985)   21  1128.859165\n",
       "179       33.114670  POINT (652890.259 1239885.298)   21  1959.147076\n",
       "180       15.100848  POINT (653800.219 1239889.637)   21  2838.718257\n",
       "181        8.140772  POINT (654710.182 1239894.001)   21  3732.898671"
      ]
     },
     "execution_count": 34,
     "metadata": {},
     "output_type": "execute_result"
    }
   ],
   "source": [
    "closest_dest.head()"
   ]
  },
  {
   "cell_type": "code",
   "execution_count": 35,
   "metadata": {},
   "outputs": [
    {
     "name": "stdout",
     "output_type": "stream",
     "text": [
      "CPU times: user 43.6 s, sys: 39.5 ms, total: 43.6 s\n",
      "Wall time: 43.6 s\n"
     ]
    }
   ],
   "source": [
    "%%time\n",
    "fastest_nn = []\n",
    "fastest_dist = []\n",
    "custom_speed = 30 # km/h\n",
    "\n",
    "for pointid, items in origins_snapped_dict.items():\n",
    "    dest_index = closest_dest.loc[pointid].idx\n",
    "    nn_list = items['NN']\n",
    "    dist_list = items['NN_dist']\n",
    "    total_dist_list = []\n",
    "    for i in range(0, len(nn_list)):\n",
    "        dist_snapping = dist_list[i]\n",
    "#         time_snapping = ((dist_list[i] / 1000) / custom_speed) * 60 * 60\n",
    "        dist_to_dest = od_df.loc[nn_list[i]].iloc[dest_index]\n",
    "#         time_to_dest = od_df.loc[nn_list[i]].iloc[dest_index]\n",
    "        total_dist = dist_snapping+dist_to_dest\n",
    "#         total_time = time_snapping+time_to_dest\n",
    "        total_dist_list.append(total_dist)\n",
    "#         print(f\"id: {nn_list[i]}, snapping dist (km): {dist_list[i]/1000:.2f}, time to dest (min): {(total_time/60)/60:.2f}\")\n",
    "    min_pos = total_dist_list.index(min(total_dist_list))\n",
    "    fastest_nn.append(nn_list[min_pos])\n",
    "    fastest_dist.append(dist_list[min_pos])\n",
    "#     origins_snapped_smart.loc[pointid, \"NN\"] = nn_list[min_pos]\n",
    "#     origins_snapped_smart.loc[pointid, \"NN_dist\"] = dist_list[min_pos]"
   ]
  },
  {
   "cell_type": "code",
   "execution_count": 38,
   "metadata": {},
   "outputs": [],
   "source": [
    "origins_snapped = origins.copy().set_index('pointid')\n",
    "origins_snapped['NN'] = pd.Series(fastest_nn, index = origins_snapped.index)\n",
    "origins_snapped['NN_dist'] = pd.Series(fastest_dist, index = origins_snapped.index)\n",
    "origins_snapped['pointid'] = origins_snapped.index\n",
    "origins_snapped['NN_dist_hours'] = ((origins_snapped.NN_dist / 1000) / custom_speed)"
   ]
  },
  {
   "cell_type": "code",
   "execution_count": 39,
   "metadata": {},
   "outputs": [],
   "source": [
    "origins_join = origins_snapped.join(od_df, on='NN')"
   ]
  },
  {
   "cell_type": "code",
   "execution_count": 43,
   "metadata": {},
   "outputs": [
    {
     "data": {
      "text/plain": [
       "True"
      ]
     },
     "execution_count": 43,
     "metadata": {},
     "output_type": "execute_result"
    }
   ],
   "source": [
    "all(origins_join.columns[6:] == dest_snapped.NN)"
   ]
  },
  {
   "cell_type": "code",
   "execution_count": 44,
   "metadata": {},
   "outputs": [],
   "source": [
    "origins_join_rename = origins_join.copy()\n",
    "origins_join_rename.columns = pd.MultiIndex.from_arrays([['origin' for each in origins_snapped.columns]+list(dest_snapped.dest_type), origins_snapped.columns.append(dest_snapped.index)])"
   ]
  },
  {
   "cell_type": "markdown",
   "metadata": {},
   "source": [
    "Add snapping distance"
   ]
  },
  {
   "cell_type": "code",
   "execution_count": 46,
   "metadata": {},
   "outputs": [],
   "source": [
    "origins_join2 = origins_join_rename.apply(lambda x: (x + origins_join_rename.origin.NN_dist)/1000 if x.name[1] in dest_snapped.index else x)"
   ]
  },
  {
   "cell_type": "code",
   "execution_count": 49,
   "metadata": {},
   "outputs": [
    {
     "data": {
      "text/plain": [
       "'/home/wb514197/data/INFRA_SAP/CRI'"
      ]
     },
     "execution_count": 49,
     "metadata": {},
     "output_type": "execute_result"
    }
   ],
   "source": [
    "out_folder"
   ]
  },
  {
   "cell_type": "code",
   "execution_count": 50,
   "metadata": {},
   "outputs": [],
   "source": [
    "origins_join2.to_csv(os.path.join(out_folder, 'OD_08_03_Distances.csv'))"
   ]
  },
  {
   "cell_type": "markdown",
   "metadata": {},
   "source": [
    "### Make rasters of min travel time to each dest"
   ]
  },
  {
   "cell_type": "code",
   "execution_count": 53,
   "metadata": {},
   "outputs": [],
   "source": [
    "raster_path = wp_1km"
   ]
  },
  {
   "cell_type": "code",
   "execution_count": 54,
   "metadata": {},
   "outputs": [],
   "source": [
    "output_path = os.path.join(out_folder, \"travel_distance\")\n",
    "if not os.path.exists(output_path):\n",
    "    os.mkdir(output_path)"
   ]
  },
  {
   "cell_type": "code",
   "execution_count": 56,
   "metadata": {},
   "outputs": [],
   "source": [
    "# CHECK THAT MOST POPULATED CITY IS THE CAPITAL\n",
    "cap_idx = dest_all.sort_values('Pop', ascending=False).iloc[[0]].index[0]"
   ]
  },
  {
   "cell_type": "code",
   "execution_count": 57,
   "metadata": {},
   "outputs": [],
   "source": [
    "city_min = pd.DataFrame(origins_join2['city'].min(axis=1), columns=[\"dist_city\"])\n",
    "ports_min = pd.DataFrame(origins_join2['port'].min(axis=1), columns=[\"dist_port\"])\n",
    "airports_min = pd.DataFrame(origins_join2['airport'].min(axis=1), columns=[\"dist_airport\"])\n",
    "borders_min = pd.DataFrame(origins_join2['border'].min(axis=1), columns=[\"dist_border\"])\n",
    "capital_dist = origins_join2['city'].loc[:,[cap_idx]].rename(columns={cap_idx:'dist_capital'})"
   ]
  },
  {
   "cell_type": "code",
   "execution_count": 58,
   "metadata": {},
   "outputs": [],
   "source": [
    "origins_dist = origins_snapped.join([city_min, ports_min, airports_min, borders_min, capital_dist])"
   ]
  },
  {
   "cell_type": "code",
   "execution_count": 61,
   "metadata": {},
   "outputs": [
    {
     "data": {
      "text/plain": [
       "Index(['Pop', 'geometry', 'NN', 'NN_dist', 'pointid', 'NN_dist_hours',\n",
       "       'dist_city', 'dist_port', 'dist_airport', 'dist_border',\n",
       "       'dist_capital'],\n",
       "      dtype='object')"
      ]
     },
     "execution_count": 61,
     "metadata": {},
     "output_type": "execute_result"
    }
   ],
   "source": [
    "origins_dist.columns"
   ]
  },
  {
   "cell_type": "code",
   "execution_count": 62,
   "metadata": {},
   "outputs": [],
   "source": [
    "aggregator.rasterize_gdf(origins_dist, 'dist_city', raster_path, os.path.join(output_path,f\"cities_min_dist.tif\"))\n",
    "aggregator.rasterize_gdf(origins_dist, 'dist_port', raster_path, os.path.join(output_path,f\"port_min_dist.tif\"))\n",
    "aggregator.rasterize_gdf(origins_dist, 'dist_airport', raster_path, os.path.join(output_path,f\"airport_min_dist.tif\"))\n",
    "aggregator.rasterize_gdf(origins_dist, 'dist_border', raster_path, os.path.join(output_path,f\"borders_min_dist.tif\"))\n",
    "aggregator.rasterize_gdf(origins_dist, 'dist_capital', raster_path, os.path.join(output_path,f\"capital_dist.tif\"))"
   ]
  }
 ],
 "metadata": {
  "kernelspec": {
   "display_name": "GEO",
   "language": "python",
   "name": "geo"
  },
  "language_info": {
   "codemirror_mode": {
    "name": "ipython",
    "version": 3
   },
   "file_extension": ".py",
   "mimetype": "text/x-python",
   "name": "python",
   "nbconvert_exporter": "python",
   "pygments_lexer": "ipython3",
   "version": "3.7.6"
  }
 },
 "nbformat": 4,
 "nbformat_minor": 2
}
