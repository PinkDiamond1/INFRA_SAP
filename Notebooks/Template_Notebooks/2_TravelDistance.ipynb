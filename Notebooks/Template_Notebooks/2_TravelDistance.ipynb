{
 "cells": [
  {
   "cell_type": "markdown",
   "metadata": {},
   "source": [
    "## Country-level INFRA-SAP\n"
   ]
  },
  {
   "cell_type": "markdown",
   "metadata": {},
   "source": [
    "- Origins: Population grid (Worldpop downsampled to 500 meters)\n",
    "- Destinations: Cities, airports, border crossings, and ports\n",
    "\n",
    "Typical access analysis with two adjustments:\n",
    "    1. Extract different sets of destinations from OD\n",
    "    2. Join travel time to origin grid based on \"NN with the fastest route\" (not necessarily closest NN)"
   ]
  },
  {
   "cell_type": "code",
   "execution_count": 1,
   "metadata": {},
   "outputs": [],
   "source": [
    "import os, sys, time, importlib\n",
    "\n",
    "import geopandas as gpd\n",
    "import pandas as pd\n",
    "import networkx as nx\n",
    "sys.path.append('/home/wb514197/Repos/GOSTnets')\n",
    "\n",
    "import GOSTnets as gn\n",
    "import GOSTnets.calculate_od_raw as calcOD\n",
    "from GOSTnets.load_osm import *\n",
    "import rasterio as rio\n",
    "from osgeo import gdal\n",
    "import numpy as np\n",
    "from shapely.geometry import Point\n",
    "\n",
    "sys.path.append('/home/wb514197/Repos/INFRA_SAP')\n",
    "from infrasap import aggregator\n",
    "\n",
    "from shapely.wkt import loads\n",
    "\n",
    "%load_ext autoreload\n",
    "%autoreload 2"
   ]
  },
  {
   "cell_type": "code",
   "execution_count": 2,
   "metadata": {},
   "outputs": [],
   "source": [
    "country = 'guatemala'\n",
    "iso3 = 'GTM'\n",
    "epsg = 26915"
   ]
  },
  {
   "cell_type": "markdown",
   "metadata": {},
   "source": [
    "### Load origins and graph"
   ]
  },
  {
   "cell_type": "code",
   "execution_count": 3,
   "metadata": {},
   "outputs": [],
   "source": [
    "base_in = \"/home/public/Data/PROJECTS/INFRA_SAP\"\n",
    "in_folder = os.path.join(base_in, iso3)\n",
    "\n",
    "# define data paths\n",
    "focal_admin2 = os.path.join(in_folder, \"admin.shp\")\n",
    "focal_osm = os.path.join(in_folder, f\"{country}-latest.osm.pbf\")\n",
    "pop_name = \"WP_2020_1km\"\n",
    "wp_1km = os.path.join(in_folder, f\"{pop_name}.tif\")\n",
    "urban_extents = os.path.join(in_folder, \"urban_extents.shp\")\n",
    "airports = os.path.join(in_folder, \"airports.shp\")\n",
    "ports = os.path.join(in_folder, \"ports.shp\")\n",
    "borders = os.path.join(in_folder, \"borders.shp\")\n",
    "G_path = os.path.join(in_folder, 'graph', f\"G_{iso3}.pickle\")\n",
    "\n",
    "base_out = \"/home/wb514197/data/INFRA_SAP\" # GOT permission denied using public \n",
    "out_folder = os.path.join(base_out, iso3)\n",
    "if not os.path.exists(out_folder):\n",
    "    os.makedirs(out_folder)"
   ]
  },
  {
   "cell_type": "markdown",
   "metadata": {},
   "source": [
    "Convert **WP_2020_1km.tif** into a point GeoData frame"
   ]
  },
  {
   "cell_type": "code",
   "execution_count": 4,
   "metadata": {},
   "outputs": [],
   "source": [
    "out_pop_csv = os.path.join(out_folder, f\"{pop_name}.csv\")\n",
    "wp_df = pd.read_csv(out_pop_csv, sep=' ')\n",
    "wp_df.rename(columns={\"Z\":\"Pop\"}, inplace=True)\n",
    "wp_df = wp_df.loc[wp_df.Pop!=-99999.0].copy()\n",
    "geoms = [Point(xy) for xy in zip(wp_df.X, wp_df.Y)]\n",
    "wp_df.drop([\"X\",\"Y\"], axis=1, inplace=True)\n",
    "crs = 'EPSG:4326'\n",
    "origins = gpd.GeoDataFrame(wp_df, crs=crs, geometry=geoms)\n",
    "origins['pointid'] = origins.index"
   ]
  },
  {
   "cell_type": "markdown",
   "metadata": {},
   "source": [
    "### Prepare Graph"
   ]
  },
  {
   "cell_type": "code",
   "execution_count": 5,
   "metadata": {},
   "outputs": [],
   "source": [
    "G_time = nx.read_gpickle(os.path.join(out_folder, 'graph', f'G_{iso3}_Salt.pickle'))"
   ]
  },
  {
   "cell_type": "markdown",
   "metadata": {},
   "source": [
    "#### Select largest graph (again)"
   ]
  },
  {
   "cell_type": "code",
   "execution_count": 6,
   "metadata": {},
   "outputs": [],
   "source": [
    "list_of_subgraphs = [G_time.subgraph(c).copy() for c in sorted(nx.strongly_connected_components(G_time), key=len, reverse=True)]"
   ]
  },
  {
   "cell_type": "code",
   "execution_count": 7,
   "metadata": {},
   "outputs": [],
   "source": [
    "G_largest = list_of_subgraphs[0]"
   ]
  },
  {
   "cell_type": "markdown",
   "metadata": {},
   "source": [
    "### Prepare destinations"
   ]
  },
  {
   "cell_type": "code",
   "execution_count": 8,
   "metadata": {},
   "outputs": [],
   "source": [
    "def load_csv(csv_path, geometry = 'geometry', crs = 'epsg:4326'):\n",
    "    df = pd.read_csv(csv_path, index_col=0)\n",
    "    df[geometry] = df[geometry].apply(loads)\n",
    "    gdf = gpd.GeoDataFrame(df, crs = crs)\n",
    "    return(gdf)"
   ]
  },
  {
   "cell_type": "code",
   "execution_count": 9,
   "metadata": {},
   "outputs": [],
   "source": [
    "dest_all = load_csv(os.path.join(out_folder, 'destination_all.csv'))"
   ]
  },
  {
   "cell_type": "code",
   "execution_count": 10,
   "metadata": {},
   "outputs": [
    {
     "data": {
      "text/plain": [
       "(133659, 96)"
      ]
     },
     "execution_count": 10,
     "metadata": {},
     "output_type": "execute_result"
    }
   ],
   "source": [
    "len(origins), len(dest_all)"
   ]
  },
  {
   "cell_type": "markdown",
   "metadata": {},
   "source": [
    "### Snap origins and destinations"
   ]
  },
  {
   "cell_type": "markdown",
   "metadata": {},
   "source": [
    "#### Snap to origins to 5 nearest nodes"
   ]
  },
  {
   "cell_type": "code",
   "execution_count": 11,
   "metadata": {},
   "outputs": [],
   "source": [
    "utm = f\"EPSG:{epsg}\""
   ]
  },
  {
   "cell_type": "code",
   "execution_count": 12,
   "metadata": {},
   "outputs": [
    {
     "name": "stdout",
     "output_type": "stream",
     "text": [
      "CPU times: user 21.8 s, sys: 480 ms, total: 22.3 s\n",
      "Wall time: 22.6 s\n"
     ]
    }
   ],
   "source": [
    "%%time\n",
    "# this function returns a dictionary of origin IDs, with a list of 5 NNs, and a corresponding list of distances\n",
    "origins_snapped_dict = gn.pandana_snap_to_many(G_largest, origins, source_crs='epsg:4326', target_crs=utm, \n",
    "                                               add_dist_to_node_col = True, k_nearest=5, origin_id='pointid')"
   ]
  },
  {
   "cell_type": "code",
   "execution_count": 13,
   "metadata": {},
   "outputs": [],
   "source": [
    "dest_snapped = gn.pandana_snap_c(G_largest, dest_all, source_crs='epsg:4326', target_crs=utm,\n",
    "                                 add_dist_to_node_col = False)"
   ]
  },
  {
   "cell_type": "code",
   "execution_count": 14,
   "metadata": {},
   "outputs": [],
   "source": [
    "# origins_unique_nn = list(set(origins_snapped['NN']))\n",
    "dest_nn = list(dest_snapped['NN'])\n",
    "list_origins_NN = []\n",
    "for each in origins_snapped_dict.values():\n",
    "    list_origins_NN += each['NN']\n",
    "origins_unique_nn = list(set(list_origins_NN))"
   ]
  },
  {
   "cell_type": "code",
   "execution_count": 15,
   "metadata": {},
   "outputs": [
    {
     "name": "stdout",
     "output_type": "stream",
     "text": [
      "CPU times: user 5.9 s, sys: 54.7 ms, total: 5.95 s\n",
      "Wall time: 5.95 s\n"
     ]
    }
   ],
   "source": [
    "%%time\n",
    "curOD = gn.calculate_OD(G_largest, origins_unique_nn, dest_nn, fail_value = 999999999, weight='length')"
   ]
  },
  {
   "cell_type": "code",
   "execution_count": 16,
   "metadata": {},
   "outputs": [
    {
     "data": {
      "text/plain": [
       "array([], dtype=float64)"
      ]
     },
     "execution_count": 16,
     "metadata": {},
     "output_type": "execute_result"
    }
   ],
   "source": [
    "curOD[curOD==999999999]"
   ]
  },
  {
   "cell_type": "code",
   "execution_count": 17,
   "metadata": {},
   "outputs": [
    {
     "data": {
      "text/plain": [
       "(5703, 96)"
      ]
     },
     "execution_count": 17,
     "metadata": {},
     "output_type": "execute_result"
    }
   ],
   "source": [
    "curOD.shape"
   ]
  },
  {
   "cell_type": "code",
   "execution_count": 18,
   "metadata": {},
   "outputs": [],
   "source": [
    "od_df = pd.DataFrame(curOD, index=origins_unique_nn, columns=dest_nn)"
   ]
  },
  {
   "cell_type": "code",
   "execution_count": 19,
   "metadata": {},
   "outputs": [
    {
     "data": {
      "text/html": [
       "<div>\n",
       "<style scoped>\n",
       "    .dataframe tbody tr th:only-of-type {\n",
       "        vertical-align: middle;\n",
       "    }\n",
       "\n",
       "    .dataframe tbody tr th {\n",
       "        vertical-align: top;\n",
       "    }\n",
       "\n",
       "    .dataframe thead th {\n",
       "        text-align: right;\n",
       "    }\n",
       "</style>\n",
       "<table border=\"1\" class=\"dataframe\">\n",
       "  <thead>\n",
       "    <tr style=\"text-align: right;\">\n",
       "      <th></th>\n",
       "      <th>new_obj_5260</th>\n",
       "      <th>new_obj_4782</th>\n",
       "      <th>5314_649_1937</th>\n",
       "      <th>25191</th>\n",
       "      <th>new_obj_4446_2635_7840</th>\n",
       "      <th>5313_646_1922</th>\n",
       "      <th>32423</th>\n",
       "      <th>30920</th>\n",
       "      <th>new_obj_3102</th>\n",
       "      <th>11722</th>\n",
       "      <th>...</th>\n",
       "      <th>9240_1094_3290</th>\n",
       "      <th>9240_1094_3290</th>\n",
       "      <th>new_obj_5335</th>\n",
       "      <th>new_obj_5335</th>\n",
       "      <th>new_obj_5335</th>\n",
       "      <th>new_obj_5335</th>\n",
       "      <th>new_obj_3954_2614_7785</th>\n",
       "      <th>new_obj_3954_2614_7785</th>\n",
       "      <th>new_obj_3954_2614_7785</th>\n",
       "      <th>new_obj_3954_2614_7785</th>\n",
       "    </tr>\n",
       "  </thead>\n",
       "  <tbody>\n",
       "    <tr>\n",
       "      <th>5</th>\n",
       "      <td>537726.095487</td>\n",
       "      <td>451973.873592</td>\n",
       "      <td>236875.292508</td>\n",
       "      <td>215288.707545</td>\n",
       "      <td>289648.989966</td>\n",
       "      <td>168886.879029</td>\n",
       "      <td>139188.150330</td>\n",
       "      <td>332507.014137</td>\n",
       "      <td>258560.669117</td>\n",
       "      <td>82763.261511</td>\n",
       "      <td>...</td>\n",
       "      <td>356837.297350</td>\n",
       "      <td>356837.297350</td>\n",
       "      <td>616426.635592</td>\n",
       "      <td>616426.635592</td>\n",
       "      <td>616426.635592</td>\n",
       "      <td>616426.635592</td>\n",
       "      <td>143142.641783</td>\n",
       "      <td>143142.641783</td>\n",
       "      <td>143142.641783</td>\n",
       "      <td>143142.641783</td>\n",
       "    </tr>\n",
       "    <tr>\n",
       "      <th>new_obj_3380</th>\n",
       "      <td>463579.178203</td>\n",
       "      <td>293114.097548</td>\n",
       "      <td>279502.854334</td>\n",
       "      <td>267667.866158</td>\n",
       "      <td>214550.213518</td>\n",
       "      <td>211514.440855</td>\n",
       "      <td>258633.179920</td>\n",
       "      <td>173647.238093</td>\n",
       "      <td>99700.893073</td>\n",
       "      <td>202208.291101</td>\n",
       "      <td>...</td>\n",
       "      <td>212728.952147</td>\n",
       "      <td>212728.952147</td>\n",
       "      <td>500264.878220</td>\n",
       "      <td>500264.878220</td>\n",
       "      <td>500264.878220</td>\n",
       "      <td>500264.878220</td>\n",
       "      <td>262587.671374</td>\n",
       "      <td>262587.671374</td>\n",
       "      <td>262587.671374</td>\n",
       "      <td>262587.671374</td>\n",
       "    </tr>\n",
       "    <tr>\n",
       "      <th>13</th>\n",
       "      <td>548325.342238</td>\n",
       "      <td>377860.261583</td>\n",
       "      <td>338171.176759</td>\n",
       "      <td>326336.188583</td>\n",
       "      <td>299296.377553</td>\n",
       "      <td>270182.763280</td>\n",
       "      <td>245112.079726</td>\n",
       "      <td>258393.402128</td>\n",
       "      <td>184447.057108</td>\n",
       "      <td>188687.190907</td>\n",
       "      <td>...</td>\n",
       "      <td>282723.685341</td>\n",
       "      <td>282723.685341</td>\n",
       "      <td>585011.042255</td>\n",
       "      <td>585011.042255</td>\n",
       "      <td>585011.042255</td>\n",
       "      <td>585011.042255</td>\n",
       "      <td>249066.571180</td>\n",
       "      <td>249066.571180</td>\n",
       "      <td>249066.571180</td>\n",
       "      <td>249066.571180</td>\n",
       "    </tr>\n",
       "    <tr>\n",
       "      <th>new_obj_1622</th>\n",
       "      <td>510892.167968</td>\n",
       "      <td>320629.597330</td>\n",
       "      <td>418163.456749</td>\n",
       "      <td>406328.468573</td>\n",
       "      <td>317544.958209</td>\n",
       "      <td>350175.043270</td>\n",
       "      <td>378977.095505</td>\n",
       "      <td>130137.028070</td>\n",
       "      <td>114010.131094</td>\n",
       "      <td>322552.206686</td>\n",
       "      <td>...</td>\n",
       "      <td>131830.617139</td>\n",
       "      <td>131830.617139</td>\n",
       "      <td>527780.378001</td>\n",
       "      <td>527780.378001</td>\n",
       "      <td>527780.378001</td>\n",
       "      <td>527780.378001</td>\n",
       "      <td>382931.586958</td>\n",
       "      <td>382931.586958</td>\n",
       "      <td>382931.586958</td>\n",
       "      <td>382931.586958</td>\n",
       "    </tr>\n",
       "    <tr>\n",
       "      <th>31</th>\n",
       "      <td>591476.459169</td>\n",
       "      <td>421011.378514</td>\n",
       "      <td>343690.184430</td>\n",
       "      <td>328257.759840</td>\n",
       "      <td>342447.494484</td>\n",
       "      <td>275701.770951</td>\n",
       "      <td>246041.672046</td>\n",
       "      <td>301544.519060</td>\n",
       "      <td>227598.174039</td>\n",
       "      <td>189616.783227</td>\n",
       "      <td>...</td>\n",
       "      <td>325874.802273</td>\n",
       "      <td>325874.802273</td>\n",
       "      <td>628162.159186</td>\n",
       "      <td>628162.159186</td>\n",
       "      <td>628162.159186</td>\n",
       "      <td>628162.159186</td>\n",
       "      <td>249996.163500</td>\n",
       "      <td>249996.163500</td>\n",
       "      <td>249996.163500</td>\n",
       "      <td>249996.163500</td>\n",
       "    </tr>\n",
       "  </tbody>\n",
       "</table>\n",
       "<p>5 rows × 96 columns</p>\n",
       "</div>"
      ],
      "text/plain": [
       "               new_obj_5260   new_obj_4782  5314_649_1937          25191  \\\n",
       "5             537726.095487  451973.873592  236875.292508  215288.707545   \n",
       "new_obj_3380  463579.178203  293114.097548  279502.854334  267667.866158   \n",
       "13            548325.342238  377860.261583  338171.176759  326336.188583   \n",
       "new_obj_1622  510892.167968  320629.597330  418163.456749  406328.468573   \n",
       "31            591476.459169  421011.378514  343690.184430  328257.759840   \n",
       "\n",
       "              new_obj_4446_2635_7840  5313_646_1922          32423  \\\n",
       "5                      289648.989966  168886.879029  139188.150330   \n",
       "new_obj_3380           214550.213518  211514.440855  258633.179920   \n",
       "13                     299296.377553  270182.763280  245112.079726   \n",
       "new_obj_1622           317544.958209  350175.043270  378977.095505   \n",
       "31                     342447.494484  275701.770951  246041.672046   \n",
       "\n",
       "                      30920   new_obj_3102          11722  ...  \\\n",
       "5             332507.014137  258560.669117   82763.261511  ...   \n",
       "new_obj_3380  173647.238093   99700.893073  202208.291101  ...   \n",
       "13            258393.402128  184447.057108  188687.190907  ...   \n",
       "new_obj_1622  130137.028070  114010.131094  322552.206686  ...   \n",
       "31            301544.519060  227598.174039  189616.783227  ...   \n",
       "\n",
       "              9240_1094_3290  9240_1094_3290   new_obj_5335   new_obj_5335  \\\n",
       "5              356837.297350   356837.297350  616426.635592  616426.635592   \n",
       "new_obj_3380   212728.952147   212728.952147  500264.878220  500264.878220   \n",
       "13             282723.685341   282723.685341  585011.042255  585011.042255   \n",
       "new_obj_1622   131830.617139   131830.617139  527780.378001  527780.378001   \n",
       "31             325874.802273   325874.802273  628162.159186  628162.159186   \n",
       "\n",
       "               new_obj_5335   new_obj_5335  new_obj_3954_2614_7785  \\\n",
       "5             616426.635592  616426.635592           143142.641783   \n",
       "new_obj_3380  500264.878220  500264.878220           262587.671374   \n",
       "13            585011.042255  585011.042255           249066.571180   \n",
       "new_obj_1622  527780.378001  527780.378001           382931.586958   \n",
       "31            628162.159186  628162.159186           249996.163500   \n",
       "\n",
       "              new_obj_3954_2614_7785  new_obj_3954_2614_7785  \\\n",
       "5                      143142.641783           143142.641783   \n",
       "new_obj_3380           262587.671374           262587.671374   \n",
       "13                     249066.571180           249066.571180   \n",
       "new_obj_1622           382931.586958           382931.586958   \n",
       "31                     249996.163500           249996.163500   \n",
       "\n",
       "              new_obj_3954_2614_7785  \n",
       "5                      143142.641783  \n",
       "new_obj_3380           262587.671374  \n",
       "13                     249066.571180  \n",
       "new_obj_1622           382931.586958  \n",
       "31                     249996.163500  \n",
       "\n",
       "[5 rows x 96 columns]"
      ]
     },
     "execution_count": 19,
     "metadata": {},
     "output_type": "execute_result"
    }
   ],
   "source": [
    "od_df.head()"
   ]
  },
  {
   "cell_type": "markdown",
   "metadata": {},
   "source": [
    "For each origin set of 5 (k) possible NN:\n",
    "    - Add snapping dist (in time) + time to a destination\n",
    "    - Which destination? min time from all of them won't necessarily work, so we need to find the closest destination for each origin, and select the NN which yields the fastest travel time to that dest\n",
    "    - closest_dest.idx should match the OD column order."
   ]
  },
  {
   "cell_type": "code",
   "execution_count": 20,
   "metadata": {},
   "outputs": [
    {
     "name": "stdout",
     "output_type": "stream",
     "text": [
      "CPU times: user 6.85 s, sys: 109 ms, total: 6.96 s\n",
      "Wall time: 6.96 s\n"
     ]
    }
   ],
   "source": [
    "%%time\n",
    "closest_dest = gn.pandana_snap_points(origins, dest_all, source_crs='epsg:4326', target_crs=utm,\n",
    "                                      add_dist_to_node_col=True)"
   ]
  },
  {
   "cell_type": "code",
   "execution_count": 21,
   "metadata": {},
   "outputs": [],
   "source": [
    "closest_dest = closest_dest.set_index('pointid')"
   ]
  },
  {
   "cell_type": "code",
   "execution_count": 22,
   "metadata": {},
   "outputs": [
    {
     "data": {
      "text/html": [
       "<div>\n",
       "<style scoped>\n",
       "    .dataframe tbody tr th:only-of-type {\n",
       "        vertical-align: middle;\n",
       "    }\n",
       "\n",
       "    .dataframe tbody tr th {\n",
       "        vertical-align: top;\n",
       "    }\n",
       "\n",
       "    .dataframe thead th {\n",
       "        text-align: right;\n",
       "    }\n",
       "</style>\n",
       "<table border=\"1\" class=\"dataframe\">\n",
       "  <thead>\n",
       "    <tr style=\"text-align: right;\">\n",
       "      <th></th>\n",
       "      <th>Pop</th>\n",
       "      <th>geometry</th>\n",
       "      <th>idx</th>\n",
       "      <th>idx_dist</th>\n",
       "    </tr>\n",
       "    <tr>\n",
       "      <th>pointid</th>\n",
       "      <th></th>\n",
       "      <th></th>\n",
       "      <th></th>\n",
       "      <th></th>\n",
       "    </tr>\n",
       "  </thead>\n",
       "  <tbody>\n",
       "    <tr>\n",
       "      <th>148</th>\n",
       "      <td>17.833401</td>\n",
       "      <td>POINT (713526.895 1970820.776)</td>\n",
       "      <td>47</td>\n",
       "      <td>38167.960297</td>\n",
       "    </tr>\n",
       "    <tr>\n",
       "      <th>149</th>\n",
       "      <td>16.891191</td>\n",
       "      <td>POINT (714410.449 1970830.304)</td>\n",
       "      <td>47</td>\n",
       "      <td>37662.112060</td>\n",
       "    </tr>\n",
       "    <tr>\n",
       "      <th>150</th>\n",
       "      <td>16.950291</td>\n",
       "      <td>POINT (715294.008 1970839.871)</td>\n",
       "      <td>47</td>\n",
       "      <td>37170.417996</td>\n",
       "    </tr>\n",
       "    <tr>\n",
       "      <th>151</th>\n",
       "      <td>17.671246</td>\n",
       "      <td>POINT (716177.570 1970849.478)</td>\n",
       "      <td>47</td>\n",
       "      <td>36693.447402</td>\n",
       "    </tr>\n",
       "    <tr>\n",
       "      <th>152</th>\n",
       "      <td>16.732470</td>\n",
       "      <td>POINT (717061.136 1970859.125)</td>\n",
       "      <td>47</td>\n",
       "      <td>36231.782056</td>\n",
       "    </tr>\n",
       "  </tbody>\n",
       "</table>\n",
       "</div>"
      ],
      "text/plain": [
       "               Pop                        geometry  idx      idx_dist\n",
       "pointid                                                              \n",
       "148      17.833401  POINT (713526.895 1970820.776)   47  38167.960297\n",
       "149      16.891191  POINT (714410.449 1970830.304)   47  37662.112060\n",
       "150      16.950291  POINT (715294.008 1970839.871)   47  37170.417996\n",
       "151      17.671246  POINT (716177.570 1970849.478)   47  36693.447402\n",
       "152      16.732470  POINT (717061.136 1970859.125)   47  36231.782056"
      ]
     },
     "execution_count": 22,
     "metadata": {},
     "output_type": "execute_result"
    }
   ],
   "source": [
    "closest_dest.head()"
   ]
  },
  {
   "cell_type": "code",
   "execution_count": 23,
   "metadata": {},
   "outputs": [
    {
     "name": "stdout",
     "output_type": "stream",
     "text": [
      "CPU times: user 1min 32s, sys: 138 ms, total: 1min 32s\n",
      "Wall time: 1min 32s\n"
     ]
    }
   ],
   "source": [
    "%%time\n",
    "fastest_nn = []\n",
    "fastest_dist = []\n",
    "custom_speed = 30 # km/h\n",
    "\n",
    "for pointid, items in origins_snapped_dict.items():\n",
    "    dest_index = closest_dest.loc[pointid].idx\n",
    "    nn_list = items['NN']\n",
    "    dist_list = items['NN_dist']\n",
    "    total_dist_list = []\n",
    "    for i in range(0, len(nn_list)):\n",
    "        dist_snapping = dist_list[i]\n",
    "#         time_snapping = ((dist_list[i] / 1000) / custom_speed) * 60 * 60\n",
    "        dist_to_dest = od_df.loc[nn_list[i]].iloc[dest_index]\n",
    "#         time_to_dest = od_df.loc[nn_list[i]].iloc[dest_index]\n",
    "        total_dist = dist_snapping+dist_to_dest\n",
    "#         total_time = time_snapping+time_to_dest\n",
    "        total_dist_list.append(total_dist)\n",
    "#         print(f\"id: {nn_list[i]}, snapping dist (km): {dist_list[i]/1000:.2f}, time to dest (min): {(total_time/60)/60:.2f}\")\n",
    "    min_pos = total_dist_list.index(min(total_dist_list))\n",
    "    fastest_nn.append(nn_list[min_pos])\n",
    "    fastest_dist.append(dist_list[min_pos])\n",
    "#     origins_snapped_smart.loc[pointid, \"NN\"] = nn_list[min_pos]\n",
    "#     origins_snapped_smart.loc[pointid, \"NN_dist\"] = dist_list[min_pos]"
   ]
  },
  {
   "cell_type": "code",
   "execution_count": 24,
   "metadata": {},
   "outputs": [],
   "source": [
    "origins_snapped = origins.copy().set_index('pointid')\n",
    "origins_snapped['NN'] = pd.Series(fastest_nn, index = origins_snapped.index)\n",
    "origins_snapped['NN_dist'] = pd.Series(fastest_dist, index = origins_snapped.index)\n",
    "origins_snapped['pointid'] = origins_snapped.index\n",
    "origins_snapped['NN_dist_hours'] = ((origins_snapped.NN_dist / 1000) / custom_speed)"
   ]
  },
  {
   "cell_type": "code",
   "execution_count": 25,
   "metadata": {},
   "outputs": [],
   "source": [
    "origins_join = origins_snapped.join(od_df, on='NN')"
   ]
  },
  {
   "cell_type": "code",
   "execution_count": 26,
   "metadata": {},
   "outputs": [
    {
     "data": {
      "text/plain": [
       "True"
      ]
     },
     "execution_count": 26,
     "metadata": {},
     "output_type": "execute_result"
    }
   ],
   "source": [
    "all(origins_join.columns[6:] == dest_snapped.NN)"
   ]
  },
  {
   "cell_type": "code",
   "execution_count": 27,
   "metadata": {},
   "outputs": [],
   "source": [
    "origins_join_rename = origins_join.copy()\n",
    "origins_join_rename.columns = pd.MultiIndex.from_arrays([['origin' for each in origins_snapped.columns]+list(dest_snapped.dest_type), origins_snapped.columns.append(dest_snapped.index)])"
   ]
  },
  {
   "cell_type": "markdown",
   "metadata": {},
   "source": [
    "Add snapping distance"
   ]
  },
  {
   "cell_type": "code",
   "execution_count": 28,
   "metadata": {},
   "outputs": [],
   "source": [
    "origins_join2 = origins_join_rename.apply(lambda x: (x + origins_join_rename.origin.NN_dist)/1000 if x.name[1] in dest_snapped.index else x)"
   ]
  },
  {
   "cell_type": "code",
   "execution_count": 29,
   "metadata": {},
   "outputs": [
    {
     "data": {
      "text/plain": [
       "'/home/wb514197/data/INFRA_SAP/GTM'"
      ]
     },
     "execution_count": 29,
     "metadata": {},
     "output_type": "execute_result"
    }
   ],
   "source": [
    "out_folder"
   ]
  },
  {
   "cell_type": "code",
   "execution_count": 30,
   "metadata": {},
   "outputs": [],
   "source": [
    "origins_join2.to_csv(os.path.join(out_folder, 'OD_08_06_Distances.csv'))"
   ]
  },
  {
   "cell_type": "markdown",
   "metadata": {},
   "source": [
    "### Make rasters of min travel time to each dest"
   ]
  },
  {
   "cell_type": "code",
   "execution_count": 31,
   "metadata": {},
   "outputs": [],
   "source": [
    "raster_path = wp_1km"
   ]
  },
  {
   "cell_type": "code",
   "execution_count": 32,
   "metadata": {},
   "outputs": [],
   "source": [
    "output_path = os.path.join(out_folder, \"travel_distance\")\n",
    "if not os.path.exists(output_path):\n",
    "    os.mkdir(output_path)"
   ]
  },
  {
   "cell_type": "code",
   "execution_count": 33,
   "metadata": {},
   "outputs": [],
   "source": [
    "# CHECK THAT MOST POPULATED CITY IS THE CAPITAL\n",
    "cap_idx = dest_all.sort_values('Pop', ascending=False).iloc[[0]].index[0]"
   ]
  },
  {
   "cell_type": "code",
   "execution_count": 34,
   "metadata": {},
   "outputs": [],
   "source": [
    "city_min = pd.DataFrame(origins_join2['city'].min(axis=1), columns=[\"dist_city\"])\n",
    "ports_min = pd.DataFrame(origins_join2['port'].min(axis=1), columns=[\"dist_port\"])\n",
    "airports_min = pd.DataFrame(origins_join2['airport'].min(axis=1), columns=[\"dist_airport\"])\n",
    "borders_min = pd.DataFrame(origins_join2['border'].min(axis=1), columns=[\"dist_border\"])\n",
    "capital_dist = origins_join2['city'].loc[:,[cap_idx]].rename(columns={cap_idx:'dist_capital'})"
   ]
  },
  {
   "cell_type": "code",
   "execution_count": 35,
   "metadata": {},
   "outputs": [],
   "source": [
    "origins_dist = origins_snapped.join([city_min, ports_min, airports_min, borders_min, capital_dist])"
   ]
  },
  {
   "cell_type": "code",
   "execution_count": 36,
   "metadata": {},
   "outputs": [
    {
     "data": {
      "text/plain": [
       "Index(['Pop', 'geometry', 'NN', 'NN_dist', 'pointid', 'NN_dist_hours',\n",
       "       'dist_city', 'dist_port', 'dist_airport', 'dist_border',\n",
       "       'dist_capital'],\n",
       "      dtype='object')"
      ]
     },
     "execution_count": 36,
     "metadata": {},
     "output_type": "execute_result"
    }
   ],
   "source": [
    "origins_dist.columns"
   ]
  },
  {
   "cell_type": "code",
   "execution_count": 37,
   "metadata": {},
   "outputs": [],
   "source": [
    "aggregator.rasterize_gdf(origins_dist, 'dist_city', raster_path, os.path.join(output_path,f\"cities_min_dist.tif\"))\n",
    "aggregator.rasterize_gdf(origins_dist, 'dist_port', raster_path, os.path.join(output_path,f\"port_min_dist.tif\"))\n",
    "aggregator.rasterize_gdf(origins_dist, 'dist_airport', raster_path, os.path.join(output_path,f\"airport_min_dist.tif\"))\n",
    "aggregator.rasterize_gdf(origins_dist, 'dist_border', raster_path, os.path.join(output_path,f\"borders_min_dist.tif\"))\n",
    "aggregator.rasterize_gdf(origins_dist, 'dist_capital', raster_path, os.path.join(output_path,f\"capital_dist.tif\"))"
   ]
  }
 ],
 "metadata": {
  "kernelspec": {
   "display_name": "GEO",
   "language": "python",
   "name": "geo"
  },
  "language_info": {
   "codemirror_mode": {
    "name": "ipython",
    "version": 3
   },
   "file_extension": ".py",
   "mimetype": "text/x-python",
   "name": "python",
   "nbconvert_exporter": "python",
   "pygments_lexer": "ipython3",
   "version": "3.7.6"
  }
 },
 "nbformat": 4,
 "nbformat_minor": 2
}
