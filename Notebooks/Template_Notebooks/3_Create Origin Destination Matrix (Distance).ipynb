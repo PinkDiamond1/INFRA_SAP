{
 "cells": [
  {
   "cell_type": "markdown",
   "metadata": {},
   "source": [
    "## Access Maps for Paraguay"
   ]
  },
  {
   "cell_type": "markdown",
   "metadata": {},
   "source": [
    "- Origins: Population grid (Worldpop downsampled to 500 meters)\n",
    "- Destinations: Cities, airports, border crossings, and ports\n",
    "\n",
    "Typical access analysis with two adjustments:\n",
    "    1. Extract different sets of destinations from OD\n",
    "    2. Join travel time to origin grid based on \"NN with the fastest route\" (not necessarily closest NN)"
   ]
  },
  {
   "cell_type": "markdown",
   "metadata": {},
   "source": [
    "### Load origins and graph"
   ]
  },
  {
   "cell_type": "code",
   "execution_count": 1,
   "metadata": {},
   "outputs": [],
   "source": [
    "import os, sys, time, importlib\n",
    "\n",
    "import geopandas as gpd\n",
    "import pandas as pd\n",
    "import networkx as nx\n",
    "sys.path.append('/home/wb514197/Repos/GOSTnets')\n",
    "\n",
    "import GOSTnets as gn\n",
    "import rasterio as rio\n",
    "from osgeo import gdal\n",
    "import GOSTnets.calculate_od_raw as calcOD\n",
    "import numpy as np"
   ]
  },
  {
   "cell_type": "code",
   "execution_count": 2,
   "metadata": {},
   "outputs": [],
   "source": [
    "# This is a Jupyter Notebook extension which reloads all of the modules whenever you run the code\n",
    "# This is optional but good if you are modifying and testing source code\n",
    "%load_ext autoreload\n",
    "%autoreload 2"
   ]
  },
  {
   "cell_type": "code",
   "execution_count": 3,
   "metadata": {},
   "outputs": [],
   "source": [
    "# paths to data (copied form DataPreparation script)\n",
    "iso3 = \"PRY\"\n",
    "epsg = 32721\n",
    "base_out = \"/home/wb514197/data/INFRA_SAP\"\n",
    "#base_out = \"/home/public/Data/PROJECTS/INFRA_SAP\" #r\"J:\\Data\\PROJECTS\\INFRA_SAP\" GOT permission denied using public \n",
    "out_folder = os.path.join(base_out, iso3)\n",
    "if not os.path.exists(out_folder):\n",
    "    os.makedirs(out_folder)\n",
    "#define output data\n",
    "focal_admin2 = os.path.join(out_folder, \"admin.shp\")\n",
    "focal_osm = os.path.join(out_folder, \"paraguay-latest.osm.pbf\")\n",
    "wp_1km = os.path.join(out_folder, \"WP_2020_1km.tif\")\n",
    "urban_extents = os.path.join(out_folder, \"urban_extents.shp\")\n",
    "airports = os.path.join(out_folder, \"airports.shp\")\n",
    "ports = os.path.join(out_folder, \"ports.shp\")\n",
    "borders = os.path.join(out_folder, \"borders.shp\")"
   ]
  },
  {
   "cell_type": "markdown",
   "metadata": {},
   "source": [
    "TODO: Write code to turn **WP_2020_1km.tif** into a point shapefile, for now doing it in ARC :("
   ]
  },
  {
   "cell_type": "code",
   "execution_count": 4,
   "metadata": {},
   "outputs": [],
   "source": [
    "pop_file = os.path.join(out_folder, \"WP_2020_1km.shp\")\n",
    "G_path = '/home/public/Data/PROJECTS/LAC_GOSTNets/graphs/PRY/G_PRY.pickle'\n",
    "# global_admin = '/home/public/Data/GLOBAL/ADMIN/g2015_0_simplified.shp'"
   ]
  },
  {
   "cell_type": "code",
   "execution_count": 5,
   "metadata": {},
   "outputs": [
    {
     "name": "stdout",
     "output_type": "stream",
     "text": [
      "CPU times: user 11.7 s, sys: 583 ms, total: 12.3 s\n",
      "Wall time: 24.1 s\n"
     ]
    }
   ],
   "source": [
    "%%time\n",
    "origins = gpd.read_file(pop_file)"
   ]
  },
  {
   "cell_type": "markdown",
   "metadata": {},
   "source": [
    "### Prepare Graph"
   ]
  },
  {
   "cell_type": "code",
   "execution_count": 10,
   "metadata": {},
   "outputs": [],
   "source": [
    "G = nx.read_gpickle(G_path)"
   ]
  },
  {
   "cell_type": "code",
   "execution_count": 11,
   "metadata": {},
   "outputs": [],
   "source": [
    "for u, v, data in G.edges(data = True):\n",
    "    if type(data['Wkt']) == list:\n",
    "        data['Wkt'] = gn.unbundle_geometry(data['Wkt'])"
   ]
  },
  {
   "cell_type": "code",
   "execution_count": 13,
   "metadata": {},
   "outputs": [
    {
     "name": "stdout",
     "output_type": "stream",
     "text": [
      "(20, 27155, {'Wkt': 'LINESTRING (-58.9642359 -26.7886577, -58.9640267 -26.7855473, -58.9640437 -26.7853092, -58.9667331 -26.7773011, -58.968865 -26.7709322, -58.9721285 -26.7614295, -58.9767858 -26.7477964, -58.977327 -26.7461269, -58.9777862 -26.7454093, -58.9804101 -26.7425243, -58.9850959 -26.737514, -58.9876421 -26.7347914, -58.9958253 -26.7258862, -59.0029098 -26.7182108, -59.0082559 -26.7125564, -59.0116748 -26.708836)', 'id': 5253, 'infra_type': 'tertiary', 'osm_id': '117752729', 'key': 'edge_5253', 'length': 10.273043637188849, 'Type': 'legitimate'})\n"
     ]
    }
   ],
   "source": [
    "gn.example_edge(G)"
   ]
  },
  {
   "cell_type": "code",
   "execution_count": 15,
   "metadata": {},
   "outputs": [
    {
     "data": {
      "text/plain": [
       "['Wkt', 'id', 'infra_type', 'osm_id', 'key', 'length', 'Type']"
      ]
     },
     "execution_count": 15,
     "metadata": {},
     "output_type": "execute_result"
    }
   ],
   "source": [
    "all_attr = list(G[20][27155][0].keys())\n",
    "all_attr"
   ]
  },
  {
   "cell_type": "code",
   "execution_count": 16,
   "metadata": {},
   "outputs": [
    {
     "data": {
      "text/plain": [
       "['id', 'infra_type', 'osm_id', 'key', 'Type']"
      ]
     },
     "execution_count": 16,
     "metadata": {},
     "output_type": "execute_result"
    }
   ],
   "source": [
    "attr_list = ['id', 'infra_type', 'osm_id', 'key', 'Type']\n",
    "attr_list"
   ]
  },
  {
   "cell_type": "markdown",
   "metadata": {},
   "source": [
    "#### Salt Network"
   ]
  },
  {
   "cell_type": "code",
   "execution_count": 18,
   "metadata": {},
   "outputs": [
    {
     "name": "stdout",
     "output_type": "stream",
     "text": [
      "WARNING: \"factor behavior has changed! now divides rather than multiplies. This change brings gn.salt_long_lines into line with gn.convert_network_to_time\" \n"
     ]
    },
    {
     "name": "stderr",
     "output_type": "stream",
     "text": [
      "/home/wb514197/.conda/envs/geo/lib/python3.7/site-packages/pyproj/crs/crs.py:55: FutureWarning: '+init=<authority>:<code>' syntax is deprecated. '<authority>:<code>' is the preferred initialization method. When making the change, be mindful of axis order changes: https://pyproj4.github.io/pyproj/stable/gotchas.html#axis-order-changes-in-proj-6\n",
      "  return _prepare_from_string(\" \".join(pjargs))\n",
      "/home/wb514197/.conda/envs/geo/lib/python3.7/site-packages/pyproj/crs/crs.py:55: FutureWarning: '+init=<authority>:<code>' syntax is deprecated. '<authority>:<code>' is the preferred initialization method. When making the change, be mindful of axis order changes: https://pyproj4.github.io/pyproj/stable/gotchas.html#axis-order-changes-in-proj-6\n",
      "  return _prepare_from_string(\" \".join(pjargs))\n",
      "/home/wb514197/.conda/envs/geo/lib/python3.7/site-packages/pyproj/crs/crs.py:55: FutureWarning: '+init=<authority>:<code>' syntax is deprecated. '<authority>:<code>' is the preferred initialization method. When making the change, be mindful of axis order changes: https://pyproj4.github.io/pyproj/stable/gotchas.html#axis-order-changes-in-proj-6\n",
      "  return _prepare_from_string(\" \".join(pjargs))\n",
      "/home/wb514197/.conda/envs/geo/lib/python3.7/site-packages/pyproj/crs/crs.py:55: FutureWarning: '+init=<authority>:<code>' syntax is deprecated. '<authority>:<code>' is the preferred initialization method. When making the change, be mindful of axis order changes: https://pyproj4.github.io/pyproj/stable/gotchas.html#axis-order-changes-in-proj-6\n",
      "  return _prepare_from_string(\" \".join(pjargs))\n"
     ]
    },
    {
     "name": "stdout",
     "output_type": "stream",
     "text": [
      "Identified 2604 unique edge(s) longer than 5000. \n",
      "Beginning new node creation...\n",
      "24840 new edges added and 5208 removed to bring total edges to 47619\n",
      "9816 new nodes added to bring total nodes to 19117\n",
      "CPU times: user 9min 20s, sys: 20.7 s, total: 9min 40s\n",
      "Wall time: 9min 40s\n"
     ]
    }
   ],
   "source": [
    "%%time\n",
    "G_salt = gn.salt_long_lines(G, source='EPSG:4326', target='EPSG:32721', thresh=5000, factor=1000, attr_list=attr_list)"
   ]
  },
  {
   "cell_type": "code",
   "execution_count": 19,
   "metadata": {},
   "outputs": [],
   "source": [
    "G_time = gn.convert_network_to_time(G_salt, distance_tag = 'length', road_col = 'infra_type', factor = 1000)"
   ]
  },
  {
   "cell_type": "code",
   "execution_count": 23,
   "metadata": {},
   "outputs": [],
   "source": [
    "gn.save(G_time, \"G_PRY_Salt\", os.path.join(out_folder, 'graph'))"
   ]
  },
  {
   "cell_type": "code",
   "execution_count": 9,
   "metadata": {},
   "outputs": [],
   "source": [
    "G_time = nx.read_gpickle(os.path.join(out_folder, 'graph', 'G_PRY_Salt.pickle'))"
   ]
  },
  {
   "cell_type": "markdown",
   "metadata": {},
   "source": [
    "#### Select largest graph (again)"
   ]
  },
  {
   "cell_type": "code",
   "execution_count": 10,
   "metadata": {},
   "outputs": [],
   "source": [
    "list_of_subgraphs = [G_time.subgraph(c).copy() for c in sorted(nx.strongly_connected_components(G_time), key=len, reverse=True)]"
   ]
  },
  {
   "cell_type": "code",
   "execution_count": 11,
   "metadata": {},
   "outputs": [],
   "source": [
    "G_largest = list_of_subgraphs[0]"
   ]
  },
  {
   "cell_type": "markdown",
   "metadata": {},
   "source": [
    "### Prepare destinations"
   ]
  },
  {
   "cell_type": "code",
   "execution_count": 12,
   "metadata": {},
   "outputs": [],
   "source": [
    "# inAdmin = gpd.read_file(global_admin)\n",
    "# iso3 = 'URY'\n",
    "# inA = inAdmin[inAdmin['ISO3166_1_'] == iso3]\n",
    "# focalCities = inCities[inCities.intersects(inA.unary_union)]\n",
    "# inCities = gpd.read_file(global_cities)\n",
    "# dest_cities = inCities[inCities['CNTRY_NAME']=='Uruguay'].assign(dest_type = 'city')"
   ]
  },
  {
   "cell_type": "code",
   "execution_count": 13,
   "metadata": {},
   "outputs": [],
   "source": [
    "inCities = gpd.read_file(urban_extents)\n",
    "# inCities = gpd.read_file(cities).set_index(\"ID\").set_geometry(inCities.representative_point())"
   ]
  },
  {
   "cell_type": "code",
   "execution_count": 14,
   "metadata": {},
   "outputs": [
    {
     "data": {
      "text/html": [
       "<div>\n",
       "<style scoped>\n",
       "    .dataframe tbody tr th:only-of-type {\n",
       "        vertical-align: middle;\n",
       "    }\n",
       "\n",
       "    .dataframe tbody tr th {\n",
       "        vertical-align: top;\n",
       "    }\n",
       "\n",
       "    .dataframe thead th {\n",
       "        text-align: right;\n",
       "    }\n",
       "</style>\n",
       "<table border=\"1\" class=\"dataframe\">\n",
       "  <thead>\n",
       "    <tr style=\"text-align: right;\">\n",
       "      <th></th>\n",
       "      <th>ID</th>\n",
       "      <th>Pop</th>\n",
       "      <th>geometry</th>\n",
       "    </tr>\n",
       "  </thead>\n",
       "  <tbody>\n",
       "    <tr>\n",
       "      <th>0</th>\n",
       "      <td>0</td>\n",
       "      <td>7366.297852</td>\n",
       "      <td>POLYGON ((-56.52958 -22.09958, -56.51292 -22.0...</td>\n",
       "    </tr>\n",
       "    <tr>\n",
       "      <th>1</th>\n",
       "      <td>2</td>\n",
       "      <td>6080.110352</td>\n",
       "      <td>POLYGON ((-60.04625 -22.34125, -60.01292 -22.3...</td>\n",
       "    </tr>\n",
       "    <tr>\n",
       "      <th>2</th>\n",
       "      <td>3</td>\n",
       "      <td>89930.921875</td>\n",
       "      <td>POLYGON ((-55.75458 -22.47458, -55.73792 -22.4...</td>\n",
       "    </tr>\n",
       "    <tr>\n",
       "      <th>3</th>\n",
       "      <td>5</td>\n",
       "      <td>8367.864258</td>\n",
       "      <td>POLYGON ((-56.54625 -22.94958, -56.52125 -22.9...</td>\n",
       "    </tr>\n",
       "    <tr>\n",
       "      <th>4</th>\n",
       "      <td>7</td>\n",
       "      <td>8470.033203</td>\n",
       "      <td>POLYGON ((-55.54625 -23.24958, -55.51292 -23.2...</td>\n",
       "    </tr>\n",
       "  </tbody>\n",
       "</table>\n",
       "</div>"
      ],
      "text/plain": [
       "   ID           Pop                                           geometry\n",
       "0   0   7366.297852  POLYGON ((-56.52958 -22.09958, -56.51292 -22.0...\n",
       "1   2   6080.110352  POLYGON ((-60.04625 -22.34125, -60.01292 -22.3...\n",
       "2   3  89930.921875  POLYGON ((-55.75458 -22.47458, -55.73792 -22.4...\n",
       "3   5   8367.864258  POLYGON ((-56.54625 -22.94958, -56.52125 -22.9...\n",
       "4   7   8470.033203  POLYGON ((-55.54625 -23.24958, -55.51292 -23.2..."
      ]
     },
     "execution_count": 14,
     "metadata": {},
     "output_type": "execute_result"
    }
   ],
   "source": [
    "inCities.head()"
   ]
  },
  {
   "cell_type": "code",
   "execution_count": 15,
   "metadata": {},
   "outputs": [],
   "source": [
    "pop_thresh=50000\n",
    "inCities = inCities.loc[inCities.Pop>pop_thresh]\n",
    "inCities['geometry'] = inCities.geometry.centroid\n",
    "dest_cities = inCities.assign(dest_type = 'city')"
   ]
  },
  {
   "cell_type": "code",
   "execution_count": 16,
   "metadata": {},
   "outputs": [
    {
     "data": {
      "text/plain": [
       "8"
      ]
     },
     "execution_count": 16,
     "metadata": {},
     "output_type": "execute_result"
    }
   ],
   "source": [
    "len(dest_cities)"
   ]
  },
  {
   "cell_type": "code",
   "execution_count": 17,
   "metadata": {},
   "outputs": [],
   "source": [
    "dest_airports = gpd.read_file(airports)"
   ]
  },
  {
   "cell_type": "code",
   "execution_count": 18,
   "metadata": {},
   "outputs": [],
   "source": [
    "searchfor = ['Internacional', 'International', 'internacional', 'international' , 'Guarani', 'Silvio']"
   ]
  },
  {
   "cell_type": "code",
   "execution_count": 19,
   "metadata": {
    "scrolled": true
   },
   "outputs": [
    {
     "data": {
      "text/html": [
       "<div>\n",
       "<style scoped>\n",
       "    .dataframe tbody tr th:only-of-type {\n",
       "        vertical-align: middle;\n",
       "    }\n",
       "\n",
       "    .dataframe tbody tr th {\n",
       "        vertical-align: top;\n",
       "    }\n",
       "\n",
       "    .dataframe thead th {\n",
       "        text-align: right;\n",
       "    }\n",
       "</style>\n",
       "<table border=\"1\" class=\"dataframe\">\n",
       "  <thead>\n",
       "    <tr style=\"text-align: right;\">\n",
       "      <th></th>\n",
       "      <th>OSM_ID</th>\n",
       "      <th>x</th>\n",
       "      <th>y</th>\n",
       "      <th>TYPE</th>\n",
       "      <th>Name</th>\n",
       "      <th>NameEN</th>\n",
       "      <th>TYPE2</th>\n",
       "      <th>geometry</th>\n",
       "    </tr>\n",
       "  </thead>\n",
       "  <tbody>\n",
       "    <tr>\n",
       "      <th>47</th>\n",
       "      <td>161854062</td>\n",
       "      <td>-60.620794</td>\n",
       "      <td>-22.047334</td>\n",
       "      <td>None</td>\n",
       "      <td>Dr. Luis Maria Argaña International Airport</td>\n",
       "      <td>None</td>\n",
       "      <td>None</td>\n",
       "      <td>POINT (-60.62079 -22.04733)</td>\n",
       "    </tr>\n",
       "    <tr>\n",
       "      <th>62</th>\n",
       "      <td>168157706</td>\n",
       "      <td>-55.830026</td>\n",
       "      <td>-22.640971</td>\n",
       "      <td>None</td>\n",
       "      <td>Aeropuerto Internacional Dr. Augusto Roberto F...</td>\n",
       "      <td>Dr. Augusto Roberto Fuster International Airport</td>\n",
       "      <td>None</td>\n",
       "      <td>POINT (-55.83003 -22.64097)</td>\n",
       "    </tr>\n",
       "  </tbody>\n",
       "</table>\n",
       "</div>"
      ],
      "text/plain": [
       "       OSM_ID          x          y  TYPE  \\\n",
       "47  161854062 -60.620794 -22.047334  None   \n",
       "62  168157706 -55.830026 -22.640971  None   \n",
       "\n",
       "                                                 Name  \\\n",
       "47        Dr. Luis Maria Argaña International Airport   \n",
       "62  Aeropuerto Internacional Dr. Augusto Roberto F...   \n",
       "\n",
       "                                              NameEN TYPE2  \\\n",
       "47                                              None  None   \n",
       "62  Dr. Augusto Roberto Fuster International Airport  None   \n",
       "\n",
       "                       geometry  \n",
       "47  POINT (-60.62079 -22.04733)  \n",
       "62  POINT (-55.83003 -22.64097)  "
      ]
     },
     "execution_count": 19,
     "metadata": {},
     "output_type": "execute_result"
    }
   ],
   "source": [
    "dest_airports[dest_airports.Name.str.contains('|'.join(searchfor)).fillna(False)]"
   ]
  },
  {
   "cell_type": "markdown",
   "metadata": {},
   "source": [
    "See issue with this: https://github.com/worldbank/INFRA_SAP/issues/9"
   ]
  },
  {
   "cell_type": "code",
   "execution_count": 20,
   "metadata": {},
   "outputs": [],
   "source": [
    "airports_turbo = os.path.join(out_folder, 'airports_turbo.geojson')\n",
    "dest_airports = gpd.read_file(airports_turbo)"
   ]
  },
  {
   "cell_type": "code",
   "execution_count": 21,
   "metadata": {},
   "outputs": [
    {
     "data": {
      "text/plain": [
       "2"
      ]
     },
     "execution_count": 21,
     "metadata": {},
     "output_type": "execute_result"
    }
   ],
   "source": [
    "dest_airports['geometry'] = dest_airports.geometry.centroid\n",
    "dest_airports = dest_airports.assign(dest_type = 'airport')\n",
    "len(dest_airports)"
   ]
  },
  {
   "cell_type": "code",
   "execution_count": 22,
   "metadata": {},
   "outputs": [],
   "source": [
    "dest_ports = gpd.read_file(ports).assign(dest_type = 'port')\n",
    "dest_borders = gpd.read_file(borders).assign(dest_type = 'border')\n",
    "dest_borders['geometry'] = dest_borders.geometry.apply(lambda x: x[0])"
   ]
  },
  {
   "cell_type": "code",
   "execution_count": 23,
   "metadata": {
    "scrolled": true
   },
   "outputs": [],
   "source": [
    "dest_all = pd.concat([dest_cities, dest_ports, dest_airports, dest_borders], ignore_index=True)"
   ]
  },
  {
   "cell_type": "code",
   "execution_count": 24,
   "metadata": {},
   "outputs": [
    {
     "data": {
      "text/plain": [
       "port       55\n",
       "border     24\n",
       "city        8\n",
       "airport     2\n",
       "Name: dest_type, dtype: int64"
      ]
     },
     "execution_count": 24,
     "metadata": {},
     "output_type": "execute_result"
    }
   ],
   "source": [
    "dest_all.dest_type.value_counts()"
   ]
  },
  {
   "cell_type": "code",
   "execution_count": 25,
   "metadata": {},
   "outputs": [
    {
     "data": {
      "text/plain": [
       "Index(['ID', 'Pop', 'geometry', 'dest_type', 'OSM_ID', 'x', 'y', 'id', '@id',\n",
       "       'addr:city', 'addr:postcode', 'addr:street', 'aeroway', 'ele', 'iata',\n",
       "       'icao', 'internet_access', 'name', 'name:en', 'operator', 'type',\n",
       "       'wikidata', 'wikipedia', 'int_name', 'is_in:city', 'is_in:country',\n",
       "       'is_in:state', 'CNTRY_NAME', 'NAME', 'ALT1_NAME', 'ALT2_NAME', 'ETYPE',\n",
       "       'CNTRY_BORD'],\n",
       "      dtype='object')"
      ]
     },
     "execution_count": 25,
     "metadata": {},
     "output_type": "execute_result"
    }
   ],
   "source": [
    "dest_all.columns"
   ]
  },
  {
   "cell_type": "code",
   "execution_count": 26,
   "metadata": {},
   "outputs": [],
   "source": [
    "dest_all = dest_all[['ID', 'Pop', 'geometry', 'id', 'name', 'NAME', 'dest_type']]"
   ]
  },
  {
   "cell_type": "code",
   "execution_count": 27,
   "metadata": {},
   "outputs": [],
   "source": [
    "output_path = os.path.join(out_folder,'out')"
   ]
  },
  {
   "cell_type": "code",
   "execution_count": 110,
   "metadata": {},
   "outputs": [],
   "source": [
    "dest_all.to_csv(os.path.join(output_path, 'destination_all.csv'))"
   ]
  },
  {
   "cell_type": "code",
   "execution_count": 28,
   "metadata": {},
   "outputs": [
    {
     "data": {
      "text/plain": [
       "(508184, 89)"
      ]
     },
     "execution_count": 28,
     "metadata": {},
     "output_type": "execute_result"
    }
   ],
   "source": [
    "len(origins), len(dest_all)"
   ]
  },
  {
   "cell_type": "markdown",
   "metadata": {},
   "source": [
    "### Snap origins and destinations"
   ]
  },
  {
   "cell_type": "markdown",
   "metadata": {},
   "source": [
    "#### Snap to origins to 5 nearest nodes"
   ]
  },
  {
   "cell_type": "code",
   "execution_count": 31,
   "metadata": {},
   "outputs": [],
   "source": [
    "utm = f\"EPSG:{epsg}\""
   ]
  },
  {
   "cell_type": "code",
   "execution_count": 32,
   "metadata": {},
   "outputs": [
    {
     "name": "stdout",
     "output_type": "stream",
     "text": [
      "CPU times: user 1min 18s, sys: 2.05 s, total: 1min 20s\n",
      "Wall time: 1min 20s\n"
     ]
    }
   ],
   "source": [
    "%%time\n",
    "# this function returns a dictionary of origin IDs, with a list of 5 NNs, and a corresponding list of distances\n",
    "origins_snapped_dict = gn.pandana_snap_to_many(G_largest, origins, source_crs='epsg:4326', target_crs=utm, \n",
    "                                               add_dist_to_node_col = True, k_nearest=5, origin_id='pointid')"
   ]
  },
  {
   "cell_type": "code",
   "execution_count": 33,
   "metadata": {},
   "outputs": [],
   "source": [
    "dest_snapped = gn.pandana_snap_c(G_largest, dest_all, source_crs='epsg:4326', target_crs=utm,\n",
    "                                 add_dist_to_node_col = False)"
   ]
  },
  {
   "cell_type": "code",
   "execution_count": 34,
   "metadata": {},
   "outputs": [],
   "source": [
    "# origins_unique_nn = list(set(origins_snapped['NN']))\n",
    "dest_nn = list(dest_snapped['NN'])"
   ]
  },
  {
   "cell_type": "code",
   "execution_count": 35,
   "metadata": {},
   "outputs": [],
   "source": [
    "list_origins_NN = []\n",
    "for each in origins_snapped_dict.values():\n",
    "    list_origins_NN += each['NN']"
   ]
  },
  {
   "cell_type": "code",
   "execution_count": 36,
   "metadata": {},
   "outputs": [],
   "source": [
    "origins_unique_nn = list(set(list_origins_NN))"
   ]
  },
  {
   "cell_type": "code",
   "execution_count": 37,
   "metadata": {},
   "outputs": [
    {
     "data": {
      "text/plain": [
       "6117"
      ]
     },
     "execution_count": 37,
     "metadata": {},
     "output_type": "execute_result"
    }
   ],
   "source": [
    "len(set(origins_unique_nn))"
   ]
  },
  {
   "cell_type": "code",
   "execution_count": 38,
   "metadata": {},
   "outputs": [
    {
     "name": "stdout",
     "output_type": "stream",
     "text": [
      "CPU times: user 8.94 s, sys: 42.8 ms, total: 8.99 s\n",
      "Wall time: 8.99 s\n"
     ]
    }
   ],
   "source": [
    "%%time\n",
    "curOD = gn.calculate_OD(G_largest, origins_unique_nn, dest_nn, fail_value = 999999999, weight='length')"
   ]
  },
  {
   "cell_type": "code",
   "execution_count": 39,
   "metadata": {},
   "outputs": [
    {
     "data": {
      "text/plain": [
       "array([], dtype=float64)"
      ]
     },
     "execution_count": 39,
     "metadata": {},
     "output_type": "execute_result"
    }
   ],
   "source": [
    "curOD[curOD==999999999]"
   ]
  },
  {
   "cell_type": "code",
   "execution_count": 40,
   "metadata": {},
   "outputs": [
    {
     "data": {
      "text/plain": [
       "(6117, 89)"
      ]
     },
     "execution_count": 40,
     "metadata": {},
     "output_type": "execute_result"
    }
   ],
   "source": [
    "curOD.shape"
   ]
  },
  {
   "cell_type": "code",
   "execution_count": 41,
   "metadata": {},
   "outputs": [],
   "source": [
    "od_df = pd.DataFrame(curOD, index=origins_unique_nn, columns=dest_nn)"
   ]
  },
  {
   "cell_type": "code",
   "execution_count": 42,
   "metadata": {},
   "outputs": [
    {
     "data": {
      "text/html": [
       "<div>\n",
       "<style scoped>\n",
       "    .dataframe tbody tr th:only-of-type {\n",
       "        vertical-align: middle;\n",
       "    }\n",
       "\n",
       "    .dataframe tbody tr th {\n",
       "        vertical-align: top;\n",
       "    }\n",
       "\n",
       "    .dataframe thead th {\n",
       "        text-align: right;\n",
       "    }\n",
       "</style>\n",
       "<table border=\"1\" class=\"dataframe\">\n",
       "  <thead>\n",
       "    <tr style=\"text-align: right;\">\n",
       "      <th></th>\n",
       "      <th>new_obj_6434</th>\n",
       "      <th>new_obj_6039</th>\n",
       "      <th>37299</th>\n",
       "      <th>38275_2246_10916</th>\n",
       "      <th>9886</th>\n",
       "      <th>new_obj_3638</th>\n",
       "      <th>new_obj_3113</th>\n",
       "      <th>new_obj_1827</th>\n",
       "      <th>new_obj_6045</th>\n",
       "      <th>33544</th>\n",
       "      <th>...</th>\n",
       "      <th>new_obj_6354</th>\n",
       "      <th>new_obj_6354</th>\n",
       "      <th>new_obj_6121</th>\n",
       "      <th>new_obj_6121</th>\n",
       "      <th>new_obj_6421</th>\n",
       "      <th>new_obj_6421</th>\n",
       "      <th>new_obj_3379</th>\n",
       "      <th>new_obj_3379</th>\n",
       "      <th>new_obj_7079_2595_12225</th>\n",
       "      <th>new_obj_7079_2595_12225</th>\n",
       "    </tr>\n",
       "  </thead>\n",
       "  <tbody>\n",
       "    <tr>\n",
       "      <th>32768</th>\n",
       "      <td>326276.964769</td>\n",
       "      <td>280021.891250</td>\n",
       "      <td>130133.189207</td>\n",
       "      <td>178245.031953</td>\n",
       "      <td>208361.265863</td>\n",
       "      <td>248770.146455</td>\n",
       "      <td>170986.256918</td>\n",
       "      <td>400215.031692</td>\n",
       "      <td>282154.292946</td>\n",
       "      <td>387420.779987</td>\n",
       "      <td>...</td>\n",
       "      <td>307328.765862</td>\n",
       "      <td>307328.765862</td>\n",
       "      <td>267066.554589</td>\n",
       "      <td>267066.554589</td>\n",
       "      <td>324542.557955</td>\n",
       "      <td>324542.557955</td>\n",
       "      <td>253188.720866</td>\n",
       "      <td>253188.720866</td>\n",
       "      <td>9.280484e+05</td>\n",
       "      <td>9.280484e+05</td>\n",
       "    </tr>\n",
       "    <tr>\n",
       "      <th>38263_1301_6535</th>\n",
       "      <td>816018.476486</td>\n",
       "      <td>763916.393275</td>\n",
       "      <td>507555.515973</td>\n",
       "      <td>548795.970692</td>\n",
       "      <td>393579.217749</td>\n",
       "      <td>547955.191024</td>\n",
       "      <td>482023.391614</td>\n",
       "      <td>280578.927009</td>\n",
       "      <td>766555.562220</td>\n",
       "      <td>446390.305626</td>\n",
       "      <td>...</td>\n",
       "      <td>833121.593810</td>\n",
       "      <td>833121.593810</td>\n",
       "      <td>756808.066306</td>\n",
       "      <td>756808.066306</td>\n",
       "      <td>814284.069671</td>\n",
       "      <td>814284.069671</td>\n",
       "      <td>554754.560190</td>\n",
       "      <td>554754.560190</td>\n",
       "      <td>1.120158e+06</td>\n",
       "      <td>1.120158e+06</td>\n",
       "    </tr>\n",
       "    <tr>\n",
       "      <th>new_obj_6885_1646_8098</th>\n",
       "      <td>631684.833153</td>\n",
       "      <td>418505.501459</td>\n",
       "      <td>656591.747534</td>\n",
       "      <td>701517.901748</td>\n",
       "      <td>542615.449310</td>\n",
       "      <td>840347.144925</td>\n",
       "      <td>671884.870013</td>\n",
       "      <td>886649.872016</td>\n",
       "      <td>421144.670404</td>\n",
       "      <td>962788.899354</td>\n",
       "      <td>...</td>\n",
       "      <td>648787.950477</td>\n",
       "      <td>648787.950477</td>\n",
       "      <td>675419.373575</td>\n",
       "      <td>675419.373575</td>\n",
       "      <td>629950.426339</td>\n",
       "      <td>629950.426339</td>\n",
       "      <td>851063.252140</td>\n",
       "      <td>851063.252140</td>\n",
       "      <td>2.295210e+05</td>\n",
       "      <td>2.295210e+05</td>\n",
       "    </tr>\n",
       "    <tr>\n",
       "      <th>new_obj_2769_2415_11535</th>\n",
       "      <td>544164.763866</td>\n",
       "      <td>497909.690348</td>\n",
       "      <td>153572.099304</td>\n",
       "      <td>141944.130383</td>\n",
       "      <td>244798.493597</td>\n",
       "      <td>166549.032583</td>\n",
       "      <td>113556.358196</td>\n",
       "      <td>193166.878140</td>\n",
       "      <td>500042.092044</td>\n",
       "      <td>177347.671145</td>\n",
       "      <td>...</td>\n",
       "      <td>561139.612770</td>\n",
       "      <td>561139.612770</td>\n",
       "      <td>484954.353687</td>\n",
       "      <td>484954.353687</td>\n",
       "      <td>542430.357052</td>\n",
       "      <td>542430.357052</td>\n",
       "      <td>173348.401749</td>\n",
       "      <td>173348.401749</td>\n",
       "      <td>1.014962e+06</td>\n",
       "      <td>1.014962e+06</td>\n",
       "    </tr>\n",
       "    <tr>\n",
       "      <th>new_obj_4609</th>\n",
       "      <td>451492.589389</td>\n",
       "      <td>405237.515870</td>\n",
       "      <td>129507.516615</td>\n",
       "      <td>174433.670829</td>\n",
       "      <td>12823.313958</td>\n",
       "      <td>313262.914006</td>\n",
       "      <td>140820.746965</td>\n",
       "      <td>355585.748969</td>\n",
       "      <td>407369.917566</td>\n",
       "      <td>431724.776306</td>\n",
       "      <td>...</td>\n",
       "      <td>468595.706713</td>\n",
       "      <td>468595.706713</td>\n",
       "      <td>392282.179209</td>\n",
       "      <td>392282.179209</td>\n",
       "      <td>449758.182575</td>\n",
       "      <td>449758.182575</td>\n",
       "      <td>323979.021221</td>\n",
       "      <td>323979.021221</td>\n",
       "      <td>7.660197e+05</td>\n",
       "      <td>7.660197e+05</td>\n",
       "    </tr>\n",
       "  </tbody>\n",
       "</table>\n",
       "<p>5 rows × 89 columns</p>\n",
       "</div>"
      ],
      "text/plain": [
       "                          new_obj_6434   new_obj_6039          37299  \\\n",
       "32768                    326276.964769  280021.891250  130133.189207   \n",
       "38263_1301_6535          816018.476486  763916.393275  507555.515973   \n",
       "new_obj_6885_1646_8098   631684.833153  418505.501459  656591.747534   \n",
       "new_obj_2769_2415_11535  544164.763866  497909.690348  153572.099304   \n",
       "new_obj_4609             451492.589389  405237.515870  129507.516615   \n",
       "\n",
       "                         38275_2246_10916           9886   new_obj_3638  \\\n",
       "32768                       178245.031953  208361.265863  248770.146455   \n",
       "38263_1301_6535             548795.970692  393579.217749  547955.191024   \n",
       "new_obj_6885_1646_8098      701517.901748  542615.449310  840347.144925   \n",
       "new_obj_2769_2415_11535     141944.130383  244798.493597  166549.032583   \n",
       "new_obj_4609                174433.670829   12823.313958  313262.914006   \n",
       "\n",
       "                          new_obj_3113   new_obj_1827   new_obj_6045  \\\n",
       "32768                    170986.256918  400215.031692  282154.292946   \n",
       "38263_1301_6535          482023.391614  280578.927009  766555.562220   \n",
       "new_obj_6885_1646_8098   671884.870013  886649.872016  421144.670404   \n",
       "new_obj_2769_2415_11535  113556.358196  193166.878140  500042.092044   \n",
       "new_obj_4609             140820.746965  355585.748969  407369.917566   \n",
       "\n",
       "                                 33544  ...   new_obj_6354   new_obj_6354  \\\n",
       "32768                    387420.779987  ...  307328.765862  307328.765862   \n",
       "38263_1301_6535          446390.305626  ...  833121.593810  833121.593810   \n",
       "new_obj_6885_1646_8098   962788.899354  ...  648787.950477  648787.950477   \n",
       "new_obj_2769_2415_11535  177347.671145  ...  561139.612770  561139.612770   \n",
       "new_obj_4609             431724.776306  ...  468595.706713  468595.706713   \n",
       "\n",
       "                          new_obj_6121   new_obj_6121   new_obj_6421  \\\n",
       "32768                    267066.554589  267066.554589  324542.557955   \n",
       "38263_1301_6535          756808.066306  756808.066306  814284.069671   \n",
       "new_obj_6885_1646_8098   675419.373575  675419.373575  629950.426339   \n",
       "new_obj_2769_2415_11535  484954.353687  484954.353687  542430.357052   \n",
       "new_obj_4609             392282.179209  392282.179209  449758.182575   \n",
       "\n",
       "                          new_obj_6421   new_obj_3379   new_obj_3379  \\\n",
       "32768                    324542.557955  253188.720866  253188.720866   \n",
       "38263_1301_6535          814284.069671  554754.560190  554754.560190   \n",
       "new_obj_6885_1646_8098   629950.426339  851063.252140  851063.252140   \n",
       "new_obj_2769_2415_11535  542430.357052  173348.401749  173348.401749   \n",
       "new_obj_4609             449758.182575  323979.021221  323979.021221   \n",
       "\n",
       "                         new_obj_7079_2595_12225  new_obj_7079_2595_12225  \n",
       "32768                               9.280484e+05             9.280484e+05  \n",
       "38263_1301_6535                     1.120158e+06             1.120158e+06  \n",
       "new_obj_6885_1646_8098              2.295210e+05             2.295210e+05  \n",
       "new_obj_2769_2415_11535             1.014962e+06             1.014962e+06  \n",
       "new_obj_4609                        7.660197e+05             7.660197e+05  \n",
       "\n",
       "[5 rows x 89 columns]"
      ]
     },
     "execution_count": 42,
     "metadata": {},
     "output_type": "execute_result"
    }
   ],
   "source": [
    "od_df.head()"
   ]
  },
  {
   "cell_type": "markdown",
   "metadata": {},
   "source": [
    "For each origin set of 5 (k) possible NN:\n",
    "    - Add snapping dist (in time) + time to a destination\n",
    "    - Which destination? min time from all of them won't necessarily work, so we need to find the closest destination for each origin, and select the NN which yields the fastest travel time to that dest\n",
    "    - closest_dest.idx should match the OD column order."
   ]
  },
  {
   "cell_type": "code",
   "execution_count": 43,
   "metadata": {},
   "outputs": [
    {
     "name": "stdout",
     "output_type": "stream",
     "text": [
      "CPU times: user 26.7 s, sys: 604 ms, total: 27.3 s\n",
      "Wall time: 27.4 s\n"
     ]
    }
   ],
   "source": [
    "%%time\n",
    "closest_dest = gn.pandana_snap_points(origins, dest_all, source_crs='epsg:4326', target_crs=utm,\n",
    "                                      add_dist_to_node_col=True)"
   ]
  },
  {
   "cell_type": "code",
   "execution_count": 44,
   "metadata": {},
   "outputs": [],
   "source": [
    "closest_dest = closest_dest.set_index('pointid')"
   ]
  },
  {
   "cell_type": "code",
   "execution_count": 45,
   "metadata": {},
   "outputs": [
    {
     "data": {
      "text/html": [
       "<div>\n",
       "<style scoped>\n",
       "    .dataframe tbody tr th:only-of-type {\n",
       "        vertical-align: middle;\n",
       "    }\n",
       "\n",
       "    .dataframe tbody tr th {\n",
       "        vertical-align: top;\n",
       "    }\n",
       "\n",
       "    .dataframe thead th {\n",
       "        text-align: right;\n",
       "    }\n",
       "</style>\n",
       "<table border=\"1\" class=\"dataframe\">\n",
       "  <thead>\n",
       "    <tr style=\"text-align: right;\">\n",
       "      <th></th>\n",
       "      <th>grid_code</th>\n",
       "      <th>geometry</th>\n",
       "      <th>idx</th>\n",
       "      <th>idx_dist</th>\n",
       "    </tr>\n",
       "    <tr>\n",
       "      <th>pointid</th>\n",
       "      <th></th>\n",
       "      <th></th>\n",
       "      <th></th>\n",
       "      <th></th>\n",
       "    </tr>\n",
       "  </thead>\n",
       "  <tbody>\n",
       "    <tr>\n",
       "      <th>1</th>\n",
       "      <td>0.023788</td>\n",
       "      <td>POINT (183778.061 7863739.501)</td>\n",
       "      <td>14</td>\n",
       "      <td>223718.408563</td>\n",
       "    </tr>\n",
       "    <tr>\n",
       "      <th>2</th>\n",
       "      <td>0.027599</td>\n",
       "      <td>POINT (184654.532 7863754.703)</td>\n",
       "      <td>14</td>\n",
       "      <td>222953.988701</td>\n",
       "    </tr>\n",
       "    <tr>\n",
       "      <th>3</th>\n",
       "      <td>0.023359</td>\n",
       "      <td>POINT (185530.998 7863769.862)</td>\n",
       "      <td>14</td>\n",
       "      <td>222190.381820</td>\n",
       "    </tr>\n",
       "    <tr>\n",
       "      <th>4</th>\n",
       "      <td>0.017465</td>\n",
       "      <td>POINT (186407.458 7863784.979)</td>\n",
       "      <td>14</td>\n",
       "      <td>221427.596247</td>\n",
       "    </tr>\n",
       "    <tr>\n",
       "      <th>5</th>\n",
       "      <td>0.020155</td>\n",
       "      <td>POINT (187283.914 7863800.054)</td>\n",
       "      <td>14</td>\n",
       "      <td>220665.640418</td>\n",
       "    </tr>\n",
       "  </tbody>\n",
       "</table>\n",
       "</div>"
      ],
      "text/plain": [
       "         grid_code                        geometry  idx       idx_dist\n",
       "pointid                                                               \n",
       "1         0.023788  POINT (183778.061 7863739.501)   14  223718.408563\n",
       "2         0.027599  POINT (184654.532 7863754.703)   14  222953.988701\n",
       "3         0.023359  POINT (185530.998 7863769.862)   14  222190.381820\n",
       "4         0.017465  POINT (186407.458 7863784.979)   14  221427.596247\n",
       "5         0.020155  POINT (187283.914 7863800.054)   14  220665.640418"
      ]
     },
     "execution_count": 45,
     "metadata": {},
     "output_type": "execute_result"
    }
   ],
   "source": [
    "closest_dest.head()"
   ]
  },
  {
   "cell_type": "code",
   "execution_count": 46,
   "metadata": {},
   "outputs": [],
   "source": [
    "# custom_speed = 20 # km/h"
   ]
  },
  {
   "cell_type": "code",
   "execution_count": 47,
   "metadata": {},
   "outputs": [
    {
     "name": "stdout",
     "output_type": "stream",
     "text": [
      "CPU times: user 6min, sys: 874 ms, total: 6min 1s\n",
      "Wall time: 6min 1s\n"
     ]
    }
   ],
   "source": [
    "%%time\n",
    "fastest_nn = []\n",
    "fastest_dist = []\n",
    "\n",
    "for pointid, items in origins_snapped_dict.items():\n",
    "    dest_index = closest_dest.loc[pointid].idx\n",
    "    nn_list = items['NN']\n",
    "    dist_list = items['NN_dist']\n",
    "    total_dist_list = []\n",
    "    for i in range(0, len(nn_list)):\n",
    "        dist_snapping = dist_list[i]\n",
    "#         time_snapping = ((dist_list[i] / 1000) / custom_speed) * 60 * 60\n",
    "        dist_to_dest = od_df.loc[nn_list[i]].iloc[dest_index]\n",
    "#         time_to_dest = od_df.loc[nn_list[i]].iloc[dest_index]\n",
    "        total_dist = dist_snapping+dist_to_dest\n",
    "#         total_time = time_snapping+time_to_dest\n",
    "        total_dist_list.append(total_dist)\n",
    "#         print(f\"id: {nn_list[i]}, snapping dist (km): {dist_list[i]/1000:.2f}, time to dest (min): {(total_time/60)/60:.2f}\")\n",
    "    min_pos = total_dist_list.index(min(total_dist_list))\n",
    "    fastest_nn.append(nn_list[min_pos])\n",
    "    fastest_dist.append(dist_list[min_pos])\n",
    "#     origins_snapped_smart.loc[pointid, \"NN\"] = nn_list[min_pos]\n",
    "#     origins_snapped_smart.loc[pointid, \"NN_dist\"] = dist_list[min_pos]"
   ]
  },
  {
   "cell_type": "code",
   "execution_count": 48,
   "metadata": {},
   "outputs": [],
   "source": [
    "origins_snapped_smart = origins.copy().set_index('pointid')"
   ]
  },
  {
   "cell_type": "code",
   "execution_count": 49,
   "metadata": {},
   "outputs": [],
   "source": [
    "origins_snapped_smart['NN'] = pd.Series(fastest_nn, index = origins_snapped_smart.index)\n",
    "origins_snapped_smart['NN_dist'] = pd.Series(fastest_dist, index = origins_snapped_smart.index)"
   ]
  },
  {
   "cell_type": "code",
   "execution_count": 50,
   "metadata": {},
   "outputs": [
    {
     "data": {
      "text/html": [
       "<div>\n",
       "<style scoped>\n",
       "    .dataframe tbody tr th:only-of-type {\n",
       "        vertical-align: middle;\n",
       "    }\n",
       "\n",
       "    .dataframe tbody tr th {\n",
       "        vertical-align: top;\n",
       "    }\n",
       "\n",
       "    .dataframe thead th {\n",
       "        text-align: right;\n",
       "    }\n",
       "</style>\n",
       "<table border=\"1\" class=\"dataframe\">\n",
       "  <thead>\n",
       "    <tr style=\"text-align: right;\">\n",
       "      <th></th>\n",
       "      <th>grid_code</th>\n",
       "      <th>geometry</th>\n",
       "      <th>NN</th>\n",
       "      <th>NN_dist</th>\n",
       "    </tr>\n",
       "    <tr>\n",
       "      <th>pointid</th>\n",
       "      <th></th>\n",
       "      <th></th>\n",
       "      <th></th>\n",
       "      <th></th>\n",
       "    </tr>\n",
       "  </thead>\n",
       "  <tbody>\n",
       "    <tr>\n",
       "      <th>1</th>\n",
       "      <td>0.023788</td>\n",
       "      <td>POINT (-60.00875 -19.29542)</td>\n",
       "      <td>6668_533_2721</td>\n",
       "      <td>72124.911609</td>\n",
       "    </tr>\n",
       "    <tr>\n",
       "      <th>2</th>\n",
       "      <td>0.027599</td>\n",
       "      <td>POINT (-60.00042 -19.29542)</td>\n",
       "      <td>6668_533_2721</td>\n",
       "      <td>72785.491551</td>\n",
       "    </tr>\n",
       "    <tr>\n",
       "      <th>3</th>\n",
       "      <td>0.023359</td>\n",
       "      <td>POINT (-59.99208 -19.29542)</td>\n",
       "      <td>6668_533_2721</td>\n",
       "      <td>73450.560639</td>\n",
       "    </tr>\n",
       "    <tr>\n",
       "      <th>4</th>\n",
       "      <td>0.017465</td>\n",
       "      <td>POINT (-59.98375 -19.29542)</td>\n",
       "      <td>6668_533_2721</td>\n",
       "      <td>74119.997833</td>\n",
       "    </tr>\n",
       "    <tr>\n",
       "      <th>5</th>\n",
       "      <td>0.020155</td>\n",
       "      <td>POINT (-59.97542 -19.29542)</td>\n",
       "      <td>6668_533_2721</td>\n",
       "      <td>74793.685643</td>\n",
       "    </tr>\n",
       "  </tbody>\n",
       "</table>\n",
       "</div>"
      ],
      "text/plain": [
       "         grid_code                     geometry             NN       NN_dist\n",
       "pointid                                                                     \n",
       "1         0.023788  POINT (-60.00875 -19.29542)  6668_533_2721  72124.911609\n",
       "2         0.027599  POINT (-60.00042 -19.29542)  6668_533_2721  72785.491551\n",
       "3         0.023359  POINT (-59.99208 -19.29542)  6668_533_2721  73450.560639\n",
       "4         0.017465  POINT (-59.98375 -19.29542)  6668_533_2721  74119.997833\n",
       "5         0.020155  POINT (-59.97542 -19.29542)  6668_533_2721  74793.685643"
      ]
     },
     "execution_count": 50,
     "metadata": {},
     "output_type": "execute_result"
    }
   ],
   "source": [
    "origins_snapped_smart.head()"
   ]
  },
  {
   "cell_type": "code",
   "execution_count": 51,
   "metadata": {},
   "outputs": [],
   "source": [
    "origins_snapped_smart['pointid'] = origins_snapped_smart.index"
   ]
  },
  {
   "cell_type": "code",
   "execution_count": 64,
   "metadata": {},
   "outputs": [],
   "source": [
    "origins_snapped = origins_snapped_smart.copy()"
   ]
  },
  {
   "cell_type": "code",
   "execution_count": 65,
   "metadata": {},
   "outputs": [],
   "source": [
    "custom_speed = 20 # km/h\n",
    "# origins_snapped['NN_dist_seconds'] = ((origins_snapped.NN_dist / 1000) / custom_speed) * 60 * 60\n",
    "# origins_snapped['NN_dist'] = (origins_snapped.NN_dist / 1000)\n",
    "origins_snapped['NN_dist_hours'] = ((origins_snapped.NN_dist / 1000) / custom_speed)"
   ]
  },
  {
   "cell_type": "code",
   "execution_count": 67,
   "metadata": {},
   "outputs": [
    {
     "data": {
      "text/plain": [
       "<matplotlib.axes._subplots.AxesSubplot at 0x7f3490980650>"
      ]
     },
     "execution_count": 67,
     "metadata": {},
     "output_type": "execute_result"
    },
    {
     "data": {
      "image/png": "[encoded data removed]",
      "text/plain": [
       "<Figure size 432x288 with 1 Axes>"
      ]
     },
     "metadata": {
      "needs_background": "light"
     },
     "output_type": "display_data"
    }
   ],
   "source": [
    "origins_snapped.NN_dist.apply(lambda x: x/1000).hist()"
   ]
  },
  {
   "cell_type": "code",
   "execution_count": 54,
   "metadata": {},
   "outputs": [],
   "source": [
    "# origins_snapped.NN_dist_hours.hist()"
   ]
  },
  {
   "cell_type": "code",
   "execution_count": 68,
   "metadata": {},
   "outputs": [],
   "source": [
    "origins_join = origins_snapped.join(od_df, on='NN')"
   ]
  },
  {
   "cell_type": "code",
   "execution_count": 69,
   "metadata": {
    "scrolled": true
   },
   "outputs": [
    {
     "data": {
      "text/html": [
       "<div>\n",
       "<style scoped>\n",
       "    .dataframe tbody tr th:only-of-type {\n",
       "        vertical-align: middle;\n",
       "    }\n",
       "\n",
       "    .dataframe tbody tr th {\n",
       "        vertical-align: top;\n",
       "    }\n",
       "\n",
       "    .dataframe thead th {\n",
       "        text-align: right;\n",
       "    }\n",
       "</style>\n",
       "<table border=\"1\" class=\"dataframe\">\n",
       "  <thead>\n",
       "    <tr style=\"text-align: right;\">\n",
       "      <th></th>\n",
       "      <th>grid_code</th>\n",
       "      <th>geometry</th>\n",
       "      <th>NN</th>\n",
       "      <th>NN_dist</th>\n",
       "      <th>pointid</th>\n",
       "      <th>NN_dist_hours</th>\n",
       "      <th>new_obj_6434</th>\n",
       "      <th>new_obj_6039</th>\n",
       "      <th>37299</th>\n",
       "      <th>38275_2246_10916</th>\n",
       "      <th>...</th>\n",
       "      <th>new_obj_6354</th>\n",
       "      <th>new_obj_6354</th>\n",
       "      <th>new_obj_6121</th>\n",
       "      <th>new_obj_6121</th>\n",
       "      <th>new_obj_6421</th>\n",
       "      <th>new_obj_6421</th>\n",
       "      <th>new_obj_3379</th>\n",
       "      <th>new_obj_3379</th>\n",
       "      <th>new_obj_7079_2595_12225</th>\n",
       "      <th>new_obj_7079_2595_12225</th>\n",
       "    </tr>\n",
       "    <tr>\n",
       "      <th>pointid</th>\n",
       "      <th></th>\n",
       "      <th></th>\n",
       "      <th></th>\n",
       "      <th></th>\n",
       "      <th></th>\n",
       "      <th></th>\n",
       "      <th></th>\n",
       "      <th></th>\n",
       "      <th></th>\n",
       "      <th></th>\n",
       "      <th></th>\n",
       "      <th></th>\n",
       "      <th></th>\n",
       "      <th></th>\n",
       "      <th></th>\n",
       "      <th></th>\n",
       "      <th></th>\n",
       "      <th></th>\n",
       "      <th></th>\n",
       "      <th></th>\n",
       "      <th></th>\n",
       "    </tr>\n",
       "  </thead>\n",
       "  <tbody>\n",
       "    <tr>\n",
       "      <th>1</th>\n",
       "      <td>0.023788</td>\n",
       "      <td>POINT (-60.00875 -19.29542)</td>\n",
       "      <td>6668_533_2721</td>\n",
       "      <td>72124.911609</td>\n",
       "      <td>1</td>\n",
       "      <td>3.606246</td>\n",
       "      <td>903123.833153</td>\n",
       "      <td>689944.501459</td>\n",
       "      <td>928030.747534</td>\n",
       "      <td>972956.901748</td>\n",
       "      <td>...</td>\n",
       "      <td>920226.950477</td>\n",
       "      <td>920226.950477</td>\n",
       "      <td>946858.373575</td>\n",
       "      <td>946858.373575</td>\n",
       "      <td>901389.426339</td>\n",
       "      <td>901389.426339</td>\n",
       "      <td>1.122502e+06</td>\n",
       "      <td>1.122502e+06</td>\n",
       "      <td>416134.0</td>\n",
       "      <td>416134.0</td>\n",
       "    </tr>\n",
       "    <tr>\n",
       "      <th>2</th>\n",
       "      <td>0.027599</td>\n",
       "      <td>POINT (-60.00042 -19.29542)</td>\n",
       "      <td>6668_533_2721</td>\n",
       "      <td>72785.491551</td>\n",
       "      <td>2</td>\n",
       "      <td>3.639275</td>\n",
       "      <td>903123.833153</td>\n",
       "      <td>689944.501459</td>\n",
       "      <td>928030.747534</td>\n",
       "      <td>972956.901748</td>\n",
       "      <td>...</td>\n",
       "      <td>920226.950477</td>\n",
       "      <td>920226.950477</td>\n",
       "      <td>946858.373575</td>\n",
       "      <td>946858.373575</td>\n",
       "      <td>901389.426339</td>\n",
       "      <td>901389.426339</td>\n",
       "      <td>1.122502e+06</td>\n",
       "      <td>1.122502e+06</td>\n",
       "      <td>416134.0</td>\n",
       "      <td>416134.0</td>\n",
       "    </tr>\n",
       "    <tr>\n",
       "      <th>3</th>\n",
       "      <td>0.023359</td>\n",
       "      <td>POINT (-59.99208 -19.29542)</td>\n",
       "      <td>6668_533_2721</td>\n",
       "      <td>73450.560639</td>\n",
       "      <td>3</td>\n",
       "      <td>3.672528</td>\n",
       "      <td>903123.833153</td>\n",
       "      <td>689944.501459</td>\n",
       "      <td>928030.747534</td>\n",
       "      <td>972956.901748</td>\n",
       "      <td>...</td>\n",
       "      <td>920226.950477</td>\n",
       "      <td>920226.950477</td>\n",
       "      <td>946858.373575</td>\n",
       "      <td>946858.373575</td>\n",
       "      <td>901389.426339</td>\n",
       "      <td>901389.426339</td>\n",
       "      <td>1.122502e+06</td>\n",
       "      <td>1.122502e+06</td>\n",
       "      <td>416134.0</td>\n",
       "      <td>416134.0</td>\n",
       "    </tr>\n",
       "    <tr>\n",
       "      <th>4</th>\n",
       "      <td>0.017465</td>\n",
       "      <td>POINT (-59.98375 -19.29542)</td>\n",
       "      <td>6668_533_2721</td>\n",
       "      <td>74119.997833</td>\n",
       "      <td>4</td>\n",
       "      <td>3.706000</td>\n",
       "      <td>903123.833153</td>\n",
       "      <td>689944.501459</td>\n",
       "      <td>928030.747534</td>\n",
       "      <td>972956.901748</td>\n",
       "      <td>...</td>\n",
       "      <td>920226.950477</td>\n",
       "      <td>920226.950477</td>\n",
       "      <td>946858.373575</td>\n",
       "      <td>946858.373575</td>\n",
       "      <td>901389.426339</td>\n",
       "      <td>901389.426339</td>\n",
       "      <td>1.122502e+06</td>\n",
       "      <td>1.122502e+06</td>\n",
       "      <td>416134.0</td>\n",
       "      <td>416134.0</td>\n",
       "    </tr>\n",
       "    <tr>\n",
       "      <th>5</th>\n",
       "      <td>0.020155</td>\n",
       "      <td>POINT (-59.97542 -19.29542)</td>\n",
       "      <td>6668_533_2721</td>\n",
       "      <td>74793.685643</td>\n",
       "      <td>5</td>\n",
       "      <td>3.739684</td>\n",
       "      <td>903123.833153</td>\n",
       "      <td>689944.501459</td>\n",
       "      <td>928030.747534</td>\n",
       "      <td>972956.901748</td>\n",
       "      <td>...</td>\n",
       "      <td>920226.950477</td>\n",
       "      <td>920226.950477</td>\n",
       "      <td>946858.373575</td>\n",
       "      <td>946858.373575</td>\n",
       "      <td>901389.426339</td>\n",
       "      <td>901389.426339</td>\n",
       "      <td>1.122502e+06</td>\n",
       "      <td>1.122502e+06</td>\n",
       "      <td>416134.0</td>\n",
       "      <td>416134.0</td>\n",
       "    </tr>\n",
       "  </tbody>\n",
       "</table>\n",
       "<p>5 rows × 95 columns</p>\n",
       "</div>"
      ],
      "text/plain": [
       "         grid_code                     geometry             NN       NN_dist  \\\n",
       "pointid                                                                        \n",
       "1         0.023788  POINT (-60.00875 -19.29542)  6668_533_2721  72124.911609   \n",
       "2         0.027599  POINT (-60.00042 -19.29542)  6668_533_2721  72785.491551   \n",
       "3         0.023359  POINT (-59.99208 -19.29542)  6668_533_2721  73450.560639   \n",
       "4         0.017465  POINT (-59.98375 -19.29542)  6668_533_2721  74119.997833   \n",
       "5         0.020155  POINT (-59.97542 -19.29542)  6668_533_2721  74793.685643   \n",
       "\n",
       "         pointid  NN_dist_hours   new_obj_6434   new_obj_6039          37299  \\\n",
       "pointid                                                                        \n",
       "1              1       3.606246  903123.833153  689944.501459  928030.747534   \n",
       "2              2       3.639275  903123.833153  689944.501459  928030.747534   \n",
       "3              3       3.672528  903123.833153  689944.501459  928030.747534   \n",
       "4              4       3.706000  903123.833153  689944.501459  928030.747534   \n",
       "5              5       3.739684  903123.833153  689944.501459  928030.747534   \n",
       "\n",
       "         38275_2246_10916  ...   new_obj_6354   new_obj_6354   new_obj_6121  \\\n",
       "pointid                    ...                                                \n",
       "1           972956.901748  ...  920226.950477  920226.950477  946858.373575   \n",
       "2           972956.901748  ...  920226.950477  920226.950477  946858.373575   \n",
       "3           972956.901748  ...  920226.950477  920226.950477  946858.373575   \n",
       "4           972956.901748  ...  920226.950477  920226.950477  946858.373575   \n",
       "5           972956.901748  ...  920226.950477  920226.950477  946858.373575   \n",
       "\n",
       "          new_obj_6121   new_obj_6421   new_obj_6421  new_obj_3379  \\\n",
       "pointid                                                              \n",
       "1        946858.373575  901389.426339  901389.426339  1.122502e+06   \n",
       "2        946858.373575  901389.426339  901389.426339  1.122502e+06   \n",
       "3        946858.373575  901389.426339  901389.426339  1.122502e+06   \n",
       "4        946858.373575  901389.426339  901389.426339  1.122502e+06   \n",
       "5        946858.373575  901389.426339  901389.426339  1.122502e+06   \n",
       "\n",
       "         new_obj_3379  new_obj_7079_2595_12225  new_obj_7079_2595_12225  \n",
       "pointid                                                                  \n",
       "1        1.122502e+06                 416134.0                 416134.0  \n",
       "2        1.122502e+06                 416134.0                 416134.0  \n",
       "3        1.122502e+06                 416134.0                 416134.0  \n",
       "4        1.122502e+06                 416134.0                 416134.0  \n",
       "5        1.122502e+06                 416134.0                 416134.0  \n",
       "\n",
       "[5 rows x 95 columns]"
      ]
     },
     "execution_count": 69,
     "metadata": {},
     "output_type": "execute_result"
    }
   ],
   "source": [
    "origins_join.head()"
   ]
  },
  {
   "cell_type": "code",
   "execution_count": 71,
   "metadata": {},
   "outputs": [
    {
     "data": {
      "text/plain": [
       "True"
      ]
     },
     "execution_count": 71,
     "metadata": {},
     "output_type": "execute_result"
    }
   ],
   "source": [
    "all(origins_join.columns[6:] == dest_snapped.NN)"
   ]
  },
  {
   "cell_type": "code",
   "execution_count": 74,
   "metadata": {},
   "outputs": [],
   "source": [
    "origins_join_rename = origins_join.copy()"
   ]
  },
  {
   "cell_type": "code",
   "execution_count": 75,
   "metadata": {},
   "outputs": [],
   "source": [
    "origins_join_rename.columns = pd.MultiIndex.from_arrays([['origin' for each in origins_snapped.columns]+list(dest_snapped.dest_type), origins_snapped.columns.append(dest_snapped.index)])"
   ]
  },
  {
   "cell_type": "code",
   "execution_count": 76,
   "metadata": {
    "scrolled": true
   },
   "outputs": [
    {
     "data": {
      "text/html": [
       "<div>\n",
       "<style scoped>\n",
       "    .dataframe tbody tr th:only-of-type {\n",
       "        vertical-align: middle;\n",
       "    }\n",
       "\n",
       "    .dataframe tbody tr th {\n",
       "        vertical-align: top;\n",
       "    }\n",
       "\n",
       "    .dataframe thead tr th {\n",
       "        text-align: left;\n",
       "    }\n",
       "\n",
       "    .dataframe thead tr:last-of-type th {\n",
       "        text-align: right;\n",
       "    }\n",
       "</style>\n",
       "<table border=\"1\" class=\"dataframe\">\n",
       "  <thead>\n",
       "    <tr>\n",
       "      <th></th>\n",
       "      <th colspan=\"6\" halign=\"left\">origin</th>\n",
       "      <th colspan=\"4\" halign=\"left\">city</th>\n",
       "      <th>...</th>\n",
       "      <th colspan=\"10\" halign=\"left\">border</th>\n",
       "    </tr>\n",
       "    <tr>\n",
       "      <th></th>\n",
       "      <th>grid_code</th>\n",
       "      <th>geometry</th>\n",
       "      <th>NN</th>\n",
       "      <th>NN_dist</th>\n",
       "      <th>pointid</th>\n",
       "      <th>NN_dist_hours</th>\n",
       "      <th>0</th>\n",
       "      <th>1</th>\n",
       "      <th>2</th>\n",
       "      <th>3</th>\n",
       "      <th>...</th>\n",
       "      <th>79</th>\n",
       "      <th>80</th>\n",
       "      <th>81</th>\n",
       "      <th>82</th>\n",
       "      <th>83</th>\n",
       "      <th>84</th>\n",
       "      <th>85</th>\n",
       "      <th>86</th>\n",
       "      <th>87</th>\n",
       "      <th>88</th>\n",
       "    </tr>\n",
       "    <tr>\n",
       "      <th>pointid</th>\n",
       "      <th></th>\n",
       "      <th></th>\n",
       "      <th></th>\n",
       "      <th></th>\n",
       "      <th></th>\n",
       "      <th></th>\n",
       "      <th></th>\n",
       "      <th></th>\n",
       "      <th></th>\n",
       "      <th></th>\n",
       "      <th></th>\n",
       "      <th></th>\n",
       "      <th></th>\n",
       "      <th></th>\n",
       "      <th></th>\n",
       "      <th></th>\n",
       "      <th></th>\n",
       "      <th></th>\n",
       "      <th></th>\n",
       "      <th></th>\n",
       "      <th></th>\n",
       "    </tr>\n",
       "  </thead>\n",
       "  <tbody>\n",
       "    <tr>\n",
       "      <th>1</th>\n",
       "      <td>0.023788</td>\n",
       "      <td>POINT (-60.00875 -19.29542)</td>\n",
       "      <td>6668_533_2721</td>\n",
       "      <td>72124.911609</td>\n",
       "      <td>1</td>\n",
       "      <td>3.606246</td>\n",
       "      <td>903123.833153</td>\n",
       "      <td>689944.501459</td>\n",
       "      <td>928030.747534</td>\n",
       "      <td>972956.901748</td>\n",
       "      <td>...</td>\n",
       "      <td>920226.950477</td>\n",
       "      <td>920226.950477</td>\n",
       "      <td>946858.373575</td>\n",
       "      <td>946858.373575</td>\n",
       "      <td>901389.426339</td>\n",
       "      <td>901389.426339</td>\n",
       "      <td>1.122502e+06</td>\n",
       "      <td>1.122502e+06</td>\n",
       "      <td>416134.0</td>\n",
       "      <td>416134.0</td>\n",
       "    </tr>\n",
       "    <tr>\n",
       "      <th>2</th>\n",
       "      <td>0.027599</td>\n",
       "      <td>POINT (-60.00042 -19.29542)</td>\n",
       "      <td>6668_533_2721</td>\n",
       "      <td>72785.491551</td>\n",
       "      <td>2</td>\n",
       "      <td>3.639275</td>\n",
       "      <td>903123.833153</td>\n",
       "      <td>689944.501459</td>\n",
       "      <td>928030.747534</td>\n",
       "      <td>972956.901748</td>\n",
       "      <td>...</td>\n",
       "      <td>920226.950477</td>\n",
       "      <td>920226.950477</td>\n",
       "      <td>946858.373575</td>\n",
       "      <td>946858.373575</td>\n",
       "      <td>901389.426339</td>\n",
       "      <td>901389.426339</td>\n",
       "      <td>1.122502e+06</td>\n",
       "      <td>1.122502e+06</td>\n",
       "      <td>416134.0</td>\n",
       "      <td>416134.0</td>\n",
       "    </tr>\n",
       "    <tr>\n",
       "      <th>3</th>\n",
       "      <td>0.023359</td>\n",
       "      <td>POINT (-59.99208 -19.29542)</td>\n",
       "      <td>6668_533_2721</td>\n",
       "      <td>73450.560639</td>\n",
       "      <td>3</td>\n",
       "      <td>3.672528</td>\n",
       "      <td>903123.833153</td>\n",
       "      <td>689944.501459</td>\n",
       "      <td>928030.747534</td>\n",
       "      <td>972956.901748</td>\n",
       "      <td>...</td>\n",
       "      <td>920226.950477</td>\n",
       "      <td>920226.950477</td>\n",
       "      <td>946858.373575</td>\n",
       "      <td>946858.373575</td>\n",
       "      <td>901389.426339</td>\n",
       "      <td>901389.426339</td>\n",
       "      <td>1.122502e+06</td>\n",
       "      <td>1.122502e+06</td>\n",
       "      <td>416134.0</td>\n",
       "      <td>416134.0</td>\n",
       "    </tr>\n",
       "    <tr>\n",
       "      <th>4</th>\n",
       "      <td>0.017465</td>\n",
       "      <td>POINT (-59.98375 -19.29542)</td>\n",
       "      <td>6668_533_2721</td>\n",
       "      <td>74119.997833</td>\n",
       "      <td>4</td>\n",
       "      <td>3.706000</td>\n",
       "      <td>903123.833153</td>\n",
       "      <td>689944.501459</td>\n",
       "      <td>928030.747534</td>\n",
       "      <td>972956.901748</td>\n",
       "      <td>...</td>\n",
       "      <td>920226.950477</td>\n",
       "      <td>920226.950477</td>\n",
       "      <td>946858.373575</td>\n",
       "      <td>946858.373575</td>\n",
       "      <td>901389.426339</td>\n",
       "      <td>901389.426339</td>\n",
       "      <td>1.122502e+06</td>\n",
       "      <td>1.122502e+06</td>\n",
       "      <td>416134.0</td>\n",
       "      <td>416134.0</td>\n",
       "    </tr>\n",
       "    <tr>\n",
       "      <th>5</th>\n",
       "      <td>0.020155</td>\n",
       "      <td>POINT (-59.97542 -19.29542)</td>\n",
       "      <td>6668_533_2721</td>\n",
       "      <td>74793.685643</td>\n",
       "      <td>5</td>\n",
       "      <td>3.739684</td>\n",
       "      <td>903123.833153</td>\n",
       "      <td>689944.501459</td>\n",
       "      <td>928030.747534</td>\n",
       "      <td>972956.901748</td>\n",
       "      <td>...</td>\n",
       "      <td>920226.950477</td>\n",
       "      <td>920226.950477</td>\n",
       "      <td>946858.373575</td>\n",
       "      <td>946858.373575</td>\n",
       "      <td>901389.426339</td>\n",
       "      <td>901389.426339</td>\n",
       "      <td>1.122502e+06</td>\n",
       "      <td>1.122502e+06</td>\n",
       "      <td>416134.0</td>\n",
       "      <td>416134.0</td>\n",
       "    </tr>\n",
       "  </tbody>\n",
       "</table>\n",
       "<p>5 rows × 95 columns</p>\n",
       "</div>"
      ],
      "text/plain": [
       "           origin                                                            \\\n",
       "        grid_code                     geometry             NN       NN_dist   \n",
       "pointid                                                                       \n",
       "1        0.023788  POINT (-60.00875 -19.29542)  6668_533_2721  72124.911609   \n",
       "2        0.027599  POINT (-60.00042 -19.29542)  6668_533_2721  72785.491551   \n",
       "3        0.023359  POINT (-59.99208 -19.29542)  6668_533_2721  73450.560639   \n",
       "4        0.017465  POINT (-59.98375 -19.29542)  6668_533_2721  74119.997833   \n",
       "5        0.020155  POINT (-59.97542 -19.29542)  6668_533_2721  74793.685643   \n",
       "\n",
       "                                        city                                \\\n",
       "        pointid NN_dist_hours              0              1              2   \n",
       "pointid                                                                      \n",
       "1             1      3.606246  903123.833153  689944.501459  928030.747534   \n",
       "2             2      3.639275  903123.833153  689944.501459  928030.747534   \n",
       "3             3      3.672528  903123.833153  689944.501459  928030.747534   \n",
       "4             4      3.706000  903123.833153  689944.501459  928030.747534   \n",
       "5             5      3.739684  903123.833153  689944.501459  928030.747534   \n",
       "\n",
       "                        ...         border                                \\\n",
       "                     3  ...             79             80             81   \n",
       "pointid                 ...                                                \n",
       "1        972956.901748  ...  920226.950477  920226.950477  946858.373575   \n",
       "2        972956.901748  ...  920226.950477  920226.950477  946858.373575   \n",
       "3        972956.901748  ...  920226.950477  920226.950477  946858.373575   \n",
       "4        972956.901748  ...  920226.950477  920226.950477  946858.373575   \n",
       "5        972956.901748  ...  920226.950477  920226.950477  946858.373575   \n",
       "\n",
       "                                                                    \\\n",
       "                    82             83             84            85   \n",
       "pointid                                                              \n",
       "1        946858.373575  901389.426339  901389.426339  1.122502e+06   \n",
       "2        946858.373575  901389.426339  901389.426339  1.122502e+06   \n",
       "3        946858.373575  901389.426339  901389.426339  1.122502e+06   \n",
       "4        946858.373575  901389.426339  901389.426339  1.122502e+06   \n",
       "5        946858.373575  901389.426339  901389.426339  1.122502e+06   \n",
       "\n",
       "                                           \n",
       "                   86        87        88  \n",
       "pointid                                    \n",
       "1        1.122502e+06  416134.0  416134.0  \n",
       "2        1.122502e+06  416134.0  416134.0  \n",
       "3        1.122502e+06  416134.0  416134.0  \n",
       "4        1.122502e+06  416134.0  416134.0  \n",
       "5        1.122502e+06  416134.0  416134.0  \n",
       "\n",
       "[5 rows x 95 columns]"
      ]
     },
     "execution_count": 76,
     "metadata": {},
     "output_type": "execute_result"
    }
   ],
   "source": [
    "origins_join_rename.head()"
   ]
  },
  {
   "cell_type": "markdown",
   "metadata": {},
   "source": [
    "Add snapping time to each column (speed of 20 km/h)"
   ]
  },
  {
   "cell_type": "code",
   "execution_count": 82,
   "metadata": {},
   "outputs": [],
   "source": [
    "# origins_join2 = origins_join_rename.copy()\n",
    "origins_join2 = origins_join_rename.apply(lambda x: (x + origins_join_rename.origin.NN_dist)/1000 if x.name[1] in dest_snapped.index else x)"
   ]
  },
  {
   "cell_type": "code",
   "execution_count": 83,
   "metadata": {},
   "outputs": [
    {
     "data": {
      "text/html": [
       "<div>\n",
       "<style scoped>\n",
       "    .dataframe tbody tr th:only-of-type {\n",
       "        vertical-align: middle;\n",
       "    }\n",
       "\n",
       "    .dataframe tbody tr th {\n",
       "        vertical-align: top;\n",
       "    }\n",
       "\n",
       "    .dataframe thead tr th {\n",
       "        text-align: left;\n",
       "    }\n",
       "\n",
       "    .dataframe thead tr:last-of-type th {\n",
       "        text-align: right;\n",
       "    }\n",
       "</style>\n",
       "<table border=\"1\" class=\"dataframe\">\n",
       "  <thead>\n",
       "    <tr>\n",
       "      <th></th>\n",
       "      <th colspan=\"6\" halign=\"left\">origin</th>\n",
       "      <th colspan=\"4\" halign=\"left\">city</th>\n",
       "      <th>...</th>\n",
       "      <th colspan=\"10\" halign=\"left\">border</th>\n",
       "    </tr>\n",
       "    <tr>\n",
       "      <th></th>\n",
       "      <th>grid_code</th>\n",
       "      <th>geometry</th>\n",
       "      <th>NN</th>\n",
       "      <th>NN_dist</th>\n",
       "      <th>pointid</th>\n",
       "      <th>NN_dist_hours</th>\n",
       "      <th>0</th>\n",
       "      <th>1</th>\n",
       "      <th>2</th>\n",
       "      <th>3</th>\n",
       "      <th>...</th>\n",
       "      <th>79</th>\n",
       "      <th>80</th>\n",
       "      <th>81</th>\n",
       "      <th>82</th>\n",
       "      <th>83</th>\n",
       "      <th>84</th>\n",
       "      <th>85</th>\n",
       "      <th>86</th>\n",
       "      <th>87</th>\n",
       "      <th>88</th>\n",
       "    </tr>\n",
       "    <tr>\n",
       "      <th>pointid</th>\n",
       "      <th></th>\n",
       "      <th></th>\n",
       "      <th></th>\n",
       "      <th></th>\n",
       "      <th></th>\n",
       "      <th></th>\n",
       "      <th></th>\n",
       "      <th></th>\n",
       "      <th></th>\n",
       "      <th></th>\n",
       "      <th></th>\n",
       "      <th></th>\n",
       "      <th></th>\n",
       "      <th></th>\n",
       "      <th></th>\n",
       "      <th></th>\n",
       "      <th></th>\n",
       "      <th></th>\n",
       "      <th></th>\n",
       "      <th></th>\n",
       "      <th></th>\n",
       "    </tr>\n",
       "  </thead>\n",
       "  <tbody>\n",
       "    <tr>\n",
       "      <th>1</th>\n",
       "      <td>0.023788</td>\n",
       "      <td>POINT (-60.00875 -19.29542)</td>\n",
       "      <td>6668_533_2721</td>\n",
       "      <td>72124.911609</td>\n",
       "      <td>1</td>\n",
       "      <td>3.606246</td>\n",
       "      <td>975.248745</td>\n",
       "      <td>762.069413</td>\n",
       "      <td>1000.155659</td>\n",
       "      <td>1045.081813</td>\n",
       "      <td>...</td>\n",
       "      <td>992.351862</td>\n",
       "      <td>992.351862</td>\n",
       "      <td>1018.983285</td>\n",
       "      <td>1018.983285</td>\n",
       "      <td>973.514338</td>\n",
       "      <td>973.514338</td>\n",
       "      <td>1194.627164</td>\n",
       "      <td>1194.627164</td>\n",
       "      <td>488.258912</td>\n",
       "      <td>488.258912</td>\n",
       "    </tr>\n",
       "    <tr>\n",
       "      <th>2</th>\n",
       "      <td>0.027599</td>\n",
       "      <td>POINT (-60.00042 -19.29542)</td>\n",
       "      <td>6668_533_2721</td>\n",
       "      <td>72785.491551</td>\n",
       "      <td>2</td>\n",
       "      <td>3.639275</td>\n",
       "      <td>975.909325</td>\n",
       "      <td>762.729993</td>\n",
       "      <td>1000.816239</td>\n",
       "      <td>1045.742393</td>\n",
       "      <td>...</td>\n",
       "      <td>993.012442</td>\n",
       "      <td>993.012442</td>\n",
       "      <td>1019.643865</td>\n",
       "      <td>1019.643865</td>\n",
       "      <td>974.174918</td>\n",
       "      <td>974.174918</td>\n",
       "      <td>1195.287744</td>\n",
       "      <td>1195.287744</td>\n",
       "      <td>488.919492</td>\n",
       "      <td>488.919492</td>\n",
       "    </tr>\n",
       "    <tr>\n",
       "      <th>3</th>\n",
       "      <td>0.023359</td>\n",
       "      <td>POINT (-59.99208 -19.29542)</td>\n",
       "      <td>6668_533_2721</td>\n",
       "      <td>73450.560639</td>\n",
       "      <td>3</td>\n",
       "      <td>3.672528</td>\n",
       "      <td>976.574394</td>\n",
       "      <td>763.395062</td>\n",
       "      <td>1001.481308</td>\n",
       "      <td>1046.407462</td>\n",
       "      <td>...</td>\n",
       "      <td>993.677511</td>\n",
       "      <td>993.677511</td>\n",
       "      <td>1020.308934</td>\n",
       "      <td>1020.308934</td>\n",
       "      <td>974.839987</td>\n",
       "      <td>974.839987</td>\n",
       "      <td>1195.952813</td>\n",
       "      <td>1195.952813</td>\n",
       "      <td>489.584561</td>\n",
       "      <td>489.584561</td>\n",
       "    </tr>\n",
       "    <tr>\n",
       "      <th>4</th>\n",
       "      <td>0.017465</td>\n",
       "      <td>POINT (-59.98375 -19.29542)</td>\n",
       "      <td>6668_533_2721</td>\n",
       "      <td>74119.997833</td>\n",
       "      <td>4</td>\n",
       "      <td>3.706000</td>\n",
       "      <td>977.243831</td>\n",
       "      <td>764.064499</td>\n",
       "      <td>1002.150745</td>\n",
       "      <td>1047.076900</td>\n",
       "      <td>...</td>\n",
       "      <td>994.346948</td>\n",
       "      <td>994.346948</td>\n",
       "      <td>1020.978371</td>\n",
       "      <td>1020.978371</td>\n",
       "      <td>975.509424</td>\n",
       "      <td>975.509424</td>\n",
       "      <td>1196.622250</td>\n",
       "      <td>1196.622250</td>\n",
       "      <td>490.253998</td>\n",
       "      <td>490.253998</td>\n",
       "    </tr>\n",
       "    <tr>\n",
       "      <th>5</th>\n",
       "      <td>0.020155</td>\n",
       "      <td>POINT (-59.97542 -19.29542)</td>\n",
       "      <td>6668_533_2721</td>\n",
       "      <td>74793.685643</td>\n",
       "      <td>5</td>\n",
       "      <td>3.739684</td>\n",
       "      <td>977.917519</td>\n",
       "      <td>764.738187</td>\n",
       "      <td>1002.824433</td>\n",
       "      <td>1047.750587</td>\n",
       "      <td>...</td>\n",
       "      <td>995.020636</td>\n",
       "      <td>995.020636</td>\n",
       "      <td>1021.652059</td>\n",
       "      <td>1021.652059</td>\n",
       "      <td>976.183112</td>\n",
       "      <td>976.183112</td>\n",
       "      <td>1197.295938</td>\n",
       "      <td>1197.295938</td>\n",
       "      <td>490.927686</td>\n",
       "      <td>490.927686</td>\n",
       "    </tr>\n",
       "  </tbody>\n",
       "</table>\n",
       "<p>5 rows × 95 columns</p>\n",
       "</div>"
      ],
      "text/plain": [
       "           origin                                                            \\\n",
       "        grid_code                     geometry             NN       NN_dist   \n",
       "pointid                                                                       \n",
       "1        0.023788  POINT (-60.00875 -19.29542)  6668_533_2721  72124.911609   \n",
       "2        0.027599  POINT (-60.00042 -19.29542)  6668_533_2721  72785.491551   \n",
       "3        0.023359  POINT (-59.99208 -19.29542)  6668_533_2721  73450.560639   \n",
       "4        0.017465  POINT (-59.98375 -19.29542)  6668_533_2721  74119.997833   \n",
       "5        0.020155  POINT (-59.97542 -19.29542)  6668_533_2721  74793.685643   \n",
       "\n",
       "                                     city                           \\\n",
       "        pointid NN_dist_hours           0           1            2   \n",
       "pointid                                                              \n",
       "1             1      3.606246  975.248745  762.069413  1000.155659   \n",
       "2             2      3.639275  975.909325  762.729993  1000.816239   \n",
       "3             3      3.672528  976.574394  763.395062  1001.481308   \n",
       "4             4      3.706000  977.243831  764.064499  1002.150745   \n",
       "5             5      3.739684  977.917519  764.738187  1002.824433   \n",
       "\n",
       "                      ...      border                                        \\\n",
       "                   3  ...          79          80           81           82   \n",
       "pointid               ...                                                     \n",
       "1        1045.081813  ...  992.351862  992.351862  1018.983285  1018.983285   \n",
       "2        1045.742393  ...  993.012442  993.012442  1019.643865  1019.643865   \n",
       "3        1046.407462  ...  993.677511  993.677511  1020.308934  1020.308934   \n",
       "4        1047.076900  ...  994.346948  994.346948  1020.978371  1020.978371   \n",
       "5        1047.750587  ...  995.020636  995.020636  1021.652059  1021.652059   \n",
       "\n",
       "                                                                       \\\n",
       "                 83          84           85           86          87   \n",
       "pointid                                                                 \n",
       "1        973.514338  973.514338  1194.627164  1194.627164  488.258912   \n",
       "2        974.174918  974.174918  1195.287744  1195.287744  488.919492   \n",
       "3        974.839987  974.839987  1195.952813  1195.952813  489.584561   \n",
       "4        975.509424  975.509424  1196.622250  1196.622250  490.253998   \n",
       "5        976.183112  976.183112  1197.295938  1197.295938  490.927686   \n",
       "\n",
       "                     \n",
       "                 88  \n",
       "pointid              \n",
       "1        488.258912  \n",
       "2        488.919492  \n",
       "3        489.584561  \n",
       "4        490.253998  \n",
       "5        490.927686  \n",
       "\n",
       "[5 rows x 95 columns]"
      ]
     },
     "execution_count": 83,
     "metadata": {},
     "output_type": "execute_result"
    }
   ],
   "source": [
    "origins_join2.head()"
   ]
  },
  {
   "cell_type": "code",
   "execution_count": 79,
   "metadata": {},
   "outputs": [
    {
     "data": {
      "text/plain": [
       "'/home/wb514197/data/INFRA_SAP/PRY/out'"
      ]
     },
     "execution_count": 79,
     "metadata": {},
     "output_type": "execute_result"
    }
   ],
   "source": [
    "output_path"
   ]
  },
  {
   "cell_type": "code",
   "execution_count": 81,
   "metadata": {},
   "outputs": [],
   "source": [
    "# origins_join2.to_csv(os.path.join(output_path, 'OD_06_16_Distances.csv'))"
   ]
  },
  {
   "cell_type": "code",
   "execution_count": 148,
   "metadata": {},
   "outputs": [],
   "source": [
    "od_cities = np.array(origins_join2['city'])\n",
    "# od_ports = np.array(origins_join2['port'])\n",
    "# od_airports = np.array(origins_join2['airport'])\n",
    "# od_borders = np.array(origins_join2['border'])"
   ]
  },
  {
   "cell_type": "code",
   "execution_count": 160,
   "metadata": {},
   "outputs": [],
   "source": [
    "# np.save(os.path.join(output_path, \"ODs\", \"OD_URY.npy\"), curOD)"
   ]
  },
  {
   "cell_type": "markdown",
   "metadata": {},
   "source": [
    "### Calculate gravity"
   ]
  },
  {
   "cell_type": "code",
   "execution_count": 150,
   "metadata": {
    "scrolled": false
   },
   "outputs": [
    {
     "name": "stdout",
     "output_type": "stream",
     "text": [
      "CPU times: user 10min 6s, sys: 3.88 s, total: 10min 10s\n",
      "Wall time: 10min 6s\n"
     ]
    }
   ],
   "source": [
    "%%time\n",
    "access_cities = calcOD.calculate_gravity(od_cities, dWeight = dest_all.Pop[origins_join2['city'].columns])"
   ]
  },
  {
   "cell_type": "code",
   "execution_count": 168,
   "metadata": {},
   "outputs": [],
   "source": [
    "# access_ports = calcOD.calculate_gravity(od_ports)\n",
    "# access_airports = calcOD.calculate_gravity(od_airports)\n",
    "# access_borders = calcOD.calculate_gravity(od_borders)"
   ]
  },
  {
   "cell_type": "code",
   "execution_count": 155,
   "metadata": {},
   "outputs": [],
   "source": [
    "access_cities_results = origins_snapped.join(access_cities).rename(columns = {\n",
    "        'd_0.01': 'd_1',\n",
    "        'd_0.005': 'd_2',\n",
    "        'd_0.001' : 'd_3',\n",
    "        'd_0.0007701635' : 'd_4',   # Market access halves every 15 mins\n",
    "        'd_0.0003850818' : 'd_5',   # Market access halves every 30 mins\n",
    "        'd_0.0001925409' : 'd_6',   # Market access halves every 60 mins\n",
    "        'd_9.62704e-05' : 'd_7',   # Market access halves every 120 mins\n",
    "        'd_3.85082e-05' : 'd_8',   # Market access halves every 300 mins\n",
    "        'd_1e-05' : 'd_9'\n",
    "    })\n",
    "# access_ports_results = origins_snapped.join(access_ports).rename(columns = {\n",
    "#         'd_0.01': 'd_1',\n",
    "#         'd_0.005': 'd_2',\n",
    "#         'd_0.001' : 'd_3',\n",
    "#         'd_0.0007701635' : 'd_4',   # Market access halves every 15 mins\n",
    "#         'd_0.0003850818' : 'd_5',   # Market access halves every 30 mins\n",
    "#         'd_0.0001925409' : 'd_6',   # Market access halves every 60 mins\n",
    "#         'd_9.62704e-05' : 'd_7',   # Market access halves every 120 mins\n",
    "#         'd_3.85082e-05' : 'd_8',   # Market access halves every 300 mins\n",
    "#         'd_1e-05' : 'd_9'\n",
    "#     })\n",
    "# access_airports_results = origins_snapped.join(access_airports).rename(columns = {\n",
    "#         'd_0.01': 'd_1',\n",
    "#         'd_0.005': 'd_2',\n",
    "#         'd_0.001' : 'd_3',\n",
    "#         'd_0.0007701635' : 'd_4',   # Market access halves every 15 mins\n",
    "#         'd_0.0003850818' : 'd_5',   # Market access halves every 30 mins\n",
    "#         'd_0.0001925409' : 'd_6',   # Market access halves every 60 mins\n",
    "#         'd_9.62704e-05' : 'd_7',   # Market access halves every 120 mins\n",
    "#         'd_3.85082e-05' : 'd_8',   # Market access halves every 300 mins\n",
    "#         'd_1e-05' : 'd_9'\n",
    "#     })\n",
    "# access_borders_results = origins_snapped.join(access_borders).rename(columns = {\n",
    "#         'd_0.01': 'd_1',\n",
    "#         'd_0.005': 'd_2',\n",
    "#         'd_0.001' : 'd_3',\n",
    "#         'd_0.0007701635' : 'd_4',   # Market access halves every 15 mins\n",
    "#         'd_0.0003850818' : 'd_5',   # Market access halves every 30 mins\n",
    "#         'd_0.0001925409' : 'd_6',   # Market access halves every 60 mins\n",
    "#         'd_9.62704e-05' : 'd_7',   # Market access halves every 120 mins\n",
    "#         'd_3.85082e-05' : 'd_8',   # Market access halves every 300 mins\n",
    "#         'd_1e-05' : 'd_9'\n",
    "#     })"
   ]
  },
  {
   "cell_type": "code",
   "execution_count": 301,
   "metadata": {},
   "outputs": [],
   "source": [
    "# output_path = os.path.join(os.path.expanduser(\"~\"),'data/uruguay/access')\n",
    "\n",
    "# access_cities_results.to_csv(os.path.join(output_path,\"access_cities.csv\"))\n",
    "# access_ports_results.to_csv(os.path.join(output_path,\"access_ports.csv\"))\n",
    "# access_airports_results.to_csv(os.path.join(output_path,\"access_airports.csv\"))\n",
    "# access_borders_results.to_csv(os.path.join(output_path,\"access_borders.csv\"))"
   ]
  },
  {
   "cell_type": "markdown",
   "metadata": {},
   "source": [
    "#### Reload"
   ]
  },
  {
   "cell_type": "code",
   "execution_count": 3,
   "metadata": {},
   "outputs": [],
   "source": [
    "# def load_csv(csv_path, geometry = 'geometry', crs = 'epsg:4326'):\n",
    "#     df = pd.read_csv(csv_path)\n",
    "#     df[geometry] = df[geometry].apply(loads)\n",
    "#     gdf = gpd.GeoDataFrame(df, crs = crs)\n",
    "#     return(gdf)"
   ]
  },
  {
   "cell_type": "code",
   "execution_count": 4,
   "metadata": {},
   "outputs": [],
   "source": [
    "# from shapely.wkt import loads\n",
    "# output_path = os.path.join(os.path.expanduser(\"~\"),'data/uruguay/access')\n",
    "\n",
    "# access_cities_results = load_csv(os.path.join(output_path,\"access_cities.csv\"))\n",
    "# access_ports_results = load_csv(os.path.join(output_path,\"access_ports.csv\"))\n",
    "# access_airports_results = load_csv(os.path.join(output_path,\"access_airports.csv\"))\n",
    "# access_borders_results = load_csv(os.path.join(output_path,\"access_borders.csv\"))"
   ]
  },
  {
   "cell_type": "markdown",
   "metadata": {},
   "source": [
    "#### Convert to raster and save results"
   ]
  },
  {
   "cell_type": "code",
   "execution_count": 65,
   "metadata": {},
   "outputs": [],
   "source": [
    "# from GOSTnets.conversion_utils import rasterize_od_results"
   ]
  },
  {
   "cell_type": "code",
   "execution_count": 66,
   "metadata": {},
   "outputs": [],
   "source": [
    "# access_cities_results_utm = access_cities_results.to_crs('epsg:32721')\n",
    "# access_ports_results_utm = access_ports_results.to_crs('epsg:32721')\n",
    "# access_airports_results_utm = access_airports_results.to_crs('epsg:32721')\n",
    "# access_borders_results_utm = access_borders_results.to_crs('epsg:32721')"
   ]
  },
  {
   "cell_type": "code",
   "execution_count": 84,
   "metadata": {},
   "outputs": [],
   "source": [
    "sys.path.append('/home/wb514197/Repos/INFRA_SAP')\n",
    "from infrasap import aggregator"
   ]
  },
  {
   "cell_type": "code",
   "execution_count": 85,
   "metadata": {},
   "outputs": [
    {
     "data": {
      "text/plain": [
       "'/home/wb514197/data/INFRA_SAP/PRY/WP_2020_1km.tif'"
      ]
     },
     "execution_count": 85,
     "metadata": {},
     "output_type": "execute_result"
    }
   ],
   "source": [
    "wp_1km"
   ]
  },
  {
   "cell_type": "code",
   "execution_count": 86,
   "metadata": {},
   "outputs": [],
   "source": [
    "raster_path = wp_1km"
   ]
  },
  {
   "cell_type": "code",
   "execution_count": 87,
   "metadata": {},
   "outputs": [
    {
     "data": {
      "text/plain": [
       "'/home/wb514197/data/INFRA_SAP/PRY'"
      ]
     },
     "execution_count": 87,
     "metadata": {},
     "output_type": "execute_result"
    }
   ],
   "source": [
    "out_folder"
   ]
  },
  {
   "cell_type": "code",
   "execution_count": 163,
   "metadata": {},
   "outputs": [],
   "source": [
    "output_path = os.path.join(out_folder, \"out\", \"access\")\n",
    "if not os.path.exists(output_path):\n",
    "    os.mkdir(output_path)"
   ]
  },
  {
   "cell_type": "code",
   "execution_count": 159,
   "metadata": {},
   "outputs": [
    {
     "data": {
      "text/plain": [
       "<matplotlib.axes._subplots.AxesSubplot at 0x7f4f6cb96990>"
      ]
     },
     "execution_count": 159,
     "metadata": {},
     "output_type": "execute_result"
    },
    {
     "data": {
      "image/png": "[encoded data removed]",
      "text/plain": [
       "<Figure size 432x288 with 1 Axes>"
      ]
     },
     "metadata": {
      "needs_background": "light"
     },
     "output_type": "display_data"
    }
   ],
   "source": [
    "access_cities_results.d_5.hist()"
   ]
  },
  {
   "cell_type": "code",
   "execution_count": 160,
   "metadata": {},
   "outputs": [
    {
     "data": {
      "text/plain": [
       "<matplotlib.axes._subplots.AxesSubplot at 0x7f4f6cc02810>"
      ]
     },
     "execution_count": 160,
     "metadata": {},
     "output_type": "execute_result"
    },
    {
     "data": {
      "image/png": "[encoded data removed]",
      "text/plain": [
       "<Figure size 504x504 with 1 Axes>"
      ]
     },
     "metadata": {
      "needs_background": "light"
     },
     "output_type": "display_data"
    }
   ],
   "source": [
    "access_cities_results.plot(column='d_5', figsize=(7,7), markersize=1)"
   ]
  },
  {
   "cell_type": "code",
   "execution_count": 164,
   "metadata": {},
   "outputs": [
    {
     "name": "stdout",
     "output_type": "stream",
     "text": [
      "writing 5\n",
      "writing 6\n",
      "writing 7\n",
      "writing 8\n",
      "writing 9\n"
     ]
    }
   ],
   "source": [
    "for d in range(5,10):\n",
    "    print(f'writing {d}')\n",
    "    aggregator.rasterize_gdf(access_cities_results, f'd_{d}', template=raster_path, outFile=os.path.join(output_path,f\"access_cities_d{d}.tif\"))"
   ]
  },
  {
   "cell_type": "markdown",
   "metadata": {},
   "source": [
    "### Make rasters of min travel time to each dest"
   ]
  },
  {
   "cell_type": "code",
   "execution_count": 88,
   "metadata": {},
   "outputs": [],
   "source": [
    "sys.path.append('/home/wb514197/Repos/INFRA_SAP')\n",
    "from infrasap import aggregator"
   ]
  },
  {
   "cell_type": "code",
   "execution_count": 90,
   "metadata": {},
   "outputs": [],
   "source": [
    "output_path = os.path.join(out_folder, \"out\", \"travel_distance\")\n",
    "if not os.path.exists(output_path):\n",
    "    os.mkdir(output_path)"
   ]
  },
  {
   "cell_type": "code",
   "execution_count": 91,
   "metadata": {},
   "outputs": [
    {
     "data": {
      "text/html": [
       "<div>\n",
       "<style scoped>\n",
       "    .dataframe tbody tr th:only-of-type {\n",
       "        vertical-align: middle;\n",
       "    }\n",
       "\n",
       "    .dataframe tbody tr th {\n",
       "        vertical-align: top;\n",
       "    }\n",
       "\n",
       "    .dataframe thead th {\n",
       "        text-align: right;\n",
       "    }\n",
       "</style>\n",
       "<table border=\"1\" class=\"dataframe\">\n",
       "  <thead>\n",
       "    <tr style=\"text-align: right;\">\n",
       "      <th></th>\n",
       "      <th>0</th>\n",
       "      <th>1</th>\n",
       "      <th>2</th>\n",
       "      <th>3</th>\n",
       "      <th>4</th>\n",
       "      <th>5</th>\n",
       "      <th>6</th>\n",
       "      <th>7</th>\n",
       "    </tr>\n",
       "    <tr>\n",
       "      <th>pointid</th>\n",
       "      <th></th>\n",
       "      <th></th>\n",
       "      <th></th>\n",
       "      <th></th>\n",
       "      <th></th>\n",
       "      <th></th>\n",
       "      <th></th>\n",
       "      <th></th>\n",
       "    </tr>\n",
       "  </thead>\n",
       "  <tbody>\n",
       "    <tr>\n",
       "      <th>1</th>\n",
       "      <td>975.248745</td>\n",
       "      <td>762.069413</td>\n",
       "      <td>1000.155659</td>\n",
       "      <td>1045.081813</td>\n",
       "      <td>886.179361</td>\n",
       "      <td>1183.911057</td>\n",
       "      <td>1015.448782</td>\n",
       "      <td>1230.213784</td>\n",
       "    </tr>\n",
       "    <tr>\n",
       "      <th>2</th>\n",
       "      <td>975.909325</td>\n",
       "      <td>762.729993</td>\n",
       "      <td>1000.816239</td>\n",
       "      <td>1045.742393</td>\n",
       "      <td>886.839941</td>\n",
       "      <td>1184.571636</td>\n",
       "      <td>1016.109362</td>\n",
       "      <td>1230.874364</td>\n",
       "    </tr>\n",
       "    <tr>\n",
       "      <th>3</th>\n",
       "      <td>976.574394</td>\n",
       "      <td>763.395062</td>\n",
       "      <td>1001.481308</td>\n",
       "      <td>1046.407462</td>\n",
       "      <td>887.505010</td>\n",
       "      <td>1185.236706</td>\n",
       "      <td>1016.774431</td>\n",
       "      <td>1231.539433</td>\n",
       "    </tr>\n",
       "    <tr>\n",
       "      <th>4</th>\n",
       "      <td>977.243831</td>\n",
       "      <td>764.064499</td>\n",
       "      <td>1002.150745</td>\n",
       "      <td>1047.076900</td>\n",
       "      <td>888.174447</td>\n",
       "      <td>1185.906143</td>\n",
       "      <td>1017.443868</td>\n",
       "      <td>1232.208870</td>\n",
       "    </tr>\n",
       "    <tr>\n",
       "      <th>5</th>\n",
       "      <td>977.917519</td>\n",
       "      <td>764.738187</td>\n",
       "      <td>1002.824433</td>\n",
       "      <td>1047.750587</td>\n",
       "      <td>888.848135</td>\n",
       "      <td>1186.579831</td>\n",
       "      <td>1018.117556</td>\n",
       "      <td>1232.882558</td>\n",
       "    </tr>\n",
       "    <tr>\n",
       "      <th>...</th>\n",
       "      <td>...</td>\n",
       "      <td>...</td>\n",
       "      <td>...</td>\n",
       "      <td>...</td>\n",
       "      <td>...</td>\n",
       "      <td>...</td>\n",
       "      <td>...</td>\n",
       "      <td>...</td>\n",
       "    </tr>\n",
       "    <tr>\n",
       "      <th>508180</th>\n",
       "      <td>747.201911</td>\n",
       "      <td>700.946837</td>\n",
       "      <td>356.609246</td>\n",
       "      <td>383.366084</td>\n",
       "      <td>338.730802</td>\n",
       "      <td>382.525304</td>\n",
       "      <td>316.593505</td>\n",
       "      <td>115.149040</td>\n",
       "    </tr>\n",
       "    <tr>\n",
       "      <th>508181</th>\n",
       "      <td>746.451992</td>\n",
       "      <td>700.196919</td>\n",
       "      <td>355.859328</td>\n",
       "      <td>382.616166</td>\n",
       "      <td>337.980883</td>\n",
       "      <td>381.775386</td>\n",
       "      <td>315.843587</td>\n",
       "      <td>114.399122</td>\n",
       "    </tr>\n",
       "    <tr>\n",
       "      <th>508182</th>\n",
       "      <td>745.715997</td>\n",
       "      <td>699.460924</td>\n",
       "      <td>355.123333</td>\n",
       "      <td>381.880171</td>\n",
       "      <td>337.244889</td>\n",
       "      <td>381.039391</td>\n",
       "      <td>315.107592</td>\n",
       "      <td>113.663127</td>\n",
       "    </tr>\n",
       "    <tr>\n",
       "      <th>508183</th>\n",
       "      <td>744.998050</td>\n",
       "      <td>698.742976</td>\n",
       "      <td>354.405385</td>\n",
       "      <td>381.162223</td>\n",
       "      <td>336.526941</td>\n",
       "      <td>380.321443</td>\n",
       "      <td>314.389644</td>\n",
       "      <td>112.945179</td>\n",
       "    </tr>\n",
       "    <tr>\n",
       "      <th>508184</th>\n",
       "      <td>744.303898</td>\n",
       "      <td>698.048825</td>\n",
       "      <td>353.711234</td>\n",
       "      <td>380.468072</td>\n",
       "      <td>335.832789</td>\n",
       "      <td>379.627292</td>\n",
       "      <td>313.695493</td>\n",
       "      <td>112.251028</td>\n",
       "    </tr>\n",
       "  </tbody>\n",
       "</table>\n",
       "<p>508184 rows × 8 columns</p>\n",
       "</div>"
      ],
      "text/plain": [
       "                  0           1            2            3           4  \\\n",
       "pointid                                                                 \n",
       "1        975.248745  762.069413  1000.155659  1045.081813  886.179361   \n",
       "2        975.909325  762.729993  1000.816239  1045.742393  886.839941   \n",
       "3        976.574394  763.395062  1001.481308  1046.407462  887.505010   \n",
       "4        977.243831  764.064499  1002.150745  1047.076900  888.174447   \n",
       "5        977.917519  764.738187  1002.824433  1047.750587  888.848135   \n",
       "...             ...         ...          ...          ...         ...   \n",
       "508180   747.201911  700.946837   356.609246   383.366084  338.730802   \n",
       "508181   746.451992  700.196919   355.859328   382.616166  337.980883   \n",
       "508182   745.715997  699.460924   355.123333   381.880171  337.244889   \n",
       "508183   744.998050  698.742976   354.405385   381.162223  336.526941   \n",
       "508184   744.303898  698.048825   353.711234   380.468072  335.832789   \n",
       "\n",
       "                   5            6            7  \n",
       "pointid                                         \n",
       "1        1183.911057  1015.448782  1230.213784  \n",
       "2        1184.571636  1016.109362  1230.874364  \n",
       "3        1185.236706  1016.774431  1231.539433  \n",
       "4        1185.906143  1017.443868  1232.208870  \n",
       "5        1186.579831  1018.117556  1232.882558  \n",
       "...              ...          ...          ...  \n",
       "508180    382.525304   316.593505   115.149040  \n",
       "508181    381.775386   315.843587   114.399122  \n",
       "508182    381.039391   315.107592   113.663127  \n",
       "508183    380.321443   314.389644   112.945179  \n",
       "508184    379.627292   313.695493   112.251028  \n",
       "\n",
       "[508184 rows x 8 columns]"
      ]
     },
     "execution_count": 91,
     "metadata": {},
     "output_type": "execute_result"
    }
   ],
   "source": [
    "origins_join2['city']"
   ]
  },
  {
   "cell_type": "code",
   "execution_count": 92,
   "metadata": {},
   "outputs": [],
   "source": [
    "city_min = pd.DataFrame(origins_join2['city'].min(axis=1), columns=[\"tt_city\"])\n",
    "ports_min = pd.DataFrame(origins_join2['port'].min(axis=1), columns=[\"tt_port\"])\n",
    "airports_min = pd.DataFrame(origins_join2['airport'].min(axis=1), columns=[\"tt_airport\"])\n",
    "borders_min = pd.DataFrame(origins_join2['border'].min(axis=1), columns=[\"tt_border\"])"
   ]
  },
  {
   "cell_type": "code",
   "execution_count": 93,
   "metadata": {},
   "outputs": [],
   "source": [
    "capital_tt = origins_join2['city'].loc[:,[4]].rename(columns={4:'tt_capital'})"
   ]
  },
  {
   "cell_type": "code",
   "execution_count": 94,
   "metadata": {},
   "outputs": [],
   "source": [
    "origins_tt = origins_snapped.join([city_min, ports_min, airports_min, borders_min, capital_tt])\n",
    "# origins_tt = origins_snapped.join([city_min, ports_min, airports_min, borders_min])"
   ]
  },
  {
   "cell_type": "code",
   "execution_count": 95,
   "metadata": {},
   "outputs": [],
   "source": [
    "sys.path.append('/home/wb514197/Repos/INFRA_SAP')\n",
    "from infrasap import aggregator"
   ]
  },
  {
   "cell_type": "code",
   "execution_count": 96,
   "metadata": {},
   "outputs": [
    {
     "data": {
      "text/plain": [
       "'/home/wb514197/data/INFRA_SAP/PRY/out/travel_distance'"
      ]
     },
     "execution_count": 96,
     "metadata": {},
     "output_type": "execute_result"
    }
   ],
   "source": [
    "output_path"
   ]
  },
  {
   "cell_type": "code",
   "execution_count": 97,
   "metadata": {},
   "outputs": [],
   "source": [
    "aggregator.rasterize_gdf(origins_tt, 'tt_city', raster_path, os.path.join(output_path,f\"cities_min_dist.tif\"))\n",
    "aggregator.rasterize_gdf(origins_tt, 'tt_port', raster_path, os.path.join(output_path,f\"port_min_dist.tif\"))\n",
    "aggregator.rasterize_gdf(origins_tt, 'tt_airport', raster_path, os.path.join(output_path,f\"airport_min_dist.tif\"))\n",
    "aggregator.rasterize_gdf(origins_tt, 'tt_border', raster_path, os.path.join(output_path,f\"borders_min_dist.tif\"))\n",
    "aggregator.rasterize_gdf(origins_tt, 'tt_capital', raster_path, os.path.join(output_path,f\"capital_dist.tif\"))"
   ]
  }
 ],
 "metadata": {
  "kernelspec": {
   "display_name": "GEO",
   "language": "python",
   "name": "geo"
  },
  "language_info": {
   "codemirror_mode": {
    "name": "ipython",
    "version": 3
   },
   "file_extension": ".py",
   "mimetype": "text/x-python",
   "name": "python",
   "nbconvert_exporter": "python",
   "pygments_lexer": "ipython3",
   "version": "3.7.6"
  }
 },
 "nbformat": 4,
 "nbformat_minor": 2
}
