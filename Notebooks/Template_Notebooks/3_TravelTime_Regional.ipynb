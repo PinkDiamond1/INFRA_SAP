{
 "cells": [
  {
   "cell_type": "markdown",
   "metadata": {},
   "source": [
    "## Travel time to regional hubs\n",
    "Use Mapbox API to calcuate travel time to major neighboring cities (population greater than 1mil).  \n",
    "Use district centroids as origins"
   ]
  },
  {
   "cell_type": "code",
   "execution_count": 1,
   "metadata": {},
   "outputs": [],
   "source": [
    "import os, sys, time, importlib\n",
    "\n",
    "import geopandas as gpd\n",
    "import pandas as pd\n",
    "import networkx as nx\n",
    "sys.path.append('/home/wb514197/Repos/GOSTnets')\n",
    "\n",
    "import GOSTnets as gn\n",
    "import rasterio as rio\n",
    "from osgeo import gdal\n",
    "import GOSTnets.calculate_od_raw as calcOD\n",
    "import numpy as np\n",
    "\n",
    "sys.path.append('/home/wb514197/Repos/INFRA_SAP')\n",
    "from infrasap import aggregator\n",
    "from infrasap import mapbox_helper as mb\n",
    "from shapely.wkt import loads\n",
    "\n",
    "from dotenv import load_dotenv, find_dotenv\n",
    "\n",
    "%load_ext autoreload\n",
    "%autoreload 2"
   ]
  },
  {
   "cell_type": "code",
   "execution_count": 2,
   "metadata": {},
   "outputs": [],
   "source": [
    "country = 'iraq'\n",
    "iso3 = 'IRQ'\n",
    "epsg = 32638"
   ]
  },
  {
   "cell_type": "code",
   "execution_count": 3,
   "metadata": {},
   "outputs": [],
   "source": [
    "dotenv_path = find_dotenv()\n",
    "load_dotenv(dotenv_path)\n",
    "mb_token = os.environ.get(\"MB_TOKEN\")"
   ]
  },
  {
   "cell_type": "markdown",
   "metadata": {},
   "source": [
    "### Load data"
   ]
  },
  {
   "cell_type": "code",
   "execution_count": 17,
   "metadata": {},
   "outputs": [],
   "source": [
    "base_in = \"/home/public/Data/PROJECTS/INFRA_SAP\"\n",
    "# base_in = \"/home/wb514197/data/INFRA_SAP\"\n",
    "in_folder = os.path.join(base_in, iso3)\n",
    "\n",
    "# define data paths\n",
    "focal_admin2 = os.path.join(in_folder, \"admin.shp\")\n",
    "focal_osm = os.path.join(in_folder, f\"{country}-latest.osm.pbf\")\n",
    "pop_name = \"WP_2020_1km\"\n",
    "wp_1km = os.path.join(in_folder, f\"{pop_name}.tif\")\n",
    "urban_extents = os.path.join(in_folder, \"urban_extents.shp\")\n",
    "airports = os.path.join(in_folder, \"airports_intl.shp\")\n",
    "ports = os.path.join(in_folder, \"ports.shp\")\n",
    "borders = os.path.join(in_folder, \"borders.shp\")\n",
    "\n",
    "# base_out = \"/home/wb514197/data/INFRA_SAP\" # GOT permission denied using public \n",
    "# out_folder = os.path.join(base_out, iso3)\n",
    "# if not os.path.exists(out_folder):\n",
    "#     os.makedirs(out_folder)\n",
    "\n",
    "out_folder = os.path.join(in_folder, \"output\")\n",
    "\n",
    "# global_cities = '/home/public/Data/PROJECTS/LAC_GOSTNets/Destinations/Cities_centroids_FINAL_pop.shp'\n",
    "# global_cities = '/home/public/Data/GLOBAL/Population/Major_Cities.shp'\n",
    "global_cities = '/home/public/Data/GLOBAL/Population/global_settlement_points_v1_01_gt50000.shp'"
   ]
  },
  {
   "cell_type": "code",
   "execution_count": 18,
   "metadata": {},
   "outputs": [],
   "source": [
    "target = gpd.read_file(focal_admin2)\n",
    "target['centroid'] = target.centroid\n",
    "cities = gpd.read_file(global_cities)"
   ]
  },
  {
   "cell_type": "code",
   "execution_count": 19,
   "metadata": {},
   "outputs": [
    {
     "data": {
      "text/plain": [
       "Index(['OBJECTID', 'UNSD', 'Latlongid', 'Latitude', 'Longitude', 'Pop', 'Year',\n",
       "       'Urborrur', 'Schnm', 'Name1', 'Name2', 'Name3', 'Forgnnm', 'Schadmnm',\n",
       "       'Admnm1', 'Admnm2', 'Type', 'Srctyp', 'Coordsrce', 'Datsrc',\n",
       "       'Locndatsrc', 'Notes', 'Post_Hoc', 'Intentiona', 'ISO3', 'ES90POP',\n",
       "       'ES95POP', 'ES00POP', 'INSGRUSED', 'Continent', 'Country', 'geometry'],\n",
       "      dtype='object')"
      ]
     },
     "execution_count": 19,
     "metadata": {},
     "output_type": "execute_result"
    }
   ],
   "source": [
    "cities.columns"
   ]
  },
  {
   "cell_type": "code",
   "execution_count": 21,
   "metadata": {},
   "outputs": [],
   "source": [
    "cities_filter = cities.copy()\n",
    "cities_filter = cities_filter[cities_filter.Pop>1000000].copy() # used to be 1 million, but that's not working for CR"
   ]
  },
  {
   "cell_type": "code",
   "execution_count": 22,
   "metadata": {},
   "outputs": [
    {
     "data": {
      "text/plain": [
       "<matplotlib.axes._subplots.AxesSubplot at 0x7f21f453d2d0>"
      ]
     },
     "execution_count": 22,
     "metadata": {},
     "output_type": "execute_result"
    },
    {
     "data": {
      "image/png": "[encoded data removed]",
      "text/plain": [
       "<Figure size 720x720 with 1 Axes>"
      ]
     },
     "metadata": {
      "needs_background": "light"
     },
     "output_type": "display_data"
    }
   ],
   "source": [
    "cities_filter = cities_filter.to_crs('EPSG:3857')\n",
    "target = target.to_crs('EPSG:3857')\n",
    "\n",
    "ax = cities_filter.plot(figsize=(10, 10), color='red')\n",
    "target.plot(figsize=(7, 7), ax=ax)"
   ]
  },
  {
   "cell_type": "code",
   "execution_count": 23,
   "metadata": {},
   "outputs": [],
   "source": [
    "# remove cities that are in the country of interest\n",
    "adm0 = target.dissolve(by='WB_ADM0_CO')\n",
    "cities_filter = cities_filter.loc[~cities_filter.intersects(adm0.geometry.iloc[0])]\n",
    "\n",
    "# sort by distance to country\n",
    "cities_filter['dist_to_ADM0'] = cities_filter.distance(adm0.centroid.iloc[0])\n",
    "cities_filter = cities_filter.sort_values('dist_to_ADM0')"
   ]
  },
  {
   "cell_type": "code",
   "execution_count": 24,
   "metadata": {},
   "outputs": [
    {
     "data": {
      "text/plain": [
       "True"
      ]
     },
     "execution_count": 24,
     "metadata": {},
     "output_type": "execute_result"
    }
   ],
   "source": [
    "# choose destinations based on the nearest N cities. \n",
    "# N might change depending on the country, if the cities are too far apart use 5, otherwise the Mapbox requests will break\n",
    "# If there are many cities close by, use 10\n",
    "n_nearest = 10\n",
    "cities_filter = cities_filter.head(n_nearest).to_crs(cities.crs)\n",
    "target = target.to_crs(cities.crs)\n",
    "target.crs == cities_filter.crs"
   ]
  },
  {
   "cell_type": "code",
   "execution_count": 25,
   "metadata": {},
   "outputs": [
    {
     "data": {
      "text/plain": [
       "10"
      ]
     },
     "execution_count": 25,
     "metadata": {},
     "output_type": "execute_result"
    }
   ],
   "source": [
    "len(cities_filter)"
   ]
  },
  {
   "cell_type": "code",
   "execution_count": 26,
   "metadata": {
    "scrolled": true
   },
   "outputs": [
    {
     "data": {
      "text/plain": [
       "<matplotlib.axes._subplots.AxesSubplot at 0x7f21f448b1d0>"
      ]
     },
     "execution_count": 26,
     "metadata": {},
     "output_type": "execute_result"
    },
    {
     "data": {
      "image/png": "[encoded data removed]",
      "text/plain": [
       "<Figure size 720x720 with 1 Axes>"
      ]
     },
     "metadata": {
      "needs_background": "light"
     },
     "output_type": "display_data"
    }
   ],
   "source": [
    "ax = cities_filter.plot(figsize=(10, 10), color='red')\n",
    "target.plot(figsize=(7, 7), ax=ax)"
   ]
  },
  {
   "cell_type": "code",
   "execution_count": 27,
   "metadata": {},
   "outputs": [
    {
     "data": {
      "text/plain": [
       "'/home/public/Data/PROJECTS/INFRA_SAP/IRQ/output'"
      ]
     },
     "execution_count": 27,
     "metadata": {},
     "output_type": "execute_result"
    }
   ],
   "source": [
    "out_folder"
   ]
  },
  {
   "cell_type": "code",
   "execution_count": 29,
   "metadata": {},
   "outputs": [
    {
     "data": {
      "text/plain": [
       "4606     Tabriz\n",
       "5735    Dimashq\n",
       "5730      ?alab\n",
       "4541      Karaj\n",
       "4525    Esfahan\n",
       "4665      Amman\n",
       "4608     Tehran\n",
       "5276     Bayrut\n",
       "1138     Erevan\n",
       "5817      Adana\n",
       "Name: Name1, dtype: object"
      ]
     },
     "execution_count": 29,
     "metadata": {},
     "output_type": "execute_result"
    }
   ],
   "source": [
    "cities_filter.Name1"
   ]
  },
  {
   "cell_type": "code",
   "execution_count": 30,
   "metadata": {
    "scrolled": true
   },
   "outputs": [],
   "source": [
    "cities_filter.to_file(os.path.join('/home/wb514197/data/INFRA_SAP/IRQ', \"regional_hubs.shp\"), driver=\"ESRI Shapefile\")\n",
    "# cities_filter.to_file(os.path.join(out_folder, \"regional_hubs.shp\"), driver=\"ESRI Shapefile\")"
   ]
  },
  {
   "cell_type": "code",
   "execution_count": 15,
   "metadata": {},
   "outputs": [],
   "source": [
    "origins = target.copy()\n",
    "dests = cities_filter.copy().reset_index(drop=True)"
   ]
  },
  {
   "cell_type": "code",
   "execution_count": 16,
   "metadata": {},
   "outputs": [],
   "source": [
    "origins['x'] = origins.centroid.x\n",
    "origins['y'] = origins.centroid.y\n",
    "\n",
    "dests['x'] = dests.geometry.x\n",
    "dests['y'] = dests.geometry.y\n",
    "\n",
    "origins['ID'] = origins.OBJECTID\n",
    "dests['ID'] = dests.index\n",
    "\n",
    "origins['Pop'] = 1\n",
    "dests['Pop'] = 1"
   ]
  },
  {
   "cell_type": "code",
   "execution_count": 17,
   "metadata": {},
   "outputs": [
    {
     "name": "stdout",
     "output_type": "stream",
     "text": [
      "\n",
      "Chosen server: MB\n",
      "\n",
      "Start time: Mon Nov 23 13:38:15 2020\n",
      "source list: 11\n",
      "sources list: 1\n",
      "dest list: 10\n",
      "dests list: 1\n",
      "\n",
      "Estimated remaining calls to chosen server: 1\n",
      "\n",
      "save points will occur every 1 calls\n",
      "\n",
      "Call to OSRM server number: 1 of 1\n"
     ]
    }
   ],
   "source": [
    "odRes = mb.CreateODMatrix(origins, dests, lat_name = 'y', lon_name = 'x', UID = 'ID',\n",
    "                    Pop = 'Pop', call_type = 'MB', rescue = 0, rescue_num = 0, MB_Toke = mb_token,\n",
    "                    sleepTime = 5, osrmHeader = '')"
   ]
  },
  {
   "cell_type": "code",
   "execution_count": 18,
   "metadata": {},
   "outputs": [
    {
     "data": {
      "text/html": [
       "<div>\n",
       "<style scoped>\n",
       "    .dataframe tbody tr th:only-of-type {\n",
       "        vertical-align: middle;\n",
       "    }\n",
       "\n",
       "    .dataframe tbody tr th {\n",
       "        vertical-align: top;\n",
       "    }\n",
       "\n",
       "    .dataframe thead th {\n",
       "        text-align: right;\n",
       "    }\n",
       "</style>\n",
       "<table border=\"1\" class=\"dataframe\">\n",
       "  <thead>\n",
       "    <tr style=\"text-align: right;\">\n",
       "      <th></th>\n",
       "      <th>D_UID</th>\n",
       "      <th>O_UID</th>\n",
       "      <th>DIST</th>\n",
       "      <th>O_POP</th>\n",
       "      <th>D_POP</th>\n",
       "    </tr>\n",
       "  </thead>\n",
       "  <tbody>\n",
       "    <tr>\n",
       "      <th>0</th>\n",
       "      <td>0</td>\n",
       "      <td>14067</td>\n",
       "      <td>367017.5</td>\n",
       "      <td>1</td>\n",
       "      <td>1</td>\n",
       "    </tr>\n",
       "    <tr>\n",
       "      <th>1</th>\n",
       "      <td>1</td>\n",
       "      <td>14067</td>\n",
       "      <td>325926.2</td>\n",
       "      <td>1</td>\n",
       "      <td>1</td>\n",
       "    </tr>\n",
       "    <tr>\n",
       "      <th>2</th>\n",
       "      <td>2</td>\n",
       "      <td>14067</td>\n",
       "      <td>53908.9</td>\n",
       "      <td>1</td>\n",
       "      <td>1</td>\n",
       "    </tr>\n",
       "    <tr>\n",
       "      <th>3</th>\n",
       "      <td>3</td>\n",
       "      <td>14067</td>\n",
       "      <td>134722.1</td>\n",
       "      <td>1</td>\n",
       "      <td>1</td>\n",
       "    </tr>\n",
       "    <tr>\n",
       "      <th>4</th>\n",
       "      <td>4</td>\n",
       "      <td>14067</td>\n",
       "      <td>273151.7</td>\n",
       "      <td>1</td>\n",
       "      <td>1</td>\n",
       "    </tr>\n",
       "  </tbody>\n",
       "</table>\n",
       "</div>"
      ],
      "text/plain": [
       "  D_UID  O_UID      DIST  O_POP  D_POP\n",
       "0     0  14067  367017.5      1      1\n",
       "1     1  14067  325926.2      1      1\n",
       "2     2  14067   53908.9      1      1\n",
       "3     3  14067  134722.1      1      1\n",
       "4     4  14067  273151.7      1      1"
      ]
     },
     "execution_count": 18,
     "metadata": {},
     "output_type": "execute_result"
    }
   ],
   "source": [
    "odRes.head()"
   ]
  },
  {
   "cell_type": "code",
   "execution_count": 19,
   "metadata": {},
   "outputs": [],
   "source": [
    "OD_re = odRes.pivot(index='O_UID',columns='D_UID', values='DIST')\n",
    "OD_re2 = OD_re.apply(lambda x: x/(60*60))"
   ]
  },
  {
   "cell_type": "code",
   "execution_count": 20,
   "metadata": {},
   "outputs": [
    {
     "data": {
      "text/html": [
       "<div>\n",
       "<style scoped>\n",
       "    .dataframe tbody tr th:only-of-type {\n",
       "        vertical-align: middle;\n",
       "    }\n",
       "\n",
       "    .dataframe tbody tr th {\n",
       "        vertical-align: top;\n",
       "    }\n",
       "\n",
       "    .dataframe thead th {\n",
       "        text-align: right;\n",
       "    }\n",
       "</style>\n",
       "<table border=\"1\" class=\"dataframe\">\n",
       "  <thead>\n",
       "    <tr style=\"text-align: right;\">\n",
       "      <th>D_UID</th>\n",
       "      <th>0</th>\n",
       "      <th>1</th>\n",
       "      <th>2</th>\n",
       "      <th>3</th>\n",
       "      <th>4</th>\n",
       "      <th>5</th>\n",
       "      <th>6</th>\n",
       "      <th>7</th>\n",
       "      <th>8</th>\n",
       "      <th>9</th>\n",
       "    </tr>\n",
       "    <tr>\n",
       "      <th>O_UID</th>\n",
       "      <th></th>\n",
       "      <th></th>\n",
       "      <th></th>\n",
       "      <th></th>\n",
       "      <th></th>\n",
       "      <th></th>\n",
       "      <th></th>\n",
       "      <th></th>\n",
       "      <th></th>\n",
       "      <th></th>\n",
       "    </tr>\n",
       "  </thead>\n",
       "  <tbody>\n",
       "    <tr>\n",
       "      <th>14067</th>\n",
       "      <td>101.949306</td>\n",
       "      <td>90.535056</td>\n",
       "      <td>14.974694</td>\n",
       "      <td>37.422806</td>\n",
       "      <td>75.875472</td>\n",
       "      <td>74.924194</td>\n",
       "      <td>74.340306</td>\n",
       "      <td>33.491417</td>\n",
       "      <td>33.808083</td>\n",
       "      <td>34.008167</td>\n",
       "    </tr>\n",
       "    <tr>\n",
       "      <th>14068</th>\n",
       "      <td>101.404056</td>\n",
       "      <td>89.989806</td>\n",
       "      <td>15.599111</td>\n",
       "      <td>39.003139</td>\n",
       "      <td>75.330222</td>\n",
       "      <td>74.378944</td>\n",
       "      <td>73.795056</td>\n",
       "      <td>32.946167</td>\n",
       "      <td>33.262833</td>\n",
       "      <td>33.462917</td>\n",
       "    </tr>\n",
       "    <tr>\n",
       "      <th>14069</th>\n",
       "      <td>100.241917</td>\n",
       "      <td>88.827667</td>\n",
       "      <td>14.498056</td>\n",
       "      <td>36.946167</td>\n",
       "      <td>74.168083</td>\n",
       "      <td>73.216806</td>\n",
       "      <td>72.632917</td>\n",
       "      <td>31.784028</td>\n",
       "      <td>32.100694</td>\n",
       "      <td>32.300778</td>\n",
       "    </tr>\n",
       "    <tr>\n",
       "      <th>14070</th>\n",
       "      <td>98.648139</td>\n",
       "      <td>87.233889</td>\n",
       "      <td>12.843194</td>\n",
       "      <td>38.641583</td>\n",
       "      <td>72.574306</td>\n",
       "      <td>71.623028</td>\n",
       "      <td>71.039139</td>\n",
       "      <td>30.190250</td>\n",
       "      <td>30.506917</td>\n",
       "      <td>30.707000</td>\n",
       "    </tr>\n",
       "    <tr>\n",
       "      <th>14071</th>\n",
       "      <td>102.252583</td>\n",
       "      <td>90.838333</td>\n",
       "      <td>15.858639</td>\n",
       "      <td>38.306750</td>\n",
       "      <td>76.178750</td>\n",
       "      <td>75.227472</td>\n",
       "      <td>74.643583</td>\n",
       "      <td>33.794694</td>\n",
       "      <td>34.111361</td>\n",
       "      <td>34.311444</td>\n",
       "    </tr>\n",
       "  </tbody>\n",
       "</table>\n",
       "</div>"
      ],
      "text/plain": [
       "D_UID           0          1          2          3          4          5  \\\n",
       "O_UID                                                                      \n",
       "14067  101.949306  90.535056  14.974694  37.422806  75.875472  74.924194   \n",
       "14068  101.404056  89.989806  15.599111  39.003139  75.330222  74.378944   \n",
       "14069  100.241917  88.827667  14.498056  36.946167  74.168083  73.216806   \n",
       "14070   98.648139  87.233889  12.843194  38.641583  72.574306  71.623028   \n",
       "14071  102.252583  90.838333  15.858639  38.306750  76.178750  75.227472   \n",
       "\n",
       "D_UID          6          7          8          9  \n",
       "O_UID                                              \n",
       "14067  74.340306  33.491417  33.808083  34.008167  \n",
       "14068  73.795056  32.946167  33.262833  33.462917  \n",
       "14069  72.632917  31.784028  32.100694  32.300778  \n",
       "14070  71.039139  30.190250  30.506917  30.707000  \n",
       "14071  74.643583  33.794694  34.111361  34.311444  "
      ]
     },
     "execution_count": 20,
     "metadata": {},
     "output_type": "execute_result"
    }
   ],
   "source": [
    "OD_re2.head()"
   ]
  },
  {
   "cell_type": "code",
   "execution_count": 21,
   "metadata": {},
   "outputs": [],
   "source": [
    "# get the min\n",
    "OD_re3 = pd.DataFrame(OD_re2.idxmin(axis=1), columns=['ID']).join(pd.DataFrame(OD_re2.min(axis=1), columns=['tt_regional']))\n",
    "# OD_re3 = pd.DataFrame(data=[OD_re2.idxmin(axis=1), OD_re2.min(axis=1)], index=['D_UID','time']).transpose()"
   ]
  },
  {
   "cell_type": "code",
   "execution_count": 22,
   "metadata": {},
   "outputs": [
    {
     "data": {
      "text/html": [
       "<div>\n",
       "<style scoped>\n",
       "    .dataframe tbody tr th:only-of-type {\n",
       "        vertical-align: middle;\n",
       "    }\n",
       "\n",
       "    .dataframe tbody tr th {\n",
       "        vertical-align: top;\n",
       "    }\n",
       "\n",
       "    .dataframe thead th {\n",
       "        text-align: right;\n",
       "    }\n",
       "</style>\n",
       "<table border=\"1\" class=\"dataframe\">\n",
       "  <thead>\n",
       "    <tr style=\"text-align: right;\">\n",
       "      <th></th>\n",
       "      <th>ID</th>\n",
       "      <th>tt_regional</th>\n",
       "    </tr>\n",
       "    <tr>\n",
       "      <th>O_UID</th>\n",
       "      <th></th>\n",
       "      <th></th>\n",
       "    </tr>\n",
       "  </thead>\n",
       "  <tbody>\n",
       "    <tr>\n",
       "      <th>14067</th>\n",
       "      <td>2</td>\n",
       "      <td>14.974694</td>\n",
       "    </tr>\n",
       "    <tr>\n",
       "      <th>14068</th>\n",
       "      <td>2</td>\n",
       "      <td>15.599111</td>\n",
       "    </tr>\n",
       "    <tr>\n",
       "      <th>14069</th>\n",
       "      <td>2</td>\n",
       "      <td>14.498056</td>\n",
       "    </tr>\n",
       "    <tr>\n",
       "      <th>14070</th>\n",
       "      <td>2</td>\n",
       "      <td>12.843194</td>\n",
       "    </tr>\n",
       "    <tr>\n",
       "      <th>14071</th>\n",
       "      <td>2</td>\n",
       "      <td>15.858639</td>\n",
       "    </tr>\n",
       "  </tbody>\n",
       "</table>\n",
       "</div>"
      ],
      "text/plain": [
       "      ID  tt_regional\n",
       "O_UID                \n",
       "14067  2    14.974694\n",
       "14068  2    15.599111\n",
       "14069  2    14.498056\n",
       "14070  2    12.843194\n",
       "14071  2    15.858639"
      ]
     },
     "execution_count": 22,
     "metadata": {},
     "output_type": "execute_result"
    }
   ],
   "source": [
    "OD_re3.head()"
   ]
  },
  {
   "cell_type": "code",
   "execution_count": 23,
   "metadata": {},
   "outputs": [],
   "source": [
    "OD_re3['OBJECTID'] = OD_re3.index.astype('int')\n",
    "target_hubs = target.merge(OD_re3, on='OBJECTID')"
   ]
  },
  {
   "cell_type": "markdown",
   "metadata": {},
   "source": [
    "Merge back destination hub name"
   ]
  },
  {
   "cell_type": "code",
   "execution_count": 24,
   "metadata": {},
   "outputs": [],
   "source": [
    "target_hubs['ID'] = target_hubs['ID'].astype('int')"
   ]
  },
  {
   "cell_type": "code",
   "execution_count": 25,
   "metadata": {},
   "outputs": [
    {
     "data": {
      "text/plain": [
       "Addis Ababa    11\n",
       "Name: Name1, dtype: int64"
      ]
     },
     "execution_count": 25,
     "metadata": {},
     "output_type": "execute_result"
    }
   ],
   "source": [
    "target_hubs2 = target_hubs.merge(dests[['Name1','ID']], on='ID') # for LAC cities file change to Name / global file Name1\n",
    "target_hubs2['Name1'].value_counts()"
   ]
  },
  {
   "cell_type": "code",
   "execution_count": 26,
   "metadata": {},
   "outputs": [],
   "source": [
    "target_hubs2.drop(['geometry','Shape_Leng','Shape_Area'], axis=1, inplace=True)"
   ]
  },
  {
   "cell_type": "code",
   "execution_count": 27,
   "metadata": {},
   "outputs": [],
   "source": [
    "target_hubs2.rename(columns={'tt_regional':'Time (hrs)', 'ID':'Regional Hub ID', 'Name':'Regional Hub Name'}, inplace=True)"
   ]
  },
  {
   "cell_type": "code",
   "execution_count": 28,
   "metadata": {},
   "outputs": [],
   "source": [
    "output_path = os.path.join(out_folder, 'tables')\n",
    "if not os.path.exists(output_path):\n",
    "    os.mkdir(output_path)"
   ]
  },
  {
   "cell_type": "code",
   "execution_count": 29,
   "metadata": {},
   "outputs": [],
   "source": [
    "target_hubs2.to_excel(os.path.join(output_path, \"8Travel Time to Regional Hub.xlsx\"), index=False)"
   ]
  }
 ],
 "metadata": {
  "kernelspec": {
   "display_name": "GEO",
   "language": "python",
   "name": "geo"
  },
  "language_info": {
   "codemirror_mode": {
    "name": "ipython",
    "version": 3
   },
   "file_extension": ".py",
   "mimetype": "text/x-python",
   "name": "python",
   "nbconvert_exporter": "python",
   "pygments_lexer": "ipython3",
   "version": "3.7.6"
  }
 },
 "nbformat": 4,
 "nbformat_minor": 2
}
