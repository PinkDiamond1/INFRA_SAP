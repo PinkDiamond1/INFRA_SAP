{
 "cells": [
  {
   "cell_type": "markdown",
   "metadata": {},
   "source": [
    "## Re-calculate market access to compare added access from regional cities.\n",
    "Use Mapbox API to calcuate travel time to major domestic and neighboring cities (population greater than 50k).  \n",
    "Use district centroids as origins.  \n",
    "Run market access calculation again.  "
   ]
  },
  {
   "cell_type": "code",
   "execution_count": 1,
   "metadata": {},
   "outputs": [],
   "source": [
    "import os, sys, time, importlib, glob\n",
    "\n",
    "import geopandas as gpd\n",
    "import pandas as pd\n",
    "import networkx as nx\n",
    "sys.path.append('/home/wb514197/Repos/GOSTnets')\n",
    "\n",
    "import GOSTnets as gn\n",
    "import rasterio as rio\n",
    "from osgeo import gdal\n",
    "import GOSTnets.calculate_od_raw as calcOD\n",
    "import numpy as np\n",
    "\n",
    "sys.path.append('/home/wb514197/Repos/INFRA_SAP')\n",
    "from infrasap import aggregator\n",
    "from infrasap import mapbox_helper as mb\n",
    "\n",
    "from shapely.wkt import loads\n",
    "from dotenv import load_dotenv, find_dotenv\n",
    "\n",
    "%load_ext autoreload\n",
    "%autoreload 2"
   ]
  },
  {
   "cell_type": "code",
   "execution_count": 2,
   "metadata": {},
   "outputs": [],
   "source": [
    "country = 'Djibouti'\n",
    "iso3 = 'DJI'\n",
    "epsg = 32638"
   ]
  },
  {
   "cell_type": "code",
   "execution_count": 3,
   "metadata": {},
   "outputs": [],
   "source": [
    "dotenv_path = find_dotenv()\n",
    "load_dotenv(dotenv_path)\n",
    "mb_token = os.environ.get(\"MB_TOKEN\")"
   ]
  },
  {
   "cell_type": "markdown",
   "metadata": {},
   "source": [
    "### Load data"
   ]
  },
  {
   "cell_type": "code",
   "execution_count": 4,
   "metadata": {},
   "outputs": [],
   "source": [
    "# base_in = \"/home/public/Data/PROJECTS/INFRA_SAP\"\n",
    "base_in = \"/home/wb514197/data/INFRA_SAP\"\n",
    "in_folder = os.path.join(base_in, iso3)\n",
    "\n",
    "# define data paths\n",
    "focal_admin2 = os.path.join(in_folder, \"admin.shp\")\n",
    "focal_osm = os.path.join(in_folder, f\"{country}-latest.osm.pbf\")\n",
    "pop_name = \"WP_2020_1km\"\n",
    "wp_1km = os.path.join(in_folder, f\"{pop_name}.tif\")\n",
    "urban_extents = os.path.join(in_folder, \"urban_extents.shp\")\n",
    "airports = os.path.join(in_folder, \"airports_intl.shp\")\n",
    "ports = os.path.join(in_folder, \"ports.shp\")\n",
    "borders = os.path.join(in_folder, \"borders.shp\")\n",
    "\n",
    "# base_out = \"/home/wb514197/data/INFRA_SAP\" # GOT permission denied using public \n",
    "# out_folder = os.path.join(base_out, iso3)\n",
    "# if not os.path.exists(out_folder):\n",
    "#     os.makedirs(out_folder)\n",
    "\n",
    "out_folder = os.path.join(in_folder, \"output\")\n",
    "\n",
    "# global_cities = '/home/public/Data/PROJECTS/LAC_GOSTNets/Destinations/Cities_centroids_FINAL_pop.shp'\n",
    "global_admin = '/home/public/Data/GLOBAL/ADMIN/g2015_0_simplified.shp'\n",
    "# global_cities = '/home/public/Data/GLOBAL/Population/Major_Cities.shp'\n",
    "global_cities = '/home/public/Data/GLOBAL/Population/global_settlement_points_v1_01_gt50000.shp'"
   ]
  },
  {
   "cell_type": "code",
   "execution_count": 5,
   "metadata": {},
   "outputs": [],
   "source": [
    "target = gpd.read_file(focal_admin2)\n",
    "target['centroid'] = target.centroid\n",
    "cities = gpd.read_file(global_cities)\n",
    "adm0 = gpd.read_file(global_admin)\n",
    "adm0 = adm0.loc[adm0.is_valid]\n",
    "cities = gpd.sjoin(cities, adm0[['ADM0_NAME','geometry']], how='left')"
   ]
  },
  {
   "cell_type": "code",
   "execution_count": 15,
   "metadata": {},
   "outputs": [],
   "source": [
    "pop_thresh = 50000\n",
    "dist_thresh = 100000 # meters\n",
    "cities = cities[cities.Pop>pop_thresh].copy()\n",
    "\n",
    "cities_proj = cities.to_crs(f'EPSG:{epsg}')\n",
    "target_proj = target.to_crs(f'EPSG:{epsg}')"
   ]
  },
  {
   "cell_type": "code",
   "execution_count": 16,
   "metadata": {},
   "outputs": [],
   "source": [
    "target_buffer = target_proj.buffer(dist_thresh)\n",
    "cities_filter = cities_proj[cities_proj.intersects(target_buffer.unary_union)]"
   ]
  },
  {
   "cell_type": "code",
   "execution_count": 17,
   "metadata": {},
   "outputs": [],
   "source": [
    "# Remove cities from the target country\n",
    "cities_filter = cities_filter[cities_filter.ADM0_NAME!=country].copy()\n",
    "cities_filter = cities_filter.to_crs(cities.crs)"
   ]
  },
  {
   "cell_type": "code",
   "execution_count": 18,
   "metadata": {},
   "outputs": [],
   "source": [
    "cities_adm0 = gpd.read_file(urban_extents)\n",
    "cities_adm0 = cities_adm0[cities_adm0.Pop>pop_thresh]\n",
    "cities_adm0['geometry'] = cities_adm0.geometry.centroid"
   ]
  },
  {
   "cell_type": "code",
   "execution_count": 19,
   "metadata": {},
   "outputs": [],
   "source": [
    "cities_concat = pd.concat([cities_filter, cities_adm0]).reset_index(drop=True)"
   ]
  },
  {
   "cell_type": "code",
   "execution_count": 20,
   "metadata": {},
   "outputs": [
    {
     "data": {
      "text/html": [
       "<div>\n",
       "<style scoped>\n",
       "    .dataframe tbody tr th:only-of-type {\n",
       "        vertical-align: middle;\n",
       "    }\n",
       "\n",
       "    .dataframe tbody tr th {\n",
       "        vertical-align: top;\n",
       "    }\n",
       "\n",
       "    .dataframe thead th {\n",
       "        text-align: right;\n",
       "    }\n",
       "</style>\n",
       "<table border=\"1\" class=\"dataframe\">\n",
       "  <thead>\n",
       "    <tr style=\"text-align: right;\">\n",
       "      <th></th>\n",
       "      <th>OBJECTID</th>\n",
       "      <th>UNSD</th>\n",
       "      <th>Latlongid</th>\n",
       "      <th>Latitude</th>\n",
       "      <th>Longitude</th>\n",
       "      <th>Pop</th>\n",
       "      <th>Year</th>\n",
       "      <th>Urborrur</th>\n",
       "      <th>Schnm</th>\n",
       "      <th>Name1</th>\n",
       "      <th>...</th>\n",
       "      <th>ES90POP</th>\n",
       "      <th>ES95POP</th>\n",
       "      <th>ES00POP</th>\n",
       "      <th>INSGRUSED</th>\n",
       "      <th>Continent</th>\n",
       "      <th>Country</th>\n",
       "      <th>geometry</th>\n",
       "      <th>index_right</th>\n",
       "      <th>ADM0_NAME</th>\n",
       "      <th>ID</th>\n",
       "    </tr>\n",
       "  </thead>\n",
       "  <tbody>\n",
       "    <tr>\n",
       "      <th>0</th>\n",
       "      <td>NaN</td>\n",
       "      <td>NaN</td>\n",
       "      <td>NaN</td>\n",
       "      <td>NaN</td>\n",
       "      <td>NaN</td>\n",
       "      <td>697008.125</td>\n",
       "      <td>NaN</td>\n",
       "      <td>NaN</td>\n",
       "      <td>NaN</td>\n",
       "      <td>NaN</td>\n",
       "      <td>...</td>\n",
       "      <td>NaN</td>\n",
       "      <td>NaN</td>\n",
       "      <td>NaN</td>\n",
       "      <td>NaN</td>\n",
       "      <td>NaN</td>\n",
       "      <td>NaN</td>\n",
       "      <td>POINT (43.10640 11.55664)</td>\n",
       "      <td>NaN</td>\n",
       "      <td>NaN</td>\n",
       "      <td>5.0</td>\n",
       "    </tr>\n",
       "  </tbody>\n",
       "</table>\n",
       "<p>1 rows × 35 columns</p>\n",
       "</div>"
      ],
      "text/plain": [
       "   OBJECTID  UNSD  Latlongid  Latitude  Longitude         Pop  Year Urborrur  \\\n",
       "0       NaN   NaN        NaN       NaN        NaN  697008.125   NaN      NaN   \n",
       "\n",
       "  Schnm Name1  ... ES90POP ES95POP ES00POP INSGRUSED Continent Country  \\\n",
       "0   NaN   NaN  ...     NaN     NaN     NaN       NaN       NaN     NaN   \n",
       "\n",
       "                    geometry index_right ADM0_NAME   ID  \n",
       "0  POINT (43.10640 11.55664)         NaN       NaN  5.0  \n",
       "\n",
       "[1 rows x 35 columns]"
      ]
     },
     "execution_count": 20,
     "metadata": {},
     "output_type": "execute_result"
    }
   ],
   "source": [
    "cities_concat"
   ]
  },
  {
   "cell_type": "code",
   "execution_count": 21,
   "metadata": {},
   "outputs": [
    {
     "data": {
      "text/plain": [
       "<matplotlib.axes._subplots.AxesSubplot at 0x7fe1eac38210>"
      ]
     },
     "execution_count": 21,
     "metadata": {},
     "output_type": "execute_result"
    },
    {
     "data": {
      "image/png": "[encoded data removed]",
      "text/plain": [
       "<Figure size 720x720 with 1 Axes>"
      ]
     },
     "metadata": {
      "needs_background": "light"
     },
     "output_type": "display_data"
    }
   ],
   "source": [
    "ax = target.plot(figsize=(10, 10))\n",
    "cities_concat.plot(figsize=(10, 10), ax=ax, color='red')"
   ]
  },
  {
   "cell_type": "code",
   "execution_count": 12,
   "metadata": {},
   "outputs": [],
   "source": [
    "origins = target.copy()\n",
    "dests = cities_concat.copy().reset_index(drop=True)"
   ]
  },
  {
   "cell_type": "code",
   "execution_count": 13,
   "metadata": {},
   "outputs": [],
   "source": [
    "origins['x'] = origins.centroid.x\n",
    "origins['y'] = origins.centroid.y\n",
    "\n",
    "dests['x'] = dests.geometry.x\n",
    "dests['y'] = dests.geometry.y\n",
    "\n",
    "origins['ID'] = origins.OBJECTID\n",
    "dests['ID'] = dests.index\n",
    "\n",
    "origins['Pop'] = 1"
   ]
  },
  {
   "cell_type": "code",
   "execution_count": 14,
   "metadata": {},
   "outputs": [
    {
     "name": "stdout",
     "output_type": "stream",
     "text": [
      "\n",
      "Chosen server: MB\n",
      "\n",
      "Start time: Wed Sep  9 17:35:47 2020\n",
      "source list: 62\n",
      "sources list: 6\n",
      "dest list: 31\n",
      "dests list: 3\n",
      "\n",
      "Estimated remaining calls to chosen server: 18\n",
      "\n",
      "save points will occur every 3 calls\n",
      "\n",
      "Call to OSRM server number: 1 of 18\n",
      "Call to OSRM server number: 2 of 18\n",
      "Call to OSRM server number: 3 of 18\n",
      "Call to OSRM server number: 4 of 18\n",
      "Call to OSRM server number: 5 of 18\n",
      "Call to OSRM server number: 6 of 18\n",
      "Call to OSRM server number: 7 of 18\n",
      "Call to OSRM server number: 8 of 18\n",
      "Call to OSRM server number: 9 of 18\n",
      "Call to OSRM server number: 10 of 18\n",
      "Call to OSRM server number: 11 of 18\n",
      "Call to OSRM server number: 12 of 18\n",
      "Call to OSRM server number: 13 of 18\n",
      "Call to OSRM server number: 14 of 18\n",
      "Call to OSRM server number: 15 of 18\n",
      "Call to OSRM server number: 16 of 18\n",
      "Call to OSRM server number: 17 of 18\n",
      "Call to OSRM server number: 18 of 18\n"
     ]
    }
   ],
   "source": [
    "odRes = mb.CreateODMatrix(origins, dests, lat_name = 'y', lon_name = 'x', UID = 'ID', \n",
    "                    Pop = 'Pop', call_type = 'MB', rescue = 0, rescue_num = 0, MB_Toke = mb_token, \n",
    "                    sleepTime = 5, osrmHeader = '')"
   ]
  },
  {
   "cell_type": "code",
   "execution_count": 15,
   "metadata": {},
   "outputs": [],
   "source": [
    "odRes['O_UID'] = odRes['O_UID'].astype('int')\n",
    "odRes['D_UID'] = odRes['D_UID'].astype('int')"
   ]
  },
  {
   "cell_type": "code",
   "execution_count": 16,
   "metadata": {
    "scrolled": true
   },
   "outputs": [],
   "source": [
    "OD_re = odRes.pivot(index='O_UID', columns='D_UID', values='DIST')"
   ]
  },
  {
   "cell_type": "code",
   "execution_count": 17,
   "metadata": {},
   "outputs": [
    {
     "data": {
      "text/html": [
       "<div>\n",
       "<style scoped>\n",
       "    .dataframe tbody tr th:only-of-type {\n",
       "        vertical-align: middle;\n",
       "    }\n",
       "\n",
       "    .dataframe tbody tr th {\n",
       "        vertical-align: top;\n",
       "    }\n",
       "\n",
       "    .dataframe thead th {\n",
       "        text-align: right;\n",
       "    }\n",
       "</style>\n",
       "<table border=\"1\" class=\"dataframe\">\n",
       "  <thead>\n",
       "    <tr style=\"text-align: right;\">\n",
       "      <th>D_UID</th>\n",
       "      <th>0</th>\n",
       "      <th>1</th>\n",
       "      <th>2</th>\n",
       "      <th>3</th>\n",
       "      <th>4</th>\n",
       "      <th>5</th>\n",
       "      <th>6</th>\n",
       "      <th>7</th>\n",
       "      <th>8</th>\n",
       "      <th>9</th>\n",
       "      <th>...</th>\n",
       "      <th>21</th>\n",
       "      <th>22</th>\n",
       "      <th>23</th>\n",
       "      <th>24</th>\n",
       "      <th>25</th>\n",
       "      <th>26</th>\n",
       "      <th>27</th>\n",
       "      <th>28</th>\n",
       "      <th>29</th>\n",
       "      <th>30</th>\n",
       "    </tr>\n",
       "    <tr>\n",
       "      <th>O_UID</th>\n",
       "      <th></th>\n",
       "      <th></th>\n",
       "      <th></th>\n",
       "      <th></th>\n",
       "      <th></th>\n",
       "      <th></th>\n",
       "      <th></th>\n",
       "      <th></th>\n",
       "      <th></th>\n",
       "      <th></th>\n",
       "      <th></th>\n",
       "      <th></th>\n",
       "      <th></th>\n",
       "      <th></th>\n",
       "      <th></th>\n",
       "      <th></th>\n",
       "      <th></th>\n",
       "      <th></th>\n",
       "      <th></th>\n",
       "      <th></th>\n",
       "      <th></th>\n",
       "    </tr>\n",
       "  </thead>\n",
       "  <tbody>\n",
       "    <tr>\n",
       "      <th>37114</th>\n",
       "      <td>20636.0</td>\n",
       "      <td>10750.0</td>\n",
       "      <td>33776.5</td>\n",
       "      <td>42564.3</td>\n",
       "      <td>53214.0</td>\n",
       "      <td>44699.7</td>\n",
       "      <td>29037.0</td>\n",
       "      <td>42198.3</td>\n",
       "      <td>535.8</td>\n",
       "      <td>19458.1</td>\n",
       "      <td>...</td>\n",
       "      <td>17074.5</td>\n",
       "      <td>19532.0</td>\n",
       "      <td>14409.2</td>\n",
       "      <td>22858.1</td>\n",
       "      <td>12823.7</td>\n",
       "      <td>10192.0</td>\n",
       "      <td>27563.7</td>\n",
       "      <td>7006.3</td>\n",
       "      <td>15060.4</td>\n",
       "      <td>514.3</td>\n",
       "    </tr>\n",
       "    <tr>\n",
       "      <th>37115</th>\n",
       "      <td>2581.3</td>\n",
       "      <td>30817.9</td>\n",
       "      <td>19502.7</td>\n",
       "      <td>38591.2</td>\n",
       "      <td>36364.2</td>\n",
       "      <td>27849.9</td>\n",
       "      <td>46932.0</td>\n",
       "      <td>31233.0</td>\n",
       "      <td>20541.4</td>\n",
       "      <td>8598.9</td>\n",
       "      <td>...</td>\n",
       "      <td>4816.1</td>\n",
       "      <td>1835.9</td>\n",
       "      <td>7287.0</td>\n",
       "      <td>4903.9</td>\n",
       "      <td>8454.6</td>\n",
       "      <td>11429.7</td>\n",
       "      <td>13289.9</td>\n",
       "      <td>14123.2</td>\n",
       "      <td>13777.0</td>\n",
       "      <td>20699.2</td>\n",
       "    </tr>\n",
       "    <tr>\n",
       "      <th>37116</th>\n",
       "      <td>1453.1</td>\n",
       "      <td>29420.2</td>\n",
       "      <td>18459.0</td>\n",
       "      <td>37547.5</td>\n",
       "      <td>34538.4</td>\n",
       "      <td>26024.1</td>\n",
       "      <td>45059.8</td>\n",
       "      <td>29360.8</td>\n",
       "      <td>19143.7</td>\n",
       "      <td>6726.7</td>\n",
       "      <td>...</td>\n",
       "      <td>3195.4</td>\n",
       "      <td>380.4</td>\n",
       "      <td>5666.3</td>\n",
       "      <td>3860.2</td>\n",
       "      <td>6833.9</td>\n",
       "      <td>9809.0</td>\n",
       "      <td>12246.2</td>\n",
       "      <td>12656.1</td>\n",
       "      <td>14031.6</td>\n",
       "      <td>19301.5</td>\n",
       "    </tr>\n",
       "    <tr>\n",
       "      <th>37117</th>\n",
       "      <td>15908.9</td>\n",
       "      <td>31175.2</td>\n",
       "      <td>17206.7</td>\n",
       "      <td>24447.6</td>\n",
       "      <td>45816.5</td>\n",
       "      <td>37302.2</td>\n",
       "      <td>60909.1</td>\n",
       "      <td>45210.1</td>\n",
       "      <td>20898.7</td>\n",
       "      <td>22576.0</td>\n",
       "      <td>...</td>\n",
       "      <td>18600.7</td>\n",
       "      <td>16333.8</td>\n",
       "      <td>21031.4</td>\n",
       "      <td>12585.9</td>\n",
       "      <td>19922.1</td>\n",
       "      <td>17290.4</td>\n",
       "      <td>10585.5</td>\n",
       "      <td>14480.5</td>\n",
       "      <td>8918.6</td>\n",
       "      <td>21056.5</td>\n",
       "    </tr>\n",
       "    <tr>\n",
       "      <th>37118</th>\n",
       "      <td>18945.9</td>\n",
       "      <td>37265.8</td>\n",
       "      <td>13672.4</td>\n",
       "      <td>21328.3</td>\n",
       "      <td>48853.5</td>\n",
       "      <td>40339.2</td>\n",
       "      <td>63965.9</td>\n",
       "      <td>48266.9</td>\n",
       "      <td>26989.3</td>\n",
       "      <td>25632.8</td>\n",
       "      <td>...</td>\n",
       "      <td>22101.5</td>\n",
       "      <td>19370.8</td>\n",
       "      <td>24572.4</td>\n",
       "      <td>15622.9</td>\n",
       "      <td>25740.0</td>\n",
       "      <td>23381.0</td>\n",
       "      <td>7051.2</td>\n",
       "      <td>20571.1</td>\n",
       "      <td>12573.2</td>\n",
       "      <td>27147.1</td>\n",
       "    </tr>\n",
       "  </tbody>\n",
       "</table>\n",
       "<p>5 rows × 31 columns</p>\n",
       "</div>"
      ],
      "text/plain": [
       "D_UID       0        1        2        3        4        5        6        7   \\\n",
       "O_UID                                                                           \n",
       "37114  20636.0  10750.0  33776.5  42564.3  53214.0  44699.7  29037.0  42198.3   \n",
       "37115   2581.3  30817.9  19502.7  38591.2  36364.2  27849.9  46932.0  31233.0   \n",
       "37116   1453.1  29420.2  18459.0  37547.5  34538.4  26024.1  45059.8  29360.8   \n",
       "37117  15908.9  31175.2  17206.7  24447.6  45816.5  37302.2  60909.1  45210.1   \n",
       "37118  18945.9  37265.8  13672.4  21328.3  48853.5  40339.2  63965.9  48266.9   \n",
       "\n",
       "D_UID       8        9   ...       21       22       23       24       25  \\\n",
       "O_UID                    ...                                                \n",
       "37114    535.8  19458.1  ...  17074.5  19532.0  14409.2  22858.1  12823.7   \n",
       "37115  20541.4   8598.9  ...   4816.1   1835.9   7287.0   4903.9   8454.6   \n",
       "37116  19143.7   6726.7  ...   3195.4    380.4   5666.3   3860.2   6833.9   \n",
       "37117  20898.7  22576.0  ...  18600.7  16333.8  21031.4  12585.9  19922.1   \n",
       "37118  26989.3  25632.8  ...  22101.5  19370.8  24572.4  15622.9  25740.0   \n",
       "\n",
       "D_UID       26       27       28       29       30  \n",
       "O_UID                                               \n",
       "37114  10192.0  27563.7   7006.3  15060.4    514.3  \n",
       "37115  11429.7  13289.9  14123.2  13777.0  20699.2  \n",
       "37116   9809.0  12246.2  12656.1  14031.6  19301.5  \n",
       "37117  17290.4  10585.5  14480.5   8918.6  21056.5  \n",
       "37118  23381.0   7051.2  20571.1  12573.2  27147.1  \n",
       "\n",
       "[5 rows x 31 columns]"
      ]
     },
     "execution_count": 17,
     "metadata": {},
     "output_type": "execute_result"
    }
   ],
   "source": [
    "OD_re.head()"
   ]
  },
  {
   "cell_type": "code",
   "execution_count": 18,
   "metadata": {
    "scrolled": true
   },
   "outputs": [
    {
     "data": {
      "text/plain": [
       "D_UID\n",
       "0     1.138840e+05\n",
       "1     6.533000e+04\n",
       "2     2.022500e+05\n",
       "3     1.035010e+05\n",
       "4     5.850100e+04\n",
       "5     1.205820e+05\n",
       "6     8.671600e+04\n",
       "7     8.001630e+05\n",
       "8     7.959690e+05\n",
       "9     5.511800e+04\n",
       "10    3.519490e+05\n",
       "11    1.639160e+05\n",
       "12    1.522318e+06\n",
       "13    5.451300e+04\n",
       "14    8.673500e+04\n",
       "15    5.042000e+04\n",
       "16    6.624200e+04\n",
       "17    1.681790e+05\n",
       "18    9.656000e+04\n",
       "19    6.876384e+04\n",
       "20    5.937845e+04\n",
       "21    7.979259e+04\n",
       "22    2.494950e+06\n",
       "23    6.118895e+04\n",
       "24    7.140141e+04\n",
       "25    8.152758e+04\n",
       "26    1.166039e+05\n",
       "27    2.048687e+05\n",
       "28    1.621917e+05\n",
       "29    9.483996e+04\n",
       "30    6.269723e+05\n",
       "Name: Pop, dtype: float64"
      ]
     },
     "execution_count": 18,
     "metadata": {},
     "output_type": "execute_result"
    }
   ],
   "source": [
    "dests.Pop[OD_re.columns]"
   ]
  },
  {
   "cell_type": "code",
   "execution_count": 19,
   "metadata": {},
   "outputs": [],
   "source": [
    "access_regional = calcOD.calculate_gravity(np.array(OD_re), dWeight = dests.Pop[OD_re.columns])"
   ]
  },
  {
   "cell_type": "code",
   "execution_count": 20,
   "metadata": {},
   "outputs": [],
   "source": [
    "# access_domestic = calcOD.calculate_gravity(np.array(OD_re.loc[:,1:]), dWeight = dests.Pop[OD_re.loc[:,1:].columns])\n",
    "# if adm0 name is null, then it's a domestic city\n",
    "access_domestic = calcOD.calculate_gravity(np.array(OD_re.loc[:,dests.loc[dests.ADM0_NAME.isnull()].index]), \n",
    "                                           dWeight = dests.Pop[dests.loc[dests.ADM0_NAME.isnull()].index])"
   ]
  },
  {
   "cell_type": "code",
   "execution_count": 21,
   "metadata": {},
   "outputs": [],
   "source": [
    "access_regional = access_regional.rename(columns = {\n",
    "        'd_0.01': 'ma_reg_1',\n",
    "        'd_0.005': 'ma_reg_2',\n",
    "        'd_0.001' : 'ma_reg_3',\n",
    "        'd_0.0007701635' : 'ma_reg_4',   # Market access halves every 15 mins\n",
    "        'd_0.0003850818' : 'ma_reg_5',   # Market access halves every 30 mins\n",
    "        'd_0.0001925409' : 'ma_reg_6',   # Market access halves every 60 mins\n",
    "        'd_9.62704e-05' : 'ma_reg_7',   # Market access halves every 120 mins\n",
    "        'd_3.85082e-05' : 'ma_reg_8',   # Market access halves every 300 mins\n",
    "        'd_1e-05' : 'ma_reg_9'\n",
    "    })\n",
    "\n",
    "access_domestic = access_domestic.rename(columns = {\n",
    "        'd_0.01': 'ma_dom_1',\n",
    "        'd_0.005': 'ma_dom_2',\n",
    "        'd_0.001' : 'ma_dom_3',\n",
    "        'd_0.0007701635' : 'ma_dom_4',   # Market access halves every 15 mins\n",
    "        'd_0.0003850818' : 'ma_dom_5',   # Market access halves every 30 mins\n",
    "        'd_0.0001925409' : 'ma_dom_6',   # Market access halves every 60 mins\n",
    "        'd_9.62704e-05' : 'ma_dom_7',   # Market access halves every 120 mins\n",
    "        'd_3.85082e-05' : 'ma_dom_8',   # Market access halves every 300 mins\n",
    "        'd_1e-05' : 'ma_dom_9'\n",
    "    })"
   ]
  },
  {
   "cell_type": "code",
   "execution_count": 22,
   "metadata": {},
   "outputs": [],
   "source": [
    "access_pch = pd.DataFrame((access_regional.values-access_domestic.values)/access_domestic.values,\n",
    "             index = access_regional.index,\n",
    "             columns=['ma_pch_1', 'ma_pch_2', 'ma_pch_3', 'ma_pch_4',\n",
    "                      'ma_pch_5', 'ma_pch_6', 'ma_pch_7', 'ma_pch_8', 'ma_pch_9'])"
   ]
  },
  {
   "cell_type": "code",
   "execution_count": 23,
   "metadata": {},
   "outputs": [],
   "source": [
    "access_pdif = pd.DataFrame((access_regional.values-access_domestic.values)/((access_regional.values+access_domestic.values)/2),\n",
    "             index = access_regional.index,\n",
    "             columns=['ma_pdif_1', 'ma_pdif_2', 'ma_pdif_3', 'ma_pdif_4',\n",
    "                      'ma_pdif_5', 'ma_pdif_6', 'ma_pdif_7', 'ma_pdif_8', 'ma_pdif_9'])"
   ]
  },
  {
   "cell_type": "code",
   "execution_count": 24,
   "metadata": {},
   "outputs": [],
   "source": [
    "access_join = access_domestic.loc[:,'ma_dom_5':].join(access_regional.loc[:,'ma_reg_5':]).join(access_pch.loc[:,'ma_pch_5':]).join(access_pdif.loc[:,'ma_pdif_5':])\n",
    "access_join['OBJECTID'] = OD_re.index\n",
    "newdf = target.merge(access_join, on='OBJECTID')\n",
    "newdf.drop(['geometry','Shape_Leng','Shape_Area'], axis=1, inplace=True)"
   ]
  },
  {
   "cell_type": "code",
   "execution_count": 25,
   "metadata": {},
   "outputs": [],
   "source": [
    "output_path = os.path.join(out_folder, 'tables')\n",
    "if not os.path.exists(output_path):\n",
    "    os.mkdir(output_path)"
   ]
  },
  {
   "cell_type": "code",
   "execution_count": 26,
   "metadata": {},
   "outputs": [],
   "source": [
    "newdf.to_excel(os.path.join(output_path, \"11Regional Analysis.xlsx\"), index=False)"
   ]
  }
 ],
 "metadata": {
  "kernelspec": {
   "display_name": "GEO",
   "language": "python",
   "name": "geo"
  },
  "language_info": {
   "codemirror_mode": {
    "name": "ipython",
    "version": 3
   },
   "file_extension": ".py",
   "mimetype": "text/x-python",
   "name": "python",
   "nbconvert_exporter": "python",
   "pygments_lexer": "ipython3",
   "version": "3.7.6"
  }
 },
 "nbformat": 4,
 "nbformat_minor": 2
}
