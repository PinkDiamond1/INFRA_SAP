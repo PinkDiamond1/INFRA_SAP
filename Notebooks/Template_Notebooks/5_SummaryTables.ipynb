{
 "cells": [
  {
   "cell_type": "markdown",
   "metadata": {},
   "source": [
    "## Country-level INFRA-SAP"
   ]
  },
  {
   "cell_type": "markdown",
   "metadata": {},
   "source": [
    "Create summary statistics at admin-2 and country-level"
   ]
  },
  {
   "cell_type": "code",
   "execution_count": 1,
   "metadata": {},
   "outputs": [],
   "source": [
    "import os, sys, time, importlib\n",
    "\n",
    "import geopandas as gpd\n",
    "import pandas as pd\n",
    "import networkx as nx\n",
    "sys.path.append('/home/wb514197/Repos/GOSTnets')\n",
    "\n",
    "import GOSTnets as gn\n",
    "import rasterio as rio\n",
    "from osgeo import gdal\n",
    "import GOSTnets.calculate_od_raw as calcOD\n",
    "import numpy as np\n",
    "\n",
    "%load_ext autoreload\n",
    "%autoreload 2\n",
    "\n",
    "sys.path.append('/home/wb514197/Repos/INFRA_SAP')\n",
    "from infrasap import aggregator\n",
    "from shapely.wkt import loads\n",
    "import infrasap.rai_calculator as rai"
   ]
  },
  {
   "cell_type": "code",
   "execution_count": 2,
   "metadata": {},
   "outputs": [],
   "source": [
    "country = 'guatemala'\n",
    "iso3 = 'GTM'\n",
    "epsg = 26915"
   ]
  },
  {
   "cell_type": "markdown",
   "metadata": {},
   "source": [
    "### Load data"
   ]
  },
  {
   "cell_type": "code",
   "execution_count": 3,
   "metadata": {},
   "outputs": [],
   "source": [
    "base_in = \"/home/public/Data/PROJECTS/INFRA_SAP\"\n",
    "in_folder = os.path.join(base_in, iso3)\n",
    "\n",
    "# define data paths\n",
    "focal_admin2 = os.path.join(in_folder, \"admin.shp\")\n",
    "focal_osm = os.path.join(in_folder, f\"{country}-latest.osm.pbf\")\n",
    "pop_name = \"WP_2020_1km\"\n",
    "wp_1km = os.path.join(in_folder, f\"{pop_name}.tif\")\n",
    "urban_extents = os.path.join(in_folder, \"urban_extents.shp\")\n",
    "airports = os.path.join(in_folder, \"airports.shp\")\n",
    "ports = os.path.join(in_folder, \"ports.shp\")\n",
    "borders = os.path.join(in_folder, \"borders.shp\")\n",
    "G_path = os.path.join(in_folder, 'graph', f\"G_{iso3}.pickle\")\n",
    "\n",
    "base_out = \"/home/wb514197/data/INFRA_SAP\" # GOT permission denied using public \n",
    "out_folder = os.path.join(base_out, iso3)\n",
    "if not os.path.exists(out_folder):\n",
    "    os.makedirs(out_folder)"
   ]
  },
  {
   "cell_type": "code",
   "execution_count": 4,
   "metadata": {},
   "outputs": [],
   "source": [
    "tables_path = os.path.join(out_folder, 'tables')\n",
    "if not os.path.exists(tables_path):\n",
    "    os.mkdir(tables_path)"
   ]
  },
  {
   "cell_type": "code",
   "execution_count": 5,
   "metadata": {},
   "outputs": [],
   "source": [
    "target = gpd.read_file(focal_admin2)"
   ]
  },
  {
   "cell_type": "markdown",
   "metadata": {},
   "source": [
    "### 1. RAI"
   ]
  },
  {
   "cell_type": "code",
   "execution_count": 7,
   "metadata": {},
   "outputs": [
    {
     "name": "stderr",
     "output_type": "stream",
     "text": [
      "/home/wb514197/.conda/envs/geo/lib/python3.7/site-packages/pyproj/crs/crs.py:55: FutureWarning: '+init=<authority>:<code>' syntax is deprecated. '<authority>:<code>' is the preferred initialization method. When making the change, be mindful of axis order changes: https://pyproj4.github.io/pyproj/stable/gotchas.html#axis-order-changes-in-proj-6\n",
      "  return _prepare_from_string(\" \".join(pjargs))\n"
     ]
    },
    {
     "name": "stdout",
     "output_type": "stream",
     "text": [
      "CPU times: user 28min 10s, sys: 12.2 s, total: 28min 22s\n",
      "Wall time: 28min 20s\n"
     ]
    }
   ],
   "source": [
    "%%time\n",
    "rai_roadnetwork = rai.extract_rai_network(focal_osm, epsg=epsg)"
   ]
  },
  {
   "cell_type": "code",
   "execution_count": 8,
   "metadata": {},
   "outputs": [],
   "source": [
    "rai_roadnetwork = rai_roadnetwork.to_crs('EPSG:4326')"
   ]
  },
  {
   "cell_type": "code",
   "execution_count": 9,
   "metadata": {
    "scrolled": true
   },
   "outputs": [
    {
     "name": "stdout",
     "output_type": "stream",
     "text": [
      "CPU times: user 13min 4s, sys: 3.87 s, total: 13min 8s\n",
      "Wall time: 13min 8s\n"
     ]
    }
   ],
   "source": [
    "%%time\n",
    "rai = rai.calculate_rai(target, \"OBJECTID\", rio.open(wp_1km), rai_roadnetwork, tables_path)"
   ]
  },
  {
   "cell_type": "code",
   "execution_count": 14,
   "metadata": {},
   "outputs": [
    {
     "data": {
      "text/html": [
       "<div>\n",
       "<style scoped>\n",
       "    .dataframe tbody tr th:only-of-type {\n",
       "        vertical-align: middle;\n",
       "    }\n",
       "\n",
       "    .dataframe tbody tr th {\n",
       "        vertical-align: top;\n",
       "    }\n",
       "\n",
       "    .dataframe thead th {\n",
       "        text-align: right;\n",
       "    }\n",
       "</style>\n",
       "<table border=\"1\" class=\"dataframe\">\n",
       "  <thead>\n",
       "    <tr style=\"text-align: right;\">\n",
       "      <th></th>\n",
       "      <th>OBJECTID</th>\n",
       "      <th>ISO_A2</th>\n",
       "      <th>WB_ADM1_CO</th>\n",
       "      <th>WB_ADM0_CO</th>\n",
       "      <th>WB_ADM0_NA</th>\n",
       "      <th>WB_ADM1_NA</th>\n",
       "      <th>WB_ADM2_CO</th>\n",
       "      <th>WB_ADM2_NA</th>\n",
       "      <th>ISO3</th>\n",
       "      <th>POP</th>\n",
       "      <th>RAI_POP_1</th>\n",
       "      <th>RAI_POP_2</th>\n",
       "      <th>RAI_POP_3</th>\n",
       "      <th>RAI_POP_4</th>\n",
       "      <th>RAI_Percent_1</th>\n",
       "      <th>RAI_Percent_2</th>\n",
       "      <th>RAI_Percent_3</th>\n",
       "      <th>RAI_Percent_4</th>\n",
       "    </tr>\n",
       "  </thead>\n",
       "  <tbody>\n",
       "    <tr>\n",
       "      <th>0</th>\n",
       "      <td>17876</td>\n",
       "      <td>IQ</td>\n",
       "      <td>1564</td>\n",
       "      <td>118</td>\n",
       "      <td>Iraq</td>\n",
       "      <td>Anbar</td>\n",
       "      <td>36754</td>\n",
       "      <td>Ana</td>\n",
       "      <td>IRQ</td>\n",
       "      <td>66928.312500</td>\n",
       "      <td>5989.950195</td>\n",
       "      <td>8072.481934</td>\n",
       "      <td>11696.504883</td>\n",
       "      <td>14682.267578</td>\n",
       "      <td>0.089498</td>\n",
       "      <td>0.120614</td>\n",
       "      <td>0.174762</td>\n",
       "      <td>0.219373</td>\n",
       "    </tr>\n",
       "    <tr>\n",
       "      <th>1</th>\n",
       "      <td>17877</td>\n",
       "      <td>IQ</td>\n",
       "      <td>1564</td>\n",
       "      <td>118</td>\n",
       "      <td>Iraq</td>\n",
       "      <td>Anbar</td>\n",
       "      <td>36755</td>\n",
       "      <td>Falluja</td>\n",
       "      <td>IRQ</td>\n",
       "      <td>768829.250000</td>\n",
       "      <td>204171.515625</td>\n",
       "      <td>543152.062500</td>\n",
       "      <td>609002.375000</td>\n",
       "      <td>617388.937500</td>\n",
       "      <td>0.265562</td>\n",
       "      <td>0.706466</td>\n",
       "      <td>0.792117</td>\n",
       "      <td>0.803025</td>\n",
       "    </tr>\n",
       "    <tr>\n",
       "      <th>2</th>\n",
       "      <td>17878</td>\n",
       "      <td>IQ</td>\n",
       "      <td>1564</td>\n",
       "      <td>118</td>\n",
       "      <td>Iraq</td>\n",
       "      <td>Anbar</td>\n",
       "      <td>36756</td>\n",
       "      <td>Haditha</td>\n",
       "      <td>IRQ</td>\n",
       "      <td>120795.054688</td>\n",
       "      <td>30427.453125</td>\n",
       "      <td>75924.359375</td>\n",
       "      <td>85604.562500</td>\n",
       "      <td>89946.023438</td>\n",
       "      <td>0.251893</td>\n",
       "      <td>0.628539</td>\n",
       "      <td>0.708676</td>\n",
       "      <td>0.744617</td>\n",
       "    </tr>\n",
       "    <tr>\n",
       "      <th>3</th>\n",
       "      <td>17879</td>\n",
       "      <td>IQ</td>\n",
       "      <td>1564</td>\n",
       "      <td>118</td>\n",
       "      <td>Iraq</td>\n",
       "      <td>Anbar</td>\n",
       "      <td>36757</td>\n",
       "      <td>Heet</td>\n",
       "      <td>IRQ</td>\n",
       "      <td>210850.453125</td>\n",
       "      <td>43696.554688</td>\n",
       "      <td>109256.742188</td>\n",
       "      <td>141552.187500</td>\n",
       "      <td>145731.781250</td>\n",
       "      <td>0.207240</td>\n",
       "      <td>0.518172</td>\n",
       "      <td>0.671339</td>\n",
       "      <td>0.691162</td>\n",
       "    </tr>\n",
       "    <tr>\n",
       "      <th>4</th>\n",
       "      <td>17880</td>\n",
       "      <td>IQ</td>\n",
       "      <td>1564</td>\n",
       "      <td>118</td>\n",
       "      <td>Iraq</td>\n",
       "      <td>Anbar</td>\n",
       "      <td>36758</td>\n",
       "      <td>Qa'im</td>\n",
       "      <td>IRQ</td>\n",
       "      <td>190004.515625</td>\n",
       "      <td>43391.585938</td>\n",
       "      <td>84418.015625</td>\n",
       "      <td>118118.820312</td>\n",
       "      <td>126646.109375</td>\n",
       "      <td>0.228371</td>\n",
       "      <td>0.444295</td>\n",
       "      <td>0.621663</td>\n",
       "      <td>0.666543</td>\n",
       "    </tr>\n",
       "  </tbody>\n",
       "</table>\n",
       "</div>"
      ],
      "text/plain": [
       "   OBJECTID ISO_A2  WB_ADM1_CO  WB_ADM0_CO WB_ADM0_NA WB_ADM1_NA  WB_ADM2_CO  \\\n",
       "0     17876     IQ        1564         118       Iraq      Anbar       36754   \n",
       "1     17877     IQ        1564         118       Iraq      Anbar       36755   \n",
       "2     17878     IQ        1564         118       Iraq      Anbar       36756   \n",
       "3     17879     IQ        1564         118       Iraq      Anbar       36757   \n",
       "4     17880     IQ        1564         118       Iraq      Anbar       36758   \n",
       "\n",
       "  WB_ADM2_NA ISO3            POP      RAI_POP_1      RAI_POP_2      RAI_POP_3  \\\n",
       "0        Ana  IRQ   66928.312500    5989.950195    8072.481934   11696.504883   \n",
       "1    Falluja  IRQ  768829.250000  204171.515625  543152.062500  609002.375000   \n",
       "2    Haditha  IRQ  120795.054688   30427.453125   75924.359375   85604.562500   \n",
       "3       Heet  IRQ  210850.453125   43696.554688  109256.742188  141552.187500   \n",
       "4      Qa'im  IRQ  190004.515625   43391.585938   84418.015625  118118.820312   \n",
       "\n",
       "       RAI_POP_4  RAI_Percent_1  RAI_Percent_2  RAI_Percent_3  RAI_Percent_4  \n",
       "0   14682.267578       0.089498       0.120614       0.174762       0.219373  \n",
       "1  617388.937500       0.265562       0.706466       0.792117       0.803025  \n",
       "2   89946.023438       0.251893       0.628539       0.708676       0.744617  \n",
       "3  145731.781250       0.207240       0.518172       0.671339       0.691162  \n",
       "4  126646.109375       0.228371       0.444295       0.621663       0.666543  "
      ]
     },
     "execution_count": 14,
     "metadata": {},
     "output_type": "execute_result"
    }
   ],
   "source": [
    "rai.head()"
   ]
  },
  {
   "cell_type": "code",
   "execution_count": 15,
   "metadata": {},
   "outputs": [],
   "source": [
    "rai['RAI_Percent_1'] = rai.RAI_POP_1/rai.POP\n",
    "rai['RAI_Percent_2'] = rai.RAI_POP_2/rai.POP\n",
    "rai['RAI_Percent_3'] = rai.RAI_POP_3/rai.POP\n",
    "rai['RAI_Percent_4'] = rai.RAI_POP_4/rai.POP"
   ]
  },
  {
   "cell_type": "code",
   "execution_count": 18,
   "metadata": {},
   "outputs": [],
   "source": [
    "# don't need this anymore\n",
    "# rai = rai[['OBJECTID','POP','RAI_POP_1', 'RAI_POP_2', 'RAI_POP_3', 'RAI_POP_4',\n",
    "#            'RAI_Percent_1', 'RAI_Percent_2', 'RAI_Percent_3', 'RAI_Percent_4']]\n",
    "# rai.rename(columns={'ID':'OBJECTID'}, inplace=True)\n",
    "# rai = target.merge(rai, on=\"OBJECTID\")\n",
    "# rai.drop(['geometry','Shape_Leng','Shape_Area'], axis=1, inplace=True)"
   ]
  },
  {
   "cell_type": "code",
   "execution_count": 21,
   "metadata": {},
   "outputs": [],
   "source": [
    "rai.to_excel(os.path.join(tables_path, \"1Rural Access to Roads.xlsx\"), index=False)"
   ]
  },
  {
   "cell_type": "markdown",
   "metadata": {},
   "source": [
    "### 2. Reload OD Matrix"
   ]
  },
  {
   "cell_type": "code",
   "execution_count": 22,
   "metadata": {},
   "outputs": [],
   "source": [
    "OD = pd.read_csv(os.path.join(out_folder, 'OD_08_06.csv'), header=[0,1], index_col=0)"
   ]
  },
  {
   "cell_type": "code",
   "execution_count": 23,
   "metadata": {},
   "outputs": [],
   "source": [
    "OD['city'] = OD['city'].apply(lambda x: (x/3600))\n",
    "OD['port'] = OD['port'].apply(lambda x: (x/3600))\n",
    "OD['border'] = OD['border'].apply(lambda x: (x/3600))\n",
    "OD['airport'] = OD['airport'].apply(lambda x: (x/3600))"
   ]
  },
  {
   "cell_type": "markdown",
   "metadata": {},
   "source": [
    "### 3. District-level summaries"
   ]
  },
  {
   "cell_type": "markdown",
   "metadata": {},
   "source": [
    "**Percentage of rural population with access to a main city (>50k inhabitants) in XX hours**"
   ]
  },
  {
   "cell_type": "code",
   "execution_count": 24,
   "metadata": {},
   "outputs": [],
   "source": [
    "dest_type='city'\n",
    "rural=True\n",
    "thresholds=[0,0.5,1,1.5,2,3,4,5,6,7,10,1000] # hours\n",
    "rural_access = aggregator.calculate_access_percentages(OD, target, 'city', True, urban_extents, thresholds=thresholds)"
   ]
  },
  {
   "cell_type": "code",
   "execution_count": 25,
   "metadata": {},
   "outputs": [],
   "source": [
    "rural_access.rename(columns = {\n",
    "    '(10.0, 1000.0]':'> 10.0',\n",
    "    '(10.0, 1000.0] pop':'> 10.0 pop'\n",
    "}, inplace=True)\n",
    "rural_access.drop(columns=['geometry','Shape_Leng','Shape_Area'], inplace=True)"
   ]
  },
  {
   "cell_type": "code",
   "execution_count": 28,
   "metadata": {},
   "outputs": [],
   "source": [
    "rural_access.to_excel(os.path.join(tables_path, \"2Rural Access to Cities.xlsx\"), index=False)"
   ]
  },
  {
   "cell_type": "markdown",
   "metadata": {},
   "source": [
    "**Travel time to closest city**"
   ]
  },
  {
   "cell_type": "code",
   "execution_count": 29,
   "metadata": {},
   "outputs": [],
   "source": [
    "city_tt = aggregator.calculate_access_percentages(OD, target, 'city', thresholds=thresholds)\n",
    "city_tt.rename(columns = {\n",
    "    '(10.0, 1000.0]':'> 10.0',\n",
    "    '(10.0, 1000.0] pop':'> 10.0 pop'\n",
    "}, inplace=True)\n",
    "city_tt.drop(columns=['geometry','Shape_Leng','Shape_Area'], inplace=True)\n",
    "city_tt.to_excel(os.path.join(tables_path, \"3Travel Time to Nearest City.xlsx\"), index=False)"
   ]
  },
  {
   "cell_type": "markdown",
   "metadata": {},
   "source": [
    "**Travel time to capital**"
   ]
  },
  {
   "cell_type": "code",
   "execution_count": 30,
   "metadata": {},
   "outputs": [],
   "source": [
    "dest_all = pd.read_csv(os.path.join(out_folder, 'destination_all.csv'), index_col=0)\n",
    "cap_idx = dest_all.sort_values('Pop', ascending=False).iloc[[0]].index[0]"
   ]
  },
  {
   "cell_type": "code",
   "execution_count": 31,
   "metadata": {},
   "outputs": [],
   "source": [
    "capital_tt = aggregator.calculate_access_percentages(OD, target, 'city', thresholds=thresholds, capital=str(cap_idx))\n",
    "capital_tt.rename(columns = {\n",
    "    '(10.0, 1000.0]':'> 10.0',\n",
    "    '(10.0, 1000.0] pop':'> 10.0 pop'\n",
    "}, inplace=True)\n",
    "capital_tt.drop(columns=['geometry','Shape_Leng','Shape_Area'], inplace=True)\n",
    "capital_tt.to_excel(os.path.join(tables_path, \"4Travel Time to Capital.xlsx\"), index=False)"
   ]
  },
  {
   "cell_type": "markdown",
   "metadata": {},
   "source": [
    "**Time to drive to the closest land border point**"
   ]
  },
  {
   "cell_type": "code",
   "execution_count": 32,
   "metadata": {},
   "outputs": [],
   "source": [
    "border_tt = aggregator.calculate_access_percentages(OD, target, 'border', thresholds=thresholds)\n",
    "border_tt.rename(columns = {\n",
    "    '(10.0, 1000.0]':'> 10.0',\n",
    "    '(10.0, 1000.0] pop':'> 10.0 pop'\n",
    "}, inplace=True)\n",
    "border_tt.drop(columns=['geometry','Shape_Leng','Shape_Area'], inplace=True)\n",
    "border_tt.to_excel(os.path.join(tables_path, \"6Travel Time to Nearest Border.xlsx\"), index=False)"
   ]
  },
  {
   "cell_type": "markdown",
   "metadata": {},
   "source": [
    "**Time to drive to the closest airport**"
   ]
  },
  {
   "cell_type": "code",
   "execution_count": 33,
   "metadata": {},
   "outputs": [],
   "source": [
    "airport_tt = aggregator.calculate_access_percentages(OD, target, 'airport', thresholds=thresholds)\n",
    "airport_tt.rename(columns = {\n",
    "    '(10.0, 1000.0]':'> 10.0',\n",
    "    '(10.0, 1000.0] pop':'> 10.0 pop'\n",
    "}, inplace=True)\n",
    "airport_tt.drop(columns=['geometry','Shape_Leng','Shape_Area'], inplace=True)\n",
    "airport_tt.to_excel(os.path.join(tables_path, \"5Travel Time to Nearest Airport.xlsx\"), index=False)"
   ]
  },
  {
   "cell_type": "markdown",
   "metadata": {},
   "source": [
    "**Time to drive to the closest port**"
   ]
  },
  {
   "cell_type": "code",
   "execution_count": 34,
   "metadata": {},
   "outputs": [],
   "source": [
    "port_tt = aggregator.calculate_access_percentages(OD, target, 'port', thresholds=thresholds)\n",
    "port_tt.rename(columns = {\n",
    "    '(10.0, 1000.0]':'> 10.0',\n",
    "    '(10.0, 1000.0] pop':'> 10.0 pop'\n",
    "}, inplace=True)\n",
    "port_tt.drop(columns=['geometry','Shape_Leng','Shape_Area'], inplace=True)\n",
    "port_tt.to_excel(os.path.join(tables_path, \"7Travel Time to Nearest Port.xlsx\"), index=False)"
   ]
  },
  {
   "cell_type": "markdown",
   "metadata": {},
   "source": [
    "#### Aggregate to the country-level"
   ]
  },
  {
   "cell_type": "code",
   "execution_count": 35,
   "metadata": {},
   "outputs": [],
   "source": [
    "country_level = aggregator.agregate_to_country(rural_access, \"Rural pop. with access to a main city\")\n",
    "country_level = aggregator.agregate_to_country(city_tt, \"Travel time to closest city\", country_level)\n",
    "country_level = aggregator.agregate_to_country(capital_tt, \"Travel time to capital\", country_level)\n",
    "country_level = aggregator.agregate_to_country(border_tt, \"Travel time to closest border\", country_level)\n",
    "country_level = aggregator.agregate_to_country(airport_tt, \"Travel time to closest airport\", country_level)\n",
    "country_level = aggregator.agregate_to_country(port_tt, \"Travel time to closest port\", country_level)"
   ]
  },
  {
   "cell_type": "code",
   "execution_count": 36,
   "metadata": {},
   "outputs": [
    {
     "data": {
      "text/html": [
       "<div>\n",
       "<style scoped>\n",
       "    .dataframe tbody tr th:only-of-type {\n",
       "        vertical-align: middle;\n",
       "    }\n",
       "\n",
       "    .dataframe tbody tr th {\n",
       "        vertical-align: top;\n",
       "    }\n",
       "\n",
       "    .dataframe thead th {\n",
       "        text-align: right;\n",
       "    }\n",
       "</style>\n",
       "<table border=\"1\" class=\"dataframe\">\n",
       "  <thead>\n",
       "    <tr style=\"text-align: right;\">\n",
       "      <th></th>\n",
       "      <th>(0.0, 0.5] pop</th>\n",
       "      <th>(0.5, 1.0] pop</th>\n",
       "      <th>(1.0, 1.5] pop</th>\n",
       "      <th>(1.5, 2.0] pop</th>\n",
       "      <th>(2.0, 3.0] pop</th>\n",
       "      <th>(3.0, 4.0] pop</th>\n",
       "      <th>(4.0, 5.0] pop</th>\n",
       "      <th>(5.0, 6.0] pop</th>\n",
       "      <th>(6.0, 7.0] pop</th>\n",
       "      <th>(7.0, 10.0] pop</th>\n",
       "      <th>&gt; 10.0 pop</th>\n",
       "    </tr>\n",
       "  </thead>\n",
       "  <tbody>\n",
       "    <tr>\n",
       "      <th>Rural pop. with access to a main city</th>\n",
       "      <td>0.018014</td>\n",
       "      <td>0.062157</td>\n",
       "      <td>0.098691</td>\n",
       "      <td>0.101461</td>\n",
       "      <td>0.123199</td>\n",
       "      <td>0.063264</td>\n",
       "      <td>0.063695</td>\n",
       "      <td>0.072165</td>\n",
       "      <td>0.059148</td>\n",
       "      <td>0.214519</td>\n",
       "      <td>0.123688</td>\n",
       "    </tr>\n",
       "    <tr>\n",
       "      <th>Travel time to closest city</th>\n",
       "      <td>0.029020</td>\n",
       "      <td>0.069692</td>\n",
       "      <td>0.102991</td>\n",
       "      <td>0.103535</td>\n",
       "      <td>0.120851</td>\n",
       "      <td>0.061099</td>\n",
       "      <td>0.061235</td>\n",
       "      <td>0.069465</td>\n",
       "      <td>0.056864</td>\n",
       "      <td>0.206339</td>\n",
       "      <td>0.118910</td>\n",
       "    </tr>\n",
       "    <tr>\n",
       "      <th>Travel time to capital</th>\n",
       "      <td>0.000837</td>\n",
       "      <td>0.002398</td>\n",
       "      <td>0.004896</td>\n",
       "      <td>0.006746</td>\n",
       "      <td>0.020779</td>\n",
       "      <td>0.036535</td>\n",
       "      <td>0.045540</td>\n",
       "      <td>0.059925</td>\n",
       "      <td>0.064593</td>\n",
       "      <td>0.257982</td>\n",
       "      <td>0.499768</td>\n",
       "    </tr>\n",
       "    <tr>\n",
       "      <th>Travel time to closest border</th>\n",
       "      <td>0.004072</td>\n",
       "      <td>0.010110</td>\n",
       "      <td>0.014350</td>\n",
       "      <td>0.015868</td>\n",
       "      <td>0.046428</td>\n",
       "      <td>0.060697</td>\n",
       "      <td>0.073859</td>\n",
       "      <td>0.104934</td>\n",
       "      <td>0.111566</td>\n",
       "      <td>0.233163</td>\n",
       "      <td>0.324953</td>\n",
       "    </tr>\n",
       "    <tr>\n",
       "      <th>Travel time to closest airport</th>\n",
       "      <td>0.007470</td>\n",
       "      <td>0.020523</td>\n",
       "      <td>0.030906</td>\n",
       "      <td>0.043468</td>\n",
       "      <td>0.095560</td>\n",
       "      <td>0.108207</td>\n",
       "      <td>0.124322</td>\n",
       "      <td>0.122866</td>\n",
       "      <td>0.086635</td>\n",
       "      <td>0.206359</td>\n",
       "      <td>0.153684</td>\n",
       "    </tr>\n",
       "    <tr>\n",
       "      <th>Travel time to closest port</th>\n",
       "      <td>0.004703</td>\n",
       "      <td>0.007840</td>\n",
       "      <td>0.008413</td>\n",
       "      <td>0.009203</td>\n",
       "      <td>0.020247</td>\n",
       "      <td>0.025605</td>\n",
       "      <td>0.035806</td>\n",
       "      <td>0.043710</td>\n",
       "      <td>0.036691</td>\n",
       "      <td>0.114169</td>\n",
       "      <td>0.693613</td>\n",
       "    </tr>\n",
       "  </tbody>\n",
       "</table>\n",
       "</div>"
      ],
      "text/plain": [
       "                                       (0.0, 0.5] pop  (0.5, 1.0] pop  \\\n",
       "Rural pop. with access to a main city        0.018014        0.062157   \n",
       "Travel time to closest city                  0.029020        0.069692   \n",
       "Travel time to capital                       0.000837        0.002398   \n",
       "Travel time to closest border                0.004072        0.010110   \n",
       "Travel time to closest airport               0.007470        0.020523   \n",
       "Travel time to closest port                  0.004703        0.007840   \n",
       "\n",
       "                                       (1.0, 1.5] pop  (1.5, 2.0] pop  \\\n",
       "Rural pop. with access to a main city        0.098691        0.101461   \n",
       "Travel time to closest city                  0.102991        0.103535   \n",
       "Travel time to capital                       0.004896        0.006746   \n",
       "Travel time to closest border                0.014350        0.015868   \n",
       "Travel time to closest airport               0.030906        0.043468   \n",
       "Travel time to closest port                  0.008413        0.009203   \n",
       "\n",
       "                                       (2.0, 3.0] pop  (3.0, 4.0] pop  \\\n",
       "Rural pop. with access to a main city        0.123199        0.063264   \n",
       "Travel time to closest city                  0.120851        0.061099   \n",
       "Travel time to capital                       0.020779        0.036535   \n",
       "Travel time to closest border                0.046428        0.060697   \n",
       "Travel time to closest airport               0.095560        0.108207   \n",
       "Travel time to closest port                  0.020247        0.025605   \n",
       "\n",
       "                                       (4.0, 5.0] pop  (5.0, 6.0] pop  \\\n",
       "Rural pop. with access to a main city        0.063695        0.072165   \n",
       "Travel time to closest city                  0.061235        0.069465   \n",
       "Travel time to capital                       0.045540        0.059925   \n",
       "Travel time to closest border                0.073859        0.104934   \n",
       "Travel time to closest airport               0.124322        0.122866   \n",
       "Travel time to closest port                  0.035806        0.043710   \n",
       "\n",
       "                                       (6.0, 7.0] pop  (7.0, 10.0] pop  \\\n",
       "Rural pop. with access to a main city        0.059148         0.214519   \n",
       "Travel time to closest city                  0.056864         0.206339   \n",
       "Travel time to capital                       0.064593         0.257982   \n",
       "Travel time to closest border                0.111566         0.233163   \n",
       "Travel time to closest airport               0.086635         0.206359   \n",
       "Travel time to closest port                  0.036691         0.114169   \n",
       "\n",
       "                                       > 10.0 pop  \n",
       "Rural pop. with access to a main city    0.123688  \n",
       "Travel time to closest city              0.118910  \n",
       "Travel time to capital                   0.499768  \n",
       "Travel time to closest border            0.324953  \n",
       "Travel time to closest airport           0.153684  \n",
       "Travel time to closest port              0.693613  "
      ]
     },
     "execution_count": 36,
     "metadata": {},
     "output_type": "execute_result"
    }
   ],
   "source": [
    "country_level"
   ]
  },
  {
   "cell_type": "markdown",
   "metadata": {},
   "source": [
    "#### Pop-weighted average country-level"
   ]
  },
  {
   "cell_type": "code",
   "execution_count": 38,
   "metadata": {},
   "outputs": [],
   "source": [
    "raster_path = wp_1km"
   ]
  },
  {
   "cell_type": "code",
   "execution_count": 39,
   "metadata": {},
   "outputs": [],
   "source": [
    "national_average = aggregator.pop_weighted_average_national(os.path.join(out_folder,'travel_time','cities_min_tt.tif'), raster_path, 'Travel time to closest city')\n",
    "national_average = aggregator.pop_weighted_average_national(os.path.join(out_folder,'travel_time','capital_tt.tif'), raster_path, 'Travel time to capital', national_average)\n",
    "national_average = aggregator.pop_weighted_average_national(os.path.join(out_folder,'travel_time','borders_min_tt.tif'), raster_path, 'Travel time to closest border', national_average)\n",
    "national_average = aggregator.pop_weighted_average_national(os.path.join(out_folder,'travel_time','airport_min_tt.tif'), raster_path, 'Travel time to closest airport', national_average)\n",
    "national_average = aggregator.pop_weighted_average_national(os.path.join(out_folder,'travel_time','port_min_tt.tif'), raster_path, 'Travel time to closest port', national_average)"
   ]
  },
  {
   "cell_type": "code",
   "execution_count": 40,
   "metadata": {},
   "outputs": [],
   "source": [
    "country_level = country_level.join(national_average)"
   ]
  },
  {
   "cell_type": "code",
   "execution_count": 41,
   "metadata": {},
   "outputs": [],
   "source": [
    "country_level.rename(columns = {\n",
    "    '(0.0, 0.5] pop':'(0.0, 0.5]',\n",
    "    '(0.5, 1.0] pop':'(0.5, 1.0]',\n",
    "    '(1.0, 1.5] pop':'(1.0, 1.5]',\n",
    "    '(1.5, 2.0] pop':'(1.5, 2.0]',\n",
    "    '(2.0, 3.0] pop':'(2.0, 3.0]',\n",
    "    '(3.0, 4.0] pop':'(3.0, 4.0]',\n",
    "    '(4.0, 5.0] pop':'(4.0, 5.0]',\n",
    "    '(5.0, 6.0] pop':'(5.0, 6.0]',\n",
    "    '(6.0, 7.0] pop':'(6.0, 7.0]',\n",
    "    '(7.0, 10.0] pop':'(7.0, 10.0]',\n",
    "    '> 10.0 pop':'> 10.0'  \n",
    "}, inplace=True)\n",
    "country_level.to_excel(os.path.join(tables_path, \"9National Level Aggregates.xlsx\"), index=False)"
   ]
  },
  {
   "cell_type": "markdown",
   "metadata": {},
   "source": [
    "#### Pop-weighted average by district"
   ]
  },
  {
   "cell_type": "code",
   "execution_count": 42,
   "metadata": {},
   "outputs": [],
   "source": [
    "weighted_average = aggregator.pop_weighted_average(target, os.path.join(out_folder,'travel_time','cities_min_tt.tif'), raster_path, 'tt_min_city')\n",
    "weighted_average = aggregator.pop_weighted_average(target, os.path.join(out_folder,'travel_time','capital_tt.tif'), raster_path, 'tt_capital', table=weighted_average)\n",
    "weighted_average = aggregator.pop_weighted_average(target, os.path.join(out_folder,'travel_time','borders_min_tt.tif'), raster_path, 'tt_border', table=weighted_average)\n",
    "weighted_average = aggregator.pop_weighted_average(target, os.path.join(out_folder,'travel_time','airport_min_tt.tif'), raster_path, 'tt_airport', table=weighted_average)\n",
    "weighted_average = aggregator.pop_weighted_average(target, os.path.join(out_folder,'travel_time','port_min_tt.tif'), raster_path, 'tt_port', table=weighted_average)\n",
    "weighted_average = aggregator.pop_weighted_average(target, os.path.join(out_folder,'travel_distance','cities_min_dist.tif'), raster_path, 'dist_cities', weighted_average)\n",
    "weighted_average = aggregator.pop_weighted_average(target, os.path.join(out_folder,'travel_distance','airport_min_dist.tif'), raster_path, 'dist_airport', weighted_average)\n",
    "weighted_average = aggregator.pop_weighted_average(target, os.path.join(out_folder,'travel_distance','port_min_dist.tif'), raster_path, 'dist_ports', weighted_average)\n",
    "weighted_average = aggregator.pop_weighted_average(target, os.path.join(out_folder,'travel_distance','borders_min_dist.tif'), raster_path, 'dist_borders', weighted_average)\n",
    "weighted_average = aggregator.pop_weighted_average(target, os.path.join(out_folder,'travel_distance','capital_dist.tif'), raster_path, 'dist_capital',weighted_average)"
   ]
  },
  {
   "cell_type": "markdown",
   "metadata": {},
   "source": [
    "#### Market Access"
   ]
  },
  {
   "cell_type": "code",
   "execution_count": 43,
   "metadata": {},
   "outputs": [],
   "source": [
    "out_access = os.path.join(out_folder, 'access')"
   ]
  },
  {
   "cell_type": "code",
   "execution_count": 44,
   "metadata": {},
   "outputs": [],
   "source": [
    "ma5 = aggregator.pop_weighted_average(target, os.path.join(out_access,f\"access_cities_d5.tif\"), raster_path, 'ma_5')\n",
    "ma6 = aggregator.pop_weighted_average(target, os.path.join(out_access,f\"access_cities_d6.tif\"), raster_path, 'ma_6')\n",
    "ma7 = aggregator.pop_weighted_average(target, os.path.join(out_access,f\"access_cities_d7.tif\"), raster_path, 'ma_7')\n",
    "ma8 = aggregator.pop_weighted_average(target, os.path.join(out_access,f\"access_cities_d8.tif\"), raster_path, 'ma_8')\n",
    "ma9 = aggregator.pop_weighted_average(target, os.path.join(out_access,f\"access_cities_d9.tif\"), raster_path, 'ma_9')"
   ]
  },
  {
   "cell_type": "code",
   "execution_count": 45,
   "metadata": {},
   "outputs": [],
   "source": [
    "ma = pd.concat([ma5, ma6[['ma_6']], ma7[['ma_7']], ma8[['ma_8']], ma9[['ma_9']]], axis=1)"
   ]
  },
  {
   "cell_type": "markdown",
   "metadata": {},
   "source": [
    "#### Combine district-level data"
   ]
  },
  {
   "cell_type": "code",
   "execution_count": 46,
   "metadata": {},
   "outputs": [],
   "source": [
    "district_summary = weighted_average.merge(ma[['OBJECTID','ma_5','ma_6','ma_7','ma_8','ma_9']], on=\"OBJECTID\")"
   ]
  },
  {
   "cell_type": "code",
   "execution_count": 47,
   "metadata": {},
   "outputs": [],
   "source": [
    "# rai = pd.read_excel(os.path.join(tables_path, '1Rural Access to Roads.xlsx'))\n",
    "rai = rai[['OBJECTID','RAI_Percent_1','RAI_Percent_2', 'RAI_Percent_3', 'RAI_Percent_4']]\n",
    "district_summary = district_summary.merge(rai, on='OBJECTID')"
   ]
  },
  {
   "cell_type": "code",
   "execution_count": 50,
   "metadata": {},
   "outputs": [],
   "source": [
    "hubs = pd.read_excel(os.path.join(tables_path, '8Travel Time to Regional Hub.xlsx'))\n",
    "hubs = hubs.rename(columns={'Time (hrs)':'tt_regional', 'Name1':'hub_name'}) # 'Regional Hub Name'\n",
    "hubs = hubs[['OBJECTID','tt_regional','hub_name']]\n",
    "district_summary = district_summary.merge(hubs, on='OBJECTID')"
   ]
  },
  {
   "cell_type": "code",
   "execution_count": 51,
   "metadata": {},
   "outputs": [],
   "source": [
    "district_summary.to_file(os.path.join(out_folder,'admin_join.shp'), driver='ESRI Shapefile')"
   ]
  },
  {
   "cell_type": "code",
   "execution_count": 52,
   "metadata": {},
   "outputs": [],
   "source": [
    "district_table = district_summary.copy()\n",
    "district_table.drop(columns=['geometry','Shape_Leng','Shape_Area'], inplace=True)\n",
    "district_table.to_excel(os.path.join(tables_path, \"10District Level Summary.xlsx\"), index=False)"
   ]
  }
 ],
 "metadata": {
  "kernelspec": {
   "display_name": "GEO",
   "language": "python",
   "name": "geo"
  },
  "language_info": {
   "codemirror_mode": {
    "name": "ipython",
    "version": 3
   },
   "file_extension": ".py",
   "mimetype": "text/x-python",
   "name": "python",
   "nbconvert_exporter": "python",
   "pygments_lexer": "ipython3",
   "version": "3.7.6"
  }
 },
 "nbformat": 4,
 "nbformat_minor": 2
}
