{
 "cells": [
  {
   "cell_type": "markdown",
   "metadata": {},
   "source": [
    "## Country-level INFRA-SAP"
   ]
  },
  {
   "cell_type": "markdown",
   "metadata": {},
   "source": [
    "Create summary statistics at admin-2 and country-level"
   ]
  },
  {
   "cell_type": "code",
   "execution_count": 2,
   "metadata": {},
   "outputs": [],
   "source": [
    "import os, sys, time, importlib\n",
    "\n",
    "import geopandas as gpd\n",
    "import pandas as pd\n",
    "import networkx as nx\n",
    "sys.path.append('/home/wb514197/Repos/GOSTnets')\n",
    "\n",
    "import GOSTnets as gn\n",
    "import rasterio as rio\n",
    "from osgeo import gdal\n",
    "import GOSTnets.calculate_od_raw as calcOD\n",
    "import numpy as np\n",
    "\n",
    "%load_ext autoreload\n",
    "%autoreload 2\n",
    "\n",
    "sys.path.append('/home/wb514197/Repos/INFRA_SAP')\n",
    "from infrasap import aggregator\n",
    "from shapely.wkt import loads\n",
    "import infrasap.rai_calculator as rai"
   ]
  },
  {
   "cell_type": "code",
   "execution_count": 3,
   "metadata": {},
   "outputs": [],
   "source": [
    "country = 'zimbabwe'\n",
    "iso3 = 'ZWE'\n",
    "# epsg = 32638"
   ]
  },
  {
   "cell_type": "markdown",
   "metadata": {},
   "source": [
    "### Load data"
   ]
  },
  {
   "cell_type": "code",
   "execution_count": 4,
   "metadata": {},
   "outputs": [],
   "source": [
    "# base_in = \"/home/public/Data/PROJECTS/INFRA_SAP\"\n",
    "# in_folder = os.path.join(base_in, iso3)\n",
    "\n",
    "# # define data paths\n",
    "# focal_admin2 = os.path.join(in_folder, \"admin.shp\")\n",
    "# focal_osm = os.path.join(in_folder, f\"{country}-latest.osm.pbf\")\n",
    "# pop_name = \"WP_2020_1km\"\n",
    "# wp_1km = os.path.join(in_folder, f\"{pop_name}.tif\")\n",
    "# urban_extents = os.path.join(in_folder, \"urban_extents.shp\")\n",
    "# airports = os.path.join(in_folder, \"airports_intl.shp\")\n",
    "# ports = os.path.join(in_folder, \"ports.shp\")\n",
    "# borders = os.path.join(in_folder, \"borders.shp\")"
   ]
  },
  {
   "cell_type": "code",
   "execution_count": 5,
   "metadata": {},
   "outputs": [],
   "source": [
    "# out_folder = \"/home/wb514197/data/uruguay\"\n",
    "# if not os.path.exists(out_folder):\n",
    "#     os.makedirs(out_folder)"
   ]
  },
  {
   "cell_type": "code",
   "execution_count": 63,
   "metadata": {},
   "outputs": [],
   "source": [
    "# in_folder = \"/home/public/Data/PROJECTS/infraSAP_URY/origins\"\n",
    "# pop_name = \"ury_ppp_2020_UNadj_agg6\"\n",
    "# wp_1km = os.path.join(in_folder, f\"{pop_name}.tif\")"
   ]
  },
  {
   "cell_type": "code",
   "execution_count": 5,
   "metadata": {},
   "outputs": [],
   "source": [
    "base_in = \"/home/public/Data/PROJECTS/INFRA_SAP\"\n",
    "# base_in = \"/home/wb514197/data/INFRA_SAP\"\n",
    "in_folder = os.path.join(base_in, iso3)\n",
    "\n",
    "# define data paths\n",
    "focal_admin2 = os.path.join(in_folder, \"admin.shp\")\n",
    "focal_osm = os.path.join(in_folder, f\"{country}-latest.osm.pbf\")\n",
    "pop_name = \"WP_2020_1km\"\n",
    "wp_1km = os.path.join(in_folder, f\"{pop_name}.tif\")\n",
    "urban_extents = os.path.join(in_folder, \"urban_extents.shp\")\n",
    "airports = os.path.join(in_folder, \"airports_intl.shp\")\n",
    "ports = os.path.join(in_folder, \"ports.shp\")\n",
    "borders = os.path.join(in_folder, \"borders.shp\")\n",
    "\n",
    "base_out = \"/home/wb514197/data/INFRA_SAP\" # GOT permission denied using public \n",
    "out_folder = os.path.join(base_out, iso3)\n",
    "# if not os.path.exists(out_folder):\n",
    "#     os.makedirs(out_folder)\n",
    "\n",
    "# out_folder = os.path.join(in_folder, \"output\")\n",
    "# out_folder = os.path.join(in_folder, \"out\")"
   ]
  },
  {
   "cell_type": "code",
   "execution_count": 6,
   "metadata": {},
   "outputs": [],
   "source": [
    "tables_path = os.path.join(out_folder, 'tables', 'new')\n",
    "if not os.path.exists(tables_path):\n",
    "    os.mkdir(tables_path)"
   ]
  },
  {
   "cell_type": "code",
   "execution_count": 7,
   "metadata": {},
   "outputs": [],
   "source": [
    "target = gpd.read_file(focal_admin2)"
   ]
  },
  {
   "cell_type": "markdown",
   "metadata": {},
   "source": [
    "### 1. RAI"
   ]
  },
  {
   "cell_type": "code",
   "execution_count": 7,
   "metadata": {},
   "outputs": [
    {
     "name": "stderr",
     "output_type": "stream",
     "text": [
      "/home/wb514197/.conda/envs/geo/lib/python3.7/site-packages/pyproj/crs/crs.py:55: FutureWarning: '+init=<authority>:<code>' syntax is deprecated. '<authority>:<code>' is the preferred initialization method. When making the change, be mindful of axis order changes: https://pyproj4.github.io/pyproj/stable/gotchas.html#axis-order-changes-in-proj-6\n",
      "  return _prepare_from_string(\" \".join(pjargs))\n",
      "/home/wb514197/.conda/envs/geo/lib/python3.7/site-packages/pyproj/crs/crs.py:55: FutureWarning: '+init=<authority>:<code>' syntax is deprecated. '<authority>:<code>' is the preferred initialization method. When making the change, be mindful of axis order changes: https://pyproj4.github.io/pyproj/stable/gotchas.html#axis-order-changes-in-proj-6\n",
      "  return _prepare_from_string(\" \".join(pjargs))\n"
     ]
    },
    {
     "name": "stdout",
     "output_type": "stream",
     "text": [
      "CPU times: user 41.6 s, sys: 392 ms, total: 42 s\n",
      "Wall time: 41.8 s\n"
     ]
    }
   ],
   "source": [
    "%%time\n",
    "rai_roadnetwork = rai.extract_rai_network(focal_osm, epsg=epsg)"
   ]
  },
  {
   "cell_type": "code",
   "execution_count": 8,
   "metadata": {},
   "outputs": [],
   "source": [
    "rai_roadnetwork = rai_roadnetwork.to_crs('EPSG:4326')"
   ]
  },
  {
   "cell_type": "code",
   "execution_count": 9,
   "metadata": {
    "scrolled": true
   },
   "outputs": [
    {
     "name": "stdout",
     "output_type": "stream",
     "text": [
      "CPU times: user 15.8 s, sys: 23.9 ms, total: 15.9 s\n",
      "Wall time: 15.9 s\n"
     ]
    }
   ],
   "source": [
    "%%time\n",
    "rai = rai.calculate_rai(target, \"OBJECTID\", rio.open(wp_1km), rai_roadnetwork, tables_path)"
   ]
  },
  {
   "cell_type": "code",
   "execution_count": 10,
   "metadata": {},
   "outputs": [
    {
     "data": {
      "text/html": [
       "<div>\n",
       "<style scoped>\n",
       "    .dataframe tbody tr th:only-of-type {\n",
       "        vertical-align: middle;\n",
       "    }\n",
       "\n",
       "    .dataframe tbody tr th {\n",
       "        vertical-align: top;\n",
       "    }\n",
       "\n",
       "    .dataframe thead th {\n",
       "        text-align: right;\n",
       "    }\n",
       "</style>\n",
       "<table border=\"1\" class=\"dataframe\">\n",
       "  <thead>\n",
       "    <tr style=\"text-align: right;\">\n",
       "      <th></th>\n",
       "      <th>RAI_POP_1</th>\n",
       "      <th>ID</th>\n",
       "      <th>RAI_POP_2</th>\n",
       "      <th>RAI_POP_3</th>\n",
       "      <th>RAI_POP_4</th>\n",
       "      <th>POP</th>\n",
       "    </tr>\n",
       "  </thead>\n",
       "  <tbody>\n",
       "    <tr>\n",
       "      <th>0</th>\n",
       "      <td>21231.535156</td>\n",
       "      <td>14067</td>\n",
       "      <td>79563.390625</td>\n",
       "      <td>101522.109375</td>\n",
       "      <td>113246.218750</td>\n",
       "      <td>139532.656250</td>\n",
       "    </tr>\n",
       "    <tr>\n",
       "      <th>1</th>\n",
       "      <td>2110.793457</td>\n",
       "      <td>14068</td>\n",
       "      <td>13114.705078</td>\n",
       "      <td>13696.375977</td>\n",
       "      <td>21390.917969</td>\n",
       "      <td>39845.968750</td>\n",
       "    </tr>\n",
       "    <tr>\n",
       "      <th>2</th>\n",
       "      <td>27424.113281</td>\n",
       "      <td>14069</td>\n",
       "      <td>27555.964844</td>\n",
       "      <td>28926.244141</td>\n",
       "      <td>32268.984375</td>\n",
       "      <td>48604.304688</td>\n",
       "    </tr>\n",
       "    <tr>\n",
       "      <th>3</th>\n",
       "      <td>11647.585938</td>\n",
       "      <td>14070</td>\n",
       "      <td>14191.382812</td>\n",
       "      <td>17667.683594</td>\n",
       "      <td>20671.757812</td>\n",
       "      <td>52190.277344</td>\n",
       "    </tr>\n",
       "    <tr>\n",
       "      <th>4</th>\n",
       "      <td>633021.625000</td>\n",
       "      <td>14071</td>\n",
       "      <td>649223.750000</td>\n",
       "      <td>669919.937500</td>\n",
       "      <td>674469.375000</td>\n",
       "      <td>677517.062500</td>\n",
       "    </tr>\n",
       "  </tbody>\n",
       "</table>\n",
       "</div>"
      ],
      "text/plain": [
       "       RAI_POP_1     ID      RAI_POP_2      RAI_POP_3      RAI_POP_4  \\\n",
       "0   21231.535156  14067   79563.390625  101522.109375  113246.218750   \n",
       "1    2110.793457  14068   13114.705078   13696.375977   21390.917969   \n",
       "2   27424.113281  14069   27555.964844   28926.244141   32268.984375   \n",
       "3   11647.585938  14070   14191.382812   17667.683594   20671.757812   \n",
       "4  633021.625000  14071  649223.750000  669919.937500  674469.375000   \n",
       "\n",
       "             POP  \n",
       "0  139532.656250  \n",
       "1   39845.968750  \n",
       "2   48604.304688  \n",
       "3   52190.277344  \n",
       "4  677517.062500  "
      ]
     },
     "execution_count": 10,
     "metadata": {},
     "output_type": "execute_result"
    }
   ],
   "source": [
    "rai.head()"
   ]
  },
  {
   "cell_type": "code",
   "execution_count": 18,
   "metadata": {},
   "outputs": [],
   "source": [
    "rai.loc[rai.RAI_POP_1<0, \"RAI_POP_1\"] = 0"
   ]
  },
  {
   "cell_type": "code",
   "execution_count": 21,
   "metadata": {},
   "outputs": [],
   "source": [
    "rai['RAI_Percent_1'] = rai.RAI_POP_1/rai.POP\n",
    "rai['RAI_Percent_2'] = rai.RAI_POP_2/rai.POP\n",
    "rai['RAI_Percent_3'] = rai.RAI_POP_3/rai.POP\n",
    "rai['RAI_Percent_4'] = rai.RAI_POP_4/rai.POP"
   ]
  },
  {
   "cell_type": "code",
   "execution_count": 22,
   "metadata": {},
   "outputs": [],
   "source": [
    "# don't need this anymore\n",
    "rai.rename(columns={'ID':'OBJECTID'}, inplace=True)\n",
    "rai = rai[['OBJECTID','POP','RAI_POP_1', 'RAI_POP_2', 'RAI_POP_3', 'RAI_POP_4',\n",
    "           'RAI_Percent_1', 'RAI_Percent_2', 'RAI_Percent_3', 'RAI_Percent_4']]\n",
    "rai = target.merge(rai, on=\"OBJECTID\")\n",
    "rai.drop(['geometry','Shape_Leng','Shape_Area'], axis=1, inplace=True)"
   ]
  },
  {
   "cell_type": "code",
   "execution_count": 23,
   "metadata": {},
   "outputs": [],
   "source": [
    "rai.to_excel(os.path.join(tables_path, \"1Rural Access to Roads.xlsx\"), index=False)"
   ]
  },
  {
   "cell_type": "markdown",
   "metadata": {},
   "source": [
    "### 2. Reload OD Matrix"
   ]
  },
  {
   "cell_type": "code",
   "execution_count": 30,
   "metadata": {},
   "outputs": [],
   "source": [
    "OD = pd.read_csv(os.path.join(out_folder, 'OD_09_09.csv'), header=[0,1], index_col=0)"
   ]
  },
  {
   "cell_type": "code",
   "execution_count": 32,
   "metadata": {},
   "outputs": [],
   "source": [
    "OD['city'] = OD['city'].apply(lambda x: (x/3600))\n",
    "# OD['port'] = OD['port'].apply(lambda x: (x/3600))\n",
    "OD['border'] = OD['border'].apply(lambda x: (x/3600))\n",
    "OD['airport'] = OD['airport'].apply(lambda x: (x/3600))"
   ]
  },
  {
   "cell_type": "markdown",
   "metadata": {},
   "source": [
    "### 3. District-level summaries"
   ]
  },
  {
   "cell_type": "markdown",
   "metadata": {},
   "source": [
    "**Percentage of rural population with access to a main city (>50k inhabitants) in XX hours**"
   ]
  },
  {
   "cell_type": "code",
   "execution_count": 34,
   "metadata": {},
   "outputs": [],
   "source": [
    "dest_type='city'\n",
    "rural=True\n",
    "thresholds=[0,0.5,1,1.5,2,3,4,5,6,7,10,1000] # hours\n",
    "rural_access = aggregator.calculate_access_percentages(OD, target, 'city', True, urban_extents, thresholds=thresholds)"
   ]
  },
  {
   "cell_type": "code",
   "execution_count": 35,
   "metadata": {},
   "outputs": [],
   "source": [
    "rural_access.rename(columns = {\n",
    "    '(10.0, 1000.0]':'> 10.0',\n",
    "    '(10.0, 1000.0] pop':'> 10.0 pop'\n",
    "}, inplace=True)\n",
    "rural_access.drop(columns=['geometry','Shape_Leng','Shape_Area'], inplace=True)"
   ]
  },
  {
   "cell_type": "code",
   "execution_count": 36,
   "metadata": {},
   "outputs": [
    {
     "data": {
      "text/plain": [
       "'/home/wb514197/data/INFRA_SAP/ZWE/tables/new'"
      ]
     },
     "execution_count": 36,
     "metadata": {},
     "output_type": "execute_result"
    }
   ],
   "source": [
    "tables_path"
   ]
  },
  {
   "cell_type": "code",
   "execution_count": 37,
   "metadata": {},
   "outputs": [],
   "source": [
    "rural_access.to_excel(os.path.join(tables_path, \"2Rural Access to Cities.xlsx\"), index=False)"
   ]
  },
  {
   "cell_type": "markdown",
   "metadata": {},
   "source": [
    "**Travel time to closest city**"
   ]
  },
  {
   "cell_type": "code",
   "execution_count": 38,
   "metadata": {},
   "outputs": [],
   "source": [
    "city_tt = aggregator.calculate_access_percentages(OD, target, 'city', thresholds=thresholds)\n",
    "city_tt.rename(columns = {\n",
    "    '(10.0, 1000.0]':'> 10.0',\n",
    "    '(10.0, 1000.0] pop':'> 10.0 pop'\n",
    "}, inplace=True)\n",
    "city_tt.drop(columns=['geometry','Shape_Leng','Shape_Area'], inplace=True)\n",
    "city_tt.to_excel(os.path.join(tables_path, \"3Travel Time to Nearest City.xlsx\"), index=False)"
   ]
  },
  {
   "cell_type": "markdown",
   "metadata": {},
   "source": [
    "**Travel time to capital**"
   ]
  },
  {
   "cell_type": "code",
   "execution_count": 39,
   "metadata": {},
   "outputs": [],
   "source": [
    "dest_all = pd.read_csv(os.path.join(out_folder, 'destination_all.csv'), index_col=0)\n",
    "cap_idx = dest_all.sort_values('Pop', ascending=False).iloc[[0]].index[0]"
   ]
  },
  {
   "cell_type": "code",
   "execution_count": 40,
   "metadata": {},
   "outputs": [],
   "source": [
    "capital_tt = aggregator.calculate_access_percentages(OD, target, 'city', thresholds=thresholds, capital=str(cap_idx))\n",
    "capital_tt.rename(columns = {\n",
    "    '(10.0, 1000.0]':'> 10.0',\n",
    "    '(10.0, 1000.0] pop':'> 10.0 pop'\n",
    "}, inplace=True)\n",
    "capital_tt.drop(columns=['geometry','Shape_Leng','Shape_Area'], inplace=True)\n",
    "capital_tt.to_excel(os.path.join(tables_path, \"4Travel Time to Capital.xlsx\"), index=False)"
   ]
  },
  {
   "cell_type": "markdown",
   "metadata": {},
   "source": [
    "**Time to drive to the closest land border point**"
   ]
  },
  {
   "cell_type": "code",
   "execution_count": 41,
   "metadata": {},
   "outputs": [],
   "source": [
    "border_tt = aggregator.calculate_access_percentages(OD, target, 'border', thresholds=thresholds)\n",
    "border_tt.rename(columns = {\n",
    "    '(10.0, 1000.0]':'> 10.0',\n",
    "    '(10.0, 1000.0] pop':'> 10.0 pop'\n",
    "}, inplace=True)\n",
    "border_tt.drop(columns=['geometry','Shape_Leng','Shape_Area'], inplace=True)\n",
    "border_tt.to_excel(os.path.join(tables_path, \"6Travel Time to Nearest Border.xlsx\"), index=False)"
   ]
  },
  {
   "cell_type": "markdown",
   "metadata": {},
   "source": [
    "**Time to drive to the closest airport**"
   ]
  },
  {
   "cell_type": "code",
   "execution_count": 42,
   "metadata": {},
   "outputs": [],
   "source": [
    "airport_tt = aggregator.calculate_access_percentages(OD, target, 'airport', thresholds=thresholds)\n",
    "airport_tt.rename(columns = {\n",
    "    '(10.0, 1000.0]':'> 10.0',\n",
    "    '(10.0, 1000.0] pop':'> 10.0 pop'\n",
    "}, inplace=True)\n",
    "airport_tt.drop(columns=['geometry','Shape_Leng','Shape_Area'], inplace=True)\n",
    "airport_tt.to_excel(os.path.join(tables_path, \"5Travel Time to Nearest Airport.xlsx\"), index=False)"
   ]
  },
  {
   "cell_type": "markdown",
   "metadata": {},
   "source": [
    "**Time to drive to the closest port**"
   ]
  },
  {
   "cell_type": "code",
   "execution_count": 43,
   "metadata": {},
   "outputs": [],
   "source": [
    "port_tt = aggregator.calculate_access_percentages(OD, target, 'port', thresholds=thresholds)\n",
    "port_tt.rename(columns = {\n",
    "    '(10.0, 1000.0]':'> 10.0',\n",
    "    '(10.0, 1000.0] pop':'> 10.0 pop'\n",
    "}, inplace=True)\n",
    "port_tt.drop(columns=['geometry','Shape_Leng','Shape_Area'], inplace=True)\n",
    "port_tt.to_excel(os.path.join(tables_path, \"7Travel Time to Nearest Port.xlsx\"), index=False)"
   ]
  },
  {
   "cell_type": "markdown",
   "metadata": {},
   "source": [
    "#### Aggregate to the country-level"
   ]
  },
  {
   "cell_type": "code",
   "execution_count": 43,
   "metadata": {},
   "outputs": [],
   "source": [
    "country_level = aggregator.agregate_to_country(rural_access, \"Rural pop. with access to a main city\")\n",
    "country_level = aggregator.agregate_to_country(city_tt, \"Travel time to closest city\", country_level)\n",
    "country_level = aggregator.agregate_to_country(capital_tt, \"Travel time to capital\", country_level)\n",
    "country_level = aggregator.agregate_to_country(border_tt, \"Travel time to closest border\", country_level)\n",
    "country_level = aggregator.agregate_to_country(airport_tt, \"Travel time to closest airport\", country_level)\n",
    "# country_level = aggregator.agregate_to_country(port_tt, \"Travel time to closest port\", country_level)"
   ]
  },
  {
   "cell_type": "code",
   "execution_count": 44,
   "metadata": {},
   "outputs": [
    {
     "data": {
      "text/html": [
       "<div>\n",
       "<style scoped>\n",
       "    .dataframe tbody tr th:only-of-type {\n",
       "        vertical-align: middle;\n",
       "    }\n",
       "\n",
       "    .dataframe tbody tr th {\n",
       "        vertical-align: top;\n",
       "    }\n",
       "\n",
       "    .dataframe thead th {\n",
       "        text-align: right;\n",
       "    }\n",
       "</style>\n",
       "<table border=\"1\" class=\"dataframe\">\n",
       "  <thead>\n",
       "    <tr style=\"text-align: right;\">\n",
       "      <th></th>\n",
       "      <th>(0.0, 0.5] pop</th>\n",
       "      <th>(0.5, 1.0] pop</th>\n",
       "      <th>(1.0, 1.5] pop</th>\n",
       "      <th>(1.5, 2.0] pop</th>\n",
       "      <th>(2.0, 3.0] pop</th>\n",
       "      <th>(3.0, 4.0] pop</th>\n",
       "      <th>(4.0, 5.0] pop</th>\n",
       "      <th>(5.0, 6.0] pop</th>\n",
       "      <th>(6.0, 7.0] pop</th>\n",
       "      <th>(7.0, 10.0] pop</th>\n",
       "      <th>&gt; 10.0 pop</th>\n",
       "    </tr>\n",
       "  </thead>\n",
       "  <tbody>\n",
       "    <tr>\n",
       "      <th>Rural pop. with access to a main city</th>\n",
       "      <td>0.043582</td>\n",
       "      <td>0.090376</td>\n",
       "      <td>0.092618</td>\n",
       "      <td>0.089644</td>\n",
       "      <td>0.187562</td>\n",
       "      <td>0.166555</td>\n",
       "      <td>0.130042</td>\n",
       "      <td>0.085143</td>\n",
       "      <td>0.050613</td>\n",
       "      <td>0.052416</td>\n",
       "      <td>0.011448</td>\n",
       "    </tr>\n",
       "    <tr>\n",
       "      <th>Travel time to closest city</th>\n",
       "      <td>0.270737</td>\n",
       "      <td>0.110511</td>\n",
       "      <td>0.064145</td>\n",
       "      <td>0.060745</td>\n",
       "      <td>0.138902</td>\n",
       "      <td>0.117844</td>\n",
       "      <td>0.093140</td>\n",
       "      <td>0.058528</td>\n",
       "      <td>0.036219</td>\n",
       "      <td>0.039083</td>\n",
       "      <td>0.010145</td>\n",
       "    </tr>\n",
       "    <tr>\n",
       "      <th>Travel time to capital</th>\n",
       "      <td>0.127394</td>\n",
       "      <td>0.061400</td>\n",
       "      <td>0.017893</td>\n",
       "      <td>0.021021</td>\n",
       "      <td>0.060205</td>\n",
       "      <td>0.070143</td>\n",
       "      <td>0.058886</td>\n",
       "      <td>0.074577</td>\n",
       "      <td>0.081878</td>\n",
       "      <td>0.184630</td>\n",
       "      <td>0.241972</td>\n",
       "    </tr>\n",
       "    <tr>\n",
       "      <th>Travel time to closest border</th>\n",
       "      <td>0.022080</td>\n",
       "      <td>0.009728</td>\n",
       "      <td>0.010751</td>\n",
       "      <td>0.012618</td>\n",
       "      <td>0.072935</td>\n",
       "      <td>0.061158</td>\n",
       "      <td>0.077292</td>\n",
       "      <td>0.084638</td>\n",
       "      <td>0.247886</td>\n",
       "      <td>0.306293</td>\n",
       "      <td>0.094621</td>\n",
       "    </tr>\n",
       "    <tr>\n",
       "      <th>Travel time to closest airport</th>\n",
       "      <td>0.091966</td>\n",
       "      <td>0.134492</td>\n",
       "      <td>0.028078</td>\n",
       "      <td>0.021049</td>\n",
       "      <td>0.072688</td>\n",
       "      <td>0.083249</td>\n",
       "      <td>0.091962</td>\n",
       "      <td>0.106467</td>\n",
       "      <td>0.101457</td>\n",
       "      <td>0.193902</td>\n",
       "      <td>0.074689</td>\n",
       "    </tr>\n",
       "  </tbody>\n",
       "</table>\n",
       "</div>"
      ],
      "text/plain": [
       "                                       (0.0, 0.5] pop  (0.5, 1.0] pop  \\\n",
       "Rural pop. with access to a main city        0.043582        0.090376   \n",
       "Travel time to closest city                  0.270737        0.110511   \n",
       "Travel time to capital                       0.127394        0.061400   \n",
       "Travel time to closest border                0.022080        0.009728   \n",
       "Travel time to closest airport               0.091966        0.134492   \n",
       "\n",
       "                                       (1.0, 1.5] pop  (1.5, 2.0] pop  \\\n",
       "Rural pop. with access to a main city        0.092618        0.089644   \n",
       "Travel time to closest city                  0.064145        0.060745   \n",
       "Travel time to capital                       0.017893        0.021021   \n",
       "Travel time to closest border                0.010751        0.012618   \n",
       "Travel time to closest airport               0.028078        0.021049   \n",
       "\n",
       "                                       (2.0, 3.0] pop  (3.0, 4.0] pop  \\\n",
       "Rural pop. with access to a main city        0.187562        0.166555   \n",
       "Travel time to closest city                  0.138902        0.117844   \n",
       "Travel time to capital                       0.060205        0.070143   \n",
       "Travel time to closest border                0.072935        0.061158   \n",
       "Travel time to closest airport               0.072688        0.083249   \n",
       "\n",
       "                                       (4.0, 5.0] pop  (5.0, 6.0] pop  \\\n",
       "Rural pop. with access to a main city        0.130042        0.085143   \n",
       "Travel time to closest city                  0.093140        0.058528   \n",
       "Travel time to capital                       0.058886        0.074577   \n",
       "Travel time to closest border                0.077292        0.084638   \n",
       "Travel time to closest airport               0.091962        0.106467   \n",
       "\n",
       "                                       (6.0, 7.0] pop  (7.0, 10.0] pop  \\\n",
       "Rural pop. with access to a main city        0.050613         0.052416   \n",
       "Travel time to closest city                  0.036219         0.039083   \n",
       "Travel time to capital                       0.081878         0.184630   \n",
       "Travel time to closest border                0.247886         0.306293   \n",
       "Travel time to closest airport               0.101457         0.193902   \n",
       "\n",
       "                                       > 10.0 pop  \n",
       "Rural pop. with access to a main city    0.011448  \n",
       "Travel time to closest city              0.010145  \n",
       "Travel time to capital                   0.241972  \n",
       "Travel time to closest border            0.094621  \n",
       "Travel time to closest airport           0.074689  "
      ]
     },
     "execution_count": 44,
     "metadata": {},
     "output_type": "execute_result"
    }
   ],
   "source": [
    "country_level"
   ]
  },
  {
   "cell_type": "markdown",
   "metadata": {},
   "source": [
    "#### Pop-weighted average country-level"
   ]
  },
  {
   "cell_type": "code",
   "execution_count": 45,
   "metadata": {},
   "outputs": [],
   "source": [
    "raster_path = wp_1km"
   ]
  },
  {
   "cell_type": "code",
   "execution_count": 46,
   "metadata": {},
   "outputs": [
    {
     "data": {
      "text/plain": [
       "'/home/public/Data/PROJECTS/INFRA_SAP/ZWE/WP_2020_1km.tif'"
      ]
     },
     "execution_count": 46,
     "metadata": {},
     "output_type": "execute_result"
    }
   ],
   "source": [
    "raster_path"
   ]
  },
  {
   "cell_type": "code",
   "execution_count": 47,
   "metadata": {},
   "outputs": [
    {
     "data": {
      "text/plain": [
       "'/home/wb514197/data/INFRA_SAP/ZWE'"
      ]
     },
     "execution_count": 47,
     "metadata": {},
     "output_type": "execute_result"
    }
   ],
   "source": [
    "out_folder"
   ]
  },
  {
   "cell_type": "code",
   "execution_count": 49,
   "metadata": {},
   "outputs": [],
   "source": [
    "national_average = aggregator.pop_weighted_average_national(os.path.join(out_folder,'travel_time','cities_min_tt.tif'), raster_path, 'Travel time to closest city')\n",
    "national_average = aggregator.pop_weighted_average_national(os.path.join(out_folder,'travel_time','capital_tt.tif'), raster_path, 'Travel time to capital', national_average)\n",
    "national_average = aggregator.pop_weighted_average_national(os.path.join(out_folder,'travel_time','borders_min_tt.tif'), raster_path, 'Travel time to closest border', national_average)\n",
    "national_average = aggregator.pop_weighted_average_national(os.path.join(out_folder,'travel_time','airport_min_tt.tif'), raster_path, 'Travel time to closest airport', national_average)\n",
    "# national_average = aggregator.pop_weighted_average_national(os.path.join(out_folder,'travel_time_k5','port_min_tt.tif'), raster_path, 'Travel time to closest port', national_average)"
   ]
  },
  {
   "cell_type": "code",
   "execution_count": 50,
   "metadata": {},
   "outputs": [],
   "source": [
    "country_level = country_level.join(national_average)"
   ]
  },
  {
   "cell_type": "code",
   "execution_count": 51,
   "metadata": {},
   "outputs": [],
   "source": [
    "country_level.rename(columns = {\n",
    "    '(0.0, 0.5] pop':'(0.0, 0.5]',\n",
    "    '(0.5, 1.0] pop':'(0.5, 1.0]',\n",
    "    '(1.0, 1.5] pop':'(1.0, 1.5]',\n",
    "    '(1.5, 2.0] pop':'(1.5, 2.0]',\n",
    "    '(2.0, 3.0] pop':'(2.0, 3.0]',\n",
    "    '(3.0, 4.0] pop':'(3.0, 4.0]',\n",
    "    '(4.0, 5.0] pop':'(4.0, 5.0]',\n",
    "    '(5.0, 6.0] pop':'(5.0, 6.0]',\n",
    "    '(6.0, 7.0] pop':'(6.0, 7.0]',\n",
    "    '(7.0, 10.0] pop':'(7.0, 10.0]',\n",
    "    '> 10.0 pop':'> 10.0'  \n",
    "}, inplace=True)\n",
    "country_level.to_excel(os.path.join(tables_path, \"9National Level Aggregates.xlsx\"), index=True)"
   ]
  },
  {
   "cell_type": "markdown",
   "metadata": {},
   "source": [
    "#### Pop-weighted average by district"
   ]
  },
  {
   "cell_type": "code",
   "execution_count": 41,
   "metadata": {},
   "outputs": [],
   "source": [
    "weighted_average = aggregator.pop_weighted_average(target, os.path.join(out_folder,'travel_time','cities_min_tt.tif'), raster_path, 'tt_min_city')\n",
    "weighted_average = aggregator.pop_weighted_average(target, os.path.join(out_folder,'travel_time','capital_tt.tif'), raster_path, 'tt_capital', table=weighted_average)\n",
    "weighted_average = aggregator.pop_weighted_average(target, os.path.join(out_folder,'travel_time','borders_min_tt.tif'), raster_path, 'tt_border', table=weighted_average)\n",
    "weighted_average = aggregator.pop_weighted_average(target, os.path.join(out_folder,'travel_time','airport_min_tt.tif'), raster_path, 'tt_airport', table=weighted_average)\n",
    "weighted_average = aggregator.pop_weighted_average(target, os.path.join(out_folder,'travel_time','port_min_tt.tif'), raster_path, 'tt_port', table=weighted_average)\n",
    "weighted_average = aggregator.pop_weighted_average(target, os.path.join(out_folder,'travel_distance','cities_min_dist.tif'), raster_path, 'dist_cities', weighted_average)\n",
    "weighted_average = aggregator.pop_weighted_average(target, os.path.join(out_folder,'travel_distance','airport_min_dist.tif'), raster_path, 'dist_airport', weighted_average)\n",
    "weighted_average = aggregator.pop_weighted_average(target, os.path.join(out_folder,'travel_distance','port_min_dist.tif'), raster_path, 'dist_ports', weighted_average)\n",
    "weighted_average = aggregator.pop_weighted_average(target, os.path.join(out_folder,'travel_distance','borders_min_dist.tif'), raster_path, 'dist_borders', weighted_average)\n",
    "weighted_average = aggregator.pop_weighted_average(target, os.path.join(out_folder,'travel_distance','capital_dist.tif'), raster_path, 'dist_capital',weighted_average)"
   ]
  },
  {
   "cell_type": "markdown",
   "metadata": {},
   "source": [
    "#### Market Access"
   ]
  },
  {
   "cell_type": "code",
   "execution_count": 42,
   "metadata": {},
   "outputs": [],
   "source": [
    "out_access = os.path.join(out_folder, 'access')"
   ]
  },
  {
   "cell_type": "code",
   "execution_count": 43,
   "metadata": {},
   "outputs": [],
   "source": [
    "ma5 = aggregator.pop_weighted_average(target, os.path.join(out_access,f\"access_cities_d5.tif\"), raster_path, 'ma_5')\n",
    "ma6 = aggregator.pop_weighted_average(target, os.path.join(out_access,f\"access_cities_d6.tif\"), raster_path, 'ma_6')\n",
    "ma7 = aggregator.pop_weighted_average(target, os.path.join(out_access,f\"access_cities_d7.tif\"), raster_path, 'ma_7')\n",
    "ma8 = aggregator.pop_weighted_average(target, os.path.join(out_access,f\"access_cities_d8.tif\"), raster_path, 'ma_8')\n",
    "ma9 = aggregator.pop_weighted_average(target, os.path.join(out_access,f\"access_cities_d9.tif\"), raster_path, 'ma_9')"
   ]
  },
  {
   "cell_type": "code",
   "execution_count": 44,
   "metadata": {},
   "outputs": [],
   "source": [
    "ma = pd.concat([ma5, ma6[['ma_6']], ma7[['ma_7']], ma8[['ma_8']], ma9[['ma_9']]], axis=1)"
   ]
  },
  {
   "cell_type": "markdown",
   "metadata": {},
   "source": [
    "#### Combine district-level data"
   ]
  },
  {
   "cell_type": "code",
   "execution_count": 45,
   "metadata": {},
   "outputs": [],
   "source": [
    "district_summary = weighted_average.merge(ma[['OBJECTID','ma_5','ma_6','ma_7','ma_8','ma_9']], on=\"OBJECTID\")"
   ]
  },
  {
   "cell_type": "code",
   "execution_count": 46,
   "metadata": {},
   "outputs": [
    {
     "data": {
      "text/plain": [
       "Index(['OBJECTID', 'ISO_A2', 'WB_ADM1_CO', 'WB_ADM0_CO', 'WB_ADM0_NA',\n",
       "       'WB_ADM1_NA', 'WB_ADM2_CO', 'WB_ADM2_NA', 'ISO3', 'POP', 'RAI_POP_1',\n",
       "       'RAI_POP_2', 'RAI_POP_3', 'RAI_POP_4', 'RAI_Percent_1', 'RAI_Percent_2',\n",
       "       'RAI_Percent_3', 'RAI_Percent_4'],\n",
       "      dtype='object')"
      ]
     },
     "execution_count": 46,
     "metadata": {},
     "output_type": "execute_result"
    }
   ],
   "source": [
    "rai.columns"
   ]
  },
  {
   "cell_type": "code",
   "execution_count": 47,
   "metadata": {},
   "outputs": [],
   "source": [
    "# rai = pd.read_excel(os.path.join(tables_path, '1Rural Access to Roads.xlsx'))\n",
    "rai = rai[['OBJECTID','RAI_Percent_1','RAI_Percent_2', 'RAI_Percent_3', 'RAI_Percent_4']]\n",
    "district_summary = district_summary.merge(rai, on='OBJECTID')"
   ]
  },
  {
   "cell_type": "code",
   "execution_count": 51,
   "metadata": {},
   "outputs": [],
   "source": [
    "hubs = pd.read_excel(os.path.join(tables_path, '8Travel Time to Regional Hub.xlsx'))\n",
    "hubs = hubs.rename(columns={'Time (hrs)':'tt_regional', 'Name1':'hub_name'}) # Name1 'Regional Hub Name'\n",
    "hubs = hubs[['OBJECTID','tt_regional','hub_name']]\n",
    "district_summary = district_summary.merge(hubs, on='OBJECTID')"
   ]
  },
  {
   "cell_type": "code",
   "execution_count": 52,
   "metadata": {},
   "outputs": [],
   "source": [
    "district_summary.to_file(os.path.join(out_folder,'admin_join.shp'), driver='ESRI Shapefile')"
   ]
  },
  {
   "cell_type": "code",
   "execution_count": 53,
   "metadata": {},
   "outputs": [],
   "source": [
    "district_table = district_summary.copy()\n",
    "district_table.drop(columns=['geometry','Shape_Leng','Shape_Area'], inplace=True)\n",
    "district_table.to_excel(os.path.join(tables_path, \"10District Level Summary.xlsx\"), index=False)"
   ]
  },
  {
   "cell_type": "code",
   "execution_count": 54,
   "metadata": {
    "scrolled": true
   },
   "outputs": [
    {
     "data": {
      "text/plain": [
       "Index(['OBJECTID', 'ISO_A2', 'WB_ADM1_CO', 'WB_ADM0_CO', 'WB_ADM0_NA',\n",
       "       'WB_ADM1_NA', 'WB_ADM2_CO', 'WB_ADM2_NA', 'Shape_Leng', 'Shape_Area',\n",
       "       'ISO3', 'geometry', 'tt_min_city', 'tt_capital', 'tt_border',\n",
       "       'tt_airport', 'tt_port', 'dist_cities', 'dist_airport', 'dist_ports',\n",
       "       'dist_borders', 'dist_capital', 'ma_5', 'ma_6', 'ma_7', 'ma_8', 'ma_9',\n",
       "       'RAI_Percent_1', 'RAI_Percent_2', 'RAI_Percent_3', 'RAI_Percent_4',\n",
       "       'tt_regional', 'hub_name'],\n",
       "      dtype='object')"
      ]
     },
     "execution_count": 54,
     "metadata": {},
     "output_type": "execute_result"
    }
   ],
   "source": [
    "district_summary.columns"
   ]
  }
 ],
 "metadata": {
  "kernelspec": {
   "display_name": "GEO",
   "language": "python",
   "name": "geo"
  },
  "language_info": {
   "codemirror_mode": {
    "name": "ipython",
    "version": 3
   },
   "file_extension": ".py",
   "mimetype": "text/x-python",
   "name": "python",
   "nbconvert_exporter": "python",
   "pygments_lexer": "ipython3",
   "version": "3.7.6"
  }
 },
 "nbformat": 4,
 "nbformat_minor": 2
}
