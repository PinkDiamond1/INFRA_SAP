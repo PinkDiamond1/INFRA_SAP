{
 "cells": [
  {
   "cell_type": "markdown",
   "metadata": {},
   "source": [
    "## Country-level INFRA-SAP"
   ]
  },
  {
   "cell_type": "markdown",
   "metadata": {},
   "source": [
    "Create summary statistics at admin-2 and country-level"
   ]
  },
  {
   "cell_type": "code",
   "execution_count": 50,
   "metadata": {},
   "outputs": [
    {
     "name": "stdout",
     "output_type": "stream",
     "text": [
      "The autoreload extension is already loaded. To reload it, use:\n",
      "  %reload_ext autoreload\n"
     ]
    }
   ],
   "source": [
    "import os, sys, time, importlib\n",
    "\n",
    "import geopandas as gpd\n",
    "import pandas as pd\n",
    "import networkx as nx\n",
    "sys.path.append('/home/wb514197/Repos/GOSTnets')\n",
    "\n",
    "import GOSTnets as gn\n",
    "import rasterio as rio\n",
    "from osgeo import gdal\n",
    "import GOSTnets.calculate_od_raw as calcOD\n",
    "import numpy as np\n",
    "\n",
    "%load_ext autoreload\n",
    "%autoreload 2\n",
    "\n",
    "sys.path.append('/home/wb514197/Repos/INFRA_SAP')\n",
    "from infrasap import aggregator\n",
    "from shapely.wkt import loads\n",
    "import infrasap.rai_calculator as rai"
   ]
  },
  {
   "cell_type": "code",
   "execution_count": 2,
   "metadata": {},
   "outputs": [],
   "source": [
    "country = 'costarica' # name of OSM file\n",
    "iso3 = 'CRI'\n",
    "epsg = 32616"
   ]
  },
  {
   "cell_type": "markdown",
   "metadata": {},
   "source": [
    "### Load data"
   ]
  },
  {
   "cell_type": "code",
   "execution_count": 3,
   "metadata": {},
   "outputs": [],
   "source": [
    "base_in = \"/home/public/Data/PROJECTS/INFRA_SAP\"\n",
    "in_folder = os.path.join(base_in, iso3)\n",
    "\n",
    "# define data paths\n",
    "focal_admin2 = os.path.join(in_folder, \"admin.shp\")\n",
    "focal_osm = os.path.join(in_folder, f\"{country}-latest.osm.pbf\")\n",
    "pop_name = \"WP_2020_1km\"\n",
    "wp_1km = os.path.join(in_folder, f\"{pop_name}.tif\")\n",
    "urban_extents = os.path.join(in_folder, \"urban_extents.shp\")\n",
    "airports = os.path.join(in_folder, \"airports.shp\")\n",
    "ports = os.path.join(in_folder, \"ports.shp\")\n",
    "borders = os.path.join(in_folder, \"borders.shp\")\n",
    "G_path = os.path.join(in_folder, 'graph', f\"G_{iso3}.pickle\")\n",
    "\n",
    "base_out = \"/home/wb514197/data/INFRA_SAP\" # GOT permission denied using public \n",
    "out_folder = os.path.join(base_out, iso3)\n",
    "if not os.path.exists(out_folder):\n",
    "    os.makedirs(out_folder)"
   ]
  },
  {
   "cell_type": "code",
   "execution_count": 82,
   "metadata": {},
   "outputs": [],
   "source": [
    "tables_path = os.path.join(out_folder, 'tables')\n",
    "if not os.path.exists(tables_path):\n",
    "    os.mkdir(tables_path)"
   ]
  },
  {
   "cell_type": "code",
   "execution_count": 5,
   "metadata": {},
   "outputs": [],
   "source": [
    "target = gpd.read_file(focal_admin2)"
   ]
  },
  {
   "cell_type": "markdown",
   "metadata": {},
   "source": [
    "### 1. RAI"
   ]
  },
  {
   "cell_type": "code",
   "execution_count": 7,
   "metadata": {},
   "outputs": [
    {
     "name": "stderr",
     "output_type": "stream",
     "text": [
      "/home/wb514197/.conda/envs/geo/lib/python3.7/site-packages/pyproj/crs/crs.py:55: FutureWarning: '+init=<authority>:<code>' syntax is deprecated. '<authority>:<code>' is the preferred initialization method. When making the change, be mindful of axis order changes: https://pyproj4.github.io/pyproj/stable/gotchas.html#axis-order-changes-in-proj-6\n",
      "  return _prepare_from_string(\" \".join(pjargs))\n",
      "/home/wb514197/.conda/envs/geo/lib/python3.7/site-packages/pyproj/crs/crs.py:55: FutureWarning: '+init=<authority>:<code>' syntax is deprecated. '<authority>:<code>' is the preferred initialization method. When making the change, be mindful of axis order changes: https://pyproj4.github.io/pyproj/stable/gotchas.html#axis-order-changes-in-proj-6\n",
      "  return _prepare_from_string(\" \".join(pjargs))\n"
     ]
    },
    {
     "name": "stdout",
     "output_type": "stream",
     "text": [
      "CPU times: user 6min 31s, sys: 2.01 s, total: 6min 33s\n",
      "Wall time: 6min 33s\n"
     ]
    }
   ],
   "source": [
    "%%time\n",
    "rai_roadnetwork = rai.extract_rai_network(focal_osm, epsg=epsg)"
   ]
  },
  {
   "cell_type": "code",
   "execution_count": 10,
   "metadata": {},
   "outputs": [],
   "source": [
    "rai_roadnetwork = rai_roadnetwork.to_crs('EPSG:4326')"
   ]
  },
  {
   "cell_type": "code",
   "execution_count": 51,
   "metadata": {
    "scrolled": true
   },
   "outputs": [
    {
     "name": "stdout",
     "output_type": "stream",
     "text": [
      "CPU times: user 865 ms, sys: 16 ms, total: 881 ms\n",
      "Wall time: 881 ms\n"
     ]
    }
   ],
   "source": [
    "%%time\n",
    "rai = rai.calculate_rai(target, \"OBJECTID\", rio.open(wp_1km), rai_roadnetwork, tables_path)"
   ]
  },
  {
   "cell_type": "code",
   "execution_count": 52,
   "metadata": {},
   "outputs": [
    {
     "data": {
      "text/html": [
       "<div>\n",
       "<style scoped>\n",
       "    .dataframe tbody tr th:only-of-type {\n",
       "        vertical-align: middle;\n",
       "    }\n",
       "\n",
       "    .dataframe tbody tr th {\n",
       "        vertical-align: top;\n",
       "    }\n",
       "\n",
       "    .dataframe thead th {\n",
       "        text-align: right;\n",
       "    }\n",
       "</style>\n",
       "<table border=\"1\" class=\"dataframe\">\n",
       "  <thead>\n",
       "    <tr style=\"text-align: right;\">\n",
       "      <th></th>\n",
       "      <th>RAI_POP_1</th>\n",
       "      <th>ID</th>\n",
       "      <th>RAI_POP_2</th>\n",
       "      <th>RAI_POP_3</th>\n",
       "      <th>RAI_POP_4</th>\n",
       "      <th>POP</th>\n",
       "    </tr>\n",
       "  </thead>\n",
       "  <tbody>\n",
       "    <tr>\n",
       "      <th>0</th>\n",
       "      <td>206833.406250</td>\n",
       "      <td>13111</td>\n",
       "      <td>287415.281250</td>\n",
       "      <td>292675.000000</td>\n",
       "      <td>292714.906250</td>\n",
       "      <td>292959.968750</td>\n",
       "    </tr>\n",
       "    <tr>\n",
       "      <th>1</th>\n",
       "      <td>474.206390</td>\n",
       "      <td>13112</td>\n",
       "      <td>9697.747070</td>\n",
       "      <td>11722.016602</td>\n",
       "      <td>11722.016602</td>\n",
       "      <td>11762.019531</td>\n",
       "    </tr>\n",
       "    <tr>\n",
       "      <th>2</th>\n",
       "      <td>23474.837891</td>\n",
       "      <td>13113</td>\n",
       "      <td>29490.843750</td>\n",
       "      <td>30737.425781</td>\n",
       "      <td>30737.425781</td>\n",
       "      <td>30737.425781</td>\n",
       "    </tr>\n",
       "    <tr>\n",
       "      <th>3</th>\n",
       "      <td>10339.826172</td>\n",
       "      <td>13114</td>\n",
       "      <td>72908.796875</td>\n",
       "      <td>82282.968750</td>\n",
       "      <td>82282.968750</td>\n",
       "      <td>82451.890625</td>\n",
       "    </tr>\n",
       "    <tr>\n",
       "      <th>4</th>\n",
       "      <td>7432.836426</td>\n",
       "      <td>13115</td>\n",
       "      <td>10965.994141</td>\n",
       "      <td>17723.382812</td>\n",
       "      <td>17723.382812</td>\n",
       "      <td>18218.400391</td>\n",
       "    </tr>\n",
       "  </tbody>\n",
       "</table>\n",
       "</div>"
      ],
      "text/plain": [
       "       RAI_POP_1     ID      RAI_POP_2      RAI_POP_3      RAI_POP_4  \\\n",
       "0  206833.406250  13111  287415.281250  292675.000000  292714.906250   \n",
       "1     474.206390  13112    9697.747070   11722.016602   11722.016602   \n",
       "2   23474.837891  13113   29490.843750   30737.425781   30737.425781   \n",
       "3   10339.826172  13114   72908.796875   82282.968750   82282.968750   \n",
       "4    7432.836426  13115   10965.994141   17723.382812   17723.382812   \n",
       "\n",
       "             POP  \n",
       "0  292959.968750  \n",
       "1   11762.019531  \n",
       "2   30737.425781  \n",
       "3   82451.890625  \n",
       "4   18218.400391  "
      ]
     },
     "execution_count": 52,
     "metadata": {},
     "output_type": "execute_result"
    }
   ],
   "source": [
    "rai.head()"
   ]
  },
  {
   "cell_type": "code",
   "execution_count": 53,
   "metadata": {},
   "outputs": [],
   "source": [
    "rai['RAI_Percent_1'] = rai.RAI_POP_1/rai.POP\n",
    "rai['RAI_Percent_2'] = rai.RAI_POP_2/rai.POP\n",
    "rai['RAI_Percent_3'] = rai.RAI_POP_3/rai.POP\n",
    "rai['RAI_Percent_4'] = rai.RAI_POP_4/rai.POP"
   ]
  },
  {
   "cell_type": "code",
   "execution_count": 54,
   "metadata": {},
   "outputs": [],
   "source": [
    "rai = rai[['ID','POP','RAI_POP_1', 'RAI_POP_2', 'RAI_POP_3', 'RAI_POP_4',\n",
    "           'RAI_Percent_1', 'RAI_Percent_2', 'RAI_Percent_3', 'RAI_Percent_4']]\n",
    "rai.rename(columns={'ID':'OBJECTID'}, inplace=True)"
   ]
  },
  {
   "cell_type": "code",
   "execution_count": 58,
   "metadata": {},
   "outputs": [],
   "source": [
    "rai = target.merge(rai, on=\"OBJECTID\")\n",
    "rai.drop(['geometry','Shape_Leng','Shape_Area'], axis=1, inplace=True)\n",
    "rai.to_excel(os.path.join(tables_path, \"1Rural Access to Roads.xlsx\"), index=False)"
   ]
  },
  {
   "cell_type": "markdown",
   "metadata": {},
   "source": [
    "### 2. Reload OD Matrix"
   ]
  },
  {
   "cell_type": "code",
   "execution_count": 64,
   "metadata": {},
   "outputs": [],
   "source": [
    "OD = pd.read_csv(os.path.join(out_folder, 'OD_08_03.csv'), header=[0,1], index_col=0)"
   ]
  },
  {
   "cell_type": "code",
   "execution_count": 66,
   "metadata": {},
   "outputs": [],
   "source": [
    "OD['city'] = OD['city'].apply(lambda x: (x/3600))\n",
    "OD['port'] = OD['port'].apply(lambda x: (x/3600))\n",
    "OD['border'] = OD['border'].apply(lambda x: (x/3600))\n",
    "OD['airport'] = OD['airport'].apply(lambda x: (x/3600))"
   ]
  },
  {
   "cell_type": "markdown",
   "metadata": {},
   "source": [
    "### 3. District-level summaries"
   ]
  },
  {
   "cell_type": "markdown",
   "metadata": {},
   "source": [
    "**Percentage of rural population with access to a main city (>50k inhabitants) in XX hours**"
   ]
  },
  {
   "cell_type": "code",
   "execution_count": 69,
   "metadata": {},
   "outputs": [],
   "source": [
    "dest_type='city'\n",
    "rural=True\n",
    "thresholds=[0,0.5,1,1.5,2,3,4,5,6,7,10,1000] # hours\n",
    "rural_access = aggregator.calculate_access_percentages(OD, target, 'city', True, urban_extents, thresholds=thresholds)"
   ]
  },
  {
   "cell_type": "code",
   "execution_count": 79,
   "metadata": {},
   "outputs": [],
   "source": [
    "rural_access.rename(columns = {\n",
    "    '(10.0, 1000.0]':'> 10.0',\n",
    "    '(10.0, 1000.0] pop':'> 10.0 pop'\n",
    "}, inplace=True)\n",
    "rural_access.drop(columns=['geometry','Shape_Leng','Shape_Area'], inplace=True)"
   ]
  },
  {
   "cell_type": "code",
   "execution_count": null,
   "metadata": {},
   "outputs": [],
   "source": [
    "rural_access.to_excel(os.path.join(tables_path, \"2Rural Access to Cities.xlsx\"), index=False)"
   ]
  },
  {
   "cell_type": "markdown",
   "metadata": {},
   "source": [
    "**Travel time to closest city**"
   ]
  },
  {
   "cell_type": "code",
   "execution_count": 84,
   "metadata": {},
   "outputs": [],
   "source": [
    "city_tt = aggregator.calculate_access_percentages(OD, target, 'city', thresholds=thresholds)\n",
    "city_tt.rename(columns = {\n",
    "    '(10.0, 1000.0]':'> 10.0',\n",
    "    '(10.0, 1000.0] pop':'> 10.0 pop'\n",
    "}, inplace=True)\n",
    "city_tt.drop(columns=['geometry','Shape_Leng','Shape_Area'], inplace=True)\n",
    "city_tt.to_excel(os.path.join(tables_path, \"3Travel Time to Nearest City.xlsx\"), index=False)"
   ]
  },
  {
   "cell_type": "markdown",
   "metadata": {},
   "source": [
    "**Travel time to capital**"
   ]
  },
  {
   "cell_type": "code",
   "execution_count": 87,
   "metadata": {},
   "outputs": [],
   "source": [
    "dest_all = pd.read_csv(os.path.join(out_folder, 'destination_all.csv'), index_col=0)\n",
    "cap_idx = dest_all.sort_values('Pop', ascending=False).iloc[[0]].index[0]"
   ]
  },
  {
   "cell_type": "code",
   "execution_count": 94,
   "metadata": {},
   "outputs": [],
   "source": [
    "capital_tt = aggregator.calculate_access_percentages(OD, target, 'city', thresholds=thresholds, capital=str(cap_idx))\n",
    "capital_tt.rename(columns = {\n",
    "    '(10.0, 1000.0]':'> 10.0',\n",
    "    '(10.0, 1000.0] pop':'> 10.0 pop'\n",
    "}, inplace=True)\n",
    "capital_tt.drop(columns=['geometry','Shape_Leng','Shape_Area'], inplace=True)\n",
    "capital_tt.to_excel(os.path.join(tables_path, \"4Travel Time to Capital.xlsx\"), index=False)"
   ]
  },
  {
   "cell_type": "markdown",
   "metadata": {},
   "source": [
    "**Time to drive to the closest land border point**"
   ]
  },
  {
   "cell_type": "code",
   "execution_count": 97,
   "metadata": {},
   "outputs": [],
   "source": [
    "border_tt = aggregator.calculate_access_percentages(OD, target, 'border', thresholds=thresholds)\n",
    "border_tt.rename(columns = {\n",
    "    '(10.0, 1000.0]':'> 10.0',\n",
    "    '(10.0, 1000.0] pop':'> 10.0 pop'\n",
    "}, inplace=True)\n",
    "border_tt.drop(columns=['geometry','Shape_Leng','Shape_Area'], inplace=True)\n",
    "border_tt.to_excel(os.path.join(tables_path, \"6Travel Time to Nearest Border.xlsx\"), index=False)"
   ]
  },
  {
   "cell_type": "markdown",
   "metadata": {},
   "source": [
    "**Time to drive to the closest airport**"
   ]
  },
  {
   "cell_type": "code",
   "execution_count": 99,
   "metadata": {},
   "outputs": [],
   "source": [
    "airport_tt = aggregator.calculate_access_percentages(OD, target, 'airport', thresholds=thresholds)\n",
    "airport_tt.rename(columns = {\n",
    "    '(10.0, 1000.0]':'> 10.0',\n",
    "    '(10.0, 1000.0] pop':'> 10.0 pop'\n",
    "}, inplace=True)\n",
    "airport_tt.drop(columns=['geometry','Shape_Leng','Shape_Area'], inplace=True)\n",
    "airport_tt.to_excel(os.path.join(tables_path, \"5Travel Time to Nearest Airport.xlsx\"), index=False)"
   ]
  },
  {
   "cell_type": "markdown",
   "metadata": {},
   "source": [
    "**Time to drive to the closest port**"
   ]
  },
  {
   "cell_type": "code",
   "execution_count": 101,
   "metadata": {},
   "outputs": [],
   "source": [
    "port_tt = aggregator.calculate_access_percentages(OD, target, 'port', thresholds=thresholds)\n",
    "port_tt.rename(columns = {\n",
    "    '(10.0, 1000.0]':'> 10.0',\n",
    "    '(10.0, 1000.0] pop':'> 10.0 pop'\n",
    "}, inplace=True)\n",
    "port_tt.drop(columns=['geometry','Shape_Leng','Shape_Area'], inplace=True)\n",
    "port_tt.to_excel(os.path.join(tables_path, \"7Travel Time to Nearest Port.xlsx\"), index=False)"
   ]
  },
  {
   "cell_type": "markdown",
   "metadata": {},
   "source": [
    "#### Aggregate to the country-level"
   ]
  },
  {
   "cell_type": "code",
   "execution_count": 106,
   "metadata": {},
   "outputs": [],
   "source": [
    "country_level = aggregator.agregate_to_country(rural_access, \"Rural pop. with access to a main city\")\n",
    "country_level = aggregator.agregate_to_country(city_tt, \"Travel time to closest city\", country_level)\n",
    "country_level = aggregator.agregate_to_country(capital_tt, \"Travel time to capital\", country_level)\n",
    "country_level = aggregator.agregate_to_country(border_tt, \"Travel time to closest border\", country_level)\n",
    "country_level = aggregator.agregate_to_country(airport_tt, \"Travel time to closest airport\", country_level)\n",
    "country_level = aggregator.agregate_to_country(port_tt, \"Travel time to closest port\", country_level)"
   ]
  },
  {
   "cell_type": "code",
   "execution_count": 124,
   "metadata": {},
   "outputs": [
    {
     "data": {
      "text/html": [
       "<div>\n",
       "<style scoped>\n",
       "    .dataframe tbody tr th:only-of-type {\n",
       "        vertical-align: middle;\n",
       "    }\n",
       "\n",
       "    .dataframe tbody tr th {\n",
       "        vertical-align: top;\n",
       "    }\n",
       "\n",
       "    .dataframe thead th {\n",
       "        text-align: right;\n",
       "    }\n",
       "</style>\n",
       "<table border=\"1\" class=\"dataframe\">\n",
       "  <thead>\n",
       "    <tr style=\"text-align: right;\">\n",
       "      <th></th>\n",
       "      <th>(0.0, 0.5] pop</th>\n",
       "      <th>(0.5, 1.0] pop</th>\n",
       "      <th>(1.0, 1.5] pop</th>\n",
       "      <th>(1.5, 2.0] pop</th>\n",
       "      <th>(2.0, 3.0] pop</th>\n",
       "      <th>(3.0, 4.0] pop</th>\n",
       "      <th>(4.0, 5.0] pop</th>\n",
       "      <th>(5.0, 6.0] pop</th>\n",
       "      <th>(6.0, 7.0] pop</th>\n",
       "      <th>(7.0, 10.0] pop</th>\n",
       "      <th>&gt; 10.0 pop</th>\n",
       "    </tr>\n",
       "  </thead>\n",
       "  <tbody>\n",
       "    <tr>\n",
       "      <th>Rural pop. with access to a main city</th>\n",
       "      <td>0.027794</td>\n",
       "      <td>0.096762</td>\n",
       "      <td>0.121908</td>\n",
       "      <td>0.128795</td>\n",
       "      <td>0.263096</td>\n",
       "      <td>0.150579</td>\n",
       "      <td>0.107248</td>\n",
       "      <td>0.054467</td>\n",
       "      <td>0.043870</td>\n",
       "      <td>0.003236</td>\n",
       "      <td>0.002244</td>\n",
       "    </tr>\n",
       "    <tr>\n",
       "      <th>Travel time to closest city</th>\n",
       "      <td>0.042079</td>\n",
       "      <td>0.102564</td>\n",
       "      <td>0.121199</td>\n",
       "      <td>0.126698</td>\n",
       "      <td>0.256198</td>\n",
       "      <td>0.146300</td>\n",
       "      <td>0.104121</td>\n",
       "      <td>0.053023</td>\n",
       "      <td>0.042507</td>\n",
       "      <td>0.003135</td>\n",
       "      <td>0.002174</td>\n",
       "    </tr>\n",
       "    <tr>\n",
       "      <th>Travel time to capital</th>\n",
       "      <td>0.012913</td>\n",
       "      <td>0.029203</td>\n",
       "      <td>0.039237</td>\n",
       "      <td>0.052300</td>\n",
       "      <td>0.126876</td>\n",
       "      <td>0.138564</td>\n",
       "      <td>0.169447</td>\n",
       "      <td>0.144230</td>\n",
       "      <td>0.101120</td>\n",
       "      <td>0.179317</td>\n",
       "      <td>0.006794</td>\n",
       "    </tr>\n",
       "    <tr>\n",
       "      <th>Travel time to closest border</th>\n",
       "      <td>0.009612</td>\n",
       "      <td>0.020369</td>\n",
       "      <td>0.028512</td>\n",
       "      <td>0.041661</td>\n",
       "      <td>0.083324</td>\n",
       "      <td>0.103444</td>\n",
       "      <td>0.155445</td>\n",
       "      <td>0.174268</td>\n",
       "      <td>0.119525</td>\n",
       "      <td>0.256435</td>\n",
       "      <td>0.007404</td>\n",
       "    </tr>\n",
       "    <tr>\n",
       "      <th>Travel time to closest airport</th>\n",
       "      <td>0.055462</td>\n",
       "      <td>0.091808</td>\n",
       "      <td>0.116738</td>\n",
       "      <td>0.114179</td>\n",
       "      <td>0.227812</td>\n",
       "      <td>0.190796</td>\n",
       "      <td>0.110044</td>\n",
       "      <td>0.057195</td>\n",
       "      <td>0.033211</td>\n",
       "      <td>0.000581</td>\n",
       "      <td>0.002174</td>\n",
       "    </tr>\n",
       "    <tr>\n",
       "      <th>Travel time to closest port</th>\n",
       "      <td>0.012480</td>\n",
       "      <td>0.035056</td>\n",
       "      <td>0.049239</td>\n",
       "      <td>0.066428</td>\n",
       "      <td>0.192382</td>\n",
       "      <td>0.180864</td>\n",
       "      <td>0.079525</td>\n",
       "      <td>0.059966</td>\n",
       "      <td>0.111910</td>\n",
       "      <td>0.208519</td>\n",
       "      <td>0.003631</td>\n",
       "    </tr>\n",
       "  </tbody>\n",
       "</table>\n",
       "</div>"
      ],
      "text/plain": [
       "                                       (0.0, 0.5] pop  (0.5, 1.0] pop  \\\n",
       "Rural pop. with access to a main city        0.027794        0.096762   \n",
       "Travel time to closest city                  0.042079        0.102564   \n",
       "Travel time to capital                       0.012913        0.029203   \n",
       "Travel time to closest border                0.009612        0.020369   \n",
       "Travel time to closest airport               0.055462        0.091808   \n",
       "Travel time to closest port                  0.012480        0.035056   \n",
       "\n",
       "                                       (1.0, 1.5] pop  (1.5, 2.0] pop  \\\n",
       "Rural pop. with access to a main city        0.121908        0.128795   \n",
       "Travel time to closest city                  0.121199        0.126698   \n",
       "Travel time to capital                       0.039237        0.052300   \n",
       "Travel time to closest border                0.028512        0.041661   \n",
       "Travel time to closest airport               0.116738        0.114179   \n",
       "Travel time to closest port                  0.049239        0.066428   \n",
       "\n",
       "                                       (2.0, 3.0] pop  (3.0, 4.0] pop  \\\n",
       "Rural pop. with access to a main city        0.263096        0.150579   \n",
       "Travel time to closest city                  0.256198        0.146300   \n",
       "Travel time to capital                       0.126876        0.138564   \n",
       "Travel time to closest border                0.083324        0.103444   \n",
       "Travel time to closest airport               0.227812        0.190796   \n",
       "Travel time to closest port                  0.192382        0.180864   \n",
       "\n",
       "                                       (4.0, 5.0] pop  (5.0, 6.0] pop  \\\n",
       "Rural pop. with access to a main city        0.107248        0.054467   \n",
       "Travel time to closest city                  0.104121        0.053023   \n",
       "Travel time to capital                       0.169447        0.144230   \n",
       "Travel time to closest border                0.155445        0.174268   \n",
       "Travel time to closest airport               0.110044        0.057195   \n",
       "Travel time to closest port                  0.079525        0.059966   \n",
       "\n",
       "                                       (6.0, 7.0] pop  (7.0, 10.0] pop  \\\n",
       "Rural pop. with access to a main city        0.043870         0.003236   \n",
       "Travel time to closest city                  0.042507         0.003135   \n",
       "Travel time to capital                       0.101120         0.179317   \n",
       "Travel time to closest border                0.119525         0.256435   \n",
       "Travel time to closest airport               0.033211         0.000581   \n",
       "Travel time to closest port                  0.111910         0.208519   \n",
       "\n",
       "                                       > 10.0 pop  \n",
       "Rural pop. with access to a main city    0.002244  \n",
       "Travel time to closest city              0.002174  \n",
       "Travel time to capital                   0.006794  \n",
       "Travel time to closest border            0.007404  \n",
       "Travel time to closest airport           0.002174  \n",
       "Travel time to closest port              0.003631  "
      ]
     },
     "execution_count": 124,
     "metadata": {},
     "output_type": "execute_result"
    }
   ],
   "source": [
    "country_level"
   ]
  },
  {
   "cell_type": "markdown",
   "metadata": {},
   "source": [
    "#### Pop-weighted average country-level"
   ]
  },
  {
   "cell_type": "code",
   "execution_count": 122,
   "metadata": {},
   "outputs": [],
   "source": [
    "national_average = aggregator.pop_weighted_average_national(os.path.join(out_folder,'travel_time','cities_min_tt.tif'), raster_path, 'Travel time to closest city')\n",
    "national_average = aggregator.pop_weighted_average_national(os.path.join(out_folder,'travel_time','capital_tt.tif'), raster_path, 'Travel time to capital', national_average)\n",
    "national_average = aggregator.pop_weighted_average_national(os.path.join(out_folder,'travel_time','borders_min_tt.tif'), raster_path, 'Travel time to closest border', national_average)\n",
    "national_average = aggregator.pop_weighted_average_national(os.path.join(out_folder,'travel_time','airport_min_tt.tif'), raster_path, 'Travel time to closest airport', national_average)\n",
    "national_average = aggregator.pop_weighted_average_national(os.path.join(out_folder,'travel_time','port_min_tt.tif'), raster_path, 'Travel time to closest port', national_average)"
   ]
  },
  {
   "cell_type": "code",
   "execution_count": 127,
   "metadata": {},
   "outputs": [],
   "source": [
    "country_level = country_level.join(national_average)"
   ]
  },
  {
   "cell_type": "code",
   "execution_count": 130,
   "metadata": {},
   "outputs": [],
   "source": [
    "country_level.rename(columns = {\n",
    "    '(0.0, 0.5] pop':'(0.0, 0.5]',\n",
    "    '(0.5, 1.0] pop':'(0.5, 1.0]',\n",
    "    '(1.0, 1.5] pop':'(1.0, 1.5]',\n",
    "    '(1.5, 2.0] pop':'(1.5, 2.0]',\n",
    "    '(2.0, 3.0] pop':'(2.0, 3.0]',\n",
    "    '(3.0, 4.0] pop':'(3.0, 4.0]',\n",
    "    '(4.0, 5.0] pop':'(4.0, 5.0]',\n",
    "    '(5.0, 6.0] pop':'(5.0, 6.0]',\n",
    "    '(6.0, 7.0] pop':'(6.0, 7.0]',\n",
    "    '(7.0, 10.0] pop':'(7.0, 10.0]',\n",
    "    '> 10.0 pop':'> 10.0'  \n",
    "}, inplace=True)\n",
    "country_level.to_excel(os.path.join(tables_path, \"9National Level Aggregates.xlsx\"), index=False)"
   ]
  },
  {
   "cell_type": "markdown",
   "metadata": {},
   "source": [
    "#### Pop-weighted average by district"
   ]
  },
  {
   "cell_type": "code",
   "execution_count": 109,
   "metadata": {},
   "outputs": [],
   "source": [
    "raster_path = wp_1km"
   ]
  },
  {
   "cell_type": "code",
   "execution_count": 112,
   "metadata": {},
   "outputs": [],
   "source": [
    "weighted_average = aggregator.pop_weighted_average(target, os.path.join(out_folder,'travel_time','cities_min_tt.tif'), raster_path, 'tt_min_city')\n",
    "weighted_average = aggregator.pop_weighted_average(target, os.path.join(out_folder,'travel_time','capital_tt.tif'), raster_path, 'tt_capital', table=weighted_average)\n",
    "weighted_average = aggregator.pop_weighted_average(target, os.path.join(out_folder,'travel_time','borders_min_tt.tif'), raster_path, 'tt_border', table=weighted_average)\n",
    "weighted_average = aggregator.pop_weighted_average(target, os.path.join(out_folder,'travel_time','airport_min_tt.tif'), raster_path, 'tt_airport', table=weighted_average)\n",
    "weighted_average = aggregator.pop_weighted_average(target, os.path.join(out_folder,'travel_time','port_min_tt.tif'), raster_path, 'tt_port', table=weighted_average)\n",
    "weighted_average = aggregator.pop_weighted_average(target, os.path.join(out_folder,'travel_distance','cities_min_dist.tif'), raster_path, 'dist_cities', weighted_average)\n",
    "weighted_average = aggregator.pop_weighted_average(target, os.path.join(out_folder,'travel_distance','airport_min_dist.tif'), raster_path, 'dist_airport', weighted_average)\n",
    "weighted_average = aggregator.pop_weighted_average(target, os.path.join(out_folder,'travel_distance','port_min_dist.tif'), raster_path, 'dist_ports', weighted_average)\n",
    "weighted_average = aggregator.pop_weighted_average(target, os.path.join(out_folder,'travel_distance','borders_min_dist.tif'), raster_path, 'dist_borders', weighted_average)\n",
    "weighted_average = aggregator.pop_weighted_average(target, os.path.join(out_folder,'travel_distance','capital_dist.tif'), raster_path, 'dist_capital',weighted_average)"
   ]
  },
  {
   "cell_type": "markdown",
   "metadata": {},
   "source": [
    "#### Market Access"
   ]
  },
  {
   "cell_type": "code",
   "execution_count": 134,
   "metadata": {},
   "outputs": [],
   "source": [
    "out_access = os.path.join(out_folder, 'access')"
   ]
  },
  {
   "cell_type": "code",
   "execution_count": 135,
   "metadata": {},
   "outputs": [],
   "source": [
    "ma5 = aggregator.pop_weighted_average(target, os.path.join(out_access,f\"access_cities_d5.tif\"), raster_path, 'ma_5')\n",
    "ma6 = aggregator.pop_weighted_average(target, os.path.join(out_access,f\"access_cities_d6.tif\"), raster_path, 'ma_6')\n",
    "ma7 = aggregator.pop_weighted_average(target, os.path.join(out_access,f\"access_cities_d7.tif\"), raster_path, 'ma_7')\n",
    "ma8 = aggregator.pop_weighted_average(target, os.path.join(out_access,f\"access_cities_d8.tif\"), raster_path, 'ma_8')\n",
    "ma9 = aggregator.pop_weighted_average(target, os.path.join(out_access,f\"access_cities_d9.tif\"), raster_path, 'ma_9')"
   ]
  },
  {
   "cell_type": "code",
   "execution_count": 136,
   "metadata": {},
   "outputs": [],
   "source": [
    "ma = pd.concat([ma5, ma6[['ma_6']], ma7[['ma_7']], ma8[['ma_8']], ma9[['ma_9']]], axis=1)"
   ]
  },
  {
   "cell_type": "markdown",
   "metadata": {},
   "source": [
    "#### Combine district-level data"
   ]
  },
  {
   "cell_type": "code",
   "execution_count": 152,
   "metadata": {},
   "outputs": [],
   "source": [
    "district_summary = weighted_average.merge(ma[['OBJECTID','ma_5','ma_6','ma_7','ma_8','ma_9']], on=\"OBJECTID\")"
   ]
  },
  {
   "cell_type": "code",
   "execution_count": 153,
   "metadata": {},
   "outputs": [],
   "source": [
    "# rai = pd.read_excel(os.path.join(tables_path, '1Rural Access to Roads.xlsx'))\n",
    "rai = rai[['OBJECTID','RAI_Percent_1','RAI_Percent_2', 'RAI_Percent_3', 'RAI_Percent_4']]\n",
    "district_summary = district_summary.merge(rai, on='OBJECTID')"
   ]
  },
  {
   "cell_type": "code",
   "execution_count": 154,
   "metadata": {},
   "outputs": [],
   "source": [
    "hubs = pd.read_excel(os.path.join(tables_path, '8Travel Time to Regional Hub.xlsx'))\n",
    "hubs = hubs.rename(columns={'Time (hrs)':'tt_regional', 'Regional Hub Name':'hub_name'})\n",
    "hubs = hubs[['OBJECTID','tt_regional','hub_name']]\n",
    "district_summary = district_summary.merge(hubs, on='OBJECTID')"
   ]
  },
  {
   "cell_type": "code",
   "execution_count": 155,
   "metadata": {},
   "outputs": [],
   "source": [
    "district_summary.to_file(os.path.join(out_folder,'admin_join.shp'), driver='ESRI Shapefile')"
   ]
  },
  {
   "cell_type": "code",
   "execution_count": 156,
   "metadata": {},
   "outputs": [],
   "source": [
    "district_table = district_summary.copy()\n",
    "district_table.drop(columns=['geometry','Shape_Leng','Shape_Area'], inplace=True)\n",
    "district_table.to_excel(os.path.join(tables_path, \"10District Level Summary.xlsx\"), index=False)"
   ]
  }
 ],
 "metadata": {
  "kernelspec": {
   "display_name": "GEO",
   "language": "python",
   "name": "geo"
  },
  "language_info": {
   "codemirror_mode": {
    "name": "ipython",
    "version": 3
   },
   "file_extension": ".py",
   "mimetype": "text/x-python",
   "name": "python",
   "nbconvert_exporter": "python",
   "pygments_lexer": "ipython3",
   "version": "3.7.6"
  }
 },
 "nbformat": 4,
 "nbformat_minor": 2
}
