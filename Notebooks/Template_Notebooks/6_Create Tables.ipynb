{
 "cells": [
  {
   "cell_type": "markdown",
   "metadata": {},
   "source": [
    "## Access Maps for Argentina"
   ]
  },
  {
   "cell_type": "markdown",
   "metadata": {},
   "source": [
    "Create summary statistics at admin-2 and country-level"
   ]
  },
  {
   "cell_type": "code",
   "execution_count": 1,
   "metadata": {},
   "outputs": [],
   "source": [
    "import os, sys, time, importlib\n",
    "\n",
    "import geopandas as gpd\n",
    "import pandas as pd\n",
    "import networkx as nx\n",
    "sys.path.append('/home/wb514197/Repos/GOSTnets')\n",
    "\n",
    "import GOSTnets as gn\n",
    "import rasterio as rio\n",
    "from osgeo import gdal\n",
    "import GOSTnets.calculate_od_raw as calcOD\n",
    "import numpy as np\n",
    "\n",
    "%load_ext autoreload\n",
    "%autoreload 2\n",
    "\n",
    "sys.path.append('/home/wb514197/Repos/INFRA_SAP')\n",
    "from infrasap import aggregator\n",
    "from shapely.wkt import loads"
   ]
  },
  {
   "cell_type": "code",
   "execution_count": 33,
   "metadata": {},
   "outputs": [],
   "source": [
    "# paths to data\n",
    "iso = 'ARG'\n",
    "data_dir = f'/home/public/Data/PROJECTS/INFRA_SAP/{iso}'\n",
    "raster_path = os.path.join(data_dir, 'WP_2020_1km.tif')\n",
    "# urban_extents = gpd.read_file('/home/public/Data/PROJECTS/infraSAP_URY/Urban/WP_2020_urban.shp')\n",
    "# pop_file = os.path.join(data_dir, 'wp_2020_1km.shp')\n",
    "# G_path = f'/home/public/Data/PROJECTS/LAC_GOSTNets/graphs/{iso}/G_{iso}.pickle'\n",
    "# global_admin = '/home/public/Data/GLOBAL/ADMIN/g2015_0_simplified.shp'\n",
    "urban_extents = os.path.join(data_dir, 'urban_extents.shp')\n",
    "# osm_pbf = os.path.join(data_dir, 'national_complete.osm.pbf')\n",
    "output_path = os.path.join(os.path.expanduser(\"~\"),'data/argentina')"
   ]
  },
  {
   "cell_type": "code",
   "execution_count": 3,
   "metadata": {},
   "outputs": [],
   "source": [
    "tables_path = os.path.join(output_path, 'tables')\n",
    "if not os.path.exists(tables_path):\n",
    "    os.mkdir(tables_path)"
   ]
  },
  {
   "cell_type": "code",
   "execution_count": 4,
   "metadata": {},
   "outputs": [],
   "source": [
    "target = gpd.read_file(os.path.join(data_dir, 'admin.shp'))"
   ]
  },
  {
   "cell_type": "code",
   "execution_count": null,
   "metadata": {},
   "outputs": [],
   "source": [
    "OD = pd.read_csv(os.path.join(output_path, 'OD_06_16_tt.csv'), header=[0,1], index_col=0)"
   ]
  },
  {
   "cell_type": "markdown",
   "metadata": {},
   "source": [
    "**Percentage of rural population with access to a main city (>50k inhabitants) in XX hours**"
   ]
  },
  {
   "cell_type": "code",
   "execution_count": 8,
   "metadata": {},
   "outputs": [],
   "source": [
    "dest_type='city'\n",
    "rural=True\n",
    "#thresholds=[0,15,30,60,90,120,180,240,300,3000]\n",
    "thresholds=[0,0.5,1,1.5,2,3,4,5,6,7,10,50]\n",
    "pop_threshold=50000"
   ]
  },
  {
   "cell_type": "code",
   "execution_count": 86,
   "metadata": {},
   "outputs": [],
   "source": [
    "rural_access = aggregator.calculate_access_percentages(OD, target, 'city', True, urban_extents, pop_threshold, thresholds)"
   ]
  },
  {
   "cell_type": "code",
   "execution_count": 89,
   "metadata": {},
   "outputs": [
    {
     "data": {
      "text/plain": [
       "Index(['OBJECTID', 'ISO_A2', 'WB_ADM1_CO', 'WB_ADM0_CO', 'WB_ADM0_NA',\n",
       "       'WB_ADM1_NA', 'WB_ADM2_CO', 'WB_ADM2_NA', 'ISO3', '(0.0, 0.5]',\n",
       "       '(0.5, 1.0]', '(1.0, 1.5]', '(1.5, 2.0]', '(2.0, 3.0]', '(3.0, 4.0]',\n",
       "       '(4.0, 5.0]', '(5.0, 6.0]', '(6.0, 7.0]', '(7.0, 10.0]', '> 10.0',\n",
       "       '(0.0, 0.5] pop', '(0.5, 1.0] pop', '(1.0, 1.5] pop', '(1.5, 2.0] pop',\n",
       "       '(2.0, 3.0] pop', '(3.0, 4.0] pop', '(4.0, 5.0] pop', '(5.0, 6.0] pop',\n",
       "       '(6.0, 7.0] pop', '(7.0, 10.0] pop', '> 10.0 pop'],\n",
       "      dtype='object')"
      ]
     },
     "execution_count": 89,
     "metadata": {},
     "output_type": "execute_result"
    }
   ],
   "source": [
    "rural_access.columns"
   ]
  },
  {
   "cell_type": "code",
   "execution_count": 88,
   "metadata": {},
   "outputs": [],
   "source": [
    "rural_access.rename(columns = {\n",
    "    '(10.0, 50.0]':'> 10.0',\n",
    "    '(10.0, 50.0] pop':'> 10.0 pop'\n",
    "}, inplace=True)\n",
    "rural_access.drop(columns=['geometry','Shape_Leng','Shape_Area'], inplace=True)"
   ]
  },
  {
   "cell_type": "code",
   "execution_count": 90,
   "metadata": {},
   "outputs": [],
   "source": [
    "rural_access.to_excel(os.path.join(tables_path, \"2Rural Access to Cities.xlsx\"), index=False)"
   ]
  },
  {
   "cell_type": "code",
   "execution_count": 95,
   "metadata": {},
   "outputs": [],
   "source": [
    "country_level = aggregator.agregate_to_country(rural_access, \"Rural pop. with access to a main city\")"
   ]
  },
  {
   "cell_type": "code",
   "execution_count": 96,
   "metadata": {},
   "outputs": [
    {
     "data": {
      "text/html": [
       "<div>\n",
       "<style scoped>\n",
       "    .dataframe tbody tr th:only-of-type {\n",
       "        vertical-align: middle;\n",
       "    }\n",
       "\n",
       "    .dataframe tbody tr th {\n",
       "        vertical-align: top;\n",
       "    }\n",
       "\n",
       "    .dataframe thead th {\n",
       "        text-align: right;\n",
       "    }\n",
       "</style>\n",
       "<table border=\"1\" class=\"dataframe\">\n",
       "  <thead>\n",
       "    <tr style=\"text-align: right;\">\n",
       "      <th></th>\n",
       "      <th>(0.0, 0.5] pop</th>\n",
       "      <th>(0.5, 1.0] pop</th>\n",
       "      <th>(1.0, 1.5] pop</th>\n",
       "      <th>(1.5, 2.0] pop</th>\n",
       "      <th>(2.0, 3.0] pop</th>\n",
       "      <th>(3.0, 4.0] pop</th>\n",
       "      <th>(4.0, 5.0] pop</th>\n",
       "      <th>(5.0, 6.0] pop</th>\n",
       "      <th>(6.0, 7.0] pop</th>\n",
       "      <th>(7.0, 10.0] pop</th>\n",
       "      <th>&gt; 10.0 pop</th>\n",
       "    </tr>\n",
       "  </thead>\n",
       "  <tbody>\n",
       "    <tr>\n",
       "      <th>Rural pop. with access to a main city</th>\n",
       "      <td>0.006905</td>\n",
       "      <td>0.003909</td>\n",
       "      <td>0.005783</td>\n",
       "      <td>0.00565</td>\n",
       "      <td>0.014875</td>\n",
       "      <td>0.021787</td>\n",
       "      <td>0.010547</td>\n",
       "      <td>0.005887</td>\n",
       "      <td>0.005814</td>\n",
       "      <td>0.04651</td>\n",
       "      <td>0.872333</td>\n",
       "    </tr>\n",
       "  </tbody>\n",
       "</table>\n",
       "</div>"
      ],
      "text/plain": [
       "                                       (0.0, 0.5] pop  (0.5, 1.0] pop  \\\n",
       "Rural pop. with access to a main city        0.006905        0.003909   \n",
       "\n",
       "                                       (1.0, 1.5] pop  (1.5, 2.0] pop  \\\n",
       "Rural pop. with access to a main city        0.005783         0.00565   \n",
       "\n",
       "                                       (2.0, 3.0] pop  (3.0, 4.0] pop  \\\n",
       "Rural pop. with access to a main city        0.014875        0.021787   \n",
       "\n",
       "                                       (4.0, 5.0] pop  (5.0, 6.0] pop  \\\n",
       "Rural pop. with access to a main city        0.010547        0.005887   \n",
       "\n",
       "                                       (6.0, 7.0] pop  (7.0, 10.0] pop  \\\n",
       "Rural pop. with access to a main city        0.005814          0.04651   \n",
       "\n",
       "                                       > 10.0 pop  \n",
       "Rural pop. with access to a main city    0.872333  "
      ]
     },
     "execution_count": 96,
     "metadata": {},
     "output_type": "execute_result"
    }
   ],
   "source": [
    "country_level"
   ]
  },
  {
   "cell_type": "markdown",
   "metadata": {},
   "source": [
    "**Travel time to closest city**"
   ]
  },
  {
   "cell_type": "code",
   "execution_count": 80,
   "metadata": {},
   "outputs": [],
   "source": [
    "city_tt = aggregator.calculate_access_percentages(OD, target, 'city', thresholds=thresholds)"
   ]
  },
  {
   "cell_type": "code",
   "execution_count": 91,
   "metadata": {},
   "outputs": [],
   "source": [
    "city_tt.rename(columns = {\n",
    "    '(10.0, 50.0]':'> 10.0',\n",
    "    '(10.0, 50.0] pop':'> 10.0 pop'\n",
    "}, inplace=True)\n",
    "city_tt.drop(columns=['geometry','Shape_Leng','Shape_Area'], inplace=True)\n",
    "city_tt.to_excel(os.path.join(tables_path, \"3Travel Time to Nearest City.xlsx\"), index=False)"
   ]
  },
  {
   "cell_type": "code",
   "execution_count": 97,
   "metadata": {},
   "outputs": [],
   "source": [
    "country_level = aggregator.agregate_to_country(city_tt, \"Travel time to closest city\", country_level)"
   ]
  },
  {
   "cell_type": "code",
   "execution_count": 110,
   "metadata": {},
   "outputs": [
    {
     "data": {
      "text/html": [
       "<div>\n",
       "<style scoped>\n",
       "    .dataframe tbody tr th:only-of-type {\n",
       "        vertical-align: middle;\n",
       "    }\n",
       "\n",
       "    .dataframe tbody tr th {\n",
       "        vertical-align: top;\n",
       "    }\n",
       "\n",
       "    .dataframe thead th {\n",
       "        text-align: right;\n",
       "    }\n",
       "</style>\n",
       "<table border=\"1\" class=\"dataframe\">\n",
       "  <thead>\n",
       "    <tr style=\"text-align: right;\">\n",
       "      <th></th>\n",
       "      <th>(0.0, 0.5] pop</th>\n",
       "      <th>(0.5, 1.0] pop</th>\n",
       "      <th>(1.0, 1.5] pop</th>\n",
       "      <th>(1.5, 2.0] pop</th>\n",
       "      <th>(2.0, 3.0] pop</th>\n",
       "      <th>(3.0, 4.0] pop</th>\n",
       "      <th>(4.0, 5.0] pop</th>\n",
       "      <th>(5.0, 6.0] pop</th>\n",
       "      <th>(6.0, 7.0] pop</th>\n",
       "      <th>(7.0, 10.0] pop</th>\n",
       "      <th>&gt; 10.0 pop</th>\n",
       "    </tr>\n",
       "  </thead>\n",
       "  <tbody>\n",
       "    <tr>\n",
       "      <th>Rural pop. with access to a main city</th>\n",
       "      <td>0.006905</td>\n",
       "      <td>0.003909</td>\n",
       "      <td>0.005783</td>\n",
       "      <td>0.005650</td>\n",
       "      <td>0.014875</td>\n",
       "      <td>0.021787</td>\n",
       "      <td>0.010547</td>\n",
       "      <td>0.005887</td>\n",
       "      <td>0.005814</td>\n",
       "      <td>0.046510</td>\n",
       "      <td>0.872333</td>\n",
       "    </tr>\n",
       "    <tr>\n",
       "      <th>Travel time to closest city</th>\n",
       "      <td>0.287208</td>\n",
       "      <td>0.240211</td>\n",
       "      <td>0.156113</td>\n",
       "      <td>0.091733</td>\n",
       "      <td>0.093961</td>\n",
       "      <td>0.065299</td>\n",
       "      <td>0.031904</td>\n",
       "      <td>0.012385</td>\n",
       "      <td>0.005753</td>\n",
       "      <td>0.012814</td>\n",
       "      <td>0.002620</td>\n",
       "    </tr>\n",
       "  </tbody>\n",
       "</table>\n",
       "</div>"
      ],
      "text/plain": [
       "                                       (0.0, 0.5] pop  (0.5, 1.0] pop  \\\n",
       "Rural pop. with access to a main city        0.006905        0.003909   \n",
       "Travel time to closest city                  0.287208        0.240211   \n",
       "\n",
       "                                       (1.0, 1.5] pop  (1.5, 2.0] pop  \\\n",
       "Rural pop. with access to a main city        0.005783        0.005650   \n",
       "Travel time to closest city                  0.156113        0.091733   \n",
       "\n",
       "                                       (2.0, 3.0] pop  (3.0, 4.0] pop  \\\n",
       "Rural pop. with access to a main city        0.014875        0.021787   \n",
       "Travel time to closest city                  0.093961        0.065299   \n",
       "\n",
       "                                       (4.0, 5.0] pop  (5.0, 6.0] pop  \\\n",
       "Rural pop. with access to a main city        0.010547        0.005887   \n",
       "Travel time to closest city                  0.031904        0.012385   \n",
       "\n",
       "                                       (6.0, 7.0] pop  (7.0, 10.0] pop  \\\n",
       "Rural pop. with access to a main city        0.005814         0.046510   \n",
       "Travel time to closest city                  0.005753         0.012814   \n",
       "\n",
       "                                       > 10.0 pop  \n",
       "Rural pop. with access to a main city    0.872333  \n",
       "Travel time to closest city              0.002620  "
      ]
     },
     "execution_count": 110,
     "metadata": {},
     "output_type": "execute_result"
    }
   ],
   "source": [
    "country_level.head()"
   ]
  },
  {
   "cell_type": "code",
   "execution_count": 100,
   "metadata": {},
   "outputs": [],
   "source": [
    "weighted_average = aggregator.pop_weighted_average(target, os.path.join(output_path,'travel_time','cities_min_tt.tif'), raster_path, 'tt_min_city')"
   ]
  },
  {
   "cell_type": "code",
   "execution_count": 103,
   "metadata": {},
   "outputs": [],
   "source": [
    "national_average = aggregator.pop_weighted_average_national(os.path.join(output_path,'travel_time','cities_min_tt.tif'), raster_path, 'Travel time to nearest city')"
   ]
  },
  {
   "cell_type": "code",
   "execution_count": 105,
   "metadata": {},
   "outputs": [
    {
     "data": {
      "text/html": [
       "<div>\n",
       "<style scoped>\n",
       "    .dataframe tbody tr th:only-of-type {\n",
       "        vertical-align: middle;\n",
       "    }\n",
       "\n",
       "    .dataframe tbody tr th {\n",
       "        vertical-align: top;\n",
       "    }\n",
       "\n",
       "    .dataframe thead th {\n",
       "        text-align: right;\n",
       "    }\n",
       "</style>\n",
       "<table border=\"1\" class=\"dataframe\">\n",
       "  <thead>\n",
       "    <tr style=\"text-align: right;\">\n",
       "      <th></th>\n",
       "      <th>pop weighted average</th>\n",
       "    </tr>\n",
       "  </thead>\n",
       "  <tbody>\n",
       "    <tr>\n",
       "      <th>Travel time to nearest city</th>\n",
       "      <td>1.441339</td>\n",
       "    </tr>\n",
       "  </tbody>\n",
       "</table>\n",
       "</div>"
      ],
      "text/plain": [
       "                             pop weighted average\n",
       "Travel time to nearest city              1.441339"
      ]
     },
     "execution_count": 105,
     "metadata": {},
     "output_type": "execute_result"
    }
   ],
   "source": [
    "national_average"
   ]
  },
  {
   "cell_type": "markdown",
   "metadata": {},
   "source": [
    "**Travel time to capital**"
   ]
  },
  {
   "cell_type": "code",
   "execution_count": 106,
   "metadata": {},
   "outputs": [],
   "source": [
    "dest_all = pd.read_csv(os.path.join(output_path, 'destination_all.csv'))"
   ]
  },
  {
   "cell_type": "code",
   "execution_count": 117,
   "metadata": {},
   "outputs": [],
   "source": [
    "# dest_all[dest_all.dest_type=='city'].sort_values('Pop', ascending=False)\n",
    "# capital is 34"
   ]
  },
  {
   "cell_type": "code",
   "execution_count": 118,
   "metadata": {},
   "outputs": [],
   "source": [
    "capital = OD['city'].loc[:,['34']]"
   ]
  },
  {
   "cell_type": "code",
   "execution_count": 119,
   "metadata": {},
   "outputs": [],
   "source": [
    "origins_tt_cap = origins_geom.join(capital)"
   ]
  },
  {
   "cell_type": "code",
   "execution_count": 123,
   "metadata": {},
   "outputs": [],
   "source": [
    "# output_path = '/home/wb514197/data/uruguay'\n",
    "# origins_tt_cap = origins_tt_cap.to_crs('epsg:32721')\n",
    "aggregator.rasterize_gdf(origins_tt_cap, '34', raster_path, os.path.join(output_path,'travel_time','capital_tt.tif'))"
   ]
  },
  {
   "cell_type": "code",
   "execution_count": 132,
   "metadata": {},
   "outputs": [],
   "source": [
    "capital_tt = aggregator.calculate_access_percentages(OD, target, 'city', thresholds=thresholds, capital='34')"
   ]
  },
  {
   "cell_type": "code",
   "execution_count": 133,
   "metadata": {},
   "outputs": [
    {
     "data": {
      "text/html": [
       "<div>\n",
       "<style scoped>\n",
       "    .dataframe tbody tr th:only-of-type {\n",
       "        vertical-align: middle;\n",
       "    }\n",
       "\n",
       "    .dataframe tbody tr th {\n",
       "        vertical-align: top;\n",
       "    }\n",
       "\n",
       "    .dataframe thead th {\n",
       "        text-align: right;\n",
       "    }\n",
       "</style>\n",
       "<table border=\"1\" class=\"dataframe\">\n",
       "  <thead>\n",
       "    <tr style=\"text-align: right;\">\n",
       "      <th></th>\n",
       "      <th>OBJECTID</th>\n",
       "      <th>ISO_A2</th>\n",
       "      <th>WB_ADM1_CO</th>\n",
       "      <th>WB_ADM0_CO</th>\n",
       "      <th>WB_ADM0_NA</th>\n",
       "      <th>WB_ADM1_NA</th>\n",
       "      <th>WB_ADM2_CO</th>\n",
       "      <th>WB_ADM2_NA</th>\n",
       "      <th>Shape_Leng</th>\n",
       "      <th>Shape_Area</th>\n",
       "      <th>...</th>\n",
       "      <th>(0.5, 1.0] pop</th>\n",
       "      <th>(1.0, 1.5] pop</th>\n",
       "      <th>(1.5, 2.0] pop</th>\n",
       "      <th>(2.0, 3.0] pop</th>\n",
       "      <th>(3.0, 4.0] pop</th>\n",
       "      <th>(4.0, 5.0] pop</th>\n",
       "      <th>(5.0, 6.0] pop</th>\n",
       "      <th>(6.0, 7.0] pop</th>\n",
       "      <th>(7.0, 10.0] pop</th>\n",
       "      <th>(10.0, 50.0] pop</th>\n",
       "    </tr>\n",
       "  </thead>\n",
       "  <tbody>\n",
       "    <tr>\n",
       "      <th>0</th>\n",
       "      <td>2517</td>\n",
       "      <td>AR</td>\n",
       "      <td>429</td>\n",
       "      <td>12</td>\n",
       "      <td>Argentina</td>\n",
       "      <td>Buenos Aires</td>\n",
       "      <td>4379</td>\n",
       "      <td>25 De Mayo</td>\n",
       "      <td>507806.080218</td>\n",
       "      <td>7.186351e+09</td>\n",
       "      <td>...</td>\n",
       "      <td>0.0</td>\n",
       "      <td>0.0</td>\n",
       "      <td>0.0</td>\n",
       "      <td>3886.43912</td>\n",
       "      <td>25192.279785</td>\n",
       "      <td>3640.174248</td>\n",
       "      <td>3167.946100</td>\n",
       "      <td>1250.299436</td>\n",
       "      <td>2.335726</td>\n",
       "      <td>0.000000</td>\n",
       "    </tr>\n",
       "    <tr>\n",
       "      <th>1</th>\n",
       "      <td>2518</td>\n",
       "      <td>AR</td>\n",
       "      <td>429</td>\n",
       "      <td>12</td>\n",
       "      <td>Argentina</td>\n",
       "      <td>Buenos Aires</td>\n",
       "      <td>4380</td>\n",
       "      <td>9 De Julio</td>\n",
       "      <td>368311.510262</td>\n",
       "      <td>6.476091e+09</td>\n",
       "      <td>...</td>\n",
       "      <td>0.0</td>\n",
       "      <td>0.0</td>\n",
       "      <td>0.0</td>\n",
       "      <td>0.00000</td>\n",
       "      <td>25582.954223</td>\n",
       "      <td>16954.936690</td>\n",
       "      <td>6024.639596</td>\n",
       "      <td>1284.218943</td>\n",
       "      <td>0.000000</td>\n",
       "      <td>0.000000</td>\n",
       "    </tr>\n",
       "    <tr>\n",
       "      <th>2</th>\n",
       "      <td>2519</td>\n",
       "      <td>AR</td>\n",
       "      <td>429</td>\n",
       "      <td>12</td>\n",
       "      <td>Argentina</td>\n",
       "      <td>Buenos Aires</td>\n",
       "      <td>4381</td>\n",
       "      <td>Adolfo Alsina</td>\n",
       "      <td>502875.251077</td>\n",
       "      <td>9.410333e+09</td>\n",
       "      <td>...</td>\n",
       "      <td>0.0</td>\n",
       "      <td>0.0</td>\n",
       "      <td>0.0</td>\n",
       "      <td>0.00000</td>\n",
       "      <td>0.000000</td>\n",
       "      <td>0.000000</td>\n",
       "      <td>0.000000</td>\n",
       "      <td>0.000000</td>\n",
       "      <td>16008.687161</td>\n",
       "      <td>3226.395393</td>\n",
       "    </tr>\n",
       "    <tr>\n",
       "      <th>3</th>\n",
       "      <td>2520</td>\n",
       "      <td>AR</td>\n",
       "      <td>429</td>\n",
       "      <td>12</td>\n",
       "      <td>Argentina</td>\n",
       "      <td>Buenos Aires</td>\n",
       "      <td>4382</td>\n",
       "      <td>Adolfo Gonzales Chaves</td>\n",
       "      <td>436878.099149</td>\n",
       "      <td>6.126381e+09</td>\n",
       "      <td>...</td>\n",
       "      <td>0.0</td>\n",
       "      <td>0.0</td>\n",
       "      <td>0.0</td>\n",
       "      <td>0.00000</td>\n",
       "      <td>0.000000</td>\n",
       "      <td>0.000000</td>\n",
       "      <td>110.785346</td>\n",
       "      <td>9807.399683</td>\n",
       "      <td>2180.832307</td>\n",
       "      <td>0.000000</td>\n",
       "    </tr>\n",
       "    <tr>\n",
       "      <th>4</th>\n",
       "      <td>2521</td>\n",
       "      <td>AR</td>\n",
       "      <td>429</td>\n",
       "      <td>12</td>\n",
       "      <td>Argentina</td>\n",
       "      <td>Buenos Aires</td>\n",
       "      <td>4383</td>\n",
       "      <td>Alberti</td>\n",
       "      <td>211023.180553</td>\n",
       "      <td>1.659956e+09</td>\n",
       "      <td>...</td>\n",
       "      <td>0.0</td>\n",
       "      <td>0.0</td>\n",
       "      <td>0.0</td>\n",
       "      <td>6785.91070</td>\n",
       "      <td>4312.131714</td>\n",
       "      <td>158.624149</td>\n",
       "      <td>0.000000</td>\n",
       "      <td>0.000000</td>\n",
       "      <td>0.000000</td>\n",
       "      <td>0.000000</td>\n",
       "    </tr>\n",
       "  </tbody>\n",
       "</table>\n",
       "<p>5 rows × 34 columns</p>\n",
       "</div>"
      ],
      "text/plain": [
       "   OBJECTID ISO_A2  WB_ADM1_CO  WB_ADM0_CO WB_ADM0_NA    WB_ADM1_NA  \\\n",
       "0      2517     AR         429          12  Argentina  Buenos Aires   \n",
       "1      2518     AR         429          12  Argentina  Buenos Aires   \n",
       "2      2519     AR         429          12  Argentina  Buenos Aires   \n",
       "3      2520     AR         429          12  Argentina  Buenos Aires   \n",
       "4      2521     AR         429          12  Argentina  Buenos Aires   \n",
       "\n",
       "   WB_ADM2_CO              WB_ADM2_NA     Shape_Leng    Shape_Area  ...  \\\n",
       "0        4379              25 De Mayo  507806.080218  7.186351e+09  ...   \n",
       "1        4380              9 De Julio  368311.510262  6.476091e+09  ...   \n",
       "2        4381           Adolfo Alsina  502875.251077  9.410333e+09  ...   \n",
       "3        4382  Adolfo Gonzales Chaves  436878.099149  6.126381e+09  ...   \n",
       "4        4383                 Alberti  211023.180553  1.659956e+09  ...   \n",
       "\n",
       "  (0.5, 1.0] pop (1.0, 1.5] pop  (1.5, 2.0] pop  (2.0, 3.0] pop  \\\n",
       "0            0.0            0.0             0.0      3886.43912   \n",
       "1            0.0            0.0             0.0         0.00000   \n",
       "2            0.0            0.0             0.0         0.00000   \n",
       "3            0.0            0.0             0.0         0.00000   \n",
       "4            0.0            0.0             0.0      6785.91070   \n",
       "\n",
       "   (3.0, 4.0] pop  (4.0, 5.0] pop  (5.0, 6.0] pop  (6.0, 7.0] pop  \\\n",
       "0    25192.279785     3640.174248     3167.946100     1250.299436   \n",
       "1    25582.954223    16954.936690     6024.639596     1284.218943   \n",
       "2        0.000000        0.000000        0.000000        0.000000   \n",
       "3        0.000000        0.000000      110.785346     9807.399683   \n",
       "4     4312.131714      158.624149        0.000000        0.000000   \n",
       "\n",
       "   (7.0, 10.0] pop  (10.0, 50.0] pop  \n",
       "0         2.335726          0.000000  \n",
       "1         0.000000          0.000000  \n",
       "2     16008.687161       3226.395393  \n",
       "3      2180.832307          0.000000  \n",
       "4         0.000000          0.000000  \n",
       "\n",
       "[5 rows x 34 columns]"
      ]
     },
     "execution_count": 133,
     "metadata": {},
     "output_type": "execute_result"
    }
   ],
   "source": [
    "capital_tt.head()"
   ]
  },
  {
   "cell_type": "code",
   "execution_count": 135,
   "metadata": {},
   "outputs": [],
   "source": [
    "capital_tt.rename(columns = {\n",
    "    '(10.0, 50.0]':'> 10.0',\n",
    "    '(10.0, 50.0] pop':'> 10.0 pop'\n",
    "}, inplace=True)\n",
    "capital_tt.drop(columns=['geometry','Shape_Leng','Shape_Area'], inplace=True)\n",
    "capital_tt.to_excel(os.path.join(tables_path, \"4Travel Time to Capital.xlsx\"), index=False)"
   ]
  },
  {
   "cell_type": "code",
   "execution_count": 127,
   "metadata": {},
   "outputs": [],
   "source": [
    "weighted_average = aggregator.pop_weighted_average(target, os.path.join(output_path,'travel_time','capital_tt.tif'), raster_path, 'tt_capital', table=weighted_average)"
   ]
  },
  {
   "cell_type": "code",
   "execution_count": 129,
   "metadata": {},
   "outputs": [],
   "source": [
    "national_average = aggregator.pop_weighted_average_national(os.path.join(output_path,'travel_time','capital_tt.tif'), raster_path, 'Travel time to capital', national_average)"
   ]
  },
  {
   "cell_type": "code",
   "execution_count": 137,
   "metadata": {},
   "outputs": [],
   "source": [
    "country_level = aggregator.agregate_to_country(capital_tt, \"Travel time to capital\", country_level)"
   ]
  },
  {
   "cell_type": "markdown",
   "metadata": {},
   "source": [
    "**Time to drive to the closest land border point**"
   ]
  },
  {
   "cell_type": "code",
   "execution_count": 138,
   "metadata": {},
   "outputs": [],
   "source": [
    "border_tt = aggregator.calculate_access_percentages(OD, target, 'border', thresholds=thresholds)"
   ]
  },
  {
   "cell_type": "code",
   "execution_count": 139,
   "metadata": {},
   "outputs": [],
   "source": [
    "border_tt.rename(columns = {\n",
    "    '(10.0, 50.0]':'> 10.0',\n",
    "    '(10.0, 50.0] pop':'> 10.0 pop'\n",
    "}, inplace=True)\n",
    "border_tt.drop(columns=['geometry','Shape_Leng','Shape_Area'], inplace=True)\n",
    "border_tt.to_excel(os.path.join(tables_path, \"6Travel Time to Nearest Border.xlsx\"), index=False)"
   ]
  },
  {
   "cell_type": "code",
   "execution_count": 142,
   "metadata": {},
   "outputs": [],
   "source": [
    "weighted_average = aggregator.pop_weighted_average(target, os.path.join(output_path,'travel_time','borders_min_tt.tif'), raster_path, 'tt_border', table=weighted_average)"
   ]
  },
  {
   "cell_type": "code",
   "execution_count": 143,
   "metadata": {},
   "outputs": [],
   "source": [
    "country_level = aggregator.agregate_to_country(border_tt, \"Travel time to closest border\", country_level)"
   ]
  },
  {
   "cell_type": "code",
   "execution_count": 144,
   "metadata": {},
   "outputs": [],
   "source": [
    "national_average = aggregator.pop_weighted_average_national(os.path.join(output_path,'travel_time','borders_min_tt.tif'), raster_path, 'Travel time to nearest border', national_average)"
   ]
  },
  {
   "cell_type": "markdown",
   "metadata": {},
   "source": [
    "**Time to drive to the closest airport**"
   ]
  },
  {
   "cell_type": "code",
   "execution_count": 37,
   "metadata": {},
   "outputs": [],
   "source": [
    "airport_tt = aggregator.calculate_access_percentages(OD, target, 'airport', thresholds=thresholds)"
   ]
  },
  {
   "cell_type": "code",
   "execution_count": 38,
   "metadata": {},
   "outputs": [],
   "source": [
    "airport_tt.rename(columns = {\n",
    "    '(10.0, 50.0]':'> 10.0',\n",
    "    '(10.0, 50.0] pop':'> 10.0 pop'\n",
    "}, inplace=True)\n",
    "airport_tt.drop(columns=['geometry','Shape_Leng','Shape_Area'], inplace=True)\n",
    "airport_tt.to_excel(os.path.join(tables_path, \"5Travel Time to Nearest Airport.xlsx\"), index=False)"
   ]
  },
  {
   "cell_type": "code",
   "execution_count": 39,
   "metadata": {},
   "outputs": [],
   "source": [
    "weighted_average = aggregator.pop_weighted_average(target, os.path.join(output_path,'travel_time','airport_min_tt_v2.tif'), raster_path, 'tt_airport')"
   ]
  },
  {
   "cell_type": "code",
   "execution_count": 40,
   "metadata": {},
   "outputs": [],
   "source": [
    "country_level = aggregator.agregate_to_country(airport_tt, \"Travel time to closest airport\")"
   ]
  },
  {
   "cell_type": "code",
   "execution_count": 41,
   "metadata": {},
   "outputs": [],
   "source": [
    "national_average = aggregator.pop_weighted_average_national(os.path.join(output_path,'travel_time','airport_min_tt_v2.tif'), raster_path, 'Travel time to nearest airport')"
   ]
  },
  {
   "cell_type": "code",
   "execution_count": 50,
   "metadata": {},
   "outputs": [],
   "source": [
    "weighted_average.drop(columns=['geometry','Shape_Leng','Shape_Area'], inplace=True)"
   ]
  },
  {
   "cell_type": "code",
   "execution_count": 51,
   "metadata": {},
   "outputs": [],
   "source": [
    "weighted_average.to_csv(os.path.join(tables_path,\"Airport_V2_WeightedAvg.csv\"))\n",
    "country_level.to_csv(os.path.join(tables_path,\"Airport_V2_CountryLevel.csv\"))\n",
    "national_average.to_csv(os.path.join(tables_path,\"Airport_V2_NatAvg.csv\"))"
   ]
  },
  {
   "cell_type": "markdown",
   "metadata": {},
   "source": [
    "**Time to drive to the closest port**"
   ]
  },
  {
   "cell_type": "code",
   "execution_count": 152,
   "metadata": {},
   "outputs": [],
   "source": [
    "port_tt = aggregator.calculate_access_percentages(OD, target, 'port', thresholds=thresholds)"
   ]
  },
  {
   "cell_type": "code",
   "execution_count": 153,
   "metadata": {},
   "outputs": [],
   "source": [
    "port_tt.rename(columns = {\n",
    "    '(10.0, 50.0]':'> 10.0',\n",
    "    '(10.0, 50.0] pop':'> 10.0 pop'\n",
    "}, inplace=True)\n",
    "port_tt.drop(columns=['geometry','Shape_Leng','Shape_Area'], inplace=True)\n",
    "port_tt.to_excel(os.path.join(tables_path, \"7Travel Time to Nearest Port.xlsx\"), index=False)"
   ]
  },
  {
   "cell_type": "code",
   "execution_count": 154,
   "metadata": {},
   "outputs": [],
   "source": [
    "weighted_average = aggregator.pop_weighted_average(target, os.path.join(output_path,'travel_time','port_min_tt.tif'), raster_path, 'tt_port', table=weighted_average)"
   ]
  },
  {
   "cell_type": "code",
   "execution_count": 155,
   "metadata": {},
   "outputs": [],
   "source": [
    "country_level = aggregator.agregate_to_country(port_tt, \"Travel time to closest port\", country_level)"
   ]
  },
  {
   "cell_type": "code",
   "execution_count": 156,
   "metadata": {},
   "outputs": [],
   "source": [
    "national_average = aggregator.pop_weighted_average_national(os.path.join(output_path,'travel_time','port_min_tt.tif'), raster_path, 'Travel time to nearest port', national_average)"
   ]
  },
  {
   "cell_type": "code",
   "execution_count": 165,
   "metadata": {},
   "outputs": [],
   "source": [
    "country_level.to_csv(os.path.join(tables_path,\"country agg.csv\"))"
   ]
  },
  {
   "cell_type": "code",
   "execution_count": 166,
   "metadata": {},
   "outputs": [],
   "source": [
    "national_average.to_csv(os.path.join(tables_path,\"country agg avg.csv\"))"
   ]
  },
  {
   "cell_type": "markdown",
   "metadata": {},
   "source": [
    "Distances"
   ]
  },
  {
   "cell_type": "code",
   "execution_count": 44,
   "metadata": {},
   "outputs": [],
   "source": [
    "output_path = os.path.join(os.path.expanduser(\"~\"),'data/argentina/travel_distance')"
   ]
  },
  {
   "cell_type": "code",
   "execution_count": 46,
   "metadata": {},
   "outputs": [],
   "source": [
    "weighted_average = aggregator.pop_weighted_average(target, os.path.join(output_path,'airport_min_dist_v2.tif'), raster_path, 'dist_airport', weighted_average)"
   ]
  },
  {
   "cell_type": "code",
   "execution_count": 173,
   "metadata": {},
   "outputs": [],
   "source": [
    "weighted_average = aggregator.pop_weighted_average(target, os.path.join(output_path,'cities_min_dist.tif'), raster_path, 'dist_cities', weighted_average)\n",
    "weighted_average = aggregator.pop_weighted_average(target, os.path.join(output_path,'airport_min_dist.tif'), raster_path, 'dist_airport', weighted_average)\n",
    "weighted_average = aggregator.pop_weighted_average(target, os.path.join(output_path,'port_min_dist.tif'), raster_path, 'dist_ports', weighted_average)\n",
    "weighted_average = aggregator.pop_weighted_average(target, os.path.join(output_path,'borders_min_dist.tif'), raster_path, 'dist_borders', weighted_average)\n",
    "weighted_average = aggregator.pop_weighted_average(target, os.path.join(output_path,'capital_tt.tif'), raster_path, 'dist_capital',weighted_average)"
   ]
  },
  {
   "cell_type": "code",
   "execution_count": 174,
   "metadata": {},
   "outputs": [
    {
     "data": {
      "text/html": [
       "<div>\n",
       "<style scoped>\n",
       "    .dataframe tbody tr th:only-of-type {\n",
       "        vertical-align: middle;\n",
       "    }\n",
       "\n",
       "    .dataframe tbody tr th {\n",
       "        vertical-align: top;\n",
       "    }\n",
       "\n",
       "    .dataframe thead th {\n",
       "        text-align: right;\n",
       "    }\n",
       "</style>\n",
       "<table border=\"1\" class=\"dataframe\">\n",
       "  <thead>\n",
       "    <tr style=\"text-align: right;\">\n",
       "      <th></th>\n",
       "      <th>OBJECTID</th>\n",
       "      <th>ISO_A2</th>\n",
       "      <th>WB_ADM1_CO</th>\n",
       "      <th>WB_ADM0_CO</th>\n",
       "      <th>WB_ADM0_NA</th>\n",
       "      <th>WB_ADM1_NA</th>\n",
       "      <th>WB_ADM2_CO</th>\n",
       "      <th>WB_ADM2_NA</th>\n",
       "      <th>Shape_Leng</th>\n",
       "      <th>Shape_Area</th>\n",
       "      <th>...</th>\n",
       "      <th>tt_min_city</th>\n",
       "      <th>tt_capital</th>\n",
       "      <th>tt_border</th>\n",
       "      <th>tt_airport</th>\n",
       "      <th>tt_port</th>\n",
       "      <th>dist_cities</th>\n",
       "      <th>dist_airport</th>\n",
       "      <th>dist_ports</th>\n",
       "      <th>dist_borders</th>\n",
       "      <th>dist_capital</th>\n",
       "    </tr>\n",
       "  </thead>\n",
       "  <tbody>\n",
       "    <tr>\n",
       "      <th>0</th>\n",
       "      <td>2517</td>\n",
       "      <td>AR</td>\n",
       "      <td>429</td>\n",
       "      <td>12</td>\n",
       "      <td>Argentina</td>\n",
       "      <td>Buenos Aires</td>\n",
       "      <td>4379</td>\n",
       "      <td>25 De Mayo</td>\n",
       "      <td>507806.080218</td>\n",
       "      <td>7.186351e+09</td>\n",
       "      <td>...</td>\n",
       "      <td>3.655722</td>\n",
       "      <td>3.844321</td>\n",
       "      <td>8.697839</td>\n",
       "      <td>16.947489</td>\n",
       "      <td>4.386510</td>\n",
       "      <td>140.176264</td>\n",
       "      <td>1071.103884</td>\n",
       "      <td>214.612438</td>\n",
       "      <td>464.911083</td>\n",
       "      <td>203.439767</td>\n",
       "    </tr>\n",
       "    <tr>\n",
       "      <th>1</th>\n",
       "      <td>2518</td>\n",
       "      <td>AR</td>\n",
       "      <td>429</td>\n",
       "      <td>12</td>\n",
       "      <td>Argentina</td>\n",
       "      <td>Buenos Aires</td>\n",
       "      <td>4380</td>\n",
       "      <td>9 De Julio</td>\n",
       "      <td>368311.510262</td>\n",
       "      <td>6.476091e+09</td>\n",
       "      <td>...</td>\n",
       "      <td>3.046394</td>\n",
       "      <td>4.293924</td>\n",
       "      <td>8.757491</td>\n",
       "      <td>17.007141</td>\n",
       "      <td>4.642217</td>\n",
       "      <td>109.642151</td>\n",
       "      <td>1119.419680</td>\n",
       "      <td>267.223236</td>\n",
       "      <td>513.234792</td>\n",
       "      <td>270.857310</td>\n",
       "    </tr>\n",
       "    <tr>\n",
       "      <th>2</th>\n",
       "      <td>2519</td>\n",
       "      <td>AR</td>\n",
       "      <td>429</td>\n",
       "      <td>12</td>\n",
       "      <td>Argentina</td>\n",
       "      <td>Buenos Aires</td>\n",
       "      <td>4381</td>\n",
       "      <td>Adolfo Alsina</td>\n",
       "      <td>502875.251077</td>\n",
       "      <td>9.410333e+09</td>\n",
       "      <td>...</td>\n",
       "      <td>4.374728</td>\n",
       "      <td>9.599010</td>\n",
       "      <td>14.075741</td>\n",
       "      <td>22.325391</td>\n",
       "      <td>4.843131</td>\n",
       "      <td>180.945700</td>\n",
       "      <td>1413.497784</td>\n",
       "      <td>246.678950</td>\n",
       "      <td>806.186319</td>\n",
       "      <td>530.395344</td>\n",
       "    </tr>\n",
       "    <tr>\n",
       "      <th>3</th>\n",
       "      <td>2520</td>\n",
       "      <td>AR</td>\n",
       "      <td>429</td>\n",
       "      <td>12</td>\n",
       "      <td>Argentina</td>\n",
       "      <td>Buenos Aires</td>\n",
       "      <td>4382</td>\n",
       "      <td>Adolfo Gonzales Chaves</td>\n",
       "      <td>436878.099149</td>\n",
       "      <td>6.126381e+09</td>\n",
       "      <td>...</td>\n",
       "      <td>3.246187</td>\n",
       "      <td>6.547094</td>\n",
       "      <td>11.815472</td>\n",
       "      <td>20.065121</td>\n",
       "      <td>3.634292</td>\n",
       "      <td>137.368106</td>\n",
       "      <td>1364.892424</td>\n",
       "      <td>178.781260</td>\n",
       "      <td>758.699623</td>\n",
       "      <td>443.002546</td>\n",
       "    </tr>\n",
       "    <tr>\n",
       "      <th>4</th>\n",
       "      <td>2521</td>\n",
       "      <td>AR</td>\n",
       "      <td>429</td>\n",
       "      <td>12</td>\n",
       "      <td>Argentina</td>\n",
       "      <td>Buenos Aires</td>\n",
       "      <td>4383</td>\n",
       "      <td>Alberti</td>\n",
       "      <td>211023.180553</td>\n",
       "      <td>1.659956e+09</td>\n",
       "      <td>...</td>\n",
       "      <td>2.771077</td>\n",
       "      <td>3.050295</td>\n",
       "      <td>7.522046</td>\n",
       "      <td>15.771696</td>\n",
       "      <td>3.398154</td>\n",
       "      <td>99.877353</td>\n",
       "      <td>1033.013878</td>\n",
       "      <td>184.912156</td>\n",
       "      <td>426.821077</td>\n",
       "      <td>189.300030</td>\n",
       "    </tr>\n",
       "  </tbody>\n",
       "</table>\n",
       "<p>5 rows × 22 columns</p>\n",
       "</div>"
      ],
      "text/plain": [
       "   OBJECTID ISO_A2  WB_ADM1_CO  WB_ADM0_CO WB_ADM0_NA    WB_ADM1_NA  \\\n",
       "0      2517     AR         429          12  Argentina  Buenos Aires   \n",
       "1      2518     AR         429          12  Argentina  Buenos Aires   \n",
       "2      2519     AR         429          12  Argentina  Buenos Aires   \n",
       "3      2520     AR         429          12  Argentina  Buenos Aires   \n",
       "4      2521     AR         429          12  Argentina  Buenos Aires   \n",
       "\n",
       "   WB_ADM2_CO              WB_ADM2_NA     Shape_Leng    Shape_Area  ...  \\\n",
       "0        4379              25 De Mayo  507806.080218  7.186351e+09  ...   \n",
       "1        4380              9 De Julio  368311.510262  6.476091e+09  ...   \n",
       "2        4381           Adolfo Alsina  502875.251077  9.410333e+09  ...   \n",
       "3        4382  Adolfo Gonzales Chaves  436878.099149  6.126381e+09  ...   \n",
       "4        4383                 Alberti  211023.180553  1.659956e+09  ...   \n",
       "\n",
       "  tt_min_city tt_capital  tt_border  tt_airport   tt_port  dist_cities  \\\n",
       "0    3.655722   3.844321   8.697839   16.947489  4.386510   140.176264   \n",
       "1    3.046394   4.293924   8.757491   17.007141  4.642217   109.642151   \n",
       "2    4.374728   9.599010  14.075741   22.325391  4.843131   180.945700   \n",
       "3    3.246187   6.547094  11.815472   20.065121  3.634292   137.368106   \n",
       "4    2.771077   3.050295   7.522046   15.771696  3.398154    99.877353   \n",
       "\n",
       "   dist_airport  dist_ports  dist_borders  dist_capital  \n",
       "0   1071.103884  214.612438    464.911083    203.439767  \n",
       "1   1119.419680  267.223236    513.234792    270.857310  \n",
       "2   1413.497784  246.678950    806.186319    530.395344  \n",
       "3   1364.892424  178.781260    758.699623    443.002546  \n",
       "4   1033.013878  184.912156    426.821077    189.300030  \n",
       "\n",
       "[5 rows x 22 columns]"
      ]
     },
     "execution_count": 174,
     "metadata": {},
     "output_type": "execute_result"
    }
   ],
   "source": [
    "weighted_average.head()"
   ]
  },
  {
   "cell_type": "code",
   "execution_count": 180,
   "metadata": {},
   "outputs": [],
   "source": [
    "district = weighted_average.merge(ma[['OBJECTID','ma_5','ma_6','ma_7','ma_8','ma_9']], on=\"OBJECTID\")"
   ]
  },
  {
   "cell_type": "code",
   "execution_count": 182,
   "metadata": {},
   "outputs": [
    {
     "data": {
      "text/plain": [
       "Index(['OBJECTID', 'ISO_A2', 'WB_ADM1_CO', 'WB_ADM0_CO', 'WB_ADM0_NA',\n",
       "       'WB_ADM1_NA', 'WB_ADM2_CO', 'WB_ADM2_NA', 'Shape_Leng', 'Shape_Area',\n",
       "       'ISO3', 'geometry', 'tt_min_city', 'tt_capital', 'tt_border',\n",
       "       'tt_airport', 'tt_port', 'dist_cities', 'dist_airport', 'dist_ports',\n",
       "       'dist_borders', 'dist_capital', 'ma_5', 'ma_6', 'ma_7', 'ma_8', 'ma_9'],\n",
       "      dtype='object')"
      ]
     },
     "execution_count": 182,
     "metadata": {},
     "output_type": "execute_result"
    }
   ],
   "source": [
    "district.columns"
   ]
  },
  {
   "cell_type": "code",
   "execution_count": 183,
   "metadata": {},
   "outputs": [],
   "source": [
    "district.drop(columns=['geometry','Shape_Leng','Shape_Area'], inplace=True)\n",
    "district.to_excel(os.path.join(tables_path, \"10District Level Summary.xlsx\"), index=False)"
   ]
  },
  {
   "cell_type": "code",
   "execution_count": null,
   "metadata": {},
   "outputs": [],
   "source": []
  },
  {
   "cell_type": "code",
   "execution_count": 64,
   "metadata": {},
   "outputs": [],
   "source": [
    "target = gpd.read_file(os.path.join(data_dir, 'admin.shp'))"
   ]
  },
  {
   "cell_type": "code",
   "execution_count": 66,
   "metadata": {},
   "outputs": [],
   "source": [
    "output_path = os.path.join(os.path.expanduser(\"~\"),'data/argentina/access_2')"
   ]
  },
  {
   "cell_type": "code",
   "execution_count": 67,
   "metadata": {},
   "outputs": [],
   "source": [
    "ma5 = aggregator.pop_weighted_average(target, os.path.join(output_path,f\"access_cities_d5.tif\"), raster_path, 'ma_5')\n",
    "ma6 = aggregator.pop_weighted_average(target, os.path.join(output_path,f\"access_cities_d6.tif\"), raster_path, 'ma_6')\n",
    "ma7 = aggregator.pop_weighted_average(target, os.path.join(output_path,f\"access_cities_d7.tif\"), raster_path, 'ma_7')\n",
    "ma8 = aggregator.pop_weighted_average(target, os.path.join(output_path,f\"access_cities_d8.tif\"), raster_path, 'ma_8')\n",
    "ma9 = aggregator.pop_weighted_average(target, os.path.join(output_path,f\"access_cities_d9.tif\"), raster_path, 'ma_9')"
   ]
  },
  {
   "cell_type": "code",
   "execution_count": 68,
   "metadata": {},
   "outputs": [],
   "source": [
    "ma = pd.concat([ma5, ma6[['ma_6']], ma7[['ma_7']], ma8[['ma_8']], ma9[['ma_9']]], axis=1)"
   ]
  },
  {
   "cell_type": "code",
   "execution_count": 69,
   "metadata": {},
   "outputs": [],
   "source": [
    "ma.drop(columns=['geometry'], inplace=True)"
   ]
  },
  {
   "cell_type": "code",
   "execution_count": 70,
   "metadata": {},
   "outputs": [],
   "source": [
    "ma.to_csv(os.path.join(tables_path, \"MA_seconds.csv\"), index=False)"
   ]
  },
  {
   "cell_type": "code",
   "execution_count": 432,
   "metadata": {},
   "outputs": [],
   "source": [
    "# admin_path = '/home/wb514197/data/uruguay/admin/gadm36_URY_2.shp'\n",
    "admin_path = '/home/wb514197/data/uruguay/weighted/URY_Admin2.shp'\n",
    "target = gpd.read_file(admin_path)"
   ]
  },
  {
   "cell_type": "code",
   "execution_count": 433,
   "metadata": {},
   "outputs": [],
   "source": [
    "target = target.loc[:, target.columns != 'tt_cities_']"
   ]
  },
  {
   "cell_type": "code",
   "execution_count": 434,
   "metadata": {},
   "outputs": [],
   "source": [
    "target2 = target.join(city_tt_average[['tt_min_city']]).join(capital_tt_average[['tt_capital']]).join(ma[ma.columns[['ma' in x for x in ma.columns]]]).rename(columns={'tt_min_city':'tt_cities', 'tt_ports_w':'tt_ports'})"
   ]
  },
  {
   "cell_type": "code",
   "execution_count": 435,
   "metadata": {
    "scrolled": true
   },
   "outputs": [],
   "source": [
    "rai = pd.read_csv('/home/wb514197/data/uruguay/tables/Copy of 1. Rural Access to Roads.csv')"
   ]
  },
  {
   "cell_type": "code",
   "execution_count": 436,
   "metadata": {},
   "outputs": [],
   "source": [
    "target2 = target2.join(rai[['RAI_Percent_1','RAI_Percent_2','RAI_Percent_3','RAI_Percent_4']])"
   ]
  },
  {
   "cell_type": "code",
   "execution_count": 437,
   "metadata": {},
   "outputs": [],
   "source": [
    "output_path = os.path.join(os.path.expanduser(\"~\"),'data/uruguay')"
   ]
  },
  {
   "cell_type": "code",
   "execution_count": 438,
   "metadata": {},
   "outputs": [],
   "source": [
    "hubs = pd.read_csv(os.path.join(output_path,'tables',\"Travel time to regional hub.csv\")).rename(columns={'time':'tt_regional'})"
   ]
  },
  {
   "cell_type": "code",
   "execution_count": 439,
   "metadata": {},
   "outputs": [
    {
     "data": {
      "text/html": [
       "<div>\n",
       "<style scoped>\n",
       "    .dataframe tbody tr th:only-of-type {\n",
       "        vertical-align: middle;\n",
       "    }\n",
       "\n",
       "    .dataframe tbody tr th {\n",
       "        vertical-align: top;\n",
       "    }\n",
       "\n",
       "    .dataframe thead th {\n",
       "        text-align: right;\n",
       "    }\n",
       "</style>\n",
       "<table border=\"1\" class=\"dataframe\">\n",
       "  <thead>\n",
       "    <tr style=\"text-align: right;\">\n",
       "      <th></th>\n",
       "      <th>Unnamed: 0</th>\n",
       "      <th>GID_1</th>\n",
       "      <th>NAME_1</th>\n",
       "      <th>GID_2</th>\n",
       "      <th>NAME_2</th>\n",
       "      <th>centroid</th>\n",
       "      <th>ID</th>\n",
       "      <th>D_UID</th>\n",
       "      <th>tt_regional</th>\n",
       "      <th>CITY_NAME</th>\n",
       "      <th>CNTRY_NAME</th>\n",
       "    </tr>\n",
       "  </thead>\n",
       "  <tbody>\n",
       "    <tr>\n",
       "      <th>0</th>\n",
       "      <td>0</td>\n",
       "      <td>URY.1_1</td>\n",
       "      <td>Artigas</td>\n",
       "      <td>URY.1.1_1</td>\n",
       "      <td>n.a2</td>\n",
       "      <td>POINT (-56.89476510388938 -30.23170494834372)</td>\n",
       "      <td>0</td>\n",
       "      <td>107</td>\n",
       "      <td>6.778444</td>\n",
       "      <td>Parana</td>\n",
       "      <td>Argentina</td>\n",
       "    </tr>\n",
       "    <tr>\n",
       "      <th>1</th>\n",
       "      <td>1</td>\n",
       "      <td>URY.1_1</td>\n",
       "      <td>Artigas</td>\n",
       "      <td>URY.1.2_1</td>\n",
       "      <td>n.a3</td>\n",
       "      <td>POINT (-57.59252121326498 -30.35956950213746)</td>\n",
       "      <td>1</td>\n",
       "      <td>107</td>\n",
       "      <td>4.676694</td>\n",
       "      <td>Parana</td>\n",
       "      <td>Argentina</td>\n",
       "    </tr>\n",
       "    <tr>\n",
       "      <th>2</th>\n",
       "      <td>2</td>\n",
       "      <td>URY.1_1</td>\n",
       "      <td>Artigas</td>\n",
       "      <td>URY.1.3_1</td>\n",
       "      <td>n.a4</td>\n",
       "      <td>POINT (-57.12652663901931 -30.51186350465093)</td>\n",
       "      <td>2</td>\n",
       "      <td>107</td>\n",
       "      <td>5.904194</td>\n",
       "      <td>Parana</td>\n",
       "      <td>Argentina</td>\n",
       "    </tr>\n",
       "    <tr>\n",
       "      <th>3</th>\n",
       "      <td>3</td>\n",
       "      <td>URY.1_1</td>\n",
       "      <td>Artigas</td>\n",
       "      <td>URY.1.4_1</td>\n",
       "      <td>n.a5</td>\n",
       "      <td>POINT (-57.41064594134301 -30.48082143064122)</td>\n",
       "      <td>3</td>\n",
       "      <td>107</td>\n",
       "      <td>5.152444</td>\n",
       "      <td>Parana</td>\n",
       "      <td>Argentina</td>\n",
       "    </tr>\n",
       "    <tr>\n",
       "      <th>4</th>\n",
       "      <td>4</td>\n",
       "      <td>URY.1_1</td>\n",
       "      <td>Artigas</td>\n",
       "      <td>URY.1.5_1</td>\n",
       "      <td>n.a6</td>\n",
       "      <td>POINT (-56.5665962192789 -30.4645331618747)</td>\n",
       "      <td>4</td>\n",
       "      <td>107</td>\n",
       "      <td>6.083889</td>\n",
       "      <td>Parana</td>\n",
       "      <td>Argentina</td>\n",
       "    </tr>\n",
       "  </tbody>\n",
       "</table>\n",
       "</div>"
      ],
      "text/plain": [
       "   Unnamed: 0    GID_1   NAME_1      GID_2 NAME_2  \\\n",
       "0           0  URY.1_1  Artigas  URY.1.1_1   n.a2   \n",
       "1           1  URY.1_1  Artigas  URY.1.2_1   n.a3   \n",
       "2           2  URY.1_1  Artigas  URY.1.3_1   n.a4   \n",
       "3           3  URY.1_1  Artigas  URY.1.4_1   n.a5   \n",
       "4           4  URY.1_1  Artigas  URY.1.5_1   n.a6   \n",
       "\n",
       "                                        centroid  ID  D_UID  tt_regional  \\\n",
       "0  POINT (-56.89476510388938 -30.23170494834372)   0    107     6.778444   \n",
       "1  POINT (-57.59252121326498 -30.35956950213746)   1    107     4.676694   \n",
       "2  POINT (-57.12652663901931 -30.51186350465093)   2    107     5.904194   \n",
       "3  POINT (-57.41064594134301 -30.48082143064122)   3    107     5.152444   \n",
       "4    POINT (-56.5665962192789 -30.4645331618747)   4    107     6.083889   \n",
       "\n",
       "  CITY_NAME CNTRY_NAME  \n",
       "0    Parana  Argentina  \n",
       "1    Parana  Argentina  \n",
       "2    Parana  Argentina  \n",
       "3    Parana  Argentina  \n",
       "4    Parana  Argentina  "
      ]
     },
     "execution_count": 439,
     "metadata": {},
     "output_type": "execute_result"
    }
   ],
   "source": [
    "hubs.head()"
   ]
  },
  {
   "cell_type": "code",
   "execution_count": 441,
   "metadata": {},
   "outputs": [],
   "source": [
    "target2 = target2.merge(hubs[['GID_2','tt_regional','CITY_NAME','CNTRY_NAME']],on='GID_2')"
   ]
  },
  {
   "cell_type": "code",
   "execution_count": 442,
   "metadata": {},
   "outputs": [],
   "source": [
    "target2.to_file('/home/wb514197/data/uruguay/weighted/URY_Admin2_v3.shp', driver='ESRI Shapefile')"
   ]
  }
 ],
 "metadata": {
  "kernelspec": {
   "display_name": "GEO",
   "language": "python",
   "name": "geo"
  },
  "language_info": {
   "codemirror_mode": {
    "name": "ipython",
    "version": 3
   },
   "file_extension": ".py",
   "mimetype": "text/x-python",
   "name": "python",
   "nbconvert_exporter": "python",
   "pygments_lexer": "ipython3",
   "version": "3.7.6"
  }
 },
 "nbformat": 4,
 "nbformat_minor": 2
}
