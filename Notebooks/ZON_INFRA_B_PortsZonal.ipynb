{
 "cells": [
  {
   "cell_type": "code",
   "execution_count": 1,
   "metadata": {},
   "outputs": [],
   "source": [
    "import os, sys, importlib\n",
    "import rasterio\n",
    "\n",
    "import pandas as pd\n",
    "import geopandas as gpd\n",
    "\n",
    "from shapely.geometry import box\n",
    "\n",
    "sys.path.append(\"../\")\n",
    "\n",
    "import infrasap.rasterMisc as rMisc "
   ]
  },
  {
   "cell_type": "markdown",
   "metadata": {},
   "source": [
    "# Zonal Stats on VIIRS"
   ]
  },
  {
   "cell_type": "code",
   "execution_count": 11,
   "metadata": {},
   "outputs": [
    {
     "data": {
      "text/html": [
       "<div>\n",
       "<style scoped>\n",
       "    .dataframe tbody tr th:only-of-type {\n",
       "        vertical-align: middle;\n",
       "    }\n",
       "\n",
       "    .dataframe tbody tr th {\n",
       "        vertical-align: top;\n",
       "    }\n",
       "\n",
       "    .dataframe thead th {\n",
       "        text-align: right;\n",
       "    }\n",
       "</style>\n",
       "<table border=\"1\" class=\"dataframe\">\n",
       "  <thead>\n",
       "    <tr style=\"text-align: right;\">\n",
       "      <th></th>\n",
       "      <th>threshold</th>\n",
       "      <th>IDX</th>\n",
       "      <th>PORT</th>\n",
       "      <th>geometry</th>\n",
       "    </tr>\n",
       "  </thead>\n",
       "  <tbody>\n",
       "    <tr>\n",
       "      <th>0</th>\n",
       "      <td>360.0</td>\n",
       "      <td>1</td>\n",
       "      <td>12</td>\n",
       "      <td>(POLYGON ((88.93333333333334 25.84166666666667...</td>\n",
       "    </tr>\n",
       "    <tr>\n",
       "      <th>1</th>\n",
       "      <td>720.0</td>\n",
       "      <td>1</td>\n",
       "      <td>12</td>\n",
       "      <td>(POLYGON ((88.49166666666667 27.4, 88.49166666...</td>\n",
       "    </tr>\n",
       "    <tr>\n",
       "      <th>2</th>\n",
       "      <td>1440.0</td>\n",
       "      <td>1</td>\n",
       "      <td>12</td>\n",
       "      <td>(POLYGON ((91.83333333333331 33.15, 91.8333333...</td>\n",
       "    </tr>\n",
       "    <tr>\n",
       "      <th>3</th>\n",
       "      <td>2880.0</td>\n",
       "      <td>1</td>\n",
       "      <td>12</td>\n",
       "      <td>(POLYGON ((115.3416666666666 27.74166666666667...</td>\n",
       "    </tr>\n",
       "    <tr>\n",
       "      <th>4</th>\n",
       "      <td>360.0</td>\n",
       "      <td>1</td>\n",
       "      <td>19</td>\n",
       "      <td>(POLYGON ((-37.15000000000001 -4.9416666666666...</td>\n",
       "    </tr>\n",
       "  </tbody>\n",
       "</table>\n",
       "</div>"
      ],
      "text/plain": [
       "   threshold  IDX PORT                                           geometry\n",
       "0      360.0    1   12  (POLYGON ((88.93333333333334 25.84166666666667...\n",
       "1      720.0    1   12  (POLYGON ((88.49166666666667 27.4, 88.49166666...\n",
       "2     1440.0    1   12  (POLYGON ((91.83333333333331 33.15, 91.8333333...\n",
       "3     2880.0    1   12  (POLYGON ((115.3416666666666 27.74166666666667...\n",
       "4      360.0    1   19  (POLYGON ((-37.15000000000001 -4.9416666666666..."
      ]
     },
     "execution_count": 11,
     "metadata": {},
     "output_type": "execute_result"
    }
   ],
   "source": [
    "port_file = '/home/wb411133/data/Global/INFRA/PORTS/TRAVEL_TIMES/COMBO_all_ports.shp'\n",
    "zonal_ntl_res = \"/home/wb411133/temp/All_Port_VIIRS_ZONAL_Results.csv\"\n",
    "zonal_pop_area_res = \"/home/wb411133/temp/All_Port_Pop_Area_Results.csv\"\n",
    "viirs_folder = \"/home/public/Data/GLOBAL/NighttimeLights/VIIRS_CORRECTED\"\n",
    "viirs_vrts = []\n",
    "for root, dirs, files in os.walk(viirs_folder):\n",
    "    for f in files:\n",
    "        if f[-4:] == \".vrt\":\n",
    "            viirs_vrts.append(os.path.join(root, f))\n",
    "\n",
    "inD = gpd.read_file(port_file)\n",
    "inD.head()"
   ]
  },
  {
   "cell_type": "code",
   "execution_count": 20,
   "metadata": {},
   "outputs": [
    {
     "name": "stdout",
     "output_type": "stream",
     "text": [
      "/home/public/Data/GLOBAL/NighttimeLights/VIIRS_CORRECTED/2012_VIIRS_annual_composite.vrt\n",
      "/home/public/Data/GLOBAL/NighttimeLights/VIIRS_CORRECTED/2013_VIIRS_annual_composite.vrt\n",
      "/home/public/Data/GLOBAL/NighttimeLights/VIIRS_CORRECTED/2014_VIIRS_annual_composite.vrt\n",
      "/home/public/Data/GLOBAL/NighttimeLights/VIIRS_CORRECTED/2015_VIIRS_annual_composite.vrt\n",
      "/home/public/Data/GLOBAL/NighttimeLights/VIIRS_CORRECTED/2016_VIIRS_annual_composite.vrt\n",
      "/home/public/Data/GLOBAL/NighttimeLights/VIIRS_CORRECTED/2017_VIIRS_annual_composite.vrt\n",
      "/home/public/Data/GLOBAL/NighttimeLights/VIIRS_CORRECTED/2018_VIIRS_annual_composite.vrt\n",
      "/home/public/Data/GLOBAL/NighttimeLights/VIIRS_CORRECTED/2019_VIIRS_annual_composite.vrt\n"
     ]
    }
   ],
   "source": [
    "if not os.path.exists(zonal_ntl_res):\n",
    "    all_res = {}\n",
    "    for vrt in viirs_vrts:\n",
    "        print(vrt)\n",
    "        yr = os.path.basename(vrt).split(\"_\")[0]\n",
    "        res = rMisc.zonalStats(port_file, vrt)\n",
    "        res = pd.DataFrame(res, columns=[\"YR_%s_%s\" % (yr, x) for x in ['SUM','MIN','MAX','MEAN']])\n",
    "        all_res[yr] = res\n",
    "\n",
    "    try:\n",
    "        del final\n",
    "    except: \n",
    "        pass\n",
    "    for key, vals in all_res.items():\n",
    "        vals['IDX'] = inD['threshold']\n",
    "        xx = vals.iloc[:,[0,3]]\n",
    "        try:\n",
    "            final = final.join(xx)\n",
    "        except:\n",
    "            final = xx\n",
    "\n",
    "    "
   ]
  },
  {
   "cell_type": "code",
   "execution_count": 21,
   "metadata": {},
   "outputs": [],
   "source": [
    "final['threshold'] = inD['threshold']\n",
    "final['PORT'] = inD['PORT']\n",
    "final.to_csv(zonal_ntl_res)"
   ]
  },
  {
   "cell_type": "markdown",
   "metadata": {},
   "source": [
    "# Zonal stats on Pop"
   ]
  },
  {
   "cell_type": "code",
   "execution_count": 9,
   "metadata": {},
   "outputs": [],
   "source": [
    "pop_file = \"/home/public/Data/GLOBAL/Population/WorldPop_PPP_2020/ppp_2020_1km_Aggregated.tif\"\n",
    "res = rMisc.zonalStats(inD, pop_file, minVal=0)\n",
    "res = pd.DataFrame(res, columns=['pop_SUM', 'pop_MIN', 'pop_MAX', 'pop_MEAN'])"
   ]
  },
  {
   "cell_type": "code",
   "execution_count": 12,
   "metadata": {},
   "outputs": [],
   "source": [
    "res['threshold'] = inD['threshold']\n",
    "res['PORT'] = inD['PORT']"
   ]
  },
  {
   "cell_type": "markdown",
   "metadata": {},
   "source": [
    "# Calculate area"
   ]
  },
  {
   "cell_type": "code",
   "execution_count": 16,
   "metadata": {},
   "outputs": [],
   "source": [
    "marketsheds = gpd.read_file(port_file)\n",
    "marketsheds = marketsheds.to_crs({'init':'epsg:6933'})\n",
    "\n",
    "marketsheds['AREA_km'] = marketsheds['geometry'].apply(lambda x: x.area/1000000)"
   ]
  },
  {
   "cell_type": "code",
   "execution_count": 19,
   "metadata": {},
   "outputs": [],
   "source": [
    "res['AREA_km'] = marketsheds['AREA_km']\n",
    "res.to_csv(zonal_pop_area_res)"
   ]
  },
  {
   "cell_type": "markdown",
   "metadata": {},
   "source": [
    "# Combine Results"
   ]
  },
  {
   "cell_type": "code",
   "execution_count": null,
   "metadata": {},
   "outputs": [],
   "source": [
    "inP = gpd.read_file(port_file)\n"
   ]
  },
  {
   "cell_type": "code",
   "execution_count": null,
   "metadata": {},
   "outputs": [],
   "source": [
    "final['THRESH'] = inP['threshold']\n",
    "final['PORT'] = inP['PORT']\n",
    "final['WP_2020_SUM'] = res['pop_SUM']\n",
    "final['AREA'] = marketsheds['AREA']"
   ]
  },
  {
   "cell_type": "code",
   "execution_count": null,
   "metadata": {
    "scrolled": true
   },
   "outputs": [],
   "source": [
    "final.to_csv(\"/home/wb411133/temp/SouthAsia_Port_Results.csv\")"
   ]
  }
 ],
 "metadata": {
  "kernelspec": {
   "display_name": "Python (geog)",
   "language": "python",
   "name": "geog"
  },
  "language_info": {
   "codemirror_mode": {
    "name": "ipython",
    "version": 3
   },
   "file_extension": ".py",
   "mimetype": "text/x-python",
   "name": "python",
   "nbconvert_exporter": "python",
   "pygments_lexer": "ipython3",
   "version": "3.7.1"
  }
 },
 "nbformat": 4,
 "nbformat_minor": 2
}
