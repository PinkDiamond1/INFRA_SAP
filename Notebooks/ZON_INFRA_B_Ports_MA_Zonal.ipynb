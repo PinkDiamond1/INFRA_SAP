{
 "cells": [
  {
   "cell_type": "code",
   "execution_count": 1,
   "metadata": {},
   "outputs": [],
   "source": [
    "import sys, os, importlib\n",
    "import rasterio\n",
    "\n",
    "import numpy as np\n",
    "import pandas as pd\n",
    "import geopandas as gpd\n",
    "import osmnx as ox\n",
    "import GOSTnets as gn\n",
    "import skimage.graph as graph\n",
    "\n",
    "from rasterio.mask import mask\n",
    "from rasterio import features\n",
    "from rasterio.features import rasterize\n",
    "from rasterio.enums import MergeAlg\n",
    "from shapely.geometry import box, Point, Polygon\n",
    "from scipy.ndimage import generic_filter\n",
    "from pandana.loaders import osm\n",
    "\n",
    "sys.path.append(\"../\")\n",
    "\n",
    "import infrasap.market_access as ma\n",
    "import infrasap.rasterMisc as rMisc\n",
    "from infrasap.misc import tPrint"
   ]
  },
  {
   "cell_type": "markdown",
   "metadata": {},
   "source": [
    "# Calculate portsheds"
   ]
  },
  {
   "cell_type": "code",
   "execution_count": 2,
   "metadata": {},
   "outputs": [],
   "source": [
    "global_friction_surface = \"/home/public/Data/GLOBAL/INFRA/FRICTION_2015/2015_friction_surface_v1_no_ocean_travel.tif\"\n",
    "ports_file = '/home/wb411133/data/Global/INFRA/PORTS/ports_20201207.shp'\n"
   ]
  },
  {
   "cell_type": "code",
   "execution_count": 3,
   "metadata": {},
   "outputs": [],
   "source": [
    "inG = rasterio.open(global_friction_surface)\n",
    "mcp = graph.MCP_Geometric(inG.read()[0,:,:])"
   ]
  },
  {
   "cell_type": "code",
   "execution_count": 5,
   "metadata": {},
   "outputs": [],
   "source": [
    "inP = gpd.read_file(ports_file)\n",
    "inP = inP.loc[inP['TYPE'] == \"General\"]\n",
    "inP['IDX'] = [x+1 for x in list(inP.index)]"
   ]
  },
  {
   "cell_type": "code",
   "execution_count": null,
   "metadata": {
    "scrolled": true
   },
   "outputs": [
    {
     "name": "stdout",
     "output_type": "stream",
     "text": [
      "19:24:47\t1 of 144: Ambon\n",
      "19:33:25\t2 of 144: Apia\n",
      "19:41:48\t3 of 144: Bangkok\n",
      "19:54:19\t4 of 144: Bar\n",
      "20:07:46\t5 of 144: Bitung\n",
      "20:16:36\t6 of 144: Dili\n",
      "20:25:21\t7 of 144: Gulhifalhu\n",
      "20:34:09\t8 of 144: Hazira (Adani)\n",
      "20:46:35\t9 of 144: Jakarta\n",
      "20:55:18\t10 of 144: Jayapura\n",
      "21:03:58\t11 of 144: Koper\n",
      "21:17:42\t12 of 144: Krishnapatnam (Adani)\n",
      "21:29:32\t13 of 144: Kupang\n",
      "21:38:21\t14 of 144: Laem Chabang\n",
      "21:51:00\t15 of 144: Lautoka\n",
      "21:59:28\t16 of 144: Merauke\n",
      "22:08:04\t17 of 144: Mundra (DP World)\n",
      "22:20:34\t18 of 144: Nuku'alofa\n",
      "22:28:54\t19 of 144: Palawan\n",
      "22:37:31\t20 of 144: Pipavav (APMT/Maersk)\n",
      "22:49:37\t21 of 144: Piraeus\n",
      "23:02:39\t22 of 144: Port Harcourt\n",
      "23:12:13\t23 of 144: Port Via\n",
      "23:20:44\t24 of 144: Semarang\n",
      "23:29:24\t25 of 144: Sittwe\n",
      "23:41:42\t26 of 144: Sorong\n",
      "23:50:15\t27 of 144: Surabaya\n",
      "23:58:51\t28 of 144: Suva\n",
      "00:07:16\t29 of 144: Thessaloniki\n",
      "00:20:53\t30 of 144: Tibar Bay\n",
      "00:29:33\t31 of 144: Trieste\n",
      "00:43:05\t32 of 144: Suape (Recife)\n",
      "00:52:08\t33 of 144: Pecém (near Fortaleza)\n",
      "01:01:07\t34 of 144: San Pedro\n",
      "01:10:19\t35 of 144: Abidjan\n",
      "01:19:21\t36 of 144: Haina Port\n",
      "01:27:55\t37 of 144: Puerto Quetzal\n",
      "01:38:35\t38 of 144: Jawaharlal Nehru\n",
      "01:50:47\t39 of 144: Port Qasim\n",
      "02:03:51\t40 of 144: Port Lae\n",
      "02:12:24\t41 of 144: Gen Santos\n",
      "02:21:01\t42 of 144: Pointe Noir\n",
      "02:30:27\t43 of 144: Ngqura\n",
      "02:39:29\t44 of 144: Yuzhny\n",
      "02:54:43\t45 of 144: Cai Mep\n",
      "03:05:52\t46 of 144: Manzanillo\n",
      "03:15:56\t47 of 144: Lazaro Cardenas\n",
      "03:25:54\t48 of 144: Altamira\n",
      "03:36:06\t49 of 144: Veracruz\n",
      "03:46:34\t50 of 144: Acajutla\n",
      "03:57:34\t51 of 144: Puerto Barrios\n",
      "04:08:07\t52 of 144: Santo Tomas de Castilla\n",
      "04:18:42\t53 of 144: Puerto Cortes\n",
      "04:29:45\t54 of 144: Corinto\n",
      "04:41:30\t55 of 144: Caldera\n",
      "04:52:32\t56 of 144: Puerto Limon\n",
      "05:02:59\t57 of 144: Cristobal\n",
      "05:13:11\t58 of 144: Colon\n",
      "05:23:21\t59 of 144: Guayaquil\n",
      "05:33:03\t60 of 144: Balboa\n",
      "05:43:02\t61 of 144: Freeport Bahamas\n",
      "05:51:41\t62 of 144: Callao\n",
      "06:01:55\t63 of 144: Buenaventura\n",
      "06:11:49\t64 of 144: Port of Kingston\n",
      "06:20:26\t65 of 144: Cartagena\n",
      "06:30:17\t66 of 144: Barranquilla\n",
      "06:40:11\t67 of 144: Santa Marta\n",
      "06:49:59\t68 of 144: Port au Prince\n",
      "06:58:37\t69 of 144: Valparaiso\n",
      "07:08:05\t70 of 144: San Antonio\n",
      "07:17:34\t71 of 144: Buenos Aires\n",
      "07:27:13\t72 of 144: Montevideo\n",
      "07:36:47\t73 of 144: Itajaí\n",
      "07:46:18\t74 of 144: Itapoa\n",
      "07:55:51\t75 of 144: Paranagua\n",
      "08:05:29\t76 of 144: Santos\n",
      "08:15:07\t77 of 144: Rio Grande\n",
      "08:24:37\t78 of 144: Rio de Janeiro\n",
      "08:34:08\t79 of 144: Salvador de Bahia\n",
      "08:43:29\t80 of 144: Dakar\n",
      "08:52:35\t81 of 144: Conakry\n",
      "09:02:15\t82 of 144: Freetown\n",
      "09:11:54\t83 of 144: Monrovia\n",
      "09:21:30\t84 of 144: Agadir\n",
      "09:31:33\t85 of 144: Tangier\n",
      "09:41:56\t86 of 144: Takoradi\n",
      "09:51:05\t87 of 144: Tema\n",
      "10:00:26\t88 of 144: Lome\n",
      "10:09:52\t89 of 144: Cotonou\n",
      "10:19:27\t90 of 144: Algiers\n",
      "10:31:04\t91 of 144: Lagos\n",
      "10:40:34\t92 of 144: Owendo\n",
      "10:49:39\t93 of 144: Douala\n",
      "10:59:02\t94 of 144: Rades\n"
     ]
    }
   ],
   "source": [
    "importlib.reload(ma)\n",
    "\n",
    "drive_time_thresholds = [0.25, 0.5, 1, 2, 5] # days\n",
    "drive_time_thresholds = [x * 24 * 60 for x in drive_time_thresholds] #convert days to minutes\n",
    "drive_vectors = ma.generate_feature_vectors(inG, mcp, inP, drive_time_thresholds, 'PORT')\n",
    "drive_vectors.to_file(ports_file.replace(\".shp\", \"_PORTSHEDS_20210128.shp\"))"
   ]
  },
  {
   "cell_type": "markdown",
   "metadata": {},
   "source": [
    "# Zonal Stats on VIIRS"
   ]
  },
  {
   "cell_type": "code",
   "execution_count": 11,
   "metadata": {},
   "outputs": [
    {
     "data": {
      "text/html": [
       "<div>\n",
       "<style scoped>\n",
       "    .dataframe tbody tr th:only-of-type {\n",
       "        vertical-align: middle;\n",
       "    }\n",
       "\n",
       "    .dataframe tbody tr th {\n",
       "        vertical-align: top;\n",
       "    }\n",
       "\n",
       "    .dataframe thead th {\n",
       "        text-align: right;\n",
       "    }\n",
       "</style>\n",
       "<table border=\"1\" class=\"dataframe\">\n",
       "  <thead>\n",
       "    <tr style=\"text-align: right;\">\n",
       "      <th></th>\n",
       "      <th>threshold</th>\n",
       "      <th>IDX</th>\n",
       "      <th>geometry</th>\n",
       "    </tr>\n",
       "  </thead>\n",
       "  <tbody>\n",
       "    <tr>\n",
       "      <th>0</th>\n",
       "      <td>360.0</td>\n",
       "      <td>Ambon</td>\n",
       "      <td>POLYGON ((128.2666666666667 -3.508333333333326...</td>\n",
       "    </tr>\n",
       "    <tr>\n",
       "      <th>1</th>\n",
       "      <td>720.0</td>\n",
       "      <td>Ambon</td>\n",
       "      <td>POLYGON ((128.2666666666667 -3.508333333333326...</td>\n",
       "    </tr>\n",
       "    <tr>\n",
       "      <th>2</th>\n",
       "      <td>1440.0</td>\n",
       "      <td>Ambon</td>\n",
       "      <td>POLYGON ((128.2666666666667 -3.508333333333326...</td>\n",
       "    </tr>\n",
       "    <tr>\n",
       "      <th>3</th>\n",
       "      <td>2880.0</td>\n",
       "      <td>Ambon</td>\n",
       "      <td>POLYGON ((128.2666666666667 -3.508333333333326...</td>\n",
       "    </tr>\n",
       "    <tr>\n",
       "      <th>4</th>\n",
       "      <td>7200.0</td>\n",
       "      <td>Ambon</td>\n",
       "      <td>POLYGON ((128.2666666666667 -3.508333333333326...</td>\n",
       "    </tr>\n",
       "  </tbody>\n",
       "</table>\n",
       "</div>"
      ],
      "text/plain": [
       "   threshold    IDX                                           geometry\n",
       "0      360.0  Ambon  POLYGON ((128.2666666666667 -3.508333333333326...\n",
       "1      720.0  Ambon  POLYGON ((128.2666666666667 -3.508333333333326...\n",
       "2     1440.0  Ambon  POLYGON ((128.2666666666667 -3.508333333333326...\n",
       "3     2880.0  Ambon  POLYGON ((128.2666666666667 -3.508333333333326...\n",
       "4     7200.0  Ambon  POLYGON ((128.2666666666667 -3.508333333333326..."
      ]
     },
     "execution_count": 11,
     "metadata": {},
     "output_type": "execute_result"
    }
   ],
   "source": [
    "portshed_file = ports_file.replace(\".shp\", \"_PORTSHEDS_20210128.shp\")\n",
    "zonal_ntl_res = \"/home/wb411133/temp/All_Port_VIIRS_ZONAL_Results.csv\"\n",
    "zonal_pop_area_res = \"/home/wb411133/temp/All_Port_Pop_Area_Results.csv\"\n",
    "viirs_folder = \"/home/public/Data/GLOBAL/NighttimeLights/VIIRS_CORRECTED\"\n",
    "viirs_vrts = []\n",
    "for root, dirs, files in os.walk(viirs_folder):\n",
    "    for f in files:\n",
    "        if f[-4:] == \".vrt\":\n",
    "            viirs_vrts.append(os.path.join(root, f))\n",
    "\n",
    "inD = gpd.read_file(portshed_file)\n",
    "inD.head()"
   ]
  },
  {
   "cell_type": "code",
   "execution_count": 12,
   "metadata": {},
   "outputs": [],
   "source": [
    "os.remove(zonal_ntl_res)"
   ]
  },
  {
   "cell_type": "code",
   "execution_count": 14,
   "metadata": {},
   "outputs": [
    {
     "name": "stdout",
     "output_type": "stream",
     "text": [
      "/home/public/Data/GLOBAL/NighttimeLights/VIIRS_CORRECTED/2012_VIIRS_annual_composite.vrt\n",
      "/home/public/Data/GLOBAL/NighttimeLights/VIIRS_CORRECTED/2013_VIIRS_annual_composite.vrt\n",
      "/home/public/Data/GLOBAL/NighttimeLights/VIIRS_CORRECTED/2014_VIIRS_annual_composite.vrt\n",
      "/home/public/Data/GLOBAL/NighttimeLights/VIIRS_CORRECTED/2015_VIIRS_annual_composite.vrt\n",
      "/home/public/Data/GLOBAL/NighttimeLights/VIIRS_CORRECTED/2016_VIIRS_annual_composite.vrt\n",
      "/home/public/Data/GLOBAL/NighttimeLights/VIIRS_CORRECTED/2017_VIIRS_annual_composite.vrt\n",
      "/home/public/Data/GLOBAL/NighttimeLights/VIIRS_CORRECTED/2018_VIIRS_annual_composite.vrt\n",
      "/home/public/Data/GLOBAL/NighttimeLights/VIIRS_CORRECTED/2019_VIIRS_annual_composite.vrt\n"
     ]
    }
   ],
   "source": [
    "if not os.path.exists(zonal_ntl_res):\n",
    "    all_res = {}\n",
    "    for vrt in viirs_vrts:\n",
    "        print(vrt)\n",
    "        yr = os.path.basename(vrt).split(\"_\")[0]\n",
    "        res = rMisc.zonalStats(inD, vrt)\n",
    "        res = pd.DataFrame(res, columns=[\"YR_%s_%s\" % (yr, x) for x in ['SUM','MIN','MAX','MEAN']])\n",
    "        all_res[yr] = res\n",
    "else:\n",
    "    print(\"Zonal file already exists\")"
   ]
  },
  {
   "cell_type": "code",
   "execution_count": 15,
   "metadata": {},
   "outputs": [],
   "source": [
    "try:\n",
    "    del final\n",
    "except: \n",
    "    pass\n",
    "\n",
    "for key, vals in all_res.items():\n",
    "    vals['IDX'] = inD['threshold']\n",
    "    xx = vals.iloc[:,[0,3]]\n",
    "    try:        \n",
    "        final = final.join(xx)\n",
    "    except:\n",
    "        final = xx"
   ]
  },
  {
   "cell_type": "code",
   "execution_count": 16,
   "metadata": {},
   "outputs": [],
   "source": [
    "final['threshold'] = inD['threshold']\n",
    "final['IDX'] = inD['IDX']\n",
    "final.to_csv(zonal_ntl_res)"
   ]
  },
  {
   "cell_type": "markdown",
   "metadata": {},
   "source": [
    "# Zonal stats on Pop"
   ]
  },
  {
   "cell_type": "code",
   "execution_count": 17,
   "metadata": {},
   "outputs": [],
   "source": [
    "pop_file = \"/home/public/Data/GLOBAL/Population/WorldPop_PPP_2020/ppp_2020_1km_Aggregated.tif\"\n",
    "res = rMisc.zonalStats(inD, pop_file, minVal=0)\n",
    "res = pd.DataFrame(res, columns=['pop_SUM', 'pop_MIN', 'pop_MAX', 'pop_MEAN'])"
   ]
  },
  {
   "cell_type": "code",
   "execution_count": 18,
   "metadata": {},
   "outputs": [],
   "source": [
    "res['threshold'] = inD['threshold']\n",
    "res['IDX'] = inD['IDX']"
   ]
  },
  {
   "cell_type": "markdown",
   "metadata": {},
   "source": [
    "# Calculate area"
   ]
  },
  {
   "cell_type": "code",
   "execution_count": 20,
   "metadata": {},
   "outputs": [],
   "source": [
    "marketsheds = inD\n",
    "marketsheds = marketsheds.to_crs({'init':'epsg:6933'})\n",
    "\n",
    "marketsheds['AREA_km'] = marketsheds['geometry'].apply(lambda x: x.area/1000000)"
   ]
  },
  {
   "cell_type": "code",
   "execution_count": 21,
   "metadata": {},
   "outputs": [],
   "source": [
    "res['AREA_km'] = marketsheds['AREA_km']\n",
    "res.to_csv(zonal_pop_area_res)"
   ]
  },
  {
   "cell_type": "markdown",
   "metadata": {},
   "source": [
    "# Combine Results"
   ]
  },
  {
   "cell_type": "code",
   "execution_count": 22,
   "metadata": {},
   "outputs": [],
   "source": [
    "inP = gpd.read_file(ports_file)\n",
    "inP['IDX2'] = [x + 1 for x in list(inP.reset_index().index)]"
   ]
  },
  {
   "cell_type": "code",
   "execution_count": 23,
   "metadata": {},
   "outputs": [
    {
     "data": {
      "text/html": [
       "<div>\n",
       "<style scoped>\n",
       "    .dataframe tbody tr th:only-of-type {\n",
       "        vertical-align: middle;\n",
       "    }\n",
       "\n",
       "    .dataframe tbody tr th {\n",
       "        vertical-align: top;\n",
       "    }\n",
       "\n",
       "    .dataframe thead th {\n",
       "        text-align: right;\n",
       "    }\n",
       "</style>\n",
       "<table border=\"1\" class=\"dataframe\">\n",
       "  <thead>\n",
       "    <tr style=\"text-align: right;\">\n",
       "      <th></th>\n",
       "      <th>COUNTRY</th>\n",
       "      <th>IDX</th>\n",
       "      <th>PORT</th>\n",
       "      <th>REGION</th>\n",
       "      <th>TYPE</th>\n",
       "      <th>geometry</th>\n",
       "      <th>IDX2</th>\n",
       "    </tr>\n",
       "  </thead>\n",
       "  <tbody>\n",
       "    <tr>\n",
       "      <th>0</th>\n",
       "      <td>Indonesia</td>\n",
       "      <td>1</td>\n",
       "      <td>Ambon</td>\n",
       "      <td>East Asia &amp; Pacific</td>\n",
       "      <td>General</td>\n",
       "      <td>POINT (128.18333 -3.69583)</td>\n",
       "      <td>1</td>\n",
       "    </tr>\n",
       "    <tr>\n",
       "      <th>1</th>\n",
       "      <td>Samoa</td>\n",
       "      <td>2</td>\n",
       "      <td>Apia</td>\n",
       "      <td>East Asia &amp; Pacific</td>\n",
       "      <td>General</td>\n",
       "      <td>POINT (-171.76666 -13.83333)</td>\n",
       "      <td>2</td>\n",
       "    </tr>\n",
       "    <tr>\n",
       "      <th>2</th>\n",
       "      <td>Thailand</td>\n",
       "      <td>3</td>\n",
       "      <td>Bangkok</td>\n",
       "      <td>East Asia &amp; Pacific</td>\n",
       "      <td>General</td>\n",
       "      <td>POINT (100.50144 13.75398)</td>\n",
       "      <td>3</td>\n",
       "    </tr>\n",
       "    <tr>\n",
       "      <th>3</th>\n",
       "      <td>Montenegro</td>\n",
       "      <td>4</td>\n",
       "      <td>Bar</td>\n",
       "      <td>Europe &amp; Central Asia</td>\n",
       "      <td>General</td>\n",
       "      <td>POINT (19.09841 42.0937)</td>\n",
       "      <td>4</td>\n",
       "    </tr>\n",
       "    <tr>\n",
       "      <th>4</th>\n",
       "      <td>Indonesia</td>\n",
       "      <td>5</td>\n",
       "      <td>Bitung</td>\n",
       "      <td>East Asia &amp; Pacific</td>\n",
       "      <td>General</td>\n",
       "      <td>POINT (125.12824 1.44059)</td>\n",
       "      <td>5</td>\n",
       "    </tr>\n",
       "  </tbody>\n",
       "</table>\n",
       "</div>"
      ],
      "text/plain": [
       "      COUNTRY  IDX     PORT                 REGION     TYPE  \\\n",
       "0   Indonesia    1    Ambon    East Asia & Pacific  General   \n",
       "1       Samoa    2     Apia    East Asia & Pacific  General   \n",
       "2    Thailand    3  Bangkok    East Asia & Pacific  General   \n",
       "3  Montenegro    4      Bar  Europe & Central Asia  General   \n",
       "4   Indonesia    5   Bitung    East Asia & Pacific  General   \n",
       "\n",
       "                       geometry  IDX2  \n",
       "0    POINT (128.18333 -3.69583)     1  \n",
       "1  POINT (-171.76666 -13.83333)     2  \n",
       "2    POINT (100.50144 13.75398)     3  \n",
       "3      POINT (19.09841 42.0937)     4  \n",
       "4     POINT (125.12824 1.44059)     5  "
      ]
     },
     "execution_count": 23,
     "metadata": {},
     "output_type": "execute_result"
    }
   ],
   "source": [
    "inP.head()"
   ]
  },
  {
   "cell_type": "code",
   "execution_count": 24,
   "metadata": {},
   "outputs": [],
   "source": [
    "final['WP_2020_SUM'] = res['pop_SUM']\n",
    "final['AREA'] = marketsheds['AREA_km']"
   ]
  },
  {
   "cell_type": "code",
   "execution_count": 25,
   "metadata": {},
   "outputs": [
    {
     "data": {
      "text/html": [
       "<div>\n",
       "<style scoped>\n",
       "    .dataframe tbody tr th:only-of-type {\n",
       "        vertical-align: middle;\n",
       "    }\n",
       "\n",
       "    .dataframe tbody tr th {\n",
       "        vertical-align: top;\n",
       "    }\n",
       "\n",
       "    .dataframe thead th {\n",
       "        text-align: right;\n",
       "    }\n",
       "</style>\n",
       "<table border=\"1\" class=\"dataframe\">\n",
       "  <thead>\n",
       "    <tr style=\"text-align: right;\">\n",
       "      <th></th>\n",
       "      <th>YR_2012_SUM</th>\n",
       "      <th>YR_2012_MEAN</th>\n",
       "      <th>YR_2013_SUM</th>\n",
       "      <th>YR_2013_MEAN</th>\n",
       "      <th>YR_2014_SUM</th>\n",
       "      <th>YR_2014_MEAN</th>\n",
       "      <th>YR_2015_SUM</th>\n",
       "      <th>YR_2015_MEAN</th>\n",
       "      <th>YR_2016_SUM</th>\n",
       "      <th>YR_2016_MEAN</th>\n",
       "      <th>YR_2017_SUM</th>\n",
       "      <th>YR_2017_MEAN</th>\n",
       "      <th>YR_2018_SUM</th>\n",
       "      <th>YR_2018_MEAN</th>\n",
       "      <th>YR_2019_SUM</th>\n",
       "      <th>YR_2019_MEAN</th>\n",
       "      <th>threshold</th>\n",
       "      <th>IDX</th>\n",
       "      <th>WP_2020_SUM</th>\n",
       "      <th>AREA</th>\n",
       "    </tr>\n",
       "  </thead>\n",
       "  <tbody>\n",
       "    <tr>\n",
       "      <th>0</th>\n",
       "      <td>1138.403931</td>\n",
       "      <td>0.387212</td>\n",
       "      <td>1234.422729</td>\n",
       "      <td>0.419872</td>\n",
       "      <td>1285.852417</td>\n",
       "      <td>0.437365</td>\n",
       "      <td>1576.5896</td>\n",
       "      <td>0.536255</td>\n",
       "      <td>1679.842529</td>\n",
       "      <td>0.571375</td>\n",
       "      <td>1917.655151</td>\n",
       "      <td>0.652264</td>\n",
       "      <td>1771.670654</td>\n",
       "      <td>0.602609</td>\n",
       "      <td>1987.227295</td>\n",
       "      <td>0.675928</td>\n",
       "      <td>360.0</td>\n",
       "      <td>Ambon</td>\n",
       "      <td>491814.5625</td>\n",
       "      <td>627.041085</td>\n",
       "    </tr>\n",
       "    <tr>\n",
       "      <th>1</th>\n",
       "      <td>1138.403931</td>\n",
       "      <td>0.354864</td>\n",
       "      <td>1234.422729</td>\n",
       "      <td>0.384795</td>\n",
       "      <td>1285.852417</td>\n",
       "      <td>0.400827</td>\n",
       "      <td>1576.5896</td>\n",
       "      <td>0.491456</td>\n",
       "      <td>1679.842529</td>\n",
       "      <td>0.523642</td>\n",
       "      <td>1917.655151</td>\n",
       "      <td>0.597773</td>\n",
       "      <td>1771.670654</td>\n",
       "      <td>0.552266</td>\n",
       "      <td>1987.227295</td>\n",
       "      <td>0.619460</td>\n",
       "      <td>720.0</td>\n",
       "      <td>Ambon</td>\n",
       "      <td>494896.8750</td>\n",
       "      <td>684.197320</td>\n",
       "    </tr>\n",
       "    <tr>\n",
       "      <th>2</th>\n",
       "      <td>1138.403931</td>\n",
       "      <td>0.354864</td>\n",
       "      <td>1234.422729</td>\n",
       "      <td>0.384795</td>\n",
       "      <td>1285.852417</td>\n",
       "      <td>0.400827</td>\n",
       "      <td>1576.5896</td>\n",
       "      <td>0.491456</td>\n",
       "      <td>1679.842529</td>\n",
       "      <td>0.523642</td>\n",
       "      <td>1917.655151</td>\n",
       "      <td>0.597773</td>\n",
       "      <td>1771.670654</td>\n",
       "      <td>0.552266</td>\n",
       "      <td>1987.227295</td>\n",
       "      <td>0.619460</td>\n",
       "      <td>1440.0</td>\n",
       "      <td>Ambon</td>\n",
       "      <td>494896.8750</td>\n",
       "      <td>684.197320</td>\n",
       "    </tr>\n",
       "    <tr>\n",
       "      <th>3</th>\n",
       "      <td>1138.403931</td>\n",
       "      <td>0.354864</td>\n",
       "      <td>1234.422729</td>\n",
       "      <td>0.384795</td>\n",
       "      <td>1285.852417</td>\n",
       "      <td>0.400827</td>\n",
       "      <td>1576.5896</td>\n",
       "      <td>0.491456</td>\n",
       "      <td>1679.842529</td>\n",
       "      <td>0.523642</td>\n",
       "      <td>1917.655151</td>\n",
       "      <td>0.597773</td>\n",
       "      <td>1771.670654</td>\n",
       "      <td>0.552266</td>\n",
       "      <td>1987.227295</td>\n",
       "      <td>0.619460</td>\n",
       "      <td>2880.0</td>\n",
       "      <td>Ambon</td>\n",
       "      <td>494896.8750</td>\n",
       "      <td>684.197320</td>\n",
       "    </tr>\n",
       "    <tr>\n",
       "      <th>4</th>\n",
       "      <td>1138.403931</td>\n",
       "      <td>0.354864</td>\n",
       "      <td>1234.422729</td>\n",
       "      <td>0.384795</td>\n",
       "      <td>1285.852417</td>\n",
       "      <td>0.400827</td>\n",
       "      <td>1576.5896</td>\n",
       "      <td>0.491456</td>\n",
       "      <td>1679.842529</td>\n",
       "      <td>0.523642</td>\n",
       "      <td>1917.655151</td>\n",
       "      <td>0.597773</td>\n",
       "      <td>1771.670654</td>\n",
       "      <td>0.552266</td>\n",
       "      <td>1987.227295</td>\n",
       "      <td>0.619460</td>\n",
       "      <td>7200.0</td>\n",
       "      <td>Ambon</td>\n",
       "      <td>494896.8750</td>\n",
       "      <td>684.197320</td>\n",
       "    </tr>\n",
       "  </tbody>\n",
       "</table>\n",
       "</div>"
      ],
      "text/plain": [
       "   YR_2012_SUM  YR_2012_MEAN  YR_2013_SUM  YR_2013_MEAN  YR_2014_SUM  \\\n",
       "0  1138.403931      0.387212  1234.422729      0.419872  1285.852417   \n",
       "1  1138.403931      0.354864  1234.422729      0.384795  1285.852417   \n",
       "2  1138.403931      0.354864  1234.422729      0.384795  1285.852417   \n",
       "3  1138.403931      0.354864  1234.422729      0.384795  1285.852417   \n",
       "4  1138.403931      0.354864  1234.422729      0.384795  1285.852417   \n",
       "\n",
       "   YR_2014_MEAN  YR_2015_SUM  YR_2015_MEAN  YR_2016_SUM  YR_2016_MEAN  \\\n",
       "0      0.437365    1576.5896      0.536255  1679.842529      0.571375   \n",
       "1      0.400827    1576.5896      0.491456  1679.842529      0.523642   \n",
       "2      0.400827    1576.5896      0.491456  1679.842529      0.523642   \n",
       "3      0.400827    1576.5896      0.491456  1679.842529      0.523642   \n",
       "4      0.400827    1576.5896      0.491456  1679.842529      0.523642   \n",
       "\n",
       "   YR_2017_SUM  YR_2017_MEAN  YR_2018_SUM  YR_2018_MEAN  YR_2019_SUM  \\\n",
       "0  1917.655151      0.652264  1771.670654      0.602609  1987.227295   \n",
       "1  1917.655151      0.597773  1771.670654      0.552266  1987.227295   \n",
       "2  1917.655151      0.597773  1771.670654      0.552266  1987.227295   \n",
       "3  1917.655151      0.597773  1771.670654      0.552266  1987.227295   \n",
       "4  1917.655151      0.597773  1771.670654      0.552266  1987.227295   \n",
       "\n",
       "   YR_2019_MEAN  threshold    IDX  WP_2020_SUM        AREA  \n",
       "0      0.675928      360.0  Ambon  491814.5625  627.041085  \n",
       "1      0.619460      720.0  Ambon  494896.8750  684.197320  \n",
       "2      0.619460     1440.0  Ambon  494896.8750  684.197320  \n",
       "3      0.619460     2880.0  Ambon  494896.8750  684.197320  \n",
       "4      0.619460     7200.0  Ambon  494896.8750  684.197320  "
      ]
     },
     "execution_count": 25,
     "metadata": {},
     "output_type": "execute_result"
    }
   ],
   "source": [
    "final.head()"
   ]
  },
  {
   "cell_type": "code",
   "execution_count": 29,
   "metadata": {},
   "outputs": [],
   "source": [
    "inP['IDX'] = inP['IDX'].astype(str)\n",
    "final['IDX'] = final['IDX'].astype(str)"
   ]
  },
  {
   "cell_type": "code",
   "execution_count": 47,
   "metadata": {
    "scrolled": true
   },
   "outputs": [],
   "source": [
    "final_named = pd.merge(final, inP, left_on=\"IDX\", right_on=\"IDX\")\n",
    "final_named.to_csv(\"/home/wb411133/temp/ALL_Port_Results.csv\")"
   ]
  },
  {
   "cell_type": "markdown",
   "metadata": {},
   "source": [
    "# Generate overlap rasters"
   ]
  },
  {
   "cell_type": "code",
   "execution_count": 31,
   "metadata": {},
   "outputs": [],
   "source": [
    "overlap_file = \"/home/wb411133/temp/OVERLAP_FULL.tif\"\n",
    "adjusted_pop_file = \"/home/wb411133/temp/new_pop_OVERLAP.tif\""
   ]
  },
  {
   "cell_type": "code",
   "execution_count": 32,
   "metadata": {},
   "outputs": [],
   "source": [
    "drive_vectors = inD# gpd.read_file(ports_file.replace(\".shp\", \"_PORTSHEDS.shp\"))"
   ]
  },
  {
   "cell_type": "code",
   "execution_count": 33,
   "metadata": {},
   "outputs": [],
   "source": [
    "thresh = 1440 # 24 hours\n",
    "''' Subsetting for testing\n",
    "sel_ports = [88, 89, 91]\n",
    "& (drive_vectors['IDX'].isin(sel_ports))]\n",
    "'''\n",
    "inD = drive_vectors.loc[(drive_vectors['threshold'] == thresh)]\n",
    "inD.reset_index(inplace=True)"
   ]
  },
  {
   "cell_type": "code",
   "execution_count": 34,
   "metadata": {},
   "outputs": [
    {
     "data": {
      "text/plain": [
       "'\\nout_file = \"/home/wb411133/temp/TEST_POP_FILE.tif\"\\nrMisc.clipRaster(inR, inD, out_file)\\ninR = rasterio.open(out_file)\\n'"
      ]
     },
     "execution_count": 34,
     "metadata": {},
     "output_type": "execute_result"
    }
   ],
   "source": [
    "# extract population for selected area\n",
    "inR = rasterio.open(pop_file)\n",
    "'''\n",
    "out_file = \"/home/wb411133/temp/TEST_POP_FILE.tif\"\n",
    "rMisc.clipRaster(inR, inD, out_file)\n",
    "inR = rasterio.open(out_file)\n",
    "'''"
   ]
  },
  {
   "cell_type": "code",
   "execution_count": 35,
   "metadata": {},
   "outputs": [],
   "source": [
    "inR_data = inR.read()\n",
    "port_shps = [[x['geometry'], 1] for idx, x in inD.iterrows()]"
   ]
  },
  {
   "cell_type": "code",
   "execution_count": 36,
   "metadata": {},
   "outputs": [],
   "source": [
    "res = rasterize(port_shps, out_shape=[inR_data.shape[1], inR_data.shape[2]], \n",
    "                transform=inR.transform, merge_alg=MergeAlg.add)\n",
    "res = res.astype(rasterio.uint8)"
   ]
  },
  {
   "cell_type": "code",
   "execution_count": 37,
   "metadata": {},
   "outputs": [],
   "source": [
    "meta = inR.meta.copy()\n",
    "meta.update(nodata=0, dtype=str(res.dtype))\n",
    "\n",
    "with rasterio.open(overlap_file, 'w', **meta) as outR:\n",
    "    outR.write_band(1, res)"
   ]
  },
  {
   "cell_type": "code",
   "execution_count": 40,
   "metadata": {},
   "outputs": [
    {
     "data": {
      "text/plain": [
       "17"
      ]
     },
     "execution_count": 40,
     "metadata": {},
     "output_type": "execute_result"
    }
   ],
   "source": [
    "res.max()"
   ]
  },
  {
   "cell_type": "code",
   "execution_count": 38,
   "metadata": {},
   "outputs": [
    {
     "name": "stderr",
     "output_type": "stream",
     "text": [
      "/home/wb411133/.conda/envs/geog/lib/python3.7/site-packages/ipykernel_launcher.py:2: RuntimeWarning: divide by zero encountered in true_divide\n",
      "  \n",
      "/home/wb411133/.conda/envs/geog/lib/python3.7/site-packages/ipykernel_launcher.py:2: RuntimeWarning: invalid value encountered in true_divide\n",
      "  \n"
     ]
    }
   ],
   "source": [
    "# Divide the population layer by the overlap layer\n",
    "new_pop = inR_data[0,:,:] / res"
   ]
  },
  {
   "cell_type": "code",
   "execution_count": 39,
   "metadata": {},
   "outputs": [],
   "source": [
    "meta = inR.meta.copy()\n",
    "meta.update(nodata=0, dtype=str(new_pop.dtype))\n",
    "\n",
    "with rasterio.open(adjusted_pop_file, 'w', **meta) as outR:\n",
    "    outR.write_band(1, new_pop)"
   ]
  },
  {
   "cell_type": "code",
   "execution_count": 43,
   "metadata": {},
   "outputs": [],
   "source": [
    "pop_res = rMisc.zonalStats(inD, adjusted_pop_file, minVal=0)\n",
    "overlap_res = rMisc.zonalStats(inD, overlap_file, unqVals=list(range(1,res.max() + 1)), rastType='C')\n",
    "\n",
    "popD = pd.DataFrame(pop_res, columns = ['SUM','MIN','MAX','MEAN'])\n",
    "popD['IDX'] = inD['IDX']\n",
    "\n",
    "oD = pd.DataFrame(overlap_res, columns=['c%s' % x for x in list(range(1,res.max() + 1))])\n",
    "oD['IDX'] = inD['IDX']"
   ]
  },
  {
   "cell_type": "code",
   "execution_count": 45,
   "metadata": {},
   "outputs": [
    {
     "data": {
      "text/html": [
       "<div>\n",
       "<style scoped>\n",
       "    .dataframe tbody tr th:only-of-type {\n",
       "        vertical-align: middle;\n",
       "    }\n",
       "\n",
       "    .dataframe tbody tr th {\n",
       "        vertical-align: top;\n",
       "    }\n",
       "\n",
       "    .dataframe thead th {\n",
       "        text-align: right;\n",
       "    }\n",
       "</style>\n",
       "<table border=\"1\" class=\"dataframe\">\n",
       "  <thead>\n",
       "    <tr style=\"text-align: right;\">\n",
       "      <th></th>\n",
       "      <th>c1</th>\n",
       "      <th>c2</th>\n",
       "      <th>c3</th>\n",
       "      <th>c4</th>\n",
       "      <th>c5</th>\n",
       "      <th>c6</th>\n",
       "      <th>c7</th>\n",
       "      <th>c8</th>\n",
       "      <th>c9</th>\n",
       "      <th>c10</th>\n",
       "      <th>c11</th>\n",
       "      <th>c12</th>\n",
       "      <th>c13</th>\n",
       "      <th>c14</th>\n",
       "      <th>c15</th>\n",
       "      <th>c16</th>\n",
       "      <th>c17</th>\n",
       "      <th>IDX</th>\n",
       "    </tr>\n",
       "  </thead>\n",
       "  <tbody>\n",
       "    <tr>\n",
       "      <th>0</th>\n",
       "      <td>802</td>\n",
       "      <td>0</td>\n",
       "      <td>0</td>\n",
       "      <td>0</td>\n",
       "      <td>0</td>\n",
       "      <td>0</td>\n",
       "      <td>0</td>\n",
       "      <td>0</td>\n",
       "      <td>0</td>\n",
       "      <td>0</td>\n",
       "      <td>0</td>\n",
       "      <td>0</td>\n",
       "      <td>0</td>\n",
       "      <td>0</td>\n",
       "      <td>0</td>\n",
       "      <td>0</td>\n",
       "      <td>0</td>\n",
       "      <td>Ambon</td>\n",
       "    </tr>\n",
       "    <tr>\n",
       "      <th>1</th>\n",
       "      <td>1365</td>\n",
       "      <td>0</td>\n",
       "      <td>0</td>\n",
       "      <td>0</td>\n",
       "      <td>0</td>\n",
       "      <td>0</td>\n",
       "      <td>0</td>\n",
       "      <td>0</td>\n",
       "      <td>0</td>\n",
       "      <td>0</td>\n",
       "      <td>0</td>\n",
       "      <td>0</td>\n",
       "      <td>0</td>\n",
       "      <td>0</td>\n",
       "      <td>0</td>\n",
       "      <td>0</td>\n",
       "      <td>0</td>\n",
       "      <td>Apia</td>\n",
       "    </tr>\n",
       "    <tr>\n",
       "      <th>2</th>\n",
       "      <td>341225</td>\n",
       "      <td>366357</td>\n",
       "      <td>370093</td>\n",
       "      <td>331783</td>\n",
       "      <td>342656</td>\n",
       "      <td>421396</td>\n",
       "      <td>392820</td>\n",
       "      <td>436626</td>\n",
       "      <td>229376</td>\n",
       "      <td>292449</td>\n",
       "      <td>0</td>\n",
       "      <td>0</td>\n",
       "      <td>0</td>\n",
       "      <td>0</td>\n",
       "      <td>0</td>\n",
       "      <td>0</td>\n",
       "      <td>0</td>\n",
       "      <td>Bangkok</td>\n",
       "    </tr>\n",
       "    <tr>\n",
       "      <th>3</th>\n",
       "      <td>0</td>\n",
       "      <td>22133</td>\n",
       "      <td>285992</td>\n",
       "      <td>595053</td>\n",
       "      <td>277781</td>\n",
       "      <td>522555</td>\n",
       "      <td>407433</td>\n",
       "      <td>226328</td>\n",
       "      <td>442990</td>\n",
       "      <td>583043</td>\n",
       "      <td>226796</td>\n",
       "      <td>782040</td>\n",
       "      <td>184013</td>\n",
       "      <td>15706</td>\n",
       "      <td>16556</td>\n",
       "      <td>2406</td>\n",
       "      <td>170</td>\n",
       "      <td>Bar</td>\n",
       "    </tr>\n",
       "    <tr>\n",
       "      <th>4</th>\n",
       "      <td>31864</td>\n",
       "      <td>0</td>\n",
       "      <td>0</td>\n",
       "      <td>0</td>\n",
       "      <td>0</td>\n",
       "      <td>0</td>\n",
       "      <td>0</td>\n",
       "      <td>0</td>\n",
       "      <td>0</td>\n",
       "      <td>0</td>\n",
       "      <td>0</td>\n",
       "      <td>0</td>\n",
       "      <td>0</td>\n",
       "      <td>0</td>\n",
       "      <td>0</td>\n",
       "      <td>0</td>\n",
       "      <td>0</td>\n",
       "      <td>Bitung</td>\n",
       "    </tr>\n",
       "  </tbody>\n",
       "</table>\n",
       "</div>"
      ],
      "text/plain": [
       "       c1      c2      c3      c4      c5      c6      c7      c8      c9  \\\n",
       "0     802       0       0       0       0       0       0       0       0   \n",
       "1    1365       0       0       0       0       0       0       0       0   \n",
       "2  341225  366357  370093  331783  342656  421396  392820  436626  229376   \n",
       "3       0   22133  285992  595053  277781  522555  407433  226328  442990   \n",
       "4   31864       0       0       0       0       0       0       0       0   \n",
       "\n",
       "      c10     c11     c12     c13    c14    c15   c16  c17      IDX  \n",
       "0       0       0       0       0      0      0     0    0    Ambon  \n",
       "1       0       0       0       0      0      0     0    0     Apia  \n",
       "2  292449       0       0       0      0      0     0    0  Bangkok  \n",
       "3  583043  226796  782040  184013  15706  16556  2406  170      Bar  \n",
       "4       0       0       0       0      0      0     0    0   Bitung  "
      ]
     },
     "execution_count": 45,
     "metadata": {},
     "output_type": "execute_result"
    }
   ],
   "source": [
    "oD.head()"
   ]
  },
  {
   "cell_type": "code",
   "execution_count": 46,
   "metadata": {},
   "outputs": [],
   "source": [
    "popD.to_csv(adjusted_pop_file.replace(\".tif\", \"_%s_ZONAL.csv\" % thresh))\n",
    "oD.to_csv(overlap_file.replace(\".tif\", \"_%s_ZONAL.csv\" % thresh))"
   ]
  },
  {
   "cell_type": "code",
   "execution_count": 41,
   "metadata": {},
   "outputs": [
    {
     "data": {
      "text/plain": [
       "[1, 2, 3, 4, 5, 6, 7, 8, 9, 10, 11, 12, 13, 14, 15, 16, 17]"
      ]
     },
     "execution_count": 41,
     "metadata": {},
     "output_type": "execute_result"
    }
   ],
   "source": [
    " list(range(1,res.max() + 1))"
   ]
  },
  {
   "cell_type": "code",
   "execution_count": null,
   "metadata": {},
   "outputs": [],
   "source": []
  }
 ],
 "metadata": {
  "kernelspec": {
   "display_name": "Python (geog)",
   "language": "python",
   "name": "geog"
  },
  "language_info": {
   "codemirror_mode": {
    "name": "ipython",
    "version": 3
   },
   "file_extension": ".py",
   "mimetype": "text/x-python",
   "name": "python",
   "nbconvert_exporter": "python",
   "pygments_lexer": "ipython3",
   "version": "3.7.1"
  }
 },
 "nbformat": 4,
 "nbformat_minor": 2
}
