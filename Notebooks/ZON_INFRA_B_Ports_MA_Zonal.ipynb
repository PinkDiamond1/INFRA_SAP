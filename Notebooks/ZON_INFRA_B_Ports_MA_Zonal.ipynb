{
 "cells": [
  {
   "cell_type": "code",
   "execution_count": 1,
   "metadata": {},
   "outputs": [],
   "source": [
    "import sys, os, importlib\n",
    "import rasterio\n",
    "\n",
    "import numpy as np\n",
    "import pandas as pd\n",
    "import geopandas as gpd\n",
    "import osmnx as ox\n",
    "import GOSTnets as gn\n",
    "import skimage.graph as graph\n",
    "\n",
    "from rasterio.mask import mask\n",
    "from rasterio import features\n",
    "from shapely.geometry import box, Point, Polygon\n",
    "from scipy.ndimage import generic_filter\n",
    "from pandana.loaders import osm\n",
    "\n",
    "sys.path.append(\"../\")\n",
    "\n",
    "import infrasap.market_access as ma\n",
    "import infrasap.rasterMisc as rMisc\n",
    "from infrasap.misc import tPrint"
   ]
  },
  {
   "cell_type": "markdown",
   "metadata": {},
   "source": [
    "# Calculate portsheds"
   ]
  },
  {
   "cell_type": "code",
   "execution_count": 2,
   "metadata": {},
   "outputs": [],
   "source": [
    "global_friction_surface = \"/home/public/Data/GLOBAL/INFRA/FRICTION_2015/2015_friction_surface_v1_no_ocean_travel.tif\"\n",
    "\n",
    "inG = rasterio.open(global_friction_surface)\n",
    "mcp = graph.MCP_Geometric(inG.read()[0,:,:])"
   ]
  },
  {
   "cell_type": "code",
   "execution_count": 3,
   "metadata": {},
   "outputs": [],
   "source": [
    "in_ports = \"/home/wb411133/data/Projects/INFRA/PORTS/new_major_ports_geocoded.csv\"\n",
    "out_folder = \"/home/wb411133/data/Projects/INFRA/PORTS\"\n",
    "ports_file = os.path.join(out_folder, \"new_major_ports_20201203.shp\")\n",
    "if not os.path.exists(ports_file):\n",
    "    inP = pd.read_csv(in_ports)\n",
    "    inP_geom = [Point(x) for x in zip(inP['Lon'], inP['Lat'])]\n",
    "    inP = gpd.GeoDataFrame(inP, geometry = inP_geom, crs={'init':'epsg:4326'})\n",
    "    inP.to_file(ports_file)\n",
    "else:\n",
    "    inP = gpd.read_file(ports_file)"
   ]
  },
  {
   "cell_type": "code",
   "execution_count": null,
   "metadata": {},
   "outputs": [],
   "source": [
    "drive_time_thresholds = [0.25, 0.5, 1, 2, 5] # days\n",
    "drive_time_thresholds = [x * 24 * 60 for x in drive_time_thresholds] #convert days to minutes\n",
    "drive_vectors = ma.generate_feature_vectors(inG, mcp, inP, drive_time_thresholds)\n",
    "drive_vectors.to_file(ports_file.replace(\".shp\", \"_PORTSHEDS.shp\"))"
   ]
  },
  {
   "cell_type": "code",
   "execution_count": 8,
   "metadata": {},
   "outputs": [
    {
     "name": "stdout",
     "output_type": "stream",
     "text": [
      "True: /home/wb411133/data/Projects/INFRA/PORTS/new_major_ports_20201203_PORTSHEDS.shp\n",
      "True: /home/wb411133/data/Projects/INFRA/PORTS/new_major_ports_20201203.shp\n",
      "True: /home/wb411133/data/Global/INFRA/PORTS/TRAVEL_TIMES/COMBO_all_ports.shp\n",
      "True: /home/wb411133/data/Global/INFRA/PORTS/major_ports.shp\n"
     ]
    }
   ],
   "source": [
    "# Combine datasets together\n",
    "port_shed_1 = '/home/wb411133/data/Projects/INFRA/PORTS/new_major_ports_20201203_PORTSHEDS.shp'\n",
    "ports_1 = port_shed_1.replace(\"_PORTSHEDS\",\"\")\n",
    "\n",
    "port_shed_2 = \"/home/wb411133/data/Global/INFRA/PORTS/TRAVEL_TIMES/COMBO_all_ports.shp\"\n",
    "ports_2 = \"/home/wb411133/data/Global/INFRA/PORTS/major_ports.shp\"\n",
    "\n",
    "print(f\"{os.path.exists(port_shed_1)}: {port_shed_1}\")\n",
    "print(f\"{os.path.exists(ports_1)}: {ports_1}\")\n",
    "\n",
    "print(f\"{os.path.exists(port_shed_2)}: {port_shed_2}\")\n",
    "print(f\"{os.path.exists(ports_2)}: {ports_2}\")"
   ]
  },
  {
   "cell_type": "code",
   "execution_count": 95,
   "metadata": {},
   "outputs": [
    {
     "name": "stdout",
     "output_type": "stream",
     "text": [
      "Lamu Mainland\n"
     ]
    },
    {
     "data": {
      "text/html": [
       "<div>\n",
       "<style scoped>\n",
       "    .dataframe tbody tr th:only-of-type {\n",
       "        vertical-align: middle;\n",
       "    }\n",
       "\n",
       "    .dataframe tbody tr th {\n",
       "        vertical-align: top;\n",
       "    }\n",
       "\n",
       "    .dataframe thead th {\n",
       "        text-align: right;\n",
       "    }\n",
       "</style>\n",
       "<table border=\"1\" class=\"dataframe\">\n",
       "  <thead>\n",
       "    <tr style=\"text-align: right;\">\n",
       "      <th></th>\n",
       "      <th>COUNTRY</th>\n",
       "      <th>GEOMETRY</th>\n",
       "      <th>PORT</th>\n",
       "      <th>REGION</th>\n",
       "      <th>TYPE</th>\n",
       "      <th>IDX</th>\n",
       "    </tr>\n",
       "  </thead>\n",
       "  <tbody>\n",
       "    <tr>\n",
       "      <th>172</th>\n",
       "      <td>Philippines</td>\n",
       "      <td>POINT (125.4935471693414 9.786834570584471)</td>\n",
       "      <td>Surigao</td>\n",
       "      <td>East Asia &amp; Pacific</td>\n",
       "      <td>Bulk</td>\n",
       "      <td>173</td>\n",
       "    </tr>\n",
       "    <tr>\n",
       "      <th>173</th>\n",
       "      <td>Philippines</td>\n",
       "      <td>POINT (125.61278 7.073059999999995)</td>\n",
       "      <td>Davao</td>\n",
       "      <td>East Asia &amp; Pacific</td>\n",
       "      <td>General</td>\n",
       "      <td>174</td>\n",
       "    </tr>\n",
       "    <tr>\n",
       "      <th>174</th>\n",
       "      <td>Papua New Guinea</td>\n",
       "      <td>POINT (147.1585699285962 -9.476931767345329)</td>\n",
       "      <td>Port Moresby</td>\n",
       "      <td>East Asia &amp; Pacific</td>\n",
       "      <td>General</td>\n",
       "      <td>175</td>\n",
       "    </tr>\n",
       "    <tr>\n",
       "      <th>175</th>\n",
       "      <td>Kenya</td>\n",
       "      <td>POINT (40.91373309719673 -2.199298140720108)</td>\n",
       "      <td>Lamu Mainland</td>\n",
       "      <td>Sub-Saharan Africa</td>\n",
       "      <td>General</td>\n",
       "      <td>176</td>\n",
       "    </tr>\n",
       "    <tr>\n",
       "      <th>176</th>\n",
       "      <td>Sudan</td>\n",
       "      <td>POINT (37.23221005309645 19.62557566303288)</td>\n",
       "      <td>Port Sudan</td>\n",
       "      <td>Sub-Saharan Africa</td>\n",
       "      <td>General</td>\n",
       "      <td>177</td>\n",
       "    </tr>\n",
       "  </tbody>\n",
       "</table>\n",
       "</div>"
      ],
      "text/plain": [
       "              COUNTRY                                      GEOMETRY  \\\n",
       "172       Philippines   POINT (125.4935471693414 9.786834570584471)   \n",
       "173       Philippines           POINT (125.61278 7.073059999999995)   \n",
       "174  Papua New Guinea  POINT (147.1585699285962 -9.476931767345329)   \n",
       "175             Kenya  POINT (40.91373309719673 -2.199298140720108)   \n",
       "176             Sudan   POINT (37.23221005309645 19.62557566303288)   \n",
       "\n",
       "              PORT               REGION     TYPE  IDX  \n",
       "172        Surigao  East Asia & Pacific     Bulk  173  \n",
       "173          Davao  East Asia & Pacific  General  174  \n",
       "174  Port Moresby   East Asia & Pacific  General  175  \n",
       "175  Lamu Mainland   Sub-Saharan Africa  General  176  \n",
       "176     Port Sudan   Sub-Saharan Africa  General  177  "
      ]
     },
     "execution_count": 95,
     "metadata": {},
     "output_type": "execute_result"
    }
   ],
   "source": [
    "inP2 = gpd.read_file(ports_2)\n",
    "inP2['Port'] = inP2['Postal'].apply(lambda x: x.split(\",\")[0])\n",
    "def get_country(x):\n",
    "    try:\n",
    "        return( x.split(\",\")[1])\n",
    "    except:\n",
    "        print(x)\n",
    "        return(\"Kenya\")\n",
    "\n",
    "inP2['Country'] = inP2['Postal'].apply(get_country)\n",
    "inP2 = inP2.drop(['Postal','Lat','Lng','ISO3','OBJECTID'], axis=1)\n",
    "inP2.columns = [x.upper() for x in inP2.columns]\n",
    "inP2 = inP2.reindex(sorted(inP2.columns), axis=1)\n",
    "inP2['IDX'] = inP2.index + 1\n",
    "inP2.tail()"
   ]
  },
  {
   "cell_type": "code",
   "execution_count": 98,
   "metadata": {},
   "outputs": [
    {
     "data": {
      "text/html": [
       "<div>\n",
       "<style scoped>\n",
       "    .dataframe tbody tr th:only-of-type {\n",
       "        vertical-align: middle;\n",
       "    }\n",
       "\n",
       "    .dataframe tbody tr th {\n",
       "        vertical-align: top;\n",
       "    }\n",
       "\n",
       "    .dataframe thead th {\n",
       "        text-align: right;\n",
       "    }\n",
       "</style>\n",
       "<table border=\"1\" class=\"dataframe\">\n",
       "  <thead>\n",
       "    <tr style=\"text-align: right;\">\n",
       "      <th></th>\n",
       "      <th>COUNTRY</th>\n",
       "      <th>GEOMETRY</th>\n",
       "      <th>PORT</th>\n",
       "      <th>REGION</th>\n",
       "      <th>TYPE</th>\n",
       "      <th>base</th>\n",
       "      <th>IDX</th>\n",
       "    </tr>\n",
       "  </thead>\n",
       "  <tbody>\n",
       "    <tr>\n",
       "      <th>0</th>\n",
       "      <td>Indonesia</td>\n",
       "      <td>POINT (128.18333 -3.69583)</td>\n",
       "      <td>Ambon</td>\n",
       "      <td>East Asia &amp; Pacific</td>\n",
       "      <td>General</td>\n",
       "      <td>1</td>\n",
       "      <td>177</td>\n",
       "    </tr>\n",
       "    <tr>\n",
       "      <th>1</th>\n",
       "      <td>Samoa</td>\n",
       "      <td>POINT (-171.76666 -13.83333)</td>\n",
       "      <td>Apia</td>\n",
       "      <td>East Asia &amp; Pacific</td>\n",
       "      <td>General</td>\n",
       "      <td>2</td>\n",
       "      <td>178</td>\n",
       "    </tr>\n",
       "    <tr>\n",
       "      <th>2</th>\n",
       "      <td>Thailand</td>\n",
       "      <td>POINT (100.50144 13.75398)</td>\n",
       "      <td>Bangkok</td>\n",
       "      <td>East Asia &amp; Pacific</td>\n",
       "      <td>General</td>\n",
       "      <td>3</td>\n",
       "      <td>179</td>\n",
       "    </tr>\n",
       "    <tr>\n",
       "      <th>3</th>\n",
       "      <td>Montenegro</td>\n",
       "      <td>POINT (19.09841 42.0937)</td>\n",
       "      <td>Bar</td>\n",
       "      <td>Europe &amp; Central Asia</td>\n",
       "      <td>General</td>\n",
       "      <td>4</td>\n",
       "      <td>180</td>\n",
       "    </tr>\n",
       "    <tr>\n",
       "      <th>4</th>\n",
       "      <td>Indonesia</td>\n",
       "      <td>POINT (125.12824 1.44059)</td>\n",
       "      <td>Bitung</td>\n",
       "      <td>East Asia &amp; Pacific</td>\n",
       "      <td>General</td>\n",
       "      <td>5</td>\n",
       "      <td>181</td>\n",
       "    </tr>\n",
       "  </tbody>\n",
       "</table>\n",
       "</div>"
      ],
      "text/plain": [
       "      COUNTRY                      GEOMETRY     PORT                 REGION  \\\n",
       "0   Indonesia    POINT (128.18333 -3.69583)    Ambon    East Asia & Pacific   \n",
       "1       Samoa  POINT (-171.76666 -13.83333)     Apia    East Asia & Pacific   \n",
       "2    Thailand    POINT (100.50144 13.75398)  Bangkok    East Asia & Pacific   \n",
       "3  Montenegro      POINT (19.09841 42.0937)      Bar  Europe & Central Asia   \n",
       "4   Indonesia     POINT (125.12824 1.44059)   Bitung    East Asia & Pacific   \n",
       "\n",
       "      TYPE  base  IDX  \n",
       "0  General     1  177  \n",
       "1  General     2  178  \n",
       "2  General     3  179  \n",
       "3  General     4  180  \n",
       "4  General     5  181  "
      ]
     },
     "execution_count": 98,
     "metadata": {},
     "output_type": "execute_result"
    }
   ],
   "source": [
    "inP1 = gpd.read_file(ports_1)\n",
    "inP1['Type'] = \"General\"\n",
    "inP1 = inP1.drop(['Unnamed_ 0','Lat','Lon'],axis=1)\n",
    "inP1.columns = [x.upper() for x in inP1.columns]\n",
    "inP1 = inP1.reindex(sorted(inP1.columns), axis=1)\n",
    "inP1['base'] = inP1.index +1\n",
    "inP1['IDX'] = inP1.index + max(inP2['IDX'])\n",
    "inP1.head()"
   ]
  },
  {
   "cell_type": "code",
   "execution_count": 99,
   "metadata": {},
   "outputs": [],
   "source": [
    "combo_ports = inP1.append(inP2)"
   ]
  },
  {
   "cell_type": "code",
   "execution_count": 126,
   "metadata": {},
   "outputs": [],
   "source": [
    "inPortSheds1 = gpd.read_file(port_shed_1)\n",
    "inPortSheds2 = gpd.read_file(port_shed_2)\n",
    "inPortSheds2.drop(['IDX'],axis=1,inplace=True)"
   ]
  },
  {
   "cell_type": "code",
   "execution_count": 127,
   "metadata": {},
   "outputs": [
    {
     "data": {
      "text/html": [
       "<div>\n",
       "<style scoped>\n",
       "    .dataframe tbody tr th:only-of-type {\n",
       "        vertical-align: middle;\n",
       "    }\n",
       "\n",
       "    .dataframe tbody tr th {\n",
       "        vertical-align: top;\n",
       "    }\n",
       "\n",
       "    .dataframe thead th {\n",
       "        text-align: right;\n",
       "    }\n",
       "</style>\n",
       "<table border=\"1\" class=\"dataframe\">\n",
       "  <thead>\n",
       "    <tr style=\"text-align: right;\">\n",
       "      <th></th>\n",
       "      <th>threshold</th>\n",
       "      <th>geometry</th>\n",
       "      <th>IDX</th>\n",
       "    </tr>\n",
       "  </thead>\n",
       "  <tbody>\n",
       "    <tr>\n",
       "      <th>0</th>\n",
       "      <td>360.0</td>\n",
       "      <td>POLYGON ((128.2666666666667 -3.508333333333326...</td>\n",
       "      <td>177</td>\n",
       "    </tr>\n",
       "    <tr>\n",
       "      <th>1</th>\n",
       "      <td>720.0</td>\n",
       "      <td>POLYGON ((128.2666666666667 -3.508333333333326...</td>\n",
       "      <td>177</td>\n",
       "    </tr>\n",
       "    <tr>\n",
       "      <th>2</th>\n",
       "      <td>1440.0</td>\n",
       "      <td>POLYGON ((128.2666666666667 -3.508333333333326...</td>\n",
       "      <td>177</td>\n",
       "    </tr>\n",
       "    <tr>\n",
       "      <th>3</th>\n",
       "      <td>2880.0</td>\n",
       "      <td>POLYGON ((128.2666666666667 -3.508333333333326...</td>\n",
       "      <td>177</td>\n",
       "    </tr>\n",
       "    <tr>\n",
       "      <th>4</th>\n",
       "      <td>7200.0</td>\n",
       "      <td>POLYGON ((128.2666666666667 -3.508333333333326...</td>\n",
       "      <td>177</td>\n",
       "    </tr>\n",
       "  </tbody>\n",
       "</table>\n",
       "</div>"
      ],
      "text/plain": [
       "   threshold                                           geometry  IDX\n",
       "0      360.0  POLYGON ((128.2666666666667 -3.508333333333326...  177\n",
       "1      720.0  POLYGON ((128.2666666666667 -3.508333333333326...  177\n",
       "2     1440.0  POLYGON ((128.2666666666667 -3.508333333333326...  177\n",
       "3     2880.0  POLYGON ((128.2666666666667 -3.508333333333326...  177\n",
       "4     7200.0  POLYGON ((128.2666666666667 -3.508333333333326...  177"
      ]
     },
     "execution_count": 127,
     "metadata": {},
     "output_type": "execute_result"
    }
   ],
   "source": [
    "xx = pd.merge(inPortSheds1, inP1.loc[:,['base','IDX']], left_on='IDX', right_on='base')\n",
    "xx.drop(['IDX_x','base'],axis=1, inplace=True)\n",
    "xx.columns = [\"threshold\",\"geometry\",\"IDX\"]\n",
    "xx.head()"
   ]
  },
  {
   "cell_type": "code",
   "execution_count": 129,
   "metadata": {},
   "outputs": [],
   "source": [
    "inPortSheds2.columns = ['threshold','IDX','geometry']"
   ]
  },
  {
   "cell_type": "code",
   "execution_count": 130,
   "metadata": {},
   "outputs": [
    {
     "data": {
      "text/html": [
       "<div>\n",
       "<style scoped>\n",
       "    .dataframe tbody tr th:only-of-type {\n",
       "        vertical-align: middle;\n",
       "    }\n",
       "\n",
       "    .dataframe tbody tr th {\n",
       "        vertical-align: top;\n",
       "    }\n",
       "\n",
       "    .dataframe thead th {\n",
       "        text-align: right;\n",
       "    }\n",
       "</style>\n",
       "<table border=\"1\" class=\"dataframe\">\n",
       "  <thead>\n",
       "    <tr style=\"text-align: right;\">\n",
       "      <th></th>\n",
       "      <th>IDX</th>\n",
       "      <th>geometry</th>\n",
       "      <th>threshold</th>\n",
       "    </tr>\n",
       "  </thead>\n",
       "  <tbody>\n",
       "    <tr>\n",
       "      <th>0</th>\n",
       "      <td>12</td>\n",
       "      <td>(POLYGON ((88.93333333333334 25.84166666666667...</td>\n",
       "      <td>360.0</td>\n",
       "    </tr>\n",
       "    <tr>\n",
       "      <th>1</th>\n",
       "      <td>12</td>\n",
       "      <td>(POLYGON ((88.49166666666667 27.4, 88.49166666...</td>\n",
       "      <td>720.0</td>\n",
       "    </tr>\n",
       "    <tr>\n",
       "      <th>2</th>\n",
       "      <td>12</td>\n",
       "      <td>(POLYGON ((91.83333333333331 33.15, 91.8333333...</td>\n",
       "      <td>1440.0</td>\n",
       "    </tr>\n",
       "    <tr>\n",
       "      <th>3</th>\n",
       "      <td>12</td>\n",
       "      <td>(POLYGON ((115.3416666666666 27.74166666666667...</td>\n",
       "      <td>2880.0</td>\n",
       "    </tr>\n",
       "    <tr>\n",
       "      <th>4</th>\n",
       "      <td>19</td>\n",
       "      <td>(POLYGON ((-37.15000000000001 -4.9416666666666...</td>\n",
       "      <td>360.0</td>\n",
       "    </tr>\n",
       "  </tbody>\n",
       "</table>\n",
       "</div>"
      ],
      "text/plain": [
       "  IDX                                           geometry  threshold\n",
       "0  12  (POLYGON ((88.93333333333334 25.84166666666667...      360.0\n",
       "1  12  (POLYGON ((88.49166666666667 27.4, 88.49166666...      720.0\n",
       "2  12  (POLYGON ((91.83333333333331 33.15, 91.8333333...     1440.0\n",
       "3  12  (POLYGON ((115.3416666666666 27.74166666666667...     2880.0\n",
       "4  19  (POLYGON ((-37.15000000000001 -4.9416666666666...      360.0"
      ]
     },
     "execution_count": 130,
     "metadata": {},
     "output_type": "execute_result"
    }
   ],
   "source": [
    "combo_sheds = inPortSheds2.append(xx)\n",
    "combo_sheds.head()"
   ]
  },
  {
   "cell_type": "code",
   "execution_count": 132,
   "metadata": {},
   "outputs": [],
   "source": [
    "combo_sheds.to_file('/home/wb411133/data/Global/INFRA/PORTS/port_sheds_20201207.shp')"
   ]
  },
  {
   "cell_type": "code",
   "execution_count": 137,
   "metadata": {},
   "outputs": [],
   "source": [
    "combo_ports.set_geometry(\"GEOMETRY\", inplace=True)"
   ]
  },
  {
   "cell_type": "code",
   "execution_count": 138,
   "metadata": {},
   "outputs": [],
   "source": [
    "combo_ports.to_file('/home/wb411133/data/Global/INFRA/PORTS/ports_20201207.shp')"
   ]
  },
  {
   "cell_type": "markdown",
   "metadata": {},
   "source": [
    "# Zonal Stats on VIIRS"
   ]
  },
  {
   "cell_type": "code",
   "execution_count": 139,
   "metadata": {},
   "outputs": [
    {
     "data": {
      "text/html": [
       "<div>\n",
       "<style scoped>\n",
       "    .dataframe tbody tr th:only-of-type {\n",
       "        vertical-align: middle;\n",
       "    }\n",
       "\n",
       "    .dataframe tbody tr th {\n",
       "        vertical-align: top;\n",
       "    }\n",
       "\n",
       "    .dataframe thead th {\n",
       "        text-align: right;\n",
       "    }\n",
       "</style>\n",
       "<table border=\"1\" class=\"dataframe\">\n",
       "  <thead>\n",
       "    <tr style=\"text-align: right;\">\n",
       "      <th></th>\n",
       "      <th>IDX</th>\n",
       "      <th>geometry</th>\n",
       "      <th>threshold</th>\n",
       "    </tr>\n",
       "  </thead>\n",
       "  <tbody>\n",
       "    <tr>\n",
       "      <th>0</th>\n",
       "      <td>1</td>\n",
       "      <td>POLYGON ((128.2666666666667 -3.508333333333326...</td>\n",
       "      <td>360.0</td>\n",
       "    </tr>\n",
       "    <tr>\n",
       "      <th>1</th>\n",
       "      <td>1</td>\n",
       "      <td>POLYGON ((128.2666666666667 -3.508333333333326...</td>\n",
       "      <td>720.0</td>\n",
       "    </tr>\n",
       "    <tr>\n",
       "      <th>2</th>\n",
       "      <td>1</td>\n",
       "      <td>POLYGON ((128.2666666666667 -3.508333333333326...</td>\n",
       "      <td>1440.0</td>\n",
       "    </tr>\n",
       "    <tr>\n",
       "      <th>3</th>\n",
       "      <td>1</td>\n",
       "      <td>POLYGON ((128.2666666666667 -3.508333333333326...</td>\n",
       "      <td>2880.0</td>\n",
       "    </tr>\n",
       "    <tr>\n",
       "      <th>4</th>\n",
       "      <td>1</td>\n",
       "      <td>POLYGON ((128.2666666666667 -3.508333333333326...</td>\n",
       "      <td>7200.0</td>\n",
       "    </tr>\n",
       "  </tbody>\n",
       "</table>\n",
       "</div>"
      ],
      "text/plain": [
       "   IDX                                           geometry  threshold\n",
       "0    1  POLYGON ((128.2666666666667 -3.508333333333326...      360.0\n",
       "1    1  POLYGON ((128.2666666666667 -3.508333333333326...      720.0\n",
       "2    1  POLYGON ((128.2666666666667 -3.508333333333326...     1440.0\n",
       "3    1  POLYGON ((128.2666666666667 -3.508333333333326...     2880.0\n",
       "4    1  POLYGON ((128.2666666666667 -3.508333333333326...     7200.0"
      ]
     },
     "execution_count": 139,
     "metadata": {},
     "output_type": "execute_result"
    }
   ],
   "source": [
    "port_file = '/home/wb411133/data/Global/INFRA/PORTS/port_sheds_20201207.shp'\n",
    "zonal_ntl_res = \"/home/wb411133/temp/All_Port_VIIRS_ZONAL_Results.csv\"\n",
    "zonal_pop_area_res = \"/home/wb411133/temp/All_Port_Pop_Area_Results.csv\"\n",
    "viirs_folder = \"/home/public/Data/GLOBAL/NighttimeLights/VIIRS_CORRECTED\"\n",
    "viirs_vrts = []\n",
    "for root, dirs, files in os.walk(viirs_folder):\n",
    "    for f in files:\n",
    "        if f[-4:] == \".vrt\":\n",
    "            viirs_vrts.append(os.path.join(root, f))\n",
    "\n",
    "inD = inPortSheds #gpd.read_file(port_file)\n",
    "inD.head()"
   ]
  },
  {
   "cell_type": "code",
   "execution_count": 141,
   "metadata": {},
   "outputs": [
    {
     "name": "stdout",
     "output_type": "stream",
     "text": [
      "/home/public/Data/GLOBAL/NighttimeLights/VIIRS_CORRECTED/2012_VIIRS_annual_composite.vrt\n",
      "/home/public/Data/GLOBAL/NighttimeLights/VIIRS_CORRECTED/2013_VIIRS_annual_composite.vrt\n",
      "/home/public/Data/GLOBAL/NighttimeLights/VIIRS_CORRECTED/2014_VIIRS_annual_composite.vrt\n",
      "/home/public/Data/GLOBAL/NighttimeLights/VIIRS_CORRECTED/2015_VIIRS_annual_composite.vrt\n",
      "/home/public/Data/GLOBAL/NighttimeLights/VIIRS_CORRECTED/2016_VIIRS_annual_composite.vrt\n",
      "/home/public/Data/GLOBAL/NighttimeLights/VIIRS_CORRECTED/2017_VIIRS_annual_composite.vrt\n",
      "/home/public/Data/GLOBAL/NighttimeLights/VIIRS_CORRECTED/2018_VIIRS_annual_composite.vrt\n",
      "/home/public/Data/GLOBAL/NighttimeLights/VIIRS_CORRECTED/2019_VIIRS_annual_composite.vrt\n"
     ]
    },
    {
     "ename": "ValueError",
     "evalue": "cannot reindex from a duplicate axis",
     "output_type": "error",
     "traceback": [
      "\u001b[0;31m---------------------------------------------------------------------------\u001b[0m",
      "\u001b[0;31mValueError\u001b[0m                                Traceback (most recent call last)",
      "\u001b[0;32m<ipython-input-141-5707250fb7e6>\u001b[0m in \u001b[0;36m<module>\u001b[0;34m\u001b[0m\n\u001b[1;32m     13\u001b[0m         \u001b[0;32mpass\u001b[0m\u001b[0;34m\u001b[0m\u001b[0;34m\u001b[0m\u001b[0m\n\u001b[1;32m     14\u001b[0m     \u001b[0;32mfor\u001b[0m \u001b[0mkey\u001b[0m\u001b[0;34m,\u001b[0m \u001b[0mvals\u001b[0m \u001b[0;32min\u001b[0m \u001b[0mall_res\u001b[0m\u001b[0;34m.\u001b[0m\u001b[0mitems\u001b[0m\u001b[0;34m(\u001b[0m\u001b[0;34m)\u001b[0m\u001b[0;34m:\u001b[0m\u001b[0;34m\u001b[0m\u001b[0;34m\u001b[0m\u001b[0m\n\u001b[0;32m---> 15\u001b[0;31m         \u001b[0mvals\u001b[0m\u001b[0;34m[\u001b[0m\u001b[0;34m'IDX'\u001b[0m\u001b[0;34m]\u001b[0m \u001b[0;34m=\u001b[0m \u001b[0minD\u001b[0m\u001b[0;34m[\u001b[0m\u001b[0;34m'threshold'\u001b[0m\u001b[0;34m]\u001b[0m\u001b[0;34m\u001b[0m\u001b[0;34m\u001b[0m\u001b[0m\n\u001b[0m\u001b[1;32m     16\u001b[0m         \u001b[0mxx\u001b[0m \u001b[0;34m=\u001b[0m \u001b[0mvals\u001b[0m\u001b[0;34m.\u001b[0m\u001b[0miloc\u001b[0m\u001b[0;34m[\u001b[0m\u001b[0;34m:\u001b[0m\u001b[0;34m,\u001b[0m\u001b[0;34m[\u001b[0m\u001b[0;36m0\u001b[0m\u001b[0;34m,\u001b[0m\u001b[0;36m3\u001b[0m\u001b[0;34m]\u001b[0m\u001b[0;34m]\u001b[0m\u001b[0;34m\u001b[0m\u001b[0;34m\u001b[0m\u001b[0m\n\u001b[1;32m     17\u001b[0m         \u001b[0;32mtry\u001b[0m\u001b[0;34m:\u001b[0m\u001b[0;34m\u001b[0m\u001b[0;34m\u001b[0m\u001b[0m\n",
      "\u001b[0;32m~/.conda/envs/geog/lib/python3.7/site-packages/pandas/core/frame.py\u001b[0m in \u001b[0;36m__setitem__\u001b[0;34m(self, key, value)\u001b[0m\n\u001b[1;32m   3368\u001b[0m         \u001b[0;32melse\u001b[0m\u001b[0;34m:\u001b[0m\u001b[0;34m\u001b[0m\u001b[0;34m\u001b[0m\u001b[0m\n\u001b[1;32m   3369\u001b[0m             \u001b[0;31m# set column\u001b[0m\u001b[0;34m\u001b[0m\u001b[0;34m\u001b[0m\u001b[0;34m\u001b[0m\u001b[0m\n\u001b[0;32m-> 3370\u001b[0;31m             \u001b[0mself\u001b[0m\u001b[0;34m.\u001b[0m\u001b[0m_set_item\u001b[0m\u001b[0;34m(\u001b[0m\u001b[0mkey\u001b[0m\u001b[0;34m,\u001b[0m \u001b[0mvalue\u001b[0m\u001b[0;34m)\u001b[0m\u001b[0;34m\u001b[0m\u001b[0;34m\u001b[0m\u001b[0m\n\u001b[0m\u001b[1;32m   3371\u001b[0m \u001b[0;34m\u001b[0m\u001b[0m\n\u001b[1;32m   3372\u001b[0m     \u001b[0;32mdef\u001b[0m \u001b[0m_setitem_slice\u001b[0m\u001b[0;34m(\u001b[0m\u001b[0mself\u001b[0m\u001b[0;34m,\u001b[0m \u001b[0mkey\u001b[0m\u001b[0;34m,\u001b[0m \u001b[0mvalue\u001b[0m\u001b[0;34m)\u001b[0m\u001b[0;34m:\u001b[0m\u001b[0;34m\u001b[0m\u001b[0;34m\u001b[0m\u001b[0m\n",
      "\u001b[0;32m~/.conda/envs/geog/lib/python3.7/site-packages/pandas/core/frame.py\u001b[0m in \u001b[0;36m_set_item\u001b[0;34m(self, key, value)\u001b[0m\n\u001b[1;32m   3443\u001b[0m \u001b[0;34m\u001b[0m\u001b[0m\n\u001b[1;32m   3444\u001b[0m         \u001b[0mself\u001b[0m\u001b[0;34m.\u001b[0m\u001b[0m_ensure_valid_index\u001b[0m\u001b[0;34m(\u001b[0m\u001b[0mvalue\u001b[0m\u001b[0;34m)\u001b[0m\u001b[0;34m\u001b[0m\u001b[0;34m\u001b[0m\u001b[0m\n\u001b[0;32m-> 3445\u001b[0;31m         \u001b[0mvalue\u001b[0m \u001b[0;34m=\u001b[0m \u001b[0mself\u001b[0m\u001b[0;34m.\u001b[0m\u001b[0m_sanitize_column\u001b[0m\u001b[0;34m(\u001b[0m\u001b[0mkey\u001b[0m\u001b[0;34m,\u001b[0m \u001b[0mvalue\u001b[0m\u001b[0;34m)\u001b[0m\u001b[0;34m\u001b[0m\u001b[0;34m\u001b[0m\u001b[0m\n\u001b[0m\u001b[1;32m   3446\u001b[0m         \u001b[0mNDFrame\u001b[0m\u001b[0;34m.\u001b[0m\u001b[0m_set_item\u001b[0m\u001b[0;34m(\u001b[0m\u001b[0mself\u001b[0m\u001b[0;34m,\u001b[0m \u001b[0mkey\u001b[0m\u001b[0;34m,\u001b[0m \u001b[0mvalue\u001b[0m\u001b[0;34m)\u001b[0m\u001b[0;34m\u001b[0m\u001b[0;34m\u001b[0m\u001b[0m\n\u001b[1;32m   3447\u001b[0m \u001b[0;34m\u001b[0m\u001b[0m\n",
      "\u001b[0;32m~/.conda/envs/geog/lib/python3.7/site-packages/pandas/core/frame.py\u001b[0m in \u001b[0;36m_sanitize_column\u001b[0;34m(self, key, value, broadcast)\u001b[0m\n\u001b[1;32m   3605\u001b[0m \u001b[0;34m\u001b[0m\u001b[0m\n\u001b[1;32m   3606\u001b[0m         \u001b[0;32mif\u001b[0m \u001b[0misinstance\u001b[0m\u001b[0;34m(\u001b[0m\u001b[0mvalue\u001b[0m\u001b[0;34m,\u001b[0m \u001b[0mSeries\u001b[0m\u001b[0;34m)\u001b[0m\u001b[0;34m:\u001b[0m\u001b[0;34m\u001b[0m\u001b[0;34m\u001b[0m\u001b[0m\n\u001b[0;32m-> 3607\u001b[0;31m             \u001b[0mvalue\u001b[0m \u001b[0;34m=\u001b[0m \u001b[0mreindexer\u001b[0m\u001b[0;34m(\u001b[0m\u001b[0mvalue\u001b[0m\u001b[0;34m)\u001b[0m\u001b[0;34m\u001b[0m\u001b[0;34m\u001b[0m\u001b[0m\n\u001b[0m\u001b[1;32m   3608\u001b[0m \u001b[0;34m\u001b[0m\u001b[0m\n\u001b[1;32m   3609\u001b[0m         \u001b[0;32melif\u001b[0m \u001b[0misinstance\u001b[0m\u001b[0;34m(\u001b[0m\u001b[0mvalue\u001b[0m\u001b[0;34m,\u001b[0m \u001b[0mDataFrame\u001b[0m\u001b[0;34m)\u001b[0m\u001b[0;34m:\u001b[0m\u001b[0;34m\u001b[0m\u001b[0;34m\u001b[0m\u001b[0m\n",
      "\u001b[0;32m~/.conda/envs/geog/lib/python3.7/site-packages/pandas/core/frame.py\u001b[0m in \u001b[0;36mreindexer\u001b[0;34m(value)\u001b[0m\n\u001b[1;32m   3597\u001b[0m                     \u001b[0;31m# duplicate axis\u001b[0m\u001b[0;34m\u001b[0m\u001b[0;34m\u001b[0m\u001b[0;34m\u001b[0m\u001b[0m\n\u001b[1;32m   3598\u001b[0m                     \u001b[0;32mif\u001b[0m \u001b[0;32mnot\u001b[0m \u001b[0mvalue\u001b[0m\u001b[0;34m.\u001b[0m\u001b[0mindex\u001b[0m\u001b[0;34m.\u001b[0m\u001b[0mis_unique\u001b[0m\u001b[0;34m:\u001b[0m\u001b[0;34m\u001b[0m\u001b[0;34m\u001b[0m\u001b[0m\n\u001b[0;32m-> 3599\u001b[0;31m                         \u001b[0;32mraise\u001b[0m \u001b[0me\u001b[0m\u001b[0;34m\u001b[0m\u001b[0;34m\u001b[0m\u001b[0m\n\u001b[0m\u001b[1;32m   3600\u001b[0m \u001b[0;34m\u001b[0m\u001b[0m\n\u001b[1;32m   3601\u001b[0m                     \u001b[0;31m# other\u001b[0m\u001b[0;34m\u001b[0m\u001b[0;34m\u001b[0m\u001b[0;34m\u001b[0m\u001b[0m\n",
      "\u001b[0;32m~/.conda/envs/geog/lib/python3.7/site-packages/pandas/core/frame.py\u001b[0m in \u001b[0;36mreindexer\u001b[0;34m(value)\u001b[0m\n\u001b[1;32m   3592\u001b[0m                 \u001b[0;31m# GH 4107\u001b[0m\u001b[0;34m\u001b[0m\u001b[0;34m\u001b[0m\u001b[0;34m\u001b[0m\u001b[0m\n\u001b[1;32m   3593\u001b[0m                 \u001b[0;32mtry\u001b[0m\u001b[0;34m:\u001b[0m\u001b[0;34m\u001b[0m\u001b[0;34m\u001b[0m\u001b[0m\n\u001b[0;32m-> 3594\u001b[0;31m                     \u001b[0mvalue\u001b[0m \u001b[0;34m=\u001b[0m \u001b[0mvalue\u001b[0m\u001b[0;34m.\u001b[0m\u001b[0mreindex\u001b[0m\u001b[0;34m(\u001b[0m\u001b[0mself\u001b[0m\u001b[0;34m.\u001b[0m\u001b[0mindex\u001b[0m\u001b[0;34m)\u001b[0m\u001b[0;34m.\u001b[0m\u001b[0m_values\u001b[0m\u001b[0;34m\u001b[0m\u001b[0;34m\u001b[0m\u001b[0m\n\u001b[0m\u001b[1;32m   3595\u001b[0m                 \u001b[0;32mexcept\u001b[0m \u001b[0mException\u001b[0m \u001b[0;32mas\u001b[0m \u001b[0me\u001b[0m\u001b[0;34m:\u001b[0m\u001b[0;34m\u001b[0m\u001b[0;34m\u001b[0m\u001b[0m\n\u001b[1;32m   3596\u001b[0m \u001b[0;34m\u001b[0m\u001b[0m\n",
      "\u001b[0;32m~/.conda/envs/geog/lib/python3.7/site-packages/pandas/core/series.py\u001b[0m in \u001b[0;36mreindex\u001b[0;34m(self, index, **kwargs)\u001b[0m\n\u001b[1;32m   3736\u001b[0m     \u001b[0;34m@\u001b[0m\u001b[0mAppender\u001b[0m\u001b[0;34m(\u001b[0m\u001b[0mgeneric\u001b[0m\u001b[0;34m.\u001b[0m\u001b[0mNDFrame\u001b[0m\u001b[0;34m.\u001b[0m\u001b[0mreindex\u001b[0m\u001b[0;34m.\u001b[0m\u001b[0m__doc__\u001b[0m\u001b[0;34m)\u001b[0m\u001b[0;34m\u001b[0m\u001b[0;34m\u001b[0m\u001b[0m\n\u001b[1;32m   3737\u001b[0m     \u001b[0;32mdef\u001b[0m \u001b[0mreindex\u001b[0m\u001b[0;34m(\u001b[0m\u001b[0mself\u001b[0m\u001b[0;34m,\u001b[0m \u001b[0mindex\u001b[0m\u001b[0;34m=\u001b[0m\u001b[0;32mNone\u001b[0m\u001b[0;34m,\u001b[0m \u001b[0;34m**\u001b[0m\u001b[0mkwargs\u001b[0m\u001b[0;34m)\u001b[0m\u001b[0;34m:\u001b[0m\u001b[0;34m\u001b[0m\u001b[0;34m\u001b[0m\u001b[0m\n\u001b[0;32m-> 3738\u001b[0;31m         \u001b[0;32mreturn\u001b[0m \u001b[0msuper\u001b[0m\u001b[0;34m(\u001b[0m\u001b[0mSeries\u001b[0m\u001b[0;34m,\u001b[0m \u001b[0mself\u001b[0m\u001b[0;34m)\u001b[0m\u001b[0;34m.\u001b[0m\u001b[0mreindex\u001b[0m\u001b[0;34m(\u001b[0m\u001b[0mindex\u001b[0m\u001b[0;34m=\u001b[0m\u001b[0mindex\u001b[0m\u001b[0;34m,\u001b[0m \u001b[0;34m**\u001b[0m\u001b[0mkwargs\u001b[0m\u001b[0;34m)\u001b[0m\u001b[0;34m\u001b[0m\u001b[0;34m\u001b[0m\u001b[0m\n\u001b[0m\u001b[1;32m   3739\u001b[0m \u001b[0;34m\u001b[0m\u001b[0m\n\u001b[1;32m   3740\u001b[0m     def drop(self, labels=None, axis=0, index=None, columns=None,\n",
      "\u001b[0;32m~/.conda/envs/geog/lib/python3.7/site-packages/pandas/core/generic.py\u001b[0m in \u001b[0;36mreindex\u001b[0;34m(self, *args, **kwargs)\u001b[0m\n\u001b[1;32m   4354\u001b[0m         \u001b[0;31m# perform the reindex on the axes\u001b[0m\u001b[0;34m\u001b[0m\u001b[0;34m\u001b[0m\u001b[0;34m\u001b[0m\u001b[0m\n\u001b[1;32m   4355\u001b[0m         return self._reindex_axes(axes, level, limit, tolerance, method,\n\u001b[0;32m-> 4356\u001b[0;31m                                   fill_value, copy).__finalize__(self)\n\u001b[0m\u001b[1;32m   4357\u001b[0m \u001b[0;34m\u001b[0m\u001b[0m\n\u001b[1;32m   4358\u001b[0m     def _reindex_axes(self, axes, level, limit, tolerance, method, fill_value,\n",
      "\u001b[0;32m~/.conda/envs/geog/lib/python3.7/site-packages/pandas/core/generic.py\u001b[0m in \u001b[0;36m_reindex_axes\u001b[0;34m(self, axes, level, limit, tolerance, method, fill_value, copy)\u001b[0m\n\u001b[1;32m   4372\u001b[0m             obj = obj._reindex_with_indexers({axis: [new_index, indexer]},\n\u001b[1;32m   4373\u001b[0m                                              \u001b[0mfill_value\u001b[0m\u001b[0;34m=\u001b[0m\u001b[0mfill_value\u001b[0m\u001b[0;34m,\u001b[0m\u001b[0;34m\u001b[0m\u001b[0;34m\u001b[0m\u001b[0m\n\u001b[0;32m-> 4374\u001b[0;31m                                              copy=copy, allow_dups=False)\n\u001b[0m\u001b[1;32m   4375\u001b[0m \u001b[0;34m\u001b[0m\u001b[0m\n\u001b[1;32m   4376\u001b[0m         \u001b[0;32mreturn\u001b[0m \u001b[0mobj\u001b[0m\u001b[0;34m\u001b[0m\u001b[0;34m\u001b[0m\u001b[0m\n",
      "\u001b[0;32m~/.conda/envs/geog/lib/python3.7/site-packages/pandas/core/generic.py\u001b[0m in \u001b[0;36m_reindex_with_indexers\u001b[0;34m(self, reindexers, fill_value, copy, allow_dups)\u001b[0m\n\u001b[1;32m   4488\u001b[0m                                                 \u001b[0mfill_value\u001b[0m\u001b[0;34m=\u001b[0m\u001b[0mfill_value\u001b[0m\u001b[0;34m,\u001b[0m\u001b[0;34m\u001b[0m\u001b[0;34m\u001b[0m\u001b[0m\n\u001b[1;32m   4489\u001b[0m                                                 \u001b[0mallow_dups\u001b[0m\u001b[0;34m=\u001b[0m\u001b[0mallow_dups\u001b[0m\u001b[0;34m,\u001b[0m\u001b[0;34m\u001b[0m\u001b[0;34m\u001b[0m\u001b[0m\n\u001b[0;32m-> 4490\u001b[0;31m                                                 copy=copy)\n\u001b[0m\u001b[1;32m   4491\u001b[0m \u001b[0;34m\u001b[0m\u001b[0m\n\u001b[1;32m   4492\u001b[0m         \u001b[0;32mif\u001b[0m \u001b[0mcopy\u001b[0m \u001b[0;32mand\u001b[0m \u001b[0mnew_data\u001b[0m \u001b[0;32mis\u001b[0m \u001b[0mself\u001b[0m\u001b[0;34m.\u001b[0m\u001b[0m_data\u001b[0m\u001b[0;34m:\u001b[0m\u001b[0;34m\u001b[0m\u001b[0;34m\u001b[0m\u001b[0m\n",
      "\u001b[0;32m~/.conda/envs/geog/lib/python3.7/site-packages/pandas/core/internals/managers.py\u001b[0m in \u001b[0;36mreindex_indexer\u001b[0;34m(self, new_axis, indexer, axis, fill_value, allow_dups, copy)\u001b[0m\n\u001b[1;32m   1222\u001b[0m         \u001b[0;31m# some axes don't allow reindexing with dups\u001b[0m\u001b[0;34m\u001b[0m\u001b[0;34m\u001b[0m\u001b[0;34m\u001b[0m\u001b[0m\n\u001b[1;32m   1223\u001b[0m         \u001b[0;32mif\u001b[0m \u001b[0;32mnot\u001b[0m \u001b[0mallow_dups\u001b[0m\u001b[0;34m:\u001b[0m\u001b[0;34m\u001b[0m\u001b[0;34m\u001b[0m\u001b[0m\n\u001b[0;32m-> 1224\u001b[0;31m             \u001b[0mself\u001b[0m\u001b[0;34m.\u001b[0m\u001b[0maxes\u001b[0m\u001b[0;34m[\u001b[0m\u001b[0maxis\u001b[0m\u001b[0;34m]\u001b[0m\u001b[0;34m.\u001b[0m\u001b[0m_can_reindex\u001b[0m\u001b[0;34m(\u001b[0m\u001b[0mindexer\u001b[0m\u001b[0;34m)\u001b[0m\u001b[0;34m\u001b[0m\u001b[0;34m\u001b[0m\u001b[0m\n\u001b[0m\u001b[1;32m   1225\u001b[0m \u001b[0;34m\u001b[0m\u001b[0m\n\u001b[1;32m   1226\u001b[0m         \u001b[0;32mif\u001b[0m \u001b[0maxis\u001b[0m \u001b[0;34m>=\u001b[0m \u001b[0mself\u001b[0m\u001b[0;34m.\u001b[0m\u001b[0mndim\u001b[0m\u001b[0;34m:\u001b[0m\u001b[0;34m\u001b[0m\u001b[0;34m\u001b[0m\u001b[0m\n",
      "\u001b[0;32m~/.conda/envs/geog/lib/python3.7/site-packages/pandas/core/indexes/base.py\u001b[0m in \u001b[0;36m_can_reindex\u001b[0;34m(self, indexer)\u001b[0m\n\u001b[1;32m   3085\u001b[0m         \u001b[0;31m# trying to reindex on an axis with duplicates\u001b[0m\u001b[0;34m\u001b[0m\u001b[0;34m\u001b[0m\u001b[0;34m\u001b[0m\u001b[0m\n\u001b[1;32m   3086\u001b[0m         \u001b[0;32mif\u001b[0m \u001b[0;32mnot\u001b[0m \u001b[0mself\u001b[0m\u001b[0;34m.\u001b[0m\u001b[0mis_unique\u001b[0m \u001b[0;32mand\u001b[0m \u001b[0mlen\u001b[0m\u001b[0;34m(\u001b[0m\u001b[0mindexer\u001b[0m\u001b[0;34m)\u001b[0m\u001b[0;34m:\u001b[0m\u001b[0;34m\u001b[0m\u001b[0;34m\u001b[0m\u001b[0m\n\u001b[0;32m-> 3087\u001b[0;31m             \u001b[0;32mraise\u001b[0m \u001b[0mValueError\u001b[0m\u001b[0;34m(\u001b[0m\u001b[0;34m\"cannot reindex from a duplicate axis\"\u001b[0m\u001b[0;34m)\u001b[0m\u001b[0;34m\u001b[0m\u001b[0;34m\u001b[0m\u001b[0m\n\u001b[0m\u001b[1;32m   3088\u001b[0m \u001b[0;34m\u001b[0m\u001b[0m\n\u001b[1;32m   3089\u001b[0m     def reindex(self, target, method=None, level=None, limit=None,\n",
      "\u001b[0;31mValueError\u001b[0m: cannot reindex from a duplicate axis"
     ]
    }
   ],
   "source": [
    "if not os.path.exists(zonal_ntl_res):\n",
    "    all_res = {}\n",
    "    for vrt in viirs_vrts:\n",
    "        print(vrt)\n",
    "        yr = os.path.basename(vrt).split(\"_\")[0]\n",
    "        res = rMisc.zonalStats(port_file, vrt)\n",
    "        res = pd.DataFrame(res, columns=[\"YR_%s_%s\" % (yr, x) for x in ['SUM','MIN','MAX','MEAN']])\n",
    "        all_res[yr] = res"
   ]
  },
  {
   "cell_type": "code",
   "execution_count": 146,
   "metadata": {},
   "outputs": [],
   "source": [
    "try:\n",
    "    del final\n",
    "except: \n",
    "    pass\n",
    "\n",
    "for key, vals in all_res.items():\n",
    "    vals['IDX'] = inD['threshold']\n",
    "    xx = vals.iloc[:,[0,3]]\n",
    "    try:\n",
    "        final = final.join(xx)\n",
    "    except:\n",
    "        final = xx"
   ]
  },
  {
   "cell_type": "code",
   "execution_count": 147,
   "metadata": {},
   "outputs": [
    {
     "data": {
      "text/html": [
       "<div>\n",
       "<style scoped>\n",
       "    .dataframe tbody tr th:only-of-type {\n",
       "        vertical-align: middle;\n",
       "    }\n",
       "\n",
       "    .dataframe tbody tr th {\n",
       "        vertical-align: top;\n",
       "    }\n",
       "\n",
       "    .dataframe thead th {\n",
       "        text-align: right;\n",
       "    }\n",
       "</style>\n",
       "<table border=\"1\" class=\"dataframe\">\n",
       "  <thead>\n",
       "    <tr style=\"text-align: right;\">\n",
       "      <th></th>\n",
       "      <th>YR_2012_SUM</th>\n",
       "      <th>YR_2012_MEAN</th>\n",
       "      <th>YR_2013_SUM</th>\n",
       "      <th>YR_2013_MEAN</th>\n",
       "      <th>YR_2014_SUM</th>\n",
       "      <th>YR_2014_MEAN</th>\n",
       "      <th>YR_2015_SUM</th>\n",
       "      <th>YR_2015_MEAN</th>\n",
       "      <th>YR_2016_SUM</th>\n",
       "      <th>YR_2016_MEAN</th>\n",
       "      <th>YR_2017_SUM</th>\n",
       "      <th>YR_2017_MEAN</th>\n",
       "      <th>YR_2018_SUM</th>\n",
       "      <th>YR_2018_MEAN</th>\n",
       "      <th>YR_2019_SUM</th>\n",
       "      <th>YR_2019_MEAN</th>\n",
       "    </tr>\n",
       "  </thead>\n",
       "  <tbody>\n",
       "    <tr>\n",
       "      <th>0</th>\n",
       "      <td>4.541514e+05</td>\n",
       "      <td>0.715496</td>\n",
       "      <td>4.678778e+05</td>\n",
       "      <td>0.737122</td>\n",
       "      <td>4.773958e+05</td>\n",
       "      <td>0.752117</td>\n",
       "      <td>5.545904e+05</td>\n",
       "      <td>0.873734</td>\n",
       "      <td>4.863387e+05</td>\n",
       "      <td>0.766206</td>\n",
       "      <td>6.556635e+05</td>\n",
       "      <td>1.032970</td>\n",
       "      <td>6.983081e+05</td>\n",
       "      <td>1.100155</td>\n",
       "      <td>6.396908e+05</td>\n",
       "      <td>1.007806</td>\n",
       "    </tr>\n",
       "    <tr>\n",
       "      <th>1</th>\n",
       "      <td>1.366994e+06</td>\n",
       "      <td>0.454955</td>\n",
       "      <td>1.476960e+06</td>\n",
       "      <td>0.491553</td>\n",
       "      <td>1.566223e+06</td>\n",
       "      <td>0.521261</td>\n",
       "      <td>1.905424e+06</td>\n",
       "      <td>0.634152</td>\n",
       "      <td>1.750444e+06</td>\n",
       "      <td>0.582572</td>\n",
       "      <td>2.448358e+06</td>\n",
       "      <td>0.814848</td>\n",
       "      <td>2.662940e+06</td>\n",
       "      <td>0.886264</td>\n",
       "      <td>2.494774e+06</td>\n",
       "      <td>0.830296</td>\n",
       "    </tr>\n",
       "    <tr>\n",
       "      <th>2</th>\n",
       "      <td>5.782463e+06</td>\n",
       "      <td>0.409109</td>\n",
       "      <td>6.249375e+06</td>\n",
       "      <td>0.442143</td>\n",
       "      <td>6.432250e+06</td>\n",
       "      <td>0.455081</td>\n",
       "      <td>7.176234e+06</td>\n",
       "      <td>0.507718</td>\n",
       "      <td>6.865486e+06</td>\n",
       "      <td>0.485733</td>\n",
       "      <td>9.373895e+06</td>\n",
       "      <td>0.663203</td>\n",
       "      <td>9.829406e+06</td>\n",
       "      <td>0.695430</td>\n",
       "      <td>9.595340e+06</td>\n",
       "      <td>0.678870</td>\n",
       "    </tr>\n",
       "    <tr>\n",
       "      <th>3</th>\n",
       "      <td>1.606604e+07</td>\n",
       "      <td>0.303893</td>\n",
       "      <td>1.777559e+07</td>\n",
       "      <td>0.336230</td>\n",
       "      <td>1.798228e+07</td>\n",
       "      <td>0.340140</td>\n",
       "      <td>1.950244e+07</td>\n",
       "      <td>0.368894</td>\n",
       "      <td>1.908534e+07</td>\n",
       "      <td>0.361004</td>\n",
       "      <td>2.518827e+07</td>\n",
       "      <td>0.476443</td>\n",
       "      <td>2.675310e+07</td>\n",
       "      <td>0.506042</td>\n",
       "      <td>2.684634e+07</td>\n",
       "      <td>0.507806</td>\n",
       "    </tr>\n",
       "    <tr>\n",
       "      <th>4</th>\n",
       "      <td>5.116798e+05</td>\n",
       "      <td>0.520205</td>\n",
       "      <td>5.835504e+05</td>\n",
       "      <td>0.593273</td>\n",
       "      <td>6.136168e+05</td>\n",
       "      <td>0.623840</td>\n",
       "      <td>6.539396e+05</td>\n",
       "      <td>0.664835</td>\n",
       "      <td>6.668056e+05</td>\n",
       "      <td>0.677915</td>\n",
       "      <td>7.776806e+05</td>\n",
       "      <td>0.790638</td>\n",
       "      <td>8.496504e+05</td>\n",
       "      <td>0.863806</td>\n",
       "      <td>7.933468e+05</td>\n",
       "      <td>0.806565</td>\n",
       "    </tr>\n",
       "  </tbody>\n",
       "</table>\n",
       "</div>"
      ],
      "text/plain": [
       "    YR_2012_SUM  YR_2012_MEAN   YR_2013_SUM  YR_2013_MEAN   YR_2014_SUM  \\\n",
       "0  4.541514e+05      0.715496  4.678778e+05      0.737122  4.773958e+05   \n",
       "1  1.366994e+06      0.454955  1.476960e+06      0.491553  1.566223e+06   \n",
       "2  5.782463e+06      0.409109  6.249375e+06      0.442143  6.432250e+06   \n",
       "3  1.606604e+07      0.303893  1.777559e+07      0.336230  1.798228e+07   \n",
       "4  5.116798e+05      0.520205  5.835504e+05      0.593273  6.136168e+05   \n",
       "\n",
       "   YR_2014_MEAN   YR_2015_SUM  YR_2015_MEAN   YR_2016_SUM  YR_2016_MEAN  \\\n",
       "0      0.752117  5.545904e+05      0.873734  4.863387e+05      0.766206   \n",
       "1      0.521261  1.905424e+06      0.634152  1.750444e+06      0.582572   \n",
       "2      0.455081  7.176234e+06      0.507718  6.865486e+06      0.485733   \n",
       "3      0.340140  1.950244e+07      0.368894  1.908534e+07      0.361004   \n",
       "4      0.623840  6.539396e+05      0.664835  6.668056e+05      0.677915   \n",
       "\n",
       "    YR_2017_SUM  YR_2017_MEAN   YR_2018_SUM  YR_2018_MEAN   YR_2019_SUM  \\\n",
       "0  6.556635e+05      1.032970  6.983081e+05      1.100155  6.396908e+05   \n",
       "1  2.448358e+06      0.814848  2.662940e+06      0.886264  2.494774e+06   \n",
       "2  9.373895e+06      0.663203  9.829406e+06      0.695430  9.595340e+06   \n",
       "3  2.518827e+07      0.476443  2.675310e+07      0.506042  2.684634e+07   \n",
       "4  7.776806e+05      0.790638  8.496504e+05      0.863806  7.933468e+05   \n",
       "\n",
       "   YR_2019_MEAN  \n",
       "0      1.007806  \n",
       "1      0.830296  \n",
       "2      0.678870  \n",
       "3      0.507806  \n",
       "4      0.806565  "
      ]
     },
     "execution_count": 147,
     "metadata": {},
     "output_type": "execute_result"
    }
   ],
   "source": [
    "final.head()"
   ]
  },
  {
   "cell_type": "code",
   "execution_count": 148,
   "metadata": {},
   "outputs": [],
   "source": [
    "final['threshold'] = inD['threshold']\n",
    "final['IDX'] = inD['IDX']\n",
    "final.to_csv(zonal_ntl_res)"
   ]
  },
  {
   "cell_type": "markdown",
   "metadata": {},
   "source": [
    "# Zonal stats on Pop"
   ]
  },
  {
   "cell_type": "code",
   "execution_count": null,
   "metadata": {},
   "outputs": [],
   "source": [
    "pop_file = \"/home/public/Data/GLOBAL/Population/WorldPop_PPP_2020/ppp_2020_1km_Aggregated.tif\"\n",
    "res = rMisc.zonalStats(inD, pop_file, minVal=0)\n",
    "res = pd.DataFrame(res, columns=['pop_SUM', 'pop_MIN', 'pop_MAX', 'pop_MEAN'])"
   ]
  },
  {
   "cell_type": "code",
   "execution_count": null,
   "metadata": {},
   "outputs": [],
   "source": [
    "res['threshold'] = inD['threshold']\n",
    "res['IDX'] = inD['IDX']"
   ]
  },
  {
   "cell_type": "markdown",
   "metadata": {},
   "source": [
    "# Calculate area"
   ]
  },
  {
   "cell_type": "code",
   "execution_count": null,
   "metadata": {},
   "outputs": [],
   "source": [
    "marketsheds = gpd.read_file(port_file)\n",
    "marketsheds = marketsheds.to_crs({'init':'epsg:6933'})\n",
    "\n",
    "marketsheds['AREA_km'] = marketsheds['geometry'].apply(lambda x: x.area/1000000)"
   ]
  },
  {
   "cell_type": "code",
   "execution_count": null,
   "metadata": {},
   "outputs": [],
   "source": [
    "res['AREA_km'] = marketsheds['AREA_km']\n",
    "res.to_csv(zonal_pop_area_res)"
   ]
  },
  {
   "cell_type": "markdown",
   "metadata": {},
   "source": [
    "# Combine Results"
   ]
  },
  {
   "cell_type": "code",
   "execution_count": null,
   "metadata": {},
   "outputs": [],
   "source": [
    "inP = gpd.read_file(port_file)\n"
   ]
  },
  {
   "cell_type": "code",
   "execution_count": null,
   "metadata": {},
   "outputs": [],
   "source": [
    "final['THRESH'] = inP['threshold']\n",
    "final['PORT'] = inP['PORT']\n",
    "final['WP_2020_SUM'] = res['pop_SUM']\n",
    "final['AREA'] = marketsheds['AREA']"
   ]
  },
  {
   "cell_type": "code",
   "execution_count": null,
   "metadata": {
    "scrolled": true
   },
   "outputs": [],
   "source": [
    "final.to_csv(\"/home/wb411133/temp/SouthAsia_Port_Results.csv\")"
   ]
  }
 ],
 "metadata": {
  "kernelspec": {
   "display_name": "Python (geog)",
   "language": "python",
   "name": "geog"
  },
  "language_info": {
   "codemirror_mode": {
    "name": "ipython",
    "version": 3
   },
   "file_extension": ".py",
   "mimetype": "text/x-python",
   "name": "python",
   "nbconvert_exporter": "python",
   "pygments_lexer": "ipython3",
   "version": "3.7.1"
  }
 },
 "nbformat": 4,
 "nbformat_minor": 2
}
